{
 "cells": [
  {
   "cell_type": "code",
   "execution_count": 1,
   "metadata": {},
   "outputs": [
    {
     "data": {
      "text/plain": [
       "'/Users/chririn/Documents/Code/2D_analysis'"
      ]
     },
     "execution_count": 1,
     "metadata": {},
     "output_type": "execute_result"
    }
   ],
   "source": [
    "import pandas as pd \n",
    "import numpy as np\n",
    "\n",
    "import math, os\n",
    "\n",
    "pd.set_option('display.max_columns', 50)\n",
    "#matplotlib inline\n",
    "os.getcwd()"
   ]
  },
  {
   "cell_type": "code",
   "execution_count": 2,
   "metadata": {},
   "outputs": [],
   "source": [
    "BaseDir = \"results\"\n",
    "df = pd.read_csv('{}/colo44_cleaned_data.csv'.format(BaseDir), sep=';' , index_col=0)"
   ]
  },
  {
   "cell_type": "code",
   "execution_count": 9,
   "metadata": {},
   "outputs": [],
   "source": [
    "listOfPlates = df['barcode'].unique()\n",
    "OnePlate = listOfPlates[0]"
   ]
  },
  {
   "cell_type": "code",
   "execution_count": 20,
   "metadata": {},
   "outputs": [],
   "source": [
    "dfDMSO = df.loc[(df['compound'] == '[dmso]'), ['well_id', 'compound', 'barcode']]\n"
   ]
  },
  {
   "cell_type": "code",
   "execution_count": 23,
   "metadata": {},
   "outputs": [
    {
     "name": "stdout",
     "output_type": "stream",
     "text": [
      "colo44-v1-FA-P017365-CACO2-48h-P1-L1\n",
      "B05_,B23_,C07_,C13_,D15_,E08_,F14_,F20_,G03_,G09_,H06_,H17_,I02_,I12_,J10_,J18_,K22_,L09_,M19_,M23_,N04_,N21_,O11_,O16\n"
     ]
    }
   ],
   "source": [
    "plate = 1 \n",
    "\n",
    "OnePlate = listOfPlates[plate - 1]\n",
    "OnePlateDMSO = dfDMSO[dfDMSO['barcode'] == OnePlate]\n",
    "ListOfWells = OnePlateDMSO['well_id'].unique()\n",
    "export = '_,'.join(ListOfWells)\n",
    "print(OnePlate)\n",
    "print(export)\n",
    "\n"
   ]
  }
 ],
 "metadata": {
  "kernelspec": {
   "display_name": "Python 3.8.13 ('base')",
   "language": "python",
   "name": "python3"
  },
  "language_info": {
   "codemirror_mode": {
    "name": "ipython",
    "version": 3
   },
   "file_extension": ".py",
   "mimetype": "text/x-python",
   "name": "python",
   "nbconvert_exporter": "python",
   "pygments_lexer": "ipython3",
   "version": "3.8.13"
  },
  "orig_nbformat": 4,
  "vscode": {
   "interpreter": {
    "hash": "ca771c708675e285589a868532788645e17ab6e57445e5f70eb941d5377cba2b"
   }
  }
 },
 "nbformat": 4,
 "nbformat_minor": 2
}
