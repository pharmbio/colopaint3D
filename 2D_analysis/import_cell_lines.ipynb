{
 "cells": [
  {
   "cell_type": "markdown",
   "metadata": {},
   "source": [
    "## Collecting cell line data"
   ]
  },
  {
   "cell_type": "code",
   "execution_count": 1,
   "metadata": {},
   "outputs": [],
   "source": [
    "import pandas as pd"
   ]
  },
  {
   "cell_type": "code",
   "execution_count": 2,
   "metadata": {},
   "outputs": [],
   "source": [
    "cell_lines = ['HT-29', 'HCT-116', 'HCT-15', 'SW620', 'DLD-1','COLO-205', 'Caco-2']"
   ]
  },
  {
   "cell_type": "code",
   "execution_count": 5,
   "metadata": {},
   "outputs": [],
   "source": [
    "# Input from cell model passport\n",
    "CMP = pd.read_csv(\"/Users/chririn/Documents/Data/celldata/model_list_20220810.csv\", sep=\",\", index_col=0) \n"
   ]
  },
  {
   "cell_type": "code",
   "execution_count": 6,
   "metadata": {},
   "outputs": [],
   "source": [
    "CMP_subset = CMP[CMP['model_name'].isin(cell_lines)]"
   ]
  },
  {
   "cell_type": "code",
   "execution_count": 7,
   "metadata": {},
   "outputs": [],
   "source": [
    "# If all columns NaN, then drop. \n",
    "listofNaN = CMP_subset.isnull().apply(lambda x: all(x), axis=0)\n",
    "col_to_drop = list(listofNaN.index[list(listofNaN)])\n",
    "CMP_subset = CMP_subset.drop(col_to_drop, axis=1)"
   ]
  },
  {
   "cell_type": "code",
   "execution_count": 9,
   "metadata": {},
   "outputs": [],
   "source": [
    "more_to_drop = ['synonyms', 'sampling_day', 'sampling_month', 'pmed', 'smoking_status', 'crispr_ko_data']\n",
    "CMP_subset = CMP_subset.drop(more_to_drop, axis=1)"
   ]
  },
  {
   "cell_type": "code",
   "execution_count": 10,
   "metadata": {},
   "outputs": [],
   "source": [
    "CMP_subset.to_csv(\"/Users/chririn/Documents/Data/celldata/model_metadata.csv\", sep=\",\")"
   ]
  }
 ],
 "metadata": {
  "kernelspec": {
   "display_name": "Python 3.8.13 ('base')",
   "language": "python",
   "name": "python3"
  },
  "language_info": {
   "codemirror_mode": {
    "name": "ipython",
    "version": 3
   },
   "file_extension": ".py",
   "mimetype": "text/x-python",
   "name": "python",
   "nbconvert_exporter": "python",
   "pygments_lexer": "ipython3",
   "version": "3.8.13"
  },
  "orig_nbformat": 4,
  "vscode": {
   "interpreter": {
    "hash": "ca771c708675e285589a868532788645e17ab6e57445e5f70eb941d5377cba2b"
   }
  }
 },
 "nbformat": 4,
 "nbformat_minor": 2
}
