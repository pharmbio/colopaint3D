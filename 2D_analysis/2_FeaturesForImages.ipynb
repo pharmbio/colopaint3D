{
 "cells": [
  {
   "cell_type": "code",
   "execution_count": 1,
   "metadata": {},
   "outputs": [
    {
     "data": {
      "text/plain": [
       "'/Users/chririn/Documents/Code/2D_analysis'"
      ]
     },
     "execution_count": 1,
     "metadata": {},
     "output_type": "execute_result"
    }
   ],
   "source": [
    "import os\n",
    "import pandas as pd \n",
    "import numpy as np\n",
    "from sklearn.decomposition import PCA\n",
    "from sklearn.cross_decomposition import PLSCanonical, PLSRegression, CCA\n",
    "from sklearn.preprocessing import StandardScaler\n",
    "from sklearn.model_selection import cross_validate, cross_val_score\n",
    "import matplotlib  as mpl\n",
    "import matplotlib.pyplot as plt\n",
    "plt.rcParams.update({'figure.max_open_warning': 0})\n",
    "from matplotlib.patches import Ellipse\n",
    "import matplotlib.transforms as transforms\n",
    "%matplotlib inline\n",
    "import os, shutil, glob\n",
    "from PIL import Image\n",
    "from itertools import cycle\n",
    "from random import randint\n",
    "import re, math\n",
    "import seaborn as sns; sns.set_style(\"white\")\n",
    "from sklearn.manifold import TSNE\n",
    "import umap.umap_ as umap\n",
    "import datetime\n",
    "import gc\n",
    "from pathlib import Path\n",
    "\n",
    "os.getcwd()"
   ]
  },
  {
   "cell_type": "markdown",
   "metadata": {},
   "source": [
    "### Read data"
   ]
  },
  {
   "cell_type": "code",
   "execution_count": 2,
   "metadata": {},
   "outputs": [],
   "source": [
    "BaseDir = '/Volumes/data/cellprofiler/automation/results/'\n",
    "# sorted(os.listdir(BaseDir))"
   ]
  },
  {
   "cell_type": "markdown",
   "metadata": {},
   "source": [
    "### Input directories"
   ]
  },
  {
   "cell_type": "code",
   "execution_count": 3,
   "metadata": {},
   "outputs": [
    {
     "name": "stdout",
     "output_type": "stream",
     "text": [
      "InputFolders: ['colo44-v1-FA-P017365-CACO2-48h-P1-L1', 'colo44-v1-FA-P017366-CACO2-48h-P1-L2', 'colo44-v1-FA-P017367-CACO2-48h-P2-L1', 'colo44-v1-FA-P017368-CACO2-48h-P2-L2']\n"
     ]
    }
   ],
   "source": [
    "InputFolders = []\n",
    "NameContains = input(\"Enter part of name(s) of the folders: \") # e.g.: TX-.*GR-v2\n",
    "for f in (f for f in os.listdir(BaseDir) if re.match(NameContains, f)):\n",
    "    InputFolders.append(f)\n",
    "InputFolders.sort()\n",
    "print ('InputFolders: ' + str(InputFolders))"
   ]
  },
  {
   "cell_type": "markdown",
   "metadata": {},
   "source": [
    "### Output directory"
   ]
  },
  {
   "cell_type": "code",
   "execution_count": 5,
   "metadata": {},
   "outputs": [],
   "source": [
    "OutputDir = input(\"Enter name for output folder: \") # e.g.: ImageMeanFeatures\n",
    "if not os.path.exists(OutputDir): \n",
    "    os.makedirs(OutputDir)"
   ]
  },
  {
   "cell_type": "code",
   "execution_count": 6,
   "metadata": {},
   "outputs": [
    {
     "name": "stdout",
     "output_type": "stream",
     "text": [
      "Current date and time : \n",
      "2022-08-05 14:29:44\n"
     ]
    }
   ],
   "source": [
    "now = datetime.datetime.now()\n",
    "print ('Current date and time : ')\n",
    "print (now.strftime('%Y-%m-%d %H:%M:%S'))"
   ]
  },
  {
   "cell_type": "code",
   "execution_count": 7,
   "metadata": {},
   "outputs": [
    {
     "name": "stdout",
     "output_type": "stream",
     "text": [
      "/Volumes/data/cellprofiler/automation/results/colo44-v1-FA-P017365-CACO2-48h-P1-L1/1610/1220/featICF_nuclei.csv\n",
      "(655701, 753)\n"
     ]
    },
    {
     "name": "stderr",
     "output_type": "stream",
     "text": [
      "/var/folders/bx/43bwk4n57dj9446w1ddn_7t40000gn/T/ipykernel_55611/1449633837.py:21: FutureWarning: The frame.append method is deprecated and will be removed from pandas in a future version. Use pandas.concat instead.\n",
      "  DataFromFolder = DataFromFolder.append(DataFromOneFile.iloc[:,:], ignore_index=True)\n"
     ]
    },
    {
     "name": "stdout",
     "output_type": "stream",
     "text": [
      "(655701, 753)\n",
      "Found 1 files\n",
      "Dataframe contains 753 columns and 655701 rows.\n",
      "/Volumes/data/cellprofiler/automation/results/colo44-v1-FA-P017365-CACO2-48h-P1-L1/1610/1220/featICF_cells.csv\n"
     ]
    },
    {
     "name": "stderr",
     "output_type": "stream",
     "text": [
      "/var/folders/bx/43bwk4n57dj9446w1ddn_7t40000gn/T/ipykernel_55611/1449633837.py:24: FutureWarning: The frame.append method is deprecated and will be removed from pandas in a future version. Use pandas.concat instead.\n",
      "  DataFrameDictionary[obj] = DataFrameDictionary[obj].append(DataFromFolder.iloc[:,:], ignore_index=True)\n"
     ]
    },
    {
     "ename": "TimeoutError",
     "evalue": "[Errno 60] Operation timed out",
     "output_type": "error",
     "traceback": [
      "\u001b[0;31m---------------------------------------------------------------------------\u001b[0m",
      "\u001b[0;31mTimeoutError\u001b[0m                              Traceback (most recent call last)",
      "\u001b[1;32m/Users/chririn/Documents/Code/2D_analysis/2_FeaturesForImages.ipynb Cell 9\u001b[0m in \u001b[0;36m<cell line: 3>\u001b[0;34m()\u001b[0m\n\u001b[1;32m     <a href='vscode-notebook-cell:/Users/chririn/Documents/Code/2D_analysis/2_FeaturesForImages.ipynb#ch0000008?line=15'>16</a>\u001b[0m \u001b[39mfor\u001b[39;00m file \u001b[39min\u001b[39;00m feature_files[\u001b[39m-\u001b[39m\u001b[39m1\u001b[39m:]:\n\u001b[1;32m     <a href='vscode-notebook-cell:/Users/chririn/Documents/Code/2D_analysis/2_FeaturesForImages.ipynb#ch0000008?line=16'>17</a>\u001b[0m     \u001b[39mprint\u001b[39m(file)\n\u001b[0;32m---> <a href='vscode-notebook-cell:/Users/chririn/Documents/Code/2D_analysis/2_FeaturesForImages.ipynb#ch0000008?line=17'>18</a>\u001b[0m     DataFromOneFile \u001b[39m=\u001b[39m  pd\u001b[39m.\u001b[39;49mread_csv(file, sep\u001b[39m=\u001b[39;49m\u001b[39m\"\u001b[39;49m\u001b[39m,\u001b[39;49m\u001b[39m\"\u001b[39;49m, low_memory\u001b[39m=\u001b[39;49m\u001b[39mFalse\u001b[39;49;00m)\n\u001b[1;32m     <a href='vscode-notebook-cell:/Users/chririn/Documents/Code/2D_analysis/2_FeaturesForImages.ipynb#ch0000008?line=18'>19</a>\u001b[0m     \u001b[39mprint\u001b[39m(DataFromOneFile\u001b[39m.\u001b[39mshape)\n\u001b[1;32m     <a href='vscode-notebook-cell:/Users/chririn/Documents/Code/2D_analysis/2_FeaturesForImages.ipynb#ch0000008?line=19'>20</a>\u001b[0m     ReadingFile \u001b[39m+\u001b[39m\u001b[39m=\u001b[39m \u001b[39m1\u001b[39m    \n",
      "File \u001b[0;32m~/opt/anaconda3/lib/python3.8/site-packages/pandas/util/_decorators.py:311\u001b[0m, in \u001b[0;36mdeprecate_nonkeyword_arguments.<locals>.decorate.<locals>.wrapper\u001b[0;34m(*args, **kwargs)\u001b[0m\n\u001b[1;32m    305\u001b[0m \u001b[39mif\u001b[39;00m \u001b[39mlen\u001b[39m(args) \u001b[39m>\u001b[39m num_allow_args:\n\u001b[1;32m    306\u001b[0m     warnings\u001b[39m.\u001b[39mwarn(\n\u001b[1;32m    307\u001b[0m         msg\u001b[39m.\u001b[39mformat(arguments\u001b[39m=\u001b[39marguments),\n\u001b[1;32m    308\u001b[0m         \u001b[39mFutureWarning\u001b[39;00m,\n\u001b[1;32m    309\u001b[0m         stacklevel\u001b[39m=\u001b[39mstacklevel,\n\u001b[1;32m    310\u001b[0m     )\n\u001b[0;32m--> 311\u001b[0m \u001b[39mreturn\u001b[39;00m func(\u001b[39m*\u001b[39;49margs, \u001b[39m*\u001b[39;49m\u001b[39m*\u001b[39;49mkwargs)\n",
      "File \u001b[0;32m~/opt/anaconda3/lib/python3.8/site-packages/pandas/io/parsers/readers.py:680\u001b[0m, in \u001b[0;36mread_csv\u001b[0;34m(filepath_or_buffer, sep, delimiter, header, names, index_col, usecols, squeeze, prefix, mangle_dupe_cols, dtype, engine, converters, true_values, false_values, skipinitialspace, skiprows, skipfooter, nrows, na_values, keep_default_na, na_filter, verbose, skip_blank_lines, parse_dates, infer_datetime_format, keep_date_col, date_parser, dayfirst, cache_dates, iterator, chunksize, compression, thousands, decimal, lineterminator, quotechar, quoting, doublequote, escapechar, comment, encoding, encoding_errors, dialect, error_bad_lines, warn_bad_lines, on_bad_lines, delim_whitespace, low_memory, memory_map, float_precision, storage_options)\u001b[0m\n\u001b[1;32m    665\u001b[0m kwds_defaults \u001b[39m=\u001b[39m _refine_defaults_read(\n\u001b[1;32m    666\u001b[0m     dialect,\n\u001b[1;32m    667\u001b[0m     delimiter,\n\u001b[0;32m   (...)\u001b[0m\n\u001b[1;32m    676\u001b[0m     defaults\u001b[39m=\u001b[39m{\u001b[39m\"\u001b[39m\u001b[39mdelimiter\u001b[39m\u001b[39m\"\u001b[39m: \u001b[39m\"\u001b[39m\u001b[39m,\u001b[39m\u001b[39m\"\u001b[39m},\n\u001b[1;32m    677\u001b[0m )\n\u001b[1;32m    678\u001b[0m kwds\u001b[39m.\u001b[39mupdate(kwds_defaults)\n\u001b[0;32m--> 680\u001b[0m \u001b[39mreturn\u001b[39;00m _read(filepath_or_buffer, kwds)\n",
      "File \u001b[0;32m~/opt/anaconda3/lib/python3.8/site-packages/pandas/io/parsers/readers.py:581\u001b[0m, in \u001b[0;36m_read\u001b[0;34m(filepath_or_buffer, kwds)\u001b[0m\n\u001b[1;32m    578\u001b[0m     \u001b[39mreturn\u001b[39;00m parser\n\u001b[1;32m    580\u001b[0m \u001b[39mwith\u001b[39;00m parser:\n\u001b[0;32m--> 581\u001b[0m     \u001b[39mreturn\u001b[39;00m parser\u001b[39m.\u001b[39mread(nrows)\n",
      "File \u001b[0;32m~/opt/anaconda3/lib/python3.8/site-packages/pandas/io/parsers/readers.py:1291\u001b[0m, in \u001b[0;36mTextFileReader.__exit__\u001b[0;34m(self, exc_type, exc_value, traceback)\u001b[0m\n\u001b[1;32m   1290\u001b[0m \u001b[39mdef\u001b[39;00m \u001b[39m__exit__\u001b[39m(\u001b[39mself\u001b[39m, exc_type, exc_value, traceback):\n\u001b[0;32m-> 1291\u001b[0m     \u001b[39mself\u001b[39;49m\u001b[39m.\u001b[39;49mclose()\n",
      "File \u001b[0;32m~/opt/anaconda3/lib/python3.8/site-packages/pandas/io/parsers/readers.py:938\u001b[0m, in \u001b[0;36mTextFileReader.close\u001b[0;34m(self)\u001b[0m\n\u001b[1;32m    936\u001b[0m \u001b[39mdef\u001b[39;00m \u001b[39mclose\u001b[39m(\u001b[39mself\u001b[39m):\n\u001b[1;32m    937\u001b[0m     \u001b[39mif\u001b[39;00m \u001b[39mself\u001b[39m\u001b[39m.\u001b[39mhandles \u001b[39mis\u001b[39;00m \u001b[39mnot\u001b[39;00m \u001b[39mNone\u001b[39;00m:\n\u001b[0;32m--> 938\u001b[0m         \u001b[39mself\u001b[39;49m\u001b[39m.\u001b[39;49mhandles\u001b[39m.\u001b[39;49mclose()\n\u001b[1;32m    939\u001b[0m     \u001b[39mself\u001b[39m\u001b[39m.\u001b[39m_engine\u001b[39m.\u001b[39mclose()\n",
      "File \u001b[0;32m~/opt/anaconda3/lib/python3.8/site-packages/pandas/io/common.py:116\u001b[0m, in \u001b[0;36mIOHandles.close\u001b[0;34m(self)\u001b[0m\n\u001b[1;32m    114\u001b[0m     \u001b[39mself\u001b[39m\u001b[39m.\u001b[39mcreated_handles\u001b[39m.\u001b[39mremove(\u001b[39mself\u001b[39m\u001b[39m.\u001b[39mhandle)\n\u001b[1;32m    115\u001b[0m \u001b[39mfor\u001b[39;00m handle \u001b[39min\u001b[39;00m \u001b[39mself\u001b[39m\u001b[39m.\u001b[39mcreated_handles:\n\u001b[0;32m--> 116\u001b[0m     handle\u001b[39m.\u001b[39;49mclose()\n\u001b[1;32m    117\u001b[0m \u001b[39mself\u001b[39m\u001b[39m.\u001b[39mcreated_handles \u001b[39m=\u001b[39m []\n\u001b[1;32m    118\u001b[0m \u001b[39mself\u001b[39m\u001b[39m.\u001b[39mis_wrapped \u001b[39m=\u001b[39m \u001b[39mFalse\u001b[39;00m\n",
      "\u001b[0;31mTimeoutError\u001b[0m: [Errno 60] Operation timed out"
     ]
    }
   ],
   "source": [
    "groupedbyImageAllPlates = pd.DataFrame()\n",
    "\n",
    "for oneplate in InputFolders[:]:\n",
    "\n",
    "        DataFrameDictionary = {}\n",
    "        ObjectList = ['featICF_nuclei', 'featICF_cells', 'featICF_cytoplasm']\n",
    "        for obj in ObjectList:\n",
    "            DataFrameDictionary[obj] = pd.DataFrame()\n",
    "            ReadingFile = 0\n",
    "            #for InpF in InputFolders:\n",
    "            DataFromFolder =  pd.DataFrame()\n",
    "            feature_files = glob.glob(BaseDir + '/*' + oneplate + '*/*/*/' + obj + '.csv', recursive=True)\n",
    "          \n",
    "            \n",
    "            \n",
    "            for file in feature_files[-1:]:\n",
    "                print(file)\n",
    "                DataFromOneFile =  pd.read_csv(file, sep=\",\", low_memory=False)\n",
    "                print(DataFromOneFile.shape)\n",
    "                ReadingFile += 1    \n",
    "                DataFromFolder = DataFromFolder.append(DataFromOneFile.iloc[:,:], ignore_index=True)\n",
    "                print(DataFromFolder.shape)\n",
    "\n",
    "                DataFrameDictionary[obj] = DataFrameDictionary[obj].append(DataFromFolder.iloc[:,:], ignore_index=True)\n",
    "            DataFrameDictionary[obj].columns = [str(col) + '_' + re.sub('_.*', '', re.sub('featICF_', '', obj)) for col in DataFrameDictionary[obj]]\n",
    "            print('Found %s files' %(ReadingFile))\n",
    "            print ('Dataframe contains {} columns and {} rows.'.format(DataFrameDictionary[obj].shape[1],\n",
    "                                                                  DataFrameDictionary[obj].shape[0]))\n",
    "\n",
    "        df = DataFrameDictionary['featICF_nuclei'].merge(DataFrameDictionary['featICF_cells'], left_on = [ 'Metadata_Barcode_nuclei',\n",
    "        'Metadata_Site_nuclei', 'Metadata_Well_nuclei','Parent_cells_nuclei'],\n",
    "                           right_on = [ 'Metadata_Barcode_cells',\n",
    "        'Metadata_Site_cells', 'Metadata_Well_cells','ObjectNumber_cells'], how='left')\n",
    "        print(df.shape)\n",
    "\n",
    "        df = df.merge(DataFrameDictionary['featICF_cytoplasm'], left_on = [ 'Metadata_Barcode_nuclei',\n",
    "        'Metadata_Site_nuclei', 'Metadata_Well_nuclei','Parent_cells_nuclei'],\n",
    "                           right_on = [ 'Metadata_Barcode_cytoplasm',\n",
    "        'Metadata_Site_cytoplasm', 'Metadata_Well_cytoplasm','ObjectNumber_cytoplasm'], how='left')\n",
    "        print(df.shape)\n",
    "        df.dropna(inplace=True)\n",
    "        df.reset_index(drop=True, inplace=True)\n",
    "        print(df.shape)\n",
    "        print('Input: {}'.format(NameContains))\n",
    "        print('Output: {}'.format(OutputDir))\n",
    "        print('Dataset shape: {}'.format(df.shape))\n",
    "        \n",
    "        del DataFrameDictionary\n",
    "        gc.collect()\n",
    "        \n",
    "        NrOfObjects = df.shape[0]\n",
    "\n",
    "        Wells = sorted(list(set(df['Metadata_Well_nuclei'])))\n",
    "        NrOfWells = len(Wells)\n",
    "        Rows = sorted(list(set([w[0] for w in Wells])))\n",
    "        print(*Rows)\n",
    "        NrOfRows = len(Rows)\n",
    "        Columns = sorted(list(set([w[1:] for w in Wells])))\n",
    "        NrOfColumns = len(Columns)\n",
    "        print(*Columns)\n",
    "        Sites = sorted(list(set(df['Metadata_Site_nuclei'])))\n",
    "        NrOfSites = len(Sites)\n",
    "        # print('Plate complete: {}'.format(NrOfRows*NrOfColumns==NrOfWells))\n",
    "        print('Number of sites: {}'.format(NrOfSites))\n",
    "        AllWells =[]\n",
    "        for R in Rows:\n",
    "            for C in Columns:\n",
    "                RC = R + C\n",
    "                # print(RC)\n",
    "                AllWells += [RC]\n",
    "        # print(len(AllWells))\n",
    "        print('Number of wells: {} (full plate is {})'.format(NrOfWells, len(AllWells)))\n",
    "        \n",
    "        df['ImageID'] =  df['Metadata_Barcode_nuclei'] + '_' + df['Metadata_Well_nuclei'] + '_' + df['Metadata_Site_nuclei'].astype(str)\n",
    "\n",
    "        numeric_columns = list()\n",
    "        for a in df.columns:\n",
    "            if (df.dtypes[a] == 'float64') | (df.dtypes[a] == 'int64') :\n",
    "                numeric_columns.append(a)\n",
    "        print('Found {} numeric columns'.format(len(numeric_columns)))\n",
    "\n",
    "        dictOfnumeric = { i : np.nanmedian for i in numeric_columns}\n",
    "\n",
    "        groupedbyImage = df.groupby('ImageID').agg(dictOfnumeric)\n",
    "        groupedbyImage.to_csv('{}/ImageMediansPlate{}.csv'.format(OutputDir, oneplate), sep=';')\n",
    "        frames = [groupedbyImageAllPlates, groupedbyImage]\n",
    "        groupedbyImageAllPlates = pd.concat(frames)\n",
    "        print('XXXXXXXXXXXXXXXXXXXXXXXXXXXXXXXXXXXXXXX')\n",
    "        print('Now the shape of image dataset is: {}'.format(groupedbyImageAllPlates.shape))\n",
    "        print('XXXXXXXXXXXXXXXXXXXXXXXXXXXXXXXXXXXXXXX')\n",
    "        del df\n",
    "        del groupedbyImage\n",
    "        gc.collect()\n",
    "        \n",
    "groupedbyImageAllPlates.to_csv('{}/ImageMediansAllPlates.csv'.format(OutputDir), sep=';')"
   ]
  },
  {
   "cell_type": "code",
   "execution_count": null,
   "metadata": {},
   "outputs": [],
   "source": [
    "now = datetime.datetime.now()\n",
    "print ('Current date and time : ')\n",
    "print (now.strftime('%Y-%m-%d %H:%M:%S'))"
   ]
  },
  {
   "cell_type": "code",
   "execution_count": null,
   "metadata": {},
   "outputs": [],
   "source": []
  }
 ],
 "metadata": {
  "kernelspec": {
   "display_name": "Python 3.8.5 ('base')",
   "language": "python",
   "name": "python3"
  },
  "language_info": {
   "codemirror_mode": {
    "name": "ipython",
    "version": 3
   },
   "file_extension": ".py",
   "mimetype": "text/x-python",
   "name": "python",
   "nbconvert_exporter": "python",
   "pygments_lexer": "ipython3",
   "version": "3.8.13"
  },
  "vscode": {
   "interpreter": {
    "hash": "ca771c708675e285589a868532788645e17ab6e57445e5f70eb941d5377cba2b"
   }
  }
 },
 "nbformat": 4,
 "nbformat_minor": 4
}
