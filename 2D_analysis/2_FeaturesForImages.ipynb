{
 "cells": [
  {
   "cell_type": "code",
   "execution_count": 1,
   "metadata": {},
   "outputs": [
    {
     "data": {
      "text/plain": [
       "'/home/jovyan/maris/2022/Amelie_TX'"
      ]
     },
     "execution_count": 1,
     "metadata": {},
     "output_type": "execute_result"
    }
   ],
   "source": [
    "import os\n",
    "import pandas as pd \n",
    "import numpy as np\n",
    "from sklearn.decomposition import PCA\n",
    "from sklearn.cross_decomposition import PLSCanonical, PLSRegression, CCA\n",
    "from sklearn.preprocessing import StandardScaler\n",
    "from sklearn.model_selection import cross_validate, cross_val_score\n",
    "import matplotlib  as mpl\n",
    "import matplotlib.pyplot as plt\n",
    "plt.rcParams.update({'figure.max_open_warning': 0})\n",
    "from matplotlib.patches import Ellipse\n",
    "import matplotlib.transforms as transforms\n",
    "%matplotlib inline\n",
    "import os, shutil, glob\n",
    "from PIL import Image\n",
    "from itertools import cycle\n",
    "from random import randint\n",
    "import re, math\n",
    "import seaborn as sns; sns.set_style(\"white\")\n",
    "from sklearn.manifold import TSNE\n",
    "import umap.umap_ as umap\n",
    "import datetime\n",
    "import gc\n",
    "from pathlib import Path\n",
    "\n",
    "os.getcwd()"
   ]
  },
  {
   "cell_type": "markdown",
   "metadata": {},
   "source": [
    "### Read data"
   ]
  },
  {
   "cell_type": "code",
   "execution_count": 2,
   "metadata": {},
   "outputs": [],
   "source": [
    "BaseDir = '/home/jovyan/cpp_work/results/'\n",
    "# sorted(os.listdir(BaseDir))"
   ]
  },
  {
   "cell_type": "markdown",
   "metadata": {},
   "source": [
    "### Input directories"
   ]
  },
  {
   "cell_type": "code",
   "execution_count": 3,
   "metadata": {},
   "outputs": [
    {
     "name": "stdin",
     "output_type": "stream",
     "text": [
      "Enter part of name(s) of the folders:  TX-.*GR-v2\n"
     ]
    },
    {
     "name": "stdout",
     "output_type": "stream",
     "text": [
      "InputFolders: ['TX-Plate1-MDA-MB-231-48h-L01-GR-v2', 'TX-Plate2-MDA-MB-231-48h-L02-GR-v2']\n"
     ]
    }
   ],
   "source": [
    "InputFolders = []\n",
    "NameContains = input(\"Enter part of name(s) of the folders: \") # e.g.: TX-.*GR-v2\n",
    "for f in (f for f in os.listdir(BaseDir) if re.match(NameContains, f)):\n",
    "    InputFolders.append(f)\n",
    "InputFolders.sort()\n",
    "print ('InputFolders: ' + str(InputFolders))"
   ]
  },
  {
   "cell_type": "markdown",
   "metadata": {},
   "source": [
    "### Output directory"
   ]
  },
  {
   "cell_type": "code",
   "execution_count": 4,
   "metadata": {},
   "outputs": [
    {
     "name": "stdin",
     "output_type": "stream",
     "text": [
      "Enter name for output folder:  ImageMedianFeatures\n"
     ]
    }
   ],
   "source": [
    "OutputDir = input(\"Enter name for output folder: \") # e.g.: ImageMeanFeatures\n",
    "if not os.path.exists(OutputDir): \n",
    "    os.makedirs(OutputDir)"
   ]
  },
  {
   "cell_type": "code",
   "execution_count": 5,
   "metadata": {},
   "outputs": [
    {
     "name": "stdout",
     "output_type": "stream",
     "text": [
      "Current date and time : \n",
      "2022-04-06 12:03:24\n"
     ]
    }
   ],
   "source": [
    "now = datetime.datetime.now()\n",
    "print ('Current date and time : ')\n",
    "print (now.strftime('%Y-%m-%d %H:%M:%S'))"
   ]
  },
  {
   "cell_type": "code",
   "execution_count": 6,
   "metadata": {},
   "outputs": [
    {
     "name": "stdout",
     "output_type": "stream",
     "text": [
      "/home/jovyan/cpp_work/results/TX-Plate1-MDA-MB-231-48h-L01-GR-v2/1318/863/featICF_nuclei.csv\n",
      "(229074, 733)\n",
      "(229074, 733)\n",
      "Found 1 files\n",
      "Dataframe contains 733 columns and 229074 rows.\n",
      "/home/jovyan/cpp_work/results/TX-Plate1-MDA-MB-231-48h-L01-GR-v2/1318/863/featICF_cells.csv\n",
      "(175735, 734)\n",
      "(175735, 734)\n",
      "Found 1 files\n",
      "Dataframe contains 734 columns and 175735 rows.\n",
      "/home/jovyan/cpp_work/results/TX-Plate1-MDA-MB-231-48h-L01-GR-v2/1318/863/featICF_cytoplasm.csv\n",
      "(175735, 725)\n",
      "(175735, 725)\n",
      "Found 1 files\n",
      "Dataframe contains 725 columns and 175735 rows.\n",
      "(229074, 1467)\n",
      "(229074, 2192)\n",
      "(199315, 2192)\n",
      "Input: TX-.*GR-v2\n",
      "Output: ImageMedianFeatures\n",
      "Dataset shape: (199315, 2192)\n",
      "A B C D E F G H I J K L M N O P\n",
      "01 02 03 04 05 06 07 08 09 10 11 12 13 14 15 16 17 18 19 20 21 22 23 24\n",
      "Number of sites: 4\n",
      "Number of wells: 384 (full plate is 384)\n",
      "Found 2126 numeric columns\n",
      "XXXXXXXXXXXXXXXXXXXXXXXXXXXXXXXXXXXXXXX\n",
      "Now the shape of image dataset is: (1532, 2126)\n",
      "XXXXXXXXXXXXXXXXXXXXXXXXXXXXXXXXXXXXXXX\n",
      "/home/jovyan/cpp_work/results/TX-Plate2-MDA-MB-231-48h-L02-GR-v2/1319/864/featICF_nuclei.csv\n",
      "(234120, 733)\n",
      "(234120, 733)\n",
      "Found 1 files\n",
      "Dataframe contains 733 columns and 234120 rows.\n",
      "/home/jovyan/cpp_work/results/TX-Plate2-MDA-MB-231-48h-L02-GR-v2/1319/864/featICF_cells.csv\n",
      "(179924, 734)\n",
      "(179924, 734)\n",
      "Found 1 files\n",
      "Dataframe contains 734 columns and 179924 rows.\n",
      "/home/jovyan/cpp_work/results/TX-Plate2-MDA-MB-231-48h-L02-GR-v2/1319/864/featICF_cytoplasm.csv\n",
      "(179924, 725)\n",
      "(179924, 725)\n",
      "Found 1 files\n",
      "Dataframe contains 725 columns and 179924 rows.\n",
      "(234120, 1467)\n",
      "(234120, 2192)\n",
      "(203930, 2192)\n",
      "Input: TX-.*GR-v2\n",
      "Output: ImageMedianFeatures\n",
      "Dataset shape: (203930, 2192)\n",
      "A B C D E F G H I J K L M N O P\n",
      "01 02 03 04 05 06 07 08 09 10 11 12 13 14 15 16 17 18 19 20 21 22 23 24\n",
      "Number of sites: 4\n",
      "Number of wells: 384 (full plate is 384)\n",
      "Found 2126 numeric columns\n",
      "XXXXXXXXXXXXXXXXXXXXXXXXXXXXXXXXXXXXXXX\n",
      "Now the shape of image dataset is: (3065, 2126)\n",
      "XXXXXXXXXXXXXXXXXXXXXXXXXXXXXXXXXXXXXXX\n"
     ]
    }
   ],
   "source": [
    "groupedbyImageAllPlates = pd.DataFrame()\n",
    "\n",
    "for oneplate in InputFolders[:]:\n",
    "\n",
    "        DataFrameDictionary = {}\n",
    "        ObjectList = ['featICF_nuclei', 'featICF_cells', 'featICF_cytoplasm']\n",
    "        for obj in ObjectList:\n",
    "            DataFrameDictionary[obj] = pd.DataFrame()\n",
    "            ReadingFile = 0\n",
    "            #for InpF in InputFolders:\n",
    "            DataFromFolder =  pd.DataFrame()\n",
    "            feature_files = glob.glob(BaseDir + '/*' + oneplate + '*/*/*/' + obj + '.csv', recursive=True)\n",
    "          \n",
    "            \n",
    "            \n",
    "            for file in feature_files[-1:]:\n",
    "                print(file)\n",
    "                DataFromOneFile =  pd.read_csv(file, sep=\",\", low_memory=False)\n",
    "                print(DataFromOneFile.shape)\n",
    "                ReadingFile += 1    \n",
    "                DataFromFolder = DataFromFolder.append(DataFromOneFile.iloc[:,:], ignore_index=True)\n",
    "                print(DataFromFolder.shape)\n",
    "\n",
    "                DataFrameDictionary[obj] = DataFrameDictionary[obj].append(DataFromFolder.iloc[:,:], ignore_index=True)\n",
    "            DataFrameDictionary[obj].columns = [str(col) + '_' + re.sub('_.*', '', re.sub('featICF_', '', obj)) for col in DataFrameDictionary[obj]]\n",
    "            print('Found %s files' %(ReadingFile))\n",
    "            print ('Dataframe contains {} columns and {} rows.'.format(DataFrameDictionary[obj].shape[1],\n",
    "                                                                  DataFrameDictionary[obj].shape[0]))\n",
    "\n",
    "        df = DataFrameDictionary['featICF_nuclei'].merge(DataFrameDictionary['featICF_cells'], left_on = [ 'Metadata_Barcode_nuclei',\n",
    "        'Metadata_Site_nuclei', 'Metadata_Well_nuclei','Parent_cells_nuclei'],\n",
    "                           right_on = [ 'Metadata_Barcode_cells',\n",
    "        'Metadata_Site_cells', 'Metadata_Well_cells','ObjectNumber_cells'], how='left')\n",
    "        print(df.shape)\n",
    "\n",
    "        df = df.merge(DataFrameDictionary['featICF_cytoplasm'], left_on = [ 'Metadata_Barcode_nuclei',\n",
    "        'Metadata_Site_nuclei', 'Metadata_Well_nuclei','Parent_cells_nuclei'],\n",
    "                           right_on = [ 'Metadata_Barcode_cytoplasm',\n",
    "        'Metadata_Site_cytoplasm', 'Metadata_Well_cytoplasm','ObjectNumber_cytoplasm'], how='left')\n",
    "        print(df.shape)\n",
    "        df.dropna(inplace=True)\n",
    "        df.reset_index(drop=True, inplace=True)\n",
    "        print(df.shape)\n",
    "        print('Input: {}'.format(NameContains))\n",
    "        print('Output: {}'.format(OutputDir))\n",
    "        print('Dataset shape: {}'.format(df.shape))\n",
    "        \n",
    "        del DataFrameDictionary\n",
    "        gc.collect()\n",
    "        \n",
    "        NrOfObjects = df.shape[0]\n",
    "\n",
    "        Wells = sorted(list(set(df['Metadata_Well_nuclei'])))\n",
    "        NrOfWells = len(Wells)\n",
    "        Rows = sorted(list(set([w[0] for w in Wells])))\n",
    "        print(*Rows)\n",
    "        NrOfRows = len(Rows)\n",
    "        Columns = sorted(list(set([w[1:] for w in Wells])))\n",
    "        NrOfColumns = len(Columns)\n",
    "        print(*Columns)\n",
    "        Sites = sorted(list(set(df['Metadata_Site_nuclei'])))\n",
    "        NrOfSites = len(Sites)\n",
    "        # print('Plate complete: {}'.format(NrOfRows*NrOfColumns==NrOfWells))\n",
    "        print('Number of sites: {}'.format(NrOfSites))\n",
    "        AllWells =[]\n",
    "        for R in Rows:\n",
    "            for C in Columns:\n",
    "                RC = R + C\n",
    "                # print(RC)\n",
    "                AllWells += [RC]\n",
    "        # print(len(AllWells))\n",
    "        print('Number of wells: {} (full plate is {})'.format(NrOfWells, len(AllWells)))\n",
    "        \n",
    "        df['ImageID'] =  df['Metadata_Barcode_nuclei'] + '_' + df['Metadata_Well_nuclei'] + '_' + df['Metadata_Site_nuclei'].astype(str)\n",
    "\n",
    "        numeric_columns = list()\n",
    "        for a in df.columns:\n",
    "            if (df.dtypes[a] == 'float64') | (df.dtypes[a] == 'int64') :\n",
    "                numeric_columns.append(a)\n",
    "        print('Found {} numeric columns'.format(len(numeric_columns)))\n",
    "\n",
    "        dictOfnumeric = { i : np.nanmedian for i in numeric_columns}\n",
    "\n",
    "        groupedbyImage = df.groupby('ImageID').agg(dictOfnumeric)\n",
    "        groupedbyImage.to_csv('{}/ImageMediansPlate{}.csv'.format(OutputDir, oneplate), sep=';')\n",
    "        frames = [groupedbyImageAllPlates, groupedbyImage]\n",
    "        groupedbyImageAllPlates = pd.concat(frames)\n",
    "        print('XXXXXXXXXXXXXXXXXXXXXXXXXXXXXXXXXXXXXXX')\n",
    "        print('Now the shape of image dataset is: {}'.format(groupedbyImageAllPlates.shape))\n",
    "        print('XXXXXXXXXXXXXXXXXXXXXXXXXXXXXXXXXXXXXXX')\n",
    "        del df\n",
    "        del groupedbyImage\n",
    "        gc.collect()\n",
    "        \n",
    "groupedbyImageAllPlates.to_csv('{}/ImageMediansAllPlates.csv'.format(OutputDir), sep=';')"
   ]
  },
  {
   "cell_type": "code",
   "execution_count": 7,
   "metadata": {},
   "outputs": [
    {
     "name": "stdout",
     "output_type": "stream",
     "text": [
      "Current date and time : \n",
      "2022-04-06 12:54:30\n"
     ]
    }
   ],
   "source": [
    "now = datetime.datetime.now()\n",
    "print ('Current date and time : ')\n",
    "print (now.strftime('%Y-%m-%d %H:%M:%S'))"
   ]
  },
  {
   "cell_type": "code",
   "execution_count": null,
   "metadata": {},
   "outputs": [],
   "source": []
  }
 ],
 "metadata": {
  "kernelspec": {
   "display_name": "Python 3",
   "language": "python",
   "name": "python3"
  },
  "language_info": {
   "codemirror_mode": {
    "name": "ipython",
    "version": 3
   },
   "file_extension": ".py",
   "mimetype": "text/x-python",
   "name": "python",
   "nbconvert_exporter": "python",
   "pygments_lexer": "ipython3",
   "version": "3.6.9"
  }
 },
 "nbformat": 4,
 "nbformat_minor": 4
}
