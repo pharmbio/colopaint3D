{
 "cells": [
  {
   "cell_type": "markdown",
   "metadata": {},
   "source": [
    "## Loess normalization on all features"
   ]
  },
  {
   "cell_type": "markdown",
   "metadata": {},
   "source": [
    "#### Inspiration \n",
    "\n",
    "https://pypi.org/project/loess/\n",
    "\n",
    "https://github.com/pharmbio/plaid/blob/main/simulations/PLAID-bioseminar-plots-2021.ipynb\n",
    "\n",
    "https://github.com/pharmbio/plaid/blob/main/simulations/libraries/normalization.py "
   ]
  },
  {
   "cell_type": "code",
   "execution_count": null,
   "metadata": {},
   "outputs": [],
   "source": [
    "import pandas as pd \n",
    "import numpy as np\n",
    "\n",
    "import math, os\n",
    "\n",
    "import matplotlib.pyplot as plt\n",
    "import seaborn as sns; sns.set_style(\"white\")\n",
    "from loess.loess_2d import loess_2d\n",
    "\n",
    "pd.set_option('display.max_columns', 50)\n",
    "#matplotlib inline\n",
    "os.getcwd()\n"
   ]
  },
  {
   "cell_type": "code",
   "execution_count": null,
   "metadata": {},
   "outputs": [],
   "source": [
    "def front(self, n):\n",
    "    return self.iloc[:, :n]\n",
    "\n",
    "def back(self, n):\n",
    "    return self.iloc[:, -n:]\n",
    "\n",
    "pd.DataFrame.front = front\n",
    "pd.DataFrame.back = back\n",
    "\n",
    "# consider making this into a utility\n",
    "# https://stackoverflow.com/questions/30608310/is-there-a-pandas-function-to-display-the-first-last-n-columns-as-in-head "
   ]
  },
  {
   "cell_type": "code",
   "execution_count": null,
   "metadata": {},
   "outputs": [],
   "source": [
    "BaseDir = \"results\"\n",
    "OutputDir = 'results'\n",
    "\n",
    "if not os.path.exists(OutputDir): \n",
    "    os.makedirs(OutputDir)"
   ]
  },
  {
   "cell_type": "markdown",
   "metadata": {},
   "source": [
    "## Load data "
   ]
  },
  {
   "cell_type": "code",
   "execution_count": null,
   "metadata": {},
   "outputs": [],
   "source": [
    "df = pd.read_csv('{}/colo44_cleaned_data.csv'.format(BaseDir), sep=';' , index_col=0)\n",
    "df.back(27).head(1)"
   ]
  },
  {
   "cell_type": "code",
   "execution_count": null,
   "metadata": {},
   "outputs": [],
   "source": [
    "# Some information about the experiment\n",
    "listOfPlates = df['barcode'].unique()\n",
    "NrOfPlates = len(listOfPlates)\n",
    "print('Number of plates: %s' %(NrOfPlates))\n",
    "Wells = sorted(list(set(df['well_id'])))\n",
    "NrOfWells = len(Wells)\n",
    "print('Number of wells: %s' %(NrOfWells))\n",
    "Rows = sorted(list(set([w[0] for w in Wells])))\n",
    "print(*Rows)\n",
    "NrOfRows = len(Rows)\n",
    "Columns = sorted(list(set([w[1:] for w in Wells])))\n",
    "NrOfColumns = len(Columns)\n",
    "print(*Columns)"
   ]
  },
  {
   "cell_type": "code",
   "execution_count": null,
   "metadata": {},
   "outputs": [],
   "source": [
    "## Select all the real features.\n"
   ]
  },
  {
   "cell_type": "code",
   "execution_count": null,
   "metadata": {},
   "outputs": [],
   "source": [
    "for feature in FeaturesToPlot[:]:\n",
    "    fig = plt.figure(figsize = HeatmapSize) # Check if I can optimize the size for my purpose\n",
    "    fig.suptitle('{}'.format(feature) + \" Loess norm\", fontsize = 16, y=1.1) \n",
    "\n",
    "    OneFeature = df[[feature, 'well_id', 'barcode', 'compound']]\n",
    "    OneFeatureDMSO = OneFeature.loc[(OneFeature['compound'] == '[dmso]'), [feature, 'well_id', 'barcode', 'compound']]\n",
    "\n",
    "    # Set up the heatmap boundaries\n",
    "    vmed = math.ceil(OneFeature[feature].quantile(0.5)*1000)/1000\n",
    "    vmed_DMSO = math.ceil(OneFeatureDMSO[feature].quantile(0.5)*1000)/1000\n",
    "    vmin = 0 \n",
    "\n",
    "    n = 1 # subplot counter\n",
    "\n",
    "    for OnePlate in listOfPlates:\n",
    "        OneFeaturePerPlate = OneFeature[OneFeature['barcode'] == OnePlate]\n",
    "        OneFeaturePerPlateDMSO = OneFeatureDMSO[OneFeatureDMSO['barcode'] == OnePlate]\n",
    "\n",
    "        dictOfnumeric = {feature : np.median} \n",
    "        groupedby = OneFeaturePerPlate.groupby(['well_id']).agg(dictOfnumeric) # Aggregate to one value per well\n",
    "        groupedbyDMSO = OneFeaturePerPlateDMSO.groupby(['well_id']).agg(dictOfnumeric)\n",
    "\n",
    "        # Apply the loess normalization\n",
    "        # Prepare the data: DMSO \n",
    "        groupedbyDMSO = OneFeaturePerPlateDMSO.groupby(['well_id']).agg(dictOfnumeric)\n",
    "        groupedbyDMSO[\"columns\"] = groupedbyDMSO.index.str[:1]\n",
    "        groupedbyDMSO[\"columns\"] = [ ord(x) - 64 for x in groupedbyDMSO[\"columns\"]]\n",
    "        groupedbyDMSO[\"rows\"] = groupedbyDMSO.index.str[1:3].str.lstrip('0')\n",
    "        groupedbyDMSO[\"rows\"] = groupedbyDMSO[\"rows\"].astype(int)\n",
    "\n",
    "        x = groupedbyDMSO[[\"columns\"]].to_numpy().reshape((-1,))\n",
    "        y = groupedbyDMSO[[\"rows\"]].to_numpy().reshape((-1,))\n",
    "        z = groupedbyDMSO[feature].to_numpy().reshape((-1,))\n",
    "\n",
    "        # Prepare the data: all wells \n",
    "        groupedby = OneFeaturePerPlate.groupby(['well_id']).agg(dictOfnumeric) # Aggregate to one value per well\n",
    "        groupedby[\"columns\"] = groupedby.index.str[:1]\n",
    "        groupedby[\"columns\"] = [ ord(x) - 64 for x in groupedby[\"columns\"]]\n",
    "        groupedby[\"rows\"] = groupedby.index.str[1:3].str.lstrip('0')\n",
    "        groupedby[\"rows\"] = groupedby[\"rows\"].astype(int)\n",
    "\n",
    "        xnew = groupedby[[\"columns\"]].to_numpy().reshape((-1,))\n",
    "        ynew = groupedby[[\"rows\"]].to_numpy().reshape((-1,))\n",
    "        znew = groupedby[feature].to_numpy().reshape((-1,))\n",
    "\n",
    "        # The actual normalization \n",
    "        zout, _ = loess_2d(x, y, z, xnew=xnew, ynew=ynew, degree=1, frac=1.0, npoints=None, rescale=False, sigz=None) # estimations of the curves \n",
    "        zout_controls, _ = loess_2d(x, y, z, degree=1, frac=1.0, npoints=None, rescale=False, sigz=None)\n",
    "        z_norm = znew - zout + np.nanmean(zout_controls) # calculation of the normalized data\n",
    "        \n",
    "        groupedby[\"z_norm\"] = z_norm\n",
    "\n",
    "        # Remove non-exisiting wells\n",
    "        for W in Wells:\n",
    "            if W not in groupedby.index:\n",
    "                groupedby.loc[W] = 0\n",
    "        groupedby.sort_index(inplace=True) \n",
    "\n",
    "        ## OBS: here is the problem! \n",
    "\n",
    "        # Prepare data for plotting\n",
    "        groupedbyvalues = groupedby[\"z_norm\"].values.copy()\n",
    "        groupedbyvalues = groupedbyvalues.reshape(NrOfRows,int(NrOfColumns))\n",
    "        groupedby_z_norm = pd.DataFrame(groupedbyvalues)\n",
    "        groupedby_z_norm.columns = Columns\n",
    "        groupedby_z_norm.index = Rows\n",
    "\n",
    "        # Subplots \n",
    "        ax = fig.add_subplot(Ro, Co , n)\n",
    "        ax = sns.heatmap(groupedby_z_norm, cmap=cmap, # all data\n",
    "                                     vmin = vmin,\n",
    "                                     vmax = vmed * 2.5,\n",
    "                                     square = False,\n",
    "                                     linewidths = .5,\n",
    "                                     xticklabels = 1, yticklabels = groupedby_z_norm.index,\n",
    "                                     )\n",
    "\n",
    "        plt.yticks(fontsize=7,rotation=0)\n",
    "        plt.xticks(fontsize=8,rotation= -45) \n",
    "\n",
    "        ax.set_title(OnePlate, fontsize = 12, loc = 'center')\n",
    "        plt.subplots_adjust(  wspace = wspace, hspace = hspace, top = top)\n",
    "        n += 1"
   ]
  }
 ],
 "metadata": {
  "kernelspec": {
   "display_name": "Python 3.10.5 64-bit",
   "language": "python",
   "name": "python3"
  },
  "language_info": {
   "name": "python",
   "version": "3.10.5"
  },
  "orig_nbformat": 4,
  "vscode": {
   "interpreter": {
    "hash": "aee8b7b246df8f9039afb4144a1f6fd8d2ca17a180786b69acc140d282b71a49"
   }
  }
 },
 "nbformat": 4,
 "nbformat_minor": 2
}
