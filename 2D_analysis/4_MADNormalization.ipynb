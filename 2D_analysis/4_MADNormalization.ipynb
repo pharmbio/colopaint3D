{
 "cells": [
  {
   "cell_type": "markdown",
   "metadata": {},
   "source": [
    "## MAD normalization on all features"
   ]
  },
  {
   "cell_type": "markdown",
   "metadata": {},
   "source": [
    "#### Inspiration \n",
    "\n",
    "https://pypi.org/project/loess/\n",
    "\n",
    "https://github.com/pharmbio/plaid/blob/main/simulations/PLAID-bioseminar-plots-2021.ipynb\n",
    "\n",
    "https://github.com/pharmbio/plaid/blob/main/simulations/libraries/normalization.py "
   ]
  },
  {
   "cell_type": "code",
   "execution_count": 1,
   "metadata": {},
   "outputs": [
    {
     "data": {
      "text/plain": [
       "'/Users/chririn/Documents/Code/2D_analysis'"
      ]
     },
     "execution_count": 1,
     "metadata": {},
     "output_type": "execute_result"
    }
   ],
   "source": [
    "import pandas as pd \n",
    "import numpy as np\n",
    "\n",
    "import math, os\n",
    "\n",
    "import matplotlib.pyplot as plt\n",
    "import seaborn as sns; sns.set_style(\"white\")\n",
    "#from loess.loess_2d import loess_2d\n",
    "\n",
    "pd.set_option('display.max_columns', 50)\n",
    "#matplotlib inline\n",
    "os.getcwd()\n"
   ]
  },
  {
   "cell_type": "code",
   "execution_count": 2,
   "metadata": {},
   "outputs": [],
   "source": [
    "def front(self, n):\n",
    "    return self.iloc[:, :n]\n",
    "\n",
    "def back(self, n):\n",
    "    return self.iloc[:, -n:]\n",
    "\n",
    "pd.DataFrame.front = front\n",
    "pd.DataFrame.back = back\n",
    "\n",
    "# consider making this into a utility\n",
    "# https://stackoverflow.com/questions/30608310/is-there-a-pandas-function-to-display-the-first-last-n-columns-as-in-head "
   ]
  },
  {
   "cell_type": "code",
   "execution_count": 3,
   "metadata": {},
   "outputs": [],
   "source": [
    "BaseDir = \"results\"\n",
    "OutputDir = 'results'\n",
    "\n",
    "if not os.path.exists(OutputDir): \n",
    "    os.makedirs(OutputDir)"
   ]
  },
  {
   "cell_type": "markdown",
   "metadata": {},
   "source": [
    "## Load data "
   ]
  },
  {
   "cell_type": "code",
   "execution_count": 4,
   "metadata": {},
   "outputs": [
    {
     "data": {
      "text/html": [
       "<div>\n",
       "<style scoped>\n",
       "    .dataframe tbody tr th:only-of-type {\n",
       "        vertical-align: middle;\n",
       "    }\n",
       "\n",
       "    .dataframe tbody tr th {\n",
       "        vertical-align: top;\n",
       "    }\n",
       "\n",
       "    .dataframe thead th {\n",
       "        text-align: right;\n",
       "    }\n",
       "</style>\n",
       "<table border=\"1\" class=\"dataframe\">\n",
       "  <thead>\n",
       "    <tr style=\"text-align: right;\">\n",
       "      <th></th>\n",
       "      <th>RadialDistribution_ZernikePhase_illumSYTO_9_9_cytoplasm</th>\n",
       "      <th>well_id</th>\n",
       "      <th>site</th>\n",
       "      <th>ImageID</th>\n",
       "      <th>barcode</th>\n",
       "      <th>plate_well</th>\n",
       "      <th>batch_id</th>\n",
       "      <th>solvent</th>\n",
       "      <th>stock_conc</th>\n",
       "      <th>stock_conc_unit</th>\n",
       "      <th>cmpd_vol</th>\n",
       "      <th>cmpd_vol_unit</th>\n",
       "      <th>well_vol</th>\n",
       "      <th>well_vol_unit</th>\n",
       "      <th>pert_type</th>\n",
       "      <th>cmpd_conc</th>\n",
       "      <th>cmpd_conc_unit</th>\n",
       "      <th>batchid</th>\n",
       "      <th>cbkid</th>\n",
       "      <th>libid</th>\n",
       "      <th>libtxt</th>\n",
       "      <th>smiles</th>\n",
       "      <th>inchi</th>\n",
       "      <th>inkey</th>\n",
       "      <th>conc</th>\n",
       "      <th>compound</th>\n",
       "      <th>Count_nuclei</th>\n",
       "    </tr>\n",
       "  </thead>\n",
       "  <tbody>\n",
       "    <tr>\n",
       "      <th>0</th>\n",
       "      <td>0.426303</td>\n",
       "      <td>B02</td>\n",
       "      <td>1</td>\n",
       "      <td>colo44-v1-FA-P017365-CACO2-48h-P1-L1_B02_1</td>\n",
       "      <td>colo44-v1-FA-P017365-CACO2-48h-P1-L1</td>\n",
       "      <td>colo44-v1-FA-P017365-CACO2-48h-P1-L1_B02</td>\n",
       "      <td>PHB000015</td>\n",
       "      <td>dmso</td>\n",
       "      <td>10.0</td>\n",
       "      <td>mM</td>\n",
       "      <td>7.5</td>\n",
       "      <td>nL</td>\n",
       "      <td>30</td>\n",
       "      <td>uL</td>\n",
       "      <td>poscon</td>\n",
       "      <td>2.5</td>\n",
       "      <td>uM</td>\n",
       "      <td>PHB000015</td>\n",
       "      <td>[tetr]</td>\n",
       "      <td>[tetr]</td>\n",
       "      <td>pharmb_io</td>\n",
       "      <td>NaN</td>\n",
       "      <td>NaN</td>\n",
       "      <td>NaN</td>\n",
       "      <td>2.5</td>\n",
       "      <td>[tetr]</td>\n",
       "      <td>74.0</td>\n",
       "    </tr>\n",
       "  </tbody>\n",
       "</table>\n",
       "</div>"
      ],
      "text/plain": [
       "   RadialDistribution_ZernikePhase_illumSYTO_9_9_cytoplasm well_id  site  \\\n",
       "0                                           0.426303           B02     1   \n",
       "\n",
       "                                      ImageID  \\\n",
       "0  colo44-v1-FA-P017365-CACO2-48h-P1-L1_B02_1   \n",
       "\n",
       "                                barcode  \\\n",
       "0  colo44-v1-FA-P017365-CACO2-48h-P1-L1   \n",
       "\n",
       "                                 plate_well   batch_id solvent  stock_conc  \\\n",
       "0  colo44-v1-FA-P017365-CACO2-48h-P1-L1_B02  PHB000015    dmso        10.0   \n",
       "\n",
       "  stock_conc_unit  cmpd_vol cmpd_vol_unit  well_vol well_vol_unit pert_type  \\\n",
       "0              mM       7.5            nL        30            uL    poscon   \n",
       "\n",
       "   cmpd_conc cmpd_conc_unit    batchid   cbkid   libid     libtxt smiles  \\\n",
       "0        2.5             uM  PHB000015  [tetr]  [tetr]  pharmb_io    NaN   \n",
       "\n",
       "  inchi inkey  conc compound  Count_nuclei  \n",
       "0   NaN   NaN   2.5   [tetr]          74.0  "
      ]
     },
     "execution_count": 4,
     "metadata": {},
     "output_type": "execute_result"
    }
   ],
   "source": [
    "df = pd.read_csv('{}/colo44_cleaned_data.csv'.format(BaseDir), sep=';' , index_col=0)\n",
    "df.back(27).head(1)"
   ]
  },
  {
   "cell_type": "code",
   "execution_count": 5,
   "metadata": {},
   "outputs": [
    {
     "data": {
      "text/html": [
       "<div>\n",
       "<style scoped>\n",
       "    .dataframe tbody tr th:only-of-type {\n",
       "        vertical-align: middle;\n",
       "    }\n",
       "\n",
       "    .dataframe tbody tr th {\n",
       "        vertical-align: top;\n",
       "    }\n",
       "\n",
       "    .dataframe thead th {\n",
       "        text-align: right;\n",
       "    }\n",
       "</style>\n",
       "<table border=\"1\" class=\"dataframe\">\n",
       "  <thead>\n",
       "    <tr style=\"text-align: right;\">\n",
       "      <th></th>\n",
       "      <th>ObjectNumber_nuclei</th>\n",
       "      <th>AreaShape_Area_nuclei</th>\n",
       "      <th>AreaShape_BoundingBoxArea_nuclei</th>\n",
       "      <th>AreaShape_BoundingBoxMaximum_X_nuclei</th>\n",
       "      <th>AreaShape_BoundingBoxMaximum_Y_nuclei</th>\n",
       "      <th>AreaShape_BoundingBoxMinimum_X_nuclei</th>\n",
       "      <th>AreaShape_BoundingBoxMinimum_Y_nuclei</th>\n",
       "      <th>AreaShape_Center_X_nuclei</th>\n",
       "      <th>AreaShape_Center_Y_nuclei</th>\n",
       "      <th>AreaShape_Compactness_nuclei</th>\n",
       "      <th>AreaShape_ConvexArea_nuclei</th>\n",
       "      <th>AreaShape_Eccentricity_nuclei</th>\n",
       "      <th>AreaShape_EquivalentDiameter_nuclei</th>\n",
       "      <th>AreaShape_EulerNumber_nuclei</th>\n",
       "      <th>AreaShape_Extent_nuclei</th>\n",
       "      <th>AreaShape_FormFactor_nuclei</th>\n",
       "      <th>AreaShape_MajorAxisLength_nuclei</th>\n",
       "      <th>AreaShape_MaxFeretDiameter_nuclei</th>\n",
       "      <th>AreaShape_MaximumRadius_nuclei</th>\n",
       "      <th>AreaShape_MeanRadius_nuclei</th>\n",
       "      <th>AreaShape_MedianRadius_nuclei</th>\n",
       "      <th>AreaShape_MinFeretDiameter_nuclei</th>\n",
       "      <th>AreaShape_MinorAxisLength_nuclei</th>\n",
       "      <th>AreaShape_Orientation_nuclei</th>\n",
       "      <th>AreaShape_Perimeter_nuclei</th>\n",
       "      <th>AreaShape_Solidity_nuclei</th>\n",
       "      <th>AreaShape_Zernike_0_0_nuclei</th>\n",
       "    </tr>\n",
       "  </thead>\n",
       "  <tbody>\n",
       "    <tr>\n",
       "      <th>0</th>\n",
       "      <td>53.5</td>\n",
       "      <td>1860.0</td>\n",
       "      <td>2597.0</td>\n",
       "      <td>1062.5</td>\n",
       "      <td>806.5</td>\n",
       "      <td>1017.5</td>\n",
       "      <td>764.5</td>\n",
       "      <td>1037.132364</td>\n",
       "      <td>785.629139</td>\n",
       "      <td>1.201793</td>\n",
       "      <td>1933.5</td>\n",
       "      <td>0.696281</td>\n",
       "      <td>48.663968</td>\n",
       "      <td>1.0</td>\n",
       "      <td>0.725935</td>\n",
       "      <td>0.832093</td>\n",
       "      <td>57.710049</td>\n",
       "      <td>58.32857</td>\n",
       "      <td>20.383371</td>\n",
       "      <td>7.753648</td>\n",
       "      <td>7.0</td>\n",
       "      <td>42.026644</td>\n",
       "      <td>42.200039</td>\n",
       "      <td>-19.831706</td>\n",
       "      <td>170.145707</td>\n",
       "      <td>0.970882</td>\n",
       "      <td>0.690988</td>\n",
       "    </tr>\n",
       "  </tbody>\n",
       "</table>\n",
       "</div>"
      ],
      "text/plain": [
       "   ObjectNumber_nuclei  AreaShape_Area_nuclei  \\\n",
       "0                 53.5                 1860.0   \n",
       "\n",
       "   AreaShape_BoundingBoxArea_nuclei  AreaShape_BoundingBoxMaximum_X_nuclei  \\\n",
       "0                            2597.0                                 1062.5   \n",
       "\n",
       "   AreaShape_BoundingBoxMaximum_Y_nuclei  \\\n",
       "0                                  806.5   \n",
       "\n",
       "   AreaShape_BoundingBoxMinimum_X_nuclei  \\\n",
       "0                                 1017.5   \n",
       "\n",
       "   AreaShape_BoundingBoxMinimum_Y_nuclei  AreaShape_Center_X_nuclei  \\\n",
       "0                                  764.5                1037.132364   \n",
       "\n",
       "   AreaShape_Center_Y_nuclei  AreaShape_Compactness_nuclei  \\\n",
       "0                 785.629139                      1.201793   \n",
       "\n",
       "   AreaShape_ConvexArea_nuclei  AreaShape_Eccentricity_nuclei  \\\n",
       "0                       1933.5                       0.696281   \n",
       "\n",
       "   AreaShape_EquivalentDiameter_nuclei  AreaShape_EulerNumber_nuclei  \\\n",
       "0                            48.663968                           1.0   \n",
       "\n",
       "   AreaShape_Extent_nuclei  AreaShape_FormFactor_nuclei  \\\n",
       "0                 0.725935                     0.832093   \n",
       "\n",
       "   AreaShape_MajorAxisLength_nuclei  AreaShape_MaxFeretDiameter_nuclei  \\\n",
       "0                         57.710049                           58.32857   \n",
       "\n",
       "   AreaShape_MaximumRadius_nuclei  AreaShape_MeanRadius_nuclei  \\\n",
       "0                       20.383371                     7.753648   \n",
       "\n",
       "   AreaShape_MedianRadius_nuclei  AreaShape_MinFeretDiameter_nuclei  \\\n",
       "0                            7.0                          42.026644   \n",
       "\n",
       "   AreaShape_MinorAxisLength_nuclei  AreaShape_Orientation_nuclei  \\\n",
       "0                         42.200039                    -19.831706   \n",
       "\n",
       "   AreaShape_Perimeter_nuclei  AreaShape_Solidity_nuclei  \\\n",
       "0                  170.145707                   0.970882   \n",
       "\n",
       "   AreaShape_Zernike_0_0_nuclei  \n",
       "0                      0.690988  "
      ]
     },
     "execution_count": 5,
     "metadata": {},
     "output_type": "execute_result"
    }
   ],
   "source": [
    "df.front(27).head(1)"
   ]
  },
  {
   "cell_type": "code",
   "execution_count": 57,
   "metadata": {},
   "outputs": [
    {
     "name": "stdout",
     "output_type": "stream",
     "text": [
      "Number of plates: 4\n",
      "Number of wells: 308\n",
      "B C D E F G H I J K L M N O\n",
      "02 03 04 05 06 07 08 09 10 11 12 13 14 15 16 17 18 19 20 21 22 23\n",
      "Number of features: 2182\n",
      "['well_id', 'site', 'ImageID', 'barcode', 'plate_well', 'batch_id', 'solvent', 'stock_conc', 'stock_conc_unit', 'cmpd_vol', 'cmpd_vol_unit', 'well_vol', 'well_vol_unit', 'pert_type', 'cmpd_conc', 'cmpd_conc_unit', 'batchid', 'cbkid', 'libid', 'libtxt', 'smiles', 'inchi', 'inkey', 'conc', 'compound']\n"
     ]
    }
   ],
   "source": [
    "# Some information about the experiment\n",
    "listOfPlates = df['barcode'].unique()\n",
    "NrOfPlates = len(listOfPlates)\n",
    "print('Number of plates: %s' %(NrOfPlates))\n",
    "Wells = sorted(list(set(df['well_id'])))\n",
    "NrOfWells = len(Wells)\n",
    "print('Number of wells: %s' %(NrOfWells))\n",
    "Rows = sorted(list(set([w[0] for w in Wells])))\n",
    "print(*Rows)\n",
    "NrOfRows = len(Rows)\n",
    "Columns = sorted(list(set([w[1:] for w in Wells])))\n",
    "NrOfColumns = len(Columns)\n",
    "print(*Columns)\n",
    "ListOfFeatures = df.columns[:-26].to_list()## Select all the features.\n",
    "NrOfFeatures = len(ListOfFeatures)\n",
    "print('Number of features: %s' %(NrOfFeatures))\n",
    "ListOfMetaData = df.columns[-26:-1].to_list()## Select all the features.\n",
    "print(ListOfMetaData)"
   ]
  },
  {
   "cell_type": "markdown",
   "metadata": {},
   "source": [
    "#### Calculate weigthed well means"
   ]
  },
  {
   "cell_type": "code",
   "execution_count": 71,
   "metadata": {},
   "outputs": [],
   "source": [
    "ListOfMetaData.remove('ImageID')\n",
    "ListOfMetaData.remove('site')\n"
   ]
  },
  {
   "cell_type": "markdown",
   "metadata": {},
   "source": [
    "#### Normal well means"
   ]
  },
  {
   "cell_type": "code",
   "execution_count": 72,
   "metadata": {},
   "outputs": [],
   "source": [
    "dfPerWell = df[ListOfFeatures + ['plate_well']].groupby(['plate_well']).mean()\n",
    "dfPerWell = pd.merge(left=dfPerWell, right=df[ListOfMetaData], how = 'left', on='plate_well')\n",
    "dfPerWell = dfPerWell.drop_duplicates()"
   ]
  },
  {
   "cell_type": "markdown",
   "metadata": {},
   "source": [
    "#### Well aggregates"
   ]
  },
  {
   "cell_type": "markdown",
   "metadata": {},
   "source": [
    "The code below should work, but is unfortunatly not on a plate basis. "
   ]
  },
  {
   "cell_type": "code",
   "execution_count": 18,
   "metadata": {},
   "outputs": [],
   "source": [
    "# dfwell_average = df[ListOfFeatures + ['plate_well']].groupby(['plate_well']).mean()\n",
    "\n",
    "# dfDMSO = df[df[\"compound\"] == \"[dmso]\"]\n",
    "# dfDMSOwell_average = dfDMSO[ListOfFeatures + ['plate_well']].groupby(['plate_well']).mean()\n",
    "\n",
    "# dfDMSO_MADs = ((dfDMSOwell_average[ListOfFeatures] - dfDMSOwell_average[ListOfFeatures].median()).abs().median())\n",
    "# dfDMSO_MADs = dfDMSOwell_average[ListOfFeatures].median()\n",
    "\n",
    "# dfZscores = (dfwell_average[ListOfFeatures] - dfDMSO_Medians[ListOfFeatures]) / dfDMSO_MADs[ListOfFeatures]\n"
   ]
  },
  {
   "cell_type": "code",
   "execution_count": null,
   "metadata": {},
   "outputs": [],
   "source": []
  },
  {
   "cell_type": "code",
   "execution_count": null,
   "metadata": {},
   "outputs": [],
   "source": []
  },
  {
   "cell_type": "code",
   "execution_count": 133,
   "metadata": {},
   "outputs": [],
   "source": [
    "dfNormalized = dfPerWell.copy()\n",
    "\n",
    "for OnePlate in listOfPlates:\n",
    "    PerPlate = dfPerWell[dfPerWell['barcode'] == OnePlate]\n",
    "    PerPlateDMSO = dfPerWell[dfPerWell[\"compound\"] == \"[dmso]\"]\n",
    "    \n",
    "    dfDMSO_MADs = ((PerPlateDMSO[ListOfFeatures] - PerPlateDMSO[ListOfFeatures].median()).abs().median())\n",
    "    dfDMSO_Median = PerPlateDMSO[ListOfFeatures].median()\n",
    "\n",
    "    dfNorm = PerPlate.copy()\n",
    "    dfNorm[ListOfFeatures] = (PerPlate[ListOfFeatures] - dfDMSO_Median[ListOfFeatures]) / dfDMSO_MADs[ListOfFeatures]\n",
    "    dfNormalized[dfPerWell['barcode'] == OnePlate] = dfNorm"
   ]
  },
  {
   "cell_type": "code",
   "execution_count": null,
   "metadata": {},
   "outputs": [],
   "source": [
    "dfNormalized.to_csv(\"{}/colo44_MAD_normalized.csv\".format(OutputDir), sep=\";\")"
   ]
  },
  {
   "cell_type": "code",
   "execution_count": 129,
   "metadata": {},
   "outputs": [
    {
     "data": {
      "image/png": "[encoded data removed]",
      "text/plain": [
       "<Figure size 432x288 with 2 Axes>"
      ]
     },
     "metadata": {},
     "output_type": "display_data"
    },
    {
     "data": {
      "image/png": "[encoded data removed]",
      "text/plain": [
       "<Figure size 432x288 with 2 Axes>"
      ]
     },
     "metadata": {},
     "output_type": "display_data"
    },
    {
     "data": {
      "image/png": "[encoded data removed]",
      "text/plain": [
       "<Figure size 432x288 with 2 Axes>"
      ]
     },
     "metadata": {},
     "output_type": "display_data"
    },
    {
     "data": {
      "image/png": "[encoded data removed]",
      "text/plain": [
       "<Figure size 432x288 with 2 Axes>"
      ]
     },
     "metadata": {},
     "output_type": "display_data"
    }
   ],
   "source": [
    "feature = 'ObjectNumber_cells'\n",
    "cmap = 'Reds'\n",
    "\n",
    "\n",
    "\n",
    "for OnePlate in listOfPlates:\n",
    "    PerPlate = dfPerWell[dfPerWell['barcode'] == OnePlate]\n",
    "    PerPlateDMSO = dfPerWell[dfPerWell[\"compound\"] == \"[dmso]\"]\n",
    "    \n",
    "    dfDMSO_MADs = ((PerPlateDMSO[ListOfFeatures] - PerPlateDMSO[ListOfFeatures].median()).abs().median())\n",
    "    dfDMSO_Median = PerPlateDMSO[ListOfFeatures].median()\n",
    "\n",
    "    dfNorm = PerPlate.copy()\n",
    "    dfNorm[ListOfFeatures] = (PerPlate[ListOfFeatures] - dfDMSO_Median[ListOfFeatures]) / dfDMSO_MADs[ListOfFeatures]\n",
    "\n",
    "    # Set up the heatmap boundaries\n",
    "    vmed = math.ceil(dfNorm[feature].quantile(0.5)*1000)/1000\n",
    "    vmin = 0 \n",
    "\n",
    "    groupedby_norm = dfNorm[[feature,'plate_well','well_id']].copy()\n",
    "    groupedby_norm[\"columns\"] = groupedby_norm['plate_well'].str[-3:-2]\n",
    "    groupedby_norm[\"columns\"] = [ ord(x) - 64 for x in groupedby_norm[\"columns\"]]\n",
    "    groupedby_norm[\"rows\"] = groupedby_norm['plate_well'].str[-2:].str.lstrip('0')\n",
    "    groupedby_norm[\"rows\"] = groupedby_norm[\"rows\"].astype(int)\n",
    "    groupedby_norm.index = groupedby_norm['well_id']\n",
    "   \n",
    "   # Remove non-exisiting wells\n",
    "    for W in Wells:\n",
    "      if W not in groupedby_norm.index:\n",
    "            groupedby_norm.loc[W] = 0\n",
    "    groupedby_norm.sort_index(inplace=True) \n",
    "\n",
    "    # Prepare data for plotting\n",
    "    groupedbyvalues = groupedby_norm[feature].values.copy()\n",
    "    groupedbyvalues = groupedbyvalues.reshape(NrOfRows,int(NrOfColumns))\n",
    "    groupedby_norm = pd.DataFrame(groupedbyvalues)\n",
    "    groupedby_norm.columns = Columns\n",
    "    groupedby_norm.index = Rows\n",
    "\n",
    "    # Subplots \n",
    "    plt.figure()\n",
    "    sns.heatmap(groupedby_norm, cmap=cmap, # all data\n",
    "                                    #vmin = vmed * -4.5,\n",
    "                                    #vmax = vmed * 2.5,\n",
    "                                    vmin = -4,\n",
    "                                    vmax = 4,\n",
    "                                    square = False,\n",
    "                                    linewidths = .5,\n",
    "                                    xticklabels = 1, yticklabels = groupedby_norm.index,\n",
    "                                    )\n",
    "\n",
    "    plt.yticks(fontsize=7,rotation=0)\n",
    "    plt.xticks(fontsize=8,rotation= -45) \n",
    "\n",
    "    plt.title(OnePlate, fontsize = 12, loc = 'center')"
   ]
  }
 ],
 "metadata": {
  "kernelspec": {
   "display_name": "Python 3.8.13 ('base')",
   "language": "python",
   "name": "python3"
  },
  "language_info": {
   "codemirror_mode": {
    "name": "ipython",
    "version": 3
   },
   "file_extension": ".py",
   "mimetype": "text/x-python",
   "name": "python",
   "nbconvert_exporter": "python",
   "pygments_lexer": "ipython3",
   "version": "3.8.13"
  },
  "orig_nbformat": 4,
  "vscode": {
   "interpreter": {
    "hash": "ca771c708675e285589a868532788645e17ab6e57445e5f70eb941d5377cba2b"
   }
  }
 },
 "nbformat": 4,
 "nbformat_minor": 2
}
