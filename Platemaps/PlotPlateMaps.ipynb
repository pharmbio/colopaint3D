{
 "cells": [
  {
   "cell_type": "code",
   "execution_count": 2,
   "metadata": {},
   "outputs": [],
   "source": [
    "#import pandas as pd\n",
    "import matplotlib.pyplot as plt\n",
    "import numpy as np\n",
    "import re, os\n",
    "from PIL import Image"
   ]
  },
  {
   "cell_type": "code",
   "execution_count": 30,
   "metadata": {},
   "outputs": [],
   "source": [
    "# 1) Import raw data \n",
    "\n",
    "BaseDir = \"/Volumes/mikro_pharmbio/ColoPaint/colo44-v1-FA-P017365-CACO2-48h-P1-L1/2022-05-26/1043/\"; \n",
    "\n",
    "## Load all \n",
    "InputFolders = []\n",
    "NameContains = \".*.tif\"\n",
    "NameNotContains = \".*thumb.*\"\n",
    "for f in (f for f in os.listdir(BaseDir) if not re.match(NameNotContains, f) and re.match(NameContains, f)):\n",
    "    InputFolders.append(f)\n"
   ]
  },
  {
   "cell_type": "code",
   "execution_count": 35,
   "metadata": {},
   "outputs": [
    {
     "name": "stdout",
     "output_type": "stream",
     "text": [
      "<PIL.TiffImagePlugin.TiffImageFile image mode=I;16 size=540x540 at 0x7F93A1203AC0>\n"
     ]
    }
   ],
   "source": [
    "# 2) Open and concatenate tiff images\n",
    "\n",
    "\n",
    "im = Image.open((BaseDir + InputFolders[0]))\n",
    "print(im)\n",
    "\n",
    "im.show()\n",
    "\n"
   ]
  },
  {
   "cell_type": "code",
   "execution_count": null,
   "metadata": {},
   "outputs": [],
   "source": [
    "# 1) Import plate data \n",
    "\n",
    "\n",
    "\n"
   ]
  }
 ],
 "metadata": {
  "interpreter": {
   "hash": "aee8b7b246df8f9039afb4144a1f6fd8d2ca17a180786b69acc140d282b71a49"
  },
  "kernelspec": {
   "display_name": "Python 3.10.0 64-bit",
   "language": "python",
   "name": "python3"
  },
  "language_info": {
   "codemirror_mode": {
    "name": "ipython",
    "version": 3
   },
   "file_extension": ".py",
   "mimetype": "text/x-python",
   "name": "python",
   "nbconvert_exporter": "python",
   "pygments_lexer": "ipython3",
   "version": "3.8.8"
  },
  "orig_nbformat": 4
 },
 "nbformat": 4,
 "nbformat_minor": 2
}
