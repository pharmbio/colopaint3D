{
 "cells": [
  {
   "cell_type": "code",
   "execution_count": 1,
   "metadata": {},
   "outputs": [
    {
     "data": {
      "text/plain": [
       "'/Users/chririn/Documents/Code/Platemaps'"
      ]
     },
     "execution_count": 1,
     "metadata": {},
     "output_type": "execute_result"
    }
   ],
   "source": [
    "import pandas as pd\n",
    "import matplotlib.pyplot as plt\n",
    "import numpy as np\n",
    "import re, os\n",
    "from PIL import Image\n",
    "import glob\n",
    "\n",
    "os.getcwd()"
   ]
  },
  {
   "cell_type": "markdown",
   "metadata": {},
   "source": [
    "## 1) Import raw data"
   ]
  },
  {
   "cell_type": "code",
   "execution_count": 4,
   "metadata": {},
   "outputs": [],
   "source": [
    "BaseDir = '/Volumes/mikro_pharmbio/'\n",
    "KeyWord = 'colo44'\n",
    "\n",
    "InputFolders = glob.glob(BaseDir + '**/*' + KeyWord + '*');\n",
    "# print ('InputFolders: ' + str(InputFolders))"
   ]
  },
  {
   "cell_type": "code",
   "execution_count": 8,
   "metadata": {},
   "outputs": [
    {
     "name": "stdout",
     "output_type": "stream",
     "text": [
      "InputFolders: ['/Volumes/mikro_pharmbio/ColoPaint/colo44-v1-FA-P017365-CACO2-48h-P1-L1', '/Volumes/mikro_pharmbio/ColoPaint/colo44-v1-FA-P017367-CACO2-48h-P2-L1', '/Volumes/mikro_pharmbio/ColoPaint/colo44-v1-FA-P017366-CACO2-48h-P1-L2', '/Volumes/mikro_pharmbio/ColoPaint/colo44-v1-FA-P017368-CACO2-48h-P2-L2']\n"
     ]
    }
   ],
   "source": [
    "# Delete some of the folders I do not need\n",
    "\n",
    "InputFolders[4:12] = []\n",
    "print ('InputFolders: ' + str(InputFolders))"
   ]
  },
  {
   "cell_type": "markdown",
   "metadata": {},
   "source": [
    "BaseDir = '/Volumes/mikro_pharmbio/colo44/'\n",
    "\n",
    "InputFolders = []\n",
    "NameContains = input(\"Enter part of name(s) of the folders: \") # TX-Plate.*\n",
    "for f in (f for f in os.listdir(BaseDir) if re.match(NameContains, f)):\n",
    "    InputFolders.append(f)\n",
    "print ('InputFolders: ' + str(InputFolders))"
   ]
  },
  {
   "cell_type": "markdown",
   "metadata": {},
   "source": [
    "# 1) Import raw data \n",
    "\n",
    "ImageFrame = []\n",
    "\n",
    "## Load all \n",
    "NameContains = \".*thumb.*\"\n",
    "for f in (f for f in os.listdir(InputFolders[0]) if re.match(NameContains, f)):\n",
    "    pd.concat(ImageFrame.append(f)\n"
   ]
  },
  {
   "cell_type": "code",
   "execution_count": 22,
   "metadata": {},
   "outputs": [],
   "source": [
    "ImageFolders = glob.glob(InputFolders[0] + '/**/*s5_w1_thumb*', recursive=True)"
   ]
  },
  {
   "cell_type": "code",
   "execution_count": null,
   "metadata": {},
   "outputs": [],
   "source": [
    "# 2) Open and concatenate tiff images\n",
    "\n",
    "\n",
    "im = Image.open((BaseDir + InputFolders[0]))\n",
    "print(im)\n",
    "\n",
    "im.show()\n",
    "\n"
   ]
  },
  {
   "cell_type": "code",
   "execution_count": null,
   "metadata": {},
   "outputs": [],
   "source": [
    "# 1) Import plate data \n",
    "\n",
    "\n",
    "\n"
   ]
  }
 ],
 "metadata": {
  "interpreter": {
   "hash": "aee8b7b246df8f9039afb4144a1f6fd8d2ca17a180786b69acc140d282b71a49"
  },
  "kernelspec": {
   "display_name": "Python 3.10.0 64-bit",
   "language": "python",
   "name": "python3"
  },
  "language_info": {
   "codemirror_mode": {
    "name": "ipython",
    "version": 3
   },
   "file_extension": ".py",
   "mimetype": "text/x-python",
   "name": "python",
   "nbconvert_exporter": "python",
   "pygments_lexer": "ipython3",
   "version": "3.10.5"
  },
  "orig_nbformat": 4
 },
 "nbformat": 4,
 "nbformat_minor": 2
}
