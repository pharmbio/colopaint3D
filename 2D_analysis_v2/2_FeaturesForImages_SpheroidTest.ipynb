{
 "cells": [
  {
   "cell_type": "code",
   "execution_count": 1,
   "metadata": {},
   "outputs": [
    {
     "data": {
      "text/plain": [
       "'/Users/chririn/Documents/Code/2D_analysis_v2'"
      ]
     },
     "execution_count": 1,
     "metadata": {},
     "output_type": "execute_result"
    }
   ],
   "source": [
    "import os\n",
    "import pandas as pd \n",
    "import numpy as np\n",
    "from sklearn.decomposition import PCA\n",
    "from sklearn.cross_decomposition import PLSCanonical, PLSRegression, CCA\n",
    "from sklearn.preprocessing import StandardScaler\n",
    "from sklearn.model_selection import cross_validate, cross_val_score\n",
    "import matplotlib  as mpl\n",
    "import matplotlib.pyplot as plt\n",
    "plt.rcParams.update({'figure.max_open_warning': 0})\n",
    "from matplotlib.patches import Ellipse\n",
    "import matplotlib.transforms as transforms\n",
    "%matplotlib inline\n",
    "import os, shutil, glob\n",
    "from PIL import Image\n",
    "from itertools import cycle\n",
    "from random import randint\n",
    "import re, math\n",
    "import seaborn as sns; sns.set_style(\"white\")\n",
    "from sklearn.manifold import TSNE\n",
    "import umap.umap_ as umap\n",
    "import datetime\n",
    "import gc\n",
    "from pathlib import Path\n",
    "\n",
    "os.getcwd()"
   ]
  },
  {
   "cell_type": "markdown",
   "metadata": {},
   "source": [
    "### Read data"
   ]
  },
  {
   "cell_type": "code",
   "execution_count": 6,
   "metadata": {},
   "outputs": [],
   "source": [
    "BaseDir = '/Users/chririn/Documents/Data/Spheroids/pilot7/'\n",
    "# sorted(os.listdir(BaseDir))"
   ]
  },
  {
   "cell_type": "markdown",
   "metadata": {},
   "source": [
    "### Input directories"
   ]
  },
  {
   "cell_type": "code",
   "execution_count": 7,
   "metadata": {},
   "outputs": [
    {
     "name": "stdout",
     "output_type": "stream",
     "text": [
      "InputFolders: ['results_CP']\n"
     ]
    }
   ],
   "source": [
    "InputFolders = []\n",
    "NameContains = input(\"Enter part of name(s) of the folders: \") # e.g.: TX-.*GR-v2\n",
    "for f in (f for f in os.listdir(BaseDir) if re.match(NameContains, f)):\n",
    "    InputFolders.append(f)\n",
    "InputFolders.sort()\n",
    "print ('InputFolders: ' + str(InputFolders))"
   ]
  },
  {
   "cell_type": "markdown",
   "metadata": {},
   "source": [
    "### Output directory"
   ]
  },
  {
   "cell_type": "code",
   "execution_count": 8,
   "metadata": {},
   "outputs": [],
   "source": [
    "OutputDir = input(\"Enter name for output folder: \") # e.g.: ImageMeanFeatures\n",
    "if not os.path.exists(OutputDir): \n",
    "    os.makedirs(OutputDir)"
   ]
  },
  {
   "cell_type": "code",
   "execution_count": 9,
   "metadata": {},
   "outputs": [
    {
     "name": "stdout",
     "output_type": "stream",
     "text": [
      "Current date and time : \n",
      "2022-11-12 17:15:37\n"
     ]
    }
   ],
   "source": [
    "now = datetime.datetime.now()\n",
    "print ('Current date and time : ')\n",
    "print (now.strftime('%Y-%m-%d %H:%M:%S'))"
   ]
  },
  {
   "cell_type": "code",
   "execution_count": 18,
   "metadata": {},
   "outputs": [
    {
     "name": "stdout",
     "output_type": "stream",
     "text": [
      "/Users/chririn/Documents/Data/Spheroids/pilot7/results_CP/featICF_nuclei.csv\n",
      "(2922, 453)\n",
      "(2922, 453)\n",
      "Found 1 files\n",
      "Dataframe contains 453 columns and 2922 rows.\n",
      "/Users/chririn/Documents/Data/Spheroids/pilot7/results_CP/featICF_cells.csv\n"
     ]
    },
    {
     "name": "stderr",
     "output_type": "stream",
     "text": [
      "/var/folders/bx/43bwk4n57dj9446w1ddn_7t40000gn/T/ipykernel_27751/1040162856.py:21: FutureWarning: The frame.append method is deprecated and will be removed from pandas in a future version. Use pandas.concat instead.\n",
      "  DataFromFolder = DataFromFolder.append(DataFromOneFile.iloc[:,:], ignore_index=True)\n",
      "/var/folders/bx/43bwk4n57dj9446w1ddn_7t40000gn/T/ipykernel_27751/1040162856.py:24: FutureWarning: The frame.append method is deprecated and will be removed from pandas in a future version. Use pandas.concat instead.\n",
      "  DataFrameDictionary[obj] = DataFrameDictionary[obj].append(DataFromFolder.iloc[:,:], ignore_index=True)\n"
     ]
    },
    {
     "name": "stdout",
     "output_type": "stream",
     "text": [
      "(2366, 453)\n",
      "(2366, 453)\n",
      "Found 1 files\n",
      "Dataframe contains 453 columns and 2366 rows.\n",
      "/Users/chririn/Documents/Data/Spheroids/pilot7/results_CP/featICF_cytoplasm.csv\n"
     ]
    },
    {
     "name": "stderr",
     "output_type": "stream",
     "text": [
      "/var/folders/bx/43bwk4n57dj9446w1ddn_7t40000gn/T/ipykernel_27751/1040162856.py:21: FutureWarning: The frame.append method is deprecated and will be removed from pandas in a future version. Use pandas.concat instead.\n",
      "  DataFromFolder = DataFromFolder.append(DataFromOneFile.iloc[:,:], ignore_index=True)\n",
      "/var/folders/bx/43bwk4n57dj9446w1ddn_7t40000gn/T/ipykernel_27751/1040162856.py:24: FutureWarning: The frame.append method is deprecated and will be removed from pandas in a future version. Use pandas.concat instead.\n",
      "  DataFrameDictionary[obj] = DataFrameDictionary[obj].append(DataFromFolder.iloc[:,:], ignore_index=True)\n"
     ]
    },
    {
     "name": "stdout",
     "output_type": "stream",
     "text": [
      "(2366, 446)\n",
      "(2366, 446)\n",
      "Found 1 files\n",
      "Dataframe contains 446 columns and 2366 rows.\n"
     ]
    },
    {
     "name": "stderr",
     "output_type": "stream",
     "text": [
      "/var/folders/bx/43bwk4n57dj9446w1ddn_7t40000gn/T/ipykernel_27751/1040162856.py:21: FutureWarning: The frame.append method is deprecated and will be removed from pandas in a future version. Use pandas.concat instead.\n",
      "  DataFromFolder = DataFromFolder.append(DataFromOneFile.iloc[:,:], ignore_index=True)\n",
      "/var/folders/bx/43bwk4n57dj9446w1ddn_7t40000gn/T/ipykernel_27751/1040162856.py:24: FutureWarning: The frame.append method is deprecated and will be removed from pandas in a future version. Use pandas.concat instead.\n",
      "  DataFrameDictionary[obj] = DataFrameDictionary[obj].append(DataFromFolder.iloc[:,:], ignore_index=True)\n"
     ]
    },
    {
     "ename": "ValueError",
     "evalue": "len(right_on) must equal len(left_on)",
     "output_type": "error",
     "traceback": [
      "\u001b[0;31m---------------------------------------------------------------------------\u001b[0m",
      "\u001b[0;31mValueError\u001b[0m                                Traceback (most recent call last)",
      "\u001b[1;32m/Users/chririn/Documents/Code/2D_analysis_v2/2_FeaturesForImages_SpheroidTest.ipynb Cell 9\u001b[0m in \u001b[0;36m<cell line: 3>\u001b[0;34m()\u001b[0m\n\u001b[1;32m     <a href='vscode-notebook-cell:/Users/chririn/Documents/Code/2D_analysis_v2/2_FeaturesForImages_SpheroidTest.ipynb#X22sZmlsZQ%3D%3D?line=25'>26</a>\u001b[0m     \u001b[39mprint\u001b[39m(\u001b[39m'\u001b[39m\u001b[39mFound \u001b[39m\u001b[39m%s\u001b[39;00m\u001b[39m files\u001b[39m\u001b[39m'\u001b[39m \u001b[39m%\u001b[39m(ReadingFile))\n\u001b[1;32m     <a href='vscode-notebook-cell:/Users/chririn/Documents/Code/2D_analysis_v2/2_FeaturesForImages_SpheroidTest.ipynb#X22sZmlsZQ%3D%3D?line=26'>27</a>\u001b[0m     \u001b[39mprint\u001b[39m (\u001b[39m'\u001b[39m\u001b[39mDataframe contains \u001b[39m\u001b[39m{}\u001b[39;00m\u001b[39m columns and \u001b[39m\u001b[39m{}\u001b[39;00m\u001b[39m rows.\u001b[39m\u001b[39m'\u001b[39m\u001b[39m.\u001b[39mformat(DataFrameDictionary[obj]\u001b[39m.\u001b[39mshape[\u001b[39m1\u001b[39m],\n\u001b[1;32m     <a href='vscode-notebook-cell:/Users/chririn/Documents/Code/2D_analysis_v2/2_FeaturesForImages_SpheroidTest.ipynb#X22sZmlsZQ%3D%3D?line=27'>28</a>\u001b[0m                                                           DataFrameDictionary[obj]\u001b[39m.\u001b[39mshape[\u001b[39m0\u001b[39m]))\n\u001b[0;32m---> <a href='vscode-notebook-cell:/Users/chririn/Documents/Code/2D_analysis_v2/2_FeaturesForImages_SpheroidTest.ipynb#X22sZmlsZQ%3D%3D?line=29'>30</a>\u001b[0m df \u001b[39m=\u001b[39m DataFrameDictionary[\u001b[39m'\u001b[39;49m\u001b[39mfeatICF_nuclei\u001b[39;49m\u001b[39m'\u001b[39;49m]\u001b[39m.\u001b[39;49mmerge(DataFrameDictionary[\u001b[39m'\u001b[39;49m\u001b[39mfeatICF_cells\u001b[39;49m\u001b[39m'\u001b[39;49m], left_on \u001b[39m=\u001b[39;49m [ \u001b[39m'\u001b[39;49m\u001b[39mMetadata_Barcode_nuclei\u001b[39;49m\u001b[39m'\u001b[39;49m,\n\u001b[1;32m     <a href='vscode-notebook-cell:/Users/chririn/Documents/Code/2D_analysis_v2/2_FeaturesForImages_SpheroidTest.ipynb#X22sZmlsZQ%3D%3D?line=30'>31</a>\u001b[0m \u001b[39m'\u001b[39;49m\u001b[39mMetadata_Plane_nuclei\u001b[39;49m\u001b[39m'\u001b[39;49m, \u001b[39m'\u001b[39;49m\u001b[39mMetadata_Well_nuclei\u001b[39;49m\u001b[39m'\u001b[39;49m],\n\u001b[1;32m     <a href='vscode-notebook-cell:/Users/chririn/Documents/Code/2D_analysis_v2/2_FeaturesForImages_SpheroidTest.ipynb#X22sZmlsZQ%3D%3D?line=31'>32</a>\u001b[0m                    right_on \u001b[39m=\u001b[39;49m [ \u001b[39m'\u001b[39;49m\u001b[39mMetadata_Barcode_cells\u001b[39;49m\u001b[39m'\u001b[39;49m,\n\u001b[1;32m     <a href='vscode-notebook-cell:/Users/chririn/Documents/Code/2D_analysis_v2/2_FeaturesForImages_SpheroidTest.ipynb#X22sZmlsZQ%3D%3D?line=32'>33</a>\u001b[0m \u001b[39m'\u001b[39;49m\u001b[39mMetadata_Plane_cells\u001b[39;49m\u001b[39m'\u001b[39;49m, \u001b[39m'\u001b[39;49m\u001b[39mMetadata_Well_cells\u001b[39;49m\u001b[39m'\u001b[39;49m,\u001b[39m'\u001b[39;49m\u001b[39mObjectNumber_cells\u001b[39;49m\u001b[39m'\u001b[39;49m], how\u001b[39m=\u001b[39;49m\u001b[39m'\u001b[39;49m\u001b[39mleft\u001b[39;49m\u001b[39m'\u001b[39;49m)\n\u001b[1;32m     <a href='vscode-notebook-cell:/Users/chririn/Documents/Code/2D_analysis_v2/2_FeaturesForImages_SpheroidTest.ipynb#X22sZmlsZQ%3D%3D?line=33'>34</a>\u001b[0m \u001b[39mprint\u001b[39m(df\u001b[39m.\u001b[39mshape)\n\u001b[1;32m     <a href='vscode-notebook-cell:/Users/chririn/Documents/Code/2D_analysis_v2/2_FeaturesForImages_SpheroidTest.ipynb#X22sZmlsZQ%3D%3D?line=35'>36</a>\u001b[0m df \u001b[39m=\u001b[39m df\u001b[39m.\u001b[39mmerge(DataFrameDictionary[\u001b[39m'\u001b[39m\u001b[39mfeatICF_cytoplasm\u001b[39m\u001b[39m'\u001b[39m], left_on \u001b[39m=\u001b[39m [ \u001b[39m'\u001b[39m\u001b[39mMetadata_Barcode_nuclei\u001b[39m\u001b[39m'\u001b[39m,\n\u001b[1;32m     <a href='vscode-notebook-cell:/Users/chririn/Documents/Code/2D_analysis_v2/2_FeaturesForImages_SpheroidTest.ipynb#X22sZmlsZQ%3D%3D?line=36'>37</a>\u001b[0m \u001b[39m'\u001b[39m\u001b[39mMetadata_Plane_nuclei\u001b[39m\u001b[39m'\u001b[39m, \u001b[39m'\u001b[39m\u001b[39mMetadata_Well_nuclei\u001b[39m\u001b[39m'\u001b[39m],\n\u001b[1;32m     <a href='vscode-notebook-cell:/Users/chririn/Documents/Code/2D_analysis_v2/2_FeaturesForImages_SpheroidTest.ipynb#X22sZmlsZQ%3D%3D?line=37'>38</a>\u001b[0m                    right_on \u001b[39m=\u001b[39m [ \u001b[39m'\u001b[39m\u001b[39mMetadata_Barcode_cytoplasm\u001b[39m\u001b[39m'\u001b[39m,\n\u001b[1;32m     <a href='vscode-notebook-cell:/Users/chririn/Documents/Code/2D_analysis_v2/2_FeaturesForImages_SpheroidTest.ipynb#X22sZmlsZQ%3D%3D?line=38'>39</a>\u001b[0m \u001b[39m'\u001b[39m\u001b[39mMetadata_Plane_cytoplasm\u001b[39m\u001b[39m'\u001b[39m, \u001b[39m'\u001b[39m\u001b[39mMetadata_Well_cytoplasm\u001b[39m\u001b[39m'\u001b[39m,\u001b[39m'\u001b[39m\u001b[39mObjectNumber_cytoplasm\u001b[39m\u001b[39m'\u001b[39m], how\u001b[39m=\u001b[39m\u001b[39m'\u001b[39m\u001b[39mleft\u001b[39m\u001b[39m'\u001b[39m)\n",
      "File \u001b[0;32m~/opt/anaconda3/lib/python3.8/site-packages/pandas/core/frame.py:9351\u001b[0m, in \u001b[0;36mDataFrame.merge\u001b[0;34m(self, right, how, on, left_on, right_on, left_index, right_index, sort, suffixes, copy, indicator, validate)\u001b[0m\n\u001b[1;32m   9332\u001b[0m \u001b[39m@Substitution\u001b[39m(\u001b[39m\"\u001b[39m\u001b[39m\"\u001b[39m)\n\u001b[1;32m   9333\u001b[0m \u001b[39m@Appender\u001b[39m(_merge_doc, indents\u001b[39m=\u001b[39m\u001b[39m2\u001b[39m)\n\u001b[1;32m   9334\u001b[0m \u001b[39mdef\u001b[39;00m \u001b[39mmerge\u001b[39m(\n\u001b[0;32m   (...)\u001b[0m\n\u001b[1;32m   9347\u001b[0m     validate: \u001b[39mstr\u001b[39m \u001b[39m|\u001b[39m \u001b[39mNone\u001b[39;00m \u001b[39m=\u001b[39m \u001b[39mNone\u001b[39;00m,\n\u001b[1;32m   9348\u001b[0m ) \u001b[39m-\u001b[39m\u001b[39m>\u001b[39m DataFrame:\n\u001b[1;32m   9349\u001b[0m     \u001b[39mfrom\u001b[39;00m \u001b[39mpandas\u001b[39;00m\u001b[39m.\u001b[39;00m\u001b[39mcore\u001b[39;00m\u001b[39m.\u001b[39;00m\u001b[39mreshape\u001b[39;00m\u001b[39m.\u001b[39;00m\u001b[39mmerge\u001b[39;00m \u001b[39mimport\u001b[39;00m merge\n\u001b[0;32m-> 9351\u001b[0m     \u001b[39mreturn\u001b[39;00m merge(\n\u001b[1;32m   9352\u001b[0m         \u001b[39mself\u001b[39;49m,\n\u001b[1;32m   9353\u001b[0m         right,\n\u001b[1;32m   9354\u001b[0m         how\u001b[39m=\u001b[39;49mhow,\n\u001b[1;32m   9355\u001b[0m         on\u001b[39m=\u001b[39;49mon,\n\u001b[1;32m   9356\u001b[0m         left_on\u001b[39m=\u001b[39;49mleft_on,\n\u001b[1;32m   9357\u001b[0m         right_on\u001b[39m=\u001b[39;49mright_on,\n\u001b[1;32m   9358\u001b[0m         left_index\u001b[39m=\u001b[39;49mleft_index,\n\u001b[1;32m   9359\u001b[0m         right_index\u001b[39m=\u001b[39;49mright_index,\n\u001b[1;32m   9360\u001b[0m         sort\u001b[39m=\u001b[39;49msort,\n\u001b[1;32m   9361\u001b[0m         suffixes\u001b[39m=\u001b[39;49msuffixes,\n\u001b[1;32m   9362\u001b[0m         copy\u001b[39m=\u001b[39;49mcopy,\n\u001b[1;32m   9363\u001b[0m         indicator\u001b[39m=\u001b[39;49mindicator,\n\u001b[1;32m   9364\u001b[0m         validate\u001b[39m=\u001b[39;49mvalidate,\n\u001b[1;32m   9365\u001b[0m     )\n",
      "File \u001b[0;32m~/opt/anaconda3/lib/python3.8/site-packages/pandas/core/reshape/merge.py:107\u001b[0m, in \u001b[0;36mmerge\u001b[0;34m(left, right, how, on, left_on, right_on, left_index, right_index, sort, suffixes, copy, indicator, validate)\u001b[0m\n\u001b[1;32m     90\u001b[0m \u001b[39m@Substitution\u001b[39m(\u001b[39m\"\u001b[39m\u001b[39m\\n\u001b[39;00m\u001b[39mleft : DataFrame or named Series\u001b[39m\u001b[39m\"\u001b[39m)\n\u001b[1;32m     91\u001b[0m \u001b[39m@Appender\u001b[39m(_merge_doc, indents\u001b[39m=\u001b[39m\u001b[39m0\u001b[39m)\n\u001b[1;32m     92\u001b[0m \u001b[39mdef\u001b[39;00m \u001b[39mmerge\u001b[39m(\n\u001b[0;32m   (...)\u001b[0m\n\u001b[1;32m    105\u001b[0m     validate: \u001b[39mstr\u001b[39m \u001b[39m|\u001b[39m \u001b[39mNone\u001b[39;00m \u001b[39m=\u001b[39m \u001b[39mNone\u001b[39;00m,\n\u001b[1;32m    106\u001b[0m ) \u001b[39m-\u001b[39m\u001b[39m>\u001b[39m DataFrame:\n\u001b[0;32m--> 107\u001b[0m     op \u001b[39m=\u001b[39m _MergeOperation(\n\u001b[1;32m    108\u001b[0m         left,\n\u001b[1;32m    109\u001b[0m         right,\n\u001b[1;32m    110\u001b[0m         how\u001b[39m=\u001b[39;49mhow,\n\u001b[1;32m    111\u001b[0m         on\u001b[39m=\u001b[39;49mon,\n\u001b[1;32m    112\u001b[0m         left_on\u001b[39m=\u001b[39;49mleft_on,\n\u001b[1;32m    113\u001b[0m         right_on\u001b[39m=\u001b[39;49mright_on,\n\u001b[1;32m    114\u001b[0m         left_index\u001b[39m=\u001b[39;49mleft_index,\n\u001b[1;32m    115\u001b[0m         right_index\u001b[39m=\u001b[39;49mright_index,\n\u001b[1;32m    116\u001b[0m         sort\u001b[39m=\u001b[39;49msort,\n\u001b[1;32m    117\u001b[0m         suffixes\u001b[39m=\u001b[39;49msuffixes,\n\u001b[1;32m    118\u001b[0m         copy\u001b[39m=\u001b[39;49mcopy,\n\u001b[1;32m    119\u001b[0m         indicator\u001b[39m=\u001b[39;49mindicator,\n\u001b[1;32m    120\u001b[0m         validate\u001b[39m=\u001b[39;49mvalidate,\n\u001b[1;32m    121\u001b[0m     )\n\u001b[1;32m    122\u001b[0m     \u001b[39mreturn\u001b[39;00m op\u001b[39m.\u001b[39mget_result()\n",
      "File \u001b[0;32m~/opt/anaconda3/lib/python3.8/site-packages/pandas/core/reshape/merge.py:682\u001b[0m, in \u001b[0;36m_MergeOperation.__init__\u001b[0;34m(self, left, right, how, on, left_on, right_on, axis, left_index, right_index, sort, suffixes, copy, indicator, validate)\u001b[0m\n\u001b[1;32m    678\u001b[0m     \u001b[39m# stacklevel chosen to be correct when this is reached via pd.merge\u001b[39;00m\n\u001b[1;32m    679\u001b[0m     \u001b[39m# (and not DataFrame.join)\u001b[39;00m\n\u001b[1;32m    680\u001b[0m     warnings\u001b[39m.\u001b[39mwarn(msg, \u001b[39mFutureWarning\u001b[39;00m, stacklevel\u001b[39m=\u001b[39mfind_stack_level())\n\u001b[0;32m--> 682\u001b[0m \u001b[39mself\u001b[39;49m\u001b[39m.\u001b[39;49m_validate_specification()\n\u001b[1;32m    684\u001b[0m cross_col \u001b[39m=\u001b[39m \u001b[39mNone\u001b[39;00m\n\u001b[1;32m    685\u001b[0m \u001b[39mif\u001b[39;00m \u001b[39mself\u001b[39m\u001b[39m.\u001b[39mhow \u001b[39m==\u001b[39m \u001b[39m\"\u001b[39m\u001b[39mcross\u001b[39m\u001b[39m\"\u001b[39m:\n",
      "File \u001b[0;32m~/opt/anaconda3/lib/python3.8/site-packages/pandas/core/reshape/merge.py:1409\u001b[0m, in \u001b[0;36m_MergeOperation._validate_specification\u001b[0;34m(self)\u001b[0m\n\u001b[1;32m   1407\u001b[0m         \u001b[39mself\u001b[39m\u001b[39m.\u001b[39mleft_on \u001b[39m=\u001b[39m [\u001b[39mNone\u001b[39;00m] \u001b[39m*\u001b[39m n\n\u001b[1;32m   1408\u001b[0m \u001b[39mif\u001b[39;00m \u001b[39mself\u001b[39m\u001b[39m.\u001b[39mhow \u001b[39m!=\u001b[39m \u001b[39m\"\u001b[39m\u001b[39mcross\u001b[39m\u001b[39m\"\u001b[39m \u001b[39mand\u001b[39;00m \u001b[39mlen\u001b[39m(\u001b[39mself\u001b[39m\u001b[39m.\u001b[39mright_on) \u001b[39m!=\u001b[39m \u001b[39mlen\u001b[39m(\u001b[39mself\u001b[39m\u001b[39m.\u001b[39mleft_on):\n\u001b[0;32m-> 1409\u001b[0m     \u001b[39mraise\u001b[39;00m \u001b[39mValueError\u001b[39;00m(\u001b[39m\"\u001b[39m\u001b[39mlen(right_on) must equal len(left_on)\u001b[39m\u001b[39m\"\u001b[39m)\n",
      "\u001b[0;31mValueError\u001b[0m: len(right_on) must equal len(left_on)"
     ]
    }
   ],
   "source": [
    "groupedbyImageAllPlates = pd.DataFrame()\n",
    "\n",
    "for oneplate in InputFolders[:]:\n",
    "\n",
    "        DataFrameDictionary = {}\n",
    "        ObjectList = ['featICF_nuclei', 'featICF_cells', 'featICF_cytoplasm']\n",
    "        for obj in ObjectList:\n",
    "            DataFrameDictionary[obj] = pd.DataFrame()\n",
    "            ReadingFile = 0\n",
    "            #for InpF in InputFolders:\n",
    "            DataFromFolder =  pd.DataFrame()\n",
    "            feature_files = glob.glob(BaseDir + '/*/*' + obj + '.csv', recursive=True)\n",
    "          \n",
    "            \n",
    "            \n",
    "            for file in feature_files[-1:]:\n",
    "                print(file)\n",
    "                DataFromOneFile =  pd.read_csv(file, sep=\",\", low_memory=False)\n",
    "                print(DataFromOneFile.shape)\n",
    "                ReadingFile += 1    \n",
    "                DataFromFolder = DataFromFolder.append(DataFromOneFile.iloc[:,:], ignore_index=True)\n",
    "                print(DataFromFolder.shape)\n",
    "\n",
    "                DataFrameDictionary[obj] = DataFrameDictionary[obj].append(DataFromFolder.iloc[:,:], ignore_index=True)\n",
    "            DataFrameDictionary[obj].columns = [str(col) + '_' + re.sub('_.*', '', re.sub('featICF_', '', obj)) for col in DataFrameDictionary[obj]]\n",
    "            print('Found %s files' %(ReadingFile))\n",
    "            print ('Dataframe contains {} columns and {} rows.'.format(DataFrameDictionary[obj].shape[1],\n",
    "                                                                  DataFrameDictionary[obj].shape[0]))\n",
    "\n",
    "        df = DataFrameDictionary['featICF_nuclei'].merge(DataFrameDictionary['featICF_cells'], left_on = [ 'Metadata_Barcode_nuclei',\n",
    "        'Metadata_Plane_nuclei', 'Metadata_Well_nuclei'],\n",
    "                           right_on = [ 'Metadata_Barcode_cells',\n",
    "        'Metadata_Plane_cells', 'Metadata_Well_cells','ObjectNumber_cells'], how='left')\n",
    "        print(df.shape)\n",
    "\n",
    "        df = df.merge(DataFrameDictionary['featICF_cytoplasm'], left_on = [ 'Metadata_Barcode_nuclei',\n",
    "        'Metadata_Plane_nuclei', 'Metadata_Well_nuclei'],\n",
    "                           right_on = [ 'Metadata_Barcode_cytoplasm',\n",
    "        'Metadata_Plane_cytoplasm', 'Metadata_Well_cytoplasm','ObjectNumber_cytoplasm'], how='left')\n",
    "        print(df.shape)\n",
    "        df.dropna(inplace=True)\n",
    "        df.reset_index(drop=True, inplace=True)\n",
    "        print(df.shape)\n",
    "        print('Input: {}'.format(NameContains))\n",
    "        print('Output: {}'.format(OutputDir))\n",
    "        print('Dataset shape: {}'.format(df.shape))\n",
    "        \n",
    "        del DataFrameDictionary\n",
    "        gc.collect()\n",
    "        \n",
    "        NrOfObjects = df.shape[0]\n",
    "\n",
    "        Wells = sorted(list(set(df['Metadata_Well_nuclei'])))\n",
    "        NrOfWells = len(Wells)\n",
    "        Rows = sorted(list(set([w[0] for w in Wells])))\n",
    "        print(*Rows)\n",
    "        NrOfRows = len(Rows)\n",
    "        Columns = sorted(list(set([w[1:] for w in Wells])))\n",
    "        NrOfColumns = len(Columns)\n",
    "        print(*Columns)\n",
    "        Sites = sorted(list(set(df['Metadata_Plane_nuclei'])))\n",
    "        NrOfSites = len(Sites)\n",
    "        # print('Plate complete: {}'.format(NrOfRows*NrOfColumns==NrOfWells))\n",
    "        print('Number of sites: {}'.format(NrOfSites))\n",
    "        AllWells =[]\n",
    "        for R in Rows:\n",
    "            for C in Columns:\n",
    "                RC = R + C\n",
    "                # print(RC)\n",
    "                AllWells += [RC]\n",
    "        # print(len(AllWells))\n",
    "        print('Number of wells: {} (full plate is {})'.format(NrOfWells, len(AllWells)))\n",
    "        \n",
    "        df['ImageID'] =  df['Metadata_Barcode_nuclei'] + '_' + df['Metadata_Well_nuclei'] + '_' + df['Metadata_Site_nuclei'].astype(str)\n",
    "\n",
    "        numeric_columns = list()\n",
    "        for a in df.columns:\n",
    "            if (df.dtypes[a] == 'float64') | (df.dtypes[a] == 'int64') :\n",
    "                numeric_columns.append(a)\n",
    "        print('Found {} numeric columns'.format(len(numeric_columns)))\n",
    "\n",
    "        dictOfnumeric = { i : np.nanmedian for i in numeric_columns}\n",
    "        #dictOfnumeric2 = { i : np.nanstd for i in numeric_columns} --> calculate and add the STD\n",
    "        #dictOfnumeric3 = { i : np.nanmedian(np.absolute(x - np.nanmedian(x))) for i in numeric_columns} --> calculate and add the MAD\n",
    "\n",
    "        groupedbyImage = df.groupby('ImageID').agg(dictOfnumeric)\n",
    "        groupedbyImage.to_csv('{}/ImageMediansPlate{}.csv'.format(OutputDir, oneplate), sep=';')\n",
    "        frames = [groupedbyImageAllPlates, groupedbyImage]\n",
    "        groupedbyImageAllPlates = pd.concat(frames)\n",
    "        print('XXXXXXXXXXXXXXXXXXXXXXXXXXXXXXXXXXXXXXX')\n",
    "        print('Now the shape of image dataset is: {}'.format(groupedbyImageAllPlates.shape))\n",
    "        print('XXXXXXXXXXXXXXXXXXXXXXXXXXXXXXXXXXXXXXX')\n",
    "        del df\n",
    "        del groupedbyImage\n",
    "        gc.collect()\n",
    "        \n",
    "groupedbyImageAllPlates.to_csv('{}/ImageMediansAllPlates_v2.csv'.format(OutputDir), sep=';')"
   ]
  },
  {
   "cell_type": "code",
   "execution_count": 19,
   "metadata": {},
   "outputs": [
    {
     "name": "stdout",
     "output_type": "stream",
     "text": [
      "Current date and time : \n",
      "2022-10-21 15:50:37\n"
     ]
    }
   ],
   "source": [
    "now = datetime.datetime.now()\n",
    "print ('Current date and time : ')\n",
    "print (now.strftime('%Y-%m-%d %H:%M:%S'))"
   ]
  }
 ],
 "metadata": {
  "kernelspec": {
   "display_name": "Python 3.8.5 ('base')",
   "language": "python",
   "name": "python3"
  },
  "language_info": {
   "codemirror_mode": {
    "name": "ipython",
    "version": 3
   },
   "file_extension": ".py",
   "mimetype": "text/x-python",
   "name": "python",
   "nbconvert_exporter": "python",
   "pygments_lexer": "ipython3",
   "version": "3.8.13"
  },
  "vscode": {
   "interpreter": {
    "hash": "ca771c708675e285589a868532788645e17ab6e57445e5f70eb941d5377cba2b"
   }
  }
 },
 "nbformat": 4,
 "nbformat_minor": 4
}
