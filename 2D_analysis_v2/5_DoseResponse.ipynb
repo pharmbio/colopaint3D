{
 "cells": [
  {
   "cell_type": "markdown",
   "metadata": {},
   "source": [
    "## Dose Response Curve Fitting in Python\n",
    "### Setting up the stage\n",
    "While I would naturally fit dose-response curves in R using drc, recently I have started using iPython more and more and was wondering : \"Can I do curve fitting in Python directly?\""
   ]
  },
  {
   "cell_type": "markdown",
   "metadata": {},
   "source": [
    "Turns out this is quite easy, although not necessarily well documented. Let's create a toy example and see how things are done using scipy.optimize & pandas"
   ]
  },
  {
   "cell_type": "markdown",
   "metadata": {},
   "source": [
    "retreived from: https://gist.github.com/yannabraham/5f210fed773785d8b638?permalink_comment_id=1713810#file-doseresponsepython-ipynb "
   ]
  },
  {
   "cell_type": "code",
   "execution_count": null,
   "metadata": {},
   "outputs": [],
   "source": [
    "import pandas as pd\n",
    "import numpy as np\n",
    "import scipy.optimize as opt\n",
    "import matplotlib.pyplot as plt\n",
    "import seaborn as sns\n",
    "%matplotlib inline"
   ]
  },
  {
   "cell_type": "code",
   "execution_count": null,
   "metadata": {},
   "outputs": [],
   "source": [
    "import warnings\n",
    "\n",
    "def action_with_warnings():\n",
    "    warnings.warn(\"should not appear\")"
   ]
  },
  {
   "cell_type": "markdown",
   "metadata": {},
   "source": [
    "Let's use a 4-parameter sigmoidal function as a starting point:"
   ]
  },
  {
   "cell_type": "code",
   "execution_count": null,
   "metadata": {},
   "outputs": [],
   "source": [
    "def ll4(x,b,c,d,e):\n",
    "    '''This function is basically a copy of the LL.4 function from the R drc package with\n",
    "     - b: hill slope\n",
    "     - c: min response\n",
    "     - d: max response\n",
    "     - e: EC50'''\n",
    "    return(c+(d-c)/(1+np.exp(b*(np.log(x)-np.log(e)))))\n",
    "\n",
    "def pDose(x):\n",
    "    '''This is just a helper function, to compute easily log transformed concentrations used in drug discovery'''\n",
    "    return(-np.log10(1e-6*x))"
   ]
  },
  {
   "cell_type": "markdown",
   "metadata": {},
   "source": [
    "## Loading my own data"
   ]
  },
  {
   "cell_type": "code",
   "execution_count": null,
   "metadata": {},
   "outputs": [],
   "source": [
    "BaseDir = './results/'"
   ]
  },
  {
   "cell_type": "code",
   "execution_count": null,
   "metadata": {},
   "outputs": [],
   "source": [
    "dfViability = pd.read_csv(\"{}/viability_scores.csv\".format(BaseDir), sep=\";\", index_col=0)\n",
    "#dfViability.head()"
   ]
  },
  {
   "cell_type": "code",
   "execution_count": null,
   "metadata": {},
   "outputs": [],
   "source": [
    "dfViability['Metadata_cmpd'].iloc([dfViability['Metadata_pert_type'] == 'trt'])"
   ]
  },
  {
   "cell_type": "code",
   "execution_count": null,
   "metadata": {},
   "outputs": [],
   "source": [
    "# Remove the reference compounds for now\n",
    "#print(sorted(list(set(dfViability[\"compound\"]))))\n",
    "compoundList = ['5-Fluo', '5Z-7-O', 'ABT-73', 'AMG 23', 'AZD454', 'AZD776', 'AZD805', 'Abemac', 'Afatin', 'BMS-75', 'Crizot', 'Dabraf', 'Encora', 'Gefiti', 'LGK974', 'LY2603', 'Linsit', 'MK-177', 'MK-220', 'Navito', 'Nutlin', 'Olapar', 'Oxalip', 'PD0325', 'PI-103', 'Paclit', 'Palboc', 'Ruxoli', 'SB2167', 'SB5051', 'SN-38', 'Sapiti', 'Taseli', 'Temozo', 'Tramet', 'Velipa', 'Vinore', 'alpeli', 'binime', 'cobime', 'regora', 'tricir', 'triflu', 'vemura']\n",
    "\n"
   ]
  },
  {
   "cell_type": "code",
   "execution_count": null,
   "metadata": {},
   "outputs": [],
   "source": [
    "# Remove the reference compounds for now\n",
    "dfDMSO = dfViability[dfViability.compound.isin(['[dmso]'])]\n",
    "dfViability = dfViability[dfViability.compound.isin(compoundList)]\n",
    "dfViability.dropna(inplace=True)\n",
    "dfViability.reset_index(drop=False, inplace=True)\n",
    "#dfViability.head()\n"
   ]
  },
  {
   "cell_type": "code",
   "execution_count": null,
   "metadata": {},
   "outputs": [],
   "source": [
    "# Add the log concentration column\n",
    "dfViability['logConc'] = pDose(dfViability.conc)\n",
    "dfViability.head()"
   ]
  },
  {
   "cell_type": "markdown",
   "metadata": {},
   "source": [
    "## Fitting the curve\n",
    "is as simple as"
   ]
  },
  {
   "cell_type": "code",
   "execution_count": null,
   "metadata": {},
   "outputs": [],
   "source": [
    "compoundData = drData.groupby(['compound'])\n",
    "fitData = []\n",
    "for name,group in compoundData:\n",
    "    fitCoefs, covMatrix = opt.curve_fit(ll4, group.dose, group.response)\n",
    "    resids = group.response-group.dose.apply(lambda x: ll4(x,*fitCoefs))\n",
    "    curFit = dict(zip(['b','c','d','e'],fitCoefs))\n",
    "    curFit['compound']=name\n",
    "    curFit['residuals']=sum(resids**2)\n",
    "    fitData.append(curFit)\n",
    "fitCompound = [ item['compound'] for item in fitData]"
   ]
  },
  {
   "cell_type": "code",
   "execution_count": null,
   "metadata": {},
   "outputs": [],
   "source": [
    "fitTable = pd.DataFrame(fitData).set_index('compound')\n",
    "fitTable"
   ]
  },
  {
   "cell_type": "code",
   "execution_count": null,
   "metadata": {},
   "outputs": [],
   "source": [
    "fitTable = pd.DataFrame(fitData).set_index('compound')\n",
    "paramTable = pd.DataFrame(params).set_index('compound')[['b','c','d','e']]\n",
    "paramTable.columns = ['ref_'+i for i in paramTable.columns]\n",
    "fitTable.join(paramTable)"
   ]
  },
  {
   "cell_type": "code",
   "execution_count": null,
   "metadata": {},
   "outputs": [],
   "source": [
    "refDose = np.linspace(min(drData.logDose)*0.9,max(drData.logDose)*1.1,256)\n",
    "refDose = (10**-refDose)*1e6\n",
    "sns.lmplot(x='logDose',y='response',data=drData,hue='compound',fit_reg=False)\n",
    "for fit in fitData:\n",
    "    plt.plot([pDose(i) for i in refDose],[ll4(i,*[fit[i] for i in ['b','c','d','e']]) for i in refDose])"
   ]
  },
  {
   "cell_type": "markdown",
   "metadata": {},
   "source": [
    "## Plotting my own data"
   ]
  },
  {
   "cell_type": "code",
   "execution_count": null,
   "metadata": {},
   "outputs": [],
   "source": [
    "dfDMSO['logConc']  = dfDMSO.conc  * 90\n",
    "dfDMSO.head()"
   ]
  },
  {
   "cell_type": "code",
   "execution_count": null,
   "metadata": {},
   "outputs": [],
   "source": [
    "compoundData = dfViability.groupby(['compound'])\n",
    "\n",
    "nrrow = 5 \n",
    "nrcol = 10\n",
    "sp = 1\n",
    "\n",
    "meanDMSO = dfDMSO[['conc','Count_nuclei', 'ObjectNumber_cells', 'logConc']].mean()\n",
    "\n",
    "fig = plt.figure(figsize = (40,20))\n",
    "for compound in compoundData:\n",
    "\n",
    "    meandata = compound[1].groupby('conc').mean()\n",
    "    with warnings.catch_warnings():\n",
    "        warnings.simplefilter('ignore')\n",
    "        mean = meandata.append(meanDMSO,ignore_index=True)\n",
    "\n",
    "    ax = fig.add_subplot(nrrow, nrcol, sp)\n",
    "    ax.set_title(compound[0])\n",
    "    sns.regplot(ax=ax, x='logConc',y='Count_nuclei',data=compound[1],color='gray', fit_reg=False) # plot the compounds \n",
    "    sns.regplot(ax=ax, x='logConc',y='Count_nuclei',data=dfDMSO,color='gray', fit_reg=False) # add the DMSO data\n",
    "    sns.regplot(ax=ax, x='logConc',y='Count_nuclei',data=mean,color='red', fit_reg=False) # add the mean data\n",
    "    sp +=1\n",
    "plt.subplots_adjust( wspace=0.4, hspace=0.4)"
   ]
  },
  {
   "cell_type": "markdown",
   "metadata": {},
   "source": [
    "## Fit one compound at a time"
   ]
  },
  {
   "cell_type": "code",
   "execution_count": null,
   "metadata": {},
   "outputs": [],
   "source": [
    "cmpd = 1 # Select which compound\n",
    "name = compoundList[cmpd]\n",
    "print(name)"
   ]
  },
  {
   "cell_type": "code",
   "execution_count": null,
   "metadata": {},
   "outputs": [],
   "source": [
    "#compoundData = drData.groupby(['compound'])\n",
    "fitData = []\n",
    "for name,group in compoundData:\n",
    "    fitCoefs, covMatrix = opt.curve_fit(ll4, group.conc, group.Count_nuclei)\n",
    "    resids = group.Count_nuclei-group.conc.apply(lambda x: ll4(x,*fitCoefs))\n",
    "    curFit = dict(zip(['b','c','d','e'],fitCoefs))\n",
    "    curFit['compound']=name\n",
    "    curFit['residuals']=sum(resids**2)\n",
    "    fitData.append(curFit)\n",
    "fitCompound = [ item['compound'] for item in fitData]"
   ]
  },
  {
   "cell_type": "code",
   "execution_count": null,
   "metadata": {},
   "outputs": [],
   "source": [
    "fitTable = pd.DataFrame(fitData).set_index('compound')\n",
    "fitTable"
   ]
  },
  {
   "cell_type": "code",
   "execution_count": null,
   "metadata": {},
   "outputs": [],
   "source": [
    "params = [{'compound':'5Z-7-O', 'b':1, 'c':0, 'd':100, 'e':0.4,'startDose':10, 'nDose':8, 'dilution':3},]\n",
    "paramsCompound = [item['compound'] for item in params]"
   ]
  },
  {
   "cell_type": "code",
   "execution_count": null,
   "metadata": {},
   "outputs": [],
   "source": [
    "fitTable = pd.DataFrame(fitData).set_index('compound')\n",
    "paramTable = pd.DataFrame(params).set_index('compound')[['b','c','d','e']]\n",
    "paramTable.columns = ['ref_'+i for i in paramTable.columns]\n",
    "fitTable.join(paramTable)"
   ]
  }
 ],
 "metadata": {
  "kernelspec": {
   "display_name": "Python 3.8.13 ('base')",
   "language": "python",
   "name": "python3"
  },
  "language_info": {
   "codemirror_mode": {
    "name": "ipython",
    "version": 3
   },
   "file_extension": ".py",
   "mimetype": "text/x-python",
   "name": "python",
   "nbconvert_exporter": "python",
   "pygments_lexer": "ipython3",
   "version": "3.8.13"
  },
  "orig_nbformat": 4,
  "vscode": {
   "interpreter": {
    "hash": "ca771c708675e285589a868532788645e17ab6e57445e5f70eb941d5377cba2b"
   }
  }
 },
 "nbformat": 4,
 "nbformat_minor": 2
}
