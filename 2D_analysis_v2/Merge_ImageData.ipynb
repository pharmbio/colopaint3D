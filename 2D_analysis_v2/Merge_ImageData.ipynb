{
 "cells": [
  {
   "cell_type": "code",
   "execution_count": 10,
   "metadata": {},
   "outputs": [
    {
     "data": {
      "text/plain": [
       "'/Users/chririn/Documents/Code/2D_analysis_v2'"
      ]
     },
     "execution_count": 10,
     "metadata": {},
     "output_type": "execute_result"
    }
   ],
   "source": [
    "import os\n",
    "import pandas as pd \n",
    "#import numpy as np\n",
    "\n",
    "os.getcwd()"
   ]
  },
  {
   "cell_type": "markdown",
   "metadata": {},
   "source": [
    "## Attach Image data to the csv's"
   ]
  },
  {
   "cell_type": "code",
   "execution_count": 11,
   "metadata": {},
   "outputs": [],
   "source": [
    "BaseDir = \"./\""
   ]
  },
  {
   "cell_type": "code",
   "execution_count": 12,
   "metadata": {},
   "outputs": [],
   "source": [
    "df = pd.read_csv(\"{}/ImageMedianAndMADFeatures/ImageMediansAndMADllPlates.csv\".format(BaseDir), sep=\";\") "
   ]
  },
  {
   "cell_type": "code",
   "execution_count": 5,
   "metadata": {},
   "outputs": [],
   "source": [
    "dfImage1 = pd.read_csv(\"/Volumes/data/cellprofiler/automation/results/colo44-v1-FA-P017365-CACO2-48h-P1-L1/1610/2543/featICF_Image.csv\", sep=\",\")\n",
    "dfImage2 = pd.read_csv(\"/Volumes/data/cellprofiler/automation/results/colo44-v1-FA-P017366-CACO2-48h-P1-L2/1612/2542/featICF_Image.csv\", sep=\",\")\n",
    "dfImage3 = pd.read_csv(\"/Volumes/data/cellprofiler/automation/results/colo44-v1-FA-P017367-CACO2-48h-P2-L1/1611/2544/featICF_Image.csv\", sep=\",\")\n",
    "dfImage4 = pd.read_csv(\"/Volumes/data/cellprofiler/automation/results/colo44-v1-FA-P017368-CACO2-48h-P2-L2/1613/2545/featICF_Image.csv\", sep=\",\")"
   ]
  },
  {
   "cell_type": "code",
   "execution_count": 6,
   "metadata": {},
   "outputs": [],
   "source": [
    "frames = [dfImage1, dfImage2, dfImage3, dfImage4]\n",
    "dfImage = pd.concat(frames)"
   ]
  },
  {
   "cell_type": "code",
   "execution_count": 7,
   "metadata": {},
   "outputs": [],
   "source": [
    "dfImage['ImageID'] = (dfImage['Metadata_Barcode'] + \"_\" + dfImage['Metadata_Well']  + \"_\" + dfImage['Metadata_Site'].astype(str))\n"
   ]
  },
  {
   "cell_type": "code",
   "execution_count": 8,
   "metadata": {},
   "outputs": [],
   "source": [
    "dfMerged = df.merge(dfImage[['AreaOccupied_AreaOccupied_cells','ImageID']], left_on = 'ImageID',\n",
    "                           right_on = 'ImageID')"
   ]
  },
  {
   "cell_type": "code",
   "execution_count": 9,
   "metadata": {},
   "outputs": [],
   "source": [
    "dfMerged.to_csv(\"{}/ImageMedianAndMADFeatures/ImageMediansAndMADAllPlatesAndAreaOccupied.csv\".format(BaseDir), sep=\";\",index=False)"
   ]
  },
  {
   "cell_type": "markdown",
   "metadata": {},
   "source": [
    "## NEXT"
   ]
  },
  {
   "cell_type": "code",
   "execution_count": 16,
   "metadata": {},
   "outputs": [],
   "source": [
    "df = pd.read_csv(\"{}/ImageMeanFeatures/ImageMeansAllPlates.csv\".format(BaseDir), sep=\";\")"
   ]
  },
  {
   "cell_type": "code",
   "execution_count": 17,
   "metadata": {},
   "outputs": [],
   "source": [
    "dfMerged2 = df.merge(dfImage[['AreaOccupied_AreaOccupied_cells','ImageID']], left_on = 'ImageID',\n",
    "                           right_on = 'ImageID')"
   ]
  },
  {
   "cell_type": "code",
   "execution_count": 18,
   "metadata": {},
   "outputs": [],
   "source": [
    "dfMerged2.to_csv(\"{}/ImageMeanFeatures/ImageMeansAllPlatesAndAreaOccupied.csv\".format(BaseDir), sep=\";\", index=False)"
   ]
  }
 ],
 "metadata": {
  "kernelspec": {
   "display_name": "Python 3.8.13 ('base')",
   "language": "python",
   "name": "python3"
  },
  "language_info": {
   "codemirror_mode": {
    "name": "ipython",
    "version": 3
   },
   "file_extension": ".py",
   "mimetype": "text/x-python",
   "name": "python",
   "nbconvert_exporter": "python",
   "pygments_lexer": "ipython3",
   "version": "3.8.13"
  },
  "orig_nbformat": 4,
  "vscode": {
   "interpreter": {
    "hash": "ca771c708675e285589a868532788645e17ab6e57445e5f70eb941d5377cba2b"
   }
  }
 },
 "nbformat": 4,
 "nbformat_minor": 2
}
