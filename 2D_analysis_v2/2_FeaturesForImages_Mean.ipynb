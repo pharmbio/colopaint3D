{
 "cells": [
  {
   "cell_type": "code",
   "execution_count": 1,
   "metadata": {},
   "outputs": [
    {
     "data": {
      "text/plain": [
       "'/Users/chririn/Documents/Code/2D_analysis_v2'"
      ]
     },
     "execution_count": 1,
     "metadata": {},
     "output_type": "execute_result"
    }
   ],
   "source": [
    "import os\n",
    "import pandas as pd \n",
    "import numpy as np\n",
    "from sklearn.decomposition import PCA\n",
    "from sklearn.cross_decomposition import PLSCanonical, PLSRegression, CCA\n",
    "from sklearn.preprocessing import StandardScaler\n",
    "from sklearn.model_selection import cross_validate, cross_val_score\n",
    "import matplotlib  as mpl\n",
    "import matplotlib.pyplot as plt\n",
    "plt.rcParams.update({'figure.max_open_warning': 0})\n",
    "from matplotlib.patches import Ellipse\n",
    "import matplotlib.transforms as transforms\n",
    "%matplotlib inline\n",
    "import os, shutil, glob\n",
    "from PIL import Image\n",
    "from itertools import cycle\n",
    "from random import randint\n",
    "import re, math\n",
    "import seaborn as sns; sns.set_style(\"white\")\n",
    "from sklearn.manifold import TSNE\n",
    "import umap.umap_ as umap\n",
    "import datetime\n",
    "import gc\n",
    "from pathlib import Path\n",
    "\n",
    "os.getcwd()"
   ]
  },
  {
   "cell_type": "markdown",
   "metadata": {},
   "source": [
    "### Read data"
   ]
  },
  {
   "cell_type": "code",
   "execution_count": 2,
   "metadata": {},
   "outputs": [],
   "source": [
    "BaseDir = '/Volumes/data/cellprofiler/automation/results/'\n",
    "# sorted(os.listdir(BaseDir))"
   ]
  },
  {
   "cell_type": "markdown",
   "metadata": {},
   "source": [
    "### Input directories"
   ]
  },
  {
   "cell_type": "code",
   "execution_count": 3,
   "metadata": {},
   "outputs": [
    {
     "name": "stdout",
     "output_type": "stream",
     "text": [
      "InputFolders: ['.DS_Store', '.ipynb_checkpoints', '001_A', '001_B', '002_A', '002_B', '003_A', '003_B', '004_A', '004_B', '005_A', '005_B', '006_A', '006_B', '007_A', '007_B', '008_A', '008_B', '009_A', '009_B', '010_A', '010_B', '011_A', '011_B', '012_A', '012_B', '013_A', '013_B', '014_A', '014_B', '015_A', '015_B', '016_A', '016_B', '190124-U2OS-20X-CopyAP009069', '190131-U2OS-20X-CopyAP009064', '190131-U2OS-20X-CopyAP009065', '190131-U2OS-20X-CopyAP009066', '190131-U2OS-20X-CopyAP009067', '190131-U2OS-20X-CopyAP009068', '190201-U2OS-20X-CopyAP009063', '190201-U2OS-20X-CopyAP009083', '190206-U2OS-20X-CopyAP009070', '190206-U2OS-20X-CopyAP009071', '190206-U2OS-20X-CopyAP009072', '190207-U2OS-20X-CopyAP009073', '190207-U2OS-20X-CopyAP009074', '190207-U2OS-20X-CopyAP009075', '190207-U2OS-20X-CopyAP009076', '190207-U2OS-20X-CopyAP009077', '190207-U2OS-20X-CopyAP009078', '190207-U2OS-20X-CopyAP009079', '190208-U2OS-20X-CopyAP009080', '190208-U2OS-20X-CopyAP009081', '190208-U2OS-20X-CopyAP009082', '190208-U2OS-20X-CopyAP009084', '20220802 IF9 8xC1-24 R1 3028 P3_Plate_11159', '20220802 IF9 8xC1-24 R1 3065 P2_Plate_11174', '20220802 IF9 8xC1-24 R1 3180 P4_Plate_11160', '20220921 IF15 8x25-48', '20220928 IF16 8x49-72-P1-3013-R1-2022-09-28-11300', '20220928 IF16 8x49-72-P2-3065-R1-2022-09-29-11301', '20220928 IF16 8x49-72-P5-MB002-R1-1PLANE-2022-10-02-11308', '20220928 IF16 8x49-72-P8-SK-N-AS-R1-1PLANE-2022-10-03-11312', '221020-cr-spheroid-pilot7', '24OHC-v1-FA-00000468-T98G-24h-P1-L1', '24OHC-v1-FA-00000475-T98G-24h-P1-L2', '24OHC-v2-FA-T98G-48h-P1-L1', '24OHC-v2-FA-T98G-48h-P1-L2', '384-P000013-helgi-U2OS-24h-L1-copy1', '384-P000013-helgi-U2OS-24h-L1-copy1-r2', '384-P000014-helgi-U2OS-24h-L1-copy2', '384-P000015-helgi-U2OS-48h-L1-copy1', '384-P000015-helgi-U2OS-48h-L1-copy1-r2', '384-P000016-helgi-U2OS-48h-L1-copy2', '384-P000017-helgi-MCF10A-24h-L1-copy1', '384-P000018-helgi-MCF10A-24h-L1-copy2', '384-P000019-helgi-MCF10A-48h-L1-copy1', '384-P000020-helgi-MCF10A-48h-L1-copy2', '384-P000021-helgi-MCF7-24h-L1-copy1', '384-P000022-helgi-MCF7-24h-L1-copy2', '384-P000023-helgi-MCF7-48h-L1-copy1', '384-P000024-helgi-MCF7-48h-L1-copy2', '40xtest-10722', 'A549-20X-P009109', 'A594-48h-L1-20X', 'BioTek-FA-U2OS-24h', 'Bluewasher-FA-U2OS-24h', 'CACO2-SARSCOV2-20X', 'CACO2-SARSCOV2-4X', 'Co000038-PVE-v1-U2OS-L1-copy1', 'Co000039-PVE-v1-U2OS-L2-copy1', 'Co000040-PVE-v1-U2OS-L3-copy1', 'Co000041-PVE-v1-U2OS-L4-copy1', 'CoP013737-U2OS-45h-L1', 'EDC-v1-FA-MCF7-96h-P1-L1', 'EDC-v1-FA-MCF7-96h-P2-L1', 'EDC-v1-FA-U2OS-24h-P3-L1', 'EDC-v1-FA-U2OS-24h-P4-L2', 'EDC-v1-FA-U2OS-24h-P4-L2-morning', 'Exp1-CACO2-BONUS-20X', 'Exp1-CACO2-L1-20X', 'Exp1-CACO2-L1-4X', 'Exp1-CACO2-L2-20X', 'Exp1-CACO2-L2-4X', 'Exp1-Huh7-BONUS-20X', 'Exp1-Huh7-BONUS-20X-run2', 'Exp1-Huh7-BONUS-4X', 'Exp1-Huh7-L1-20X', 'Exp1-Huh7-L1-20X-run2', 'Exp1-Huh7-L2-20X', 'Exp1-Huh7-L2-20X-run2', 'Exp1-Huh7-L2-4X', 'Exp2-VERO-L1-20X', 'Exp2-VERO-L1-20X-run2', 'Exp2-VERO-L1andL2-20X', 'Exp2-VERO-L2-20X', 'Exp3-VERO-ZIKAV-BONUS-20X', 'Exp3-VERO-ZIKAV-BONUS-20X-run2TL', 'Exp3-VERO-ZIKAV-L1-20X', 'Exp3-VERO-ZIKAV-L1-20X-run2', 'Exp3-VERO-ZIKAV-L1-20X-run2TL', 'Exp3-VERO-ZIKAV-L2-20X-run2', 'Exp4-MRC5-L4-229E-2', 'Exp4-MRC5-L4-229E-s', 'Exp4-MRC5-L4-no229E-s', 'Exp4-MRC5-L5-229E-s', 'Exp4-MRC5-L5-no229E', 'Exp4-MRC5-L5-no229E-s', 'Exp4-MRC5-bonus-CPnoAB2', 'Exp4-MRC5-bonus-CPwithAB2', 'FO000033-orebro-v1-A549-24h-L1-copy1', 'FO000033-orebro-v1-U2OS-24h-L1-copy1', 'FO000034-orebro-v1-A549-24h-L1-copy2', 'FO000034-orebro-v1-U2OS-24h-L1-copy2', 'FO000035-orebro-v1-CACO2-24h-L1-copy1', 'FO000035-orebro-v1-MCF7-24h-L1-copy1', 'FO000036-orebro-v1-CACO2-24h-L1-copy2', 'FO000036-orebro-v1-MCF7-24h-L1-copy2', 'FirstTest-New-plate-P1-L1', 'FirstTest-New-plate-P1-L1-2nd-scan', 'GR-P013851-U2OS-48h-L1', 'GR-P013852-U2OS-48h-L2', 'GR000054-amelie-test2-U2OS-48h', 'GR000054-amelie-test2-U2OS-48h-TL-r10', 'GR000054-amelie-test2-U2OS-48h-TL-r11', 'GR000054-amelie-test2-U2OS-48h-TL-r6', 'GR000054-amelie-test2-U2OS-48h-TL-r7', 'GR000054-amelie-test2-U2OS-48h-TL-r8', 'GR000054-amelie-test2-U2OS-48h-TL-r9', 'HOG-H3-cellpainting-1', 'JS-v1-CP-P3-20X', 'JS-v1-CP-P4-20X', 'JS-v1-CP-P5-20X', 'MRC5-CellDensityPilot-20X-run1', 'MRC5-CellDensityPilot-20X-run2', 'MRC5-CellDensityPilot-20X-run3', 'MRC5-Pilot1-AfterPainting10X', 'MRC5-Pilot1-BeforePainting10X', 'MS-6-Serum-v1-L1-hog-run2', 'MS-6-serum-v1-L02-SK-N-SH', 'MS-P24-1-HOG-e03-v02-L01A-24h-pr02-r1', 'MS-P24h-2-SK-N-SH-e03-v02-L01A-24h-pr02-r1', 'MS-P48-2-HOG-e03-v03-L01A-48h-pr02-r1', 'MS-P48h-2-SK-N-SH-e03-v03-L01A-48h-pr02-r1-run3', 'P000025-combchem-v3-MCF7-24h-L1-copy1', 'P000025-combchem-v3-U2OS-24h-L1-copy1', 'P000026-combchem-v3-MCF7-24h-L1-copy2', 'P000026-combchem-v3-U2OS-24h-L1-copy2', 'P000027-combchem-v3-A549-24h-L1-copy1', 'P000027-combchem-v3-CACO2-24h-L1-copy1', 'P000028-combchem-v3-A549-24h-L1-copy2', 'P000028-combchem-v3-CACO2-24h-L1-copy2', 'P000029-combchem-v3-MCF7-48h-L1-copy1', 'P000029-combchem-v3-U2OS-48h-L1-copy1', 'P000030-combchem-v3-MCF7-48h-L1-copy2', 'P000030-combchem-v3-U2OS-48h-L1-copy2', 'P000031-combchem-v3-A549-48h-L1-copy1', 'P000031-combchem-v3-CACO2-48h-L1-copy1', 'P000032-combchem-v3-A549-48h-L1-copy2', 'P000032-combchem-v3-CACO2-48h-L1-copy2', 'P001-P004-U2OS', 'P005-P008-A549', 'P009-P012-CACO2', 'P013841-GR-U2OS-50h-L1', 'P013842-GR-U2OS-50h-L2', 'P013843-GR-U2OS-50h-L1', 'P013844-GR-U2OS-50h-L2', 'P013845-GR-U2OS-50h-L1', 'P013846-GR-U2OS-50h-L2', 'P013847-GR-U2OS-50h-L1', 'P013848-GR-U2OS-50h-L2', 'P013849-GR-U2OS-50h-L1', 'P013850-GR-U2OS-50h-L1', 'P015081', 'P015083', 'P015087', 'P015089', 'P015230', 'P015231', 'P015232', 'P015233', 'P015234', 'P015235', 'P015236', 'P015237', 'P015238', 'P015239', 'P015240', 'P015242', 'P015244', 'P015245', 'P015246', 'P015247', 'P015248', 'P015249', 'P101018-nov03_Plate_11593', 'P101020-nov03_Plate_11592', 'P101022-col2-and-3', 'P101022-nov01_Plate_11587', 'P101024-nov02_Plate_11588', 'P101026-nov02_Plate_11589', 'PE000037-orebro-v1-A549-24h-L1-copy3', 'PE000037-orebro-v1-U2OS-24h-L1-copy3', 'PE000043-vero-sarscov2-test1', 'PE000043-vero-sarscov2-test1-run2', 'PE000049-veroE6-sarscov2', 'PE000050-veroE6-sarscov2', 'PE000051-veroE6-sarscov2', 'PE000051-veroE6-sarscov2-r2', 'PE000052-veroE6-sarscov2', 'PE000053-veroE6', 'Pilot-2-HOG', 'Pilot-2-SK-N-SH', 'RMS-5lines-20X-rep2', 'RMS-5lines-20X-rep3', 'RMS-5lines-20X-repl2', 'RMS-P0001-RD-e01-v02-L01A-24h-pr01-r1', 'RMS-P0001-RD-e01-v02-L01B-48h-pr01-r1', 'RMS-P0001-RD18-e01-v02-L01A-24h-pr01-r1', 'RMS-P0001-RD18-e01-v02-L01B-48h-pr01-r1', 'RMS-P0001-RH30-e01-v02-L01A-24h-pr01-r1', 'RMS-P0001-RH30-e01-v02-L01B-48h-pr01-r1', 'RMS-e01-v03-plate1-RD18-48h', 'RMS-e01-v03-plate1-RH30-48h', 'RMS-e01-v03-plate2-CW9019-48h', 'RMS-e01-v03-plate2-RD-48h', 'RMS-e02-v01-P014561-RD-48h', 'RMS-e02-v01-P014561-RH30-48h', 'RMS-e02-v01-P014562-RD18-48h', 'RMS-e02-v01-P014562-RH30-48h', 'RMS-e02-v01-P014563-RD18-48h', 'RMS-e02-v01-P014563-RH30-48h', 'RMS-e02-v01-P014564-CW9019-48h', 'RMS-e02-v01-P014564-CW9019-48h-r2', 'RMS-e02-v01-P014564-RD-48h', 'SK-N-SH-S2-cellpainting-1', 'SS-001A-1', 'SS-001A-2', 'SS-001B-2', 'SS-002A-2', 'SS-002B-2', 'SS-003A-2', 'SS-003B-2', 'SS-004A-1', 'SS-004A-2', 'SS-004B-2', 'SS-005A-2', 'SS-005B-2', 'SS-006A-2', 'SS-006B-2', 'SS-007A-2', 'SS-007B-2', 'SS-008A-2', 'SS-008B-2', 'SS-009A-2', 'SS-009B-2', 'SS-010A-2', 'SS-010B-2', 'SS-011A-2', 'SS-011B-2', 'SS-012A-2', 'SS-012B-2', 'SS-013A-2', 'SS-013B-2', 'SS-014A-2', 'SS-014B-2', 'SS-015A-2', 'SS-015B-1', 'SS-015B-2', 'SS-016A-2', 'SS-016B-2', 'SS-QC1', 'SS-QC1-3d-r5-dconf', 'TX-L05-MDA-MB-231-45h-L05-GR-v1', 'TX-L06-MDA-MB-231-45h-L05-GR-v1', 'TX-Plate1-MDA-MB-231-48h-L01-GR-v2', 'TX-Plate2-MDA-MB-231-48h-L02-GR-v2', 'TimePoint_1', 'U2OS-20X-24h-L1', 'U2OS-20X-24h-L2', 'U2OS-20X-24h-L3', 'U2OS-20X-24h-L4', 'U2OS-48h-L1-20X', 'U87-Zika-20X-48h', 'U87-Zika-20X-72h', 'ViktorProj', 'WashOptimisation-S2-SK-N-SH', 'Week10_40111', 'Week10_40115', 'Week10_40119', 'Week1_22123', 'Week1_22141', 'Week1_22161', 'Week1_22361', 'Week1_22381', 'Week1_22401', 'Week2_24121', 'Week2_24141', 'Week2_24161', 'Week2_24361', 'Week2_24381', 'Week2_24401', 'Week3_25421', 'Week3_25441', 'Week3_25461', 'Week3_25681', 'Week3_25701', 'Week3_25721', 'Week4_27481', 'Week4_27521', 'Week4_27542', 'Week4_27801', 'Week4_27821', 'Week4_27861', 'Week5_28901', 'Week5_28921', 'Week5_28961', 'Week5_29301', 'Week5_29321', 'Week5_29341', 'Week6_31641', 'Week6_31661', 'Week6_31681', 'Week6_32061', 'Week6_32121', 'Week6_32161', 'Week7_34341', 'Week7_34381', 'Week7_34641', 'Week7_34661', 'Week7_34681', 'Week8_38203', 'Week8_38221', 'Week8_38241', 'Week8_38341', 'Week8_38342', 'Week9_39206', 'Week9_39221', 'Week9_39222', 'Week9_39282', 'Week9_39283', 'Week9_39301', 'YM-v1-FA-MDA-MB-231-48h-P1-L1', 'YM-v1-FA-MDA-MB-231-48h-P1-L2', 'bric39-v1-FA-00000437-U2OS-96h-P1-L1', 'bric39-v1-FA-00000444-U2OS-96h-P1-L2', 'bric39-v1-FA-U2OS-96h-P1-L3', 'cell-density-martin-2022-09-23', 'col-Plate1-HCT116-e01-L01-48h-FA-v1-run2', 'col-Plate1-HT29-e01-L01-48h-FA-v1', 'col-Plate1-HT29-e01-L01-48h-FA-v1-run3', 'col-Plate2-HCT15-e01-L01-48h-FA-v1', 'col-Plate2-HCT15-e01-L01-48h-FA-v1-run2', 'col-Plate2-SW620-e01-L01-48h-FA-v1', 'colo44-v1-FA-P017365-CACO2-48h-P1-L1', 'colo44-v1-FA-P017366-CACO2-48h-P1-L2', 'colo44-v1-FA-P017367-CACO2-48h-P2-L1', 'colo44-v1-FA-P017368-CACO2-48h-P2-L2', 'covid19-profiling', 'debug_plate_001', 'dicot-v2-P00000017-U2OS-48h-L1', 'dicot-v2-P00000024-A549-48h-L2', 'dicot-v2-P00000031-MCF7-48h-L3', 'dicot-v2-P00000048-CACO2-48h-L4', 'dicot-v2-P00000055-U2OS-120h-L5', 'dicot-v2-P00000062-MRC5-120h-L6', 'exp180', 'exp180-subset', 'helgi-v3-FA-P00000222-U2OS-120h-P1-L4', 'helgi-v3-FA-P00000239-U2OS-48h-P1-L5', 'helgi-v3-FA-P00000246-U2OS-24h-P1-L6-HTS', 'helgi-v3-FA-P00000284-U2OS-120h-P1-L4', 'helgi-v3-FA-P00000291-U2OS-48h-P1-L5', 'helgi-v3-FA-P00000307-U2OS-24h-P1-L6-HTS', 'helgi-v3-FA-P00000307-U2OS-24h-P1-L6-r2', 'orebro6-v2-FA-00000079-A549-48h-P1-L1', 'orebro6-v2-FA-00000086-A549-48h-P1-L2', 'orebro6-v2-FA-00000093-CACO2-48h-P1-L1', 'orebro6-v2-FA-00000109-CACO2-48h-P1-L2', 'orebro6-v2-FA-00000109-CACO2-48h-P1-L2-B18-O23', 'orebro6-v2-GR-00000116-MRC5-48h-P1-L1', 'orebro6-v2-GR-00000123-MRC5-48h-P1-L2', 'pilot11-4xCells-plate1-3', 'pilot11-4xCells-plate2-3', 'pilot12-2xCells-plate3-3', 'pilot8-spheroid-plate1-0', 'plate1', 'protac35-v1-FA-P00000314-U2OS-24h-P1-L1', 'protac35-v1-FA-P00000321-U2OS-24h-P1-L2', 'protac35-v1-FA-P00000338-U2OS-24h-P1-L3', 'protac35-v1-FA-P00000352-U2OS-24h-P2-L1', 'protac35-v1-FA-P00000369-U2OS-24h-P2-L2', 'protac35-v1-FA-P00000376-U2OS-24h-P2-L3', 'protac35-v1-FA-P00000390-U2OS-24h-P3-L1', 'protac35-v1-FA-P00000406-U2OS-24h-P3-L2', 'protac35-v1-FA-P00000413-U2OS-24h-P3-L3', 'protac35-v1-GR-P00000345-U2OS-24h-P1-L4', 'specs1K-v2-FA-DMSO-batch1-U2OS-48h', 'specs1K-v2-FA-DMSO-batch3-U2OS-48h', 'specs1K-v2-FA-P100644-P1-U2OS-48h-L1', 'specs1K-v2-FA-P100644-P1-U2OS-48h-L1-continued', 'specs1K-v2-FA-P100646-P2-U2OS-48h-L1', 'specs1K-v2-FA-P100647-P15-U2OS-48h-L2', 'specs1K-v2-FA-P100648-P3-U2OS-48h-L1', 'specs1K-v2-FA-P100649-P16-U2OS-48h-L2', 'specs1K-v2-FA-P100650-P5-U2OS-48h-L1', 'specs1K-v2-FA-P100651-P18-U2OS-48h-L2', 'specs1K-v2-FA-P100652-P6-U2OS-48h-L1', 'specs1K-v2-FA-P100654-P7-U2OS-48h-L1', 'specs1K-v2-FA-P100656-P8-U2OS-48h-L1', 'specs1K-v2-FA-P100660-P4-U2OS-48h-L1', 'specs1K-v2-FA-P100661-P17-U2OS-48h-L2', 'specs935-v1-FA-P015076-U2OS-48h-P1-L1', 'specs935-v1-FA-P015077-U2OS-48h-P1-L2', 'specs935-v1-FA-P015078-U2OS-48h-P2-L1', 'specs935-v1-FA-P015079-U2OS-48h-P2-L2', 'specs935-v1-FA-P015080-U2OS-48h-P3-L1', 'specs935-v1-FA-P015081-U2OS-48h-P3-L2', 'specs935-v1-FA-P015082-U2OS-48h-P4-L1', 'specs935-v1-FA-P015083-U2OS-48h-P4-L2', 'specs935-v1-FA-P015083-U2OS-48h-P4-L2-test', 'specs935-v1-FA-P015084-U2OS-48h-P5-L1', 'specs935-v1-FA-P015085-U2OS-48h-P5-L2-test', 'specs935-v1-FA-P015086-U2OS-48h-P6-L1', 'specs935-v1-FA-P015087-U2OS-48h-P6-L2', 'specs935-v1-FA-P015088-U2OS-48h-P7-L1', 'specs935-v1-FA-P015089-U2OS-48h-P7-L2', 'specs935-v1-FA-P015090-U2OS-48h-P8-L1', 'specs935-v1-FA-P015091-U2OS-48h-P8-L2', 'specs935-v1-FA-P015092-U2OS-48h-P9-L1', 'specs935-v1-FA-P015093-U2OS-48h-P9-L2', 'specs935-v1-FA-P015094-U2OS-48h-P10-L1', 'specs935-v1-FA-P015095-U2OS-48h-P10-L2', 'specs935-v1-FA-P015096-U2OS-48h-P11-L1', 'specs935-v1-FA-P015097-U2OS-48h-P11-L2', 'specs935-v1-FA-P015098-U2OS-48h-P12-L1', 'specs935-v1-FA-P015099-U2OS-48h-P12-L2', 'test_plate_001']\n"
     ]
    }
   ],
   "source": [
    "InputFolders = []\n",
    "NameContains = input(\"Enter part of name(s) of the folders: \") # e.g.: TX-.*GR-v2\n",
    "for f in (f for f in os.listdir(BaseDir) if re.match(NameContains, f)):\n",
    "    InputFolders.append(f)\n",
    "InputFolders.sort()\n",
    "print ('InputFolders: ' + str(InputFolders))"
   ]
  },
  {
   "cell_type": "markdown",
   "metadata": {},
   "source": [
    "### Output directory"
   ]
  },
  {
   "cell_type": "code",
   "execution_count": 4,
   "metadata": {},
   "outputs": [
    {
     "ename": "FileNotFoundError",
     "evalue": "[Errno 2] No such file or directory: ''",
     "output_type": "error",
     "traceback": [
      "\u001b[0;31m---------------------------------------------------------------------------\u001b[0m",
      "\u001b[0;31mFileNotFoundError\u001b[0m                         Traceback (most recent call last)",
      "\u001b[1;32m/Users/chririn/Documents/Code/2D_analysis_v2/2_FeaturesForImages_Mean.ipynb Cell 7\u001b[0m in \u001b[0;36m<cell line: 2>\u001b[0;34m()\u001b[0m\n\u001b[1;32m      <a href='vscode-notebook-cell:/Users/chririn/Documents/Code/2D_analysis_v2/2_FeaturesForImages_Mean.ipynb#W6sZmlsZQ%3D%3D?line=0'>1</a>\u001b[0m OutputDir \u001b[39m=\u001b[39m \u001b[39minput\u001b[39m(\u001b[39m\"\u001b[39m\u001b[39mEnter name for output folder: \u001b[39m\u001b[39m\"\u001b[39m) \u001b[39m# e.g.: ImageMeanFeatures\u001b[39;00m\n\u001b[1;32m      <a href='vscode-notebook-cell:/Users/chririn/Documents/Code/2D_analysis_v2/2_FeaturesForImages_Mean.ipynb#W6sZmlsZQ%3D%3D?line=1'>2</a>\u001b[0m \u001b[39mif\u001b[39;00m \u001b[39mnot\u001b[39;00m os\u001b[39m.\u001b[39mpath\u001b[39m.\u001b[39mexists(OutputDir): \n\u001b[0;32m----> <a href='vscode-notebook-cell:/Users/chririn/Documents/Code/2D_analysis_v2/2_FeaturesForImages_Mean.ipynb#W6sZmlsZQ%3D%3D?line=2'>3</a>\u001b[0m     os\u001b[39m.\u001b[39;49mmakedirs(OutputDir)\n",
      "File \u001b[0;32m~/opt/anaconda3/lib/python3.8/os.py:223\u001b[0m, in \u001b[0;36mmakedirs\u001b[0;34m(name, mode, exist_ok)\u001b[0m\n\u001b[1;32m    221\u001b[0m         \u001b[39mreturn\u001b[39;00m\n\u001b[1;32m    222\u001b[0m \u001b[39mtry\u001b[39;00m:\n\u001b[0;32m--> 223\u001b[0m     mkdir(name, mode)\n\u001b[1;32m    224\u001b[0m \u001b[39mexcept\u001b[39;00m \u001b[39mOSError\u001b[39;00m:\n\u001b[1;32m    225\u001b[0m     \u001b[39m# Cannot rely on checking for EEXIST, since the operating system\u001b[39;00m\n\u001b[1;32m    226\u001b[0m     \u001b[39m# could give priority to other errors like EACCES or EROFS\u001b[39;00m\n\u001b[1;32m    227\u001b[0m     \u001b[39mif\u001b[39;00m \u001b[39mnot\u001b[39;00m exist_ok \u001b[39mor\u001b[39;00m \u001b[39mnot\u001b[39;00m path\u001b[39m.\u001b[39misdir(name):\n",
      "\u001b[0;31mFileNotFoundError\u001b[0m: [Errno 2] No such file or directory: ''"
     ]
    }
   ],
   "source": [
    "OutputDir = input(\"Enter name for output folder: \") # e.g.: ImageMeanFeatures\n",
    "if not os.path.exists(OutputDir): \n",
    "    os.makedirs(OutputDir)"
   ]
  },
  {
   "cell_type": "code",
   "execution_count": null,
   "metadata": {},
   "outputs": [
    {
     "name": "stdout",
     "output_type": "stream",
     "text": [
      "Current date and time : \n",
      "2022-10-21 15:04:12\n"
     ]
    }
   ],
   "source": [
    "now = datetime.datetime.now()\n",
    "print ('Current date and time : ')\n",
    "print (now.strftime('%Y-%m-%d %H:%M:%S'))"
   ]
  },
  {
   "cell_type": "code",
   "execution_count": null,
   "metadata": {},
   "outputs": [
    {
     "name": "stdout",
     "output_type": "stream",
     "text": [
      "/Volumes/data/cellprofiler/automation/results/colo44-v1-FA-P017365-CACO2-48h-P1-L1/1610/2543/featICF_nuclei.csv\n",
      "(400758, 754)\n"
     ]
    },
    {
     "name": "stderr",
     "output_type": "stream",
     "text": [
      "/var/folders/bx/43bwk4n57dj9446w1ddn_7t40000gn/T/ipykernel_34160/154669284.py:21: FutureWarning: The frame.append method is deprecated and will be removed from pandas in a future version. Use pandas.concat instead.\n",
      "  DataFromFolder = DataFromFolder.append(DataFromOneFile.iloc[:,:], ignore_index=True)\n"
     ]
    },
    {
     "name": "stdout",
     "output_type": "stream",
     "text": [
      "(400758, 754)\n"
     ]
    },
    {
     "name": "stderr",
     "output_type": "stream",
     "text": [
      "/var/folders/bx/43bwk4n57dj9446w1ddn_7t40000gn/T/ipykernel_34160/154669284.py:24: FutureWarning: The frame.append method is deprecated and will be removed from pandas in a future version. Use pandas.concat instead.\n",
      "  DataFrameDictionary[obj] = DataFrameDictionary[obj].append(DataFromFolder.iloc[:,:], ignore_index=True)\n"
     ]
    },
    {
     "name": "stdout",
     "output_type": "stream",
     "text": [
      "Found 1 files\n",
      "Dataframe contains 754 columns and 400758 rows.\n",
      "/Volumes/data/cellprofiler/automation/results/colo44-v1-FA-P017365-CACO2-48h-P1-L1/1610/2543/featICF_cells.csv\n",
      "(272524, 754)\n"
     ]
    },
    {
     "name": "stderr",
     "output_type": "stream",
     "text": [
      "/var/folders/bx/43bwk4n57dj9446w1ddn_7t40000gn/T/ipykernel_34160/154669284.py:21: FutureWarning: The frame.append method is deprecated and will be removed from pandas in a future version. Use pandas.concat instead.\n",
      "  DataFromFolder = DataFromFolder.append(DataFromOneFile.iloc[:,:], ignore_index=True)\n"
     ]
    },
    {
     "name": "stdout",
     "output_type": "stream",
     "text": [
      "(272524, 754)\n"
     ]
    },
    {
     "name": "stderr",
     "output_type": "stream",
     "text": [
      "/var/folders/bx/43bwk4n57dj9446w1ddn_7t40000gn/T/ipykernel_34160/154669284.py:24: FutureWarning: The frame.append method is deprecated and will be removed from pandas in a future version. Use pandas.concat instead.\n",
      "  DataFrameDictionary[obj] = DataFrameDictionary[obj].append(DataFromFolder.iloc[:,:], ignore_index=True)\n"
     ]
    },
    {
     "name": "stdout",
     "output_type": "stream",
     "text": [
      "Found 1 files\n",
      "Dataframe contains 754 columns and 272524 rows.\n",
      "/Volumes/data/cellprofiler/automation/results/colo44-v1-FA-P017365-CACO2-48h-P1-L1/1610/2543/featICF_cytoplasm.csv\n",
      "(272521, 745)\n"
     ]
    },
    {
     "name": "stderr",
     "output_type": "stream",
     "text": [
      "/var/folders/bx/43bwk4n57dj9446w1ddn_7t40000gn/T/ipykernel_34160/154669284.py:21: FutureWarning: The frame.append method is deprecated and will be removed from pandas in a future version. Use pandas.concat instead.\n",
      "  DataFromFolder = DataFromFolder.append(DataFromOneFile.iloc[:,:], ignore_index=True)\n"
     ]
    },
    {
     "name": "stdout",
     "output_type": "stream",
     "text": [
      "(272521, 745)\n"
     ]
    },
    {
     "name": "stderr",
     "output_type": "stream",
     "text": [
      "/var/folders/bx/43bwk4n57dj9446w1ddn_7t40000gn/T/ipykernel_34160/154669284.py:24: FutureWarning: The frame.append method is deprecated and will be removed from pandas in a future version. Use pandas.concat instead.\n",
      "  DataFrameDictionary[obj] = DataFrameDictionary[obj].append(DataFromFolder.iloc[:,:], ignore_index=True)\n"
     ]
    },
    {
     "name": "stdout",
     "output_type": "stream",
     "text": [
      "Found 1 files\n",
      "Dataframe contains 745 columns and 272521 rows.\n",
      "(400758, 1508)\n",
      "(400758, 2253)\n",
      "(396065, 2253)\n",
      "Input: colo44\n",
      "Output: colo44\n",
      "Dataset shape: (396065, 2253)\n",
      "B C D E F G H I J K L M N O\n",
      "02 03 04 05 06 07 08 09 10 11 12 13 14 15 16 17 18 19 20 21 22 23\n",
      "Number of sites: 9\n",
      "Number of wells: 308 (full plate is 308)\n",
      "Found 2187 numeric columns\n",
      "XXXXXXXXXXXXXXXXXXXXXXXXXXXXXXXXXXXXXXX\n",
      "Now the shape of image dataset is: (2758, 2187)\n",
      "XXXXXXXXXXXXXXXXXXXXXXXXXXXXXXXXXXXXXXX\n",
      "/Volumes/data/cellprofiler/automation/results/colo44-v1-FA-P017366-CACO2-48h-P1-L2/1612/2542/featICF_nuclei.csv\n",
      "(313791, 754)\n"
     ]
    },
    {
     "name": "stderr",
     "output_type": "stream",
     "text": [
      "/var/folders/bx/43bwk4n57dj9446w1ddn_7t40000gn/T/ipykernel_34160/154669284.py:21: FutureWarning: The frame.append method is deprecated and will be removed from pandas in a future version. Use pandas.concat instead.\n",
      "  DataFromFolder = DataFromFolder.append(DataFromOneFile.iloc[:,:], ignore_index=True)\n"
     ]
    },
    {
     "name": "stdout",
     "output_type": "stream",
     "text": [
      "(313791, 754)\n"
     ]
    },
    {
     "name": "stderr",
     "output_type": "stream",
     "text": [
      "/var/folders/bx/43bwk4n57dj9446w1ddn_7t40000gn/T/ipykernel_34160/154669284.py:24: FutureWarning: The frame.append method is deprecated and will be removed from pandas in a future version. Use pandas.concat instead.\n",
      "  DataFrameDictionary[obj] = DataFrameDictionary[obj].append(DataFromFolder.iloc[:,:], ignore_index=True)\n"
     ]
    },
    {
     "name": "stdout",
     "output_type": "stream",
     "text": [
      "Found 1 files\n",
      "Dataframe contains 754 columns and 313791 rows.\n",
      "/Volumes/data/cellprofiler/automation/results/colo44-v1-FA-P017366-CACO2-48h-P1-L2/1612/2542/featICF_cells.csv\n",
      "(212060, 754)\n"
     ]
    },
    {
     "name": "stderr",
     "output_type": "stream",
     "text": [
      "/var/folders/bx/43bwk4n57dj9446w1ddn_7t40000gn/T/ipykernel_34160/154669284.py:21: FutureWarning: The frame.append method is deprecated and will be removed from pandas in a future version. Use pandas.concat instead.\n",
      "  DataFromFolder = DataFromFolder.append(DataFromOneFile.iloc[:,:], ignore_index=True)\n"
     ]
    },
    {
     "name": "stdout",
     "output_type": "stream",
     "text": [
      "(212060, 754)\n"
     ]
    },
    {
     "name": "stderr",
     "output_type": "stream",
     "text": [
      "/var/folders/bx/43bwk4n57dj9446w1ddn_7t40000gn/T/ipykernel_34160/154669284.py:24: FutureWarning: The frame.append method is deprecated and will be removed from pandas in a future version. Use pandas.concat instead.\n",
      "  DataFrameDictionary[obj] = DataFrameDictionary[obj].append(DataFromFolder.iloc[:,:], ignore_index=True)\n"
     ]
    },
    {
     "name": "stdout",
     "output_type": "stream",
     "text": [
      "Found 1 files\n",
      "Dataframe contains 754 columns and 212060 rows.\n",
      "/Volumes/data/cellprofiler/automation/results/colo44-v1-FA-P017366-CACO2-48h-P1-L2/1612/2542/featICF_cytoplasm.csv\n",
      "(212056, 745)\n"
     ]
    },
    {
     "name": "stderr",
     "output_type": "stream",
     "text": [
      "/var/folders/bx/43bwk4n57dj9446w1ddn_7t40000gn/T/ipykernel_34160/154669284.py:21: FutureWarning: The frame.append method is deprecated and will be removed from pandas in a future version. Use pandas.concat instead.\n",
      "  DataFromFolder = DataFromFolder.append(DataFromOneFile.iloc[:,:], ignore_index=True)\n"
     ]
    },
    {
     "name": "stdout",
     "output_type": "stream",
     "text": [
      "(212056, 745)\n"
     ]
    },
    {
     "name": "stderr",
     "output_type": "stream",
     "text": [
      "/var/folders/bx/43bwk4n57dj9446w1ddn_7t40000gn/T/ipykernel_34160/154669284.py:24: FutureWarning: The frame.append method is deprecated and will be removed from pandas in a future version. Use pandas.concat instead.\n",
      "  DataFrameDictionary[obj] = DataFrameDictionary[obj].append(DataFromFolder.iloc[:,:], ignore_index=True)\n"
     ]
    },
    {
     "name": "stdout",
     "output_type": "stream",
     "text": [
      "Found 1 files\n",
      "Dataframe contains 745 columns and 212056 rows.\n",
      "(313791, 1508)\n",
      "(313791, 2253)\n",
      "(311533, 2253)\n",
      "Input: colo44\n",
      "Output: colo44\n",
      "Dataset shape: (311533, 2253)\n",
      "B C D E F G H I J K L M N O\n",
      "02 03 04 05 06 07 08 09 10 11 12 13 14 15 16 17 18 19 20 21 22 23\n",
      "Number of sites: 9\n",
      "Number of wells: 308 (full plate is 308)\n",
      "Found 2187 numeric columns\n",
      "XXXXXXXXXXXXXXXXXXXXXXXXXXXXXXXXXXXXXXX\n",
      "Now the shape of image dataset is: (5517, 2187)\n",
      "XXXXXXXXXXXXXXXXXXXXXXXXXXXXXXXXXXXXXXX\n",
      "/Volumes/data/cellprofiler/automation/results/colo44-v1-FA-P017367-CACO2-48h-P2-L1/1611/2544/featICF_nuclei.csv\n",
      "(412715, 754)\n"
     ]
    },
    {
     "name": "stderr",
     "output_type": "stream",
     "text": [
      "/var/folders/bx/43bwk4n57dj9446w1ddn_7t40000gn/T/ipykernel_34160/154669284.py:21: FutureWarning: The frame.append method is deprecated and will be removed from pandas in a future version. Use pandas.concat instead.\n",
      "  DataFromFolder = DataFromFolder.append(DataFromOneFile.iloc[:,:], ignore_index=True)\n"
     ]
    },
    {
     "name": "stdout",
     "output_type": "stream",
     "text": [
      "(412715, 754)\n"
     ]
    },
    {
     "name": "stderr",
     "output_type": "stream",
     "text": [
      "/var/folders/bx/43bwk4n57dj9446w1ddn_7t40000gn/T/ipykernel_34160/154669284.py:24: FutureWarning: The frame.append method is deprecated and will be removed from pandas in a future version. Use pandas.concat instead.\n",
      "  DataFrameDictionary[obj] = DataFrameDictionary[obj].append(DataFromFolder.iloc[:,:], ignore_index=True)\n"
     ]
    },
    {
     "name": "stdout",
     "output_type": "stream",
     "text": [
      "Found 1 files\n",
      "Dataframe contains 754 columns and 412715 rows.\n",
      "/Volumes/data/cellprofiler/automation/results/colo44-v1-FA-P017367-CACO2-48h-P2-L1/1611/2544/featICF_cells.csv\n",
      "(280331, 754)\n"
     ]
    },
    {
     "name": "stderr",
     "output_type": "stream",
     "text": [
      "/var/folders/bx/43bwk4n57dj9446w1ddn_7t40000gn/T/ipykernel_34160/154669284.py:21: FutureWarning: The frame.append method is deprecated and will be removed from pandas in a future version. Use pandas.concat instead.\n",
      "  DataFromFolder = DataFromFolder.append(DataFromOneFile.iloc[:,:], ignore_index=True)\n"
     ]
    },
    {
     "name": "stdout",
     "output_type": "stream",
     "text": [
      "(280331, 754)\n"
     ]
    },
    {
     "name": "stderr",
     "output_type": "stream",
     "text": [
      "/var/folders/bx/43bwk4n57dj9446w1ddn_7t40000gn/T/ipykernel_34160/154669284.py:24: FutureWarning: The frame.append method is deprecated and will be removed from pandas in a future version. Use pandas.concat instead.\n",
      "  DataFrameDictionary[obj] = DataFrameDictionary[obj].append(DataFromFolder.iloc[:,:], ignore_index=True)\n"
     ]
    },
    {
     "name": "stdout",
     "output_type": "stream",
     "text": [
      "Found 1 files\n",
      "Dataframe contains 754 columns and 280331 rows.\n",
      "/Volumes/data/cellprofiler/automation/results/colo44-v1-FA-P017367-CACO2-48h-P2-L1/1611/2544/featICF_cytoplasm.csv\n",
      "(280330, 745)\n"
     ]
    },
    {
     "name": "stderr",
     "output_type": "stream",
     "text": [
      "/var/folders/bx/43bwk4n57dj9446w1ddn_7t40000gn/T/ipykernel_34160/154669284.py:21: FutureWarning: The frame.append method is deprecated and will be removed from pandas in a future version. Use pandas.concat instead.\n",
      "  DataFromFolder = DataFromFolder.append(DataFromOneFile.iloc[:,:], ignore_index=True)\n"
     ]
    },
    {
     "name": "stdout",
     "output_type": "stream",
     "text": [
      "(280330, 745)\n"
     ]
    },
    {
     "name": "stderr",
     "output_type": "stream",
     "text": [
      "/var/folders/bx/43bwk4n57dj9446w1ddn_7t40000gn/T/ipykernel_34160/154669284.py:24: FutureWarning: The frame.append method is deprecated and will be removed from pandas in a future version. Use pandas.concat instead.\n",
      "  DataFrameDictionary[obj] = DataFrameDictionary[obj].append(DataFromFolder.iloc[:,:], ignore_index=True)\n"
     ]
    },
    {
     "name": "stdout",
     "output_type": "stream",
     "text": [
      "Found 1 files\n",
      "Dataframe contains 745 columns and 280330 rows.\n",
      "(412715, 1508)\n",
      "(412715, 2253)\n",
      "(410295, 2253)\n",
      "Input: colo44\n",
      "Output: colo44\n",
      "Dataset shape: (410295, 2253)\n",
      "B C D E F G H I J K L M N O\n",
      "02 03 04 05 06 07 08 09 10 11 12 13 14 15 16 17 18 19 20 21 22 23\n",
      "Number of sites: 9\n",
      "Number of wells: 308 (full plate is 308)\n",
      "Found 2187 numeric columns\n",
      "XXXXXXXXXXXXXXXXXXXXXXXXXXXXXXXXXXXXXXX\n",
      "Now the shape of image dataset is: (8284, 2187)\n",
      "XXXXXXXXXXXXXXXXXXXXXXXXXXXXXXXXXXXXXXX\n",
      "/Volumes/data/cellprofiler/automation/results/colo44-v1-FA-P017368-CACO2-48h-P2-L2/1613/2545/featICF_nuclei.csv\n",
      "(325979, 754)\n"
     ]
    },
    {
     "name": "stderr",
     "output_type": "stream",
     "text": [
      "/var/folders/bx/43bwk4n57dj9446w1ddn_7t40000gn/T/ipykernel_34160/154669284.py:21: FutureWarning: The frame.append method is deprecated and will be removed from pandas in a future version. Use pandas.concat instead.\n",
      "  DataFromFolder = DataFromFolder.append(DataFromOneFile.iloc[:,:], ignore_index=True)\n"
     ]
    },
    {
     "name": "stdout",
     "output_type": "stream",
     "text": [
      "(325979, 754)\n"
     ]
    },
    {
     "name": "stderr",
     "output_type": "stream",
     "text": [
      "/var/folders/bx/43bwk4n57dj9446w1ddn_7t40000gn/T/ipykernel_34160/154669284.py:24: FutureWarning: The frame.append method is deprecated and will be removed from pandas in a future version. Use pandas.concat instead.\n",
      "  DataFrameDictionary[obj] = DataFrameDictionary[obj].append(DataFromFolder.iloc[:,:], ignore_index=True)\n"
     ]
    },
    {
     "name": "stdout",
     "output_type": "stream",
     "text": [
      "Found 1 files\n",
      "Dataframe contains 754 columns and 325979 rows.\n",
      "/Volumes/data/cellprofiler/automation/results/colo44-v1-FA-P017368-CACO2-48h-P2-L2/1613/2545/featICF_cells.csv\n",
      "(220658, 754)\n"
     ]
    },
    {
     "name": "stderr",
     "output_type": "stream",
     "text": [
      "/var/folders/bx/43bwk4n57dj9446w1ddn_7t40000gn/T/ipykernel_34160/154669284.py:21: FutureWarning: The frame.append method is deprecated and will be removed from pandas in a future version. Use pandas.concat instead.\n",
      "  DataFromFolder = DataFromFolder.append(DataFromOneFile.iloc[:,:], ignore_index=True)\n"
     ]
    },
    {
     "name": "stdout",
     "output_type": "stream",
     "text": [
      "(220658, 754)\n"
     ]
    },
    {
     "name": "stderr",
     "output_type": "stream",
     "text": [
      "/var/folders/bx/43bwk4n57dj9446w1ddn_7t40000gn/T/ipykernel_34160/154669284.py:24: FutureWarning: The frame.append method is deprecated and will be removed from pandas in a future version. Use pandas.concat instead.\n",
      "  DataFrameDictionary[obj] = DataFrameDictionary[obj].append(DataFromFolder.iloc[:,:], ignore_index=True)\n"
     ]
    },
    {
     "name": "stdout",
     "output_type": "stream",
     "text": [
      "Found 1 files\n",
      "Dataframe contains 754 columns and 220658 rows.\n",
      "/Volumes/data/cellprofiler/automation/results/colo44-v1-FA-P017368-CACO2-48h-P2-L2/1613/2545/featICF_cytoplasm.csv\n",
      "(220656, 745)\n"
     ]
    },
    {
     "name": "stderr",
     "output_type": "stream",
     "text": [
      "/var/folders/bx/43bwk4n57dj9446w1ddn_7t40000gn/T/ipykernel_34160/154669284.py:21: FutureWarning: The frame.append method is deprecated and will be removed from pandas in a future version. Use pandas.concat instead.\n",
      "  DataFromFolder = DataFromFolder.append(DataFromOneFile.iloc[:,:], ignore_index=True)\n"
     ]
    },
    {
     "name": "stdout",
     "output_type": "stream",
     "text": [
      "(220656, 745)\n"
     ]
    },
    {
     "name": "stderr",
     "output_type": "stream",
     "text": [
      "/var/folders/bx/43bwk4n57dj9446w1ddn_7t40000gn/T/ipykernel_34160/154669284.py:24: FutureWarning: The frame.append method is deprecated and will be removed from pandas in a future version. Use pandas.concat instead.\n",
      "  DataFrameDictionary[obj] = DataFrameDictionary[obj].append(DataFromFolder.iloc[:,:], ignore_index=True)\n"
     ]
    },
    {
     "name": "stdout",
     "output_type": "stream",
     "text": [
      "Found 1 files\n",
      "Dataframe contains 745 columns and 220656 rows.\n",
      "(325979, 1508)\n",
      "(325979, 2253)\n",
      "(324150, 2253)\n",
      "Input: colo44\n",
      "Output: colo44\n",
      "Dataset shape: (324150, 2253)\n",
      "B C D E F G H I J K L M N O\n",
      "02 03 04 05 06 07 08 09 10 11 12 13 14 15 16 17 18 19 20 21 22 23\n",
      "Number of sites: 9\n",
      "Number of wells: 308 (full plate is 308)\n",
      "Found 2187 numeric columns\n",
      "XXXXXXXXXXXXXXXXXXXXXXXXXXXXXXXXXXXXXXX\n",
      "Now the shape of image dataset is: (11055, 2187)\n",
      "XXXXXXXXXXXXXXXXXXXXXXXXXXXXXXXXXXXXXXX\n"
     ]
    }
   ],
   "source": [
    "groupedbyImageAllPlates = pd.DataFrame()\n",
    "\n",
    "for oneplate in InputFolders[:]:\n",
    "\n",
    "        DataFrameDictionary = {}\n",
    "        ObjectList = ['featICF_nuclei', 'featICF_cells', 'featICF_cytoplasm', 'featICF_Image']\n",
    "        for obj in ObjectList:\n",
    "            DataFrameDictionary[obj] = pd.DataFrame()\n",
    "            ReadingFile = 0\n",
    "            #for InpF in InputFolders:\n",
    "            DataFromFolder =  pd.DataFrame()\n",
    "            feature_files = glob.glob(BaseDir + '/*' + oneplate + '*/*/*/' + obj + '.csv', recursive=True)\n",
    "          \n",
    "            \n",
    "            \n",
    "            for file in feature_files[-1:]:\n",
    "                print(file)\n",
    "                DataFromOneFile =  pd.read_csv(file, sep=\",\", low_memory=False)\n",
    "                print(DataFromOneFile.shape)\n",
    "                ReadingFile += 1    \n",
    "                DataFromFolder = DataFromFolder.append(DataFromOneFile.iloc[:,:], ignore_index=True)\n",
    "                print(DataFromFolder.shape)\n",
    "\n",
    "                DataFrameDictionary[obj] = DataFrameDictionary[obj].append(DataFromFolder.iloc[:,:], ignore_index=True)\n",
    "            DataFrameDictionary[obj].columns = [str(col) + '_' + re.sub('_.*', '', re.sub('featICF_', '', obj)) for col in DataFrameDictionary[obj]]\n",
    "            print('Found %s files' %(ReadingFile))\n",
    "            print ('Dataframe contains {} columns and {} rows.'.format(DataFrameDictionary[obj].shape[1],\n",
    "                                                                  DataFrameDictionary[obj].shape[0]))\n",
    "\n",
    "        df = DataFrameDictionary['featICF_nuclei'].merge(DataFrameDictionary['featICF_cells'], left_on = [ 'Metadata_Barcode_nuclei',\n",
    "        'Metadata_Site_nuclei', 'Metadata_Well_nuclei','Parent_cells_nuclei'],\n",
    "                           right_on = [ 'Metadata_Barcode_cells',\n",
    "        'Metadata_Site_cells', 'Metadata_Well_cells','ObjectNumber_cells'], how='left')\n",
    "        print(df.shape)\n",
    "\n",
    "        df = df.merge(DataFrameDictionary['featICF_cytoplasm'], left_on = [ 'Metadata_Barcode_nuclei',\n",
    "        'Metadata_Site_nuclei', 'Metadata_Well_nuclei','Parent_cells_nuclei'],\n",
    "                           right_on = [ 'Metadata_Barcode_cytoplasm',\n",
    "        'Metadata_Site_cytoplasm', 'Metadata_Well_cytoplasm','ObjectNumber_cytoplasm'], how='left')\n",
    "        print(df.shape)\n",
    "        df.dropna(inplace=True)\n",
    "        df.reset_index(drop=True, inplace=True)\n",
    "        print(df.shape)\n",
    "        print('Input: {}'.format(NameContains))\n",
    "        print('Output: {}'.format(OutputDir))\n",
    "        print('Dataset shape: {}'.format(df.shape))\n",
    "        \n",
    "        del DataFrameDictionary\n",
    "        gc.collect()\n",
    "        \n",
    "        NrOfObjects = df.shape[0]\n",
    "\n",
    "        Wells = sorted(list(set(df['Metadata_Well_nuclei'])))\n",
    "        NrOfWells = len(Wells)\n",
    "        Rows = sorted(list(set([w[0] for w in Wells])))\n",
    "        print(*Rows)\n",
    "        NrOfRows = len(Rows)\n",
    "        Columns = sorted(list(set([w[1:] for w in Wells])))\n",
    "        NrOfColumns = len(Columns)\n",
    "        print(*Columns)\n",
    "        Sites = sorted(list(set(df['Metadata_Site_nuclei'])))\n",
    "        NrOfSites = len(Sites)\n",
    "        # print('Plate complete: {}'.format(NrOfRows*NrOfColumns==NrOfWells))\n",
    "        print('Number of sites: {}'.format(NrOfSites))\n",
    "        AllWells =[]\n",
    "        for R in Rows:\n",
    "            for C in Columns:\n",
    "                RC = R + C\n",
    "                # print(RC)\n",
    "                AllWells += [RC]\n",
    "        # print(len(AllWells))\n",
    "        print('Number of wells: {} (full plate is {})'.format(NrOfWells, len(AllWells)))\n",
    "        \n",
    "        df['ImageID'] =  df['Metadata_Barcode_nuclei'] + '_' + df['Metadata_Well_nuclei'] + '_' + df['Metadata_Site_nuclei'].astype(str)\n",
    "\n",
    "        numeric_columns = list()\n",
    "        for a in df.columns:\n",
    "            if (df.dtypes[a] == 'float64') | (df.dtypes[a] == 'int64') :\n",
    "                numeric_columns.append(a)\n",
    "        print('Found {} numeric columns'.format(len(numeric_columns)))\n",
    "\n",
    "        dictOfnumeric = { i : np.nanmean for i in numeric_columns}\n",
    "\n",
    "        groupedbyImage = df.groupby('ImageID').agg(dictOfnumeric)\n",
    "        groupedbyImage.to_csv('{}/ImageMeansPlate{}.csv'.format(OutputDir, oneplate), sep=';')\n",
    "        frames = [groupedbyImageAllPlates, groupedbyImage]\n",
    "        groupedbyImageAllPlates = pd.concat(frames)\n",
    "        print('XXXXXXXXXXXXXXXXXXXXXXXXXXXXXXXXXXXXXXX')\n",
    "        print('Now the shape of image dataset is: {}'.format(groupedbyImageAllPlates.shape))\n",
    "        print('XXXXXXXXXXXXXXXXXXXXXXXXXXXXXXXXXXXXXXX')\n",
    "        del df\n",
    "        del groupedbyImage\n",
    "        gc.collect()\n",
    "        \n",
    "groupedbyImageAllPlates.to_csv('{}/ImageMeansAllPlates.csv'.format(OutputDir), sep=';')"
   ]
  },
  {
   "cell_type": "code",
   "execution_count": null,
   "metadata": {},
   "outputs": [
    {
     "name": "stdout",
     "output_type": "stream",
     "text": [
      "Current date and time : \n",
      "2022-10-21 15:50:37\n"
     ]
    }
   ],
   "source": [
    "now = datetime.datetime.now()\n",
    "print ('Current date and time : ')\n",
    "print (now.strftime('%Y-%m-%d %H:%M:%S'))"
   ]
  }
 ],
 "metadata": {
  "kernelspec": {
   "display_name": "Python 3.8.5 ('base')",
   "language": "python",
   "name": "python3"
  },
  "language_info": {
   "codemirror_mode": {
    "name": "ipython",
    "version": 3
   },
   "file_extension": ".py",
   "mimetype": "text/x-python",
   "name": "python",
   "nbconvert_exporter": "python",
   "pygments_lexer": "ipython3",
   "version": "3.8.13"
  },
  "vscode": {
   "interpreter": {
    "hash": "ca771c708675e285589a868532788645e17ab6e57445e5f70eb941d5377cba2b"
   }
  }
 },
 "nbformat": 4,
 "nbformat_minor": 4
}
