{
 "cells": [
  {
   "attachments": {},
   "cell_type": "markdown",
   "metadata": {},
   "source": [
    "## Pycytominer example pipeline\n",
    "requires scipy=<1.7.3\n"
   ]
  },
  {
   "cell_type": "markdown",
   "metadata": {},
   "source": [
    "### Set-up"
   ]
  },
  {
   "cell_type": "code",
   "execution_count": 1,
   "metadata": {},
   "outputs": [
    {
     "name": "stderr",
     "output_type": "stream",
     "text": [
      "2024-07-31 09:27:58.224771: I tensorflow/core/platform/cpu_feature_guard.cc:182] This TensorFlow binary is optimized to use available CPU instructions in performance-critical operations.\n",
      "To enable the following instructions: AVX2 FMA, in other operations, rebuild TensorFlow with the appropriate compiler flags.\n"
     ]
    },
    {
     "name": "stdout",
     "output_type": "stream",
     "text": [
      "/share/data/analyses/christa/colopaint3D/maxproject_features\n",
      "/share/data/analyses/christa/colopaint3D/maxproject_features\n"
     ]
    }
   ],
   "source": [
    "import os\n",
    "import numpy as np\n",
    "import pandas as pd\n",
    "import string\n",
    "\n",
    "# pycytominer\n",
    "# from pycytominer import aggregate\n",
    "from pycytominer import annotate\n",
    "# from pycytominer import consensus\n",
    "from pycytominer import feature_select\n",
    "from pycytominer import normalize\n",
    "\n",
    "\n",
    "# Set current working directory\n",
    "print(os.getcwd())\n",
    "os.chdir('../maxproject_features/')\n",
    "print(os.getcwd())"
   ]
  },
  {
   "cell_type": "code",
   "execution_count": 2,
   "metadata": {},
   "outputs": [],
   "source": [
    "OutputDir = \"results\" # Where do you want to save the merged data csv? \n",
    "if not os.path.exists(OutputDir):\n",
    "    os.makedirs(OutputDir)\n",
    "\n",
    "cells = ['HCT116', 'HT29']"
   ]
  },
  {
   "cell_type": "code",
   "execution_count": 3,
   "metadata": {},
   "outputs": [],
   "source": [
    "## Figure settings \n",
    "\n",
    "dpi = 300\n",
    "figsize = (2.24, 2.24)\n",
    "\n",
    "mpl.rcParams['pdf.fonttype'] = 42  \n",
    "mpl.rcParams['ps.fonttype'] = 42  \n",
    "\n",
    "\n",
    "# Font sizes\n",
    "title_size = 12\n",
    "axis_label_size = 10\n",
    "label_size = 6\n"
   ]
  },
  {
   "cell_type": "markdown",
   "metadata": {},
   "source": [
    "### Perfrom quality control\n",
    "\n"
   ]
  },
  {
   "cell_type": "code",
   "execution_count": 4,
   "metadata": {},
   "outputs": [],
   "source": [
    "### Some settings\n",
    "\n",
    "features = ['ImageQuality_PowerLogLogSlope_PHAandWGA', 'ImageQuality_PowerLogLogSlope_HOECHST', 'ImageQuality_PowerLogLogSlope_CONC','ImageQuality_PowerLogLogSlope_SYTO', 'ImageQuality_PowerLogLogSlope_MITO']\n",
    "plates = [\"PB000137\", \"PB000138\", \"PB000139\", \"PB000140\", \"PB000141\", \"PB000142\"]\n",
    "\n",
    "cutoff = 0.93"
   ]
  },
  {
   "cell_type": "code",
   "execution_count": 5,
   "metadata": {},
   "outputs": [],
   "source": [
    "# Initialize the dataframe\n",
    "QC = pd.DataFrame()\n",
    "\n",
    "for plate in plates:\n",
    "    # Import QC for all cell lines \n",
    "    QCfile = \"/share/data/cellprofiler/automation/results/spher-colo52/{}/QC/qcRAW_images.csv\".format(plate)\n",
    "\n",
    "    # Import the data\n",
    "    data = pd.read_csv(QCfile, index_col=0)\n",
    "    data['barcode'] = plate\n",
    "\n",
    "    data['flag'] = 0\n",
    "    for feature in features: \n",
    "        data['flag'] = data['flag'] + (data[feature] > data[feature].quantile(cutoff)).astype(int)\n",
    "\n",
    "    # Merge the data\n",
    "    QC = pd.concat([QC, data])\n",
    "    \n",
    "\n",
    "# Update the source layout to match the new well assignments \n",
    "QC['well'] = QC['FileName_CONC'].str.split('-', expand=True)[1]\n",
    "QC['well_number'] = QC['well'].str.split('(\\d+)', expand=True)[1].str.lstrip('0').astype(int)\n",
    "QC['well_letter'] = QC['well'].str.split('(\\d+)', expand=True)[0].map(lambda x: ord(x) - 64)\n",
    "\n",
    "QC['plate_well'] = QC['well'] + \"_\" + QC['barcode']\n",
    "\n",
    "# Save the merged data\n",
    "QC.to_csv(\"{}/QCFlags.csv\".format(OutputDir), index=False)"
   ]
  },
  {
   "cell_type": "code",
   "execution_count": 6,
   "metadata": {},
   "outputs": [],
   "source": [
    "## QC\n",
    "\n",
    "for plate in plates:\n",
    "\n",
    "    # define a 386-well plate\n",
    "    cols = 24\n",
    "    rows = 16\n",
    "\n",
    "    heatmap = np.zeros((rows,cols))\n",
    "\n",
    "    plot_df = QC[QC['barcode'] == plate]\n",
    "\n",
    "    for i in range(len(plot_df)):\n",
    "        heatmap[plot_df['well_letter'].iloc[i]-1,plot_df['well_number'].iloc[i]-1] = plot_df['flag'].iloc[i]\n",
    "\n",
    "    fig = plt.figure(figsize=figsize, dpi=dpi)\n",
    "   \n",
    "    %matplotlib inline\n",
    "    yticklabels= list(string.ascii_uppercase)[:16]\n",
    "    xticklabels = range(1, 25)\n",
    "\n",
    "    ax = sns.heatmap(heatmap, linewidths=1, cmap='Reds', yticklabels=yticklabels, xticklabels=xticklabels, cbar=False)\n",
    "    ax.set_title('# Flags: {}'.format(plate), fontsize=title_size)\n",
    "    ax.xaxis.tick_top()\n",
    "    # Hide major ticks but keep the labels\n",
    "    ax.tick_params(axis='both', which='both', length=0)\n",
    "\n",
    "    # We change the fontsize of minor ticks label \n",
    "    ax.tick_params(axis='both', labelsize=6)\n",
    "\n",
    "    # box tight\n",
    "    plt.tight_layout()\n",
    "\n",
    "    plt.savefig(\"{}/{}_QC.pdf\".format(OutputDir, plate), dpi=dpi)\n",
    "    plt.close()\n",
    "\n",
    "    \n"
   ]
  },
  {
   "attachments": {},
   "cell_type": "markdown",
   "metadata": {},
   "source": [
    "### Preprocess with pycytominer"
   ]
  },
  {
   "cell_type": "code",
   "execution_count": 8,
   "metadata": {},
   "outputs": [
    {
     "name": "stdout",
     "output_type": "stream",
     "text": [
      "Data PB000137 :\n",
      " (287, 738)\n",
      "XXX (287, 738)\n",
      "Data PB000138 :\n",
      " (287, 738)\n",
      "XXX (574, 738)\n",
      "Data PB000139 :\n",
      " (264, 738)\n",
      "XXX (838, 738)\n",
      "Data PB000140 :\n",
      " (264, 738)\n",
      "XXX (1102, 738)\n",
      "Data PB000141 :\n",
      " (254, 738)\n",
      "XXX (1356, 738)\n",
      "Data PB000142 :\n",
      " (260, 738)\n",
      "XXX (1616, 738)\n",
      "Data before QC:\n",
      " (1616, 741)\n",
      "Data after QC:\n",
      " (1460, 741) \n",
      "\n",
      "There are so many nans:\n",
      " Metadata_Channel         1460\n",
      "Metadata_Channel.1       1460\n",
      "Metadata_FileLocation    1460\n",
      "dtype: int64\n"
     ]
    }
   ],
   "source": [
    "## Import data and remove QC flags\n",
    "\n",
    "data = pd.DataFrame()\n",
    "\n",
    "for plate in plates:\n",
    "    # Import QC for all cell lines \n",
    "    data_file = \"/share/data/cellprofiler/automation/results/spher-colo52/{}/results/featICF_spheroid.csv\".format(plate)\n",
    "\n",
    "    # Import the data\n",
    "    tmp= pd.read_csv(data_file, index_col=0)\n",
    "    tmp['barcode'] = plate\n",
    "\n",
    "    print(\"Data\", plate ,\":\\n\", tmp.shape)\n",
    "\n",
    "    # Merge the data\n",
    "    data = pd.concat([data, tmp])\n",
    "    print(\"XXX\", data.shape)\n",
    "\n",
    "# Rename the plate_well using Metadata_barcode and well_id\n",
    "data['plate_well'] = data['Metadata_Well'] + \"_\" + data['barcode']\n",
    "\n",
    "df = data.merge(QC[['plate_well', 'well', 'flag']], left_on=['plate_well'], right_on=['plate_well'])\n",
    "\n",
    "print(\"Data before QC:\\n\", df.shape)\n",
    "\n",
    "# Filter out wells with 2 or more flags\n",
    "df = df[df['flag'] < 2]\n",
    "\n",
    "print(\"Data after QC:\\n\", df.shape, \"\\n\")\n",
    "\n",
    "\n",
    "## Are there any NaNs? \n",
    "nans = df.isna().sum()\n",
    "nans = nans[nans > 0]\n",
    "\n",
    "print(\"There are so many nans:\\n\", nans)"
   ]
  },
  {
   "cell_type": "code",
   "execution_count": 9,
   "metadata": {},
   "outputs": [],
   "source": [
    "# Remove non-data features from the list of features\n",
    "ListOfFeatures = list(df.columns.values)\n",
    "ListOfMetadata = list(df.columns[\n",
    "    df.columns.str.contains(\"FileName_\") |\n",
    "    df.columns.str.contains(\"PathName_\") |\n",
    "    df.columns.str.contains(\"Metadata_\")])\n",
    "ListOfFeatures = list(set(ListOfFeatures) - set(ListOfMetadata) - set(['ObjectNumber', 'Number_Object_Number', 'well', 'flag']))\n",
    "\n",
    "# ListOfMetadataNew = [\"Metadata_Well\", \"cell_line\"] \n",
    "\n",
    "# Remove all metadata, paths and filenames except for the well_id\n",
    "df = df[ListOfFeatures +  [\"Metadata_Well\"]]"
   ]
  },
  {
   "cell_type": "code",
   "execution_count": 10,
   "metadata": {},
   "outputs": [
    {
     "name": "stdout",
     "output_type": "stream",
     "text": [
      "(1848, 28)\n"
     ]
    },
    {
     "data": {
      "text/html": [
       "<div>\n",
       "<style scoped>\n",
       "    .dataframe tbody tr th:only-of-type {\n",
       "        vertical-align: middle;\n",
       "    }\n",
       "\n",
       "    .dataframe tbody tr th {\n",
       "        vertical-align: top;\n",
       "    }\n",
       "\n",
       "    .dataframe thead th {\n",
       "        text-align: right;\n",
       "    }\n",
       "</style>\n",
       "<table border=\"1\" class=\"dataframe\">\n",
       "  <thead>\n",
       "    <tr style=\"text-align: right;\">\n",
       "      <th></th>\n",
       "      <th>layout_id</th>\n",
       "      <th>well_id</th>\n",
       "      <th>image_id</th>\n",
       "      <th>cp_id</th>\n",
       "      <th>barcode</th>\n",
       "      <th>plate_well</th>\n",
       "      <th>cmpd_code</th>\n",
       "      <th>cmpdname</th>\n",
       "      <th>solvent</th>\n",
       "      <th>cmpd_conc</th>\n",
       "      <th>...</th>\n",
       "      <th>article_id</th>\n",
       "      <th>target</th>\n",
       "      <th>pathway</th>\n",
       "      <th>pubchemID</th>\n",
       "      <th>smiles</th>\n",
       "      <th>inkey</th>\n",
       "      <th>target_type</th>\n",
       "      <th>clinical_status</th>\n",
       "      <th>cell_line</th>\n",
       "      <th>name</th>\n",
       "    </tr>\n",
       "  </thead>\n",
       "  <tbody>\n",
       "    <tr>\n",
       "      <th>0</th>\n",
       "      <td>spher-colo52-v1-ULA-PB000137-HCT116-48h-P1-L1</td>\n",
       "      <td>B02</td>\n",
       "      <td>4185</td>\n",
       "      <td>5532</td>\n",
       "      <td>PB000137</td>\n",
       "      <td>B02_PB000137</td>\n",
       "      <td>colo-006</td>\n",
       "      <td>PD0325901</td>\n",
       "      <td>dmso</td>\n",
       "      <td>3.0</td>\n",
       "      <td>...</td>\n",
       "      <td>S1036</td>\n",
       "      <td>MEK</td>\n",
       "      <td>MAPK</td>\n",
       "      <td>9826528.0</td>\n",
       "      <td>OCC(O)CONC(=O)C1=C(NC2=CC=C(I)C=C2F)C(=C(F)C=C1)F</td>\n",
       "      <td>SUDAHWBOROXANE-SECBINFHSA-N</td>\n",
       "      <td>Targeted</td>\n",
       "      <td>Phase 2</td>\n",
       "      <td>HCT116</td>\n",
       "      <td>PD032</td>\n",
       "    </tr>\n",
       "    <tr>\n",
       "      <th>1</th>\n",
       "      <td>spher-colo52-v1-ULA-PB000137-HCT116-48h-P1-L1</td>\n",
       "      <td>B03</td>\n",
       "      <td>4185</td>\n",
       "      <td>5532</td>\n",
       "      <td>PB000137</td>\n",
       "      <td>B03_PB000137</td>\n",
       "      <td>colo-018</td>\n",
       "      <td>Paclitaxel</td>\n",
       "      <td>dmso</td>\n",
       "      <td>0.1</td>\n",
       "      <td>...</td>\n",
       "      <td>S1150</td>\n",
       "      <td>Autophagy,Microtubule Associated</td>\n",
       "      <td>Cytoskeletal Signaling</td>\n",
       "      <td>441276.0</td>\n",
       "      <td>CC(=O)OC1C(=O)C2(C)C(O)CC3OCC3(OC(C)=O)C2C(OC(...</td>\n",
       "      <td>RCINICONZNJXQF-VAZQATRQSA-N</td>\n",
       "      <td>Cytotoxic</td>\n",
       "      <td>Preclinical</td>\n",
       "      <td>HCT116</td>\n",
       "      <td>Pacli</td>\n",
       "    </tr>\n",
       "    <tr>\n",
       "      <th>2</th>\n",
       "      <td>spher-colo52-v1-ULA-PB000137-HCT116-48h-P1-L1</td>\n",
       "      <td>B04</td>\n",
       "      <td>4185</td>\n",
       "      <td>5532</td>\n",
       "      <td>PB000137</td>\n",
       "      <td>B04_PB000137</td>\n",
       "      <td>colo-009</td>\n",
       "      <td>Olaparib (AZD2281, Ku-0059436)</td>\n",
       "      <td>dmso</td>\n",
       "      <td>3.0</td>\n",
       "      <td>...</td>\n",
       "      <td>S1060</td>\n",
       "      <td>PARP</td>\n",
       "      <td>DNA Damage</td>\n",
       "      <td>23725625.0</td>\n",
       "      <td>FC1=C(C=C(CC2=NNC(=O)C3=C2C=CC=C3)C=C1)C(=O)N4...</td>\n",
       "      <td>FDLYAMZZIXQODN-UHFFFAOYSA-N</td>\n",
       "      <td>Targeted</td>\n",
       "      <td>Launched</td>\n",
       "      <td>HCT116</td>\n",
       "      <td>Olapa</td>\n",
       "    </tr>\n",
       "    <tr>\n",
       "      <th>3</th>\n",
       "      <td>spher-colo52-v1-ULA-PB000137-HCT116-48h-P1-L1</td>\n",
       "      <td>B05</td>\n",
       "      <td>4185</td>\n",
       "      <td>5532</td>\n",
       "      <td>PB000137</td>\n",
       "      <td>B05_PB000137</td>\n",
       "      <td>colo-012</td>\n",
       "      <td>SB216763</td>\n",
       "      <td>dmso</td>\n",
       "      <td>10.0</td>\n",
       "      <td>...</td>\n",
       "      <td>S1075</td>\n",
       "      <td>GSK-3</td>\n",
       "      <td>PI3K/Akt/mTOR</td>\n",
       "      <td>176158.0</td>\n",
       "      <td>C[N]1C=C(C2=C1C=CC=C2)C3=C(C(=O)NC3=O)C4=CC=C(...</td>\n",
       "      <td>JCSGFHVFHSKIJH-UHFFFAOYSA-N</td>\n",
       "      <td>Targeted</td>\n",
       "      <td>Preclinical</td>\n",
       "      <td>HCT116</td>\n",
       "      <td>SB216</td>\n",
       "    </tr>\n",
       "    <tr>\n",
       "      <th>4</th>\n",
       "      <td>spher-colo52-v1-ULA-PB000137-HCT116-48h-P1-L1</td>\n",
       "      <td>B06</td>\n",
       "      <td>4185</td>\n",
       "      <td>5532</td>\n",
       "      <td>PB000137</td>\n",
       "      <td>B06_PB000137</td>\n",
       "      <td>colo-008</td>\n",
       "      <td>Vorinostat (SAHA, MK0683)</td>\n",
       "      <td>dmso</td>\n",
       "      <td>3.0</td>\n",
       "      <td>...</td>\n",
       "      <td>S1047</td>\n",
       "      <td>Autophagy,HDAC</td>\n",
       "      <td>Epigenetics</td>\n",
       "      <td>5311.0</td>\n",
       "      <td>ONC(=O)CCCCCCC(=O)NC1=CC=CC=C1</td>\n",
       "      <td>WAEXFXRVDQXREF-UHFFFAOYSA-N</td>\n",
       "      <td>Targeted</td>\n",
       "      <td>Launched</td>\n",
       "      <td>HCT116</td>\n",
       "      <td>Vorin</td>\n",
       "    </tr>\n",
       "  </tbody>\n",
       "</table>\n",
       "<p>5 rows × 28 columns</p>\n",
       "</div>"
      ],
      "text/plain": [
       "                                       layout_id well_id  image_id  cp_id  \\\n",
       "0  spher-colo52-v1-ULA-PB000137-HCT116-48h-P1-L1     B02      4185   5532   \n",
       "1  spher-colo52-v1-ULA-PB000137-HCT116-48h-P1-L1     B03      4185   5532   \n",
       "2  spher-colo52-v1-ULA-PB000137-HCT116-48h-P1-L1     B04      4185   5532   \n",
       "3  spher-colo52-v1-ULA-PB000137-HCT116-48h-P1-L1     B05      4185   5532   \n",
       "4  spher-colo52-v1-ULA-PB000137-HCT116-48h-P1-L1     B06      4185   5532   \n",
       "\n",
       "    barcode    plate_well cmpd_code                        cmpdname solvent  \\\n",
       "0  PB000137  B02_PB000137  colo-006                       PD0325901    dmso   \n",
       "1  PB000137  B03_PB000137  colo-018                      Paclitaxel    dmso   \n",
       "2  PB000137  B04_PB000137  colo-009  Olaparib (AZD2281, Ku-0059436)    dmso   \n",
       "3  PB000137  B05_PB000137  colo-012                        SB216763    dmso   \n",
       "4  PB000137  B06_PB000137  colo-008       Vorinostat (SAHA, MK0683)    dmso   \n",
       "\n",
       "   cmpd_conc  ... article_id                            target  \\\n",
       "0        3.0  ...      S1036                               MEK   \n",
       "1        0.1  ...      S1150  Autophagy,Microtubule Associated   \n",
       "2        3.0  ...      S1060                              PARP   \n",
       "3       10.0  ...      S1075                             GSK-3   \n",
       "4        3.0  ...      S1047                    Autophagy,HDAC   \n",
       "\n",
       "                  pathway   pubchemID  \\\n",
       "0                    MAPK   9826528.0   \n",
       "1  Cytoskeletal Signaling    441276.0   \n",
       "2              DNA Damage  23725625.0   \n",
       "3           PI3K/Akt/mTOR    176158.0   \n",
       "4             Epigenetics      5311.0   \n",
       "\n",
       "                                              smiles  \\\n",
       "0  OCC(O)CONC(=O)C1=C(NC2=CC=C(I)C=C2F)C(=C(F)C=C1)F   \n",
       "1  CC(=O)OC1C(=O)C2(C)C(O)CC3OCC3(OC(C)=O)C2C(OC(...   \n",
       "2  FC1=C(C=C(CC2=NNC(=O)C3=C2C=CC=C3)C=C1)C(=O)N4...   \n",
       "3  C[N]1C=C(C2=C1C=CC=C2)C3=C(C(=O)NC3=O)C4=CC=C(...   \n",
       "4                     ONC(=O)CCCCCCC(=O)NC1=CC=CC=C1   \n",
       "\n",
       "                         inkey target_type clinical_status cell_line   name  \n",
       "0  SUDAHWBOROXANE-SECBINFHSA-N    Targeted         Phase 2    HCT116  PD032  \n",
       "1  RCINICONZNJXQF-VAZQATRQSA-N   Cytotoxic     Preclinical    HCT116  Pacli  \n",
       "2  FDLYAMZZIXQODN-UHFFFAOYSA-N    Targeted        Launched    HCT116  Olapa  \n",
       "3  JCSGFHVFHSKIJH-UHFFFAOYSA-N    Targeted     Preclinical    HCT116  SB216  \n",
       "4  WAEXFXRVDQXREF-UHFFFAOYSA-N    Targeted        Launched    HCT116  Vorin  \n",
       "\n",
       "[5 rows x 28 columns]"
      ]
     },
     "execution_count": 10,
     "metadata": {},
     "output_type": "execute_result"
    }
   ],
   "source": [
    "# Import Metadata\n",
    "dfLayout = pd.read_csv('colo52-v1-import-inputFiles-and-PLAIDresults - 5-metadata.csv', sep=\",\")\n",
    "# dfLayout = dfLayout.loc[~(dfLayout.layout_id == 'spher010-P1-L2')]\n",
    "# Rename the plate_well using Metadata_barcode and well_id\n",
    "dfLayout['plate_well'] = dfLayout['well_id'] + \"_\" + dfLayout['barcode']\n",
    "dfLayout['name'] = dfLayout['cmpdname'].str[:5]\n",
    "\n",
    "print(dfLayout.shape)\n",
    "dfLayout.head()"
   ]
  },
  {
   "cell_type": "code",
   "execution_count": 11,
   "metadata": {},
   "outputs": [
    {
     "data": {
      "text/plain": [
       "(1460, 748)"
      ]
     },
     "execution_count": 11,
     "metadata": {},
     "output_type": "execute_result"
    }
   ],
   "source": [
    "# Annotate: connect metadata to the feature data\n",
    "# OBS: metadata will be prefixed with 'Metadata_'\n",
    "annotated = annotate(df, platemap=dfLayout, join_on=['Metadata_plate_well', 'plate_well'],add_metadata_id_to_platemap=True, format_broad_cmap=False, clean_cellprofiler=False)\n",
    "# annotated.to_csv(\"{}/annotated_data_{}.csv\".format(OutputDir, cell_line))\n",
    "\n",
    "annotated.shape"
   ]
  },
  {
   "cell_type": "code",
   "execution_count": 12,
   "metadata": {},
   "outputs": [],
   "source": [
    "# Remove non-data features from the list of features\n",
    "ListOfFeatures = list(df.columns.values)\n",
    "ListOfMetadata = list(df.columns[df.columns.str.contains(\"Metadata_\")])\n",
    "ListOfFeatures = list(set(ListOfFeatures) - set(ListOfMetadata) - set([\"plate_well\", \"barcode\", \"cell_line\"]))"
   ]
  },
  {
   "cell_type": "code",
   "execution_count": 13,
   "metadata": {},
   "outputs": [],
   "source": [
    "annotated['Metadata_norm_unit'] = annotated['Metadata_barcode'] + \"_\" + annotated['Metadata_cell_line']\n",
    "units = annotated['Metadata_norm_unit'].unique()"
   ]
  },
  {
   "cell_type": "code",
   "execution_count": 14,
   "metadata": {},
   "outputs": [
    {
     "name": "stdout",
     "output_type": "stream",
     "text": [
      "PB000137_HCT116\n",
      "PB000139_HCT116\n",
      "PB000139_HT29\n",
      "PB000141_HT29\n",
      "PB000138_HCT116\n",
      "PB000140_HCT116\n",
      "PB000140_HT29\n",
      "PB000142_HT29\n"
     ]
    }
   ],
   "source": [
    "#\n",
    "# Version 2: Normalize separately per 1) plate and 2) cell line\n",
    "#\n",
    "\n",
    "# # Normalize separately per cell line\n",
    "# ListOfPlates = annotated['Metadata_layout_id'].unique()\n",
    "\n",
    "# itnitialize an empty dataframe\n",
    "normalized = pd.DataFrame(columns=annotated.columns.values)\n",
    "normalized = normalized.drop(columns=['plate_well', 'barcode'])\n",
    "\n",
    "for unit in units:\n",
    "    \n",
    "    annotated_temp = annotated[annotated['Metadata_norm_unit'] == unit]\n",
    "\n",
    "    # Normalize: choose between standardize, robustize, mad_robustize, spherize \n",
    "    normalized_temp = normalize(annotated_temp, \n",
    "                                features=ListOfFeatures,image_features=False, \n",
    "                                meta_features=\"infer\", samples=\"Metadata_pert_type == 'neg_con'\", \n",
    "                                method=\"standardize\")\n",
    "    normalized = pd.concat([normalized, normalized_temp], ignore_index=True)\n",
    "\n",
    "    print(unit)\n"
   ]
  },
  {
   "cell_type": "code",
   "execution_count": 15,
   "metadata": {},
   "outputs": [],
   "source": [
    "# Feature selection: \"variance_threshold\", \"correlation_threshold\", \"drop_na_columns\", \"blocklist\", \"drop_outliers\", \"noise_removal\",\n",
    "to_clip_df = feature_select(normalized, features=ListOfFeatures, operation=[\"variance_threshold\", \"correlation_threshold\",\"drop_na_columns\", \"blocklist\" ])"
   ]
  },
  {
   "cell_type": "code",
   "execution_count": 16,
   "metadata": {},
   "outputs": [],
   "source": [
    "# Remove non-data features from the list\n",
    "ListOfSelectedFeatures = list(to_clip_df.columns.values)\n",
    "ListOfMetadata = list(to_clip_df.columns[to_clip_df.columns.str.contains(\"Metadata_\")])\n",
    "ListOfSelectedFeatures = list(set(ListOfSelectedFeatures) - set(ListOfMetadata))"
   ]
  },
  {
   "cell_type": "code",
   "execution_count": 17,
   "metadata": {},
   "outputs": [
    {
     "name": "stdout",
     "output_type": "stream",
     "text": [
      "(1460, 503)\n"
     ]
    }
   ],
   "source": [
    "# Instead of removing the outliers, we can clip them to the 1st and 99th percentile.\n",
    "selected_df = pd.concat([to_clip_df[ListOfMetadata], to_clip_df[ListOfSelectedFeatures].clip(lower=-40, upper=40, axis=1)], axis=1)\n",
    "print(selected_df.shape)"
   ]
  },
  {
   "cell_type": "code",
   "execution_count": 18,
   "metadata": {},
   "outputs": [],
   "source": [
    "selected_df.to_parquet(\"{}/selected_data.csv\".format(OutputDir))"
   ]
  }
 ],
 "metadata": {
  "kernelspec": {
   "display_name": "Python 3 (ipykernel)",
   "language": "python",
   "name": "python3"
  },
  "language_info": {
   "codemirror_mode": {
    "name": "ipython",
    "version": 3
   },
   "file_extension": ".py",
   "mimetype": "text/x-python",
   "name": "python",
   "nbconvert_exporter": "python",
   "pygments_lexer": "ipython3",
   "version": "3.8.10"
  },
  "vscode": {
   "interpreter": {
    "hash": "916dbcbb3f70747c44a77c7bcd40155683ae19c65e1c03b4aa3499c5328201f1"
   }
  }
 },
 "nbformat": 4,
 "nbformat_minor": 4
}
