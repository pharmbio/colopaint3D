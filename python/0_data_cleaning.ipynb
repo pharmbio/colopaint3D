{
 "cells": [
  {
   "cell_type": "code",
   "execution_count": 486,
   "metadata": {},
   "outputs": [],
   "source": [
    "import os\n",
    "# import pandas as pd \n",
    "import polars as pl\n",
    "# import scanpy as sc\n",
    "import numpy as np\n",
    "import pandas as pd\n",
    "import typing as tp\n",
    "import re"
   ]
  },
  {
   "cell_type": "code",
   "execution_count": 487,
   "metadata": {},
   "outputs": [],
   "source": [
    "statarg = 'single'\n",
    "OutputDir = f'./data/2_PCAUMAP'\n",
    "if not os.path.exists(OutputDir): \n",
    "    os.makedirs(OutputDir)\n",
    "feat_base = './data/1_FeaturesImages_meanstd_PerPlate'\n",
    "feat_agg = '/share/data/analyses/christa/colopaint3D/spher_colo52_v1'"
   ]
  },
  {
   "cell_type": "code",
   "execution_count": 488,
   "metadata": {},
   "outputs": [],
   "source": [
    "\n",
    "filenames = ['selected_data_all']\n",
    "\n",
    "statmet = 'WellAggregates'\n",
    "\n",
    "statmets = ['SingleCell', 'Aggregates']\n",
    "\n",
    "dropcols = ['Nuclei_Location_Center_X',\n",
    "            'Nuclei_Location_Center_Y',\n",
    "            'Location',\n",
    "            'ImageNumber_',\n",
    "            'Parent',\n",
    "            'Children',\n",
    "            '_ObjectNumber',\n",
    "            '_Object_Number',\n",
    "            '_Y',\n",
    "            '_X' \n",
    "            ]\n",
    "\n",
    "\n",
    "cons = ['pos_con', 'neg_con']\n",
    "nodmso = ['trt']\n",
    "wdmso = ['pos_con']\n",
    "float_columns=[pl.col(pl.Float32),pl.col(pl.Float64)]\n",
    "str_columns = [pl.col(pl.String)]\n",
    "str_columns = [pl.col(pl.Int64),pl.col(pl.Int32)]\n",
    "feat_sc = f'{feat_base}/{statmet}'\n"
   ]
  },
  {
   "cell_type": "code",
   "execution_count": 489,
   "metadata": {},
   "outputs": [],
   "source": [
    "def readData(filename, feat_dir, statmet='SingleCell', filetype='parquet'):\n",
    "    if filetype=='parquet':\n",
    "        df = pl.read_parquet(f'{feat_dir}/{filename}.parquet')\n",
    "    elif filetype=='csv':\n",
    "        df = pl.read_csv(f'{feat_dir}/{filename}.csv')\n",
    "    ##This here is important!!!!!!\n",
    "    # df=df.select([c for c in df.columns if not is_meta_column(c)])\n",
    "    # dataNpy = df.to_numpy(df.select(float_columns))\n",
    "    ##\n",
    "    onehot_list = df.select(['Metadata_pathway'])['Metadata_pathway'].unique().to_list()\n",
    "    onehot_mapping = {name: i for i, name in enumerate(onehot_list)}\n",
    "    df = df.with_columns(df['Metadata_pathway'].map_elements(lambda name: oneHot(name, onehot_mapping)).alias('Metadata_cmpd_onehot'))\n",
    "    return df\n",
    "\n",
    "# this is code from Dan\n",
    "def is_meta_column(\n",
    "    c:str,\n",
    "    allowlist:tp.List[str]=[\"Metadata_AcqID\",\"Metadata_Site\"],\n",
    "    denylist:tp.List[str]=[\"Metadata_Well\",\"Metadata_barcode\"],\n",
    ")->bool:\n",
    "    \"\"\"\n",
    "        allowlist:\n",
    "            the function will return False for these, no matter if they are metadata or not\n",
    "        denylist:\n",
    "            the function will return True for these, no matter if they are metadata or not\n",
    "    \"\"\"\n",
    "    if c in allowlist:\n",
    "        return False\n",
    "    if c in denylist:\n",
    "        return True\n",
    "    for ex in '''\n",
    "        Metadata\n",
    "        Plate\n",
    "        Well\n",
    "    '''.split():\n",
    "        if re.search(ex, c):\n",
    "            return True\n",
    "    return False\n",
    "\n",
    "\n",
    "def oneHot(row, mapping):\n",
    "    return mapping.get(row, -1)\n",
    "\n",
    "\n",
    "def filter_and_clean(df):\n",
    "    df_3d = scrub(df, type='aggregates')\n",
    "    # print(df_3d.head(), df.head())\n",
    "    df_2d = scrub(df,'2D')\n",
    "    df_mip = scrub(df,'MIP')\n",
    "    return df_3d, df_2d, df_mip\n",
    "\n",
    "def scrub(df, type):\n",
    "    df = df.filter(pl.col('Metadata_data_type')==type)\n",
    "    df_floats=df.select([c for c in df.columns if not is_meta_column(c)]).select(float_columns)\n",
    "    cols_to_drop = [col for col in df_floats.columns if df_floats.select(pl.col(col).is_nan().all())]\n",
    "    df = df.drop(cols_to_drop)\n",
    "    for col in df.select([pl.col(pl.Float32),pl.col(pl.Float64)]).columns:\n",
    "        df=df.filter(pl.col(col).is_not_null())\n",
    "    return df\n"
   ]
  },
  {
   "cell_type": "code",
   "execution_count": 490,
   "metadata": {},
   "outputs": [],
   "source": [
    "df = pl.read_parquet(f'{feat_agg}/{filenames[0]}_cleaned.parquet')\n",
    "# df = pd.read_csv(f'{feat_agg}/{filenames[0]}.csv', sep=',')\n",
    "# df = df.fillna(np.nan)\n",
    "# df = pl.from_pandas(df)\n",
    "# df.write_csv(f'{feat_agg}/{filenames[0]}_cleaned.csv', separator=',')\n",
    "# df.write_parquet(f'{feat_agg}/{filenames[0]}_cleaned.parquet')"
   ]
  },
  {
   "cell_type": "code",
   "execution_count": 491,
   "metadata": {},
   "outputs": [],
   "source": [
    "# df.write_csv(f'{feat_agg}/{filenames[0]}_cleaned.csv', separator=',')\n",
    "# df.write_parquet(f'{feat_agg}/{filenames[0]}_cleaned.parquet')"
   ]
  },
  {
   "cell_type": "code",
   "execution_count": 492,
   "metadata": {},
   "outputs": [
    {
     "data": {
      "text/html": [
       "<div><style>\n",
       ".dataframe > thead > tr,\n",
       ".dataframe > tbody > tr {\n",
       "  text-align: right;\n",
       "  white-space: pre-wrap;\n",
       "}\n",
       "</style>\n",
       "<small>shape: (5, 2_357)</small><table border=\"1\" class=\"dataframe\"><thead><tr><th>Metadata_Well</th><th>Metadata_barcode</th><th>Metadata_PlateWell</th><th>Metadata_cell_line</th><th>Metadata_cmpd_conc</th><th>Metadata_cmpdname</th><th>Metadata_name</th><th>Metadata_pert_type</th><th>Metadata_pathway</th><th>Metadata_target</th><th>Nuclei_Granularity_3_CONC</th><th>Cells_RadialDistribution_ZernikePhase_MITO_6_6</th><th>Cytoplasm_AreaShape_Zernike_9_3</th><th>Cells_Correlation_Correlation_CONC_SYTO</th><th>Nuclei_RadialDistribution_ZernikePhase_MITO_9_3</th><th>Cells_Granularity_2_HOECHST</th><th>Cells_RadialDistribution_ZernikePhase_PHAandWGA_7_5</th><th>Nuclei_RadialDistribution_ZernikePhase_PHAandWGA_3_3</th><th>Nuclei_Correlation_K_HOECHST_SYTO</th><th>Nuclei_RadialDistribution_ZernikePhase_MITO_7_1</th><th>Cells_Correlation_K_SYTO_PHAandWGA</th><th>Cells_Correlation_Correlation_HOECHST_SYTO</th><th>Cells_Intensity_MassDisplacement_MITO</th><th>Cells_RadialDistribution_ZernikePhase_CONC_9_7</th><th>Nuclei_RadialDistribution_ZernikePhase_PHAandWGA_9_3</th><th>Cells_RadialDistribution_ZernikePhase_HOECHST_4_2</th><th>Nuclei_Granularity_13_CONC</th><th>Cells_RadialDistribution_MeanFrac_MITO_1of4</th><th>Cytoplasm_Granularity_2_HOECHST</th><th>Cytoplasm_AreaShape_Zernike_6_4</th><th>Cytoplasm_RadialDistribution_ZernikePhase_SYTO_7_1</th><th>Cells_RadialDistribution_ZernikePhase_CONC_1_1</th><th>Cytoplasm_AreaShape_Extent</th><th>Cytoplasm_RadialDistribution_ZernikePhase_CONC_9_7</th><th>Cells_AreaShape_Compactness</th><th>Nuclei_RadialDistribution_FracAtD_SYTO_1of4</th><th>Nuclei_Granularity_12_MITO</th><th>&hellip;</th><th>RadialDistribution_ZernikeMagnitude_PHAandWGA_7_5</th><th>Correlation_RWC_SYTO_CONC</th><th>Intensity_StdIntensity_HOECHST</th><th>Intensity_UpperQuartileIntensity_MITO</th><th>RadialDistribution_RadialCV_CONC_1of4</th><th>Granularity_2_PHAandWGA</th><th>Location_MaxIntensity_X_SYTO</th><th>RadialDistribution_ZernikeMagnitude_HOECHST_4_0</th><th>RadialDistribution_ZernikeMagnitude_MITO_4_2</th><th>RadialDistribution_ZernikeMagnitude_MITO_2_0</th><th>Granularity_10_CONC</th><th>RadialDistribution_ZernikePhase_PHAandWGA_8_2</th><th>RadialDistribution_ZernikeMagnitude_HOECHST_7_5</th><th>Correlation_Manders_HOECHST_MITO</th><th>Intensity_MADIntensity_HOECHST</th><th>Correlation_K_PHAandWGA_SYTO</th><th>Location_MaxIntensity_Y_HOECHST</th><th>RadialDistribution_ZernikeMagnitude_MITO_9_7</th><th>RadialDistribution_ZernikePhase_MITO_5_1</th><th>RadialDistribution_ZernikePhase_PHAandWGA_3_3</th><th>AreaShape_Zernike_5_1</th><th>RadialDistribution_ZernikePhase_SYTO_1_1</th><th>Granularity_14_PHAandWGA</th><th>Granularity_11_HOECHST</th><th>AreaShape_Zernike_4_2</th><th>Intensity_MADIntensity_SYTO</th><th>RadialDistribution_ZernikeMagnitude_MITO_8_0</th><th>Granularity_10_HOECHST</th><th>RadialDistribution_ZernikeMagnitude_SYTO_5_3</th><th>RadialDistribution_ZernikePhase_MITO_4_2</th><th>RadialDistribution_ZernikeMagnitude_MITO_6_0</th><th>RadialDistribution_ZernikePhase_HOECHST_1_1</th><th>RadialDistribution_ZernikeMagnitude_SYTO_4_0</th><th>RadialDistribution_ZernikeMagnitude_MITO_7_1</th><th>Correlation_Correlation_MITO_PHAandWGA</th><th>Correlation_K_SYTO_PHAandWGA</th><th>RadialDistribution_ZernikePhase_CONC_6_2</th></tr><tr><td>str</td><td>str</td><td>str</td><td>str</td><td>f64</td><td>str</td><td>str</td><td>str</td><td>str</td><td>str</td><td>f64</td><td>f64</td><td>f64</td><td>f64</td><td>f64</td><td>f64</td><td>f64</td><td>f64</td><td>f64</td><td>f64</td><td>f64</td><td>f64</td><td>f64</td><td>f64</td><td>f64</td><td>f64</td><td>f64</td><td>f64</td><td>f64</td><td>f64</td><td>f64</td><td>f64</td><td>f64</td><td>f64</td><td>f64</td><td>f64</td><td>f64</td><td>&hellip;</td><td>f64</td><td>f64</td><td>f64</td><td>f64</td><td>f64</td><td>f64</td><td>f64</td><td>f64</td><td>f64</td><td>f64</td><td>f64</td><td>f64</td><td>f64</td><td>f64</td><td>f64</td><td>f64</td><td>f64</td><td>f64</td><td>f64</td><td>f64</td><td>f64</td><td>f64</td><td>f64</td><td>f64</td><td>f64</td><td>f64</td><td>f64</td><td>f64</td><td>f64</td><td>f64</td><td>f64</td><td>f64</td><td>f64</td><td>f64</td><td>f64</td><td>f64</td><td>f64</td></tr></thead><tbody><tr><td>&quot;B02&quot;</td><td>&quot;PB000141&quot;</td><td>&quot;B02_PB000141&quot;</td><td>&quot;HT29&quot;</td><td>3.0</td><td>&quot;PD0325901&quot;</td><td>&quot;PD032&quot;</td><td>&quot;trt&quot;</td><td>&quot;MAPK&quot;</td><td>&quot;MEK&quot;</td><td>-2.086016</td><td>null</td><td>-1.128686</td><td>0.375602</td><td>0.14308</td><td>2.125792</td><td>-1.107771</td><td>-1.290878</td><td>-13.276694</td><td>0.261465</td><td>1.377393</td><td>null</td><td>0.072812</td><td>-0.600456</td><td>-0.188802</td><td>null</td><td>-0.67957</td><td>-1.341828</td><td>null</td><td>-0.86925</td><td>-0.328614</td><td>0.269362</td><td>1.962055</td><td>0.319998</td><td>-3.483608</td><td>null</td><td>null</td><td>&hellip;</td><td>null</td><td>null</td><td>null</td><td>null</td><td>null</td><td>null</td><td>null</td><td>null</td><td>null</td><td>null</td><td>null</td><td>null</td><td>null</td><td>null</td><td>null</td><td>null</td><td>null</td><td>null</td><td>null</td><td>null</td><td>null</td><td>null</td><td>null</td><td>null</td><td>null</td><td>null</td><td>null</td><td>null</td><td>null</td><td>null</td><td>null</td><td>null</td><td>null</td><td>null</td><td>null</td><td>null</td><td>null</td></tr><tr><td>&quot;B04&quot;</td><td>&quot;PB000141&quot;</td><td>&quot;B04_PB000141&quot;</td><td>&quot;HT29&quot;</td><td>3.0</td><td>&quot;Olaparib (AZD2281, Ku-0059436)&quot;</td><td>&quot;Olapa&quot;</td><td>&quot;trt&quot;</td><td>&quot;DNA Damage&quot;</td><td>&quot;PARP&quot;</td><td>-0.497579</td><td>null</td><td>-0.101863</td><td>0.896907</td><td>0.764776</td><td>-0.479159</td><td>0.001408</td><td>0.041524</td><td>1.936808</td><td>-0.007276</td><td>0.563188</td><td>null</td><td>1.252764</td><td>-0.497035</td><td>0.719203</td><td>null</td><td>-0.591146</td><td>0.132747</td><td>null</td><td>-0.155315</td><td>0.708237</td><td>0.067664</td><td>1.006738</td><td>-0.318597</td><td>-0.067316</td><td>null</td><td>null</td><td>&hellip;</td><td>null</td><td>null</td><td>null</td><td>null</td><td>null</td><td>null</td><td>null</td><td>null</td><td>null</td><td>null</td><td>null</td><td>null</td><td>null</td><td>null</td><td>null</td><td>null</td><td>null</td><td>null</td><td>null</td><td>null</td><td>null</td><td>null</td><td>null</td><td>null</td><td>null</td><td>null</td><td>null</td><td>null</td><td>null</td><td>null</td><td>null</td><td>null</td><td>null</td><td>null</td><td>null</td><td>null</td><td>null</td></tr><tr><td>&quot;B04&quot;</td><td>&quot;PB000142&quot;</td><td>&quot;B04_PB000142&quot;</td><td>&quot;HT29&quot;</td><td>3.0</td><td>&quot;Olaparib (AZD2281, Ku-0059436)&quot;</td><td>&quot;Olapa&quot;</td><td>&quot;trt&quot;</td><td>&quot;DNA Damage&quot;</td><td>&quot;PARP&quot;</td><td>-0.754032</td><td>null</td><td>0.013301</td><td>2.245093</td><td>-0.631564</td><td>-0.52991</td><td>0.291402</td><td>0.006937</td><td>2.77161</td><td>0.375657</td><td>-0.509006</td><td>null</td><td>0.838278</td><td>0.197506</td><td>-0.606171</td><td>null</td><td>-0.744579</td><td>0.059409</td><td>null</td><td>-0.174455</td><td>-0.212381</td><td>-0.032203</td><td>0.436184</td><td>-0.207799</td><td>-0.23252</td><td>null</td><td>null</td><td>&hellip;</td><td>null</td><td>null</td><td>null</td><td>null</td><td>null</td><td>null</td><td>null</td><td>null</td><td>null</td><td>null</td><td>null</td><td>null</td><td>null</td><td>null</td><td>null</td><td>null</td><td>null</td><td>null</td><td>null</td><td>null</td><td>null</td><td>null</td><td>null</td><td>null</td><td>null</td><td>null</td><td>null</td><td>null</td><td>null</td><td>null</td><td>null</td><td>null</td><td>null</td><td>null</td><td>null</td><td>null</td><td>null</td></tr><tr><td>&quot;B05&quot;</td><td>&quot;PB000142&quot;</td><td>&quot;B05_PB000142&quot;</td><td>&quot;HT29&quot;</td><td>10.0</td><td>&quot;SB216763&quot;</td><td>&quot;SB216&quot;</td><td>&quot;trt&quot;</td><td>&quot;PI3K/Akt/mTOR&quot;</td><td>&quot;GSK-3&quot;</td><td>-0.91973</td><td>null</td><td>0.017617</td><td>1.889136</td><td>0.313619</td><td>-0.276821</td><td>-0.145915</td><td>-0.161355</td><td>2.089598</td><td>-0.190686</td><td>-0.279775</td><td>null</td><td>-0.079452</td><td>-0.050532</td><td>0.172206</td><td>null</td><td>-0.777282</td><td>-0.621206</td><td>null</td><td>-0.572259</td><td>0.650918</td><td>-0.592516</td><td>0.156762</td><td>-0.509041</td><td>-0.284587</td><td>null</td><td>null</td><td>&hellip;</td><td>null</td><td>null</td><td>null</td><td>null</td><td>null</td><td>null</td><td>null</td><td>null</td><td>null</td><td>null</td><td>null</td><td>null</td><td>null</td><td>null</td><td>null</td><td>null</td><td>null</td><td>null</td><td>null</td><td>null</td><td>null</td><td>null</td><td>null</td><td>null</td><td>null</td><td>null</td><td>null</td><td>null</td><td>null</td><td>null</td><td>null</td><td>null</td><td>null</td><td>null</td><td>null</td><td>null</td><td>null</td></tr><tr><td>&quot;B06&quot;</td><td>&quot;PB000141&quot;</td><td>&quot;B06_PB000141&quot;</td><td>&quot;HT29&quot;</td><td>3.0</td><td>&quot;Vorinostat (SAHA, MK0683)&quot;</td><td>&quot;Vorin&quot;</td><td>&quot;trt&quot;</td><td>&quot;Epigenetics&quot;</td><td>&quot;Autophagy,HDAC&quot;</td><td>-1.410747</td><td>null</td><td>0.396138</td><td>0.440598</td><td>-0.235105</td><td>0.523354</td><td>-0.454611</td><td>-0.579639</td><td>-4.725613</td><td>-0.376401</td><td>3.552803</td><td>null</td><td>0.79582</td><td>-0.510119</td><td>-0.261856</td><td>null</td><td>-0.482028</td><td>-1.745277</td><td>null</td><td>-0.704739</td><td>-0.121165</td><td>0.238996</td><td>1.361127</td><td>-1.088316</td><td>-0.957223</td><td>null</td><td>null</td><td>&hellip;</td><td>null</td><td>null</td><td>null</td><td>null</td><td>null</td><td>null</td><td>null</td><td>null</td><td>null</td><td>null</td><td>null</td><td>null</td><td>null</td><td>null</td><td>null</td><td>null</td><td>null</td><td>null</td><td>null</td><td>null</td><td>null</td><td>null</td><td>null</td><td>null</td><td>null</td><td>null</td><td>null</td><td>null</td><td>null</td><td>null</td><td>null</td><td>null</td><td>null</td><td>null</td><td>null</td><td>null</td><td>null</td></tr></tbody></table></div>"
      ],
      "text/plain": [
       "shape: (5, 2_357)\n",
       "┌───────────┬───────────┬───────────┬───────────┬───┬───────────┬───────────┬───────────┬──────────┐\n",
       "│ Metadata_ ┆ Metadata_ ┆ Metadata_ ┆ Metadata_ ┆ … ┆ RadialDis ┆ Correlati ┆ Correlati ┆ RadialDi │\n",
       "│ Well      ┆ barcode   ┆ PlateWell ┆ cell_line ┆   ┆ tribution ┆ on_Correl ┆ on_K_SYTO ┆ stributi │\n",
       "│ ---       ┆ ---       ┆ ---       ┆ ---       ┆   ┆ _ZernikeM ┆ ation_MIT ┆ _PHAandWG ┆ on_Zerni │\n",
       "│ str       ┆ str       ┆ str       ┆ str       ┆   ┆ agn…      ┆ O_P…      ┆ A         ┆ kePhas…  │\n",
       "│           ┆           ┆           ┆           ┆   ┆ ---       ┆ ---       ┆ ---       ┆ ---      │\n",
       "│           ┆           ┆           ┆           ┆   ┆ f64       ┆ f64       ┆ f64       ┆ f64      │\n",
       "╞═══════════╪═══════════╪═══════════╪═══════════╪═══╪═══════════╪═══════════╪═══════════╪══════════╡\n",
       "│ B02       ┆ PB000141  ┆ B02_PB000 ┆ HT29      ┆ … ┆ null      ┆ null      ┆ null      ┆ null     │\n",
       "│           ┆           ┆ 141       ┆           ┆   ┆           ┆           ┆           ┆          │\n",
       "│ B04       ┆ PB000141  ┆ B04_PB000 ┆ HT29      ┆ … ┆ null      ┆ null      ┆ null      ┆ null     │\n",
       "│           ┆           ┆ 141       ┆           ┆   ┆           ┆           ┆           ┆          │\n",
       "│ B04       ┆ PB000142  ┆ B04_PB000 ┆ HT29      ┆ … ┆ null      ┆ null      ┆ null      ┆ null     │\n",
       "│           ┆           ┆ 142       ┆           ┆   ┆           ┆           ┆           ┆          │\n",
       "│ B05       ┆ PB000142  ┆ B05_PB000 ┆ HT29      ┆ … ┆ null      ┆ null      ┆ null      ┆ null     │\n",
       "│           ┆           ┆ 142       ┆           ┆   ┆           ┆           ┆           ┆          │\n",
       "│ B06       ┆ PB000141  ┆ B06_PB000 ┆ HT29      ┆ … ┆ null      ┆ null      ┆ null      ┆ null     │\n",
       "│           ┆           ┆ 141       ┆           ┆   ┆           ┆           ┆           ┆          │\n",
       "└───────────┴───────────┴───────────┴───────────┴───┴───────────┴───────────┴───────────┴──────────┘"
      ]
     },
     "execution_count": 492,
     "metadata": {},
     "output_type": "execute_result"
    }
   ],
   "source": [
    "df.head()"
   ]
  },
  {
   "cell_type": "code",
   "execution_count": 493,
   "metadata": {},
   "outputs": [
    {
     "data": {
      "text/html": [
       "<div><style>\n",
       ".dataframe > thead > tr,\n",
       ".dataframe > tbody > tr {\n",
       "  text-align: right;\n",
       "  white-space: pre-wrap;\n",
       "}\n",
       "</style>\n",
       "<small>shape: (3, 1)</small><table border=\"1\" class=\"dataframe\"><thead><tr><th>Metadata_data_type</th></tr><tr><td>str</td></tr></thead><tbody><tr><td>&quot;MIP&quot;</td></tr><tr><td>&quot;2D&quot;</td></tr><tr><td>&quot;aggregates&quot;</td></tr></tbody></table></div>"
      ],
      "text/plain": [
       "shape: (3, 1)\n",
       "┌────────────────────┐\n",
       "│ Metadata_data_type │\n",
       "│ ---                │\n",
       "│ str                │\n",
       "╞════════════════════╡\n",
       "│ MIP                │\n",
       "│ 2D                 │\n",
       "│ aggregates         │\n",
       "└────────────────────┘"
      ]
     },
     "execution_count": 493,
     "metadata": {},
     "output_type": "execute_result"
    }
   ],
   "source": [
    "df.select(pl.col('Metadata_data_type')).unique()"
   ]
  },
  {
   "cell_type": "code",
   "execution_count": 494,
   "metadata": {},
   "outputs": [
    {
     "data": {
      "text/html": [
       "<div><style>\n",
       ".dataframe > thead > tr,\n",
       ".dataframe > tbody > tr {\n",
       "  text-align: right;\n",
       "  white-space: pre-wrap;\n",
       "}\n",
       "</style>\n",
       "<small>shape: (2, 1)</small><table border=\"1\" class=\"dataframe\"><thead><tr><th>Metadata_cell_line</th></tr><tr><td>str</td></tr></thead><tbody><tr><td>&quot;HT29&quot;</td></tr><tr><td>&quot;HCT116&quot;</td></tr></tbody></table></div>"
      ],
      "text/plain": [
       "shape: (2, 1)\n",
       "┌────────────────────┐\n",
       "│ Metadata_cell_line │\n",
       "│ ---                │\n",
       "│ str                │\n",
       "╞════════════════════╡\n",
       "│ HT29               │\n",
       "│ HCT116             │\n",
       "└────────────────────┘"
      ]
     },
     "execution_count": 494,
     "metadata": {},
     "output_type": "execute_result"
    }
   ],
   "source": [
    "df.select(pl.col('Metadata_cell_line')).unique()"
   ]
  },
  {
   "cell_type": "code",
   "execution_count": 495,
   "metadata": {},
   "outputs": [],
   "source": [
    "df_hct = df.filter(pl.col('Metadata_cell_line')=='HCT116')\n",
    "df_ht = df.filter(pl.col('Metadata_cell_line')=='HT29')\n"
   ]
  },
  {
   "cell_type": "code",
   "execution_count": 496,
   "metadata": {},
   "outputs": [],
   "source": [
    "df1 = df_hct.filter(pl.col('Metadata_data_type')=='2D')"
   ]
  },
  {
   "cell_type": "code",
   "execution_count": 497,
   "metadata": {},
   "outputs": [
    {
     "data": {
      "text/plain": [
       "(1185, 2357)"
      ]
     },
     "execution_count": 497,
     "metadata": {},
     "output_type": "execute_result"
    }
   ],
   "source": [
    "df1.shape"
   ]
  },
  {
   "cell_type": "code",
   "execution_count": 498,
   "metadata": {},
   "outputs": [],
   "source": [
    "df_floats=df1.select([c for c in df1.columns if not is_meta_column(c)]).select(float_columns)"
   ]
  },
  {
   "cell_type": "code",
   "execution_count": 499,
   "metadata": {},
   "outputs": [
    {
     "data": {
      "text/plain": [
       "(1185, 2346)"
      ]
     },
     "execution_count": 499,
     "metadata": {},
     "output_type": "execute_result"
    }
   ],
   "source": [
    "df_floats.shape"
   ]
  },
  {
   "cell_type": "code",
   "execution_count": 500,
   "metadata": {},
   "outputs": [],
   "source": [
    "# df_bool = df_floats.select(pl.all().is_nan().all())\n",
    "\n",
    "df_bool = df_floats.select(pl.all().is_nan().all()) \n",
    "\n",
    "cols_to_drop = [col for col, is_all_nan in zip(df_floats.columns, df_bool.row(0)) if is_all_nan]\n"
   ]
  },
  {
   "cell_type": "code",
   "execution_count": 501,
   "metadata": {},
   "outputs": [
    {
     "data": {
      "text/html": [
       "<div><style>\n",
       ".dataframe > thead > tr,\n",
       ".dataframe > tbody > tr {\n",
       "  text-align: right;\n",
       "  white-space: pre-wrap;\n",
       "}\n",
       "</style>\n",
       "<small>shape: (1, 2_346)</small><table border=\"1\" class=\"dataframe\"><thead><tr><th>Nuclei_Granularity_3_CONC</th><th>Cells_RadialDistribution_ZernikePhase_MITO_6_6</th><th>Cytoplasm_AreaShape_Zernike_9_3</th><th>Cells_Correlation_Correlation_CONC_SYTO</th><th>Nuclei_RadialDistribution_ZernikePhase_MITO_9_3</th><th>Cells_Granularity_2_HOECHST</th><th>Cells_RadialDistribution_ZernikePhase_PHAandWGA_7_5</th><th>Nuclei_RadialDistribution_ZernikePhase_PHAandWGA_3_3</th><th>Nuclei_Correlation_K_HOECHST_SYTO</th><th>Nuclei_RadialDistribution_ZernikePhase_MITO_7_1</th><th>Cells_Correlation_K_SYTO_PHAandWGA</th><th>Cells_Correlation_Correlation_HOECHST_SYTO</th><th>Cells_Intensity_MassDisplacement_MITO</th><th>Cells_RadialDistribution_ZernikePhase_CONC_9_7</th><th>Nuclei_RadialDistribution_ZernikePhase_PHAandWGA_9_3</th><th>Cells_RadialDistribution_ZernikePhase_HOECHST_4_2</th><th>Nuclei_Granularity_13_CONC</th><th>Cells_RadialDistribution_MeanFrac_MITO_1of4</th><th>Cytoplasm_Granularity_2_HOECHST</th><th>Cytoplasm_AreaShape_Zernike_6_4</th><th>Cytoplasm_RadialDistribution_ZernikePhase_SYTO_7_1</th><th>Cells_RadialDistribution_ZernikePhase_CONC_1_1</th><th>Cytoplasm_AreaShape_Extent</th><th>Cytoplasm_RadialDistribution_ZernikePhase_CONC_9_7</th><th>Cells_AreaShape_Compactness</th><th>Nuclei_RadialDistribution_FracAtD_SYTO_1of4</th><th>Nuclei_Granularity_12_MITO</th><th>Nuclei_Correlation_K_CONC_SYTO</th><th>Cells_RadialDistribution_RadialCV_SYTO_2of4</th><th>Nuclei_Correlation_RWC_HOECHST_SYTO</th><th>Cells_Granularity_2_SYTO</th><th>Cytoplasm_Granularity_16_CONC</th><th>Nuclei_Granularity_3_HOECHST</th><th>Nuclei_RadialDistribution_ZernikePhase_MITO_7_5</th><th>Cytoplasm_RadialDistribution_ZernikePhase_SYTO_9_7</th><th>Cells_RadialDistribution_ZernikeMagnitude_MITO_6_4</th><th>Nuclei_RadialDistribution_ZernikePhase_CONC_1_1</th><th>&hellip;</th><th>RadialDistribution_ZernikeMagnitude_PHAandWGA_7_5</th><th>Correlation_RWC_SYTO_CONC</th><th>Intensity_StdIntensity_HOECHST</th><th>Intensity_UpperQuartileIntensity_MITO</th><th>RadialDistribution_RadialCV_CONC_1of4</th><th>Granularity_2_PHAandWGA</th><th>Location_MaxIntensity_X_SYTO</th><th>RadialDistribution_ZernikeMagnitude_HOECHST_4_0</th><th>RadialDistribution_ZernikeMagnitude_MITO_4_2</th><th>RadialDistribution_ZernikeMagnitude_MITO_2_0</th><th>Granularity_10_CONC</th><th>RadialDistribution_ZernikePhase_PHAandWGA_8_2</th><th>RadialDistribution_ZernikeMagnitude_HOECHST_7_5</th><th>Correlation_Manders_HOECHST_MITO</th><th>Intensity_MADIntensity_HOECHST</th><th>Correlation_K_PHAandWGA_SYTO</th><th>Location_MaxIntensity_Y_HOECHST</th><th>RadialDistribution_ZernikeMagnitude_MITO_9_7</th><th>RadialDistribution_ZernikePhase_MITO_5_1</th><th>RadialDistribution_ZernikePhase_PHAandWGA_3_3</th><th>AreaShape_Zernike_5_1</th><th>RadialDistribution_ZernikePhase_SYTO_1_1</th><th>Granularity_14_PHAandWGA</th><th>Granularity_11_HOECHST</th><th>AreaShape_Zernike_4_2</th><th>Intensity_MADIntensity_SYTO</th><th>RadialDistribution_ZernikeMagnitude_MITO_8_0</th><th>Granularity_10_HOECHST</th><th>RadialDistribution_ZernikeMagnitude_SYTO_5_3</th><th>RadialDistribution_ZernikePhase_MITO_4_2</th><th>RadialDistribution_ZernikeMagnitude_MITO_6_0</th><th>RadialDistribution_ZernikePhase_HOECHST_1_1</th><th>RadialDistribution_ZernikeMagnitude_SYTO_4_0</th><th>RadialDistribution_ZernikeMagnitude_MITO_7_1</th><th>Correlation_Correlation_MITO_PHAandWGA</th><th>Correlation_K_SYTO_PHAandWGA</th><th>RadialDistribution_ZernikePhase_CONC_6_2</th></tr><tr><td>bool</td><td>bool</td><td>bool</td><td>bool</td><td>bool</td><td>bool</td><td>bool</td><td>bool</td><td>bool</td><td>bool</td><td>bool</td><td>bool</td><td>bool</td><td>bool</td><td>bool</td><td>bool</td><td>bool</td><td>bool</td><td>bool</td><td>bool</td><td>bool</td><td>bool</td><td>bool</td><td>bool</td><td>bool</td><td>bool</td><td>bool</td><td>bool</td><td>bool</td><td>bool</td><td>bool</td><td>bool</td><td>bool</td><td>bool</td><td>bool</td><td>bool</td><td>bool</td><td>&hellip;</td><td>bool</td><td>bool</td><td>bool</td><td>bool</td><td>bool</td><td>bool</td><td>bool</td><td>bool</td><td>bool</td><td>bool</td><td>bool</td><td>bool</td><td>bool</td><td>bool</td><td>bool</td><td>bool</td><td>bool</td><td>bool</td><td>bool</td><td>bool</td><td>bool</td><td>bool</td><td>bool</td><td>bool</td><td>bool</td><td>bool</td><td>bool</td><td>bool</td><td>bool</td><td>bool</td><td>bool</td><td>bool</td><td>bool</td><td>bool</td><td>bool</td><td>bool</td><td>bool</td></tr></thead><tbody><tr><td>true</td><td>true</td><td>true</td><td>true</td><td>true</td><td>true</td><td>true</td><td>true</td><td>true</td><td>true</td><td>true</td><td>true</td><td>true</td><td>true</td><td>true</td><td>true</td><td>true</td><td>true</td><td>true</td><td>true</td><td>true</td><td>true</td><td>true</td><td>true</td><td>true</td><td>true</td><td>true</td><td>true</td><td>true</td><td>true</td><td>true</td><td>true</td><td>true</td><td>true</td><td>true</td><td>true</td><td>true</td><td>&hellip;</td><td>true</td><td>true</td><td>true</td><td>true</td><td>true</td><td>true</td><td>true</td><td>true</td><td>true</td><td>true</td><td>true</td><td>true</td><td>true</td><td>true</td><td>true</td><td>true</td><td>true</td><td>true</td><td>true</td><td>true</td><td>true</td><td>true</td><td>true</td><td>true</td><td>true</td><td>true</td><td>true</td><td>true</td><td>true</td><td>true</td><td>true</td><td>true</td><td>true</td><td>true</td><td>true</td><td>true</td><td>true</td></tr></tbody></table></div>"
      ],
      "text/plain": [
       "shape: (1, 2_346)\n",
       "┌───────────┬───────────┬───────────┬───────────┬───┬───────────┬───────────┬───────────┬──────────┐\n",
       "│ Nuclei_Gr ┆ Cells_Rad ┆ Cytoplasm ┆ Cells_Cor ┆ … ┆ RadialDis ┆ Correlati ┆ Correlati ┆ RadialDi │\n",
       "│ anularity ┆ ialDistri ┆ _AreaShap ┆ relation_ ┆   ┆ tribution ┆ on_Correl ┆ on_K_SYTO ┆ stributi │\n",
       "│ _3_CONC   ┆ bution_Ze ┆ e_Zernike ┆ Correlati ┆   ┆ _ZernikeM ┆ ation_MIT ┆ _PHAandWG ┆ on_Zerni │\n",
       "│ ---       ┆ rni…      ┆ _9_…      ┆ on_…      ┆   ┆ agn…      ┆ O_P…      ┆ A         ┆ kePhas…  │\n",
       "│ bool      ┆ ---       ┆ ---       ┆ ---       ┆   ┆ ---       ┆ ---       ┆ ---       ┆ ---      │\n",
       "│           ┆ bool      ┆ bool      ┆ bool      ┆   ┆ bool      ┆ bool      ┆ bool      ┆ bool     │\n",
       "╞═══════════╪═══════════╪═══════════╪═══════════╪═══╪═══════════╪═══════════╪═══════════╪══════════╡\n",
       "│ true      ┆ true      ┆ true      ┆ true      ┆ … ┆ true      ┆ true      ┆ true      ┆ true     │\n",
       "└───────────┴───────────┴───────────┴───────────┴───┴───────────┴───────────┴───────────┴──────────┘"
      ]
     },
     "execution_count": 501,
     "metadata": {},
     "output_type": "execute_result"
    }
   ],
   "source": [
    "df_bool"
   ]
  },
  {
   "cell_type": "code",
   "execution_count": 502,
   "metadata": {},
   "outputs": [],
   "source": [
    "# df_bool_2 = df_floats.select(pl.all().is_null().all())\n",
    "\n",
    "# cols_to_drop_2 = [col for col, is_all_nan in zip(df_floats.columns, df_bool_2.row(0)) if is_all_nan]"
   ]
  },
  {
   "cell_type": "code",
   "execution_count": 503,
   "metadata": {},
   "outputs": [],
   "source": [
    "df1 = df1.drop(cols_to_drop)"
   ]
  },
  {
   "cell_type": "code",
   "execution_count": 504,
   "metadata": {},
   "outputs": [
    {
     "data": {
      "text/html": [
       "<div><style>\n",
       ".dataframe > thead > tr,\n",
       ".dataframe > tbody > tr {\n",
       "  text-align: right;\n",
       "  white-space: pre-wrap;\n",
       "}\n",
       "</style>\n",
       "<small>shape: (5, 860)</small><table border=\"1\" class=\"dataframe\"><thead><tr><th>Metadata_Well</th><th>Metadata_barcode</th><th>Metadata_PlateWell</th><th>Metadata_cell_line</th><th>Metadata_cmpd_conc</th><th>Metadata_cmpdname</th><th>Metadata_name</th><th>Metadata_pert_type</th><th>Metadata_pathway</th><th>Metadata_target</th><th>Metadata_data_type</th><th>Intensity_StdIntensity_illumSYTO_nuclei</th><th>RadialDistribution_ZernikePhase_illumPHAandWGA_5_5_cytoplasm</th><th>RadialDistribution_ZernikePhase_illumHOECHST_1_1_cytoplasm</th><th>Correlation_K_illumSYTO_illumCONC_nuclei</th><th>RadialDistribution_ZernikeMagnitude_illumSYTO_9_7_cells</th><th>Correlation_Overlap_illumPHAandWGA_illumSYTO_cytoplasm</th><th>RadialDistribution_ZernikePhase_illumCONC_6_4_nuclei</th><th>RadialDistribution_ZernikePhase_illumCONC_5_5_cytoplasm</th><th>RadialDistribution_ZernikeMagnitude_illumPHAandWGA_2_2_nuclei</th><th>Intensity_UpperQuartileIntensity_illumSYTO_nuclei</th><th>RadialDistribution_ZernikePhase_illumSYTO_7_7_nuclei</th><th>RadialDistribution_ZernikePhase_illumHOECHST_9_9_nuclei</th><th>RadialDistribution_ZernikePhase_illumMITO_5_1_nuclei</th><th>RadialDistribution_ZernikePhase_illumCONC_1_1_cells</th><th>Correlation_RWC_illumHOECHST_illumPHAandWGA_cytoplasm</th><th>RadialDistribution_ZernikePhase_illumHOECHST_8_6_cells</th><th>RadialDistribution_ZernikePhase_illumPHAandWGA_9_1_cells</th><th>AreaShape_Zernike_9_1_cytoplasm</th><th>AreaShape_Zernike_7_1_cytoplasm</th><th>RadialDistribution_ZernikePhase_illumHOECHST_3_1_nuclei</th><th>Granularity_3_illumPHAandWGA_cells</th><th>Granularity_3_illumMITO_cells</th><th>RadialDistribution_ZernikeMagnitude_illumHOECHST_4_0_nuclei</th><th>Granularity_4_illumPHAandWGA_cytoplasm</th><th>RadialDistribution_ZernikeMagnitude_illumSYTO_2_0_cytoplasm</th><th>Correlation_RWC_illumMITO_illumSYTO_cells</th><th>&hellip;</th><th>RadialDistribution_ZernikePhase_illumCONC_8_8_cytoplasm</th><th>Correlation_K_illumHOECHST_illumCONC_cells</th><th>RadialDistribution_MeanFrac_illumHOECHST_1of4_cytoplasm</th><th>Granularity_11_illumCONC_nuclei</th><th>AreaShape_Zernike_9_5_cytoplasm</th><th>RadialDistribution_ZernikePhase_illumSYTO_3_3_cytoplasm</th><th>RadialDistribution_ZernikePhase_illumHOECHST_7_1_cytoplasm</th><th>RadialDistribution_ZernikePhase_illumHOECHST_7_3_cytoplasm</th><th>RadialDistribution_ZernikePhase_illumMITO_6_2_nuclei</th><th>RadialDistribution_RadialCV_illumMITO_1of4_cells</th><th>Granularity_13_illumHOECHST_cells</th><th>RadialDistribution_RadialCV_illumHOECHST_2of4_nuclei</th><th>Correlation_Manders_illumMITO_illumSYTO_cytoplasm</th><th>Correlation_K_illumHOECHST_illumSYTO_nuclei</th><th>RadialDistribution_ZernikeMagnitude_illumHOECHST_8_6_nuclei</th><th>RadialDistribution_ZernikeMagnitude_illumCONC_8_0_cells</th><th>RadialDistribution_ZernikePhase_illumPHAandWGA_9_5_nuclei</th><th>RadialDistribution_ZernikePhase_illumCONC_7_7_nuclei</th><th>RadialDistribution_ZernikePhase_illumHOECHST_4_4_nuclei</th><th>RadialDistribution_ZernikeMagnitude_illumPHAandWGA_4_2_cytoplasm</th><th>RadialDistribution_ZernikePhase_illumHOECHST_9_5_cells</th><th>RadialDistribution_ZernikeMagnitude_illumHOECHST_2_0_cytoplasm</th><th>RadialDistribution_ZernikePhase_illumCONC_5_3_cytoplasm</th><th>RadialDistribution_ZernikePhase_illumCONC_7_5_nuclei</th><th>RadialDistribution_ZernikePhase_illumMITO_8_8_cells</th><th>RadialDistribution_ZernikeMagnitude_illumCONC_1_1_cytoplasm</th><th>AreaShape_Zernike_4_4_nuclei</th><th>Correlation_Correlation_illumHOECHST_illumSYTO_nuclei</th><th>RadialDistribution_ZernikeMagnitude_illumPHAandWGA_4_0_nuclei</th><th>Intensity_MaxIntensity_illumCONC_cytoplasm</th><th>Correlation_Correlation_illumHOECHST_illumMITO_cytoplasm</th><th>RadialDistribution_FracAtD_illumHOECHST_3of4_cytoplasm</th><th>RadialDistribution_ZernikeMagnitude_illumPHAandWGA_5_1_cytoplasm</th><th>RadialDistribution_ZernikeMagnitude_illumSYTO_6_0_nuclei</th><th>RadialDistribution_ZernikePhase_illumMITO_4_4_nuclei</th><th>RadialDistribution_ZernikePhase_illumHOECHST_2_2_cells</th><th>RadialDistribution_ZernikePhase_illumCONC_3_1_nuclei</th></tr><tr><td>str</td><td>str</td><td>str</td><td>str</td><td>f64</td><td>str</td><td>str</td><td>str</td><td>str</td><td>str</td><td>str</td><td>f64</td><td>f64</td><td>f64</td><td>f64</td><td>f64</td><td>f64</td><td>f64</td><td>f64</td><td>f64</td><td>f64</td><td>f64</td><td>f64</td><td>f64</td><td>f64</td><td>f64</td><td>f64</td><td>f64</td><td>f64</td><td>f64</td><td>f64</td><td>f64</td><td>f64</td><td>f64</td><td>f64</td><td>f64</td><td>f64</td><td>&hellip;</td><td>f64</td><td>f64</td><td>f64</td><td>f64</td><td>f64</td><td>f64</td><td>f64</td><td>f64</td><td>f64</td><td>f64</td><td>f64</td><td>f64</td><td>f64</td><td>f64</td><td>f64</td><td>f64</td><td>f64</td><td>f64</td><td>f64</td><td>f64</td><td>f64</td><td>f64</td><td>f64</td><td>f64</td><td>f64</td><td>f64</td><td>f64</td><td>f64</td><td>f64</td><td>f64</td><td>f64</td><td>f64</td><td>f64</td><td>f64</td><td>f64</td><td>f64</td><td>f64</td></tr></thead><tbody><tr><td>&quot;B02&quot;</td><td>&quot;PB000036&quot;</td><td>&quot;B02_PB000036&quot;</td><td>&quot;HCT116&quot;</td><td>3.0</td><td>&quot;flup&quot;</td><td>&quot;flup&quot;</td><td>&quot;pos_con&quot;</td><td>null</td><td>null</td><td>&quot;2D&quot;</td><td>0.20286</td><td>-0.568621</td><td>-0.303259</td><td>-0.228477</td><td>0.486931</td><td>-2.911519</td><td>0.740986</td><td>0.461446</td><td>1.63652</td><td>-0.318561</td><td>-0.329387</td><td>1.868213</td><td>1.603759</td><td>-0.150777</td><td>0.952731</td><td>0.320654</td><td>0.361733</td><td>-0.572424</td><td>-1.39086</td><td>-0.156736</td><td>-1.292192</td><td>-0.118325</td><td>-0.795422</td><td>0.918727</td><td>1.384201</td><td>-1.078017</td><td>&hellip;</td><td>-0.364982</td><td>-0.515647</td><td>-2.095888</td><td>1.669369</td><td>2.372478</td><td>0.795954</td><td>-0.239041</td><td>-0.58652</td><td>-1.161984</td><td>1.882513</td><td>1.20611</td><td>-0.258996</td><td>0.171499</td><td>-0.133728</td><td>2.083931</td><td>1.945313</td><td>0.569475</td><td>0.478048</td><td>-1.093045</td><td>1.003372</td><td>0.182831</td><td>2.64854</td><td>-0.880877</td><td>0.379877</td><td>-0.347967</td><td>0.540114</td><td>3.387727</td><td>-0.877729</td><td>0.676508</td><td>2.271046</td><td>-1.367095</td><td>0.078108</td><td>0.803239</td><td>0.330284</td><td>-0.666937</td><td>-1.321072</td><td>-1.181845</td></tr><tr><td>&quot;B03&quot;</td><td>&quot;PB000036&quot;</td><td>&quot;B03_PB000036&quot;</td><td>&quot;HCT116&quot;</td><td>0.3</td><td>&quot;ABT-737&quot;</td><td>&quot;ABT-73&quot;</td><td>&quot;trt&quot;</td><td>&quot;Apoptosis&quot;</td><td>&quot;Bcl-2,Autophagy&quot;</td><td>&quot;2D&quot;</td><td>0.971481</td><td>0.390811</td><td>-0.494672</td><td>-0.790154</td><td>1.25494</td><td>-0.661292</td><td>1.799229</td><td>-0.079341</td><td>0.91483</td><td>0.93261</td><td>-0.441873</td><td>0.291853</td><td>1.228163</td><td>-0.550585</td><td>1.301858</td><td>1.550707</td><td>-2.150948</td><td>0.278464</td><td>-1.587169</td><td>1.094515</td><td>-1.833835</td><td>-0.659014</td><td>0.836698</td><td>-1.038529</td><td>1.614253</td><td>0.440481</td><td>&hellip;</td><td>2.557117</td><td>0.044785</td><td>-2.278925</td><td>0.087588</td><td>0.723158</td><td>0.105169</td><td>-0.757663</td><td>0.788397</td><td>-0.647443</td><td>1.779361</td><td>-0.377035</td><td>-0.875644</td><td>0.171499</td><td>0.816943</td><td>1.37874</td><td>1.733253</td><td>1.250704</td><td>-2.113579</td><td>1.068136</td><td>0.542553</td><td>1.304035</td><td>0.541227</td><td>-0.264627</td><td>-1.208643</td><td>1.683797</td><td>-0.367726</td><td>1.276327</td><td>-1.048371</td><td>1.127385</td><td>1.331935</td><td>1.440011</td><td>0.633118</td><td>0.941737</td><td>0.829411</td><td>1.588752</td><td>-0.356246</td><td>-1.900215</td></tr><tr><td>&quot;B04&quot;</td><td>&quot;PB000036&quot;</td><td>&quot;B04_PB000036&quot;</td><td>&quot;HCT116&quot;</td><td>0.1</td><td>&quot;Afatinib (BIBW2992)&quot;</td><td>&quot;Afatin&quot;</td><td>&quot;trt&quot;</td><td>&quot;Protein Tyrosine Kinase&quot;</td><td>&quot;EGFR,HER2&quot;</td><td>&quot;2D&quot;</td><td>1.053105</td><td>-0.581538</td><td>-0.073101</td><td>-1.347291</td><td>0.937404</td><td>-0.968898</td><td>-0.915734</td><td>-0.520603</td><td>0.395322</td><td>0.955155</td><td>0.776383</td><td>0.606124</td><td>-1.37084</td><td>0.244985</td><td>0.708934</td><td>1.032517</td><td>-0.468851</td><td>-0.296816</td><td>-0.509392</td><td>-0.536981</td><td>-0.213458</td><td>0.436685</td><td>0.699708</td><td>0.544272</td><td>1.117754</td><td>0.098415</td><td>&hellip;</td><td>1.483447</td><td>-1.031697</td><td>-0.498257</td><td>0.070495</td><td>1.071247</td><td>-1.597936</td><td>0.826856</td><td>0.828973</td><td>0.220126</td><td>0.251451</td><td>0.005364</td><td>-0.737239</td><td>0.171499</td><td>0.735609</td><td>1.459687</td><td>0.87625</td><td>0.348447</td><td>0.782274</td><td>0.508021</td><td>0.155009</td><td>0.905352</td><td>0.915941</td><td>0.700066</td><td>0.54671</td><td>1.945898</td><td>-0.736693</td><td>0.245825</td><td>-0.778441</td><td>0.084435</td><td>-0.027978</td><td>0.221345</td><td>1.020448</td><td>0.403196</td><td>0.945167</td><td>-0.342464</td><td>1.008359</td><td>-0.87029</td></tr><tr><td>&quot;B05&quot;</td><td>&quot;PB000036&quot;</td><td>&quot;B05_PB000036&quot;</td><td>&quot;HCT116&quot;</td><td>3.0</td><td>&quot;Linsitinib (OSI-906)&quot;</td><td>&quot;Linsit&quot;</td><td>&quot;trt&quot;</td><td>&quot;Protein Tyrosine Kinase&quot;</td><td>&quot;IGF-1R&quot;</td><td>&quot;2D&quot;</td><td>-0.62928</td><td>-0.917368</td><td>-0.379889</td><td>-1.24011</td><td>0.691574</td><td>-2.835285</td><td>0.178301</td><td>-0.165489</td><td>-0.650284</td><td>-1.016107</td><td>-0.749181</td><td>0.042224</td><td>2.158012</td><td>0.045086</td><td>0.111359</td><td>0.84576</td><td>-0.230913</td><td>0.427165</td><td>-1.537974</td><td>1.486062</td><td>-2.066559</td><td>-0.316272</td><td>0.450077</td><td>0.280446</td><td>0.364012</td><td>-0.620236</td><td>&hellip;</td><td>0.616615</td><td>-3.239643</td><td>-1.825323</td><td>0.570898</td><td>-2.269314</td><td>-1.521867</td><td>0.579782</td><td>1.825275</td><td>1.970124</td><td>-0.361749</td><td>0.919365</td><td>-3.558685</td><td>0.171499</td><td>-0.361806</td><td>0.986289</td><td>-1.67008</td><td>2.064031</td><td>-2.178992</td><td>-0.649455</td><td>-0.495606</td><td>-0.073334</td><td>1.235764</td><td>-0.028666</td><td>-0.705326</td><td>0.31606</td><td>-2.98007</td><td>-2.653455</td><td>-1.937858</td><td>0.401409</td><td>-3.6968</td><td>-1.049712</td><td>1.858056</td><td>-0.067528</td><td>-0.340288</td><td>2.020982</td><td>-0.053018</td><td>2.152794</td></tr><tr><td>&quot;B07&quot;</td><td>&quot;PB000036&quot;</td><td>&quot;B07_PB000036&quot;</td><td>&quot;HCT116&quot;</td><td>0.3</td><td>&quot;PI-103&quot;</td><td>&quot;PI-103&quot;</td><td>&quot;trt&quot;</td><td>&quot;PI3K/Akt/mTOR&quot;</td><td>&quot;Autophagy,DNA-PK,mTOR,PI3K&quot;</td><td>&quot;2D&quot;</td><td>-0.102923</td><td>1.794851</td><td>-1.97542</td><td>-0.908549</td><td>0.434462</td><td>-0.391808</td><td>0.392064</td><td>1.353782</td><td>-0.264114</td><td>-0.418179</td><td>1.052354</td><td>1.043352</td><td>-0.841842</td><td>-0.268674</td><td>0.80154</td><td>2.516044</td><td>0.030104</td><td>0.12936</td><td>-0.353496</td><td>0.317784</td><td>-1.87194</td><td>-0.930058</td><td>0.124121</td><td>-2.114439</td><td>0.431493</td><td>0.108915</td><td>&hellip;</td><td>-0.984985</td><td>-1.518261</td><td>0.438607</td><td>0.985753</td><td>-1.083687</td><td>0.489286</td><td>-1.597421</td><td>-1.931418</td><td>0.160494</td><td>0.027248</td><td>0.542025</td><td>0.745055</td><td>0.171499</td><td>0.174409</td><td>-0.629911</td><td>-1.699834</td><td>1.131782</td><td>0.183591</td><td>0.619654</td><td>-0.16395</td><td>0.51778</td><td>0.548893</td><td>2.259423</td><td>-0.323322</td><td>-0.874248</td><td>-2.037753</td><td>-3.340771</td><td>-0.628555</td><td>0.563905</td><td>-3.213187</td><td>1.507313</td><td>0.554384</td><td>0.377203</td><td>0.213224</td><td>-0.280219</td><td>-0.820354</td><td>1.573616</td></tr></tbody></table></div>"
      ],
      "text/plain": [
       "shape: (5, 860)\n",
       "┌───────────┬───────────┬───────────┬───────────┬───┬───────────┬───────────┬───────────┬──────────┐\n",
       "│ Metadata_ ┆ Metadata_ ┆ Metadata_ ┆ Metadata_ ┆ … ┆ RadialDis ┆ RadialDis ┆ RadialDis ┆ RadialDi │\n",
       "│ Well      ┆ barcode   ┆ PlateWell ┆ cell_line ┆   ┆ tribution ┆ tribution ┆ tribution ┆ stributi │\n",
       "│ ---       ┆ ---       ┆ ---       ┆ ---       ┆   ┆ _ZernikeM ┆ _ZernikeP ┆ _ZernikeP ┆ on_Zerni │\n",
       "│ str       ┆ str       ┆ str       ┆ str       ┆   ┆ agn…      ┆ has…      ┆ has…      ┆ kePhas…  │\n",
       "│           ┆           ┆           ┆           ┆   ┆ ---       ┆ ---       ┆ ---       ┆ ---      │\n",
       "│           ┆           ┆           ┆           ┆   ┆ f64       ┆ f64       ┆ f64       ┆ f64      │\n",
       "╞═══════════╪═══════════╪═══════════╪═══════════╪═══╪═══════════╪═══════════╪═══════════╪══════════╡\n",
       "│ B02       ┆ PB000036  ┆ B02_PB000 ┆ HCT116    ┆ … ┆ 0.330284  ┆ -0.666937 ┆ -1.321072 ┆ -1.18184 │\n",
       "│           ┆           ┆ 036       ┆           ┆   ┆           ┆           ┆           ┆ 5        │\n",
       "│ B03       ┆ PB000036  ┆ B03_PB000 ┆ HCT116    ┆ … ┆ 0.829411  ┆ 1.588752  ┆ -0.356246 ┆ -1.90021 │\n",
       "│           ┆           ┆ 036       ┆           ┆   ┆           ┆           ┆           ┆ 5        │\n",
       "│ B04       ┆ PB000036  ┆ B04_PB000 ┆ HCT116    ┆ … ┆ 0.945167  ┆ -0.342464 ┆ 1.008359  ┆ -0.87029 │\n",
       "│           ┆           ┆ 036       ┆           ┆   ┆           ┆           ┆           ┆          │\n",
       "│ B05       ┆ PB000036  ┆ B05_PB000 ┆ HCT116    ┆ … ┆ -0.340288 ┆ 2.020982  ┆ -0.053018 ┆ 2.152794 │\n",
       "│           ┆           ┆ 036       ┆           ┆   ┆           ┆           ┆           ┆          │\n",
       "│ B07       ┆ PB000036  ┆ B07_PB000 ┆ HCT116    ┆ … ┆ 0.213224  ┆ -0.280219 ┆ -0.820354 ┆ 1.573616 │\n",
       "│           ┆           ┆ 036       ┆           ┆   ┆           ┆           ┆           ┆          │\n",
       "└───────────┴───────────┴───────────┴───────────┴───┴───────────┴───────────┴───────────┴──────────┘"
      ]
     },
     "execution_count": 504,
     "metadata": {},
     "output_type": "execute_result"
    }
   ],
   "source": [
    "df1.head()"
   ]
  },
  {
   "cell_type": "code",
   "execution_count": 505,
   "metadata": {},
   "outputs": [],
   "source": [
    "df_floats=df1.select([c for c in df1.columns if not is_meta_column(c)]).select(float_columns)"
   ]
  },
  {
   "cell_type": "code",
   "execution_count": 506,
   "metadata": {},
   "outputs": [],
   "source": [
    "has_nan = df_floats.select(pl.all().is_nan().any()).row(0)[0]"
   ]
  },
  {
   "cell_type": "code",
   "execution_count": 507,
   "metadata": {},
   "outputs": [
    {
     "data": {
      "text/plain": [
       "False"
      ]
     },
     "execution_count": 507,
     "metadata": {},
     "output_type": "execute_result"
    }
   ],
   "source": [
    "has_nan"
   ]
  },
  {
   "cell_type": "code",
   "execution_count": 508,
   "metadata": {},
   "outputs": [
    {
     "data": {
      "text/plain": [
       "(1185, 860)"
      ]
     },
     "execution_count": 508,
     "metadata": {},
     "output_type": "execute_result"
    }
   ],
   "source": [
    "df1.shape"
   ]
  },
  {
   "cell_type": "code",
   "execution_count": 509,
   "metadata": {},
   "outputs": [],
   "source": [
    "df1 = df1.with_columns(\n",
    "    pl.when(pl.col('Metadata_pathway').is_null())\n",
    "      .then(pl.col('Metadata_cmpdname'))\n",
    "      .otherwise(pl.col('Metadata_pathway'))\n",
    "      .alias('Metadata_pathway')\n",
    ")"
   ]
  },
  {
   "cell_type": "code",
   "execution_count": 510,
   "metadata": {},
   "outputs": [],
   "source": [
    "l1 = df1.select('Metadata_pathway').unique().to_series().to_list()"
   ]
  },
  {
   "cell_type": "code",
   "execution_count": 511,
   "metadata": {},
   "outputs": [
    {
     "data": {
      "text/plain": [
       "22"
      ]
     },
     "execution_count": 511,
     "metadata": {},
     "output_type": "execute_result"
    }
   ],
   "source": [
    "len(l1)\n"
   ]
  },
  {
   "cell_type": "code",
   "execution_count": 512,
   "metadata": {},
   "outputs": [
    {
     "data": {
      "text/plain": [
       "['JAK/STAT',\n",
       " 'fenb',\n",
       " 'Cytoskeletal Signaling',\n",
       " 'flup',\n",
       " 'Protein Tyrosine Kinase',\n",
       " 'MAPK',\n",
       " 'Stem Cells & Wnt',\n",
       " 'DNA Damage',\n",
       " 'dmso',\n",
       " 'Apoptosis',\n",
       " 'Epigenetics',\n",
       " 'Angiogenesis',\n",
       " 'Others',\n",
       " 'stau',\n",
       " 'etop',\n",
       " 'Proteases',\n",
       " 'TGF-beta/Smad',\n",
       " 'water',\n",
       " 'Cell Cycle',\n",
       " 'PI3K/Akt/mTOR',\n",
       " 'sorb',\n",
       " 'water+']"
      ]
     },
     "execution_count": 512,
     "metadata": {},
     "output_type": "execute_result"
    }
   ],
   "source": [
    "l1"
   ]
  },
  {
   "cell_type": "code",
   "execution_count": 513,
   "metadata": {},
   "outputs": [],
   "source": [
    "l2 = ['Cell Cycle',\n",
    " 'Proteases',\n",
    " 'Apoptosis',\n",
    " 'Epigenetics',\n",
    " 'Others',\n",
    " 'stau',\n",
    " 'Cytoskeletal Signaling',\n",
    " 'PI3K/Akt/mTOR',\n",
    " 'DNA Damage',\n",
    " 'TGF-beta/Smad',\n",
    " 'Protein Tyrosine Kinase',\n",
    " 'fenb',\n",
    " 'sorb',\n",
    " 'water',\n",
    " 'dmso',\n",
    " 'MAPK',\n",
    " 'Stem Cells & Wnt',\n",
    " 'JAK/STAT',\n",
    " 'Angiogenesis',\n",
    " 'etop']"
   ]
  },
  {
   "cell_type": "code",
   "execution_count": 514,
   "metadata": {},
   "outputs": [
    {
     "data": {
      "text/plain": [
       "['Cell Cycle',\n",
       " 'Proteases',\n",
       " 'Apoptosis',\n",
       " 'Epigenetics',\n",
       " 'Others',\n",
       " 'stau',\n",
       " 'Cytoskeletal Signaling',\n",
       " 'PI3K/Akt/mTOR',\n",
       " 'DNA Damage',\n",
       " 'TGF-beta/Smad',\n",
       " 'Protein Tyrosine Kinase',\n",
       " 'fenb',\n",
       " 'sorb',\n",
       " 'water',\n",
       " 'dmso',\n",
       " 'MAPK',\n",
       " 'Stem Cells & Wnt',\n",
       " 'JAK/STAT',\n",
       " 'Angiogenesis',\n",
       " 'etop']"
      ]
     },
     "execution_count": 514,
     "metadata": {},
     "output_type": "execute_result"
    }
   ],
   "source": [
    "l2"
   ]
  },
  {
   "cell_type": "code",
   "execution_count": 515,
   "metadata": {},
   "outputs": [],
   "source": [
    "L3 = [l1 for l1 in l1 if l1 not in l2] + [l2 for l2 in l2 if l2 not in l1]\n",
    "\n",
    "\n",
    "\n"
   ]
  },
  {
   "cell_type": "code",
   "execution_count": 516,
   "metadata": {},
   "outputs": [
    {
     "data": {
      "text/plain": [
       "['flup', 'water+']"
      ]
     },
     "execution_count": 516,
     "metadata": {},
     "output_type": "execute_result"
    }
   ],
   "source": [
    "L3"
   ]
  },
  {
   "cell_type": "code",
   "execution_count": 517,
   "metadata": {},
   "outputs": [],
   "source": [
    "ignore_list = ['water','water+','flup','dmso']"
   ]
  },
  {
   "cell_type": "code",
   "execution_count": 518,
   "metadata": {},
   "outputs": [
    {
     "data": {
      "text/html": [
       "<div><style>\n",
       ".dataframe > thead > tr,\n",
       ".dataframe > tbody > tr {\n",
       "  text-align: right;\n",
       "  white-space: pre-wrap;\n",
       "}\n",
       "</style>\n",
       "<small>shape: (5, 860)</small><table border=\"1\" class=\"dataframe\"><thead><tr><th>Metadata_Well</th><th>Metadata_barcode</th><th>Metadata_PlateWell</th><th>Metadata_cell_line</th><th>Metadata_cmpd_conc</th><th>Metadata_cmpdname</th><th>Metadata_name</th><th>Metadata_pert_type</th><th>Metadata_pathway</th><th>Metadata_target</th><th>Metadata_data_type</th><th>Intensity_StdIntensity_illumSYTO_nuclei</th><th>RadialDistribution_ZernikePhase_illumPHAandWGA_5_5_cytoplasm</th><th>RadialDistribution_ZernikePhase_illumHOECHST_1_1_cytoplasm</th><th>Correlation_K_illumSYTO_illumCONC_nuclei</th><th>RadialDistribution_ZernikeMagnitude_illumSYTO_9_7_cells</th><th>Correlation_Overlap_illumPHAandWGA_illumSYTO_cytoplasm</th><th>RadialDistribution_ZernikePhase_illumCONC_6_4_nuclei</th><th>RadialDistribution_ZernikePhase_illumCONC_5_5_cytoplasm</th><th>RadialDistribution_ZernikeMagnitude_illumPHAandWGA_2_2_nuclei</th><th>Intensity_UpperQuartileIntensity_illumSYTO_nuclei</th><th>RadialDistribution_ZernikePhase_illumSYTO_7_7_nuclei</th><th>RadialDistribution_ZernikePhase_illumHOECHST_9_9_nuclei</th><th>RadialDistribution_ZernikePhase_illumMITO_5_1_nuclei</th><th>RadialDistribution_ZernikePhase_illumCONC_1_1_cells</th><th>Correlation_RWC_illumHOECHST_illumPHAandWGA_cytoplasm</th><th>RadialDistribution_ZernikePhase_illumHOECHST_8_6_cells</th><th>RadialDistribution_ZernikePhase_illumPHAandWGA_9_1_cells</th><th>AreaShape_Zernike_9_1_cytoplasm</th><th>AreaShape_Zernike_7_1_cytoplasm</th><th>RadialDistribution_ZernikePhase_illumHOECHST_3_1_nuclei</th><th>Granularity_3_illumPHAandWGA_cells</th><th>Granularity_3_illumMITO_cells</th><th>RadialDistribution_ZernikeMagnitude_illumHOECHST_4_0_nuclei</th><th>Granularity_4_illumPHAandWGA_cytoplasm</th><th>RadialDistribution_ZernikeMagnitude_illumSYTO_2_0_cytoplasm</th><th>Correlation_RWC_illumMITO_illumSYTO_cells</th><th>&hellip;</th><th>RadialDistribution_ZernikePhase_illumCONC_8_8_cytoplasm</th><th>Correlation_K_illumHOECHST_illumCONC_cells</th><th>RadialDistribution_MeanFrac_illumHOECHST_1of4_cytoplasm</th><th>Granularity_11_illumCONC_nuclei</th><th>AreaShape_Zernike_9_5_cytoplasm</th><th>RadialDistribution_ZernikePhase_illumSYTO_3_3_cytoplasm</th><th>RadialDistribution_ZernikePhase_illumHOECHST_7_1_cytoplasm</th><th>RadialDistribution_ZernikePhase_illumHOECHST_7_3_cytoplasm</th><th>RadialDistribution_ZernikePhase_illumMITO_6_2_nuclei</th><th>RadialDistribution_RadialCV_illumMITO_1of4_cells</th><th>Granularity_13_illumHOECHST_cells</th><th>RadialDistribution_RadialCV_illumHOECHST_2of4_nuclei</th><th>Correlation_Manders_illumMITO_illumSYTO_cytoplasm</th><th>Correlation_K_illumHOECHST_illumSYTO_nuclei</th><th>RadialDistribution_ZernikeMagnitude_illumHOECHST_8_6_nuclei</th><th>RadialDistribution_ZernikeMagnitude_illumCONC_8_0_cells</th><th>RadialDistribution_ZernikePhase_illumPHAandWGA_9_5_nuclei</th><th>RadialDistribution_ZernikePhase_illumCONC_7_7_nuclei</th><th>RadialDistribution_ZernikePhase_illumHOECHST_4_4_nuclei</th><th>RadialDistribution_ZernikeMagnitude_illumPHAandWGA_4_2_cytoplasm</th><th>RadialDistribution_ZernikePhase_illumHOECHST_9_5_cells</th><th>RadialDistribution_ZernikeMagnitude_illumHOECHST_2_0_cytoplasm</th><th>RadialDistribution_ZernikePhase_illumCONC_5_3_cytoplasm</th><th>RadialDistribution_ZernikePhase_illumCONC_7_5_nuclei</th><th>RadialDistribution_ZernikePhase_illumMITO_8_8_cells</th><th>RadialDistribution_ZernikeMagnitude_illumCONC_1_1_cytoplasm</th><th>AreaShape_Zernike_4_4_nuclei</th><th>Correlation_Correlation_illumHOECHST_illumSYTO_nuclei</th><th>RadialDistribution_ZernikeMagnitude_illumPHAandWGA_4_0_nuclei</th><th>Intensity_MaxIntensity_illumCONC_cytoplasm</th><th>Correlation_Correlation_illumHOECHST_illumMITO_cytoplasm</th><th>RadialDistribution_FracAtD_illumHOECHST_3of4_cytoplasm</th><th>RadialDistribution_ZernikeMagnitude_illumPHAandWGA_5_1_cytoplasm</th><th>RadialDistribution_ZernikeMagnitude_illumSYTO_6_0_nuclei</th><th>RadialDistribution_ZernikePhase_illumMITO_4_4_nuclei</th><th>RadialDistribution_ZernikePhase_illumHOECHST_2_2_cells</th><th>RadialDistribution_ZernikePhase_illumCONC_3_1_nuclei</th></tr><tr><td>str</td><td>str</td><td>str</td><td>str</td><td>f64</td><td>str</td><td>str</td><td>str</td><td>str</td><td>str</td><td>str</td><td>f64</td><td>f64</td><td>f64</td><td>f64</td><td>f64</td><td>f64</td><td>f64</td><td>f64</td><td>f64</td><td>f64</td><td>f64</td><td>f64</td><td>f64</td><td>f64</td><td>f64</td><td>f64</td><td>f64</td><td>f64</td><td>f64</td><td>f64</td><td>f64</td><td>f64</td><td>f64</td><td>f64</td><td>f64</td><td>f64</td><td>&hellip;</td><td>f64</td><td>f64</td><td>f64</td><td>f64</td><td>f64</td><td>f64</td><td>f64</td><td>f64</td><td>f64</td><td>f64</td><td>f64</td><td>f64</td><td>f64</td><td>f64</td><td>f64</td><td>f64</td><td>f64</td><td>f64</td><td>f64</td><td>f64</td><td>f64</td><td>f64</td><td>f64</td><td>f64</td><td>f64</td><td>f64</td><td>f64</td><td>f64</td><td>f64</td><td>f64</td><td>f64</td><td>f64</td><td>f64</td><td>f64</td><td>f64</td><td>f64</td><td>f64</td></tr></thead><tbody><tr><td>&quot;B02&quot;</td><td>&quot;PB000036&quot;</td><td>&quot;B02_PB000036&quot;</td><td>&quot;HCT116&quot;</td><td>3.0</td><td>&quot;flup&quot;</td><td>&quot;flup&quot;</td><td>&quot;pos_con&quot;</td><td>&quot;flup&quot;</td><td>null</td><td>&quot;2D&quot;</td><td>0.20286</td><td>-0.568621</td><td>-0.303259</td><td>-0.228477</td><td>0.486931</td><td>-2.911519</td><td>0.740986</td><td>0.461446</td><td>1.63652</td><td>-0.318561</td><td>-0.329387</td><td>1.868213</td><td>1.603759</td><td>-0.150777</td><td>0.952731</td><td>0.320654</td><td>0.361733</td><td>-0.572424</td><td>-1.39086</td><td>-0.156736</td><td>-1.292192</td><td>-0.118325</td><td>-0.795422</td><td>0.918727</td><td>1.384201</td><td>-1.078017</td><td>&hellip;</td><td>-0.364982</td><td>-0.515647</td><td>-2.095888</td><td>1.669369</td><td>2.372478</td><td>0.795954</td><td>-0.239041</td><td>-0.58652</td><td>-1.161984</td><td>1.882513</td><td>1.20611</td><td>-0.258996</td><td>0.171499</td><td>-0.133728</td><td>2.083931</td><td>1.945313</td><td>0.569475</td><td>0.478048</td><td>-1.093045</td><td>1.003372</td><td>0.182831</td><td>2.64854</td><td>-0.880877</td><td>0.379877</td><td>-0.347967</td><td>0.540114</td><td>3.387727</td><td>-0.877729</td><td>0.676508</td><td>2.271046</td><td>-1.367095</td><td>0.078108</td><td>0.803239</td><td>0.330284</td><td>-0.666937</td><td>-1.321072</td><td>-1.181845</td></tr><tr><td>&quot;B03&quot;</td><td>&quot;PB000036&quot;</td><td>&quot;B03_PB000036&quot;</td><td>&quot;HCT116&quot;</td><td>0.3</td><td>&quot;ABT-737&quot;</td><td>&quot;ABT-73&quot;</td><td>&quot;trt&quot;</td><td>&quot;Apoptosis&quot;</td><td>&quot;Bcl-2,Autophagy&quot;</td><td>&quot;2D&quot;</td><td>0.971481</td><td>0.390811</td><td>-0.494672</td><td>-0.790154</td><td>1.25494</td><td>-0.661292</td><td>1.799229</td><td>-0.079341</td><td>0.91483</td><td>0.93261</td><td>-0.441873</td><td>0.291853</td><td>1.228163</td><td>-0.550585</td><td>1.301858</td><td>1.550707</td><td>-2.150948</td><td>0.278464</td><td>-1.587169</td><td>1.094515</td><td>-1.833835</td><td>-0.659014</td><td>0.836698</td><td>-1.038529</td><td>1.614253</td><td>0.440481</td><td>&hellip;</td><td>2.557117</td><td>0.044785</td><td>-2.278925</td><td>0.087588</td><td>0.723158</td><td>0.105169</td><td>-0.757663</td><td>0.788397</td><td>-0.647443</td><td>1.779361</td><td>-0.377035</td><td>-0.875644</td><td>0.171499</td><td>0.816943</td><td>1.37874</td><td>1.733253</td><td>1.250704</td><td>-2.113579</td><td>1.068136</td><td>0.542553</td><td>1.304035</td><td>0.541227</td><td>-0.264627</td><td>-1.208643</td><td>1.683797</td><td>-0.367726</td><td>1.276327</td><td>-1.048371</td><td>1.127385</td><td>1.331935</td><td>1.440011</td><td>0.633118</td><td>0.941737</td><td>0.829411</td><td>1.588752</td><td>-0.356246</td><td>-1.900215</td></tr><tr><td>&quot;B04&quot;</td><td>&quot;PB000036&quot;</td><td>&quot;B04_PB000036&quot;</td><td>&quot;HCT116&quot;</td><td>0.1</td><td>&quot;Afatinib (BIBW2992)&quot;</td><td>&quot;Afatin&quot;</td><td>&quot;trt&quot;</td><td>&quot;Protein Tyrosine Kinase&quot;</td><td>&quot;EGFR,HER2&quot;</td><td>&quot;2D&quot;</td><td>1.053105</td><td>-0.581538</td><td>-0.073101</td><td>-1.347291</td><td>0.937404</td><td>-0.968898</td><td>-0.915734</td><td>-0.520603</td><td>0.395322</td><td>0.955155</td><td>0.776383</td><td>0.606124</td><td>-1.37084</td><td>0.244985</td><td>0.708934</td><td>1.032517</td><td>-0.468851</td><td>-0.296816</td><td>-0.509392</td><td>-0.536981</td><td>-0.213458</td><td>0.436685</td><td>0.699708</td><td>0.544272</td><td>1.117754</td><td>0.098415</td><td>&hellip;</td><td>1.483447</td><td>-1.031697</td><td>-0.498257</td><td>0.070495</td><td>1.071247</td><td>-1.597936</td><td>0.826856</td><td>0.828973</td><td>0.220126</td><td>0.251451</td><td>0.005364</td><td>-0.737239</td><td>0.171499</td><td>0.735609</td><td>1.459687</td><td>0.87625</td><td>0.348447</td><td>0.782274</td><td>0.508021</td><td>0.155009</td><td>0.905352</td><td>0.915941</td><td>0.700066</td><td>0.54671</td><td>1.945898</td><td>-0.736693</td><td>0.245825</td><td>-0.778441</td><td>0.084435</td><td>-0.027978</td><td>0.221345</td><td>1.020448</td><td>0.403196</td><td>0.945167</td><td>-0.342464</td><td>1.008359</td><td>-0.87029</td></tr><tr><td>&quot;B05&quot;</td><td>&quot;PB000036&quot;</td><td>&quot;B05_PB000036&quot;</td><td>&quot;HCT116&quot;</td><td>3.0</td><td>&quot;Linsitinib (OSI-906)&quot;</td><td>&quot;Linsit&quot;</td><td>&quot;trt&quot;</td><td>&quot;Protein Tyrosine Kinase&quot;</td><td>&quot;IGF-1R&quot;</td><td>&quot;2D&quot;</td><td>-0.62928</td><td>-0.917368</td><td>-0.379889</td><td>-1.24011</td><td>0.691574</td><td>-2.835285</td><td>0.178301</td><td>-0.165489</td><td>-0.650284</td><td>-1.016107</td><td>-0.749181</td><td>0.042224</td><td>2.158012</td><td>0.045086</td><td>0.111359</td><td>0.84576</td><td>-0.230913</td><td>0.427165</td><td>-1.537974</td><td>1.486062</td><td>-2.066559</td><td>-0.316272</td><td>0.450077</td><td>0.280446</td><td>0.364012</td><td>-0.620236</td><td>&hellip;</td><td>0.616615</td><td>-3.239643</td><td>-1.825323</td><td>0.570898</td><td>-2.269314</td><td>-1.521867</td><td>0.579782</td><td>1.825275</td><td>1.970124</td><td>-0.361749</td><td>0.919365</td><td>-3.558685</td><td>0.171499</td><td>-0.361806</td><td>0.986289</td><td>-1.67008</td><td>2.064031</td><td>-2.178992</td><td>-0.649455</td><td>-0.495606</td><td>-0.073334</td><td>1.235764</td><td>-0.028666</td><td>-0.705326</td><td>0.31606</td><td>-2.98007</td><td>-2.653455</td><td>-1.937858</td><td>0.401409</td><td>-3.6968</td><td>-1.049712</td><td>1.858056</td><td>-0.067528</td><td>-0.340288</td><td>2.020982</td><td>-0.053018</td><td>2.152794</td></tr><tr><td>&quot;B07&quot;</td><td>&quot;PB000036&quot;</td><td>&quot;B07_PB000036&quot;</td><td>&quot;HCT116&quot;</td><td>0.3</td><td>&quot;PI-103&quot;</td><td>&quot;PI-103&quot;</td><td>&quot;trt&quot;</td><td>&quot;PI3K/Akt/mTOR&quot;</td><td>&quot;Autophagy,DNA-PK,mTOR,PI3K&quot;</td><td>&quot;2D&quot;</td><td>-0.102923</td><td>1.794851</td><td>-1.97542</td><td>-0.908549</td><td>0.434462</td><td>-0.391808</td><td>0.392064</td><td>1.353782</td><td>-0.264114</td><td>-0.418179</td><td>1.052354</td><td>1.043352</td><td>-0.841842</td><td>-0.268674</td><td>0.80154</td><td>2.516044</td><td>0.030104</td><td>0.12936</td><td>-0.353496</td><td>0.317784</td><td>-1.87194</td><td>-0.930058</td><td>0.124121</td><td>-2.114439</td><td>0.431493</td><td>0.108915</td><td>&hellip;</td><td>-0.984985</td><td>-1.518261</td><td>0.438607</td><td>0.985753</td><td>-1.083687</td><td>0.489286</td><td>-1.597421</td><td>-1.931418</td><td>0.160494</td><td>0.027248</td><td>0.542025</td><td>0.745055</td><td>0.171499</td><td>0.174409</td><td>-0.629911</td><td>-1.699834</td><td>1.131782</td><td>0.183591</td><td>0.619654</td><td>-0.16395</td><td>0.51778</td><td>0.548893</td><td>2.259423</td><td>-0.323322</td><td>-0.874248</td><td>-2.037753</td><td>-3.340771</td><td>-0.628555</td><td>0.563905</td><td>-3.213187</td><td>1.507313</td><td>0.554384</td><td>0.377203</td><td>0.213224</td><td>-0.280219</td><td>-0.820354</td><td>1.573616</td></tr></tbody></table></div>"
      ],
      "text/plain": [
       "shape: (5, 860)\n",
       "┌───────────┬───────────┬───────────┬───────────┬───┬───────────┬───────────┬───────────┬──────────┐\n",
       "│ Metadata_ ┆ Metadata_ ┆ Metadata_ ┆ Metadata_ ┆ … ┆ RadialDis ┆ RadialDis ┆ RadialDis ┆ RadialDi │\n",
       "│ Well      ┆ barcode   ┆ PlateWell ┆ cell_line ┆   ┆ tribution ┆ tribution ┆ tribution ┆ stributi │\n",
       "│ ---       ┆ ---       ┆ ---       ┆ ---       ┆   ┆ _ZernikeM ┆ _ZernikeP ┆ _ZernikeP ┆ on_Zerni │\n",
       "│ str       ┆ str       ┆ str       ┆ str       ┆   ┆ agn…      ┆ has…      ┆ has…      ┆ kePhas…  │\n",
       "│           ┆           ┆           ┆           ┆   ┆ ---       ┆ ---       ┆ ---       ┆ ---      │\n",
       "│           ┆           ┆           ┆           ┆   ┆ f64       ┆ f64       ┆ f64       ┆ f64      │\n",
       "╞═══════════╪═══════════╪═══════════╪═══════════╪═══╪═══════════╪═══════════╪═══════════╪══════════╡\n",
       "│ B02       ┆ PB000036  ┆ B02_PB000 ┆ HCT116    ┆ … ┆ 0.330284  ┆ -0.666937 ┆ -1.321072 ┆ -1.18184 │\n",
       "│           ┆           ┆ 036       ┆           ┆   ┆           ┆           ┆           ┆ 5        │\n",
       "│ B03       ┆ PB000036  ┆ B03_PB000 ┆ HCT116    ┆ … ┆ 0.829411  ┆ 1.588752  ┆ -0.356246 ┆ -1.90021 │\n",
       "│           ┆           ┆ 036       ┆           ┆   ┆           ┆           ┆           ┆ 5        │\n",
       "│ B04       ┆ PB000036  ┆ B04_PB000 ┆ HCT116    ┆ … ┆ 0.945167  ┆ -0.342464 ┆ 1.008359  ┆ -0.87029 │\n",
       "│           ┆           ┆ 036       ┆           ┆   ┆           ┆           ┆           ┆          │\n",
       "│ B05       ┆ PB000036  ┆ B05_PB000 ┆ HCT116    ┆ … ┆ -0.340288 ┆ 2.020982  ┆ -0.053018 ┆ 2.152794 │\n",
       "│           ┆           ┆ 036       ┆           ┆   ┆           ┆           ┆           ┆          │\n",
       "│ B07       ┆ PB000036  ┆ B07_PB000 ┆ HCT116    ┆ … ┆ 0.213224  ┆ -0.280219 ┆ -0.820354 ┆ 1.573616 │\n",
       "│           ┆           ┆ 036       ┆           ┆   ┆           ┆           ┆           ┆          │\n",
       "└───────────┴───────────┴───────────┴───────────┴───┴───────────┴───────────┴───────────┴──────────┘"
      ]
     },
     "execution_count": 518,
     "metadata": {},
     "output_type": "execute_result"
    }
   ],
   "source": [
    "df1.head()"
   ]
  },
  {
   "cell_type": "code",
   "execution_count": null,
   "metadata": {},
   "outputs": [],
   "source": []
  }
 ],
 "metadata": {
  "kernelspec": {
   "display_name": "Python 3",
   "language": "python",
   "name": "python3"
  },
  "language_info": {
   "codemirror_mode": {
    "name": "ipython",
    "version": 3
   },
   "file_extension": ".py",
   "mimetype": "text/x-python",
   "name": "python",
   "nbconvert_exporter": "python",
   "pygments_lexer": "ipython3",
   "version": "3.10.12"
  }
 },
 "nbformat": 4,
 "nbformat_minor": 2
}
