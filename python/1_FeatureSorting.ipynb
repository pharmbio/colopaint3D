{
 "cells": [
  {
   "cell_type": "code",
   "execution_count": 1,
   "metadata": {},
   "outputs": [
    {
     "data": {
      "text/plain": [
       "'/scratch2-shared/david/sartoriusNB'"
      ]
     },
     "execution_count": 1,
     "metadata": {},
     "output_type": "execute_result"
    }
   ],
   "source": [
    "import os\n",
    "import pandas as pd \n",
    "import polars as pl # like pandas, but much faster\n",
    "import polars.selectors as cs\n",
    "import numpy as np\n",
    "import os, shutil, glob\n",
    "from random import randint\n",
    "import re, math\n",
    "import datetime\n",
    "import gc\n",
    "from pathlib import Path\n",
    "\n",
    "os.getcwd()\n"
   ]
  },
  {
   "cell_type": "markdown",
   "metadata": {},
   "source": [
    "### Read data"
   ]
  },
  {
   "cell_type": "code",
   "execution_count": 2,
   "metadata": {},
   "outputs": [],
   "source": [
    "\n",
    "rootDir = '/share/data/cellprofiler/automation/results'\n"
   ]
  },
  {
   "cell_type": "markdown",
   "metadata": {},
   "source": [
    "### Input directories"
   ]
  },
  {
   "cell_type": "code",
   "execution_count": 3,
   "metadata": {},
   "outputs": [
    {
     "name": "stdout",
     "output_type": "stream",
     "text": [
      "shape: (3, 1)\n",
      "┌───────────────────┐\n",
      "│ feature_names     │\n",
      "│ ---               │\n",
      "│ str               │\n",
      "╞═══════════════════╡\n",
      "│ featICF_nuclei    │\n",
      "│ featICF_cells     │\n",
      "│ featICF_cytoplasm │\n",
      "└───────────────────┘\n"
     ]
    }
   ],
   "source": [
    "OutputDir = 'output/bfmoalive_pilot/1_FeaturesImages'\n",
    "if not os.path.exists(OutputDir): \n",
    "    os.makedirs(OutputDir)\n",
    "NameContains = ''\n",
    "InputFolders = pl.read_csv('./settings/filemap.csv')\n",
    "print(InputFolders )\n",
    "            \n"
   ]
  },
  {
   "cell_type": "code",
   "execution_count": 4,
   "metadata": {},
   "outputs": [
    {
     "name": "stdout",
     "output_type": "stream",
     "text": [
      "Current date and time : \n",
      "2024-05-03 13:41:47\n"
     ]
    }
   ],
   "source": [
    "now = datetime.datetime.now()\n",
    "print ('Current date and time : ')\n",
    "print (now.strftime('%Y-%m-%d %H:%M:%S'))"
   ]
  },
  {
   "cell_type": "code",
   "execution_count": 5,
   "metadata": {},
   "outputs": [],
   "source": [
    "def print_time(msg=None):\n",
    "    now = datetime.datetime.now()\n",
    "    print(now.strftime('%Y-%m-%d %H:%M:%S'),msg or \"\")\n",
    "float_columns=[pl.col(pl.Float32),pl.col(pl.Float64)]"
   ]
  },
  {
   "cell_type": "code",
   "execution_count": 6,
   "metadata": {},
   "outputs": [],
   "source": [
    "metaEx = pl.read_csv('/home/jovyan/scratch2-shared/david/sartoriusNB/settings/bfmoalive108_platelayout_v4.csv')\n"
   ]
  },
  {
   "cell_type": "code",
   "execution_count": 7,
   "metadata": {},
   "outputs": [
    {
     "data": {
      "text/html": [
       "<div><style>\n",
       ".dataframe > thead > tr,\n",
       ".dataframe > tbody > tr {\n",
       "  text-align: right;\n",
       "  white-space: pre-wrap;\n",
       "}\n",
       "</style>\n",
       "<small>shape: (5, 11)</small><table border=\"1\" class=\"dataframe\"><thead><tr><th>Plate_ID</th><th>Well_ID</th><th>Compound_ID</th><th>Batch_ID</th><th>Form</th><th>Conc_mM</th><th>Vol_nL</th><th>cmpdname</th><th>moa_group</th><th>target</th><th>moa</th></tr><tr><td>str</td><td>str</td><td>str</td><td>str</td><td>str</td><td>i64</td><td>f64</td><td>str</td><td>str</td><td>str</td><td>str</td></tr></thead><tbody><tr><td>&quot;P104700&quot;</td><td>&quot;A01&quot;</td><td>&quot;DMSO&quot;</td><td>&quot;DMSO&quot;</td><td>&quot;DMSO&quot;</td><td>10</td><td>30.0</td><td>&quot;dmso&quot;</td><td>&quot;dmso&quot;</td><td>&quot;neg_con&quot;</td><td>&quot;dmso&quot;</td></tr><tr><td>&quot;P104700&quot;</td><td>&quot;A02&quot;</td><td>&quot;CBK277969&quot;</td><td>&quot;BJ1894267&quot;</td><td>&quot;DMSO&quot;</td><td>10</td><td>10.0</td><td>&quot;Indibulin&quot;</td><td>&quot;TUB&quot;</td><td>null</td><td>&quot;tubulin polyme…</td></tr><tr><td>&quot;P104700&quot;</td><td>&quot;A02&quot;</td><td>&quot;DMSO&quot;</td><td>&quot;DMSO&quot;</td><td>&quot;DMSO&quot;</td><td>10</td><td>20.0</td><td>&quot;dmso&quot;</td><td>&quot;dmso&quot;</td><td>&quot;neg_con&quot;</td><td>&quot;dmso&quot;</td></tr><tr><td>&quot;P104700&quot;</td><td>&quot;A03&quot;</td><td>&quot;CBK307989&quot;</td><td>&quot;BJ1896004&quot;</td><td>&quot;DMSO&quot;</td><td>10</td><td>30.0</td><td>&quot;RWJ-67657&quot;</td><td>&quot;MAPK&quot;</td><td>&quot;MAPK&quot;</td><td>&quot;undefined&quot;</td></tr><tr><td>&quot;P104700&quot;</td><td>&quot;A04&quot;</td><td>&quot;CBK041168&quot;</td><td>&quot;BJ1894345&quot;</td><td>&quot;DMSO&quot;</td><td>10</td><td>30.0</td><td>&quot;SB-203580&quot;</td><td>&quot;MAPK&quot;</td><td>&quot;MAPK14&quot;</td><td>&quot;undefined&quot;</td></tr></tbody></table></div>"
      ],
      "text/plain": [
       "shape: (5, 11)\n",
       "┌──────────┬─────────┬─────────────┬───────────┬───┬───────────┬───────────┬─────────┬─────────────┐\n",
       "│ Plate_ID ┆ Well_ID ┆ Compound_ID ┆ Batch_ID  ┆ … ┆ cmpdname  ┆ moa_group ┆ target  ┆ moa         │\n",
       "│ ---      ┆ ---     ┆ ---         ┆ ---       ┆   ┆ ---       ┆ ---       ┆ ---     ┆ ---         │\n",
       "│ str      ┆ str     ┆ str         ┆ str       ┆   ┆ str       ┆ str       ┆ str     ┆ str         │\n",
       "╞══════════╪═════════╪═════════════╪═══════════╪═══╪═══════════╪═══════════╪═════════╪═════════════╡\n",
       "│ P104700  ┆ A01     ┆ DMSO        ┆ DMSO      ┆ … ┆ dmso      ┆ dmso      ┆ neg_con ┆ dmso        │\n",
       "│ P104700  ┆ A02     ┆ CBK277969   ┆ BJ1894267 ┆ … ┆ Indibulin ┆ TUB       ┆ null    ┆ tubulin pol │\n",
       "│          ┆         ┆             ┆           ┆   ┆           ┆           ┆         ┆ ymerization │\n",
       "│          ┆         ┆             ┆           ┆   ┆           ┆           ┆         ┆ inhibitor   │\n",
       "│ P104700  ┆ A02     ┆ DMSO        ┆ DMSO      ┆ … ┆ dmso      ┆ dmso      ┆ neg_con ┆ dmso        │\n",
       "│ P104700  ┆ A03     ┆ CBK307989   ┆ BJ1896004 ┆ … ┆ RWJ-67657 ┆ MAPK      ┆ MAPK    ┆ undefined   │\n",
       "│ P104700  ┆ A04     ┆ CBK041168   ┆ BJ1894345 ┆ … ┆ SB-203580 ┆ MAPK      ┆ MAPK14  ┆ undefined   │\n",
       "└──────────┴─────────┴─────────────┴───────────┴───┴───────────┴───────────┴─────────┴─────────────┘"
      ]
     },
     "execution_count": 7,
     "metadata": {},
     "output_type": "execute_result"
    }
   ],
   "source": [
    "metaEx.head()\n",
    "\n"
   ]
  },
  {
   "cell_type": "code",
   "execution_count": 8,
   "metadata": {},
   "outputs": [],
   "source": [
    "metadmso = metaEx.filter(pl.col('Compound_ID')=='DMSO')"
   ]
  },
  {
   "cell_type": "code",
   "execution_count": 9,
   "metadata": {},
   "outputs": [
    {
     "data": {
      "text/html": [
       "<div><style>\n",
       ".dataframe > thead > tr,\n",
       ".dataframe > tbody > tr {\n",
       "  text-align: right;\n",
       "  white-space: pre-wrap;\n",
       "}\n",
       "</style>\n",
       "<small>shape: (5, 11)</small><table border=\"1\" class=\"dataframe\"><thead><tr><th>Plate_ID</th><th>Well_ID</th><th>Compound_ID</th><th>Batch_ID</th><th>Form</th><th>Conc_mM</th><th>Vol_nL</th><th>cmpdname</th><th>moa_group</th><th>target</th><th>moa</th></tr><tr><td>str</td><td>str</td><td>str</td><td>str</td><td>str</td><td>i64</td><td>f64</td><td>str</td><td>str</td><td>str</td><td>str</td></tr></thead><tbody><tr><td>&quot;P104700&quot;</td><td>&quot;A01&quot;</td><td>&quot;DMSO&quot;</td><td>&quot;DMSO&quot;</td><td>&quot;DMSO&quot;</td><td>10</td><td>30.0</td><td>&quot;dmso&quot;</td><td>&quot;dmso&quot;</td><td>&quot;neg_con&quot;</td><td>&quot;dmso&quot;</td></tr><tr><td>&quot;P104700&quot;</td><td>&quot;A02&quot;</td><td>&quot;DMSO&quot;</td><td>&quot;DMSO&quot;</td><td>&quot;DMSO&quot;</td><td>10</td><td>20.0</td><td>&quot;dmso&quot;</td><td>&quot;dmso&quot;</td><td>&quot;neg_con&quot;</td><td>&quot;dmso&quot;</td></tr><tr><td>&quot;P104700&quot;</td><td>&quot;A05&quot;</td><td>&quot;DMSO&quot;</td><td>&quot;DMSO&quot;</td><td>&quot;DMSO&quot;</td><td>10</td><td>20.0</td><td>&quot;dmso&quot;</td><td>&quot;dmso&quot;</td><td>&quot;neg_con&quot;</td><td>&quot;dmso&quot;</td></tr><tr><td>&quot;P104700&quot;</td><td>&quot;A06&quot;</td><td>&quot;DMSO&quot;</td><td>&quot;DMSO&quot;</td><td>&quot;DMSO&quot;</td><td>10</td><td>27.5</td><td>&quot;dmso&quot;</td><td>&quot;dmso&quot;</td><td>&quot;neg_con&quot;</td><td>&quot;dmso&quot;</td></tr><tr><td>&quot;P104700&quot;</td><td>&quot;A09&quot;</td><td>&quot;DMSO&quot;</td><td>&quot;DMSO&quot;</td><td>&quot;DMSO&quot;</td><td>10</td><td>27.5</td><td>&quot;dmso&quot;</td><td>&quot;dmso&quot;</td><td>&quot;neg_con&quot;</td><td>&quot;dmso&quot;</td></tr></tbody></table></div>"
      ],
      "text/plain": [
       "shape: (5, 11)\n",
       "┌──────────┬─────────┬─────────────┬──────────┬───┬──────────┬───────────┬─────────┬──────┐\n",
       "│ Plate_ID ┆ Well_ID ┆ Compound_ID ┆ Batch_ID ┆ … ┆ cmpdname ┆ moa_group ┆ target  ┆ moa  │\n",
       "│ ---      ┆ ---     ┆ ---         ┆ ---      ┆   ┆ ---      ┆ ---       ┆ ---     ┆ ---  │\n",
       "│ str      ┆ str     ┆ str         ┆ str      ┆   ┆ str      ┆ str       ┆ str     ┆ str  │\n",
       "╞══════════╪═════════╪═════════════╪══════════╪═══╪══════════╪═══════════╪═════════╪══════╡\n",
       "│ P104700  ┆ A01     ┆ DMSO        ┆ DMSO     ┆ … ┆ dmso     ┆ dmso      ┆ neg_con ┆ dmso │\n",
       "│ P104700  ┆ A02     ┆ DMSO        ┆ DMSO     ┆ … ┆ dmso     ┆ dmso      ┆ neg_con ┆ dmso │\n",
       "│ P104700  ┆ A05     ┆ DMSO        ┆ DMSO     ┆ … ┆ dmso     ┆ dmso      ┆ neg_con ┆ dmso │\n",
       "│ P104700  ┆ A06     ┆ DMSO        ┆ DMSO     ┆ … ┆ dmso     ┆ dmso      ┆ neg_con ┆ dmso │\n",
       "│ P104700  ┆ A09     ┆ DMSO        ┆ DMSO     ┆ … ┆ dmso     ┆ dmso      ┆ neg_con ┆ dmso │\n",
       "└──────────┴─────────┴─────────────┴──────────┴───┴──────────┴───────────┴─────────┴──────┘"
      ]
     },
     "execution_count": 9,
     "metadata": {},
     "output_type": "execute_result"
    }
   ],
   "source": [
    "metadmso.head()"
   ]
  },
  {
   "cell_type": "code",
   "execution_count": 10,
   "metadata": {},
   "outputs": [],
   "source": [
    "use_clipping = False\n",
    "\n",
    "std_mean = True"
   ]
  },
  {
   "cell_type": "code",
   "execution_count": 11,
   "metadata": {},
   "outputs": [
    {
     "name": "stdout",
     "output_type": "stream",
     "text": [
      "part1\n",
      "processed some metadata\n",
      "2024-05-03 13:44:07 dropped NaNs\n"
     ]
    },
    {
     "name": "stderr",
     "output_type": "stream",
     "text": [
      "/tmp/ipykernel_131374/3105981221.py:103: DeprecationWarning: `map_dict` is deprecated. It has been renamed to `replace`. The default behavior has changed to keep any values not present in the mapping unchanged. Pass `default=None` to keep existing behavior.\n",
      "  std = std.select([pl.col(c).map_dict({0: 1}, default=pl.col(c)) for c in std.columns])\n"
     ]
    },
    {
     "name": "stdout",
     "output_type": "stream",
     "text": [
      "2024-05-03 13:44:09 calculated DMSO distribution\n",
      "2024-05-03 13:45:54 binned mean data per well\n"
     ]
    },
    {
     "name": "stderr",
     "output_type": "stream",
     "text": [
      "/tmp/ipykernel_131374/3105981221.py:171: DeprecationWarning: `map_dict` is deprecated. It has been renamed to `replace`. The default behavior has changed to keep any values not present in the mapping unchanged. Pass `default=None` to keep existing behavior.\n",
      "  mad = mad.select([pl.col(c).map_dict({0: 0.01}, default=pl.col(c)) for c in mad.columns])\n"
     ]
    },
    {
     "name": "stdout",
     "output_type": "stream",
     "text": [
      "2024-05-03 13:46:32 calculated DMSO distribution\n",
      "2024-05-03 13:46:34 MAD normalized to DMSO distribution\n",
      "2024-05-03 13:46:34 num objects (cells) 856362 (6.41% were NaN)\n",
      "2024-05-03 13:48:15 binned median data per well\n"
     ]
    }
   ],
   "source": [
    "ObjectList = ['featICF_nuclei', 'featICF_cells', 'featICF_cytoplasm']\n",
    "BaseDir = f'{rootDir}/{\"bfmoalive_A549_PE_48h_240312_L1_CP/4677/6960\"}'\n",
    "mdf_op = metaEx\n",
    "\n",
    "\n",
    "nuclei = pl.read_parquet(BaseDir+f'/{ObjectList[0]}.parquet')\n",
    "nuclei=nuclei.rename({x:f'Nuclei_{x}' for x in nuclei.columns})\n",
    "cytoplasm = pl.read_parquet(BaseDir+f'/{ObjectList[1]}.parquet')\n",
    "cytoplasm=cytoplasm.rename({x:f'Cytoplasm_{x}' for x in cytoplasm.columns})\n",
    "cells = pl.read_parquet(BaseDir+f'/{ObjectList[2]}.parquet')\n",
    "cells=cells.rename({x:f'Cells_{x}' for x in cells.columns})\n",
    "# step 1: Take the mean values of 'multiple nuclei' belonging to one cell\n",
    "\n",
    "nuclei = nuclei.group_by([\n",
    "    \"Nuclei_Metadata_Barcode\",\"Nuclei_Metadata_Well\",\n",
    "    \"Nuclei_Parent_cells\", 'Nuclei_Metadata_Site'\n",
    "]).mean()\n",
    "\n",
    "df = cytoplasm.join(nuclei,\n",
    "            how='left', \n",
    "            right_on=['Nuclei_Metadata_Well', 'Nuclei_Metadata_Site', 'Nuclei_Parent_cells', 'Nuclei_Metadata_Barcode'],\n",
    "            left_on = ['Cytoplasm_Metadata_Well','Cytoplasm_Metadata_Site', 'Cytoplasm_ObjectNumber', 'Cytoplasm_Metadata_Barcode'])\n",
    "            \n",
    "df = df.join(cells, how='left', \n",
    "                left_on=['Cytoplasm_Metadata_Well','Cytoplasm_Metadata_Site','Cytoplasm_ObjectNumber', 'Cytoplasm_Metadata_Barcode'],\n",
    "                right_on = ['Cells_Metadata_Well','Cells_Metadata_Site',\"Cells_ObjectNumber\", 'Cells_Metadata_Barcode'])\n",
    "\n",
    "# print_time(\"initial merging\")\n",
    "print('part1')\n",
    "\n",
    "# deduplicate barcode/well/site - renamed cytoplasm_Metadata* to Metadata* and removes nuclei_* etc\n",
    "unique_metadata_feature_names=['Metadata_Barcode','Metadata_Well','Metadata_Site']\n",
    "df=df.rename({f'Cytoplasm_{suffix}':suffix for suffix in unique_metadata_feature_names})\n",
    "            \n",
    "# for some reason, the site is parsed as float, even though it really should be an int\n",
    "if df['Metadata_Site'].dtype in [np.dtype('float32'), np.dtype('float64')]:\n",
    "    # sometimes, for some reason, site indices are inf/nan\n",
    "    site_is_nan_mask=np.isnan(df['Metadata_Site'])\n",
    "    site_is_inf_mask=np.isinf(df['Metadata_Site'])\n",
    "    \n",
    "    try:\n",
    "        num_sites_nan=np.sum(site_is_nan_mask)\n",
    "        num_sites_inf=np.sum(site_is_inf_mask)\n",
    "        assert num_sites_nan==0, f\"found nan site values (n = {num_sites_nan})\"\n",
    "        assert num_sites_inf==0, f\"found inf site values (n = {num_sites_inf})\"\n",
    "    except AssertionError as e:\n",
    "        print(f\"info - this issue was automatically circumvented in the code : {e}\")\n",
    "        df=df[~(site_is_inf_mask|site_is_nan_mask)]\n",
    "        \n",
    "    num_metadata_site_entries_nonint=np.sum(np.abs(df['Metadata_Site']%1.0)>1e-6)\n",
    "    assert num_metadata_site_entries_nonint==0, f\"ERROR : {num_metadata_site_entries_nonint} imaging sites don't have integer indices. that should not be the case, and likely indicates a bug.\"\n",
    "    \n",
    "    #Should use np.round, no? TODO ask patrick. Truncation Errors are annoying.\n",
    "    df['Metadata_Site'] = df['Metadata_Site'].astype(np.dtype('int32'))\n",
    "\n",
    "#Adding Compound Metadata to each row\n",
    "df = df.join(mdf_op.rename({x:f\"Metadata_cmpd_{x}\" for x in mdf_op.columns}),left_on='Metadata_Well',right_on='Metadata_cmpd_Well_ID')    \n",
    "print(\"processed some metadata\")\n",
    "\n",
    "# drop all rows that contain nan\n",
    "num_rows_before_nan_trim = df.shape[0]\n",
    "for col in df.select([pl.col(pl.Float32),pl.col(pl.Float64)]).columns:\n",
    "    before_drop=df.shape[0]\n",
    "    df=df.filter(pl.col(col).is_not_null())\n",
    "    after_drop=df.shape[0]\n",
    "\n",
    "    #num_values_dropped=before_drop-after_drop\n",
    "    #if num_values_dropped>0:\n",
    "    #    print(f\"dropped {num_values_dropped} rows due to NaNs in column {col}\")\n",
    "\n",
    "num_rows_after_nan_trim = df.shape[0]\n",
    "\n",
    "print_time(\"dropped NaNs\")\n",
    "\n",
    "# Clip outliers\n",
    "if use_clipping:\n",
    "    float_cols = [c for c_name,c_dtype in zip(df.columns,df.dtypes) if \"float\" in str(c_dtype)]\n",
    "    lower_quantile = df.select(float_cols).quantile(0.01)\n",
    "    upper_quantile = df.select(float_cols).quantile(0.99)\n",
    "    print(\"calced quantiles\")\n",
    "\n",
    "    for col in float_cols:\n",
    "        df = df.with_column(\n",
    "            pl.col(col).clip(lower=lower_quantile[col],upper=upper_quantile[col])\n",
    "        )\n",
    "        \n",
    "    print(\"clipped\")\n",
    "# print(df.head())\n",
    "# for some reason, DMSO is used as batch id for cells that are not treated with a drug\n",
    "df_DMSO=df.filter(pl.col('Metadata_cmpd_cmpdname')=='dmso')\n",
    "assert df_DMSO.shape[0]>0, \"did not find any wells 'treated' with DMSO\"\n",
    "\n",
    "# Running Means here:\n",
    "mu = df_DMSO.select(float_columns).mean()\n",
    "for col in mu.columns:\n",
    "    if mu[col].is_null().any():\n",
    "        raise RuntimeError(f\"some mean value in column {col,i} is nan?!\")\n",
    "    if mu[col].is_infinite().any():\n",
    "        raise RuntimeError(f\"some mean value in column {col,i} is infinite?!\")\n",
    "            \n",
    "std = df_DMSO.select(float_columns).std()\n",
    "# replace 0 with 1 (specifically not clip) to avoid div by zero\n",
    "std = std.select([pl.col(c).map_dict({0: 1}, default=pl.col(c)) for c in std.columns])\n",
    "\n",
    "for i,col in enumerate(std.columns):\n",
    "    if std[col].is_null().any():\n",
    "        raise RuntimeError(f\"some std value in column {col,i} is nan?!\")\n",
    "    if std[col].is_infinite().any():\n",
    "        raise RuntimeError(f\"some std value in column {col,i} is infinite?!\")\n",
    "    if (std[col]==0).any():\n",
    "        raise RuntimeError(f\"unexpected 0 in column {col}\")\n",
    "\n",
    "print_time(\"calculated DMSO distribution\")\n",
    "\n",
    "df_standardized = df.with_columns([(pl.col(c) - mu[c]) / (std[c]+0.01) for c in mu.columns])\n",
    "found_nan=False\n",
    "# checking nans:\n",
    "for i,col in enumerate(mu.columns):\n",
    "    if df_standardized[col].is_null().any():\n",
    "        found_nan=True\n",
    "        print(f\"some value in column {col,i} is nan\")\n",
    "\n",
    "if found_nan:\n",
    "    raise RuntimeError(\"found nan\")\n",
    "df_mean=df.with_columns([df_standardized[c] for c in df_standardized.columns])\n",
    "\n",
    "ScOut = f'{OutputDir}/SingleCell/'\n",
    "if not os.path.exists(ScOut): \n",
    "    os.makedirs(ScOut)\n",
    "df_mean.write_parquet(f'{ScOut}/{df.select(pl.col(\"Metadata_Barcode\")).unique().item()}_mean.parquet')\n",
    "\n",
    "# # group/combine by well\n",
    "# df_agg=df.drop(columns=['Metadata_Site'])\n",
    "df_agg = df_mean\n",
    "df_float_columns=set(list(df_agg.select(float_columns).columns))\n",
    "group_by_columns=['Metadata_Barcode','Metadata_Well']\n",
    "other_columns=set(list(df_agg.columns))-df_float_columns-set(group_by_columns)\n",
    "# # group by mean for all float features, and group by first for all non-float columns (indices and string metadata)\n",
    "group_by_aggregates=[\n",
    "    *[pl.mean(x) for x in list(df_float_columns)],\n",
    "    *[pl.first(x) for x in list(other_columns)]\n",
    "]\n",
    "df_agg_mean=df_agg.group_by(group_by_columns).agg(group_by_aggregates)\n",
    "MeanOut = f'{OutputDir}/MeanCell/'\n",
    "if not os.path.exists(MeanOut): \n",
    "    os.makedirs(MeanOut)\n",
    "df_agg_mean.write_parquet(f'{MeanOut}/{df.select(pl.col(\"Metadata_Barcode\")).unique().item()}.parquet')\n",
    "print_time(\"binned mean data per well\")\n",
    "\n",
    "\n",
    "\n",
    "\n",
    "# Calculating based on Medians:\n",
    "median = df_DMSO.select(float_columns).median()\n",
    "\n",
    "# Check for null or infinite medians and raise errors if found\n",
    "for col in median.columns:\n",
    "    if median[col].is_null().any():\n",
    "        raise RuntimeError(f\"some median value in column {col} is nan?!\")\n",
    "    if median[col].is_infinite().any():\n",
    "        raise RuntimeError(f\"some median value in column {col} is infinite?!\")\n",
    "\n",
    "# mad = df_DMSO.select([(pl.col(c) - pl.col(c).median()).abs().alias(c) for c in float_columns])\n",
    "mad = pl.concat([df.select((pl.col(c)-pl.col(c).median()).abs().median()) for c in df.select(float_columns).columns], how='horizontal')\n",
    "# mad = df_DMSO.select([pl.abs(pl.col(c) - median[c]).median().alias(c) for c in float_columns])\n",
    "\n",
    "\n",
    "# Ensure MAD values are not zero to avoid division by zero\n",
    "# Here we replace 0 with a small value (e.g., 0.01) instead of 1 to maintain the scale of MAD\n",
    "# mad = mad.select([pl.when(pl.col(c) == 0).then(0.01).otherwise(pl.col(c)).alias(c) for c in mad.columns])\n",
    "mad = mad.select([pl.col(c).map_dict({0: 0.01}, default=pl.col(c)) for c in mad.columns])\n",
    "\n",
    "# Check for null, infinite, or unexpected zero values in MAD and raise errors if found\n",
    "for i, col in enumerate(mad.columns):\n",
    "    if mad[col].is_null().any():\n",
    "        raise RuntimeError(f\"some MAD value in column {col,i} is nan?!\")\n",
    "    if mad[col].is_infinite().any():\n",
    "        raise RuntimeError(f\"some MAD value in column {col,i} is infinite?!\")\n",
    "    if (mad[col] == 0).any():\n",
    "        raise RuntimeError(f\"unexpected 0 in column {col}\")\n",
    "\n",
    "print_time(\"calculated DMSO distribution\")\n",
    "df_standardized = df.with_columns([(pl.col(c) - median[c]) / (mad[c]) for c in median.columns])\n",
    "# CHecking for nans:\n",
    "for i,col in enumerate(median.columns):\n",
    "    if df_standardized[col].is_null().any():\n",
    "        found_nan=True\n",
    "        print(f\"some value in column {col,i} is nan\")\n",
    "\n",
    "if found_nan:\n",
    "    raise RuntimeError(\"found nan\")\n",
    "df_mad=df.with_columns([df_standardized[c] for c in df_standardized.columns])    \n",
    "\n",
    "print_time(\"MAD normalized to DMSO distribution\")\n",
    "\n",
    "# counts objects identified by segmentation, i.e. should be cells\n",
    "num_objects = df_mad.shape[0]\n",
    "\n",
    "fraction_objects_containing_nan=1-(num_rows_after_nan_trim/num_rows_before_nan_trim)\n",
    "print_time(f\"num objects (cells) {num_objects} ({(fraction_objects_containing_nan*100):.2f}% were NaN)\")\n",
    "\n",
    "# Save Single Cell Parquets to outputs\n",
    "ScOut = f'{OutputDir}/SingleCell/'\n",
    "if not os.path.exists(ScOut): \n",
    "    os.makedirs(ScOut)\n",
    "df_mad.write_parquet(f'{ScOut}/{df.select(pl.col(\"Metadata_Barcode\")).unique().item()}_mad.parquet')\n",
    "\n",
    "\n",
    "df_agg = df_mad\n",
    "df_float_columns=set(list(df_agg.select(float_columns).columns))\n",
    "group_by_columns=['Metadata_Barcode','Metadata_Well']\n",
    "other_columns=set(list(df_agg.columns))-df_float_columns-set(group_by_columns)\n",
    "group_by_aggregates=[\n",
    "    *[pl.median(x) for x in list(df_float_columns)],\n",
    "    *[pl.first(x) for x in list(other_columns)]\n",
    "]\n",
    "df_agg_median=df_agg.group_by(group_by_columns).agg(group_by_aggregates)\n",
    "MedianOut = f'{OutputDir}/MedianCell/'\n",
    "if not os.path.exists(MedianOut): \n",
    "    os.makedirs(MedianOut)\n",
    "df_agg_median.write_parquet(f'{MedianOut}/{df.select(pl.col(\"Metadata_Barcode\")).unique().item()}.parquet')\n",
    "print_time(\"binned median data per well\")\n"
   ]
  },
  {
   "cell_type": "markdown",
   "metadata": {},
   "source": []
  },
  {
   "cell_type": "code",
   "execution_count": 12,
   "metadata": {},
   "outputs": [
    {
     "data": {
      "text/html": [
       "<div><style>\n",
       ".dataframe > thead > tr,\n",
       ".dataframe > tbody > tr {\n",
       "  text-align: right;\n",
       "  white-space: pre-wrap;\n",
       "}\n",
       "</style>\n",
       "<small>shape: (5, 2_197)</small><table border=\"1\" class=\"dataframe\"><thead><tr><th>Cytoplasm_ImageNumber</th><th>Cytoplasm_ObjectNumber</th><th>Cytoplasm_Metadata_AcqID</th><th>Metadata_Barcode</th><th>Metadata_Site</th><th>Metadata_Well</th><th>Cytoplasm_FileName_CONC</th><th>Cytoplasm_FileName_HOECHST</th><th>Cytoplasm_FileName_ICF_CONC</th><th>Cytoplasm_FileName_ICF_HOECHST</th><th>Cytoplasm_FileName_ICF_MITO</th><th>Cytoplasm_FileName_ICF_PHAandWGA</th><th>Cytoplasm_FileName_ICF_SYTO</th><th>Cytoplasm_FileName_MITO</th><th>Cytoplasm_FileName_PHAandWGA</th><th>Cytoplasm_FileName_SYTO</th><th>Cytoplasm_PathName_CONC</th><th>Cytoplasm_PathName_HOECHST</th><th>Cytoplasm_PathName_ICF_CONC</th><th>Cytoplasm_PathName_ICF_HOECHST</th><th>Cytoplasm_PathName_ICF_MITO</th><th>Cytoplasm_PathName_ICF_PHAandWGA</th><th>Cytoplasm_PathName_ICF_SYTO</th><th>Cytoplasm_PathName_MITO</th><th>Cytoplasm_PathName_PHAandWGA</th><th>Cytoplasm_PathName_SYTO</th><th>Cytoplasm_AreaShape_Area</th><th>Cytoplasm_AreaShape_BoundingBoxArea</th><th>Cytoplasm_AreaShape_BoundingBoxMaximum_X</th><th>Cytoplasm_AreaShape_BoundingBoxMaximum_Y</th><th>Cytoplasm_AreaShape_BoundingBoxMinimum_X</th><th>Cytoplasm_AreaShape_BoundingBoxMinimum_Y</th><th>Cytoplasm_AreaShape_Center_X</th><th>Cytoplasm_AreaShape_Center_Y</th><th>Cytoplasm_AreaShape_Compactness</th><th>Cytoplasm_AreaShape_ConvexArea</th><th>Cytoplasm_AreaShape_Eccentricity</th><th>&hellip;</th><th>Cells_RadialDistribution_ZernikePhase_illumSYTO_2_2</th><th>Cells_RadialDistribution_ZernikePhase_illumSYTO_3_1</th><th>Cells_RadialDistribution_ZernikePhase_illumSYTO_3_3</th><th>Cells_RadialDistribution_ZernikePhase_illumSYTO_4_0</th><th>Cells_RadialDistribution_ZernikePhase_illumSYTO_4_2</th><th>Cells_RadialDistribution_ZernikePhase_illumSYTO_4_4</th><th>Cells_RadialDistribution_ZernikePhase_illumSYTO_5_1</th><th>Cells_RadialDistribution_ZernikePhase_illumSYTO_5_3</th><th>Cells_RadialDistribution_ZernikePhase_illumSYTO_5_5</th><th>Cells_RadialDistribution_ZernikePhase_illumSYTO_6_0</th><th>Cells_RadialDistribution_ZernikePhase_illumSYTO_6_2</th><th>Cells_RadialDistribution_ZernikePhase_illumSYTO_6_4</th><th>Cells_RadialDistribution_ZernikePhase_illumSYTO_6_6</th><th>Cells_RadialDistribution_ZernikePhase_illumSYTO_7_1</th><th>Cells_RadialDistribution_ZernikePhase_illumSYTO_7_3</th><th>Cells_RadialDistribution_ZernikePhase_illumSYTO_7_5</th><th>Cells_RadialDistribution_ZernikePhase_illumSYTO_7_7</th><th>Cells_RadialDistribution_ZernikePhase_illumSYTO_8_0</th><th>Cells_RadialDistribution_ZernikePhase_illumSYTO_8_2</th><th>Cells_RadialDistribution_ZernikePhase_illumSYTO_8_4</th><th>Cells_RadialDistribution_ZernikePhase_illumSYTO_8_6</th><th>Cells_RadialDistribution_ZernikePhase_illumSYTO_8_8</th><th>Cells_RadialDistribution_ZernikePhase_illumSYTO_9_1</th><th>Cells_RadialDistribution_ZernikePhase_illumSYTO_9_3</th><th>Cells_RadialDistribution_ZernikePhase_illumSYTO_9_5</th><th>Cells_RadialDistribution_ZernikePhase_illumSYTO_9_7</th><th>Cells_RadialDistribution_ZernikePhase_illumSYTO_9_9</th><th>Metadata_cmpd_Plate_ID</th><th>Metadata_cmpd_Compound_ID</th><th>Metadata_cmpd_Batch_ID</th><th>Metadata_cmpd_Form</th><th>Metadata_cmpd_Conc_mM</th><th>Metadata_cmpd_Vol_nL</th><th>Metadata_cmpd_cmpdname</th><th>Metadata_cmpd_moa_group</th><th>Metadata_cmpd_target</th><th>Metadata_cmpd_moa</th></tr><tr><td>i32</td><td>i32</td><td>i32</td><td>str</td><td>i32</td><td>str</td><td>str</td><td>str</td><td>str</td><td>str</td><td>str</td><td>str</td><td>str</td><td>str</td><td>str</td><td>str</td><td>str</td><td>str</td><td>str</td><td>str</td><td>str</td><td>str</td><td>str</td><td>str</td><td>str</td><td>str</td><td>i32</td><td>i32</td><td>i32</td><td>i32</td><td>i32</td><td>i32</td><td>f32</td><td>f32</td><td>f32</td><td>i32</td><td>f32</td><td>&hellip;</td><td>f32</td><td>f32</td><td>f32</td><td>f32</td><td>f32</td><td>f32</td><td>f32</td><td>f32</td><td>f32</td><td>f32</td><td>f32</td><td>f32</td><td>f32</td><td>f32</td><td>f32</td><td>f32</td><td>f32</td><td>f32</td><td>f32</td><td>f32</td><td>f32</td><td>f32</td><td>f32</td><td>f32</td><td>f32</td><td>f32</td><td>f32</td><td>str</td><td>str</td><td>str</td><td>str</td><td>i64</td><td>f64</td><td>str</td><td>str</td><td>str</td><td>str</td></tr></thead><tbody><tr><td>1</td><td>1</td><td>4677</td><td>&quot;bfmoalive_A549…</td><td>3</td><td>&quot;A19&quot;</td><td>&quot;A19_s3_x2_y0_F…</td><td>&quot;A19_s3_x2_y0_F…</td><td>&quot;ICF_CONC.npy&quot;</td><td>&quot;ICF_HOECHST.np…</td><td>&quot;ICF_MITO.npy&quot;</td><td>&quot;ICF_PHAandWGA.…</td><td>&quot;ICF_SYTO.npy&quot;</td><td>&quot;A19_s3_x2_y0_F…</td><td>&quot;A19_s3_x2_y0_F…</td><td>&quot;A19_s3_x2_y0_F…</td><td>&quot;/share/mikro2/…</td><td>&quot;/share/mikro2/…</td><td>&quot;/cpp_work/resu…</td><td>&quot;/cpp_work/resu…</td><td>&quot;/cpp_work/resu…</td><td>&quot;/cpp_work/resu…</td><td>&quot;/cpp_work/resu…</td><td>&quot;/share/mikro2/…</td><td>&quot;/share/mikro2/…</td><td>&quot;/share/mikro2/…</td><td>33592</td><td>99720</td><td>1718</td><td>385</td><td>1441</td><td>25</td><td>1600.941772</td><td>232.814423</td><td>3.585694</td><td>61694</td><td>0.676555</td><td>&hellip;</td><td>2.282684</td><td>-1.185797</td><td>0.786223</td><td>1.570796</td><td>-0.949237</td><td>1.375983</td><td>1.936216</td><td>-1.903414</td><td>1.705669</td><td>1.570796</td><td>2.0824</td><td>-1.79342</td><td>2.771663</td><td>1.811533</td><td>1.123427</td><td>-1.497852</td><td>2.241746</td><td>-1.570796</td><td>-1.51952</td><td>1.074796</td><td>-0.460014</td><td>0.299448</td><td>-1.339448</td><td>-2.856516</td><td>1.282042</td><td>-0.057118</td><td>1.499212</td><td>&quot;P104700&quot;</td><td>&quot;CBK041761&quot;</td><td>&quot;BJ1895247&quot;</td><td>&quot;DMSO&quot;</td><td>10</td><td>10.0</td><td>&quot;ALBENDAZOLE&quot;</td><td>&quot;TUB&quot;</td><td>&quot;TUBA1A|TUBB|TU…</td><td>&quot;tubulin polyme…</td></tr><tr><td>1</td><td>1</td><td>4677</td><td>&quot;bfmoalive_A549…</td><td>3</td><td>&quot;A19&quot;</td><td>&quot;A19_s3_x2_y0_F…</td><td>&quot;A19_s3_x2_y0_F…</td><td>&quot;ICF_CONC.npy&quot;</td><td>&quot;ICF_HOECHST.np…</td><td>&quot;ICF_MITO.npy&quot;</td><td>&quot;ICF_PHAandWGA.…</td><td>&quot;ICF_SYTO.npy&quot;</td><td>&quot;A19_s3_x2_y0_F…</td><td>&quot;A19_s3_x2_y0_F…</td><td>&quot;A19_s3_x2_y0_F…</td><td>&quot;/share/mikro2/…</td><td>&quot;/share/mikro2/…</td><td>&quot;/cpp_work/resu…</td><td>&quot;/cpp_work/resu…</td><td>&quot;/cpp_work/resu…</td><td>&quot;/cpp_work/resu…</td><td>&quot;/cpp_work/resu…</td><td>&quot;/share/mikro2/…</td><td>&quot;/share/mikro2/…</td><td>&quot;/share/mikro2/…</td><td>33592</td><td>99720</td><td>1718</td><td>385</td><td>1441</td><td>25</td><td>1600.941772</td><td>232.814423</td><td>3.585694</td><td>61694</td><td>0.676555</td><td>&hellip;</td><td>2.282684</td><td>-1.185797</td><td>0.786223</td><td>1.570796</td><td>-0.949237</td><td>1.375983</td><td>1.936216</td><td>-1.903414</td><td>1.705669</td><td>1.570796</td><td>2.0824</td><td>-1.79342</td><td>2.771663</td><td>1.811533</td><td>1.123427</td><td>-1.497852</td><td>2.241746</td><td>-1.570796</td><td>-1.51952</td><td>1.074796</td><td>-0.460014</td><td>0.299448</td><td>-1.339448</td><td>-2.856516</td><td>1.282042</td><td>-0.057118</td><td>1.499212</td><td>&quot;P104700&quot;</td><td>&quot;DMSO&quot;</td><td>&quot;DMSO&quot;</td><td>&quot;DMSO&quot;</td><td>10</td><td>20.0</td><td>&quot;dmso&quot;</td><td>&quot;dmso&quot;</td><td>&quot;neg_con&quot;</td><td>&quot;dmso&quot;</td></tr><tr><td>1</td><td>1</td><td>4677</td><td>&quot;bfmoalive_A549…</td><td>3</td><td>&quot;A19&quot;</td><td>&quot;A19_s3_x2_y0_F…</td><td>&quot;A19_s3_x2_y0_F…</td><td>&quot;ICF_CONC.npy&quot;</td><td>&quot;ICF_HOECHST.np…</td><td>&quot;ICF_MITO.npy&quot;</td><td>&quot;ICF_PHAandWGA.…</td><td>&quot;ICF_SYTO.npy&quot;</td><td>&quot;A19_s3_x2_y0_F…</td><td>&quot;A19_s3_x2_y0_F…</td><td>&quot;A19_s3_x2_y0_F…</td><td>&quot;/share/mikro2/…</td><td>&quot;/share/mikro2/…</td><td>&quot;/cpp_work/resu…</td><td>&quot;/cpp_work/resu…</td><td>&quot;/cpp_work/resu…</td><td>&quot;/cpp_work/resu…</td><td>&quot;/cpp_work/resu…</td><td>&quot;/share/mikro2/…</td><td>&quot;/share/mikro2/…</td><td>&quot;/share/mikro2/…</td><td>33592</td><td>99720</td><td>1718</td><td>385</td><td>1441</td><td>25</td><td>1600.941772</td><td>232.814423</td><td>3.585694</td><td>61694</td><td>0.676555</td><td>&hellip;</td><td>2.282684</td><td>-1.185797</td><td>0.786223</td><td>1.570796</td><td>-0.949237</td><td>1.375983</td><td>1.936216</td><td>-1.903414</td><td>1.705669</td><td>1.570796</td><td>2.0824</td><td>-1.79342</td><td>2.771663</td><td>1.811533</td><td>1.123427</td><td>-1.497852</td><td>2.241746</td><td>-1.570796</td><td>-1.51952</td><td>1.074796</td><td>-0.460014</td><td>0.299448</td><td>-1.339448</td><td>-2.856516</td><td>1.282042</td><td>-0.057118</td><td>1.499212</td><td>&quot;P104701&quot;</td><td>&quot;CBK041761&quot;</td><td>&quot;BJ1895247&quot;</td><td>&quot;DMSO&quot;</td><td>10</td><td>10.0</td><td>&quot;ALBENDAZOLE&quot;</td><td>&quot;TUB&quot;</td><td>&quot;TUBA1A|TUBB|TU…</td><td>&quot;tubulin polyme…</td></tr><tr><td>1</td><td>1</td><td>4677</td><td>&quot;bfmoalive_A549…</td><td>3</td><td>&quot;A19&quot;</td><td>&quot;A19_s3_x2_y0_F…</td><td>&quot;A19_s3_x2_y0_F…</td><td>&quot;ICF_CONC.npy&quot;</td><td>&quot;ICF_HOECHST.np…</td><td>&quot;ICF_MITO.npy&quot;</td><td>&quot;ICF_PHAandWGA.…</td><td>&quot;ICF_SYTO.npy&quot;</td><td>&quot;A19_s3_x2_y0_F…</td><td>&quot;A19_s3_x2_y0_F…</td><td>&quot;A19_s3_x2_y0_F…</td><td>&quot;/share/mikro2/…</td><td>&quot;/share/mikro2/…</td><td>&quot;/cpp_work/resu…</td><td>&quot;/cpp_work/resu…</td><td>&quot;/cpp_work/resu…</td><td>&quot;/cpp_work/resu…</td><td>&quot;/cpp_work/resu…</td><td>&quot;/share/mikro2/…</td><td>&quot;/share/mikro2/…</td><td>&quot;/share/mikro2/…</td><td>33592</td><td>99720</td><td>1718</td><td>385</td><td>1441</td><td>25</td><td>1600.941772</td><td>232.814423</td><td>3.585694</td><td>61694</td><td>0.676555</td><td>&hellip;</td><td>2.282684</td><td>-1.185797</td><td>0.786223</td><td>1.570796</td><td>-0.949237</td><td>1.375983</td><td>1.936216</td><td>-1.903414</td><td>1.705669</td><td>1.570796</td><td>2.0824</td><td>-1.79342</td><td>2.771663</td><td>1.811533</td><td>1.123427</td><td>-1.497852</td><td>2.241746</td><td>-1.570796</td><td>-1.51952</td><td>1.074796</td><td>-0.460014</td><td>0.299448</td><td>-1.339448</td><td>-2.856516</td><td>1.282042</td><td>-0.057118</td><td>1.499212</td><td>&quot;P104701&quot;</td><td>&quot;DMSO&quot;</td><td>&quot;DMSO&quot;</td><td>&quot;DMSO&quot;</td><td>10</td><td>20.0</td><td>&quot;dmso&quot;</td><td>&quot;dmso&quot;</td><td>&quot;neg_con&quot;</td><td>&quot;dmso&quot;</td></tr><tr><td>1</td><td>2</td><td>4677</td><td>&quot;bfmoalive_A549…</td><td>3</td><td>&quot;A19&quot;</td><td>&quot;A19_s3_x2_y0_F…</td><td>&quot;A19_s3_x2_y0_F…</td><td>&quot;ICF_CONC.npy&quot;</td><td>&quot;ICF_HOECHST.np…</td><td>&quot;ICF_MITO.npy&quot;</td><td>&quot;ICF_PHAandWGA.…</td><td>&quot;ICF_SYTO.npy&quot;</td><td>&quot;A19_s3_x2_y0_F…</td><td>&quot;A19_s3_x2_y0_F…</td><td>&quot;A19_s3_x2_y0_F…</td><td>&quot;/share/mikro2/…</td><td>&quot;/share/mikro2/…</td><td>&quot;/cpp_work/resu…</td><td>&quot;/cpp_work/resu…</td><td>&quot;/cpp_work/resu…</td><td>&quot;/cpp_work/resu…</td><td>&quot;/cpp_work/resu…</td><td>&quot;/share/mikro2/…</td><td>&quot;/share/mikro2/…</td><td>&quot;/share/mikro2/…</td><td>14176</td><td>18348</td><td>917</td><td>226</td><td>785</td><td>87</td><td>846.617432</td><td>162.216003</td><td>1.138635</td><td>14359</td><td>0.342587</td><td>&hellip;</td><td>1.77908</td><td>-2.192447</td><td>-2.316103</td><td>-1.570796</td><td>-1.488048</td><td>-1.899134</td><td>0.561438</td><td>1.855004</td><td>-1.555552</td><td>1.570796</td><td>2.484172</td><td>-1.909241</td><td>0.171414</td><td>-2.563058</td><td>-0.416729</td><td>0.920637</td><td>0.015157</td><td>-1.570796</td><td>-0.52283</td><td>1.349463</td><td>1.488688</td><td>1.225925</td><td>0.330238</td><td>1.85278</td><td>0.223538</td><td>2.388872</td><td>-2.555695</td><td>&quot;P104700&quot;</td><td>&quot;CBK041761&quot;</td><td>&quot;BJ1895247&quot;</td><td>&quot;DMSO&quot;</td><td>10</td><td>10.0</td><td>&quot;ALBENDAZOLE&quot;</td><td>&quot;TUB&quot;</td><td>&quot;TUBA1A|TUBB|TU…</td><td>&quot;tubulin polyme…</td></tr></tbody></table></div>"
      ],
      "text/plain": [
       "shape: (5, 2_197)\n",
       "┌───────────┬───────────┬───────────┬───────────┬───┬───────────┬───────────┬───────────┬──────────┐\n",
       "│ Cytoplasm ┆ Cytoplasm ┆ Cytoplasm ┆ Metadata_ ┆ … ┆ Metadata_ ┆ Metadata_ ┆ Metadata_ ┆ Metadata │\n",
       "│ _ImageNum ┆ _ObjectNu ┆ _Metadata ┆ Barcode   ┆   ┆ cmpd_cmpd ┆ cmpd_moa_ ┆ cmpd_targ ┆ _cmpd_mo │\n",
       "│ ber       ┆ mber      ┆ _AcqID    ┆ ---       ┆   ┆ name      ┆ group     ┆ et        ┆ a        │\n",
       "│ ---       ┆ ---       ┆ ---       ┆ str       ┆   ┆ ---       ┆ ---       ┆ ---       ┆ ---      │\n",
       "│ i32       ┆ i32       ┆ i32       ┆           ┆   ┆ str       ┆ str       ┆ str       ┆ str      │\n",
       "╞═══════════╪═══════════╪═══════════╪═══════════╪═══╪═══════════╪═══════════╪═══════════╪══════════╡\n",
       "│ 1         ┆ 1         ┆ 4677      ┆ bfmoalive ┆ … ┆ ALBENDAZO ┆ TUB       ┆ TUBA1A|TU ┆ tubulin  │\n",
       "│           ┆           ┆           ┆ _A549_PE_ ┆   ┆ LE        ┆           ┆ BB|TUBB4B ┆ polymeri │\n",
       "│           ┆           ┆           ┆ 48h_24031 ┆   ┆           ┆           ┆           ┆ zation   │\n",
       "│           ┆           ┆           ┆ 2_L1_…    ┆   ┆           ┆           ┆           ┆ inhibito │\n",
       "│           ┆           ┆           ┆           ┆   ┆           ┆           ┆           ┆ r        │\n",
       "│ 1         ┆ 1         ┆ 4677      ┆ bfmoalive ┆ … ┆ dmso      ┆ dmso      ┆ neg_con   ┆ dmso     │\n",
       "│           ┆           ┆           ┆ _A549_PE_ ┆   ┆           ┆           ┆           ┆          │\n",
       "│           ┆           ┆           ┆ 48h_24031 ┆   ┆           ┆           ┆           ┆          │\n",
       "│           ┆           ┆           ┆ 2_L1_…    ┆   ┆           ┆           ┆           ┆          │\n",
       "│ 1         ┆ 1         ┆ 4677      ┆ bfmoalive ┆ … ┆ ALBENDAZO ┆ TUB       ┆ TUBA1A|TU ┆ tubulin  │\n",
       "│           ┆           ┆           ┆ _A549_PE_ ┆   ┆ LE        ┆           ┆ BB|TUBB4B ┆ polymeri │\n",
       "│           ┆           ┆           ┆ 48h_24031 ┆   ┆           ┆           ┆           ┆ zation   │\n",
       "│           ┆           ┆           ┆ 2_L1_…    ┆   ┆           ┆           ┆           ┆ inhibito │\n",
       "│           ┆           ┆           ┆           ┆   ┆           ┆           ┆           ┆ r        │\n",
       "│ 1         ┆ 1         ┆ 4677      ┆ bfmoalive ┆ … ┆ dmso      ┆ dmso      ┆ neg_con   ┆ dmso     │\n",
       "│           ┆           ┆           ┆ _A549_PE_ ┆   ┆           ┆           ┆           ┆          │\n",
       "│           ┆           ┆           ┆ 48h_24031 ┆   ┆           ┆           ┆           ┆          │\n",
       "│           ┆           ┆           ┆ 2_L1_…    ┆   ┆           ┆           ┆           ┆          │\n",
       "│ 1         ┆ 2         ┆ 4677      ┆ bfmoalive ┆ … ┆ ALBENDAZO ┆ TUB       ┆ TUBA1A|TU ┆ tubulin  │\n",
       "│           ┆           ┆           ┆ _A549_PE_ ┆   ┆ LE        ┆           ┆ BB|TUBB4B ┆ polymeri │\n",
       "│           ┆           ┆           ┆ 48h_24031 ┆   ┆           ┆           ┆           ┆ zation   │\n",
       "│           ┆           ┆           ┆ 2_L1_…    ┆   ┆           ┆           ┆           ┆ inhibito │\n",
       "│           ┆           ┆           ┆           ┆   ┆           ┆           ┆           ┆ r        │\n",
       "└───────────┴───────────┴───────────┴───────────┴───┴───────────┴───────────┴───────────┴──────────┘"
      ]
     },
     "execution_count": 12,
     "metadata": {},
     "output_type": "execute_result"
    }
   ],
   "source": [
    "df.head()"
   ]
  },
  {
   "cell_type": "code",
   "execution_count": 13,
   "metadata": {},
   "outputs": [
    {
     "name": "stdout",
     "output_type": "stream",
     "text": [
      "Current date and time : \n",
      "2024-05-03 13:48:15\n"
     ]
    }
   ],
   "source": [
    "now = datetime.datetime.now()\n",
    "print ('Current date and time : ')\n",
    "print (now.strftime('%Y-%m-%d %H:%M:%S'))"
   ]
  },
  {
   "cell_type": "code",
   "execution_count": 14,
   "metadata": {},
   "outputs": [],
   "source": [
    "# df_scall.head()"
   ]
  },
  {
   "cell_type": "code",
   "execution_count": 15,
   "metadata": {},
   "outputs": [],
   "source": [
    "# df_meanall.head()"
   ]
  },
  {
   "cell_type": "code",
   "execution_count": 16,
   "metadata": {},
   "outputs": [],
   "source": [
    "# toNpy = df_scall.loc[:,~df_scall.columns.str.contains('Metadata_')]\n",
    "# toNpy.reset_index(inplace=True, drop=True)\n",
    "# toNpy = toNpy.copy()\n",
    "# dataNpy = toNpy.to_numpy()\n",
    "# np.isnan(dataNpy).any()\n",
    "# colnames = toNpy.columns"
   ]
  },
  {
   "cell_type": "code",
   "execution_count": null,
   "metadata": {},
   "outputs": [],
   "source": []
  },
  {
   "cell_type": "code",
   "execution_count": null,
   "metadata": {},
   "outputs": [],
   "source": []
  }
 ],
 "metadata": {
  "kernelspec": {
   "display_name": "Python 3.8.10 64-bit",
   "language": "python",
   "name": "python3"
  },
  "language_info": {
   "codemirror_mode": {
    "name": "ipython",
    "version": 3
   },
   "file_extension": ".py",
   "mimetype": "text/x-python",
   "name": "python",
   "nbconvert_exporter": "python",
   "pygments_lexer": "ipython3",
   "version": "3.11.0rc1"
  },
  "vscode": {
   "interpreter": {
    "hash": "916dbcbb3f70747c44a77c7bcd40155683ae19c65e1c03b4aa3499c5328201f1"
   }
  }
 },
 "nbformat": 4,
 "nbformat_minor": 4
}
