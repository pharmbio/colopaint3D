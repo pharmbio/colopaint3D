{
 "cells": [
  {
   "cell_type": "code",
   "execution_count": 1,
   "metadata": {},
   "outputs": [
    {
     "data": {
      "text/plain": [
       "'/scratch2-shared/david/colopaint3D/python'"
      ]
     },
     "execution_count": 1,
     "metadata": {},
     "output_type": "execute_result"
    }
   ],
   "source": [
    "import os\n",
    "import pandas as pd \n",
    "import polars as pl # like pandas, but much faster\n",
    "import polars.selectors as cs\n",
    "import numpy as np\n",
    "import os, shutil, glob\n",
    "from random import randint\n",
    "import re, math\n",
    "import datetime\n",
    "import gc\n",
    "from pathlib import Path\n",
    "\n",
    "os.getcwd()\n"
   ]
  },
  {
   "cell_type": "markdown",
   "metadata": {},
   "source": [
    "### Read data"
   ]
  },
  {
   "cell_type": "code",
   "execution_count": 2,
   "metadata": {},
   "outputs": [],
   "source": [
    "\n",
    "sourceDir = '/share/data/cellprofiler/automation/results'\n",
    "rootDir = '/home/jovyan/scratch2-shared/david/colopaint3D'\n"
   ]
  },
  {
   "cell_type": "code",
   "execution_count": null,
   "metadata": {},
   "outputs": [],
   "source": []
  },
  {
   "cell_type": "markdown",
   "metadata": {},
   "source": [
    "### Input directories"
   ]
  },
  {
   "cell_type": "code",
   "execution_count": 3,
   "metadata": {},
   "outputs": [
    {
     "name": "stdout",
     "output_type": "stream",
     "text": [
      "shape: (3, 1)\n",
      "┌───────────────────┐\n",
      "│ feature_names     │\n",
      "│ ---               │\n",
      "│ str               │\n",
      "╞═══════════════════╡\n",
      "│ featICF_nuclei    │\n",
      "│ featICF_cells     │\n",
      "│ featICF_cytoplasm │\n",
      "└───────────────────┘\n"
     ]
    }
   ],
   "source": [
    "OutputDir = 'data/1_FeaturesImages'\n",
    "if not os.path.exists(OutputDir): \n",
    "    os.makedirs(OutputDir)\n",
    "NameContains = ''\n",
    "InputFolders = pl.read_csv('../settings/filemap.csv')\n",
    "print(InputFolders )\n",
    "            \n"
   ]
  },
  {
   "cell_type": "code",
   "execution_count": 4,
   "metadata": {},
   "outputs": [
    {
     "name": "stdout",
     "output_type": "stream",
     "text": [
      "Current date and time : \n",
<<<<<<< HEAD
      "2024-10-24 15:51:13\n"
=======
      "2024-09-23 06:40:42\n"
>>>>>>> 5bcf7a1 (updated)
     ]
    }
   ],
   "source": [
    "now = datetime.datetime.now()\n",
    "print ('Current date and time : ')\n",
    "print (now.strftime('%Y-%m-%d %H:%M:%S'))"
   ]
  },
  {
   "cell_type": "markdown",
   "metadata": {},
   "source": [
    "#### Define Parameters\n"
   ]
  },
  {
   "cell_type": "code",
   "execution_count": 5,
   "metadata": {},
   "outputs": [],
   "source": [
    "cols_to_drop = ['index','layout_id','cmpd_code', 'solvent','cmpd_conc','cmpd_conc_unit','stock_conc','stock_conc_unit','cmpd_vol', 'cmpd_vol_unit', 'well_vol', 'well_vol_unit', 'article_id','pubchemID', 'smiles', 'inkey', 'clinical_status']\n",
    "\n",
    "use_clipping = False\n",
    "\n",
    "std_mean = True\n",
    "\n",
    "make_slices = True"
   ]
  },
  {
   "cell_type": "markdown",
   "metadata": {},
   "source": [
    "### Define Functions\n"
   ]
  },
  {
   "cell_type": "code",
   "execution_count": 6,
   "metadata": {},
   "outputs": [],
   "source": [
    "# ObjectList = ['featICF_nuclei', 'featICF_cells', 'featICF_cytoplasm']\n",
    "\n",
    "def print_time(msg=None):\n",
    "    now = datetime.datetime.now()\n",
    "    print(now.strftime('%Y-%m-%d %H:%M:%S'),msg or \"\")\n",
    "float_columns=[pl.col(pl.Float32),pl.col(pl.Float64)]\n",
    "\n",
    "def aggregate_mean(df_in):\n",
    "    df_agg = df_in\n",
    "    df_float_columns=set(list(df_agg.select(float_columns).columns))\n",
    "    group_by_columns=['Metadata_PlateWell', 'Metadata_Barcode','Metadata_Well']\n",
    "    other_columns=set(list(df_agg.columns))-df_float_columns-set(group_by_columns)\n",
    "    # # group by mean for all float features, and group by first for all non-float columns (indices and string metadata)\n",
    "    group_by_aggregates=[\n",
    "        *[pl.mean(x) for x in list(df_float_columns)],\n",
    "        *[pl.first(x) for x in list(other_columns)]\n",
    "    ]\n",
    "    df_agg_mean=df_agg.group_by(group_by_columns).agg(group_by_aggregates)\n",
    "    return df_agg_mean\n",
    "\n",
    "def aggregate_median(df_in):\n",
    "    df_agg = df_in\n",
    "    df_float_columns=set(list(df_agg.select(float_columns).columns))\n",
    "    group_by_columns=['Metadata_Barcode','Metadata_Well']\n",
    "    other_columns=set(list(df_agg.columns))-df_float_columns-set(group_by_columns)\n",
    "    group_by_aggregates=[\n",
    "        *[pl.median(x) for x in list(df_float_columns)],\n",
    "        *[pl.first(x) for x in list(other_columns)]\n",
    "    ]\n",
    "    df_agg_median=df_agg.group_by(group_by_columns).agg(group_by_aggregates)\n",
    "    return df_agg_median\n",
    "\n",
    "def standardize_mean(df):\n",
    "    # df = df.with_row_count('index')\n",
    "    df_mean = pl.DataFrame()\n",
<<<<<<< HEAD
    "    for i in range(df.select(pl.col('Metadata_Site')).max().item()):\n",
    "        df_slice = df.filter(pl.col('Metadata_Site')==i)\n",
    "        df_slice_DMSO=df_slice.filter(pl.col('Metadata_cmpd_cmpdname')=='dmso')\n",
    "        assert df_slice_DMSO.shape[0]>0, \"did not find any wells 'treated' with DMSO\"\n",
    "        mu = df_slice_DMSO.select(float_columns).mean()\n",
    "        std = df_slice_DMSO.select(float_columns).std()\n",
    "        # replace 0 with 1 (specifically not clip) to avoid div by zero\n",
    "        std = std.select([pl.col(c).replace({0: 1}, default=pl.col(c)) for c in std.columns])\n",
    "        for i,col in enumerate(std.columns):\n",
    "            if std[col].is_null().any():\n",
    "                raise RuntimeError(f\"some std value in column {col,i} is nan?!\")\n",
    "            if std[col].is_infinite().any():\n",
    "                raise RuntimeError(f\"some std value in column {col,i} is infinite?!\")\n",
    "            if (std[col]==0).any():\n",
    "                raise RuntimeError(f\"unexpected 0 in column {col}\")\n",
    "        print_time(\"calculated DMSO distribution for one slice\")\n",
    "        df_standardized_slice = df_slice.with_columns([(pl.col(c) - mu[c]) / (std[c]+0.01) for c in mu.columns])\n",
    "        found_nan=False\n",
    "        # checking nans:\n",
    "        for i,col in enumerate(mu.columns):\n",
    "            if df_standardized_slice[col].is_null().any():\n",
    "                found_nan=True\n",
    "                print(f\"some value in column {col,i} is nan\")\n",
    "        if found_nan:\n",
    "            raise RuntimeError(\"found nan\")\n",
    "        df_mean_slice=df_slice.with_columns([df_standardized_slice[c] for c in df_standardized_slice.columns])   \n",
    "        df_mean = pl.concat([df_mean, df_mean_slice])\n",
    "    # df_mean\n",
    "    return df_mean\n",
    "\n",
    "def standardize_mean_noslice(df):\n",
    "    df_DMSO=df.filter(pl.col('Metadata_cmpd_cmpdname')=='dmso')\n",
    "    assert df_DMSO.shape[0]>0, \"did not find any wells 'treated' with DMSO\"\n",
    "    mu = df_DMSO.select(float_columns).mean()\n",
    "    std = df_DMSO.select(float_columns).std()\n",
    "    # replace 0 with 1 (specifically not clip) to avoid div by zero\n",
    "    std = std.select([pl.col(c).replace({0: 1}, default=pl.col(c)) for c in std.columns])\n",
    "    for i,col in enumerate(std.columns):\n",
    "        if std[col].is_null().any():\n",
    "            raise RuntimeError(f\"some std value in column {col,i} is nan?!\")\n",
    "        if std[col].is_infinite().any():\n",
    "            raise RuntimeError(f\"some std value in column {col,i} is infinite?!\")\n",
    "        if (std[col]==0).any():\n",
    "            raise RuntimeError(f\"unexpected 0 in column {col}\")\n",
    "    print_time(\"calculated DMSO distribution\")\n",
    "    df_standardized = df.with_columns([(pl.col(c) - mu[c]) / (std[c]+0.01) for c in mu.columns])\n",
    "    found_nan=False\n",
    "    # checking nans:\n",
    "    for i,col in enumerate(mu.columns):\n",
    "        if df_standardized[col].is_null().any():\n",
    "            found_nan=True\n",
    "            print(f\"some value in column {col,i} is nan\")\n",
    "    if found_nan:\n",
    "        raise RuntimeError(\"found nan\")\n",
    "    df_mean=df.with_columns([df_standardized[c] for c in df_standardized.columns])\n",
    "    return df_mean\n",
    "\n",
    "def standardize_mean_perplate(df, arg_slice=False):\n",
    "    plate_list = df.select(pl.col('Metadata_Barcode')).to_series().unique().to_list()\n",
    "    df_mean = pl.DataFrame()\n",
    "    print(plate_list)\n",
    "    for plate in plate_list:\n",
    "        print(f'processing barcode {plate}')\n",
    "        df_set = df.filter(pl.col('Metadata_Barcode')==plate)\n",
    "        if arg_slice:\n",
    "            print('RUNNING PER SLICE')\n",
    "            df_set = standardize_mean(df_set)\n",
    "        else:\n",
    "            print('RUNNING WITH NO SLOCE')\n",
    "            df_set = standardize_mean_noslice(df)\n",
    "        df_mean = pl.concat([df_mean, df_set])\n",
    "    return df\n",
    "\n",
    "\n",
    "def normalize(df):\n",
    "    df = df.with_row_count('index')\n",
    "    df_norm = pl.DataFrame()\n",
=======
>>>>>>> 5bcf7a1 (updated)
    "    for i in range(df.select(pl.col('Metadata_Site')).max().item()):\n",
    "        df_slice = df.filter(pl.col('Metadata_Site')==i)\n",
    "        df_slice_DMSO=df_slice.filter(pl.col('Metadata_cmpd_cmpdname')=='dmso')\n",
    "        assert df_slice_DMSO.shape[0]>0, \"did not find any wells 'treated' with DMSO\"\n",
<<<<<<< HEAD
    "        maxi = df_slice_DMSO.select(float_columns).max()\n",
    "        mini = df_slice_DMSO.select(float_columns).min()\n",
    "        # replace 0 with 1 (specifically not clip) to avoid div by zero\n",
    "        maxi = maxi.select([pl.col(c).replace({0: 1}, default=pl.col(c)) for c in maxi.columns])\n",
    "        for i,col in enumerate(mini.columns):\n",
    "            if maxi[col].is_null().any():\n",
    "                raise RuntimeError(f\"some std value in column {col,i} is nan?!\")\n",
    "            if maxi[col].is_infinite().any():\n",
    "                raise RuntimeError(f\"some std value in column {col,i} is infinite?!\")\n",
    "            if (maxi[col]==0).any():\n",
    "                raise RuntimeError(f\"unexpected 0 in column {col}\")\n",
    "        print_time(\"calculated DMSO distribution for one slice\")\n",
    "        df_normalized_slice = df_slice.with_columns([(pl.col(c) - mini[c]) / (maxi[c]) for c in maxi.columns])\n",
    "        found_nan=False\n",
    "        # checking nans:\n",
    "        for i,col in enumerate(maxi.columns):\n",
    "            if df_normalized_slice[col].is_null().any():\n",
=======
    "        mu = df_slice_DMSO.select(float_columns).mean()\n",
    "        std = df_slice_DMSO.select(float_columns).std()\n",
    "        # replace 0 with 1 (specifically not clip) to avoid div by zero\n",
    "        std = std.select([pl.col(c).replace({0: 1}, default=pl.col(c)) for c in std.columns])\n",
    "        for i,col in enumerate(std.columns):\n",
    "            if std[col].is_null().any():\n",
    "                raise RuntimeError(f\"some std value in column {col,i} is nan?!\")\n",
    "            if std[col].is_infinite().any():\n",
    "                raise RuntimeError(f\"some std value in column {col,i} is infinite?!\")\n",
    "            if (std[col]==0).any():\n",
    "                raise RuntimeError(f\"unexpected 0 in column {col}\")\n",
    "        print_time(\"calculated DMSO distribution for one slice\")\n",
    "        df_standardized_slice = df_slice.with_columns([(pl.col(c) - mu[c]) / (std[c]+0.01) for c in mu.columns])\n",
    "        found_nan=False\n",
    "        # checking nans:\n",
    "        for i,col in enumerate(mu.columns):\n",
    "            if df_standardized_slice[col].is_null().any():\n",
>>>>>>> 5bcf7a1 (updated)
    "                found_nan=True\n",
    "                print(f\"some value in column {col,i} is nan\")\n",
    "        if found_nan:\n",
    "            raise RuntimeError(\"found nan\")\n",
<<<<<<< HEAD
    "        df_norm_slice=df_slice.with_columns([df_normalized_slice[c] for c in df_normalized_slice.columns])   \n",
    "        df_norm = pl.concat([df_norm, df_norm_slice])\n",
    "    # df_mean\n",
    "    return df_norm\n",
    "\n",
    "def normalize_perplate(df, arg_slice=True):\n",
    "    if not arg_slice:\n",
    "        print('No-Slice not yet implemented for minmax Normalization. Running per slice. Implementing error soon(tm)')\n",
=======
    "        df_mean_slice=df_slice.with_columns([df_standardized_slice[c] for c in df_standardized_slice.columns])   \n",
    "        df_mean = pl.concat([df_mean, df_mean_slice])\n",
    "    # df_mean\n",
    "    return df_mean\n",
    "\n",
    "def standardize_mean_perplate(df):\n",
    "    plate_list = df.select(pl.col('Metadata_Barcode')).to_series().unique().to_list()\n",
    "    df_mean = pl.DataFrame()\n",
    "    print(plate_list)\n",
    "    for plate in plate_list:\n",
    "        print(f'processing barcode {plate}')\n",
    "        df_set = df.filter(pl.col('Metadata_Barcode')==plate)\n",
    "        df_set = standardize_mean(df_set)\n",
    "        df_mean = pl.concat([df_mean, df_set])\n",
    "    return df\n",
    "\n",
    "\n",
    "def normalize(df):\n",
    "    df = df.with_row_count('index')\n",
    "    df_norm = pl.DataFrame()\n",
    "    for i in range(df.select(pl.col('Metadata_Site')).max().item()):\n",
    "        df_slice = df.filter(pl.col('Metadata_Site')==i)\n",
    "        df_slice_DMSO=df_slice.filter(pl.col('Metadata_cmpd_cmpdname')=='dmso')\n",
    "        assert df_slice_DMSO.shape[0]>0, \"did not find any wells 'treated' with DMSO\"\n",
    "        maxi = df_slice_DMSO.select(float_columns).max()\n",
    "        mini = df_slice_DMSO.select(float_columns).min()\n",
    "        # replace 0 with 1 (specifically not clip) to avoid div by zero\n",
    "        maxi = maxi.select([pl.col(c).replace({0: 1}, default=pl.col(c)) for c in maxi.columns])\n",
    "        for i,col in enumerate(mini.columns):\n",
    "            if maxi[col].is_null().any():\n",
    "                raise RuntimeError(f\"some std value in column {col,i} is nan?!\")\n",
    "            if maxi[col].is_infinite().any():\n",
    "                raise RuntimeError(f\"some std value in column {col,i} is infinite?!\")\n",
    "            if (maxi[col]==0).any():\n",
    "                raise RuntimeError(f\"unexpected 0 in column {col}\")\n",
    "        print_time(\"calculated DMSO distribution for one slice\")\n",
    "        df_normalized_slice = df_slice.with_columns([(pl.col(c) - mini[c]) / (maxi[c]) for c in maxi.columns])\n",
    "        found_nan=False\n",
    "        # checking nans:\n",
    "        for i,col in enumerate(maxi.columns):\n",
    "            if df_normalized_slice[col].is_null().any():\n",
    "                found_nan=True\n",
    "                print(f\"some value in column {col,i} is nan\")\n",
    "        if found_nan:\n",
    "            raise RuntimeError(\"found nan\")\n",
    "        df_norm_slice=df_slice.with_columns([df_normalized_slice[c] for c in df_normalized_slice.columns])   \n",
    "        df_norm = pl.concat([df_norm, df_norm_slice])\n",
    "    # df_mean\n",
    "    return df_norm\n",
    "\n",
    "def normalize_perplate(df):\n",
>>>>>>> 5bcf7a1 (updated)
    "    plate_list = df.select(pl.col('Metadata_Barcode')).to_series().unique().to_list()\n",
    "    print(plate_list)\n",
    "    df_mean = pl.DataFrame()\n",
    "    for plate in plate_list:\n",
    "        print(f'processing barcode {plate}')\n",
    "        df_set = df.filter(pl.col('Metadata_Barcode')==plate)\n",
    "        df_set = normalize(df_set)\n",
    "        df_mean = pl.concat([df_mean, df_set])\n",
    "    return df\n",
    "\n",
    "def generate_slices(df, outdir, arg):\n",
    "    df_sAgg = pl.DataFrame()\n",
    "    for i in range(df.select(pl.col('Metadata_Site')).max().item()):\n",
    "        df_slice = df.filter(pl.col('Metadata_Site')==i)\n",
    "        if arg == 'mean':\n",
    "            df_slice_agg = aggregate_mean(df_slice)\n",
<<<<<<< HEAD
    "            # df_slice_agg.write_parquet(f'{outdir}/{df.select(pl.col(\"Metadata_cmpd_cell_line\")).unique().item()}_Slice{i}MeanAgg.parquet')\n",
    "\n",
    "        elif arg == 'median':\n",
    "            df_slice_agg = aggregate_median(df_slice)\n",
    "            # df_slice_agg.write_parquet(f'{outdir}/{df.select(pl.col(\"Metadata_cmpd_cell_line\")).unique().item()}_Slice{i}MedianAgg.parquet')\n",
=======
    "            df_slice_agg.write_parquet(f'{outdir}/{df.select(pl.col(\"Metadata_cmpd_cell_line\")).unique().item()}_Slice{i}MeanAgg.parquet')\n",
    "        elif arg == 'median':\n",
    "            df_slice_agg = aggregate_median(df_slice)\n",
    "            df_slice_agg.write_parquet(f'{outdir}/{df.select(pl.col(\"Metadata_cmpd_cell_line\")).unique().item()}_Slice{i}MedianAgg.parquet')\n",
>>>>>>> 5bcf7a1 (updated)
    "        else:\n",
    "            print('ERROR no valid metric')\n",
    "        del df_slice\n",
    "        df_sAgg = pl.concat([df_sAgg, df_slice_agg])\n",
<<<<<<< HEAD
    "    # df_sAgg.write_parquet(f'{outdir}/{df.select(pl.col(\"Metadata_cmpd_cell_line\")).unique().item()}_Slices_{arg}Agg.parquet')\n",
    "    return df_sAgg\n",
    "\n",
    "def data_processing(metaEx, cl, ObjectList, OutputDir, sliceLim=13, statmet='minmax', per_plate=False, per_slice=True):\n",
    "    OutputDir = f'{OutputDir}_{statmet}'\n",
    "    if not per_slice:\n",
    "        OutputDir = f'{OutputDir}_noslice'\n",
=======
    "    return df_sAgg\n",
    "\n",
    "def data_processing(metaEx, cl, ObjectList, OutputDir, sliceLim=13, statmet='minmax', per_plate=False):\n",
    "    OutputDir = f'{OutputDir}_{statmet}'\n",
>>>>>>> 5bcf7a1 (updated)
    "    if per_plate:\n",
    "        OutputDir = f'{OutputDir}_PerPlate'\n",
    "    #Filtering Metadata and generating dirlist\n",
    "    metaEx = metaEx.filter(pl.col('cell_line')==cl)\n",
    "    barcodes = metaEx.select(pl.col('barcode')).unique()\n",
    "    barcodes = barcodes['barcode']\n",
    "    barcodes.to_list()\n",
    "    dirlist = [f'{sourceDir}/{barcode}' for barcode in barcodes]\n",
    "\n",
    "    print('Starting Processing')\n",
    "    df = pl.DataFrame()\n",
    "    for BaseDir in dirlist:\n",
    "        mdf_op = metaEx.filter(pl.col('barcode') == BaseDir.split('/')[-1])\n",
    "        image_id = mdf_op.select(pl.col('image_id')).unique().to_series().to_list()[-1]\n",
    "        cp_id = mdf_op.select(pl.col('cp_id')).unique().to_series().to_list()[-1]\n",
    "        print(f'{BaseDir}/{image_id}/{cp_id}')\n",
    "        BaseDir = f'{BaseDir}/{image_id}/{cp_id}'      \n",
    "\n",
    "        nuclei = pl.read_parquet(BaseDir+f'/{ObjectList[0]}.parquet')\n",
    "        nuclei=nuclei.rename({x:f'Nuclei_{x}' for x in nuclei.columns})\n",
    "        cytoplasm = pl.read_parquet(BaseDir+f'/{ObjectList[1]}.parquet')\n",
    "        cytoplasm=cytoplasm.rename({x:f'Cytoplasm_{x}' for x in cytoplasm.columns})\n",
    "        cells = pl.read_parquet(BaseDir+f'/{ObjectList[2]}.parquet')\n",
    "        cells=cells.rename({x:f'Cells_{x}' for x in cells.columns})\n",
    "        # step 1: Take the mean values of 'multiple nuclei' belonging to one cell\n",
    "\n",
    "        nuclei = nuclei.group_by([\n",
    "            \"Nuclei_Metadata_Barcode\",\"Nuclei_Metadata_Well\",\n",
    "            \"Nuclei_Parent_cells\", 'Nuclei_Metadata_Site'\n",
    "        ]).mean()\n",
    "\n",
    "        df_one = cytoplasm.join(nuclei,\n",
    "                    how='left', \n",
    "                    right_on=['Nuclei_Metadata_Well', 'Nuclei_Metadata_Site', 'Nuclei_Parent_cells', 'Nuclei_Metadata_Barcode'],\n",
    "                    left_on = ['Cytoplasm_Metadata_Well','Cytoplasm_Metadata_Site', 'Cytoplasm_ObjectNumber', 'Cytoplasm_Metadata_Barcode'])\n",
    "                    \n",
    "        df_one = df_one.join(cells, how='left', \n",
    "                        left_on=['Cytoplasm_Metadata_Well','Cytoplasm_Metadata_Site','Cytoplasm_ObjectNumber', 'Cytoplasm_Metadata_Barcode'],\n",
    "                        right_on = ['Cells_Metadata_Well','Cells_Metadata_Site',\"Cells_ObjectNumber\", 'Cells_Metadata_Barcode'])\n",
    "\n",
    "        # print_time(\"initial merging\")\n",
    "        print('part1')\n",
    "\n",
    "        # deduplicate barcode/well/site - renamed cytoplasm_Metadata* to Metadata* and removes nuclei_* etc\n",
    "        unique_metadata_feature_names=['Metadata_Barcode','Metadata_Well','Metadata_Site']\n",
    "        df_one=df_one.rename({f'Cytoplasm_{suffix}':suffix for suffix in unique_metadata_feature_names})\n",
    "        # df = df.filter(pl.col(''))       \n",
    "        # for some reason, the site is parsed as float, even though it really should be an int\n",
    "        if df_one['Metadata_Site'].dtype in [np.dtype('float32'), np.dtype('float64')]:\n",
    "            # sometimes, for some reason, site indices are inf/nan\n",
    "            site_is_nan_mask=np.isnan(df_one['Metadata_Site'])\n",
    "            site_is_inf_mask=np.isinf(df_one['Metadata_Site'])\n",
    "            \n",
    "            try:\n",
    "                num_sites_nan=np.sum(site_is_nan_mask)\n",
    "                num_sites_inf=np.sum(site_is_inf_mask)\n",
    "                assert num_sites_nan==0, f\"found nan site values (n = {num_sites_nan})\"\n",
    "                assert num_sites_inf==0, f\"found inf site values (n = {num_sites_inf})\"\n",
    "            except AssertionError as e:\n",
    "                print(f\"info - this issue was automatically circumvented in the code : {e}\")\n",
    "                df_one=df_one[~(site_is_inf_mask|site_is_nan_mask)]\n",
    "                \n",
    "            num_metadata_site_entries_nonint=np.sum(np.abs(df_one['Metadata_Site']%1.0)>1e-6)\n",
    "            assert num_metadata_site_entries_nonint==0, f\"ERROR : {num_metadata_site_entries_nonint} imaging sites don't have integer indices. that should not be the case, and likely indicates a bug.\"\n",
    "            \n",
    "            #Should use np.round, no? TODO ask patrick. Truncation Errors are annoying.\n",
    "            df_one['Metadata_Site'] = df_one['Metadata_Site'].astype(np.dtype('int32'))\n",
    "        \n",
    "        #Adding Compound Metadata to each row\n",
    "        df_one = df_one.join(mdf_op.rename({x:f\"Metadata_cmpd_{x}\" for x in mdf_op.columns}),left_on='Metadata_Well',right_on='Metadata_cmpd_well_id')\n",
    "        df_one = df_one.filter(pl.col('Metadata_Site')<sliceLim)\n",
    "        df = pl.concat([df, df_one])\n",
    "        plate_name = f'processed metadata for {BaseDir.split(\"/\")[-1]}'\n",
    "        print(plate_name)\n",
    "    df = df.sort(pl.col('Metadata_Site'))\n",
    "    ###Here should be workable to unify by cell line.\n",
    "    df = df.with_columns((pl.col(\"Metadata_Barcode\") + \"_\" + pl.col(\"Metadata_Well\")).alias(\"Metadata_PlateWell\"))\n",
    "    print(df.select(pl.col('Metadata_cmpd_cell_line')).to_series().unique().to_list())\n",
    "    df = df.filter(pl.col('Metadata_cmpd_cell_line')==cl)\n",
    "    print(df.select(pl.col('Metadata_cmpd_cell_line')).to_series().unique().to_list())\n",
    "    ###End\n",
    "    # drop all rows that contain nan\n",
    "    num_rows_before_nan_trim = df.shape[0]\n",
    "    for col in df.select([pl.col(pl.Float32),pl.col(pl.Float64)]).columns:\n",
    "        before_drop=df.shape[0]\n",
    "        df=df.filter(pl.col(col).is_not_null())\n",
    "        after_drop=df.shape[0]\n",
    "\n",
    "        num_values_dropped=before_drop-after_drop\n",
    "        if num_values_dropped>0:\n",
    "           print(f\"dropped {num_values_dropped} rows due to NaNs in column {col}\")\n",
    "\n",
    "    num_rows_after_nan_trim = df.shape[0]\n",
    "    print_time(\"dropped NaNs\")\n",
    "    # Clip outliers\n",
    "    use_clipping = False\n",
    "    if use_clipping:\n",
    "        print('clipping values....')\n",
    "        float_cols = [c for c_name,c_dtype in zip(df.columns,df.dtypes) if \"float\" in str(c_dtype)]\n",
    "        lower_quantile = df.select(float_cols).quantile(0.01)\n",
    "        upper_quantile = df.select(float_cols).quantile(0.99)\n",
    "        print(\"calced quantiles\")\n",
    "        for col in float_cols:\n",
    "            df = df.with_column(\n",
    "                pl.col(col).clip(lower=lower_quantile[col],upper=upper_quantile[col])\n",
    "            )\n",
    "        print(\"clipped\")\n",
    "\n",
    "    # # # df_mean=df.with_columns([df_standardized[c] for c in df_standardized.columns])\n",
<<<<<<< HEAD
    "\n",
=======
    "    print(per_plate)\n",
    "    if statmet == 'meanstd':\n",
    "        print('Standardizing by MeanSTD')\n",
    "        if per_plate:\n",
    "            print('standardizing per plate')\n",
    "            df = standardize_mean_perplate(df)\n",
    "        else:\n",
    "            df = standardize_mean(df)\n",
    "    if statmet == 'minmax':\n",
    "        print('Normalizing')\n",
    "        if per_plate:\n",
    "            print('normalizing per plate')\n",
    "            df = normalize_perplate(df)\n",
    "        else:\n",
    "            df = normalize(df)\n",
    "    # df_mean = df\n",
>>>>>>> 5bcf7a1 (updated)
    "    \n",
    "    ScOut = f'{OutputDir}/SingleCell/'\n",
    "    if not os.path.exists(ScOut): \n",
    "        os.makedirs(ScOut)\n",
<<<<<<< HEAD
    "    df.write_parquet(f'{ScOut}/{df.select(pl.col(\"Metadata_cmpd_cell_line\")).unique().item()}_nonorm.parquet')\n",
    "\n",
    "    slicesOut = f'{OutputDir}/SingleSlice/'\n",
    "    arg_slice = 'median'\n",
    "    if not os.path.exists(slicesOut): \n",
    "        os.makedirs(slicesOut)\n",
    "    df = generate_slices(df, slicesOut, arg_slice)\n",
    "    print(f'Standardizing per pate:    {per_plate}')\n",
    "    if statmet == 'meanstd':\n",
    "\n",
    "        if per_plate:\n",
    "            print(f'standardizing per plate {per_plate} and per slice {per_slice}')\n",
    "            df = standardize_mean_perplate(df, per_slice)\n",
    "        else:\n",
    "            if per_slice:\n",
    "                print('Standardizing by MeanSTD on a per slice basis only')\n",
    "                df = standardize_mean(df)\n",
    "            else:\n",
    "                print('Bulk Standardisation')\n",
    "                df = standardize_mean_noslice(df)\n",
    "    if statmet == 'minmax':\n",
    "        print('Normalizing to unit on a per slice only')\n",
    "        if per_plate:\n",
    "            print('normalizing to unit per plate and per slice')\n",
    "            df = normalize_perplate(df, per_slice)\n",
    "        else:\n",
    "            if per_slice:\n",
    "                df = normalize(df)\n",
    "            else:\n",
    "                print('No bulk implemented yet. Running per slice. Error TBI soon(tm)')\n",
    "                df = normalize(df)\n",
    "    df.write_parquet(f'{slicesOut}/{df.select(pl.col(\"Metadata_cmpd_cell_line\")).unique().item()}_Slices_{arg_slice}Agg.parquet')\n",
    "    # df_mean = df\n",
=======
    "    df.write_parquet(f'{ScOut}/{df.select(pl.col(\"Metadata_cmpd_cell_line\")).unique().item()}.parquet')\n",
    "\n",
    "    # if make_slices:\n",
    "    slicesOut = f'{OutputDir}/SingleSlice/'\n",
    "    if not os.path.exists(slicesOut): \n",
    "        os.makedirs(slicesOut)\n",
    "    df = generate_slices(df, slicesOut, 'median')\n",
>>>>>>> 5bcf7a1 (updated)
    "    \n",
    "\n",
    "    #Generating the output directories\n",
    "    aggOut = f'{OutputDir}/WellAggregates/'\n",
    "    if not os.path.exists(aggOut): \n",
    "        os.makedirs(aggOut)\n",
    "    \n",
    "\n",
    "    # df_agg_mean = aggregate_mean(df)\n",
    "    # df_agg_mean.write_parquet(f'{aggOut}/{df.select(pl.col(\"Metadata_cmpd_cell_line\")).unique().item()}_MeanAgg_meanstd.parquet')\n",
    "    df_agg_median = aggregate_median(df)\n",
    "    df_agg_median.write_parquet(f'{aggOut}/{df.select(pl.col(\"Metadata_cmpd_cell_line\")).unique().item()}_MedianAgg_meanstd.parquet')\n",
    "    del df_agg_median\n",
    "    # del df_agg_mean\n",
    "    # del df_mean\n",
    "    print_time(\"binned mean data per well\")\n",
    "\n",
    "\n"
   ]
  },
  {
   "cell_type": "code",
   "execution_count": 7,
   "metadata": {},
   "outputs": [],
   "source": [
    "metaEx = pl.read_csv(f'{rootDir}/settings/spher-colo52-v1-import-inputFiles-and-PLAIDresults.csv')\n",
    "metaEx = metaEx.drop(cols_to_drop)"
   ]
  },
  {
   "cell_type": "code",
   "execution_count": 8,
   "metadata": {},
   "outputs": [
    {
     "data": {
      "text/html": [
       "<div><style>\n",
       ".dataframe > thead > tr,\n",
       ".dataframe > tbody > tr {\n",
       "  text-align: right;\n",
       "  white-space: pre-wrap;\n",
       "}\n",
       "</style>\n",
       "<small>shape: (5, 11)</small><table border=\"1\" class=\"dataframe\"><thead><tr><th>well_id</th><th>image_id</th><th>cp_id</th><th>barcode</th><th>plate_well</th><th>cmpdname</th><th>pert_type</th><th>target</th><th>pathway</th><th>target_type</th><th>cell_line</th></tr><tr><td>str</td><td>i64</td><td>i64</td><td>str</td><td>str</td><td>str</td><td>str</td><td>str</td><td>str</td><td>str</td><td>str</td></tr></thead><tbody><tr><td>&quot;B02&quot;</td><td>4185</td><td>5532</td><td>&quot;PB000137&quot;</td><td>&quot;PB000137_B02&quot;</td><td>&quot;PD0325901&quot;</td><td>&quot;trt&quot;</td><td>&quot;MEK&quot;</td><td>&quot;MAPK&quot;</td><td>&quot;Targeted&quot;</td><td>&quot;HCT116&quot;</td></tr><tr><td>&quot;B03&quot;</td><td>4185</td><td>5532</td><td>&quot;PB000137&quot;</td><td>&quot;PB000137_B03&quot;</td><td>&quot;Paclitaxel&quot;</td><td>&quot;trt&quot;</td><td>&quot;Autophagy,Microtubule Associat…</td><td>&quot;Cytoskeletal Signaling&quot;</td><td>&quot;Cytotoxic&quot;</td><td>&quot;HCT116&quot;</td></tr><tr><td>&quot;B04&quot;</td><td>4185</td><td>5532</td><td>&quot;PB000137&quot;</td><td>&quot;PB000137_B04&quot;</td><td>&quot;Olaparib (AZD2281, Ku-0059436)&quot;</td><td>&quot;trt&quot;</td><td>&quot;PARP&quot;</td><td>&quot;DNA Damage&quot;</td><td>&quot;Targeted&quot;</td><td>&quot;HCT116&quot;</td></tr><tr><td>&quot;B05&quot;</td><td>4185</td><td>5532</td><td>&quot;PB000137&quot;</td><td>&quot;PB000137_B05&quot;</td><td>&quot;SB216763&quot;</td><td>&quot;trt&quot;</td><td>&quot;GSK-3&quot;</td><td>&quot;PI3K/Akt/mTOR&quot;</td><td>&quot;Targeted&quot;</td><td>&quot;HCT116&quot;</td></tr><tr><td>&quot;B06&quot;</td><td>4185</td><td>5532</td><td>&quot;PB000137&quot;</td><td>&quot;PB000137_B06&quot;</td><td>&quot;Vorinostat (SAHA, MK0683)&quot;</td><td>&quot;trt&quot;</td><td>&quot;Autophagy,HDAC&quot;</td><td>&quot;Epigenetics&quot;</td><td>&quot;Targeted&quot;</td><td>&quot;HCT116&quot;</td></tr></tbody></table></div>"
      ],
      "text/plain": [
       "shape: (5, 11)\n",
       "┌─────────┬──────────┬───────┬──────────┬───┬──────────────┬─────────────┬─────────────┬───────────┐\n",
       "│ well_id ┆ image_id ┆ cp_id ┆ barcode  ┆ … ┆ target       ┆ pathway     ┆ target_type ┆ cell_line │\n",
       "│ ---     ┆ ---      ┆ ---   ┆ ---      ┆   ┆ ---          ┆ ---         ┆ ---         ┆ ---       │\n",
       "│ str     ┆ i64      ┆ i64   ┆ str      ┆   ┆ str          ┆ str         ┆ str         ┆ str       │\n",
       "╞═════════╪══════════╪═══════╪══════════╪═══╪══════════════╪═════════════╪═════════════╪═══════════╡\n",
       "│ B02     ┆ 4185     ┆ 5532  ┆ PB000137 ┆ … ┆ MEK          ┆ MAPK        ┆ Targeted    ┆ HCT116    │\n",
       "│ B03     ┆ 4185     ┆ 5532  ┆ PB000137 ┆ … ┆ Autophagy,Mi ┆ Cytoskeleta ┆ Cytotoxic   ┆ HCT116    │\n",
       "│         ┆          ┆       ┆          ┆   ┆ crotubule    ┆ l Signaling ┆             ┆           │\n",
       "│         ┆          ┆       ┆          ┆   ┆ Associat…    ┆             ┆             ┆           │\n",
       "│ B04     ┆ 4185     ┆ 5532  ┆ PB000137 ┆ … ┆ PARP         ┆ DNA Damage  ┆ Targeted    ┆ HCT116    │\n",
       "│ B05     ┆ 4185     ┆ 5532  ┆ PB000137 ┆ … ┆ GSK-3        ┆ PI3K/Akt/mT ┆ Targeted    ┆ HCT116    │\n",
       "│         ┆          ┆       ┆          ┆   ┆              ┆ OR          ┆             ┆           │\n",
       "│ B06     ┆ 4185     ┆ 5532  ┆ PB000137 ┆ … ┆ Autophagy,HD ┆ Epigenetics ┆ Targeted    ┆ HCT116    │\n",
       "│         ┆          ┆       ┆          ┆   ┆ AC           ┆             ┆             ┆           │\n",
       "└─────────┴──────────┴───────┴──────────┴───┴──────────────┴─────────────┴─────────────┴───────────┘"
      ]
     },
     "execution_count": 8,
     "metadata": {},
     "output_type": "execute_result"
    }
   ],
   "source": [
    "metaEx.head()\n"
   ]
  },
  {
   "cell_type": "code",
   "execution_count": 9,
   "metadata": {},
   "outputs": [],
   "source": [
    "# metaEx.select(pl.col(['cell_line'])).unique().to_series().to_list()\n",
    "# metaEx.select(pl.col(['cell_line'])).unique().to_series().to_list()\n",
    "# metaEx.select(pl.col(['barcode'])).unique().to_series().to_list()"
   ]
  },
  {
   "cell_type": "code",
   "execution_count": 10,
   "metadata": {},
<<<<<<< HEAD
=======
   "outputs": [
    {
     "data": {
      "text/html": [
       "<div><style>\n",
       ".dataframe > thead > tr,\n",
       ".dataframe > tbody > tr {\n",
       "  text-align: right;\n",
       "  white-space: pre-wrap;\n",
       "}\n",
       "</style>\n",
       "<small>shape: (5, 11)</small><table border=\"1\" class=\"dataframe\"><thead><tr><th>well_id</th><th>image_id</th><th>cp_id</th><th>barcode</th><th>plate_well</th><th>cmpdname</th><th>pert_type</th><th>target</th><th>pathway</th><th>target_type</th><th>cell_line</th></tr><tr><td>str</td><td>i64</td><td>i64</td><td>str</td><td>str</td><td>str</td><td>str</td><td>str</td><td>str</td><td>str</td><td>str</td></tr></thead><tbody><tr><td>&quot;B02&quot;</td><td>4185</td><td>5532</td><td>&quot;PB000137&quot;</td><td>&quot;PB000137_B02&quot;</td><td>&quot;PD0325901&quot;</td><td>&quot;trt&quot;</td><td>&quot;MEK&quot;</td><td>&quot;MAPK&quot;</td><td>&quot;Targeted&quot;</td><td>&quot;HCT116&quot;</td></tr><tr><td>&quot;B03&quot;</td><td>4185</td><td>5532</td><td>&quot;PB000137&quot;</td><td>&quot;PB000137_B03&quot;</td><td>&quot;Paclitaxel&quot;</td><td>&quot;trt&quot;</td><td>&quot;Autophagy,Microtubule Associat…</td><td>&quot;Cytoskeletal Signaling&quot;</td><td>&quot;Cytotoxic&quot;</td><td>&quot;HCT116&quot;</td></tr><tr><td>&quot;B04&quot;</td><td>4185</td><td>5532</td><td>&quot;PB000137&quot;</td><td>&quot;PB000137_B04&quot;</td><td>&quot;Olaparib (AZD2281, Ku-0059436)&quot;</td><td>&quot;trt&quot;</td><td>&quot;PARP&quot;</td><td>&quot;DNA Damage&quot;</td><td>&quot;Targeted&quot;</td><td>&quot;HCT116&quot;</td></tr><tr><td>&quot;B05&quot;</td><td>4185</td><td>5532</td><td>&quot;PB000137&quot;</td><td>&quot;PB000137_B05&quot;</td><td>&quot;SB216763&quot;</td><td>&quot;trt&quot;</td><td>&quot;GSK-3&quot;</td><td>&quot;PI3K/Akt/mTOR&quot;</td><td>&quot;Targeted&quot;</td><td>&quot;HCT116&quot;</td></tr><tr><td>&quot;B06&quot;</td><td>4185</td><td>5532</td><td>&quot;PB000137&quot;</td><td>&quot;PB000137_B06&quot;</td><td>&quot;Vorinostat (SAHA, MK0683)&quot;</td><td>&quot;trt&quot;</td><td>&quot;Autophagy,HDAC&quot;</td><td>&quot;Epigenetics&quot;</td><td>&quot;Targeted&quot;</td><td>&quot;HCT116&quot;</td></tr></tbody></table></div>"
      ],
      "text/plain": [
       "shape: (5, 11)\n",
       "┌─────────┬──────────┬───────┬──────────┬───┬──────────────┬─────────────┬─────────────┬───────────┐\n",
       "│ well_id ┆ image_id ┆ cp_id ┆ barcode  ┆ … ┆ target       ┆ pathway     ┆ target_type ┆ cell_line │\n",
       "│ ---     ┆ ---      ┆ ---   ┆ ---      ┆   ┆ ---          ┆ ---         ┆ ---         ┆ ---       │\n",
       "│ str     ┆ i64      ┆ i64   ┆ str      ┆   ┆ str          ┆ str         ┆ str         ┆ str       │\n",
       "╞═════════╪══════════╪═══════╪══════════╪═══╪══════════════╪═════════════╪═════════════╪═══════════╡\n",
       "│ B02     ┆ 4185     ┆ 5532  ┆ PB000137 ┆ … ┆ MEK          ┆ MAPK        ┆ Targeted    ┆ HCT116    │\n",
       "│ B03     ┆ 4185     ┆ 5532  ┆ PB000137 ┆ … ┆ Autophagy,Mi ┆ Cytoskeleta ┆ Cytotoxic   ┆ HCT116    │\n",
       "│         ┆          ┆       ┆          ┆   ┆ crotubule    ┆ l Signaling ┆             ┆           │\n",
       "│         ┆          ┆       ┆          ┆   ┆ Associat…    ┆             ┆             ┆           │\n",
       "│ B04     ┆ 4185     ┆ 5532  ┆ PB000137 ┆ … ┆ PARP         ┆ DNA Damage  ┆ Targeted    ┆ HCT116    │\n",
       "│ B05     ┆ 4185     ┆ 5532  ┆ PB000137 ┆ … ┆ GSK-3        ┆ PI3K/Akt/mT ┆ Targeted    ┆ HCT116    │\n",
       "│         ┆          ┆       ┆          ┆   ┆              ┆ OR          ┆             ┆           │\n",
       "│ B06     ┆ 4185     ┆ 5532  ┆ PB000137 ┆ … ┆ Autophagy,HD ┆ Epigenetics ┆ Targeted    ┆ HCT116    │\n",
       "│         ┆          ┆       ┆          ┆   ┆ AC           ┆             ┆             ┆           │\n",
       "└─────────┴──────────┴───────┴──────────┴───┴──────────────┴─────────────┴─────────────┴───────────┘"
      ]
     },
     "execution_count": 10,
     "metadata": {},
     "output_type": "execute_result"
    }
   ],
   "source": [
    "metaEx.head()"
   ]
  },
  {
   "cell_type": "code",
   "execution_count": 11,
   "metadata": {},
   "outputs": [
    {
     "data": {
      "text/plain": [
       "['HCT116', 'HT29']"
      ]
     },
     "execution_count": 11,
     "metadata": {},
     "output_type": "execute_result"
    }
   ],
   "source": [
    "metaEx.select(pl.col(['cell_line'])).unique().to_series().to_list()"
   ]
  },
  {
   "cell_type": "code",
   "execution_count": 12,
   "metadata": {},
   "outputs": [
    {
     "data": {
      "text/plain": [
       "['HCT116', 'HT29']"
      ]
     },
     "execution_count": 12,
     "metadata": {},
     "output_type": "execute_result"
    }
   ],
   "source": [
    "metaEx.select(pl.col(['cell_line'])).unique().to_series().to_list()\n"
   ]
  },
  {
   "cell_type": "code",
   "execution_count": 13,
   "metadata": {},
>>>>>>> 5bcf7a1 (updated)
   "outputs": [],
   "source": [
    "ObjectList = ['featICF_nuclei', 'featICF_cells', 'featICF_cytoplasm']"
   ]
  },
  {
   "cell_type": "code",
   "execution_count": 11,
   "metadata": {},
   "outputs": [],
   "source": [
    "# data_processing(metaEx, 'HCT116', ObjectList, OutputDir, statmet='meanstd', per_plate=True)"
   ]
  },
  {
   "cell_type": "code",
   "execution_count": 12,
   "metadata": {},
   "outputs": [],
   "source": [
    "# data_processing(metaEx, 'HCT116', ObjectList, OutputDir, statmet='meanstd', per_plate=False)"
   ]
  },
  {
   "cell_type": "code",
   "execution_count": 13,
   "metadata": {},
   "outputs": [],
   "source": [
    "# data_processing(metaEx, 'HT29', ObjectList, OutputDir, statmet='meanstd', per_plate=True)"
   ]
  },
  {
   "cell_type": "code",
   "execution_count": 14,
   "metadata": {},
<<<<<<< HEAD
   "outputs": [],
   "source": [
    "# data_processing(metaEx, 'HT29', ObjectList, OutputDir, statmet='meanstd', per_plate=False)"
=======
   "outputs": [
    {
     "data": {
      "text/plain": [
       "['PB000140', 'PB000141', 'PB000138', 'PB000142', 'PB000137', 'PB000139']"
      ]
     },
     "execution_count": 14,
     "metadata": {},
     "output_type": "execute_result"
    }
   ],
   "source": [
    "metaEx.select(pl.col(['barcode'])).unique().to_series().to_list()"
>>>>>>> 5bcf7a1 (updated)
   ]
  },
  {
   "cell_type": "code",
   "execution_count": 15,
   "metadata": {},
   "outputs": [
    {
     "name": "stdout",
     "output_type": "stream",
     "text": [
      "Starting Processing\n",
      "/share/data/cellprofiler/automation/results/PB000139/4186/5533\n",
      "part1\n",
      "processed metadata for 5533\n",
      "/share/data/cellprofiler/automation/results/PB000138/4188/5547\n",
      "part1\n",
      "processed metadata for 5547\n",
      "/share/data/cellprofiler/automation/results/PB000140/4189/5573\n",
      "part1\n",
      "processed metadata for 5573\n",
      "/share/data/cellprofiler/automation/results/PB000137/4185/5532\n",
      "part1\n",
      "processed metadata for 5532\n",
      "['HCT116']\n",
      "['HCT116']\n",
      "dropped 1 rows due to NaNs in column Cytoplasm_AreaShape_FormFactor\n",
      "dropped 3 rows due to NaNs in column Cytoplasm_Correlation_Costes_CONC_HOECHST\n",
      "dropped 1 rows due to NaNs in column Cytoplasm_Correlation_Costes_MITO_HOECHST\n",
      "dropped 25 rows due to NaNs in column Cytoplasm_Neighbors_AngleBetweenNeighbors_Adjacent\n",
      "dropped 4 rows due to NaNs in column Cytoplasm_Neighbors_FirstClosestDistance_Adjacent\n",
      "dropped 36 rows due to NaNs in column Nuclei_Neighbors_AngleBetweenNeighbors_Adjacent\n",
      "dropped 4 rows due to NaNs in column Nuclei_Neighbors_FirstClosestDistance_Adjacent\n",
      "dropped 30 rows due to NaNs in column Cells_AreaShape_Area\n",
      "dropped 11 rows due to NaNs in column Cells_AreaShape_FormFactor\n",
      "dropped 28 rows due to NaNs in column Cells_AreaShape_Zernike_0_0\n",
<<<<<<< HEAD
      "2024-10-24 15:54:22 dropped NaNs\n",
      "Standardizing per pate:    True\n",
      "standardizing per plate True and per slice False\n",
      "['PB000140', 'PB000137', 'PB000138', 'PB000139']\n",
      "processing barcode PB000140\n",
      "RUNNING WITH NO SLOCE\n"
=======
      "2024-09-23 06:44:06 dropped NaNs\n",
      "False\n",
      "Normalizing\n"
>>>>>>> 5bcf7a1 (updated)
     ]
    },
    {
     "name": "stderr",
     "output_type": "stream",
     "text": [
<<<<<<< HEAD
      "/tmp/ipykernel_350324/3109754650.py:72: DeprecationWarning: The `default` parameter for `replace` is deprecated. Use `replace_strict` instead to set a default while replacing values.\n",
      "  std = std.select([pl.col(c).replace({0: 1}, default=pl.col(c)) for c in std.columns])\n"
=======
      "/tmp/ipykernel_560532/1243376385.py:79: DeprecationWarning: `DataFrame.with_row_count` is deprecated. Use `with_row_index` instead. Note that the default column name has changed from 'row_nr' to 'index'.\n",
      "  df = df.with_row_count('index')\n",
      "/tmp/ipykernel_560532/1243376385.py:88: DeprecationWarning: The `default` parameter for `replace` is deprecated. Use `replace_strict` instead to set a default while replacing values.\n",
      "  maxi = maxi.select([pl.col(c).replace({0: 1}, default=pl.col(c)) for c in maxi.columns])\n"
>>>>>>> 5bcf7a1 (updated)
     ]
    },
    {
     "name": "stdout",
     "output_type": "stream",
     "text": [
<<<<<<< HEAD
      "2024-10-24 15:55:13 calculated DMSO distribution\n",
      "processing barcode PB000137\n",
      "RUNNING WITH NO SLOCE\n",
      "2024-10-24 15:55:14 calculated DMSO distribution\n",
      "processing barcode PB000138\n",
      "RUNNING WITH NO SLOCE\n",
      "2024-10-24 15:55:14 calculated DMSO distribution\n",
      "processing barcode PB000139\n",
      "RUNNING WITH NO SLOCE\n",
      "2024-10-24 15:55:15 calculated DMSO distribution\n",
      "2024-10-24 15:55:20 binned mean data per well\n"
=======
      "2024-09-23 06:44:06 calculated DMSO distribution for one slice\n",
      "2024-09-23 06:44:07 calculated DMSO distribution for one slice\n",
      "2024-09-23 06:44:07 calculated DMSO distribution for one slice\n",
      "2024-09-23 06:44:08 calculated DMSO distribution for one slice\n",
      "2024-09-23 06:44:09 calculated DMSO distribution for one slice\n",
      "2024-09-23 06:44:09 calculated DMSO distribution for one slice\n",
      "2024-09-23 06:44:10 calculated DMSO distribution for one slice\n",
      "2024-09-23 06:44:11 calculated DMSO distribution for one slice\n",
      "2024-09-23 06:44:11 calculated DMSO distribution for one slice\n",
      "2024-09-23 06:44:12 calculated DMSO distribution for one slice\n",
      "2024-09-23 06:44:13 calculated DMSO distribution for one slice\n",
      "2024-09-23 06:44:14 calculated DMSO distribution for one slice\n",
      "2024-09-23 06:45:45 binned mean data per well\n"
>>>>>>> 5bcf7a1 (updated)
     ]
    }
   ],
   "source": [
<<<<<<< HEAD
    "data_processing(metaEx, 'HCT116', ObjectList, OutputDir, statmet='meanstd', per_plate=True, per_slice=False)"
=======
    "data_processing(metaEx, 'HCT116', ObjectList, OutputDir)"
>>>>>>> 5bcf7a1 (updated)
   ]
  },
  {
   "cell_type": "code",
   "execution_count": 16,
   "metadata": {},
   "outputs": [
    {
     "name": "stdout",
     "output_type": "stream",
     "text": [
      "Starting Processing\n",
<<<<<<< HEAD
=======
      "/share/data/cellprofiler/automation/results/PB000139/4186/5533\n",
      "part1\n",
      "processed metadata for 5533\n",
      "/share/data/cellprofiler/automation/results/PB000140/4189/5573\n",
      "part1\n",
      "processed metadata for 5573\n",
      "/share/data/cellprofiler/automation/results/PB000137/4185/5532\n",
      "part1\n",
      "processed metadata for 5532\n",
      "/share/data/cellprofiler/automation/results/PB000138/4188/5547\n",
      "part1\n",
      "processed metadata for 5547\n",
      "['HCT116']\n",
      "['HCT116']\n",
      "dropped 1 rows due to NaNs in column Cytoplasm_AreaShape_FormFactor\n",
      "dropped 3 rows due to NaNs in column Cytoplasm_Correlation_Costes_CONC_HOECHST\n",
      "dropped 1 rows due to NaNs in column Cytoplasm_Correlation_Costes_MITO_HOECHST\n",
      "dropped 25 rows due to NaNs in column Cytoplasm_Neighbors_AngleBetweenNeighbors_Adjacent\n",
      "dropped 4 rows due to NaNs in column Cytoplasm_Neighbors_FirstClosestDistance_Adjacent\n",
      "dropped 36 rows due to NaNs in column Nuclei_Neighbors_AngleBetweenNeighbors_Adjacent\n",
      "dropped 4 rows due to NaNs in column Nuclei_Neighbors_FirstClosestDistance_Adjacent\n",
      "dropped 30 rows due to NaNs in column Cells_AreaShape_Area\n",
      "dropped 11 rows due to NaNs in column Cells_AreaShape_FormFactor\n",
      "dropped 28 rows due to NaNs in column Cells_AreaShape_Zernike_0_0\n",
      "2024-09-23 06:48:41 dropped NaNs\n",
      "True\n",
      "Normalizing\n",
      "normalizing per plate\n",
      "['PB000137', 'PB000140', 'PB000139', 'PB000138']\n",
      "processing barcode PB000137\n"
     ]
    },
    {
     "name": "stderr",
     "output_type": "stream",
     "text": [
      "/tmp/ipykernel_560532/1243376385.py:79: DeprecationWarning: `DataFrame.with_row_count` is deprecated. Use `with_row_index` instead. Note that the default column name has changed from 'row_nr' to 'index'.\n",
      "  df = df.with_row_count('index')\n",
      "/tmp/ipykernel_560532/1243376385.py:88: DeprecationWarning: The `default` parameter for `replace` is deprecated. Use `replace_strict` instead to set a default while replacing values.\n",
      "  maxi = maxi.select([pl.col(c).replace({0: 1}, default=pl.col(c)) for c in maxi.columns])\n"
     ]
    },
    {
     "name": "stdout",
     "output_type": "stream",
     "text": [
      "2024-09-23 06:48:42 calculated DMSO distribution for one slice\n",
      "2024-09-23 06:48:43 calculated DMSO distribution for one slice\n",
      "2024-09-23 06:48:43 calculated DMSO distribution for one slice\n",
      "2024-09-23 06:48:44 calculated DMSO distribution for one slice\n",
      "2024-09-23 06:48:45 calculated DMSO distribution for one slice\n",
      "2024-09-23 06:48:45 calculated DMSO distribution for one slice\n",
      "2024-09-23 06:48:46 calculated DMSO distribution for one slice\n",
      "2024-09-23 06:48:46 calculated DMSO distribution for one slice\n",
      "2024-09-23 06:48:47 calculated DMSO distribution for one slice\n",
      "2024-09-23 06:48:48 calculated DMSO distribution for one slice\n",
      "2024-09-23 06:48:48 calculated DMSO distribution for one slice\n",
      "2024-09-23 06:48:49 calculated DMSO distribution for one slice\n",
      "processing barcode PB000140\n",
      "2024-09-23 06:48:50 calculated DMSO distribution for one slice\n",
      "2024-09-23 06:48:50 calculated DMSO distribution for one slice\n",
      "2024-09-23 06:48:51 calculated DMSO distribution for one slice\n",
      "2024-09-23 06:48:51 calculated DMSO distribution for one slice\n",
      "2024-09-23 06:48:52 calculated DMSO distribution for one slice\n",
      "2024-09-23 06:48:52 calculated DMSO distribution for one slice\n",
      "2024-09-23 06:48:53 calculated DMSO distribution for one slice\n",
      "2024-09-23 06:48:53 calculated DMSO distribution for one slice\n",
      "2024-09-23 06:48:54 calculated DMSO distribution for one slice\n",
      "2024-09-23 06:48:54 calculated DMSO distribution for one slice\n",
      "2024-09-23 06:48:55 calculated DMSO distribution for one slice\n",
      "2024-09-23 06:48:56 calculated DMSO distribution for one slice\n",
      "processing barcode PB000139\n",
      "2024-09-23 06:48:56 calculated DMSO distribution for one slice\n",
      "2024-09-23 06:48:57 calculated DMSO distribution for one slice\n",
      "2024-09-23 06:48:57 calculated DMSO distribution for one slice\n",
      "2024-09-23 06:48:58 calculated DMSO distribution for one slice\n",
      "2024-09-23 06:48:59 calculated DMSO distribution for one slice\n",
      "2024-09-23 06:48:59 calculated DMSO distribution for one slice\n",
      "2024-09-23 06:49:00 calculated DMSO distribution for one slice\n",
      "2024-09-23 06:49:00 calculated DMSO distribution for one slice\n",
      "2024-09-23 06:49:01 calculated DMSO distribution for one slice\n",
      "2024-09-23 06:49:01 calculated DMSO distribution for one slice\n",
      "2024-09-23 06:49:02 calculated DMSO distribution for one slice\n",
      "2024-09-23 06:49:03 calculated DMSO distribution for one slice\n",
      "processing barcode PB000138\n",
      "2024-09-23 06:49:04 calculated DMSO distribution for one slice\n",
      "2024-09-23 06:49:04 calculated DMSO distribution for one slice\n",
      "2024-09-23 06:49:05 calculated DMSO distribution for one slice\n",
      "2024-09-23 06:49:05 calculated DMSO distribution for one slice\n",
      "2024-09-23 06:49:06 calculated DMSO distribution for one slice\n",
      "2024-09-23 06:49:06 calculated DMSO distribution for one slice\n",
      "2024-09-23 06:49:07 calculated DMSO distribution for one slice\n",
      "2024-09-23 06:49:08 calculated DMSO distribution for one slice\n",
      "2024-09-23 06:49:08 calculated DMSO distribution for one slice\n",
      "2024-09-23 06:49:09 calculated DMSO distribution for one slice\n",
      "2024-09-23 06:49:10 calculated DMSO distribution for one slice\n",
      "2024-09-23 06:49:11 calculated DMSO distribution for one slice\n",
      "2024-09-23 06:50:18 binned mean data per well\n"
     ]
    }
   ],
   "source": [
    "data_processing(metaEx, 'HCT116', ObjectList, OutputDir, statmet='minmax', per_plate=True)"
   ]
  },
  {
   "cell_type": "code",
   "execution_count": 17,
   "metadata": {},
   "outputs": [
    {
     "name": "stdout",
     "output_type": "stream",
     "text": [
      "Starting Processing\n",
      "/share/data/cellprofiler/automation/results/PB000138/4188/5547\n",
      "part1\n",
      "processed metadata for 5547\n",
      "/share/data/cellprofiler/automation/results/PB000140/4189/5573\n",
      "part1\n",
      "processed metadata for 5573\n",
      "/share/data/cellprofiler/automation/results/PB000137/4185/5532\n",
      "part1\n",
      "processed metadata for 5532\n",
      "/share/data/cellprofiler/automation/results/PB000139/4186/5533\n",
      "part1\n",
      "processed metadata for 5533\n",
      "['HCT116']\n",
      "['HCT116']\n",
      "dropped 1 rows due to NaNs in column Cytoplasm_AreaShape_FormFactor\n",
      "dropped 3 rows due to NaNs in column Cytoplasm_Correlation_Costes_CONC_HOECHST\n",
      "dropped 1 rows due to NaNs in column Cytoplasm_Correlation_Costes_MITO_HOECHST\n",
      "dropped 25 rows due to NaNs in column Cytoplasm_Neighbors_AngleBetweenNeighbors_Adjacent\n",
      "dropped 4 rows due to NaNs in column Cytoplasm_Neighbors_FirstClosestDistance_Adjacent\n",
      "dropped 36 rows due to NaNs in column Nuclei_Neighbors_AngleBetweenNeighbors_Adjacent\n",
      "dropped 4 rows due to NaNs in column Nuclei_Neighbors_FirstClosestDistance_Adjacent\n",
      "dropped 30 rows due to NaNs in column Cells_AreaShape_Area\n",
      "dropped 11 rows due to NaNs in column Cells_AreaShape_FormFactor\n",
      "dropped 28 rows due to NaNs in column Cells_AreaShape_Zernike_0_0\n",
      "2024-09-23 06:52:59 dropped NaNs\n",
      "False\n",
      "Standardizing by MeanSTD\n"
     ]
    },
    {
     "name": "stderr",
     "output_type": "stream",
     "text": [
      "/tmp/ipykernel_560532/1243376385.py:43: DeprecationWarning: The `default` parameter for `replace` is deprecated. Use `replace_strict` instead to set a default while replacing values.\n",
      "  std = std.select([pl.col(c).replace({0: 1}, default=pl.col(c)) for c in std.columns])\n"
     ]
    },
    {
     "name": "stdout",
     "output_type": "stream",
     "text": [
      "2024-09-23 06:52:59 calculated DMSO distribution for one slice\n",
      "2024-09-23 06:53:00 calculated DMSO distribution for one slice\n",
      "2024-09-23 06:53:01 calculated DMSO distribution for one slice\n",
      "2024-09-23 06:53:01 calculated DMSO distribution for one slice\n",
      "2024-09-23 06:53:02 calculated DMSO distribution for one slice\n",
      "2024-09-23 06:53:03 calculated DMSO distribution for one slice\n",
      "2024-09-23 06:53:04 calculated DMSO distribution for one slice\n",
      "2024-09-23 06:53:05 calculated DMSO distribution for one slice\n",
      "2024-09-23 06:53:05 calculated DMSO distribution for one slice\n",
      "2024-09-23 06:53:06 calculated DMSO distribution for one slice\n",
      "2024-09-23 06:53:07 calculated DMSO distribution for one slice\n",
      "2024-09-23 06:53:08 calculated DMSO distribution for one slice\n",
      "2024-09-23 06:54:40 binned mean data per well\n"
     ]
    }
   ],
   "source": [
    "data_processing(metaEx, 'HCT116', ObjectList, OutputDir, statmet='meanstd', per_plate=False)"
   ]
  },
  {
   "cell_type": "code",
   "execution_count": 18,
   "metadata": {},
   "outputs": [
    {
     "name": "stdout",
     "output_type": "stream",
     "text": [
      "Starting Processing\n",
      "/share/data/cellprofiler/automation/results/PB000137/4185/5532\n",
      "part1\n",
      "processed metadata for 5532\n",
      "/share/data/cellprofiler/automation/results/PB000138/4188/5547\n",
      "part1\n",
      "processed metadata for 5547\n",
      "/share/data/cellprofiler/automation/results/PB000139/4186/5533\n",
      "part1\n",
      "processed metadata for 5533\n",
      "/share/data/cellprofiler/automation/results/PB000140/4189/5573\n",
      "part1\n",
      "processed metadata for 5573\n",
      "['HCT116']\n",
      "['HCT116']\n",
      "dropped 1 rows due to NaNs in column Cytoplasm_AreaShape_FormFactor\n",
      "dropped 3 rows due to NaNs in column Cytoplasm_Correlation_Costes_CONC_HOECHST\n",
      "dropped 1 rows due to NaNs in column Cytoplasm_Correlation_Costes_MITO_HOECHST\n",
      "dropped 25 rows due to NaNs in column Cytoplasm_Neighbors_AngleBetweenNeighbors_Adjacent\n",
      "dropped 4 rows due to NaNs in column Cytoplasm_Neighbors_FirstClosestDistance_Adjacent\n",
      "dropped 36 rows due to NaNs in column Nuclei_Neighbors_AngleBetweenNeighbors_Adjacent\n",
      "dropped 4 rows due to NaNs in column Nuclei_Neighbors_FirstClosestDistance_Adjacent\n",
      "dropped 30 rows due to NaNs in column Cells_AreaShape_Area\n",
      "dropped 11 rows due to NaNs in column Cells_AreaShape_FormFactor\n",
      "dropped 28 rows due to NaNs in column Cells_AreaShape_Zernike_0_0\n",
      "2024-09-23 06:57:18 dropped NaNs\n",
      "True\n",
      "Standardizing by MeanSTD\n",
      "standardizing per plate\n",
      "['PB000139', 'PB000137', 'PB000140', 'PB000138']\n",
      "processing barcode PB000139\n"
     ]
    },
    {
     "name": "stderr",
     "output_type": "stream",
     "text": [
      "/tmp/ipykernel_560532/1243376385.py:43: DeprecationWarning: The `default` parameter for `replace` is deprecated. Use `replace_strict` instead to set a default while replacing values.\n",
      "  std = std.select([pl.col(c).replace({0: 1}, default=pl.col(c)) for c in std.columns])\n"
     ]
    },
    {
     "name": "stdout",
     "output_type": "stream",
     "text": [
      "2024-09-23 06:57:18 calculated DMSO distribution for one slice\n",
      "2024-09-23 06:57:19 calculated DMSO distribution for one slice\n",
      "2024-09-23 06:57:20 calculated DMSO distribution for one slice\n",
      "2024-09-23 06:57:20 calculated DMSO distribution for one slice\n",
      "2024-09-23 06:57:21 calculated DMSO distribution for one slice\n",
      "2024-09-23 06:57:21 calculated DMSO distribution for one slice\n",
      "2024-09-23 06:57:22 calculated DMSO distribution for one slice\n",
      "2024-09-23 06:57:23 calculated DMSO distribution for one slice\n",
      "2024-09-23 06:57:23 calculated DMSO distribution for one slice\n",
      "2024-09-23 06:57:24 calculated DMSO distribution for one slice\n",
      "2024-09-23 06:57:24 calculated DMSO distribution for one slice\n",
      "2024-09-23 06:57:25 calculated DMSO distribution for one slice\n",
      "processing barcode PB000137\n",
      "2024-09-23 06:57:26 calculated DMSO distribution for one slice\n",
      "2024-09-23 06:57:27 calculated DMSO distribution for one slice\n",
      "2024-09-23 06:57:28 calculated DMSO distribution for one slice\n",
      "2024-09-23 06:57:28 calculated DMSO distribution for one slice\n",
      "2024-09-23 06:57:29 calculated DMSO distribution for one slice\n",
      "2024-09-23 06:57:29 calculated DMSO distribution for one slice\n",
      "2024-09-23 06:57:30 calculated DMSO distribution for one slice\n",
      "2024-09-23 06:57:31 calculated DMSO distribution for one slice\n",
      "2024-09-23 06:57:31 calculated DMSO distribution for one slice\n",
      "2024-09-23 06:57:32 calculated DMSO distribution for one slice\n",
      "2024-09-23 06:57:32 calculated DMSO distribution for one slice\n",
      "2024-09-23 06:57:33 calculated DMSO distribution for one slice\n",
      "processing barcode PB000140\n",
      "2024-09-23 06:57:34 calculated DMSO distribution for one slice\n",
      "2024-09-23 06:57:35 calculated DMSO distribution for one slice\n",
      "2024-09-23 06:57:35 calculated DMSO distribution for one slice\n",
      "2024-09-23 06:57:36 calculated DMSO distribution for one slice\n",
      "2024-09-23 06:57:36 calculated DMSO distribution for one slice\n",
      "2024-09-23 06:57:37 calculated DMSO distribution for one slice\n",
      "2024-09-23 06:57:38 calculated DMSO distribution for one slice\n",
      "2024-09-23 06:57:38 calculated DMSO distribution for one slice\n",
      "2024-09-23 06:57:39 calculated DMSO distribution for one slice\n",
      "2024-09-23 06:57:39 calculated DMSO distribution for one slice\n",
      "2024-09-23 06:57:40 calculated DMSO distribution for one slice\n",
      "2024-09-23 06:57:41 calculated DMSO distribution for one slice\n",
      "processing barcode PB000138\n",
      "2024-09-23 06:57:42 calculated DMSO distribution for one slice\n",
      "2024-09-23 06:57:43 calculated DMSO distribution for one slice\n",
      "2024-09-23 06:57:43 calculated DMSO distribution for one slice\n",
      "2024-09-23 06:57:44 calculated DMSO distribution for one slice\n",
      "2024-09-23 06:57:44 calculated DMSO distribution for one slice\n",
      "2024-09-23 06:57:45 calculated DMSO distribution for one slice\n",
      "2024-09-23 06:57:46 calculated DMSO distribution for one slice\n",
      "2024-09-23 06:57:46 calculated DMSO distribution for one slice\n",
      "2024-09-23 06:57:47 calculated DMSO distribution for one slice\n",
      "2024-09-23 06:57:48 calculated DMSO distribution for one slice\n",
      "2024-09-23 06:57:48 calculated DMSO distribution for one slice\n",
      "2024-09-23 06:57:49 calculated DMSO distribution for one slice\n",
      "2024-09-23 06:58:56 binned mean data per well\n"
     ]
    }
   ],
   "source": [
    "data_processing(metaEx, 'HCT116', ObjectList, OutputDir, statmet='meanstd', per_plate=True)"
   ]
  },
  {
   "cell_type": "code",
   "execution_count": 19,
   "metadata": {},
   "outputs": [
    {
     "name": "stdout",
     "output_type": "stream",
     "text": [
      "Starting Processing\n",
      "/share/data/cellprofiler/automation/results/PB000138/4188/5547\n",
      "part1\n",
      "processed metadata for 5547\n",
      "/share/data/cellprofiler/automation/results/PB000137/4185/5532\n",
      "part1\n",
      "processed metadata for 5532\n",
      "/share/data/cellprofiler/automation/results/PB000139/4186/5533\n",
      "part1\n",
      "processed metadata for 5533\n",
      "/share/data/cellprofiler/automation/results/PB000140/4189/5573\n",
      "part1\n",
      "processed metadata for 5573\n",
      "['HCT116']\n",
      "['HCT116']\n",
      "dropped 1 rows due to NaNs in column Cytoplasm_AreaShape_FormFactor\n",
      "dropped 3 rows due to NaNs in column Cytoplasm_Correlation_Costes_CONC_HOECHST\n",
      "dropped 1 rows due to NaNs in column Cytoplasm_Correlation_Costes_MITO_HOECHST\n",
      "dropped 25 rows due to NaNs in column Cytoplasm_Neighbors_AngleBetweenNeighbors_Adjacent\n",
      "dropped 4 rows due to NaNs in column Cytoplasm_Neighbors_FirstClosestDistance_Adjacent\n",
      "dropped 36 rows due to NaNs in column Nuclei_Neighbors_AngleBetweenNeighbors_Adjacent\n",
      "dropped 4 rows due to NaNs in column Nuclei_Neighbors_FirstClosestDistance_Adjacent\n",
      "dropped 30 rows due to NaNs in column Cells_AreaShape_Area\n",
      "dropped 11 rows due to NaNs in column Cells_AreaShape_FormFactor\n",
      "dropped 28 rows due to NaNs in column Cells_AreaShape_Zernike_0_0\n",
      "2024-09-23 07:01:29 dropped NaNs\n",
      "False\n",
      "2024-09-23 07:02:33 binned mean data per well\n"
     ]
    }
   ],
   "source": [
    "data_processing(metaEx, 'HCT116', ObjectList, OutputDir, statmet='none', per_plate=False)"
   ]
  },
  {
   "cell_type": "code",
   "execution_count": 20,
   "metadata": {},
   "outputs": [
    {
     "name": "stdout",
     "output_type": "stream",
     "text": [
      "Starting Processing\n",
      "/share/data/cellprofiler/automation/results/PB000139/4186/5533\n",
      "part1\n",
      "processed metadata for 5533\n",
      "/share/data/cellprofiler/automation/results/PB000142/4191/5574\n",
      "part1\n",
      "processed metadata for 5574\n",
      "/share/data/cellprofiler/automation/results/PB000141/4187/5546\n",
      "part1\n",
      "processed metadata for 5546\n",
      "/share/data/cellprofiler/automation/results/PB000140/4189/5573\n",
      "part1\n",
      "processed metadata for 5573\n",
      "['HT29']\n",
      "['HT29']\n",
      "dropped 1 rows due to NaNs in column Cytoplasm_Correlation_Costes_CONC_HOECHST\n",
      "dropped 26 rows due to NaNs in column Cytoplasm_Neighbors_AngleBetweenNeighbors_Adjacent\n",
      "dropped 2 rows due to NaNs in column Cytoplasm_Neighbors_FirstClosestDistance_Adjacent\n",
      "dropped 53 rows due to NaNs in column Nuclei_Neighbors_AngleBetweenNeighbors_Adjacent\n",
      "dropped 2 rows due to NaNs in column Nuclei_Neighbors_FirstClosestDistance_Adjacent\n",
      "dropped 28 rows due to NaNs in column Cells_AreaShape_Area\n",
      "dropped 20 rows due to NaNs in column Cells_AreaShape_FormFactor\n",
      "dropped 25 rows due to NaNs in column Cells_AreaShape_Zernike_0_0\n",
      "2024-09-23 07:04:55 dropped NaNs\n",
      "False\n",
      "Normalizing\n"
     ]
    },
    {
     "name": "stderr",
     "output_type": "stream",
     "text": [
      "/tmp/ipykernel_560532/1243376385.py:79: DeprecationWarning: `DataFrame.with_row_count` is deprecated. Use `with_row_index` instead. Note that the default column name has changed from 'row_nr' to 'index'.\n",
      "  df = df.with_row_count('index')\n",
      "/tmp/ipykernel_560532/1243376385.py:88: DeprecationWarning: The `default` parameter for `replace` is deprecated. Use `replace_strict` instead to set a default while replacing values.\n",
      "  maxi = maxi.select([pl.col(c).replace({0: 1}, default=pl.col(c)) for c in maxi.columns])\n"
     ]
    },
    {
     "name": "stdout",
     "output_type": "stream",
     "text": [
      "2024-09-23 07:04:55 calculated DMSO distribution for one slice\n",
      "2024-09-23 07:04:56 calculated DMSO distribution for one slice\n",
      "2024-09-23 07:04:56 calculated DMSO distribution for one slice\n",
      "2024-09-23 07:04:57 calculated DMSO distribution for one slice\n",
      "2024-09-23 07:04:57 calculated DMSO distribution for one slice\n",
      "2024-09-23 07:04:58 calculated DMSO distribution for one slice\n",
      "2024-09-23 07:04:59 calculated DMSO distribution for one slice\n",
      "2024-09-23 07:04:59 calculated DMSO distribution for one slice\n",
      "2024-09-23 07:05:00 calculated DMSO distribution for one slice\n",
      "2024-09-23 07:05:01 calculated DMSO distribution for one slice\n",
      "2024-09-23 07:05:01 calculated DMSO distribution for one slice\n",
      "2024-09-23 07:05:02 calculated DMSO distribution for one slice\n",
      "2024-09-23 07:05:57 binned mean data per well\n"
     ]
    }
   ],
   "source": [
    "data_processing(metaEx, 'HT29', ObjectList, OutputDir, statmet='minmax', per_plate=False)"
   ]
  },
  {
   "cell_type": "code",
   "execution_count": 21,
   "metadata": {},
   "outputs": [
    {
     "name": "stdout",
     "output_type": "stream",
     "text": [
      "Starting Processing\n",
      "/share/data/cellprofiler/automation/results/PB000139/4186/5533\n",
      "part1\n",
      "processed metadata for 5533\n",
      "/share/data/cellprofiler/automation/results/PB000140/4189/5573\n",
      "part1\n",
      "processed metadata for 5573\n",
      "/share/data/cellprofiler/automation/results/PB000141/4187/5546\n",
      "part1\n",
      "processed metadata for 5546\n",
      "/share/data/cellprofiler/automation/results/PB000142/4191/5574\n",
      "part1\n",
      "processed metadata for 5574\n",
      "['HT29']\n",
      "['HT29']\n",
      "dropped 1 rows due to NaNs in column Cytoplasm_Correlation_Costes_CONC_HOECHST\n",
      "dropped 26 rows due to NaNs in column Cytoplasm_Neighbors_AngleBetweenNeighbors_Adjacent\n",
      "dropped 2 rows due to NaNs in column Cytoplasm_Neighbors_FirstClosestDistance_Adjacent\n",
      "dropped 53 rows due to NaNs in column Nuclei_Neighbors_AngleBetweenNeighbors_Adjacent\n",
      "dropped 2 rows due to NaNs in column Nuclei_Neighbors_FirstClosestDistance_Adjacent\n",
      "dropped 28 rows due to NaNs in column Cells_AreaShape_Area\n",
      "dropped 20 rows due to NaNs in column Cells_AreaShape_FormFactor\n",
      "dropped 25 rows due to NaNs in column Cells_AreaShape_Zernike_0_0\n",
      "2024-09-23 07:08:12 dropped NaNs\n",
      "True\n",
      "Normalizing\n",
      "normalizing per plate\n",
      "['PB000140', 'PB000139', 'PB000142', 'PB000141']\n",
      "processing barcode PB000140\n"
     ]
    },
    {
     "name": "stderr",
     "output_type": "stream",
     "text": [
      "/tmp/ipykernel_560532/1243376385.py:79: DeprecationWarning: `DataFrame.with_row_count` is deprecated. Use `with_row_index` instead. Note that the default column name has changed from 'row_nr' to 'index'.\n",
      "  df = df.with_row_count('index')\n",
      "/tmp/ipykernel_560532/1243376385.py:88: DeprecationWarning: The `default` parameter for `replace` is deprecated. Use `replace_strict` instead to set a default while replacing values.\n",
      "  maxi = maxi.select([pl.col(c).replace({0: 1}, default=pl.col(c)) for c in maxi.columns])\n"
     ]
    },
    {
     "name": "stdout",
     "output_type": "stream",
     "text": [
      "2024-09-23 07:08:12 calculated DMSO distribution for one slice\n",
      "2024-09-23 07:08:13 calculated DMSO distribution for one slice\n",
      "2024-09-23 07:08:14 calculated DMSO distribution for one slice\n",
      "2024-09-23 07:08:14 calculated DMSO distribution for one slice\n",
      "2024-09-23 07:08:15 calculated DMSO distribution for one slice\n",
      "2024-09-23 07:08:15 calculated DMSO distribution for one slice\n",
      "2024-09-23 07:08:16 calculated DMSO distribution for one slice\n",
      "2024-09-23 07:08:16 calculated DMSO distribution for one slice\n",
      "2024-09-23 07:08:17 calculated DMSO distribution for one slice\n",
      "2024-09-23 07:08:17 calculated DMSO distribution for one slice\n",
      "2024-09-23 07:08:18 calculated DMSO distribution for one slice\n",
      "2024-09-23 07:08:18 calculated DMSO distribution for one slice\n",
      "processing barcode PB000139\n",
      "2024-09-23 07:08:19 calculated DMSO distribution for one slice\n",
      "2024-09-23 07:08:20 calculated DMSO distribution for one slice\n",
      "2024-09-23 07:08:20 calculated DMSO distribution for one slice\n",
      "2024-09-23 07:08:21 calculated DMSO distribution for one slice\n",
      "2024-09-23 07:08:21 calculated DMSO distribution for one slice\n",
      "2024-09-23 07:08:22 calculated DMSO distribution for one slice\n",
      "2024-09-23 07:08:22 calculated DMSO distribution for one slice\n",
      "2024-09-23 07:08:23 calculated DMSO distribution for one slice\n",
      "2024-09-23 07:08:23 calculated DMSO distribution for one slice\n",
      "2024-09-23 07:08:24 calculated DMSO distribution for one slice\n",
      "2024-09-23 07:08:24 calculated DMSO distribution for one slice\n",
      "2024-09-23 07:08:25 calculated DMSO distribution for one slice\n",
      "processing barcode PB000142\n",
      "2024-09-23 07:08:26 calculated DMSO distribution for one slice\n",
      "2024-09-23 07:08:26 calculated DMSO distribution for one slice\n",
      "2024-09-23 07:08:27 calculated DMSO distribution for one slice\n",
      "2024-09-23 07:08:27 calculated DMSO distribution for one slice\n",
      "2024-09-23 07:08:28 calculated DMSO distribution for one slice\n",
      "2024-09-23 07:08:28 calculated DMSO distribution for one slice\n",
      "2024-09-23 07:08:29 calculated DMSO distribution for one slice\n",
      "2024-09-23 07:08:30 calculated DMSO distribution for one slice\n",
      "2024-09-23 07:08:30 calculated DMSO distribution for one slice\n",
      "2024-09-23 07:08:31 calculated DMSO distribution for one slice\n",
      "2024-09-23 07:08:31 calculated DMSO distribution for one slice\n",
      "2024-09-23 07:08:32 calculated DMSO distribution for one slice\n",
      "processing barcode PB000141\n",
      "2024-09-23 07:08:33 calculated DMSO distribution for one slice\n",
      "2024-09-23 07:08:33 calculated DMSO distribution for one slice\n",
      "2024-09-23 07:08:34 calculated DMSO distribution for one slice\n",
      "2024-09-23 07:08:34 calculated DMSO distribution for one slice\n",
      "2024-09-23 07:08:35 calculated DMSO distribution for one slice\n",
      "2024-09-23 07:08:35 calculated DMSO distribution for one slice\n",
      "2024-09-23 07:08:36 calculated DMSO distribution for one slice\n",
      "2024-09-23 07:08:37 calculated DMSO distribution for one slice\n",
      "2024-09-23 07:08:37 calculated DMSO distribution for one slice\n",
      "2024-09-23 07:08:38 calculated DMSO distribution for one slice\n",
      "2024-09-23 07:08:38 calculated DMSO distribution for one slice\n",
      "2024-09-23 07:08:39 calculated DMSO distribution for one slice\n",
      "2024-09-23 07:09:24 binned mean data per well\n"
     ]
    }
   ],
   "source": [
    "data_processing(metaEx, 'HT29', ObjectList, OutputDir, statmet='minmax', per_plate=True)"
   ]
  },
  {
   "cell_type": "code",
   "execution_count": 22,
   "metadata": {},
   "outputs": [
    {
     "name": "stdout",
     "output_type": "stream",
     "text": [
      "Starting Processing\n",
>>>>>>> 5bcf7a1 (updated)
      "/share/data/cellprofiler/automation/results/PB000140/4189/5573\n",
      "part1\n",
      "processed metadata for 5573\n",
      "/share/data/cellprofiler/automation/results/PB000142/4191/5574\n",
      "part1\n",
      "processed metadata for 5574\n",
      "/share/data/cellprofiler/automation/results/PB000141/4187/5546\n",
      "part1\n",
      "processed metadata for 5546\n",
      "/share/data/cellprofiler/automation/results/PB000139/4186/5533\n",
      "part1\n",
      "processed metadata for 5533\n",
      "['HT29']\n",
      "['HT29']\n",
      "dropped 1 rows due to NaNs in column Cytoplasm_Correlation_Costes_CONC_HOECHST\n",
      "dropped 26 rows due to NaNs in column Cytoplasm_Neighbors_AngleBetweenNeighbors_Adjacent\n",
      "dropped 2 rows due to NaNs in column Cytoplasm_Neighbors_FirstClosestDistance_Adjacent\n",
      "dropped 53 rows due to NaNs in column Nuclei_Neighbors_AngleBetweenNeighbors_Adjacent\n",
      "dropped 2 rows due to NaNs in column Nuclei_Neighbors_FirstClosestDistance_Adjacent\n",
      "dropped 28 rows due to NaNs in column Cells_AreaShape_Area\n",
      "dropped 20 rows due to NaNs in column Cells_AreaShape_FormFactor\n",
      "dropped 25 rows due to NaNs in column Cells_AreaShape_Zernike_0_0\n",
<<<<<<< HEAD
      "2024-10-24 15:57:38 dropped NaNs\n",
      "Standardizing per pate:    True\n",
      "standardizing per plate True and per slice False\n",
      "['PB000141', 'PB000140', 'PB000139', 'PB000142']\n",
      "processing barcode PB000141\n",
      "RUNNING WITH NO SLOCE\n"
=======
      "2024-09-23 07:11:43 dropped NaNs\n",
      "False\n",
      "Standardizing by MeanSTD\n"
>>>>>>> 5bcf7a1 (updated)
     ]
    },
    {
     "name": "stderr",
     "output_type": "stream",
     "text": [
<<<<<<< HEAD
      "/tmp/ipykernel_350324/3109754650.py:72: DeprecationWarning: The `default` parameter for `replace` is deprecated. Use `replace_strict` instead to set a default while replacing values.\n",
=======
      "/tmp/ipykernel_560532/1243376385.py:43: DeprecationWarning: The `default` parameter for `replace` is deprecated. Use `replace_strict` instead to set a default while replacing values.\n",
>>>>>>> 5bcf7a1 (updated)
      "  std = std.select([pl.col(c).replace({0: 1}, default=pl.col(c)) for c in std.columns])\n"
     ]
    },
    {
     "name": "stdout",
     "output_type": "stream",
     "text": [
<<<<<<< HEAD
      "2024-10-24 15:58:08 calculated DMSO distribution\n",
      "processing barcode PB000140\n",
      "RUNNING WITH NO SLOCE\n",
      "2024-10-24 15:58:08 calculated DMSO distribution\n",
      "processing barcode PB000139\n",
      "RUNNING WITH NO SLOCE\n",
      "2024-10-24 15:58:09 calculated DMSO distribution\n",
      "processing barcode PB000142\n",
      "RUNNING WITH NO SLOCE\n",
      "2024-10-24 15:58:10 calculated DMSO distribution\n",
      "2024-10-24 15:58:14 binned mean data per well\n"
=======
      "2024-09-23 07:11:44 calculated DMSO distribution for one slice\n",
      "2024-09-23 07:11:44 calculated DMSO distribution for one slice\n",
      "2024-09-23 07:11:45 calculated DMSO distribution for one slice\n",
      "2024-09-23 07:11:46 calculated DMSO distribution for one slice\n",
      "2024-09-23 07:11:46 calculated DMSO distribution for one slice\n",
      "2024-09-23 07:11:47 calculated DMSO distribution for one slice\n",
      "2024-09-23 07:11:48 calculated DMSO distribution for one slice\n",
      "2024-09-23 07:11:48 calculated DMSO distribution for one slice\n",
      "2024-09-23 07:11:49 calculated DMSO distribution for one slice\n",
      "2024-09-23 07:11:50 calculated DMSO distribution for one slice\n",
      "2024-09-23 07:11:50 calculated DMSO distribution for one slice\n",
      "2024-09-23 07:11:51 calculated DMSO distribution for one slice\n",
      "2024-09-23 07:12:50 binned mean data per well\n"
>>>>>>> 5bcf7a1 (updated)
     ]
    }
   ],
   "source": [
<<<<<<< HEAD
    "data_processing(metaEx, 'HT29', ObjectList, OutputDir, statmet='meanstd', per_plate=True, per_slice=False)"
=======
    "data_processing(metaEx, 'HT29', ObjectList, OutputDir, statmet='meanstd', per_plate=False)"
>>>>>>> 5bcf7a1 (updated)
   ]
  },
  {
   "cell_type": "code",
<<<<<<< HEAD
   "execution_count": 17,
=======
   "execution_count": 23,
   "metadata": {},
   "outputs": [
    {
     "name": "stdout",
     "output_type": "stream",
     "text": [
      "Starting Processing\n",
      "/share/data/cellprofiler/automation/results/PB000142/4191/5574\n",
      "part1\n",
      "processed metadata for 5574\n",
      "/share/data/cellprofiler/automation/results/PB000140/4189/5573\n",
      "part1\n",
      "processed metadata for 5573\n",
      "/share/data/cellprofiler/automation/results/PB000141/4187/5546\n",
      "part1\n",
      "processed metadata for 5546\n",
      "/share/data/cellprofiler/automation/results/PB000139/4186/5533\n",
      "part1\n",
      "processed metadata for 5533\n",
      "['HT29']\n",
      "['HT29']\n",
      "dropped 1 rows due to NaNs in column Cytoplasm_Correlation_Costes_CONC_HOECHST\n",
      "dropped 26 rows due to NaNs in column Cytoplasm_Neighbors_AngleBetweenNeighbors_Adjacent\n",
      "dropped 2 rows due to NaNs in column Cytoplasm_Neighbors_FirstClosestDistance_Adjacent\n",
      "dropped 53 rows due to NaNs in column Nuclei_Neighbors_AngleBetweenNeighbors_Adjacent\n",
      "dropped 2 rows due to NaNs in column Nuclei_Neighbors_FirstClosestDistance_Adjacent\n",
      "dropped 28 rows due to NaNs in column Cells_AreaShape_Area\n",
      "dropped 20 rows due to NaNs in column Cells_AreaShape_FormFactor\n",
      "dropped 25 rows due to NaNs in column Cells_AreaShape_Zernike_0_0\n",
      "2024-09-23 07:15:07 dropped NaNs\n",
      "True\n",
      "Standardizing by MeanSTD\n",
      "standardizing per plate\n",
      "['PB000140', 'PB000141', 'PB000139', 'PB000142']\n",
      "processing barcode PB000140\n"
     ]
    },
    {
     "name": "stderr",
     "output_type": "stream",
     "text": [
      "/tmp/ipykernel_560532/1243376385.py:43: DeprecationWarning: The `default` parameter for `replace` is deprecated. Use `replace_strict` instead to set a default while replacing values.\n",
      "  std = std.select([pl.col(c).replace({0: 1}, default=pl.col(c)) for c in std.columns])\n"
     ]
    },
    {
     "name": "stdout",
     "output_type": "stream",
     "text": [
      "2024-09-23 07:15:07 calculated DMSO distribution for one slice\n",
      "2024-09-23 07:15:08 calculated DMSO distribution for one slice\n",
      "2024-09-23 07:15:08 calculated DMSO distribution for one slice\n",
      "2024-09-23 07:15:09 calculated DMSO distribution for one slice\n",
      "2024-09-23 07:15:10 calculated DMSO distribution for one slice\n",
      "2024-09-23 07:15:10 calculated DMSO distribution for one slice\n",
      "2024-09-23 07:15:11 calculated DMSO distribution for one slice\n",
      "2024-09-23 07:15:11 calculated DMSO distribution for one slice\n",
      "2024-09-23 07:15:12 calculated DMSO distribution for one slice\n",
      "2024-09-23 07:15:12 calculated DMSO distribution for one slice\n",
      "2024-09-23 07:15:13 calculated DMSO distribution for one slice\n",
      "2024-09-23 07:15:14 calculated DMSO distribution for one slice\n",
      "processing barcode PB000141\n",
      "2024-09-23 07:15:14 calculated DMSO distribution for one slice\n",
      "2024-09-23 07:15:15 calculated DMSO distribution for one slice\n",
      "2024-09-23 07:15:16 calculated DMSO distribution for one slice\n",
      "2024-09-23 07:15:16 calculated DMSO distribution for one slice\n",
      "2024-09-23 07:15:17 calculated DMSO distribution for one slice\n",
      "2024-09-23 07:15:17 calculated DMSO distribution for one slice\n",
      "2024-09-23 07:15:18 calculated DMSO distribution for one slice\n",
      "2024-09-23 07:15:18 calculated DMSO distribution for one slice\n",
      "2024-09-23 07:15:19 calculated DMSO distribution for one slice\n",
      "2024-09-23 07:15:20 calculated DMSO distribution for one slice\n",
      "2024-09-23 07:15:20 calculated DMSO distribution for one slice\n",
      "2024-09-23 07:15:21 calculated DMSO distribution for one slice\n",
      "processing barcode PB000139\n",
      "2024-09-23 07:15:21 calculated DMSO distribution for one slice\n",
      "2024-09-23 07:15:22 calculated DMSO distribution for one slice\n",
      "2024-09-23 07:15:23 calculated DMSO distribution for one slice\n",
      "2024-09-23 07:15:23 calculated DMSO distribution for one slice\n",
      "2024-09-23 07:15:24 calculated DMSO distribution for one slice\n",
      "2024-09-23 07:15:24 calculated DMSO distribution for one slice\n",
      "2024-09-23 07:15:25 calculated DMSO distribution for one slice\n",
      "2024-09-23 07:15:25 calculated DMSO distribution for one slice\n",
      "2024-09-23 07:15:26 calculated DMSO distribution for one slice\n",
      "2024-09-23 07:15:27 calculated DMSO distribution for one slice\n",
      "2024-09-23 07:15:27 calculated DMSO distribution for one slice\n",
      "2024-09-23 07:15:28 calculated DMSO distribution for one slice\n",
      "processing barcode PB000142\n",
      "2024-09-23 07:15:28 calculated DMSO distribution for one slice\n",
      "2024-09-23 07:15:29 calculated DMSO distribution for one slice\n",
      "2024-09-23 07:15:30 calculated DMSO distribution for one slice\n",
      "2024-09-23 07:15:30 calculated DMSO distribution for one slice\n",
      "2024-09-23 07:15:31 calculated DMSO distribution for one slice\n",
      "2024-09-23 07:15:31 calculated DMSO distribution for one slice\n",
      "2024-09-23 07:15:32 calculated DMSO distribution for one slice\n",
      "2024-09-23 07:15:32 calculated DMSO distribution for one slice\n",
      "2024-09-23 07:15:33 calculated DMSO distribution for one slice\n",
      "2024-09-23 07:15:34 calculated DMSO distribution for one slice\n",
      "2024-09-23 07:15:34 calculated DMSO distribution for one slice\n",
      "2024-09-23 07:15:35 calculated DMSO distribution for one slice\n",
      "2024-09-23 07:16:19 binned mean data per well\n"
     ]
    }
   ],
   "source": [
    "data_processing(metaEx, 'HT29', ObjectList, OutputDir, statmet='meanstd', per_plate=True)"
   ]
  },
  {
   "cell_type": "code",
   "execution_count": 24,
   "metadata": {},
   "outputs": [
    {
     "name": "stdout",
     "output_type": "stream",
     "text": [
      "Starting Processing\n",
      "/share/data/cellprofiler/automation/results/PB000142/4191/5574\n",
      "part1\n",
      "processed metadata for 5574\n",
      "/share/data/cellprofiler/automation/results/PB000139/4186/5533\n",
      "part1\n",
      "processed metadata for 5533\n",
      "/share/data/cellprofiler/automation/results/PB000140/4189/5573\n",
      "part1\n",
      "processed metadata for 5573\n",
      "/share/data/cellprofiler/automation/results/PB000141/4187/5546\n",
      "part1\n",
      "processed metadata for 5546\n",
      "['HT29']\n",
      "['HT29']\n",
      "dropped 1 rows due to NaNs in column Cytoplasm_Correlation_Costes_CONC_HOECHST\n",
      "dropped 26 rows due to NaNs in column Cytoplasm_Neighbors_AngleBetweenNeighbors_Adjacent\n",
      "dropped 2 rows due to NaNs in column Cytoplasm_Neighbors_FirstClosestDistance_Adjacent\n",
      "dropped 53 rows due to NaNs in column Nuclei_Neighbors_AngleBetweenNeighbors_Adjacent\n",
      "dropped 2 rows due to NaNs in column Nuclei_Neighbors_FirstClosestDistance_Adjacent\n",
      "dropped 28 rows due to NaNs in column Cells_AreaShape_Area\n",
      "dropped 20 rows due to NaNs in column Cells_AreaShape_FormFactor\n",
      "dropped 25 rows due to NaNs in column Cells_AreaShape_Zernike_0_0\n",
      "2024-09-23 07:18:34 dropped NaNs\n",
      "False\n",
      "2024-09-23 07:19:18 binned mean data per well\n"
     ]
    }
   ],
   "source": [
    "data_processing(metaEx, 'HT29', ObjectList, OutputDir, statmet='none', per_plate=False)"
   ]
  },
  {
   "cell_type": "code",
   "execution_count": 25,
>>>>>>> 5bcf7a1 (updated)
   "metadata": {},
   "outputs": [
    {
     "name": "stdout",
     "output_type": "stream",
     "text": [
      "Current date and time : \n",
<<<<<<< HEAD
      "2024-10-24 15:58:14\n"
=======
      "2024-09-23 07:19:18\n"
>>>>>>> 5bcf7a1 (updated)
     ]
    }
   ],
   "source": [
    "now = datetime.datetime.now()\n",
    "print ('Current date and time : ')\n",
    "print (now.strftime('%Y-%m-%d %H:%M:%S'))"
   ]
  },
  {
   "cell_type": "code",
<<<<<<< HEAD
   "execution_count": 18,
=======
   "execution_count": 26,
>>>>>>> 5bcf7a1 (updated)
   "metadata": {},
   "outputs": [
    {
     "data": {
      "text/plain": [
       "5574"
      ]
     },
<<<<<<< HEAD
     "execution_count": 18,
=======
     "execution_count": 26,
>>>>>>> 5bcf7a1 (updated)
     "metadata": {},
     "output_type": "execute_result"
    }
   ],
   "source": [
    "metaEx.select(pl.col('cp_id')).max().item()"
   ]
  },
  {
   "cell_type": "code",
   "execution_count": null,
   "metadata": {},
   "outputs": [],
   "source": []
  },
  {
   "cell_type": "markdown",
   "metadata": {},
   "source": []
  }
 ],
 "metadata": {
  "kernelspec": {
   "display_name": "Python 3",
   "language": "python",
   "name": "python3"
  },
  "language_info": {
   "codemirror_mode": {
    "name": "ipython",
    "version": 3
   },
   "file_extension": ".py",
   "mimetype": "text/x-python",
   "name": "python",
   "nbconvert_exporter": "python",
   "pygments_lexer": "ipython3",
<<<<<<< HEAD
   "version": "3.10.12"
=======
   "version": "3.11.0"
  },
  "vscode": {
   "interpreter": {
    "hash": "916dbcbb3f70747c44a77c7bcd40155683ae19c65e1c03b4aa3499c5328201f1"
   }
>>>>>>> 5bcf7a1 (updated)
  }
 },
 "nbformat": 4,
 "nbformat_minor": 4
}
