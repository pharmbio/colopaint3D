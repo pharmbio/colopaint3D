{
 "cells": [
  {
   "cell_type": "code",
   "execution_count": 1,
   "metadata": {},
   "outputs": [
    {
     "name": "stdout",
     "output_type": "stream",
     "text": [
      "/share/data/analyses/christa/colopaint3D_fork/2D_features\n",
      "/share/data/analyses/christa/colopaint3D_fork/spher_colo52_v1\n"
     ]
    }
   ],
   "source": [
    "import pandas as pd\n",
    "import numpy as np\n",
    "import os\n",
    "\n",
    "# Set current working directory\n",
    "print(os.getcwd())\n",
    "os.chdir('/share/data/analyses/christa/colopaint3D_fork/spher_colo52_v1')\n",
    "print(os.getcwd())"
   ]
  },
  {
   "cell_type": "code",
   "execution_count": 2,
   "metadata": {},
   "outputs": [],
   "source": [
    "# Some function definitions\n",
    "\n",
    "def list_features(df):\n",
    "    # List features\n",
    "    list_of_selected_features = list(df.columns.values)\n",
    "    list_of_metadata = list(df.columns[df.columns.str.contains(\"Metadata_\")])\n",
    "    list_of_selected_features = list(set(list_of_selected_features) - set(list_of_metadata))\n",
    "    return list_of_selected_features, list_of_metadata\n",
    "\n",
    "\n",
    "# A function to agree on Metadata columns\n",
    "rename_metadata_dict = {\n",
    "    'Metadata_Barcode': 'Metadata_barcode', \n",
    "    'Metadata_Plate': 'Metadata_Plate',\n",
    "    'Metadata_well_id': 'Metadata_Well',\n",
    "    'Metadata_cmpd_plate_well':'Metadata_PlateWell',\n",
    "    'Metadata_cmpd_pert_type':'Metadata_pert_type',\n",
    "    'Metadata_cmpd_cmpdname':'Metadata_cmpdname',\n",
    "    'Metadata_cmpd_target':'Metadata_target',\n",
    "    'Metadata_cmpd_pathway':'Metadata_pathway',\n",
    "}\n",
    "\n",
    "miminal_metadata = ['Metadata_Well', 'Metadata_barcode', 'Metadata_PlateWell', \n",
    "                    'Metadata_cell_line', 'Metadata_cmpd_conc', 'Metadata_cmpdname', \n",
    "                    'Metadata_name', 'Metadata_pert_type', 'Metadata_pathway', 'Metadata_target']\n",
    "\n",
    "def rename_metadata_columns(df, rename_metadata_dict):\n",
    "    df.rename(columns = rename_metadata_dict, inplace = True)\n",
    "    df = df.loc[:,~df.columns.duplicated()].copy()\n",
    "    return df\n",
    "\n",
    "\n",
    "# A function to check if metadata columns are present\n",
    "def check_metadata_columns(df, minimal_metadata):\n",
    "    metadata_columns = list(df.columns[df.columns.str.contains(\"Metadata_\")])\n",
    "    diff = set(minimal_metadata) - set(metadata_columns)\n",
    "    return diff\n"
   ]
  },
  {
   "cell_type": "markdown",
   "metadata": {},
   "source": [
    "### Combine all profiles"
   ]
  },
  {
   "cell_type": "code",
   "execution_count": 3,
   "metadata": {},
   "outputs": [
    {
     "name": "stdout",
     "output_type": "stream",
     "text": [
      "{'Metadata_PlateWell'}\n"
     ]
    }
   ],
   "source": [
    "# Load 2D data\n",
    "file1 = '../2D_features/selected_data_HT29.csv'\n",
    "file2 = '../2D_features/selected_data_HCT116.csv'\n",
    "\n",
    "\n",
    "data2D = pd.DataFrame()\n",
    "tmp = pd.read_csv(file1, index_col=0)\n",
    "tmp['Metadata_cell_line'] = 'HT29'\n",
    "data2D = pd.concat([data2D, tmp], axis = 0)\n",
    "\n",
    "tmp = pd.read_csv(file2, index_col=0)\n",
    "tmp['Metadata_cell_line'] = 'HCT116'\n",
    "data2D = pd.concat([data2D, tmp], axis = 0)\n",
    "\n",
    "# Organize metadata columns\n",
    "data2D = rename_metadata_columns(data2D, rename_metadata_dict)\n",
    "print(check_metadata_columns(data2D, miminal_metadata))\n",
    "\n",
    "# Add the missing metadata columns\n",
    "data2D['Metadata_PlateWell'] = data2D['Metadata_Well'].astype(str) + '_' + data2D['Metadata_barcode'].astype(str)\n",
    "\n",
    "# Keep only the minimal metadata columns\n",
    "data2D = data2D[miminal_metadata + list_features(data2D)[0]]\n"
   ]
  },
  {
   "cell_type": "code",
   "execution_count": 4,
   "metadata": {},
   "outputs": [],
   "source": [
    "output_dir = \"../spher_colo52_v1/1_Data/results/\"\n",
    "\n",
    "# Save as parquet\n",
    "data2D.query(\"Metadata_cell_line == 'HCT116'\").to_parquet(('{}selected_data_{}_{}.parquet').format(output_dir, '2D', 'HCT116'))\n",
    "\n",
    "# Save as parquet\n",
    "data2D.query(\"Metadata_cell_line == 'HT29'\").to_parquet(('{}selected_data_{}_{}.parquet').format(output_dir, '2D', 'HT29'))"
   ]
  }
 ],
 "metadata": {
  "kernelspec": {
   "display_name": "Python 3",
   "language": "python",
   "name": "python3"
  },
  "language_info": {
   "codemirror_mode": {
    "name": "ipython",
    "version": 3
   },
   "file_extension": ".py",
   "mimetype": "text/x-python",
   "name": "python",
   "nbconvert_exporter": "python",
   "pygments_lexer": "ipython3",
   "version": "3.8.10"
  }
 },
 "nbformat": 4,
 "nbformat_minor": 2
}
