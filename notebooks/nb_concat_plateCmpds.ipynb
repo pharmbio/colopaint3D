{
 "cells": [
  {
   "cell_type": "code",
   "execution_count": 1,
   "metadata": {},
   "outputs": [],
   "source": [
    "import json\n",
    "import os.path\n",
    "import time\n",
    "import pandas as pd\n",
    "import glob\n",
    "import os\n",
    "import polars as pl\n",
    "\n",
    "import sqlalchemy"
   ]
  },
  {
   "cell_type": "code",
   "execution_count": 2,
   "metadata": {},
   "outputs": [
    {
     "data": {
      "text/html": [
       "<div><style>\n",
       ".dataframe > thead > tr > th,\n",
       ".dataframe > tbody > tr > td {\n",
       "  text-align: right;\n",
       "  white-space: pre-wrap;\n",
       "}\n",
       "</style>\n",
       "<small>shape: (1_038, 5)</small><table border=\"1\" class=\"dataframe\"><thead><tr><th>plate_name</th><th>well_position</th><th>cbk_batch</th><th>comp_vol_nL</th><th>stock_conc_mM</th></tr><tr><td>str</td><td>str</td><td>str</td><td>f64</td><td>str</td></tr></thead><tbody><tr><td>&quot;bfmoalive108_P…</td><td>&quot;A01&quot;</td><td>&quot;backfill&quot;</td><td>30.0</td><td>&quot;100%&quot;</td></tr><tr><td>&quot;bfmoalive108_P…</td><td>&quot;A02&quot;</td><td>&quot;BJ1894267&quot;</td><td>10.0</td><td>&quot;10&quot;</td></tr><tr><td>&quot;bfmoalive108_P…</td><td>&quot;A02&quot;</td><td>&quot;backfill&quot;</td><td>20.0</td><td>&quot;100%&quot;</td></tr><tr><td>&quot;bfmoalive108_P…</td><td>&quot;A03&quot;</td><td>&quot;BJ1896004&quot;</td><td>30.0</td><td>&quot;10&quot;</td></tr><tr><td>&quot;bfmoalive108_P…</td><td>&quot;A04&quot;</td><td>&quot;BJ1894345&quot;</td><td>30.0</td><td>&quot;10&quot;</td></tr><tr><td>&quot;bfmoalive108_P…</td><td>&quot;A05&quot;</td><td>&quot;BJ1897105&quot;</td><td>10.0</td><td>&quot;10&quot;</td></tr><tr><td>&quot;bfmoalive108_P…</td><td>&quot;A05&quot;</td><td>&quot;backfill&quot;</td><td>20.0</td><td>&quot;100%&quot;</td></tr><tr><td>&quot;bfmoalive108_P…</td><td>&quot;A06&quot;</td><td>&quot;BJ1897191&quot;</td><td>2.5</td><td>&quot;10&quot;</td></tr><tr><td>&quot;bfmoalive108_P…</td><td>&quot;A06&quot;</td><td>&quot;backfill&quot;</td><td>27.5</td><td>&quot;100%&quot;</td></tr><tr><td>&quot;bfmoalive108_P…</td><td>&quot;A07&quot;</td><td>&quot;BJ1897136&quot;</td><td>30.0</td><td>&quot;10&quot;</td></tr><tr><td>&quot;bfmoalive108_P…</td><td>&quot;A08&quot;</td><td>&quot;BJ1896118&quot;</td><td>30.0</td><td>&quot;10&quot;</td></tr><tr><td>&quot;bfmoalive108_P…</td><td>&quot;A09&quot;</td><td>&quot;BJ1898432&quot;</td><td>2.5</td><td>&quot;10&quot;</td></tr><tr><td>&hellip;</td><td>&hellip;</td><td>&hellip;</td><td>&hellip;</td><td>&hellip;</td></tr><tr><td>&quot;bfmoalive108_P…</td><td>&quot;P15&quot;</td><td>&quot;backfill&quot;</td><td>20.0</td><td>&quot;100%&quot;</td></tr><tr><td>&quot;bfmoalive108_P…</td><td>&quot;P16&quot;</td><td>&quot;BJ1898171&quot;</td><td>10.0</td><td>&quot;10&quot;</td></tr><tr><td>&quot;bfmoalive108_P…</td><td>&quot;P16&quot;</td><td>&quot;backfill&quot;</td><td>20.0</td><td>&quot;100%&quot;</td></tr><tr><td>&quot;bfmoalive108_P…</td><td>&quot;P17&quot;</td><td>&quot;BJ1896185&quot;</td><td>30.0</td><td>&quot;10&quot;</td></tr><tr><td>&quot;bfmoalive108_P…</td><td>&quot;P18&quot;</td><td>&quot;BJ1898857&quot;</td><td>30.0</td><td>&quot;10&quot;</td></tr><tr><td>&quot;bfmoalive108_P…</td><td>&quot;P19&quot;</td><td>&quot;BJ1896185&quot;</td><td>30.0</td><td>&quot;10&quot;</td></tr><tr><td>&quot;bfmoalive108_P…</td><td>&quot;P20&quot;</td><td>&quot;BJ1894333&quot;</td><td>30.0</td><td>&quot;10&quot;</td></tr><tr><td>&quot;bfmoalive108_P…</td><td>&quot;P21&quot;</td><td>&quot;BJ1895995&quot;</td><td>30.0</td><td>&quot;10&quot;</td></tr><tr><td>&quot;bfmoalive108_P…</td><td>&quot;P22&quot;</td><td>&quot;BJ1897475&quot;</td><td>10.0</td><td>&quot;10&quot;</td></tr><tr><td>&quot;bfmoalive108_P…</td><td>&quot;P22&quot;</td><td>&quot;backfill&quot;</td><td>20.0</td><td>&quot;100%&quot;</td></tr><tr><td>&quot;bfmoalive108_P…</td><td>&quot;P23&quot;</td><td>&quot;BJ1898982&quot;</td><td>30.0</td><td>&quot;10&quot;</td></tr><tr><td>&quot;bfmoalive108_P…</td><td>&quot;P24&quot;</td><td>&quot;backfill&quot;</td><td>30.0</td><td>&quot;100%&quot;</td></tr></tbody></table></div>"
      ],
      "text/plain": [
       "shape: (1_038, 5)\n",
       "┌─────────────────┬───────────────┬───────────┬─────────────┬───────────────┐\n",
       "│ plate_name      ┆ well_position ┆ cbk_batch ┆ comp_vol_nL ┆ stock_conc_mM │\n",
       "│ ---             ┆ ---           ┆ ---       ┆ ---         ┆ ---           │\n",
       "│ str             ┆ str           ┆ str       ┆ f64         ┆ str           │\n",
       "╞═════════════════╪═══════════════╪═══════════╪═════════════╪═══════════════╡\n",
       "│ bfmoalive108_P1 ┆ A01           ┆ backfill  ┆ 30.0        ┆ 100%          │\n",
       "│ bfmoalive108_P1 ┆ A02           ┆ BJ1894267 ┆ 10.0        ┆ 10            │\n",
       "│ bfmoalive108_P1 ┆ A02           ┆ backfill  ┆ 20.0        ┆ 100%          │\n",
       "│ bfmoalive108_P1 ┆ A03           ┆ BJ1896004 ┆ 30.0        ┆ 10            │\n",
       "│ …               ┆ …             ┆ …         ┆ …           ┆ …             │\n",
       "│ bfmoalive108_P2 ┆ P22           ┆ BJ1897475 ┆ 10.0        ┆ 10            │\n",
       "│ bfmoalive108_P2 ┆ P22           ┆ backfill  ┆ 20.0        ┆ 100%          │\n",
       "│ bfmoalive108_P2 ┆ P23           ┆ BJ1898982 ┆ 30.0        ┆ 10            │\n",
       "│ bfmoalive108_P2 ┆ P24           ┆ backfill  ┆ 30.0        ┆ 100%          │\n",
       "└─────────────────┴───────────────┴───────────┴─────────────┴───────────────┘"
      ]
     },
     "execution_count": 2,
     "metadata": {},
     "output_type": "execute_result"
    }
   ],
   "source": [
    "df1 = pl.read_csv('bfmoalive108_protocol.tsv', separator='\\t')\n",
    "df1"
   ]
  },
  {
   "cell_type": "code",
   "execution_count": 3,
   "metadata": {},
   "outputs": [
    {
     "data": {
      "text/html": [
       "<div><style>\n",
       ".dataframe > thead > tr > th,\n",
       ".dataframe > tbody > tr > td {\n",
       "  text-align: right;\n",
       "  white-space: pre-wrap;\n",
       "}\n",
       "</style>\n",
       "<small>shape: (108, 20)</small><table border=\"1\" class=\"dataframe\"><thead><tr><th>Compound</th><th>moa_group</th><th>target</th><th>moa</th><th>BatchID</th><th>SPECS_name</th><th>SPECS_moa</th><th>SPECS_target</th><th>tested_concentration_uM</th><th>grit_Jonne</th><th>flag_Jonne</th><th>grit_SPECS</th><th>Count_SPECS</th><th>mean_normalized_cellcount</th><th>Unified_cellcount</th><th>conc</th><th>cbkid</th><th>smiles</th><th>inchi</th><th>inkey</th></tr><tr><td>str</td><td>str</td><td>str</td><td>str</td><td>str</td><td>str</td><td>str</td><td>str</td><td>i64</td><td>f64</td><td>str</td><td>f64</td><td>f64</td><td>f64</td><td>f64</td><td>i64</td><td>str</td><td>str</td><td>str</td><td>str</td></tr></thead><tbody><tr><td>&quot;API-1&quot;</td><td>&quot;AKT&quot;</td><td>&quot;Akt&quot;</td><td>&quot;Specific inhib…</td><td>&quot;BJ1896216&quot;</td><td>&quot;API-1&quot;</td><td>&quot;AKT inhibitor&quot;</td><td>&quot;AKT1|AKT2|AKT3…</td><td>10</td><td>null</td><td>null</td><td>null</td><td>null</td><td>13.833333</td><td>13.833333</td><td>1</td><td>&quot;CBK308074&quot;</td><td>&quot;NC(=O)c1cn([C@…</td><td>&quot;InChI=1S/C13H1…</td><td>&quot;SPBWHPXCWJLQRU…</td></tr><tr><td>&quot;AR-12&quot;</td><td>&quot;AKT&quot;</td><td>&quot;PDPK1&quot;</td><td>&quot;Inihbits PDK-1…</td><td>&quot;BJ1896668&quot;</td><td>&quot;AR-12&quot;</td><td>&quot;phosphoinositi…</td><td>&quot;PDPK1&quot;</td><td>10</td><td>null</td><td>null</td><td>null</td><td>null</td><td>57.527778</td><td>57.527778</td><td>10</td><td>&quot;CBK290484&quot;</td><td>&quot;NCC(=O)Nc1ccc(…</td><td>&quot;InChI=1S/C26H1…</td><td>&quot;YULUCECVQOCQFQ…</td></tr><tr><td>&quot;AZD5363&quot;</td><td>&quot;AKT&quot;</td><td>&quot;Akt&quot;</td><td>&quot;competitive pa…</td><td>&quot;BJ1899041&quot;</td><td>&quot;AZD5363&quot;</td><td>&quot;AKT inhibitor&quot;</td><td>&quot;AKT1|AKT2|AKT3…</td><td>10</td><td>null</td><td>null</td><td>null</td><td>null</td><td>72.055556</td><td>72.055556</td><td>10</td><td>&quot;CBK290956&quot;</td><td>&quot;NC1(CCN(CC1)c1…</td><td>&quot;InChI=1S/C21H2…</td><td>&quot;JDUBGYFRJFOXQC…</td></tr><tr><td>&quot;Buparlisib&quot;</td><td>&quot;AKT&quot;</td><td>&quot;PIK3CG&quot;</td><td>&quot;Inhibits upstr…</td><td>&quot;BJ1898458&quot;</td><td>&quot;BKM120 (NVP-BK…</td><td>&quot;PI3K inhibitor…</td><td>&quot;PIK3CA|PIK3CG&quot;</td><td>10</td><td>null</td><td>null</td><td>null</td><td>null</td><td>17.666667</td><td>17.666667</td><td>1</td><td>&quot;CBK278043&quot;</td><td>&quot;Nc1cc(c(cn1)-c…</td><td>&quot;InChI=1S/C18H2…</td><td>&quot;CWHUFRVAEUJCEF…</td></tr><tr><td>&quot;GSK2110183&quot;</td><td>&quot;AKT&quot;</td><td>&quot;AKT1&quot;</td><td>&quot;competitive pa…</td><td>&quot;BJ1897441&quot;</td><td>&quot;Afuresertib&quot;</td><td>&quot;AKT inhibitor&quot;</td><td>&quot;AKT1|AKT2|AKT3…</td><td>10</td><td>null</td><td>null</td><td>null</td><td>null</td><td>66.361111</td><td>66.361111</td><td>10</td><td>&quot;CBK303904&quot;</td><td>&quot;Cn1ncc(Cl)c1-c…</td><td>&quot;InChI=1S/C18H1…</td><td>&quot;AFJRDFWMXUECEW…</td></tr><tr><td>&quot;Ipatasertib&quot;</td><td>&quot;AKT&quot;</td><td>&quot;Akt&quot;</td><td>&quot;competitive pa…</td><td>&quot;BJ1898683&quot;</td><td>&quot;Ipatasertib (G…</td><td>&quot;AKT inhibitor&quot;</td><td>&quot;AKT1|AKT2|AKT3…</td><td>10</td><td>null</td><td>null</td><td>null</td><td>null</td><td>77.777778</td><td>77.777778</td><td>10</td><td>&quot;CBK278103&quot;</td><td>&quot;CC(C)NC[C@@H](…</td><td>&quot;InChI=1S/C24H3…</td><td>&quot;GRZXWCHAXNAUHY…</td></tr><tr><td>&quot;LY294002&quot;</td><td>&quot;AKT&quot;</td><td>&quot;PI3K&quot;</td><td>&quot;Inhibits upstr…</td><td>&quot;BJ1894333&quot;</td><td>&quot;LY294002&quot;</td><td>&quot;DNA dependent …</td><td>&quot;AKT1|CHEK1|GSK…</td><td>10</td><td>null</td><td>null</td><td>1.4</td><td>83.4</td><td>null</td><td>83.4</td><td>10</td><td>&quot;CBK041160&quot;</td><td>&quot;O=c1cc(oc2c(cc…</td><td>&quot;InChI=1S/C19H1…</td><td>&quot;CZQHHVNHHHRRDU…</td></tr><tr><td>&quot;MK-2206&quot;</td><td>&quot;AKT&quot;</td><td>&quot;Akt&quot;</td><td>&quot;Specific inhib…</td><td>&quot;BJ1898163&quot;</td><td>&quot;MK-2206 dihydr…</td><td>&quot;AKT inhibitor&quot;</td><td>&quot;AKT1|AKT2|AKT3…</td><td>10</td><td>null</td><td>null</td><td>null</td><td>null</td><td>65.833333</td><td>65.833333</td><td>10</td><td>&quot;CBK277971&quot;</td><td>&quot;NC1(CCC1)c1ccc…</td><td>&quot;InChI=1S/C25H2…</td><td>&quot;ULDXWLCXEDXJGE…</td></tr><tr><td>&quot;PI-103&quot;</td><td>&quot;AKT&quot;</td><td>&quot;PI3K&quot;</td><td>&quot;Inhibits PI3K,…</td><td>&quot;BJ1895998&quot;</td><td>&quot;PI-103&quot;</td><td>&quot;mTOR inhibitor…</td><td>&quot;MTOR|PIK3CA|PI…</td><td>10</td><td>null</td><td>null</td><td>4.4</td><td>43.2</td><td>null</td><td>43.2</td><td>3</td><td>&quot;CBK288319&quot;</td><td>&quot;Oc1cccc(c1)-c1…</td><td>&quot;InChI=1S/C19H1…</td><td>&quot;TUVCWJQQGGETHL…</td></tr><tr><td>&quot;triciribine&quot;</td><td>&quot;AKT&quot;</td><td>&quot;AKT1/AKT2/AKT3…</td><td>null</td><td>&quot;BJ1895770&quot;</td><td>&quot;triciribine&quot;</td><td>&quot;AKT inhibitor&quot;</td><td>&quot;AKT1|AKT2|AKT3…</td><td>10</td><td>null</td><td>null</td><td>null</td><td>null</td><td>null</td><td>null</td><td>10</td><td>&quot;CBK201383&quot;</td><td>&quot;Cn1nc(N)c2cn(C…</td><td>&quot;InChI=1S/C13H1…</td><td>&quot;HOGVTUZUJGHKPL…</td></tr><tr><td>&quot;Uprosertib&quot;</td><td>&quot;AKT&quot;</td><td>&quot;AKT1/AKT2/AKT3…</td><td>null</td><td>&quot;BJ1897475&quot;</td><td>&quot;Uprosertib&quot;</td><td>&quot;AKT inhibitor&quot;</td><td>&quot;AKT1|AKT2|AKT3…</td><td>10</td><td>null</td><td>null</td><td>null</td><td>null</td><td>44.305556</td><td>44.305556</td><td>3</td><td>&quot;CBK303899&quot;</td><td>&quot;Cn1ncc(Cl)c1-c…</td><td>&quot;InChI=1S/C18H1…</td><td>&quot;AXTAPYRUEKNRBA…</td></tr><tr><td>&quot;Miransertib&quot;</td><td>&quot;AKT&quot;</td><td>&quot;AKT2&quot;</td><td>&quot;AKT inhibitor&quot;</td><td>&quot;BJ1897652&quot;</td><td>&quot;Miransertib&quot;</td><td>&quot;AKT inhibitor&quot;</td><td>&quot;AKT2&quot;</td><td>null</td><td>null</td><td>null</td><td>4.974127</td><td>60.33029</td><td>null</td><td>null</td><td>10</td><td>null</td><td>null</td><td>null</td><td>null</td></tr><tr><td>&hellip;</td><td>&hellip;</td><td>&hellip;</td><td>&hellip;</td><td>&hellip;</td><td>&hellip;</td><td>&hellip;</td><td>&hellip;</td><td>&hellip;</td><td>&hellip;</td><td>&hellip;</td><td>&hellip;</td><td>&hellip;</td><td>&hellip;</td><td>&hellip;</td><td>&hellip;</td><td>&hellip;</td><td>&hellip;</td><td>&hellip;</td><td>&hellip;</td></tr><tr><td>&quot;Paclitaxel&quot;</td><td>&quot;TUB&quot;</td><td>&quot;Tubulin&quot;</td><td>&quot;Stabilises tub…</td><td>&quot;BJ1894316&quot;</td><td>&quot;paclitaxel&quot;</td><td>null</td><td>null</td><td>10</td><td>null</td><td>null</td><td>5.9</td><td>30.4</td><td>null</td><td>30.4</td><td>3</td><td>&quot;CBK011621&quot;</td><td>&quot;[H][C@]12[C@H]…</td><td>&quot;InChI=1S/C47H5…</td><td>&quot;RCINICONZNJXQF…</td></tr><tr><td>&quot;parbendazole&quot;</td><td>&quot;TUB&quot;</td><td>&quot;Tubulin&quot;</td><td>&quot;Inhibits tubul…</td><td>&quot;BJ1898019&quot;</td><td>&quot;parbendazole&quot;</td><td>&quot;tubulin polyme…</td><td>&quot;TUBB&quot;</td><td>10</td><td>null</td><td>null</td><td>5.0</td><td>23.1</td><td>null</td><td>23.1</td><td>3</td><td>&quot;CBK200898&quot;</td><td>&quot;CCCCc1ccc2[nH]…</td><td>&quot;InChI=1S/C13H1…</td><td>&quot;YRWLZFXJFBZBEY…</td></tr><tr><td>&quot;Vinblastine su…</td><td>&quot;TUB&quot;</td><td>&quot;Tubulin&quot;</td><td>&quot;Disrupts micro…</td><td>&quot;BJ1897247&quot;</td><td>&quot;Vinblastine (s…</td><td>null</td><td>null</td><td>10</td><td>null</td><td>null</td><td>null</td><td>null</td><td>10.638889</td><td>10.638889</td><td>1</td><td>&quot;CBK277917&quot;</td><td>&quot;[H][C@@]12N3CC…</td><td>&quot;InChI=1S/C46H5…</td><td>&quot;JXLYSJRDGCGARV…</td></tr><tr><td>&quot;Vincristine su…</td><td>&quot;TUB&quot;</td><td>&quot;Tubulin&quot;</td><td>&quot;Inhibits micro…</td><td>&quot;BJ1897809&quot;</td><td>&quot;Vincristine (s…</td><td>null</td><td>null</td><td>10</td><td>null</td><td>null</td><td>null</td><td>null</td><td>10.277778</td><td>10.277778</td><td>1</td><td>&quot;CBK277916&quot;</td><td>&quot;[H][C@@]12N3CC…</td><td>&quot;InChI=1S/C46H5…</td><td>&quot;OGWKCGZFUXNPDA…</td></tr><tr><td>&quot;Vinorelbine di…</td><td>&quot;TUB&quot;</td><td>&quot;Tubulin&quot;</td><td>&quot;Disrupts micro…</td><td>&quot;BJ1897083&quot;</td><td>&quot;Vinorelbine (d…</td><td>&quot;tubulin polyme…</td><td>&quot;TUBA1A|TUBA1B|…</td><td>10</td><td>null</td><td>null</td><td>4.8</td><td>15.5</td><td>null</td><td>15.5</td><td>1</td><td>&quot;CBK278120&quot;</td><td>&quot;CCC1=C[C@H]2C[…</td><td>&quot;InChI=1S/C45H5…</td><td>&quot;GBABOYUKABKIAF…</td></tr><tr><td>&quot;plinabulin&quot;</td><td>&quot;TUB&quot;</td><td>null</td><td>&quot;tubulin polyme…</td><td>&quot;BJ1896715&quot;</td><td>&quot;plinabulin&quot;</td><td>&quot;tubulin polyme…</td><td>null</td><td>null</td><td>null</td><td>null</td><td>4.331017</td><td>18.039702</td><td>null</td><td>null</td><td>1</td><td>null</td><td>null</td><td>null</td><td>null</td></tr><tr><td>&quot;MEBENDAZOLE&quot;</td><td>&quot;TUB&quot;</td><td>&quot;TUBA1A|TUBB|TU…</td><td>&quot;tubulin polyme…</td><td>&quot;BJ1894920&quot;</td><td>&quot;MEBENDAZOLE&quot;</td><td>&quot;tubulin polyme…</td><td>&quot;TUBA1A|TUBB|TU…</td><td>null</td><td>null</td><td>null</td><td>5.058098</td><td>19.406388</td><td>null</td><td>null</td><td>1</td><td>null</td><td>null</td><td>null</td><td>null</td></tr><tr><td>&quot;ALBENDAZOLE&quot;</td><td>&quot;TUB&quot;</td><td>&quot;TUBA1A|TUBB|TU…</td><td>&quot;tubulin polyme…</td><td>&quot;BJ1895247&quot;</td><td>&quot;ALBENDAZOLE&quot;</td><td>&quot;tubulin polyme…</td><td>&quot;TUBA1A|TUBB|TU…</td><td>null</td><td>null</td><td>null</td><td>4.598211</td><td>20.188812</td><td>null</td><td>null</td><td>3</td><td>null</td><td>null</td><td>null</td><td>null</td></tr><tr><td>&quot;Indibulin&quot;</td><td>&quot;TUB&quot;</td><td>null</td><td>&quot;tubulin polyme…</td><td>&quot;BJ1894267&quot;</td><td>&quot;Indibulin&quot;</td><td>&quot;tubulin polyme…</td><td>null</td><td>null</td><td>null</td><td>null</td><td>4.370455</td><td>37.413827</td><td>null</td><td>null</td><td>3</td><td>null</td><td>null</td><td>null</td><td>null</td></tr><tr><td>&quot;FLUBENDAZOLE&quot;</td><td>&quot;TUB&quot;</td><td>&quot;TUBB&quot;</td><td>&quot;tubulin polyme…</td><td>&quot;BJ1895355&quot;</td><td>&quot;FLUBENDAZOLE&quot;</td><td>&quot;tubulin polyme…</td><td>&quot;TUBB&quot;</td><td>null</td><td>null</td><td>null</td><td>4.641454</td><td>38.340922</td><td>null</td><td>null</td><td>3</td><td>null</td><td>null</td><td>null</td><td>null</td></tr><tr><td>&quot;Catharanthine&quot;</td><td>&quot;TUB&quot;</td><td>null</td><td>&quot;tubulin polyme…</td><td>&quot;BJ1898778&quot;</td><td>&quot;Catharanthine&quot;</td><td>&quot;tubulin polyme…</td><td>null</td><td>null</td><td>null</td><td>null</td><td>0.864502</td><td>70.714216</td><td>null</td><td>null</td><td>10</td><td>null</td><td>null</td><td>null</td><td>null</td></tr><tr><td>&quot;DIMESNA&quot;</td><td>&quot;TUB&quot;</td><td>null</td><td>&quot;tubulin polyme…</td><td>&quot;BJ1895025&quot;</td><td>&quot;DIMESNA&quot;</td><td>&quot;tubulin polyme…</td><td>null</td><td>null</td><td>null</td><td>null</td><td>1.026139</td><td>74.832791</td><td>null</td><td>null</td><td>10</td><td>null</td><td>null</td><td>null</td><td>null</td></tr></tbody></table></div>"
      ],
      "text/plain": [
       "shape: (108, 20)\n",
       "┌────────────┬───────────┬────────┬────────────┬───┬───────────┬───────────┬───────────┬───────────┐\n",
       "│ Compound   ┆ moa_group ┆ target ┆ moa        ┆ … ┆ cbkid     ┆ smiles    ┆ inchi     ┆ inkey     │\n",
       "│ ---        ┆ ---       ┆ ---    ┆ ---        ┆   ┆ ---       ┆ ---       ┆ ---       ┆ ---       │\n",
       "│ str        ┆ str       ┆ str    ┆ str        ┆   ┆ str       ┆ str       ┆ str       ┆ str       │\n",
       "╞════════════╪═══════════╪════════╪════════════╪═══╪═══════════╪═══════════╪═══════════╪═══════════╡\n",
       "│ API-1      ┆ AKT       ┆ Akt    ┆ Specific   ┆ … ┆ CBK308074 ┆ NC(=O)c1c ┆ InChI=1S/ ┆ SPBWHPXCW │\n",
       "│            ┆           ┆        ┆ inhibitor  ┆   ┆           ┆ n([C@@H]2 ┆ C13H15N5O ┆ JLQRU-FIT │\n",
       "│            ┆           ┆        ┆ of Akt     ┆   ┆           ┆ O[C@H](CO ┆ 6/c14-10- ┆ JORAGSA-N │\n",
       "│            ┆           ┆        ┆            ┆   ┆           ┆ )[C@@…    ┆ 6-7(2…    ┆           │\n",
       "│ AR-12      ┆ AKT       ┆ PDPK1  ┆ Inihbits   ┆ … ┆ CBK290484 ┆ NCC(=O)Nc ┆ InChI=1S/ ┆ YULUCECVQ │\n",
       "│            ┆           ┆        ┆ PDK-1      ┆   ┆           ┆ 1ccc(cc1) ┆ C26H19F3N ┆ OCQFQ-UHF │\n",
       "│            ┆           ┆        ┆            ┆   ┆           ┆ -n1nc(cc1 ┆ 4O/c27-26 ┆ FFAOYSA-N │\n",
       "│            ┆           ┆        ┆            ┆   ┆           ┆ -c1cc…    ┆ (28,2…    ┆           │\n",
       "│ AZD5363    ┆ AKT       ┆ Akt    ┆ competitiv ┆ … ┆ CBK290956 ┆ NC1(CCN(C ┆ InChI=1S/ ┆ JDUBGYFRJ │\n",
       "│            ┆           ┆        ┆ e pan-Akt  ┆   ┆           ┆ C1)c1ncnc ┆ C21H25ClN ┆ FOXQC-KRW │\n",
       "│            ┆           ┆        ┆ kinase     ┆   ┆           ┆ 2[nH]ccc1 ┆ 6O2/c22-1 ┆ DZBQOSA-N │\n",
       "│            ┆           ┆        ┆ inhib…     ┆   ┆           ┆ 2)C(=…    ┆ 5-3-1…    ┆           │\n",
       "│ Buparlisib ┆ AKT       ┆ PIK3CG ┆ Inhibits   ┆ … ┆ CBK278043 ┆ Nc1cc(c(c ┆ InChI=1S/ ┆ CWHUFRVAE │\n",
       "│            ┆           ┆        ┆ upstream   ┆   ┆           ┆ n1)-c1cc( ┆ C18H21F3N ┆ UJCEF-UHF │\n",
       "│            ┆           ┆        ┆ PI3K       ┆   ┆           ┆ nc(n1)N1C ┆ 6O2/c19-1 ┆ FFAOYSA-N │\n",
       "│            ┆           ┆        ┆ activity   ┆   ┆           ┆ COCC1…    ┆ 8(20,…    ┆           │\n",
       "│ …          ┆ …         ┆ …      ┆ …          ┆ … ┆ …         ┆ …         ┆ …         ┆ …         │\n",
       "│ Indibulin  ┆ TUB       ┆ null   ┆ tubulin    ┆ … ┆ null      ┆ null      ┆ null      ┆ null      │\n",
       "│            ┆           ┆        ┆ polymeriza ┆   ┆           ┆           ┆           ┆           │\n",
       "│            ┆           ┆        ┆ tion       ┆   ┆           ┆           ┆           ┆           │\n",
       "│            ┆           ┆        ┆ inhibitor  ┆   ┆           ┆           ┆           ┆           │\n",
       "│ FLUBENDAZO ┆ TUB       ┆ TUBB   ┆ tubulin    ┆ … ┆ null      ┆ null      ┆ null      ┆ null      │\n",
       "│ LE         ┆           ┆        ┆ polymeriza ┆   ┆           ┆           ┆           ┆           │\n",
       "│            ┆           ┆        ┆ tion       ┆   ┆           ┆           ┆           ┆           │\n",
       "│            ┆           ┆        ┆ inhibitor  ┆   ┆           ┆           ┆           ┆           │\n",
       "│ Catharanth ┆ TUB       ┆ null   ┆ tubulin    ┆ … ┆ null      ┆ null      ┆ null      ┆ null      │\n",
       "│ ine        ┆           ┆        ┆ polymeriza ┆   ┆           ┆           ┆           ┆           │\n",
       "│            ┆           ┆        ┆ tion       ┆   ┆           ┆           ┆           ┆           │\n",
       "│            ┆           ┆        ┆ inhibitor  ┆   ┆           ┆           ┆           ┆           │\n",
       "│ DIMESNA    ┆ TUB       ┆ null   ┆ tubulin    ┆ … ┆ null      ┆ null      ┆ null      ┆ null      │\n",
       "│            ┆           ┆        ┆ polymeriza ┆   ┆           ┆           ┆           ┆           │\n",
       "│            ┆           ┆        ┆ tion       ┆   ┆           ┆           ┆           ┆           │\n",
       "│            ┆           ┆        ┆ inhibitor  ┆   ┆           ┆           ┆           ┆           │\n",
       "└────────────┴───────────┴────────┴────────────┴───┴───────────┴───────────┴───────────┴───────────┘"
      ]
     },
     "execution_count": 3,
     "metadata": {},
     "output_type": "execute_result"
    }
   ],
   "source": [
    "df2 = pl.read_csv('bfmoalive108_compoundlist.csv', separator=',')\n",
    "df2"
   ]
  },
  {
   "cell_type": "code",
   "execution_count": 4,
   "metadata": {},
   "outputs": [],
   "source": [
    "df2 = df2.with_columns(df2[\"BatchID\"].alias(\"BatchID_right\"))"
   ]
  },
  {
   "cell_type": "code",
   "execution_count": 5,
   "metadata": {},
   "outputs": [
    {
     "data": {
      "text/html": [
       "<div><style>\n",
       ".dataframe > thead > tr > th,\n",
       ".dataframe > tbody > tr > td {\n",
       "  text-align: right;\n",
       "  white-space: pre-wrap;\n",
       "}\n",
       "</style>\n",
       "<small>shape: (108, 21)</small><table border=\"1\" class=\"dataframe\"><thead><tr><th>Compound</th><th>moa_group</th><th>target</th><th>moa</th><th>BatchID</th><th>SPECS_name</th><th>SPECS_moa</th><th>SPECS_target</th><th>tested_concentration_uM</th><th>grit_Jonne</th><th>flag_Jonne</th><th>grit_SPECS</th><th>Count_SPECS</th><th>mean_normalized_cellcount</th><th>Unified_cellcount</th><th>conc</th><th>cbkid</th><th>smiles</th><th>inchi</th><th>inkey</th><th>BatchID_right</th></tr><tr><td>str</td><td>str</td><td>str</td><td>str</td><td>str</td><td>str</td><td>str</td><td>str</td><td>i64</td><td>f64</td><td>str</td><td>f64</td><td>f64</td><td>f64</td><td>f64</td><td>i64</td><td>str</td><td>str</td><td>str</td><td>str</td><td>str</td></tr></thead><tbody><tr><td>&quot;API-1&quot;</td><td>&quot;AKT&quot;</td><td>&quot;Akt&quot;</td><td>&quot;Specific inhib…</td><td>&quot;BJ1896216&quot;</td><td>&quot;API-1&quot;</td><td>&quot;AKT inhibitor&quot;</td><td>&quot;AKT1|AKT2|AKT3…</td><td>10</td><td>null</td><td>null</td><td>null</td><td>null</td><td>13.833333</td><td>13.833333</td><td>1</td><td>&quot;CBK308074&quot;</td><td>&quot;NC(=O)c1cn([C@…</td><td>&quot;InChI=1S/C13H1…</td><td>&quot;SPBWHPXCWJLQRU…</td><td>&quot;BJ1896216&quot;</td></tr><tr><td>&quot;AR-12&quot;</td><td>&quot;AKT&quot;</td><td>&quot;PDPK1&quot;</td><td>&quot;Inihbits PDK-1…</td><td>&quot;BJ1896668&quot;</td><td>&quot;AR-12&quot;</td><td>&quot;phosphoinositi…</td><td>&quot;PDPK1&quot;</td><td>10</td><td>null</td><td>null</td><td>null</td><td>null</td><td>57.527778</td><td>57.527778</td><td>10</td><td>&quot;CBK290484&quot;</td><td>&quot;NCC(=O)Nc1ccc(…</td><td>&quot;InChI=1S/C26H1…</td><td>&quot;YULUCECVQOCQFQ…</td><td>&quot;BJ1896668&quot;</td></tr><tr><td>&quot;AZD5363&quot;</td><td>&quot;AKT&quot;</td><td>&quot;Akt&quot;</td><td>&quot;competitive pa…</td><td>&quot;BJ1899041&quot;</td><td>&quot;AZD5363&quot;</td><td>&quot;AKT inhibitor&quot;</td><td>&quot;AKT1|AKT2|AKT3…</td><td>10</td><td>null</td><td>null</td><td>null</td><td>null</td><td>72.055556</td><td>72.055556</td><td>10</td><td>&quot;CBK290956&quot;</td><td>&quot;NC1(CCN(CC1)c1…</td><td>&quot;InChI=1S/C21H2…</td><td>&quot;JDUBGYFRJFOXQC…</td><td>&quot;BJ1899041&quot;</td></tr><tr><td>&quot;Buparlisib&quot;</td><td>&quot;AKT&quot;</td><td>&quot;PIK3CG&quot;</td><td>&quot;Inhibits upstr…</td><td>&quot;BJ1898458&quot;</td><td>&quot;BKM120 (NVP-BK…</td><td>&quot;PI3K inhibitor…</td><td>&quot;PIK3CA|PIK3CG&quot;</td><td>10</td><td>null</td><td>null</td><td>null</td><td>null</td><td>17.666667</td><td>17.666667</td><td>1</td><td>&quot;CBK278043&quot;</td><td>&quot;Nc1cc(c(cn1)-c…</td><td>&quot;InChI=1S/C18H2…</td><td>&quot;CWHUFRVAEUJCEF…</td><td>&quot;BJ1898458&quot;</td></tr><tr><td>&quot;GSK2110183&quot;</td><td>&quot;AKT&quot;</td><td>&quot;AKT1&quot;</td><td>&quot;competitive pa…</td><td>&quot;BJ1897441&quot;</td><td>&quot;Afuresertib&quot;</td><td>&quot;AKT inhibitor&quot;</td><td>&quot;AKT1|AKT2|AKT3…</td><td>10</td><td>null</td><td>null</td><td>null</td><td>null</td><td>66.361111</td><td>66.361111</td><td>10</td><td>&quot;CBK303904&quot;</td><td>&quot;Cn1ncc(Cl)c1-c…</td><td>&quot;InChI=1S/C18H1…</td><td>&quot;AFJRDFWMXUECEW…</td><td>&quot;BJ1897441&quot;</td></tr><tr><td>&quot;Ipatasertib&quot;</td><td>&quot;AKT&quot;</td><td>&quot;Akt&quot;</td><td>&quot;competitive pa…</td><td>&quot;BJ1898683&quot;</td><td>&quot;Ipatasertib (G…</td><td>&quot;AKT inhibitor&quot;</td><td>&quot;AKT1|AKT2|AKT3…</td><td>10</td><td>null</td><td>null</td><td>null</td><td>null</td><td>77.777778</td><td>77.777778</td><td>10</td><td>&quot;CBK278103&quot;</td><td>&quot;CC(C)NC[C@@H](…</td><td>&quot;InChI=1S/C24H3…</td><td>&quot;GRZXWCHAXNAUHY…</td><td>&quot;BJ1898683&quot;</td></tr><tr><td>&quot;LY294002&quot;</td><td>&quot;AKT&quot;</td><td>&quot;PI3K&quot;</td><td>&quot;Inhibits upstr…</td><td>&quot;BJ1894333&quot;</td><td>&quot;LY294002&quot;</td><td>&quot;DNA dependent …</td><td>&quot;AKT1|CHEK1|GSK…</td><td>10</td><td>null</td><td>null</td><td>1.4</td><td>83.4</td><td>null</td><td>83.4</td><td>10</td><td>&quot;CBK041160&quot;</td><td>&quot;O=c1cc(oc2c(cc…</td><td>&quot;InChI=1S/C19H1…</td><td>&quot;CZQHHVNHHHRRDU…</td><td>&quot;BJ1894333&quot;</td></tr><tr><td>&quot;MK-2206&quot;</td><td>&quot;AKT&quot;</td><td>&quot;Akt&quot;</td><td>&quot;Specific inhib…</td><td>&quot;BJ1898163&quot;</td><td>&quot;MK-2206 dihydr…</td><td>&quot;AKT inhibitor&quot;</td><td>&quot;AKT1|AKT2|AKT3…</td><td>10</td><td>null</td><td>null</td><td>null</td><td>null</td><td>65.833333</td><td>65.833333</td><td>10</td><td>&quot;CBK277971&quot;</td><td>&quot;NC1(CCC1)c1ccc…</td><td>&quot;InChI=1S/C25H2…</td><td>&quot;ULDXWLCXEDXJGE…</td><td>&quot;BJ1898163&quot;</td></tr><tr><td>&quot;PI-103&quot;</td><td>&quot;AKT&quot;</td><td>&quot;PI3K&quot;</td><td>&quot;Inhibits PI3K,…</td><td>&quot;BJ1895998&quot;</td><td>&quot;PI-103&quot;</td><td>&quot;mTOR inhibitor…</td><td>&quot;MTOR|PIK3CA|PI…</td><td>10</td><td>null</td><td>null</td><td>4.4</td><td>43.2</td><td>null</td><td>43.2</td><td>3</td><td>&quot;CBK288319&quot;</td><td>&quot;Oc1cccc(c1)-c1…</td><td>&quot;InChI=1S/C19H1…</td><td>&quot;TUVCWJQQGGETHL…</td><td>&quot;BJ1895998&quot;</td></tr><tr><td>&quot;triciribine&quot;</td><td>&quot;AKT&quot;</td><td>&quot;AKT1/AKT2/AKT3…</td><td>null</td><td>&quot;BJ1895770&quot;</td><td>&quot;triciribine&quot;</td><td>&quot;AKT inhibitor&quot;</td><td>&quot;AKT1|AKT2|AKT3…</td><td>10</td><td>null</td><td>null</td><td>null</td><td>null</td><td>null</td><td>null</td><td>10</td><td>&quot;CBK201383&quot;</td><td>&quot;Cn1nc(N)c2cn(C…</td><td>&quot;InChI=1S/C13H1…</td><td>&quot;HOGVTUZUJGHKPL…</td><td>&quot;BJ1895770&quot;</td></tr><tr><td>&quot;Uprosertib&quot;</td><td>&quot;AKT&quot;</td><td>&quot;AKT1/AKT2/AKT3…</td><td>null</td><td>&quot;BJ1897475&quot;</td><td>&quot;Uprosertib&quot;</td><td>&quot;AKT inhibitor&quot;</td><td>&quot;AKT1|AKT2|AKT3…</td><td>10</td><td>null</td><td>null</td><td>null</td><td>null</td><td>44.305556</td><td>44.305556</td><td>3</td><td>&quot;CBK303899&quot;</td><td>&quot;Cn1ncc(Cl)c1-c…</td><td>&quot;InChI=1S/C18H1…</td><td>&quot;AXTAPYRUEKNRBA…</td><td>&quot;BJ1897475&quot;</td></tr><tr><td>&quot;Miransertib&quot;</td><td>&quot;AKT&quot;</td><td>&quot;AKT2&quot;</td><td>&quot;AKT inhibitor&quot;</td><td>&quot;BJ1897652&quot;</td><td>&quot;Miransertib&quot;</td><td>&quot;AKT inhibitor&quot;</td><td>&quot;AKT2&quot;</td><td>null</td><td>null</td><td>null</td><td>4.974127</td><td>60.33029</td><td>null</td><td>null</td><td>10</td><td>null</td><td>null</td><td>null</td><td>null</td><td>&quot;BJ1897652&quot;</td></tr><tr><td>&hellip;</td><td>&hellip;</td><td>&hellip;</td><td>&hellip;</td><td>&hellip;</td><td>&hellip;</td><td>&hellip;</td><td>&hellip;</td><td>&hellip;</td><td>&hellip;</td><td>&hellip;</td><td>&hellip;</td><td>&hellip;</td><td>&hellip;</td><td>&hellip;</td><td>&hellip;</td><td>&hellip;</td><td>&hellip;</td><td>&hellip;</td><td>&hellip;</td><td>&hellip;</td></tr><tr><td>&quot;Paclitaxel&quot;</td><td>&quot;TUB&quot;</td><td>&quot;Tubulin&quot;</td><td>&quot;Stabilises tub…</td><td>&quot;BJ1894316&quot;</td><td>&quot;paclitaxel&quot;</td><td>null</td><td>null</td><td>10</td><td>null</td><td>null</td><td>5.9</td><td>30.4</td><td>null</td><td>30.4</td><td>3</td><td>&quot;CBK011621&quot;</td><td>&quot;[H][C@]12[C@H]…</td><td>&quot;InChI=1S/C47H5…</td><td>&quot;RCINICONZNJXQF…</td><td>&quot;BJ1894316&quot;</td></tr><tr><td>&quot;parbendazole&quot;</td><td>&quot;TUB&quot;</td><td>&quot;Tubulin&quot;</td><td>&quot;Inhibits tubul…</td><td>&quot;BJ1898019&quot;</td><td>&quot;parbendazole&quot;</td><td>&quot;tubulin polyme…</td><td>&quot;TUBB&quot;</td><td>10</td><td>null</td><td>null</td><td>5.0</td><td>23.1</td><td>null</td><td>23.1</td><td>3</td><td>&quot;CBK200898&quot;</td><td>&quot;CCCCc1ccc2[nH]…</td><td>&quot;InChI=1S/C13H1…</td><td>&quot;YRWLZFXJFBZBEY…</td><td>&quot;BJ1898019&quot;</td></tr><tr><td>&quot;Vinblastine su…</td><td>&quot;TUB&quot;</td><td>&quot;Tubulin&quot;</td><td>&quot;Disrupts micro…</td><td>&quot;BJ1897247&quot;</td><td>&quot;Vinblastine (s…</td><td>null</td><td>null</td><td>10</td><td>null</td><td>null</td><td>null</td><td>null</td><td>10.638889</td><td>10.638889</td><td>1</td><td>&quot;CBK277917&quot;</td><td>&quot;[H][C@@]12N3CC…</td><td>&quot;InChI=1S/C46H5…</td><td>&quot;JXLYSJRDGCGARV…</td><td>&quot;BJ1897247&quot;</td></tr><tr><td>&quot;Vincristine su…</td><td>&quot;TUB&quot;</td><td>&quot;Tubulin&quot;</td><td>&quot;Inhibits micro…</td><td>&quot;BJ1897809&quot;</td><td>&quot;Vincristine (s…</td><td>null</td><td>null</td><td>10</td><td>null</td><td>null</td><td>null</td><td>null</td><td>10.277778</td><td>10.277778</td><td>1</td><td>&quot;CBK277916&quot;</td><td>&quot;[H][C@@]12N3CC…</td><td>&quot;InChI=1S/C46H5…</td><td>&quot;OGWKCGZFUXNPDA…</td><td>&quot;BJ1897809&quot;</td></tr><tr><td>&quot;Vinorelbine di…</td><td>&quot;TUB&quot;</td><td>&quot;Tubulin&quot;</td><td>&quot;Disrupts micro…</td><td>&quot;BJ1897083&quot;</td><td>&quot;Vinorelbine (d…</td><td>&quot;tubulin polyme…</td><td>&quot;TUBA1A|TUBA1B|…</td><td>10</td><td>null</td><td>null</td><td>4.8</td><td>15.5</td><td>null</td><td>15.5</td><td>1</td><td>&quot;CBK278120&quot;</td><td>&quot;CCC1=C[C@H]2C[…</td><td>&quot;InChI=1S/C45H5…</td><td>&quot;GBABOYUKABKIAF…</td><td>&quot;BJ1897083&quot;</td></tr><tr><td>&quot;plinabulin&quot;</td><td>&quot;TUB&quot;</td><td>null</td><td>&quot;tubulin polyme…</td><td>&quot;BJ1896715&quot;</td><td>&quot;plinabulin&quot;</td><td>&quot;tubulin polyme…</td><td>null</td><td>null</td><td>null</td><td>null</td><td>4.331017</td><td>18.039702</td><td>null</td><td>null</td><td>1</td><td>null</td><td>null</td><td>null</td><td>null</td><td>&quot;BJ1896715&quot;</td></tr><tr><td>&quot;MEBENDAZOLE&quot;</td><td>&quot;TUB&quot;</td><td>&quot;TUBA1A|TUBB|TU…</td><td>&quot;tubulin polyme…</td><td>&quot;BJ1894920&quot;</td><td>&quot;MEBENDAZOLE&quot;</td><td>&quot;tubulin polyme…</td><td>&quot;TUBA1A|TUBB|TU…</td><td>null</td><td>null</td><td>null</td><td>5.058098</td><td>19.406388</td><td>null</td><td>null</td><td>1</td><td>null</td><td>null</td><td>null</td><td>null</td><td>&quot;BJ1894920&quot;</td></tr><tr><td>&quot;ALBENDAZOLE&quot;</td><td>&quot;TUB&quot;</td><td>&quot;TUBA1A|TUBB|TU…</td><td>&quot;tubulin polyme…</td><td>&quot;BJ1895247&quot;</td><td>&quot;ALBENDAZOLE&quot;</td><td>&quot;tubulin polyme…</td><td>&quot;TUBA1A|TUBB|TU…</td><td>null</td><td>null</td><td>null</td><td>4.598211</td><td>20.188812</td><td>null</td><td>null</td><td>3</td><td>null</td><td>null</td><td>null</td><td>null</td><td>&quot;BJ1895247&quot;</td></tr><tr><td>&quot;Indibulin&quot;</td><td>&quot;TUB&quot;</td><td>null</td><td>&quot;tubulin polyme…</td><td>&quot;BJ1894267&quot;</td><td>&quot;Indibulin&quot;</td><td>&quot;tubulin polyme…</td><td>null</td><td>null</td><td>null</td><td>null</td><td>4.370455</td><td>37.413827</td><td>null</td><td>null</td><td>3</td><td>null</td><td>null</td><td>null</td><td>null</td><td>&quot;BJ1894267&quot;</td></tr><tr><td>&quot;FLUBENDAZOLE&quot;</td><td>&quot;TUB&quot;</td><td>&quot;TUBB&quot;</td><td>&quot;tubulin polyme…</td><td>&quot;BJ1895355&quot;</td><td>&quot;FLUBENDAZOLE&quot;</td><td>&quot;tubulin polyme…</td><td>&quot;TUBB&quot;</td><td>null</td><td>null</td><td>null</td><td>4.641454</td><td>38.340922</td><td>null</td><td>null</td><td>3</td><td>null</td><td>null</td><td>null</td><td>null</td><td>&quot;BJ1895355&quot;</td></tr><tr><td>&quot;Catharanthine&quot;</td><td>&quot;TUB&quot;</td><td>null</td><td>&quot;tubulin polyme…</td><td>&quot;BJ1898778&quot;</td><td>&quot;Catharanthine&quot;</td><td>&quot;tubulin polyme…</td><td>null</td><td>null</td><td>null</td><td>null</td><td>0.864502</td><td>70.714216</td><td>null</td><td>null</td><td>10</td><td>null</td><td>null</td><td>null</td><td>null</td><td>&quot;BJ1898778&quot;</td></tr><tr><td>&quot;DIMESNA&quot;</td><td>&quot;TUB&quot;</td><td>null</td><td>&quot;tubulin polyme…</td><td>&quot;BJ1895025&quot;</td><td>&quot;DIMESNA&quot;</td><td>&quot;tubulin polyme…</td><td>null</td><td>null</td><td>null</td><td>null</td><td>1.026139</td><td>74.832791</td><td>null</td><td>null</td><td>10</td><td>null</td><td>null</td><td>null</td><td>null</td><td>&quot;BJ1895025&quot;</td></tr></tbody></table></div>"
      ],
      "text/plain": [
       "shape: (108, 21)\n",
       "┌────────────┬───────────┬────────┬────────────┬───┬───────────┬───────────┬───────────┬───────────┐\n",
       "│ Compound   ┆ moa_group ┆ target ┆ moa        ┆ … ┆ smiles    ┆ inchi     ┆ inkey     ┆ BatchID_r │\n",
       "│ ---        ┆ ---       ┆ ---    ┆ ---        ┆   ┆ ---       ┆ ---       ┆ ---       ┆ ight      │\n",
       "│ str        ┆ str       ┆ str    ┆ str        ┆   ┆ str       ┆ str       ┆ str       ┆ ---       │\n",
       "│            ┆           ┆        ┆            ┆   ┆           ┆           ┆           ┆ str       │\n",
       "╞════════════╪═══════════╪════════╪════════════╪═══╪═══════════╪═══════════╪═══════════╪═══════════╡\n",
       "│ API-1      ┆ AKT       ┆ Akt    ┆ Specific   ┆ … ┆ NC(=O)c1c ┆ InChI=1S/ ┆ SPBWHPXCW ┆ BJ1896216 │\n",
       "│            ┆           ┆        ┆ inhibitor  ┆   ┆ n([C@@H]2 ┆ C13H15N5O ┆ JLQRU-FIT ┆           │\n",
       "│            ┆           ┆        ┆ of Akt     ┆   ┆ O[C@H](CO ┆ 6/c14-10- ┆ JORAGSA-N ┆           │\n",
       "│            ┆           ┆        ┆            ┆   ┆ )[C@@…    ┆ 6-7(2…    ┆           ┆           │\n",
       "│ AR-12      ┆ AKT       ┆ PDPK1  ┆ Inihbits   ┆ … ┆ NCC(=O)Nc ┆ InChI=1S/ ┆ YULUCECVQ ┆ BJ1896668 │\n",
       "│            ┆           ┆        ┆ PDK-1      ┆   ┆ 1ccc(cc1) ┆ C26H19F3N ┆ OCQFQ-UHF ┆           │\n",
       "│            ┆           ┆        ┆            ┆   ┆ -n1nc(cc1 ┆ 4O/c27-26 ┆ FFAOYSA-N ┆           │\n",
       "│            ┆           ┆        ┆            ┆   ┆ -c1cc…    ┆ (28,2…    ┆           ┆           │\n",
       "│ AZD5363    ┆ AKT       ┆ Akt    ┆ competitiv ┆ … ┆ NC1(CCN(C ┆ InChI=1S/ ┆ JDUBGYFRJ ┆ BJ1899041 │\n",
       "│            ┆           ┆        ┆ e pan-Akt  ┆   ┆ C1)c1ncnc ┆ C21H25ClN ┆ FOXQC-KRW ┆           │\n",
       "│            ┆           ┆        ┆ kinase     ┆   ┆ 2[nH]ccc1 ┆ 6O2/c22-1 ┆ DZBQOSA-N ┆           │\n",
       "│            ┆           ┆        ┆ inhib…     ┆   ┆ 2)C(=…    ┆ 5-3-1…    ┆           ┆           │\n",
       "│ Buparlisib ┆ AKT       ┆ PIK3CG ┆ Inhibits   ┆ … ┆ Nc1cc(c(c ┆ InChI=1S/ ┆ CWHUFRVAE ┆ BJ1898458 │\n",
       "│            ┆           ┆        ┆ upstream   ┆   ┆ n1)-c1cc( ┆ C18H21F3N ┆ UJCEF-UHF ┆           │\n",
       "│            ┆           ┆        ┆ PI3K       ┆   ┆ nc(n1)N1C ┆ 6O2/c19-1 ┆ FFAOYSA-N ┆           │\n",
       "│            ┆           ┆        ┆ activity   ┆   ┆ COCC1…    ┆ 8(20,…    ┆           ┆           │\n",
       "│ …          ┆ …         ┆ …      ┆ …          ┆ … ┆ …         ┆ …         ┆ …         ┆ …         │\n",
       "│ Indibulin  ┆ TUB       ┆ null   ┆ tubulin    ┆ … ┆ null      ┆ null      ┆ null      ┆ BJ1894267 │\n",
       "│            ┆           ┆        ┆ polymeriza ┆   ┆           ┆           ┆           ┆           │\n",
       "│            ┆           ┆        ┆ tion       ┆   ┆           ┆           ┆           ┆           │\n",
       "│            ┆           ┆        ┆ inhibitor  ┆   ┆           ┆           ┆           ┆           │\n",
       "│ FLUBENDAZO ┆ TUB       ┆ TUBB   ┆ tubulin    ┆ … ┆ null      ┆ null      ┆ null      ┆ BJ1895355 │\n",
       "│ LE         ┆           ┆        ┆ polymeriza ┆   ┆           ┆           ┆           ┆           │\n",
       "│            ┆           ┆        ┆ tion       ┆   ┆           ┆           ┆           ┆           │\n",
       "│            ┆           ┆        ┆ inhibitor  ┆   ┆           ┆           ┆           ┆           │\n",
       "│ Catharanth ┆ TUB       ┆ null   ┆ tubulin    ┆ … ┆ null      ┆ null      ┆ null      ┆ BJ1898778 │\n",
       "│ ine        ┆           ┆        ┆ polymeriza ┆   ┆           ┆           ┆           ┆           │\n",
       "│            ┆           ┆        ┆ tion       ┆   ┆           ┆           ┆           ┆           │\n",
       "│            ┆           ┆        ┆ inhibitor  ┆   ┆           ┆           ┆           ┆           │\n",
       "│ DIMESNA    ┆ TUB       ┆ null   ┆ tubulin    ┆ … ┆ null      ┆ null      ┆ null      ┆ BJ1895025 │\n",
       "│            ┆           ┆        ┆ polymeriza ┆   ┆           ┆           ┆           ┆           │\n",
       "│            ┆           ┆        ┆ tion       ┆   ┆           ┆           ┆           ┆           │\n",
       "│            ┆           ┆        ┆ inhibitor  ┆   ┆           ┆           ┆           ┆           │\n",
       "└────────────┴───────────┴────────┴────────────┴───┴───────────┴───────────┴───────────┴───────────┘"
      ]
     },
     "execution_count": 5,
     "metadata": {},
     "output_type": "execute_result"
    }
   ],
   "source": [
    "df2"
   ]
  },
  {
   "cell_type": "code",
   "execution_count": 6,
   "metadata": {},
   "outputs": [],
   "source": [
    "df3 = df1.join(df2, left_on=\"cbk_batch\", right_on=\"BatchID\", how=\"left\")"
   ]
  },
  {
   "cell_type": "code",
   "execution_count": 7,
   "metadata": {},
   "outputs": [
    {
     "data": {
      "text/html": [
       "<div><style>\n",
       ".dataframe > thead > tr > th,\n",
       ".dataframe > tbody > tr > td {\n",
       "  text-align: right;\n",
       "  white-space: pre-wrap;\n",
       "}\n",
       "</style>\n",
       "<small>shape: (1_038, 25)</small><table border=\"1\" class=\"dataframe\"><thead><tr><th>plate_name</th><th>well_position</th><th>cbk_batch</th><th>comp_vol_nL</th><th>stock_conc_mM</th><th>Compound</th><th>moa_group</th><th>target</th><th>moa</th><th>SPECS_name</th><th>SPECS_moa</th><th>SPECS_target</th><th>tested_concentration_uM</th><th>grit_Jonne</th><th>flag_Jonne</th><th>grit_SPECS</th><th>Count_SPECS</th><th>mean_normalized_cellcount</th><th>Unified_cellcount</th><th>conc</th><th>cbkid</th><th>smiles</th><th>inchi</th><th>inkey</th><th>BatchID_right</th></tr><tr><td>str</td><td>str</td><td>str</td><td>f64</td><td>str</td><td>str</td><td>str</td><td>str</td><td>str</td><td>str</td><td>str</td><td>str</td><td>i64</td><td>f64</td><td>str</td><td>f64</td><td>f64</td><td>f64</td><td>f64</td><td>i64</td><td>str</td><td>str</td><td>str</td><td>str</td><td>str</td></tr></thead><tbody><tr><td>&quot;bfmoalive108_P…</td><td>&quot;A01&quot;</td><td>&quot;backfill&quot;</td><td>30.0</td><td>&quot;100%&quot;</td><td>null</td><td>null</td><td>null</td><td>null</td><td>null</td><td>null</td><td>null</td><td>null</td><td>null</td><td>null</td><td>null</td><td>null</td><td>null</td><td>null</td><td>null</td><td>null</td><td>null</td><td>null</td><td>null</td><td>null</td></tr><tr><td>&quot;bfmoalive108_P…</td><td>&quot;A02&quot;</td><td>&quot;BJ1894267&quot;</td><td>10.0</td><td>&quot;10&quot;</td><td>&quot;Indibulin&quot;</td><td>&quot;TUB&quot;</td><td>null</td><td>&quot;tubulin polyme…</td><td>&quot;Indibulin&quot;</td><td>&quot;tubulin polyme…</td><td>null</td><td>null</td><td>null</td><td>null</td><td>4.370455</td><td>37.413827</td><td>null</td><td>null</td><td>3</td><td>null</td><td>null</td><td>null</td><td>null</td><td>&quot;BJ1894267&quot;</td></tr><tr><td>&quot;bfmoalive108_P…</td><td>&quot;A02&quot;</td><td>&quot;backfill&quot;</td><td>20.0</td><td>&quot;100%&quot;</td><td>null</td><td>null</td><td>null</td><td>null</td><td>null</td><td>null</td><td>null</td><td>null</td><td>null</td><td>null</td><td>null</td><td>null</td><td>null</td><td>null</td><td>null</td><td>null</td><td>null</td><td>null</td><td>null</td><td>null</td></tr><tr><td>&quot;bfmoalive108_P…</td><td>&quot;A03&quot;</td><td>&quot;BJ1896004&quot;</td><td>30.0</td><td>&quot;10&quot;</td><td>&quot;RWJ-67657&quot;</td><td>&quot;MAPK&quot;</td><td>&quot;MAPK&quot;</td><td>&quot;undefined&quot;</td><td>&quot;RWJ-67657&quot;</td><td>&quot;MAP kinase inh…</td><td>&quot;MAPK14|PTGS2&quot;</td><td>10</td><td>null</td><td>null</td><td>null</td><td>null</td><td>82.75</td><td>82.75</td><td>10</td><td>&quot;CBK307989&quot;</td><td>&quot;OCCC#Cc1nc(c(-…</td><td>&quot;InChI=1S/C27H2…</td><td>&quot;QSUSKMBNZQHHPA…</td><td>&quot;BJ1896004&quot;</td></tr><tr><td>&quot;bfmoalive108_P…</td><td>&quot;A04&quot;</td><td>&quot;BJ1894345&quot;</td><td>30.0</td><td>&quot;10&quot;</td><td>&quot;SB-203580&quot;</td><td>&quot;MAPK&quot;</td><td>&quot;MAPK14&quot;</td><td>&quot;undefined&quot;</td><td>&quot;SB-203580&quot;</td><td>&quot;p38 MAPK inhib…</td><td>&quot;AKT1|ALOX5|CHE…</td><td>10</td><td>null</td><td>null</td><td>null</td><td>null</td><td>null</td><td>null</td><td>10</td><td>&quot;CBK041168&quot;</td><td>&quot;CS(=O)c1ccc(cc…</td><td>&quot;InChI=1S/C21H1…</td><td>&quot;CDMGBJANTYXAIV…</td><td>&quot;BJ1894345&quot;</td></tr><tr><td>&quot;bfmoalive108_P…</td><td>&quot;A05&quot;</td><td>&quot;BJ1897105&quot;</td><td>10.0</td><td>&quot;10&quot;</td><td>&quot;LY2857785&quot;</td><td>&quot;CDK&quot;</td><td>&quot;CDK9&quot;</td><td>&quot;undefined&quot;</td><td>&quot;LY2857785&quot;</td><td>&quot;CDK inhibitor&quot;</td><td>&quot;CDK9&quot;</td><td>10</td><td>null</td><td>null</td><td>null</td><td>null</td><td>21.861111</td><td>21.861111</td><td>3</td><td>&quot;CBK308713&quot;</td><td>&quot;CC(C)c1n(C)nc2…</td><td>&quot;InChI=1S/C26H3…</td><td>&quot;LHIUZPIDLZYPRL…</td><td>&quot;BJ1897105&quot;</td></tr><tr><td>&quot;bfmoalive108_P…</td><td>&quot;A05&quot;</td><td>&quot;backfill&quot;</td><td>20.0</td><td>&quot;100%&quot;</td><td>null</td><td>null</td><td>null</td><td>null</td><td>null</td><td>null</td><td>null</td><td>null</td><td>null</td><td>null</td><td>null</td><td>null</td><td>null</td><td>null</td><td>null</td><td>null</td><td>null</td><td>null</td><td>null</td><td>null</td></tr><tr><td>&quot;bfmoalive108_P…</td><td>&quot;A06&quot;</td><td>&quot;BJ1897191&quot;</td><td>2.5</td><td>&quot;10&quot;</td><td>&quot;Cobimetinib&quot;</td><td>&quot;MAPK&quot;</td><td>&quot;MAP2K1&quot;</td><td>&quot;undefined&quot;</td><td>&quot;Cobimetinib&quot;</td><td>&quot;MEK inhibitor&quot;</td><td>&quot;MAP2K1&quot;</td><td>10</td><td>null</td><td>null</td><td>null</td><td>null</td><td>14.666667</td><td>14.666667</td><td>1</td><td>&quot;CBK303945&quot;</td><td>&quot;OC1(CN(C1)C(=O…</td><td>&quot;InChI=1S/C21H2…</td><td>&quot;BSMCAPRUBJMWDF…</td><td>&quot;BJ1897191&quot;</td></tr><tr><td>&quot;bfmoalive108_P…</td><td>&quot;A06&quot;</td><td>&quot;backfill&quot;</td><td>27.5</td><td>&quot;100%&quot;</td><td>null</td><td>null</td><td>null</td><td>null</td><td>null</td><td>null</td><td>null</td><td>null</td><td>null</td><td>null</td><td>null</td><td>null</td><td>null</td><td>null</td><td>null</td><td>null</td><td>null</td><td>null</td><td>null</td><td>null</td></tr><tr><td>&quot;bfmoalive108_P…</td><td>&quot;A07&quot;</td><td>&quot;BJ1897136&quot;</td><td>30.0</td><td>&quot;10&quot;</td><td>&quot;ON123300&quot;</td><td>&quot;CDK&quot;</td><td>&quot;CDK4|NUAK1|PDG…</td><td>&quot;CDK inhibitor&quot;</td><td>&quot;ON123300&quot;</td><td>&quot;CDK inhibitor&quot;</td><td>&quot;CDK4|NUAK1|PDG…</td><td>null</td><td>null</td><td>null</td><td>4.221451</td><td>91.111629</td><td>null</td><td>null</td><td>10</td><td>null</td><td>null</td><td>null</td><td>null</td><td>&quot;BJ1897136&quot;</td></tr><tr><td>&quot;bfmoalive108_P…</td><td>&quot;A08&quot;</td><td>&quot;BJ1896118&quot;</td><td>30.0</td><td>&quot;10&quot;</td><td>&quot;talmapimod&quot;</td><td>&quot;MAPK&quot;</td><td>null</td><td>null</td><td>&quot;talmapimod&quot;</td><td>&quot;p38 MAPK inhib…</td><td>&quot;IL1B|MAPK11|MA…</td><td>null</td><td>null</td><td>null</td><td>null</td><td>null</td><td>99.25</td><td>99.25</td><td>10</td><td>&quot;CBK308045&quot;</td><td>&quot;C[C@H]1CN([C@H…</td><td>&quot;InChI=1S/C27H3…</td><td>&quot;ZMELOYOKMZBMRB…</td><td>&quot;BJ1896118&quot;</td></tr><tr><td>&quot;bfmoalive108_P…</td><td>&quot;A09&quot;</td><td>&quot;BJ1898432&quot;</td><td>2.5</td><td>&quot;10&quot;</td><td>&quot;Lexibulin  &quot;</td><td>&quot;TUB&quot;</td><td>&quot;TUBB&quot;</td><td>&quot;undefined&quot;</td><td>&quot;CYT997&quot;</td><td>&quot;tubulin polyme…</td><td>&quot;TUBB&quot;</td><td>10</td><td>null</td><td>null</td><td>4.5</td><td>15.4</td><td>null</td><td>15.4</td><td>1</td><td>&quot;CBK309437&quot;</td><td>&quot;CCC[C@H](Nc1nc…</td><td>&quot;InChI=1S/C24H3…</td><td>&quot;MTJHLONVHHPNSI…</td><td>&quot;BJ1898432&quot;</td></tr><tr><td>&hellip;</td><td>&hellip;</td><td>&hellip;</td><td>&hellip;</td><td>&hellip;</td><td>&hellip;</td><td>&hellip;</td><td>&hellip;</td><td>&hellip;</td><td>&hellip;</td><td>&hellip;</td><td>&hellip;</td><td>&hellip;</td><td>&hellip;</td><td>&hellip;</td><td>&hellip;</td><td>&hellip;</td><td>&hellip;</td><td>&hellip;</td><td>&hellip;</td><td>&hellip;</td><td>&hellip;</td><td>&hellip;</td><td>&hellip;</td><td>&hellip;</td></tr><tr><td>&quot;bfmoalive108_P…</td><td>&quot;P15&quot;</td><td>&quot;backfill&quot;</td><td>20.0</td><td>&quot;100%&quot;</td><td>null</td><td>null</td><td>null</td><td>null</td><td>null</td><td>null</td><td>null</td><td>null</td><td>null</td><td>null</td><td>null</td><td>null</td><td>null</td><td>null</td><td>null</td><td>null</td><td>null</td><td>null</td><td>null</td><td>null</td></tr><tr><td>&quot;bfmoalive108_P…</td><td>&quot;P16&quot;</td><td>&quot;BJ1898171&quot;</td><td>10.0</td><td>&quot;10&quot;</td><td>&quot;Rucaparib (pho…</td><td>&quot;PARP&quot;</td><td>&quot;PARP&quot;</td><td>&quot;PARP inhibitor…</td><td>&quot;Rucaparib (AG-…</td><td>&quot;PARP inhibitor…</td><td>&quot;PARP1|PARP2&quot;</td><td>2</td><td>4.2</td><td>&quot;&lt;50% cell coun…</td><td>3.5</td><td>46.8</td><td>null</td><td>46.8</td><td>3</td><td>&quot;CBK277950&quot;</td><td>&quot;CNCc1ccc(cc1)-…</td><td>&quot;InChI=1S/C19H1…</td><td>&quot;HMABYWSNWIZPAG…</td><td>&quot;BJ1898171&quot;</td></tr><tr><td>&quot;bfmoalive108_P…</td><td>&quot;P16&quot;</td><td>&quot;backfill&quot;</td><td>20.0</td><td>&quot;100%&quot;</td><td>null</td><td>null</td><td>null</td><td>null</td><td>null</td><td>null</td><td>null</td><td>null</td><td>null</td><td>null</td><td>null</td><td>null</td><td>null</td><td>null</td><td>null</td><td>null</td><td>null</td><td>null</td><td>null</td><td>null</td></tr><tr><td>&quot;bfmoalive108_P…</td><td>&quot;P17&quot;</td><td>&quot;BJ1896185&quot;</td><td>30.0</td><td>&quot;10&quot;</td><td>&quot;UPF-1069&quot;</td><td>&quot;PARP&quot;</td><td>&quot;PARP2&quot;</td><td>&quot;PARP inhibitor…</td><td>&quot;UPF-1069&quot;</td><td>&quot;PARP inhibitor…</td><td>&quot;PARP2&quot;</td><td>null</td><td>null</td><td>null</td><td>0.758138</td><td>77.957156</td><td>null</td><td>null</td><td>10</td><td>null</td><td>null</td><td>null</td><td>null</td><td>&quot;BJ1896185&quot;</td></tr><tr><td>&quot;bfmoalive108_P…</td><td>&quot;P18&quot;</td><td>&quot;BJ1898857&quot;</td><td>30.0</td><td>&quot;10&quot;</td><td>&quot;VX-702&quot;</td><td>&quot;MAPK&quot;</td><td>&quot;IL1B|IL6|MAPK1…</td><td>&quot;p38 MAPK inhib…</td><td>&quot;VX-702&quot;</td><td>&quot;p38 MAPK inhib…</td><td>&quot;IL1B|IL6|MAPK1…</td><td>null</td><td>null</td><td>null</td><td>1.376817</td><td>136.539955</td><td>null</td><td>null</td><td>10</td><td>null</td><td>null</td><td>null</td><td>null</td><td>&quot;BJ1898857&quot;</td></tr><tr><td>&quot;bfmoalive108_P…</td><td>&quot;P19&quot;</td><td>&quot;BJ1896185&quot;</td><td>30.0</td><td>&quot;10&quot;</td><td>&quot;UPF-1069&quot;</td><td>&quot;PARP&quot;</td><td>&quot;PARP2&quot;</td><td>&quot;PARP inhibitor…</td><td>&quot;UPF-1069&quot;</td><td>&quot;PARP inhibitor…</td><td>&quot;PARP2&quot;</td><td>null</td><td>null</td><td>null</td><td>0.758138</td><td>77.957156</td><td>null</td><td>null</td><td>10</td><td>null</td><td>null</td><td>null</td><td>null</td><td>&quot;BJ1896185&quot;</td></tr><tr><td>&quot;bfmoalive108_P…</td><td>&quot;P20&quot;</td><td>&quot;BJ1894333&quot;</td><td>30.0</td><td>&quot;10&quot;</td><td>&quot;LY294002&quot;</td><td>&quot;AKT&quot;</td><td>&quot;PI3K&quot;</td><td>&quot;Inhibits upstr…</td><td>&quot;LY294002&quot;</td><td>&quot;DNA dependent …</td><td>&quot;AKT1|CHEK1|GSK…</td><td>10</td><td>null</td><td>null</td><td>1.4</td><td>83.4</td><td>null</td><td>83.4</td><td>10</td><td>&quot;CBK041160&quot;</td><td>&quot;O=c1cc(oc2c(cc…</td><td>&quot;InChI=1S/C19H1…</td><td>&quot;CZQHHVNHHHRRDU…</td><td>&quot;BJ1894333&quot;</td></tr><tr><td>&quot;bfmoalive108_P…</td><td>&quot;P21&quot;</td><td>&quot;BJ1895995&quot;</td><td>30.0</td><td>&quot;10&quot;</td><td>&quot;EO-1428&quot;</td><td>&quot;MAPK&quot;</td><td>&quot;MAPK11|MAPK14&quot;</td><td>&quot;p38 MAPK inhib…</td><td>&quot;EO-1428&quot;</td><td>&quot;p38 MAPK inhib…</td><td>&quot;MAPK11|MAPK14&quot;</td><td>null</td><td>null</td><td>null</td><td>1.541795</td><td>125.873435</td><td>null</td><td>null</td><td>10</td><td>null</td><td>null</td><td>null</td><td>null</td><td>&quot;BJ1895995&quot;</td></tr><tr><td>&quot;bfmoalive108_P…</td><td>&quot;P22&quot;</td><td>&quot;BJ1897475&quot;</td><td>10.0</td><td>&quot;10&quot;</td><td>&quot;Uprosertib&quot;</td><td>&quot;AKT&quot;</td><td>&quot;AKT1/AKT2/AKT3…</td><td>null</td><td>&quot;Uprosertib&quot;</td><td>&quot;AKT inhibitor&quot;</td><td>&quot;AKT1|AKT2|AKT3…</td><td>10</td><td>null</td><td>null</td><td>null</td><td>null</td><td>44.305556</td><td>44.305556</td><td>3</td><td>&quot;CBK303899&quot;</td><td>&quot;Cn1ncc(Cl)c1-c…</td><td>&quot;InChI=1S/C18H1…</td><td>&quot;AXTAPYRUEKNRBA…</td><td>&quot;BJ1897475&quot;</td></tr><tr><td>&quot;bfmoalive108_P…</td><td>&quot;P22&quot;</td><td>&quot;backfill&quot;</td><td>20.0</td><td>&quot;100%&quot;</td><td>null</td><td>null</td><td>null</td><td>null</td><td>null</td><td>null</td><td>null</td><td>null</td><td>null</td><td>null</td><td>null</td><td>null</td><td>null</td><td>null</td><td>null</td><td>null</td><td>null</td><td>null</td><td>null</td><td>null</td></tr><tr><td>&quot;bfmoalive108_P…</td><td>&quot;P23&quot;</td><td>&quot;BJ1898982&quot;</td><td>30.0</td><td>&quot;10&quot;</td><td>&quot;ME0328&quot;</td><td>&quot;PARP&quot;</td><td>&quot;PARP3&quot;</td><td>&quot;PARP inhibitor…</td><td>&quot;ME0328&quot;</td><td>&quot;PARP inhibitor…</td><td>&quot;PARP3&quot;</td><td>null</td><td>null</td><td>null</td><td>1.271059</td><td>79.141393</td><td>null</td><td>null</td><td>10</td><td>null</td><td>null</td><td>null</td><td>null</td><td>&quot;BJ1898982&quot;</td></tr><tr><td>&quot;bfmoalive108_P…</td><td>&quot;P24&quot;</td><td>&quot;backfill&quot;</td><td>30.0</td><td>&quot;100%&quot;</td><td>null</td><td>null</td><td>null</td><td>null</td><td>null</td><td>null</td><td>null</td><td>null</td><td>null</td><td>null</td><td>null</td><td>null</td><td>null</td><td>null</td><td>null</td><td>null</td><td>null</td><td>null</td><td>null</td><td>null</td></tr></tbody></table></div>"
      ],
      "text/plain": [
       "shape: (1_038, 25)\n",
       "┌───────────┬───────────┬───────────┬───────────┬───┬───────────┬───────────┬───────────┬──────────┐\n",
       "│ plate_nam ┆ well_posi ┆ cbk_batch ┆ comp_vol_ ┆ … ┆ smiles    ┆ inchi     ┆ inkey     ┆ BatchID_ │\n",
       "│ e         ┆ tion      ┆ ---       ┆ nL        ┆   ┆ ---       ┆ ---       ┆ ---       ┆ right    │\n",
       "│ ---       ┆ ---       ┆ str       ┆ ---       ┆   ┆ str       ┆ str       ┆ str       ┆ ---      │\n",
       "│ str       ┆ str       ┆           ┆ f64       ┆   ┆           ┆           ┆           ┆ str      │\n",
       "╞═══════════╪═══════════╪═══════════╪═══════════╪═══╪═══════════╪═══════════╪═══════════╪══════════╡\n",
       "│ bfmoalive ┆ A01       ┆ backfill  ┆ 30.0      ┆ … ┆ null      ┆ null      ┆ null      ┆ null     │\n",
       "│ 108_P1    ┆           ┆           ┆           ┆   ┆           ┆           ┆           ┆          │\n",
       "│ bfmoalive ┆ A02       ┆ BJ1894267 ┆ 10.0      ┆ … ┆ null      ┆ null      ┆ null      ┆ BJ189426 │\n",
       "│ 108_P1    ┆           ┆           ┆           ┆   ┆           ┆           ┆           ┆ 7        │\n",
       "│ bfmoalive ┆ A02       ┆ backfill  ┆ 20.0      ┆ … ┆ null      ┆ null      ┆ null      ┆ null     │\n",
       "│ 108_P1    ┆           ┆           ┆           ┆   ┆           ┆           ┆           ┆          │\n",
       "│ bfmoalive ┆ A03       ┆ BJ1896004 ┆ 30.0      ┆ … ┆ OCCC#Cc1n ┆ InChI=1S/ ┆ QSUSKMBNZ ┆ BJ189600 │\n",
       "│ 108_P1    ┆           ┆           ┆           ┆   ┆ c(c(-c2cc ┆ C27H24FN3 ┆ QHHPA-UHF ┆ 4        │\n",
       "│           ┆           ┆           ┆           ┆   ┆ ncc2)n1CC ┆ O/c28-24- ┆ FFAOYSA-N ┆          │\n",
       "│           ┆           ┆           ┆           ┆   ┆ Cc1cc…    ┆ 13-11…    ┆           ┆          │\n",
       "│ …         ┆ …         ┆ …         ┆ …         ┆ … ┆ …         ┆ …         ┆ …         ┆ …        │\n",
       "│ bfmoalive ┆ P22       ┆ BJ1897475 ┆ 10.0      ┆ … ┆ Cn1ncc(Cl ┆ InChI=1S/ ┆ AXTAPYRUE ┆ BJ189747 │\n",
       "│ 108_P2    ┆           ┆           ┆           ┆   ┆ )c1-c1cc( ┆ C18H16Cl2 ┆ KNRBA-UHF ┆ 5        │\n",
       "│           ┆           ┆           ┆           ┆   ┆ oc1Cl)C(= ┆ F2N4O2/c1 ┆ FFAOYSA-N ┆          │\n",
       "│           ┆           ┆           ┆           ┆   ┆ O)NC(…    ┆ -26-1…    ┆           ┆          │\n",
       "│ bfmoalive ┆ P22       ┆ backfill  ┆ 20.0      ┆ … ┆ null      ┆ null      ┆ null      ┆ null     │\n",
       "│ 108_P2    ┆           ┆           ┆           ┆   ┆           ┆           ┆           ┆          │\n",
       "│ bfmoalive ┆ P23       ┆ BJ1898982 ┆ 30.0      ┆ … ┆ null      ┆ null      ┆ null      ┆ BJ189898 │\n",
       "│ 108_P2    ┆           ┆           ┆           ┆   ┆           ┆           ┆           ┆ 2        │\n",
       "│ bfmoalive ┆ P24       ┆ backfill  ┆ 30.0      ┆ … ┆ null      ┆ null      ┆ null      ┆ null     │\n",
       "│ 108_P2    ┆           ┆           ┆           ┆   ┆           ┆           ┆           ┆          │\n",
       "└───────────┴───────────┴───────────┴───────────┴───┴───────────┴───────────┴───────────┴──────────┘"
      ]
     },
     "execution_count": 7,
     "metadata": {},
     "output_type": "execute_result"
    }
   ],
   "source": [
    "df3"
   ]
  },
  {
   "cell_type": "code",
   "execution_count": 8,
   "metadata": {},
   "outputs": [],
   "source": [
    "df3.write_csv(\"bfmoadlive108_platelayout_with_metadata_v2.csv\")"
   ]
  },
  {
   "cell_type": "code",
   "execution_count": 9,
   "metadata": {},
   "outputs": [],
   "source": [
    "approx_unique_count = df1.select(pl.col('cbk_batch').approx_n_unique())"
   ]
  },
  {
   "cell_type": "code",
   "execution_count": 10,
   "metadata": {},
   "outputs": [
    {
     "data": {
      "text/html": [
       "<div><style>\n",
       ".dataframe > thead > tr > th,\n",
       ".dataframe > tbody > tr > td {\n",
       "  text-align: right;\n",
       "  white-space: pre-wrap;\n",
       "}\n",
       "</style>\n",
       "<small>shape: (1, 1)</small><table border=\"1\" class=\"dataframe\"><thead><tr><th>cbk_batch</th></tr><tr><td>u32</td></tr></thead><tbody><tr><td>112</td></tr></tbody></table></div>"
      ],
      "text/plain": [
       "shape: (1, 1)\n",
       "┌───────────┐\n",
       "│ cbk_batch │\n",
       "│ ---       │\n",
       "│ u32       │\n",
       "╞═══════════╡\n",
       "│ 112       │\n",
       "└───────────┘"
      ]
     },
     "execution_count": 10,
     "metadata": {},
     "output_type": "execute_result"
    }
   ],
   "source": [
    "approx_unique_count"
   ]
  },
  {
   "cell_type": "code",
   "execution_count": 11,
   "metadata": {},
   "outputs": [],
   "source": [
    "approx_unique_count = df2.select(pl.col('BatchID').approx_n_unique())"
   ]
  },
  {
   "cell_type": "code",
   "execution_count": 12,
   "metadata": {},
   "outputs": [
    {
     "data": {
      "text/html": [
       "<div><style>\n",
       ".dataframe > thead > tr > th,\n",
       ".dataframe > tbody > tr > td {\n",
       "  text-align: right;\n",
       "  white-space: pre-wrap;\n",
       "}\n",
       "</style>\n",
       "<small>shape: (1, 1)</small><table border=\"1\" class=\"dataframe\"><thead><tr><th>BatchID</th></tr><tr><td>u32</td></tr></thead><tbody><tr><td>108</td></tr></tbody></table></div>"
      ],
      "text/plain": [
       "shape: (1, 1)\n",
       "┌─────────┐\n",
       "│ BatchID │\n",
       "│ ---     │\n",
       "│ u32     │\n",
       "╞═════════╡\n",
       "│ 108     │\n",
       "└─────────┘"
      ]
     },
     "execution_count": 12,
     "metadata": {},
     "output_type": "execute_result"
    }
   ],
   "source": [
    "approx_unique_count"
   ]
  },
  {
   "cell_type": "code",
   "execution_count": 13,
   "metadata": {},
   "outputs": [],
   "source": [
    "approx_unique_count = df3.select(pl.col('cbk_batch').approx_n_unique())"
   ]
  },
  {
   "cell_type": "code",
   "execution_count": 14,
   "metadata": {},
   "outputs": [
    {
     "data": {
      "text/html": [
       "<div><style>\n",
       ".dataframe > thead > tr > th,\n",
       ".dataframe > tbody > tr > td {\n",
       "  text-align: right;\n",
       "  white-space: pre-wrap;\n",
       "}\n",
       "</style>\n",
       "<small>shape: (1, 1)</small><table border=\"1\" class=\"dataframe\"><thead><tr><th>cbk_batch</th></tr><tr><td>u32</td></tr></thead><tbody><tr><td>112</td></tr></tbody></table></div>"
      ],
      "text/plain": [
       "shape: (1, 1)\n",
       "┌───────────┐\n",
       "│ cbk_batch │\n",
       "│ ---       │\n",
       "│ u32       │\n",
       "╞═══════════╡\n",
       "│ 112       │\n",
       "└───────────┘"
      ]
     },
     "execution_count": 14,
     "metadata": {},
     "output_type": "execute_result"
    }
   ],
   "source": [
    "approx_unique_count"
   ]
  },
  {
   "cell_type": "code",
   "execution_count": null,
   "metadata": {},
   "outputs": [],
   "source": []
  },
  {
   "cell_type": "code",
   "execution_count": null,
   "metadata": {},
   "outputs": [],
   "source": []
  },
  {
   "cell_type": "code",
   "execution_count": null,
   "metadata": {},
   "outputs": [],
   "source": []
  }
 ],
 "metadata": {
  "kernelspec": {
   "display_name": "Python 3",
   "language": "python",
   "name": "python3"
  },
  "language_info": {
   "codemirror_mode": {
    "name": "ipython",
    "version": 3
   },
   "file_extension": ".py",
   "mimetype": "text/x-python",
   "name": "python",
   "nbconvert_exporter": "python",
   "pygments_lexer": "ipython3",
   "version": "3.8.10"
  }
 },
 "nbformat": 4,
 "nbformat_minor": 2
}
