{
 "cells": [
  {
   "cell_type": "code",
   "execution_count": 1,
   "metadata": {},
   "outputs": [
    {
     "data": {
      "text/plain": [
       "'/scratch2-shared/david/spherebooks'"
      ]
     },
     "execution_count": 1,
     "metadata": {},
     "output_type": "execute_result"
    }
   ],
   "source": [
    "import os\n",
    "import pandas as pd \n",
    "import numpy as np\n",
    "import os, shutil, glob\n",
    "from random import randint\n",
    "import re, math\n",
    "import datetime\n",
    "import gc\n",
    "from pathlib import Path\n",
    "\n",
    "os.getcwd()\n"
   ]
  },
  {
   "cell_type": "markdown",
   "metadata": {},
   "source": [
    "### Read data"
   ]
  },
  {
   "cell_type": "code",
   "execution_count": 2,
   "metadata": {},
   "outputs": [
    {
     "data": {
      "text/plain": [
       "['featICF_Experiment.csv',\n",
       " 'featICF_Image.csv',\n",
       " 'featICF_LargeBrightArtefacts_enlarge.csv',\n",
       " 'featICF_LargeBrightArtefacts_identify.csv',\n",
       " 'featICF_cells.csv',\n",
       " 'featICF_cytoplasm.csv',\n",
       " 'featICF_nuclei.csv',\n",
       " 'featICF_precells.csv',\n",
       " 'featICF_prenuclei.csv']"
      ]
     },
     "execution_count": 2,
     "metadata": {},
     "output_type": "execute_result"
    }
   ],
   "source": [
    "pd.set_option(\"max_colwidth\", 2000)\n",
    "pd.set_option(\"display.max_columns\", 1000)\n",
    "pd.set_option(\"display.max_rows\", 1000)\n",
    "\n",
    "\n",
    "BaseDir = '/share/data/analyses/christa/colopaint3D/pilots1-10/results_spheroid'\n",
    "sorted(os.listdir(BaseDir))"
   ]
  },
  {
   "cell_type": "markdown",
   "metadata": {},
   "source": [
    "### Input directories"
   ]
  },
  {
   "cell_type": "code",
   "execution_count": 3,
   "metadata": {},
   "outputs": [
    {
     "name": "stdout",
     "output_type": "stream",
     "text": [
      "       featrue_names\n",
      "0     featICF_nuclei\n",
      "1      featICF_cells\n",
      "2  featICF_cytoplasm\n"
     ]
    }
   ],
   "source": [
    "# InputFolders = []\n",
    "# NameContains = input(\"Enter part of name(s) of the folders: \") # e.g.: TX-.*GR-v2\n",
    "# for f in (f for f in os.listdir(BaseDir) if re.match(NameContains, f)):\n",
    "#     InputFolders.append(f)\n",
    "# InputFolders.sort()\n",
    "# print ('InputFolders: ' + str(InputFolders))\n",
    "OutputDir = 'output/2_FIM'\n",
    "if not os.path.exists(OutputDir): \n",
    "    os.makedirs(OutputDir)\n",
    "NameContains = ''\n",
    "InputFolders = pd.read_csv('./settings/filemap.csv')\n",
    "print(InputFolders )\n",
    "# drugmap = pd.read_csv('settings/drug-well-map.csv', sep=',')\n",
    "# drugmap.reset_index(inplace=True)\n",
    "# InputFolders.sort_values(['time-point'], ignore_index=True, inplace=True)\n",
    "# InputFolders['time-point']\n",
    "# test = pd.read_parquet('output/2_FIM/ImageMeansAllFrames.parquet')\n",
    "# for indF,inpF in InputFolders.iterrows():\n",
    "#     ObjectList = ['featICF_nuclei', 'featICF_cells', 'featICF_cytoplasm']\n",
    "#     for obj in ObjectList:\n",
    "#         feature_files = glob.glob(BaseDir + '/' + str(inpF['plate-id']) + '/' + str(inpF[' feat-id']) + '/' + obj + '.csv', recursive=True)\n",
    "#         # print(feature_files)\n",
    "#         for file in feature_files[-1:]:\n",
    "#             print(file)\n",
    "#             print(file)\n",
    "#             DataFromOneFile =  pd.read_csv(file, sep=\",\", low_memory=False)\n",
    "#             DataFromOneFile['Metadata_Barcode'].replace('exp180', str(inpF['plate-id']), inplace=True)\n",
    "#             print(DataFromOneFile.shape)   \n",
    "#             DataFromFolder = pd.concat([DataFromFolder, DataFromOneFile.iloc[:,:]], ignore_index=True, sort=False, axis=0, join = 'outer')\n",
    "#             print('{}/ImageMeansFrame{}.csv'.format(OutputDir, inpF['plate-id']))\n",
    "            \n",
    "            \n"
   ]
  },
  {
   "cell_type": "code",
   "execution_count": 4,
   "metadata": {},
   "outputs": [
    {
     "name": "stdout",
     "output_type": "stream",
     "text": [
      "Current date and time : \n",
      "2023-03-29 15:29:58\n"
     ]
    }
   ],
   "source": [
    "now = datetime.datetime.now()\n",
    "print ('Current date and time : ')\n",
    "print (now.strftime('%Y-%m-%d %H:%M:%S'))"
   ]
  },
  {
   "cell_type": "code",
   "execution_count": 38,
   "metadata": {},
   "outputs": [
    {
     "name": "stdout",
     "output_type": "stream",
     "text": [
      "A\n",
      "01 02 03 04 05\n",
      "Plate complete: True\n",
      "Number of wells: 5 (full plate is 5)\n"
     ]
    }
   ],
   "source": [
    "# medianImageAllPlates = pd.DataFrame()\n",
    "# meanImageAllPlates = pd.DataFrame()\n",
    "# wellmismatch = 0\n",
    "\n",
    "# DataFrameDictionary = {}s\n",
    "ObjectList = ['featICF_nuclei', 'featICF_cells', 'featICF_cytoplasm']\n",
    "nuclei = pd.read_csv(BaseDir+f'/{ObjectList[0]}.csv', sep=',').add_prefix('Nuclei_').reset_index()\n",
    "cytoplasm = pd.read_csv(BaseDir+f'/{ObjectList[1]}.csv', sep=',').add_prefix('Cytoplasm_').reset_index()\n",
    "cells = pd.read_csv(BaseDir+f'/{ObjectList[2]}.csv', sep=',').add_prefix('Cells_').reset_index()\n",
    "# step 1: Take the mean values of multiple nuclei belonging to one cell\n",
    "nuclei = nuclei.groupby([\"Nuclei_Metadata_Barcode\",\"Nuclei_Metadata_Well\",\"Nuclei_Parent_cells\", 'Nuclei_Metadata_Plane'], as_index=False).mean(numeric_only=True)\n",
    "# step 2: merge nuclei and cytoplasm objects\n",
    "df = pd.merge(nuclei, cytoplasm, how='left', left_on=['Nuclei_Metadata_Well', 'Nuclei_Metadata_Plane',\"Nuclei_Parent_cells\", 'Nuclei_Metadata_Barcode'],\n",
    "                right_on = ['Cytoplasm_Metadata_Well','Cytoplasm_Metadata_Plane', \"Cytoplasm_ObjectNumber\", 'Cytoplasm_Metadata_Barcode'])\n",
    "# step 3: join cells objects\n",
    "df = pd.merge(df, cells, how='left', left_on=['Cytoplasm_Metadata_Well','Cytoplasm_Metadata_Plane',\"Cytoplasm_ObjectNumber\", 'Cytoplasm_Metadata_Barcode'],\n",
    "                right_on = ['Cells_Metadata_Well','Cells_Metadata_Plane',\"Cells_ObjectNumber\", 'Cells_Metadata_Barcode'])\n",
    "\n",
    "#------------------- format feature names to BROAD names --------------------------------#\n",
    "first_column = df.pop('Cells_Metadata_Barcode')\n",
    "second_column = df.pop('Cells_Metadata_Well')\n",
    "third_column = df.pop('Cells_Metadata_Plane')\n",
    "\n",
    "df.insert(0, 'Metadata_Barcode', first_column)\n",
    "df.insert(1, 'Metadata_Well', second_column)\n",
    "df.insert(2, 'Metadata_Plane', third_column)\n",
    "nameargs = ['Nuclei', 'Cytoplasm', 'Cells']\n",
    "for name in nameargs:\n",
    "    df = df.loc[:,~df.columns.str.contains(name+'_Metadata_', case=True)]\n",
    "\n",
    "\n",
    "\n",
    "# ------------------ add image indentifyer for metdata and QC -----------------------------#\n",
    "df = df.loc[:,~df.columns.str.contains('Unnamed|index|Cytoplasm_Meta|Cells_Meta|Nuclei_Meta|FileName|PathName|_ImageNumber')]\n",
    "\n",
    "NrOfObjects = df.shape[0]\n",
    "Wells = sorted(list(set(df['Metadata_Well'])))\n",
    "NrOfWells = len(Wells)\n",
    "Rows = sorted(list(set([w[0] for w in Wells])))\n",
    "print(*Rows)\n",
    "NrOfRows = len(Rows)\n",
    "Columns = sorted(list(set([w[1:] for w in Wells])))\n",
    "NrOfColumns = len(Columns)\n",
    "print(*Columns)\n",
    "print('Plate complete: {}'.format(NrOfRows*NrOfColumns==NrOfWells))\n",
    "\n",
    "AllWells =[]\n",
    "for R in Rows:\n",
    "    for C in Columns:\n",
    "        RC = R + C\n",
    "        # print(RC)\n",
    "        AllWells += [RC]\n",
    "# print(len(AllWells))\n",
    "print('Number of wells: {} (full plate is {})'.format(NrOfWells, len(AllWells)))\n",
    "del nuclei\n",
    "del cytoplasm\n",
    "del cells\n",
    "gc.collect()\n",
    "df.to_parquet('{}/spheroidSingleCell.parquet'.format(OutputDir))\n"
   ]
  },
  {
   "cell_type": "code",
   "execution_count": null,
   "metadata": {},
   "outputs": [],
   "source": [
    "now = datetime.datetime.now()\n",
    "print ('Current date and time : ')\n",
    "print (now.strftime('%Y-%m-%d %H:%M:%S'))"
   ]
  }
 ],
 "metadata": {
  "kernelspec": {
   "display_name": "Python 3.8.10 64-bit",
   "language": "python",
   "name": "python3"
  },
  "language_info": {
   "codemirror_mode": {
    "name": "ipython",
    "version": 3
   },
   "file_extension": ".py",
   "mimetype": "text/x-python",
   "name": "python",
   "nbconvert_exporter": "python",
   "pygments_lexer": "ipython3",
   "version": "3.8.10"
  },
  "vscode": {
   "interpreter": {
    "hash": "916dbcbb3f70747c44a77c7bcd40155683ae19c65e1c03b4aa3499c5328201f1"
   }
  }
 },
 "nbformat": 4,
 "nbformat_minor": 4
}
