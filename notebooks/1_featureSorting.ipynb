{
 "cells": [
  {
   "cell_type": "code",
   "execution_count": 1,
   "metadata": {},
   "outputs": [
    {
     "data": {
      "text/plain": [
       "'/scratch2-shared/david/colopaint3D/notebooks'"
      ]
     },
     "execution_count": 1,
     "metadata": {},
     "output_type": "execute_result"
    }
   ],
   "source": [
    "import os\n",
    "import pandas as pd \n",
    "import numpy as np\n",
    "import os, shutil, glob\n",
    "from random import randint\n",
    "import re, math\n",
    "import datetime\n",
    "import gc\n",
    "from pathlib import Path\n",
    "\n",
    "os.getcwd()\n"
   ]
  },
  {
   "cell_type": "markdown",
   "metadata": {},
   "source": [
    "### Read data"
   ]
  },
  {
   "cell_type": "code",
   "execution_count": 2,
   "metadata": {},
   "outputs": [
    {
     "data": {
      "text/plain": [
       "['ICF_CONC.npy',\n",
       " 'ICF_HOECHST.npy',\n",
       " 'ICF_MITO.npy',\n",
       " 'ICF_PHAandWGA.npy',\n",
       " 'ICF_SYTO.npy',\n",
       " 'featICF_Image.parquet',\n",
       " 'featICF_LargeBrightArtefacts_enlarge.parquet',\n",
       " 'featICF_LargeBrightArtefacts_identify.parquet',\n",
       " 'featICF_cells.parquet',\n",
       " 'featICF_cytoplasm.parquet',\n",
       " 'featICF_nuclei.parquet',\n",
       " 'featICF_precells.parquet',\n",
       " 'featICF_prenuclei.parquet',\n",
       " 'icf_images_spher010-DLD1-L5.parquet',\n",
       " 'img']"
      ]
     },
     "execution_count": 2,
     "metadata": {},
     "output_type": "execute_result"
    }
   ],
   "source": [
    "pd.set_option(\"max_colwidth\", 2000)\n",
    "pd.set_option(\"display.max_columns\", 1000)\n",
    "pd.set_option(\"display.max_rows\", 1000)\n",
    "\n",
    "dirlist = ['/share/data/cellprofiler/automation/results/spher010-DLD1-L5/3958/5244/'\n",
    "           #, '/share/data/cellprofiler/automation/results/spher010-HCT116-L6/3943/5241/'\n",
    "           , '/share/data/cellprofiler/automation/results/spher010-HCT15-L2/3954/5246/'\n",
    "           , '/share/data/cellprofiler/automation/results/spher010-HT29-L4/3962/5247/']\n",
    "# BaseDir = '/share/data/analyses/christa/colopaint3D/pilots1-10/results_spheroid'\n",
    "BaseImgDir = '/share/mikro2/nikon/spheroid-test/pilot12-HCT116-day2/'\n",
    "# BaseDir = '/share/data/cellprofiler/automation/results/pilot12-HCT116-day2/3797/5112'\n",
    "sorted(os.listdir(dirlist[0]))"
   ]
  },
  {
   "cell_type": "markdown",
   "metadata": {},
   "source": [
    "### Input directories"
   ]
  },
  {
   "cell_type": "code",
   "execution_count": 3,
   "metadata": {},
   "outputs": [
    {
     "name": "stdout",
     "output_type": "stream",
     "text": [
      "       feature_names\n",
      "0     featICF_nuclei\n",
      "1      featICF_cells\n",
      "2  featICF_cytoplasm\n"
     ]
    }
   ],
   "source": [
    "OutputDir = 'output/spher010/1_FeaturesImages'\n",
    "if not os.path.exists(OutputDir): \n",
    "    os.makedirs(OutputDir)\n",
    "NameContains = ''\n",
    "InputFolders = pd.read_csv('./settings/filemap.csv')\n",
    "print(InputFolders )\n",
    "            \n"
   ]
  },
  {
   "cell_type": "code",
   "execution_count": 4,
   "metadata": {},
   "outputs": [
    {
     "name": "stdout",
     "output_type": "stream",
     "text": [
      "Current date and time : \n",
      "2023-10-03 12:22:39\n"
     ]
    }
   ],
   "source": [
    "now = datetime.datetime.now()\n",
    "print ('Current date and time : ')\n",
    "print (now.strftime('%Y-%m-%d %H:%M:%S'))"
   ]
  },
  {
   "cell_type": "code",
   "execution_count": 5,
   "metadata": {},
   "outputs": [],
   "source": [
    "# ObjectList = ['featICF_nuclei', 'featICF_cells', 'featICF_cytoplasm']\n",
    "# cyto = pd.read_parquet(BaseDir+f'/{ObjectList[0]}.parquet').add_prefix('Nuclei_').reset_index()\n",
    "# ncols = cyto.columns\n",
    "# for ncol in ncols:\n",
    "#     print(ncol)"
   ]
  },
  {
   "cell_type": "code",
   "execution_count": 6,
   "metadata": {},
   "outputs": [
    {
     "name": "stdout",
     "output_type": "stream",
     "text": [
      "(289709, 755)\n",
      "(219149, 725)\n",
      "(219149, 716)\n",
      "(219149, 2176)\n",
      "B C D E F G H I J K L M N O\n",
      "02 03 04 05 06 07 08 09 10 11 12 13 14 15 16 17 18 19 20 21 22 23\n",
      "Plate complete: False\n",
      "Number of wells: 271 (full plate is 308)\n",
      "spher010-DLD1-L5has NaNs: False\n",
      "(188644, 755)\n",
      "(158076, 725)\n",
      "(158076, 716)\n",
      "(158076, 2176)\n",
      "B C D E F G H I J K L M N O\n",
      "02 03 04 05 06 07 08 09 10 11 12 13 14 15 16 17 18 19 20 21 22 23\n",
      "Plate complete: False\n",
      "Number of wells: 222 (full plate is 308)\n",
      "spher010-HCT15-L2has NaNs: False\n",
      "(376567, 755)\n",
      "(311266, 725)\n",
      "(311265, 716)\n",
      "(311266, 2176)\n",
      "B C D E F G H I J K L M N O\n",
      "02 03 04 05 06 07 08 09 10 11 12 13 14 15 16 17 18 19 20 21 22 23\n",
      "Plate complete: False\n",
      "Number of wells: 241 (full plate is 308)\n",
      "spher010-HT29-L4has NaNs: False\n"
     ]
    }
   ],
   "source": [
    "# medianImageAllPlates = pd.DataFrame()\n",
    "# meanImageAllPlates = pd.DataFrame()\n",
    "# wellmismatch = 0\n",
    "df_scall = pd.DataFrame()\n",
    "df_meanall = pd.DataFrame()\n",
    "df_medianall = pd.DataFrame()\n",
    "# DataFrameDictionary = {}s\n",
    "ObjectList = ['featICF_nuclei', 'featICF_cells', 'featICF_cytoplasm']\n",
    "for BaseDir in dirlist:\n",
    "    nuclei = pd.read_parquet(BaseDir+f'/{ObjectList[0]}.parquet').add_prefix('Nuclei_').reset_index()\n",
    "    cytoplasm = pd.read_parquet(BaseDir+f'/{ObjectList[1]}.parquet').add_prefix('Cytoplasm_').reset_index()\n",
    "    cells = pd.read_parquet(BaseDir+f'/{ObjectList[2]}.parquet').add_prefix('Cells_').reset_index()\n",
    "\n",
    "    print(nuclei.shape)\n",
    "    print(cytoplasm.shape)\n",
    "    print(cells.shape)\n",
    "\n",
    "    # step 1: Take the mean values of multiple nuclei belonging to one cell\n",
    "    nuclei = nuclei.groupby([\"Nuclei_Metadata_Barcode\",\"Nuclei_Metadata_Well\",\"Nuclei_Parent_cells\", 'Nuclei_Metadata_Site'], as_index=False).mean(numeric_only=True)\n",
    "    # nuclei = nuclei.groupby([\"Nuclei_Metadata_Barcode\",\"Nuclei_Metadata_Well\",\"Nuclei_Parent_cells\", 'Nuclei_Metadata_Site'], as_index=False).mean(numeric_only=True)\n",
    "    # step 2: merge nuclei and cytoplasm objects\n",
    "    df = pd.merge(nuclei, cytoplasm, how='left', left_on=['Nuclei_Metadata_Well', 'Nuclei_Metadata_Site',\"Nuclei_Parent_cells\", 'Nuclei_Metadata_Barcode'],\n",
    "                    right_on = ['Cytoplasm_Metadata_Well','Cytoplasm_Metadata_Site', \"Cytoplasm_ObjectNumber\", 'Cytoplasm_Metadata_Barcode'])\n",
    "    # step 3: join cells objects\n",
    "    df = pd.merge(df, cells, how='left', left_on=['Cytoplasm_Metadata_Well','Cytoplasm_Metadata_Site',\"Cytoplasm_ObjectNumber\", 'Cytoplasm_Metadata_Barcode'],\n",
    "                    right_on = ['Cells_Metadata_Well','Cells_Metadata_Site',\"Cells_ObjectNumber\", 'Cells_Metadata_Barcode'])\n",
    "\n",
    "\n",
    "    # # DataFrameDictionary = {}s\n",
    "    # ObjectList = ['featICF_cytoplasm', 'featICF_nuclei', 'featICF_cells']\n",
    "    # cyto = pd.read_parquet(BaseDir+f'/{ObjectList[0]}.parquet').add_prefix('Cytoplasm_').reset_index()\n",
    "    # nuclei = pd.read_parquet(BaseDir+f'/{ObjectList[1]}.parquet').add_prefix('Nuclei_').reset_index()\n",
    "    # cells = pd.read_parquet(BaseDir+f'/{ObjectList[2]}.parquet').add_prefix('Cells_').reset_index()\n",
    "\n",
    "    # print(cyto.shape)\n",
    "    # print(nuclei.shape)\n",
    "    # print(cells.shape)\n",
    "\n",
    "    # # step 1: Take the mean values of multiple nuclei belonging to one cell\n",
    "    # cyto = cyto.groupby([\"Cytoplasm_Metadata_Barcode\",\"Cytoplasm_Metadata_Well\",\"Cytoplasm_Parent_cells\", 'Cytoplasm_Metadata_Site'], as_index=False).mean(numeric_only=True)\n",
    "    # # step 2: merge nuclei and cytoplasm objects\n",
    "    # df = pd.merge(cyto, nuclei, how='left', left_on=['Cytoplasm_Metadata_Well', 'Cytoplasm_Metadata_Site',\"Cytoplasm_Parent_cells\", 'Cytoplasm_Metadata_Barcode'],\n",
    "    #                 right_on = ['Nuclei_Metadata_Well','Nuclei_Metadata_Site', \"Nuclei_ObjectNumber\", 'Nuclei_Metadata_Barcode'])\n",
    "    # # step 3: join cells objects\n",
    "    # df = pd.merge(df, cells, how='left', left_on=['Nuclei_Metadata_Well','Nuclei_Metadata_Site',\"Nuclei_ObjectNumber\", 'Nuclei_Metadata_Barcode'],\n",
    "    #                 right_on = ['Cells_Metadata_Well','Cells_Metadata_Site',\"Cells_ObjectNumber\", 'Cells_Metadata_Barcode'])\n",
    "\n",
    "    print(df.shape)\n",
    "    #------------------- format feature names to BROAD names --------------------------------#\n",
    "    first_column = df.pop('Cytoplasm_Metadata_Barcode')\n",
    "    second_column = df.pop('Cytoplasm_Metadata_Well')\n",
    "    third_column = df.pop('Cytoplasm_Metadata_Site')\n",
    "\n",
    "    df.insert(0, 'Metadata_Barcode', first_column)\n",
    "    df.insert(1, 'Metadata_Well', second_column)\n",
    "    df.insert(2, 'Metadata_Site', third_column)\n",
    "    nameargs = ['Nuclei', 'Cytoplasm', 'Cells']\n",
    "    for name in nameargs:\n",
    "        df = df.loc[:,~df.columns.str.contains(name+'_Metadata_', case=True)]\n",
    "\n",
    "\n",
    "\n",
    "    # ------------------ add image indentifyer for metdata and QC -----------------------------#\n",
    "    df = df.loc[:,~df.columns.str.contains('Unnamed|index|Cytoplasm_Meta|Cells_Meta|Nuclei_Meta|FileName|PathName|_ImageNumber')]\n",
    "\n",
    "    NrOfObjects = df.shape[0]\n",
    "    # print(df['Metadata_Well'])\n",
    "    # Wells = sorted(set(df['Metadata_Well']))\n",
    "    Wells = sorted(list(set(df['Metadata_Well'])))\n",
    "    NrOfWells = len(Wells)\n",
    "    Rows = sorted(list(set([w[0] for w in Wells])))\n",
    "    print(*Rows)\n",
    "    NrOfRows = len(Rows)\n",
    "    Columns = sorted(list(set([w[1:] for w in Wells])))\n",
    "    NrOfColumns = len(Columns)\n",
    "    print(*Columns)\n",
    "    print('Plate complete: {}'.format(NrOfRows*NrOfColumns==NrOfWells))\n",
    "\n",
    "    AllWells =[]\n",
    "    for R in Rows:\n",
    "        for C in Columns:\n",
    "            RC = R + C\n",
    "            # print(RC)\n",
    "            AllWells += [RC]\n",
    "    # print(len(AllWells))\n",
    "    print('Number of wells: {} (full plate is {})'.format(NrOfWells, len(AllWells)))\n",
    "    # del nuclei\n",
    "    # del cytoplasm\n",
    "    # del cells\n",
    "    dfdb = df.head()\n",
    "    numeric_df = df.select_dtypes(include=[np.number])\n",
    "\n",
    "    ### Clipping Outliers, NaNs, and Infs\n",
    "    medians = numeric_df.median(skipna=True)\n",
    "    psu = numeric_df.apply(lambda x: np.nanpercentile(x[x != np.inf], 99), axis=0)\n",
    "    psl = numeric_df.apply(lambda x: np.nanpercentile(x[x != np.inf], 1), axis=0)\n",
    "    numeric_df.fillna(medians, inplace=True)\n",
    "    numeric_df.replace(np.inf, psu, inplace=True)\n",
    "    numeric_df.clip(upper=psu, lower=psl, axis=1, inplace=True)\n",
    "    df[numeric_df.columns] = numeric_df\n",
    "    df = df.copy()\n",
    "    # print(df.)\n",
    "\n",
    "    ### Adding additional Metadata\n",
    "    target1 = pd.DataFrame()\n",
    "    target2 = pd.DataFrame()\n",
    "    target3 = pd.DataFrame()\n",
    "    metaEx = pd.read_csv('/home/jovyan/scratch2-shared/david/colopaint3D/notebooks/settings/spher010-metadata.csv', sep=',')\n",
    "\n",
    "    barcode = df['Metadata_Barcode'].unique()[0]\n",
    "    metaEx = metaEx[~(metaEx['Metadata_Barcode'] == df['Metadata_Barcode'].unique()[0])]\n",
    "\n",
    "    target1['Metadata_Cmpd'] = df['Metadata_Well'].apply(lambda x: metaEx.loc[metaEx['well_id'] == x, 'cmpdname'].values[0])\n",
    "    df.insert(3, 'Metadata_Cmpd', target1['Metadata_Cmpd'])\n",
    "    target2['Metadata_Line'] = df['Metadata_Well'].apply(lambda x: metaEx.loc[metaEx['well_id'] == x, 'cell_line'].values[0])\n",
    "    df.insert(4, 'Metadata_Line', target2['Metadata_Line'])\n",
    "    target1['Metadata_Moa'] = df['Metadata_Well'].apply(lambda x: metaEx.loc[metaEx['well_id'] == x, 'moa'].values[0])\n",
    "    df.insert(5, 'Metadata_Moa', target1['Metadata_Moa'])\n",
    "    \n",
    "    df = df.copy()\n",
    "    del target1\n",
    "    del target2\n",
    "    del target3\n",
    "    del metaEx\n",
    "    gc.collect()\n",
    "\n",
    "    ### Standardizing to DMSO within Plate.\n",
    "    df_dmso = df[(df['Metadata_Cmpd'] == 'dmso')]\n",
    "    df_dmso = df_dmso.select_dtypes(include=np.number)\n",
    "    df_dmso = df_dmso.loc[:,~df_dmso.columns.str.contains('Metadata_', case=True)]\n",
    "    std_values = df_dmso.std(skipna=True)\n",
    "    std_values[std_values == 0] = 1\n",
    "    mean_values = df_dmso.mean(skipna=True)\n",
    "\n",
    "    df_norm = df.select_dtypes(include=np.number)\n",
    "    df_norm = df_norm.loc[:,~df_norm.columns.str.contains('Metadata_', case=True)]\n",
    "    df_norm = ((df_norm - mean_values) / std_values)\n",
    "    df[df_norm.columns] = df_norm\n",
    "    df = df.copy()\n",
    "\n",
    "    del nuclei\n",
    "    del cytoplasm\n",
    "    del cells\n",
    "\n",
    "    df.to_parquet('{}/spheroid{}SingleCell.parquet'.format(OutputDir, df['Metadata_Barcode'].unique()[0]))\n",
    "    # df_scall = pd.concat([df_scall, df], ignore_index=True)\n",
    "    toNpy = df.loc[:,~df.columns.str.contains('Metadata_')]\n",
    "    toNpy.reset_index(inplace=True, drop=True)\n",
    "    toNpy = toNpy.copy()\n",
    "    dataNpy = toNpy.to_numpy()\n",
    "    print(f'{df[\"Metadata_Barcode\"].unique()[0]}has NaNs: {np.isnan(dataNpy).any()}')\n",
    "\n",
    "    ### Mean and Median compositions\n",
    "    df['Metadata_ID'] = df['Metadata_Barcode'] + '+' + df['Metadata_Well'] + '+' + df['Metadata_Cmpd']\n",
    "    metadf = pd.DataFrame()\n",
    "    dictMedian = { i : np.nanmedian for i in numeric_df}\n",
    "    mediandf = df.groupby('Metadata_ID').agg(dictMedian).reset_index(drop=False)\n",
    "    metadatacol = mediandf.pop('Metadata_ID')\n",
    "    metadf[['Metadata_Barcode','Metadata_Well','Metadata_Cmpd']] = metadatacol.str.split('+', expand=True)\n",
    "    mediandf.insert(0, 'Metadata_Barcode', metadf['Metadata_Barcode'])\n",
    "    mediandf.insert(1, 'Metadata_Well', metadf['Metadata_Well'])\n",
    "    mediandf.insert(2, 'Metadata_Cmpd', metadf['Metadata_Cmpd'])\n",
    "\n",
    "    dictMean = { i : np.nanmean for i in numeric_df}\n",
    "    meandf = df.groupby('Metadata_ID').agg(dictMean).reset_index(drop=False)\n",
    "    metadatacol = meandf.pop('Metadata_ID')\n",
    "    metadf[['Metadata_Barcode','Metadata_Well','Metadata_Cmpd']] = metadatacol.str.split('+', expand=True)\n",
    "    meandf.insert(0, 'Metadata_Barcode', metadf['Metadata_Barcode'])\n",
    "    meandf.insert(1, 'Metadata_Well', metadf['Metadata_Well'])\n",
    "    meandf.insert(2, 'Metadata_Cmpd', metadf['Metadata_Cmpd'])\n",
    "    del metadatacol\n",
    "    del metadf\n",
    "    gc.collect()\n",
    "\n",
    "    mediandf.to_parquet('{}/spheroid{}Median.parquet'.format(OutputDir, df['Metadata_Barcode'].unique()[0]))\n",
    "    meandf.to_parquet('{}/spheroid{}Mean.parquet'.format(OutputDir, df['Metadata_Barcode'].unique()[0]))\n",
    "    df_meanall = pd.concat([df_meanall, meandf], ignore_index=True)\n",
    "    df_medianll = pd.concat([df_medianall, mediandf], ignore_index=True)\n",
    "    \n",
    "    # # del df\n",
    "    # del mediandf\n",
    "    # del meandf\n",
    "    gc.collect()\n",
    "# df_scall.to_parquet('{}/spheroidSingleCell.parquet'.format(OutputDir))\n",
    "# df_meanall.to_parquet('{}/spheroidMean.parquet'.format(OutputDir))\n",
    "# df_medianall.to_parquet('{}/spheroidMedian.parquet'.format(OutputDir))"
   ]
  },
  {
   "cell_type": "code",
   "execution_count": 7,
   "metadata": {},
   "outputs": [
    {
     "name": "stdout",
     "output_type": "stream",
     "text": [
      "Current date and time : \n",
      "2023-10-03 12:36:22\n"
     ]
    }
   ],
   "source": [
    "now = datetime.datetime.now()\n",
    "print ('Current date and time : ')\n",
    "print (now.strftime('%Y-%m-%d %H:%M:%S'))"
   ]
  },
  {
   "cell_type": "code",
   "execution_count": 8,
   "metadata": {},
   "outputs": [],
   "source": [
    "# df_scall.head()"
   ]
  },
  {
   "cell_type": "code",
   "execution_count": 9,
   "metadata": {},
   "outputs": [],
   "source": [
    "# df_meanall.head()"
   ]
  },
  {
   "cell_type": "code",
   "execution_count": 10,
   "metadata": {},
   "outputs": [],
   "source": [
    "# toNpy = df_scall.loc[:,~df_scall.columns.str.contains('Metadata_')]\n",
    "# toNpy.reset_index(inplace=True, drop=True)\n",
    "# toNpy = toNpy.copy()\n",
    "# dataNpy = toNpy.to_numpy()\n",
    "# np.isnan(dataNpy).any()\n",
    "# colnames = toNpy.columns"
   ]
  },
  {
   "cell_type": "code",
   "execution_count": null,
   "metadata": {},
   "outputs": [],
   "source": []
  },
  {
   "cell_type": "code",
   "execution_count": null,
   "metadata": {},
   "outputs": [],
   "source": []
  }
 ],
 "metadata": {
  "kernelspec": {
   "display_name": "Python 3.8.10 64-bit",
   "language": "python",
   "name": "python3"
  },
  "language_info": {
   "codemirror_mode": {
    "name": "ipython",
    "version": 3
   },
   "file_extension": ".py",
   "mimetype": "text/x-python",
   "name": "python",
   "nbconvert_exporter": "python",
   "pygments_lexer": "ipython3",
   "version": "3.8.10"
  },
  "vscode": {
   "interpreter": {
    "hash": "916dbcbb3f70747c44a77c7bcd40155683ae19c65e1c03b4aa3499c5328201f1"
   }
  }
 },
 "nbformat": 4,
 "nbformat_minor": 4
}
