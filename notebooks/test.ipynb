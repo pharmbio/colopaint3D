{
 "cells": [
  {
   "cell_type": "code",
   "execution_count": null,
   "metadata": {},
   "outputs": [],
   "source": [
    "dict1 = {\"A\" : \"1\",\n",
    "         \"B\" : \"2\",\n",
    "         \"C\" : \"3\",\n",
    "         }\n",
    "dict2 = {\"1\" : \"a\",\n",
    "         \"2\" : \"b\",\n",
    "         \"3\" : \"c\",\n",
    "         }"
   ]
  }
 ],
 "metadata": {
  "language_info": {
   "name": "python"
  },
  "orig_nbformat": 4
 },
 "nbformat": 4,
 "nbformat_minor": 2
}
