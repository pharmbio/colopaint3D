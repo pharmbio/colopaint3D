{
 "cells": [
  {
   "cell_type": "code",
   "execution_count": 1,
   "metadata": {},
   "outputs": [
    {
     "data": {
      "text/plain": [
       "'/scratch2-shared/david/lcpnotebooks'"
      ]
     },
     "execution_count": 1,
     "metadata": {},
     "output_type": "execute_result"
    }
   ],
   "source": [
    "import os\n",
    "import pandas as pd \n",
    "import numpy as np\n",
    "from sklearn.decomposition import PCA\n",
    "from sklearn.decomposition import KernelPCA as KPCA\n",
    "from sklearn.cross_decomposition import PLSCanonical, PLSRegression, CCA\n",
    "from sklearn.preprocessing import StandardScaler\n",
    "from sklearn.model_selection import cross_validate, cross_val_score\n",
    "from sklearn.manifold import TSNE\n",
    "import matplotlib  as mpl\n",
    "import matplotlib.pyplot as plt\n",
    "plt.rcParams.update({'figure.max_open_warning': 0})\n",
    "from matplotlib.patches import Ellipse\n",
    "import matplotlib.transforms as transforms\n",
    "%matplotlib inline\n",
    "import os, shutil, glob\n",
    "from PIL import Image\n",
    "from itertools import cycle\n",
    "from random import randint\n",
    "import re, math\n",
    "import seaborn as sns; sns.set_style(\"white\")\n",
    "import umap as umap\n",
    "import datetime\n",
    "import gc\n",
    "from pathlib import Path\n",
    "\n",
    "# import plotnine as gg\n",
    "# from cytominer_eval import evaluate\n",
    "import plotly.graph_objects as go\n",
    "import plotly.offline as pyo\n",
    "import plotly.io as pio\n",
    "pio.renderers\n",
    "import shutil as shutil\n",
    "os.getcwd()"
   ]
  },
  {
   "cell_type": "code",
   "execution_count": 2,
   "metadata": {},
   "outputs": [],
   "source": [
    "fileMap = pd.read_csv('AnalysisDavid.csv', sep=',')\n",
    "fileMap.sort_values('time-point', ignore_index=True, inplace=True)"
   ]
  },
  {
   "cell_type": "code",
   "execution_count": 3,
   "metadata": {},
   "outputs": [
    {
     "name": "stdout",
     "output_type": "stream",
     "text": [
      "tp-01\n"
     ]
    },
    {
     "ename": "FileNotFoundError",
     "evalue": "[Errno 2] No such file or directory: 'ClusterPlots/trained_on_ctrs_nobzcl_noIRD_noCASPTOTO3_TOTO3CASP_circles_rawIn/highC/tp-01/5pp.png'",
     "output_type": "error",
     "traceback": [
      "\u001b[0;31m---------------------------------------------------------------------------\u001b[0m",
      "\u001b[0;31mFileNotFoundError\u001b[0m                         Traceback (most recent call last)",
      "\u001b[1;32m/home/jovyan/scratch2-shared/david/lcpnotebooks/6_movePlotsforExport.ipynb Cell 3\u001b[0m in \u001b[0;36m<module>\u001b[0;34m\u001b[0m\n\u001b[1;32m      <a href='vscode-notebook-cell://k8s-container%2Bcontext%3Dk8s-prod-pharmbio%2Bpodname%3Ddavid-notebook-brolin-gpu-546b7f6875-hs9ff%2Bnamespace%3Dlabinf%2Bname%3Ddavid-notebook-brolin-gpu%2Bimage%3Dghcr.io%252fpharmbio%252fpharmbio-notebook%253atf-2.8.0-pytorch-gpu/home/jovyan/scratch2-shared/david/lcpnotebooks/6_movePlotsforExport.ipynb#W2sdnNjb2RlLXJlbW90ZQ%3D%3D?line=5'>6</a>\u001b[0m \u001b[39mif\u001b[39;00m \u001b[39mnot\u001b[39;00m os\u001b[39m.\u001b[39mpath\u001b[39m.\u001b[39mexists(outputDir1):\n\u001b[1;32m      <a href='vscode-notebook-cell://k8s-container%2Bcontext%3Dk8s-prod-pharmbio%2Bpodname%3Ddavid-notebook-brolin-gpu-546b7f6875-hs9ff%2Bnamespace%3Dlabinf%2Bname%3Ddavid-notebook-brolin-gpu%2Bimage%3Dghcr.io%252fpharmbio%252fpharmbio-notebook%253atf-2.8.0-pytorch-gpu/home/jovyan/scratch2-shared/david/lcpnotebooks/6_movePlotsforExport.ipynb#W2sdnNjb2RlLXJlbW90ZQ%3D%3D?line=6'>7</a>\u001b[0m     os\u001b[39m.\u001b[39mmakedirs(outputDir1)\n\u001b[0;32m----> <a href='vscode-notebook-cell://k8s-container%2Bcontext%3Dk8s-prod-pharmbio%2Bpodname%3Ddavid-notebook-brolin-gpu-546b7f6875-hs9ff%2Bnamespace%3Dlabinf%2Bname%3Ddavid-notebook-brolin-gpu%2Bimage%3Dghcr.io%252fpharmbio%252fpharmbio-notebook%253atf-2.8.0-pytorch-gpu/home/jovyan/scratch2-shared/david/lcpnotebooks/6_movePlotsforExport.ipynb#W2sdnNjb2RlLXJlbW90ZQ%3D%3D?line=7'>8</a>\u001b[0m shutil\u001b[39m.\u001b[39;49mcopy(\u001b[39m'\u001b[39;49m\u001b[39mClusterPlots/\u001b[39;49m\u001b[39m{}\u001b[39;49;00m\u001b[39m/highC/\u001b[39;49m\u001b[39m{}\u001b[39;49;00m\u001b[39m/5pp.png\u001b[39;49m\u001b[39m'\u001b[39;49m\u001b[39m.\u001b[39;49mformat(variant, file[\u001b[39m'\u001b[39;49m\u001b[39mtime-point\u001b[39;49m\u001b[39m'\u001b[39;49m]), \u001b[39m'\u001b[39;49m\u001b[39m{}\u001b[39;49;00m\u001b[39m/\u001b[39;49m\u001b[39m{}\u001b[39;49;00m\u001b[39m.png\u001b[39;49m\u001b[39m'\u001b[39;49m\u001b[39m.\u001b[39;49mformat(outputDir1,file[\u001b[39m'\u001b[39;49m\u001b[39mtime-point\u001b[39;49m\u001b[39m'\u001b[39;49m]))\n\u001b[1;32m      <a href='vscode-notebook-cell://k8s-container%2Bcontext%3Dk8s-prod-pharmbio%2Bpodname%3Ddavid-notebook-brolin-gpu-546b7f6875-hs9ff%2Bnamespace%3Dlabinf%2Bname%3Ddavid-notebook-brolin-gpu%2Bimage%3Dghcr.io%252fpharmbio%252fpharmbio-notebook%253atf-2.8.0-pytorch-gpu/home/jovyan/scratch2-shared/david/lcpnotebooks/6_movePlotsforExport.ipynb#W2sdnNjb2RlLXJlbW90ZQ%3D%3D?line=8'>9</a>\u001b[0m \u001b[39m# shutil.copy('DrugTrajectories/{}/highC/'.format(variant, file['time-point']), '{}/{}.png'.format(outputDir2,file['time-point']))\u001b[39;00m\n\u001b[1;32m     <a href='vscode-notebook-cell://k8s-container%2Bcontext%3Dk8s-prod-pharmbio%2Bpodname%3Ddavid-notebook-brolin-gpu-546b7f6875-hs9ff%2Bnamespace%3Dlabinf%2Bname%3Ddavid-notebook-brolin-gpu%2Bimage%3Dghcr.io%252fpharmbio%252fpharmbio-notebook%253atf-2.8.0-pytorch-gpu/home/jovyan/scratch2-shared/david/lcpnotebooks/6_movePlotsforExport.ipynb#W2sdnNjb2RlLXJlbW90ZQ%3D%3D?line=9'>10</a>\u001b[0m \u001b[39m# os.system('cp -rv ./ClusterPlots/trained_ctrls/{}/10pp.png ./ClusterPlotExport/trained_on_ctrls/10pp/{}.png'.format(file['time-point'], file['time-point']))\u001b[39;00m\n\u001b[1;32m     <a href='vscode-notebook-cell://k8s-container%2Bcontext%3Dk8s-prod-pharmbio%2Bpodname%3Ddavid-notebook-brolin-gpu-546b7f6875-hs9ff%2Bnamespace%3Dlabinf%2Bname%3Ddavid-notebook-brolin-gpu%2Bimage%3Dghcr.io%252fpharmbio%252fpharmbio-notebook%253atf-2.8.0-pytorch-gpu/home/jovyan/scratch2-shared/david/lcpnotebooks/6_movePlotsforExport.ipynb#W2sdnNjb2RlLXJlbW90ZQ%3D%3D?line=10'>11</a>\u001b[0m \u001b[39mprint\u001b[39m(\u001b[39m'\u001b[39m\u001b[39mdone?\u001b[39m\u001b[39m'\u001b[39m)\n",
      "File \u001b[0;32m/usr/lib/python3.8/shutil.py:418\u001b[0m, in \u001b[0;36mcopy\u001b[0;34m(src, dst, follow_symlinks)\u001b[0m\n\u001b[1;32m    416\u001b[0m \u001b[39mif\u001b[39;00m os\u001b[39m.\u001b[39mpath\u001b[39m.\u001b[39misdir(dst):\n\u001b[1;32m    417\u001b[0m     dst \u001b[39m=\u001b[39m os\u001b[39m.\u001b[39mpath\u001b[39m.\u001b[39mjoin(dst, os\u001b[39m.\u001b[39mpath\u001b[39m.\u001b[39mbasename(src))\n\u001b[0;32m--> 418\u001b[0m copyfile(src, dst, follow_symlinks\u001b[39m=\u001b[39;49mfollow_symlinks)\n\u001b[1;32m    419\u001b[0m copymode(src, dst, follow_symlinks\u001b[39m=\u001b[39mfollow_symlinks)\n\u001b[1;32m    420\u001b[0m \u001b[39mreturn\u001b[39;00m dst\n",
      "File \u001b[0;32m/usr/lib/python3.8/shutil.py:264\u001b[0m, in \u001b[0;36mcopyfile\u001b[0;34m(src, dst, follow_symlinks)\u001b[0m\n\u001b[1;32m    262\u001b[0m     os\u001b[39m.\u001b[39msymlink(os\u001b[39m.\u001b[39mreadlink(src), dst)\n\u001b[1;32m    263\u001b[0m \u001b[39melse\u001b[39;00m:\n\u001b[0;32m--> 264\u001b[0m     \u001b[39mwith\u001b[39;00m \u001b[39mopen\u001b[39;49m(src, \u001b[39m'\u001b[39;49m\u001b[39mrb\u001b[39;49m\u001b[39m'\u001b[39;49m) \u001b[39mas\u001b[39;00m fsrc, \u001b[39mopen\u001b[39m(dst, \u001b[39m'\u001b[39m\u001b[39mwb\u001b[39m\u001b[39m'\u001b[39m) \u001b[39mas\u001b[39;00m fdst:\n\u001b[1;32m    265\u001b[0m         \u001b[39m# macOS\u001b[39;00m\n\u001b[1;32m    266\u001b[0m         \u001b[39mif\u001b[39;00m _HAS_FCOPYFILE:\n\u001b[1;32m    267\u001b[0m             \u001b[39mtry\u001b[39;00m:\n",
      "\u001b[0;31mFileNotFoundError\u001b[0m: [Errno 2] No such file or directory: 'ClusterPlots/trained_on_ctrs_nobzcl_noIRD_noCASPTOTO3_TOTO3CASP_circles_rawIn/highC/tp-01/5pp.png'"
     ]
    }
   ],
   "source": [
    "for ind, file in fileMap.iterrows():\n",
    "    print(file['time-point'])\n",
    "    variant = 'trained_on_ctrs_nobzcl_noIRD_noCASPTOTO3_TOTO3CASP_circles_rawIn'\n",
    "    outputDir1 = 'ClusterPlotExport/{}/clusterplots/highC'.format(variant)\n",
    "    outputDir2 = 'ClusterPlotExport/{}/trajectoryplots/highC'.format(variant)\n",
    "    if not os.path.exists(outputDir1):\n",
    "        os.makedirs(outputDir1)\n",
    "    shutil.copy('ClusterPlots/{}/highC/{}/10pp.png'.format(variant, file['time-point']), '{}/{}.png'.format(outputDir1,file['time-point']))\n",
    "    # shutil.copy('DrugTrajectories/{}/highC/'.format(variant, file['time-point']), '{}/{}.png'.format(outputDir2,file['time-point']))\n",
    "    # os.system('cp -rv ./ClusterPlots/trained_ctrls/{}/10pp.png ./ClusterPlotExport/trained_on_ctrls/10pp/{}.png'.format(file['time-point'], file['time-point']))\n",
    "    print('done?')"
   ]
  },
  {
   "cell_type": "code",
   "execution_count": null,
   "metadata": {},
   "outputs": [],
   "source": []
  },
  {
   "cell_type": "code",
   "execution_count": null,
   "metadata": {},
   "outputs": [],
   "source": []
  }
 ],
 "metadata": {
  "kernelspec": {
   "display_name": "Python 3",
   "language": "python",
   "name": "python3"
  },
  "language_info": {
   "codemirror_mode": {
    "name": "ipython",
    "version": 3
   },
   "file_extension": ".py",
   "mimetype": "text/x-python",
   "name": "python",
   "nbconvert_exporter": "python",
   "pygments_lexer": "ipython3",
   "version": "3.8.10"
  },
  "orig_nbformat": 4,
  "vscode": {
   "interpreter": {
    "hash": "916dbcbb3f70747c44a77c7bcd40155683ae19c65e1c03b4aa3499c5328201f1"
   }
  }
 },
 "nbformat": 4,
 "nbformat_minor": 2
}
