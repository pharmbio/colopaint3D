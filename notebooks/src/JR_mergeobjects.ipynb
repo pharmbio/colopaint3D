{
 "cells": [
  {
   "cell_type": "code",
   "execution_count": 1,
   "metadata": {},
   "outputs": [],
   "source": [
    "import os\n",
    "import glob\n",
    "import pandas as pd\n",
    "import numpy as np\n",
    "import pycytominer\n",
    "import pyarrow.parquet as pq\n",
    "\n",
    "os.chdir('./output/')"
   ]
  },
  {
   "cell_type": "code",
   "execution_count": 2,
   "metadata": {},
   "outputs": [],
   "source": [
    "# return a list of unique plates in dataset\n",
    "def dividePlates(lst):\n",
    "    dct = {}\n",
    " \n",
    "    for p in lst:\n",
    "        acqID = p.split('/')[6]\n",
    "        \n",
    "        if acqID not in dct:\n",
    "            dct[(acqID)] = acqID\n",
    "     \n",
    "    res = []\n",
    "    \n",
    "    for key in sorted(dct):\n",
    "        res.append(dct[key])\n",
    "     \n",
    "    return res"
   ]
  },
  {
   "cell_type": "code",
   "execution_count": 3,
   "metadata": {},
   "outputs": [],
   "source": [
    "path = \"/share/data/cellprofiler/automation/results/\"\n",
    "\n",
    "feat_folder = path + 'EDC*120*P*'\n",
    "cells = sorted(glob.glob(feat_folder + '/*/*/featICF_cells*')) \n",
    "cyto = sorted(glob.glob(feat_folder + '/*/*/featICF_cyto*')) \n",
    "nuclei = sorted(glob.glob(feat_folder + '/*/*/featICF_nuclei*')) "
   ]
  },
  {
   "cell_type": "code",
   "execution_count": 4,
   "metadata": {
    "tags": []
   },
   "outputs": [
    {
     "data": {
      "text/plain": [
       "['EDC-v2-FA-MCF7-120h-P3-L1',\n",
       " 'EDC-v2-FA-MCF7-120h-P4-L2',\n",
       " 'EDC-v3-FA-MCF7-120h-P1-L1',\n",
       " 'EDC-v3-FA-MCF7-120h-P2-L1']"
      ]
     },
     "execution_count": 4,
     "metadata": {},
     "output_type": "execute_result"
    }
   ],
   "source": [
    "list_of_plates = dividePlates(cells)\n",
    "#list_of_plates = list_of_plates[0:2] + list_of_plates[4:5]\n",
    "\n",
    "list_of_plates"
   ]
  },
  {
   "cell_type": "code",
   "execution_count": 5,
   "metadata": {
    "tags": []
   },
   "outputs": [
    {
     "data": {
      "text/plain": [
       "{'EDC-v2-FA-MCF7-120h-P3-L1': ['/share/data/cellprofiler/automation/results/EDC-v2-FA-MCF7-120h-P3-L1/2963/3110/featICF_nuclei.parquet',\n",
       "  '/share/data/cellprofiler/automation/results/EDC-v2-FA-MCF7-120h-P3-L1/2963/3110/featICF_cytoplasm.parquet',\n",
       "  '/share/data/cellprofiler/automation/results/EDC-v2-FA-MCF7-120h-P3-L1/2963/3110/featICF_cells.parquet'],\n",
       " 'EDC-v2-FA-MCF7-120h-P4-L2': ['/share/data/cellprofiler/automation/results/EDC-v2-FA-MCF7-120h-P4-L2/2918/2765/featICF_nuclei.parquet',\n",
       "  '/share/data/cellprofiler/automation/results/EDC-v2-FA-MCF7-120h-P4-L2/2918/2765/featICF_cytoplasm.parquet',\n",
       "  '/share/data/cellprofiler/automation/results/EDC-v2-FA-MCF7-120h-P4-L2/2918/2765/featICF_cells.parquet'],\n",
       " 'EDC-v3-FA-MCF7-120h-P1-L1': ['/share/data/cellprofiler/automation/results/EDC-v3-FA-MCF7-120h-P1-L1/2966/3149/featICF_nuclei.parquet',\n",
       "  '/share/data/cellprofiler/automation/results/EDC-v3-FA-MCF7-120h-P1-L1/2966/3149/featICF_cytoplasm.parquet',\n",
       "  '/share/data/cellprofiler/automation/results/EDC-v3-FA-MCF7-120h-P1-L1/2966/3149/featICF_cells.parquet'],\n",
       " 'EDC-v3-FA-MCF7-120h-P2-L1': ['/share/data/cellprofiler/automation/results/EDC-v3-FA-MCF7-120h-P2-L1/2965/3148/featICF_nuclei.parquet',\n",
       "  '/share/data/cellprofiler/automation/results/EDC-v3-FA-MCF7-120h-P2-L1/2965/3148/featICF_cytoplasm.parquet',\n",
       "  '/share/data/cellprofiler/automation/results/EDC-v3-FA-MCF7-120h-P2-L1/2965/3148/featICF_cells.parquet']}"
      ]
     },
     "execution_count": 5,
     "metadata": {},
     "output_type": "execute_result"
    }
   ],
   "source": [
    "d = {}\n",
    "\n",
    "for plate in list_of_plates:\n",
    "    \n",
    "    selected_features = []\n",
    "    \n",
    "    #nuclei\n",
    "    all_nuclei = [s for s in nuclei if plate in s]\n",
    "    sel_nuclei = max(all_nuclei , key = os.path.getctime)\n",
    "    selected_features.append(sel_nuclei)\n",
    "    \n",
    "    #cytoplasm\n",
    "    all_cyto = [s for s in cyto if plate in s]\n",
    "    sel_cyto = max(all_cyto , key = os.path.getctime)\n",
    "    selected_features.append(sel_cyto)\n",
    "    \n",
    "    #cells\n",
    "    all_cells = [s for s in cells if plate in s]\n",
    "    sel_cells = max(all_cells , key = os.path.getctime)\n",
    "    selected_features.append(sel_cells)\n",
    "\n",
    "    d[plate] = selected_features\n",
    "    \n",
    "\n",
    "d"
   ]
  },
  {
   "cell_type": "code",
   "execution_count": 6,
   "metadata": {},
   "outputs": [
    {
     "name": "stdout",
     "output_type": "stream",
     "text": [
      "03/25/23 23:25:38\n"
     ]
    }
   ],
   "source": [
    "import datetime\n",
    "x = datetime.datetime.now()\n",
    "date = (x.strftime(\"%x\")) \n",
    "time = (x.strftime(\"%X\")) \n",
    "\n",
    "print(date, time)"
   ]
  },
  {
   "cell_type": "code",
   "execution_count": 7,
   "metadata": {},
   "outputs": [
    {
     "name": "stdout",
     "output_type": "stream",
     "text": [
      "plate EDC-v2-FA-MCF7-120h-P3-L1 contains a total of 356784 rows\n",
      "plate EDC-v2-FA-MCF7-120h-P4-L2 contains a total of 795017 rows\n",
      "plate EDC-v3-FA-MCF7-120h-P1-L1 contains a total of 67425 rows\n",
      "plate EDC-v3-FA-MCF7-120h-P2-L1 contains a total of 203853 rows\n"
     ]
    }
   ],
   "source": [
    "collected_df = []\n",
    "\n",
    "for i, key in enumerate(d):\n",
    "    \n",
    "    n =  (d[key][0])\n",
    "    cy = (d[key][1])\n",
    "    ce = (d[key][2])\n",
    "    nuclei = pd.read_parquet(n).add_prefix('Nuclei_').reset_index()\n",
    "    cytoplasm = pd.read_parquet(cy).add_prefix('Cytoplasm_').reset_index()\n",
    "    cells = pd.read_parquet(ce).add_prefix('Cells_').reset_index()\n",
    "    \n",
    "    #------------------- MERGE NUCLEI CYTOPLASM AND CELL objects ----------------#\n",
    "    \n",
    "    # step 1: Take the mean values of multiple nuclei belonging to one cell\n",
    "    nuclei = nuclei.groupby([\"Nuclei_Metadata_Barcode\",\"Nuclei_Metadata_Well\",\"Nuclei_Metadata_Site\",\"Nuclei_Parent_cells\"]).mean()\n",
    "    \n",
    "    # step 2: merge nuclei and cytoplasm objects\n",
    "    new_df = pd.merge(nuclei, cytoplasm, how='left', left_on=['Nuclei_Metadata_Barcode','Nuclei_Metadata_Well',\"Nuclei_Metadata_Site\",\"Nuclei_Parent_cells\"],\n",
    "                  right_on = ['Cytoplasm_Metadata_Barcode','Cytoplasm_Metadata_Well',\"Cytoplasm_Metadata_Site\",\"Cytoplasm_ObjectNumber\"])\n",
    "    # step 3: join cells objects\n",
    "    new_df = pd.merge(new_df, cells, how='left', left_on=['Cytoplasm_Metadata_Barcode','Cytoplasm_Metadata_Well',\"Cytoplasm_Metadata_Site\",\"Cytoplasm_ObjectNumber\"],\n",
    "                  right_on = ['Cells_Metadata_Barcode','Cells_Metadata_Well',\"Cells_Metadata_Site\",\"Cells_ObjectNumber\"])\n",
    "    \n",
    "    #------------------- format feature names to BROAD names --------------------------------#\n",
    "    first_column = new_df.pop('Cells_Metadata_Barcode')\n",
    "    second_column = new_df.pop('Cells_Metadata_Well')\n",
    "    third_column = new_df.pop('Cells_Metadata_Site')\n",
    "    \n",
    "    new_df.insert(0, 'Metadata_plate_map_name', first_column)\n",
    "    new_df.insert(1, 'Metadata_Well', second_column)\n",
    "    new_df.insert(2, 'Metadata_Site', third_column)\n",
    "    \n",
    "    # ------------------ add image indentifyer for metdata and QC -----------------------------#\n",
    "    new_df['ImageID'] =  new_df['Metadata_plate_map_name'] + \"_\" + new_df['Metadata_Well'] + \"_s\" + new_df['Metadata_Site'].astype(str).replace(r'\\.0$', '', regex=True)\n",
    "    \n",
    "    # clean up #\n",
    "    new_df = new_df.loc[:,~new_df.columns.str.contains('Unnamed|index|Cytoplasm_Meta|Cells_Meta|Nuclei_Meta|FileName|PathName|_ImageNumber')]\n",
    "    \n",
    "    # change to BROAD names\n",
    "    \n",
    "    new_df.columns = new_df.columns.str.replace(r\"illumSYTO\", \"RNA\")\n",
    "    new_df.columns = new_df.columns.str.replace(r\"illumCONC\", \"ER\")\n",
    "    new_df.columns = new_df.columns.str.replace(r\"illumHOECHST\", \"DNA\")\n",
    "    new_df.columns = new_df.columns.str.replace(r\"illumPHAandWGA\", \"AGP\")\n",
    "    new_df.columns = new_df.columns.str.replace(r\"illumMITO\", \"Mito\")\n",
    "    \n",
    "           \n",
    "    print(\"plate\",list_of_plates[i], \"contains a total of\", len(new_df), \"rows\")\n",
    "    \n",
    "    # new\n",
    "    #new_df.to_csv(\"level1_agg_{}.csv\".format(list_of_plates[i])) # save as csv\n",
    "    new_df.to_parquet(\"level1_agg_{}.parquet\".format(list_of_plates[i])) # save as parquet\n",
    "                  \n",
    "    #save to master df \n",
    "    collected_df.append(new_df)\n",
    "    \n",
    "dfs = pd.concat(collected_df)\n",
    "# dfs.to_csv(\"level1_merge.csv\", index=False) # save as csv\n",
    "dfs.to_parquet(\"level1_merge.parquet\", index=False) # save as parquet"
   ]
  },
  {
   "cell_type": "code",
   "execution_count": 8,
   "metadata": {},
   "outputs": [
    {
     "name": "stdout",
     "output_type": "stream",
     "text": [
      "03/25/23 23:25:38\n"
     ]
    }
   ],
   "source": [
    "print(date, time)"
   ]
  },
  {
   "cell_type": "code",
   "execution_count": null,
   "metadata": {},
   "outputs": [],
   "source": []
  },
  {
   "cell_type": "code",
   "execution_count": null,
   "metadata": {},
   "outputs": [],
   "source": []
  }
 ],
 "metadata": {
  "kernelspec": {
   "display_name": "Python 3 (ipykernel)",
   "language": "python",
   "name": "python3"
  },
  "language_info": {
   "codemirror_mode": {
    "name": "ipython",
    "version": 3
   },
   "file_extension": ".py",
   "mimetype": "text/x-python",
   "name": "python",
   "nbconvert_exporter": "python",
   "pygments_lexer": "ipython3",
   "version": "3.8.10"
  }
 },
 "nbformat": 4,
 "nbformat_minor": 4
}
