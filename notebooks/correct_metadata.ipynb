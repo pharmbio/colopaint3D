{
 "cells": [
  {
   "cell_type": "code",
   "execution_count": 10,
   "metadata": {},
   "outputs": [],
   "source": [
    "import pandas as pd\n",
    "import numpy as np\n",
    "\n",
    "mdf = pd.read_csv('/home/jovyan/scratch2-shared/david/colopaint3D/notebooks/settings/spher-colo52-v1-import-inputFiles-and-PLAIDresults.csv', sep=',')"
   ]
  },
  {
   "cell_type": "code",
   "execution_count": 7,
   "metadata": {},
   "outputs": [],
   "source": [
    "# mdf['pathway'].fillna(mdf['cmpdname'], inplace=True)"
   ]
  },
  {
   "cell_type": "code",
   "execution_count": 11,
   "metadata": {},
   "outputs": [
    {
     "data": {
      "text/plain": [
       "array(['MAPK', 'Cytoskeletal Signaling', 'DNA Damage', 'PI3K/Akt/mTOR',\n",
       "       'Epigenetics', 'Cell Cycle', 'sorb', 'Protein Tyrosine Kinase',\n",
       "       'Apoptosis', 'dmso', 'JAK/STAT', 'Proteases', 'TGF-beta/Smad',\n",
       "       'fenb', 'Others', 'etop', 'stau', 'Stem Cells & Wnt',\n",
       "       'Angiogenesis', 'water'], dtype=object)"
      ]
     },
     "execution_count": 11,
     "metadata": {},
     "output_type": "execute_result"
    }
   ],
   "source": [
    "mdf['pathway'].unique()"
   ]
  },
  {
   "cell_type": "code",
   "execution_count": 9,
   "metadata": {},
   "outputs": [],
   "source": [
    "mdf.to_csv('/home/jovyan/scratch2-shared/david/colopaint3D/notebooks/settings/spher-colo52-v1-import-inputFiles-and-PLAIDresults.csv', sep=',')"
   ]
  },
  {
   "cell_type": "code",
   "execution_count": 12,
   "metadata": {},
   "outputs": [],
   "source": [
    "barcodes = mdf['barcode'].unique()"
   ]
  },
  {
   "cell_type": "code",
   "execution_count": 13,
   "metadata": {},
   "outputs": [
    {
     "data": {
      "text/plain": [
       "array(['PB000137', 'PB000139', 'PB000141', 'PB000138', 'PB000140',\n",
       "       'PB000142'], dtype=object)"
      ]
     },
     "execution_count": 13,
     "metadata": {},
     "output_type": "execute_result"
    }
   ],
   "source": [
    "barcodes"
   ]
  },
  {
   "cell_type": "code",
   "execution_count": 16,
   "metadata": {},
   "outputs": [],
   "source": [
    "for barcode in barcodes:\n",
    "    fdf = pd.read_parquet(f'/home/jovyan/scratch2-shared/david/colopaint3D/notebooks/output/spher_colo52_v1/1_FeaturesImages/spheroid{barcode}SingleCell.parquet')\n",
    "    fdf['Metadata_Moa'].fillna(fdf['Metadata_Cmpd'], inplace=True)\n",
    "    fdf.to_parquet(f'/home/jovyan/scratch2-shared/david/colopaint3D/notebooks/output/spher_colo52_v1/1_FeaturesImages/spheroid{barcode}SingleCell.parquet')\n",
    "    "
   ]
  },
  {
   "cell_type": "code",
   "execution_count": null,
   "metadata": {},
   "outputs": [],
   "source": []
  }
 ],
 "metadata": {
  "kernelspec": {
   "display_name": "Python 3",
   "language": "python",
   "name": "python3"
  },
  "language_info": {
   "codemirror_mode": {
    "name": "ipython",
    "version": 3
   },
   "file_extension": ".py",
   "mimetype": "text/x-python",
   "name": "python",
   "nbconvert_exporter": "python",
   "pygments_lexer": "ipython3",
   "version": "3.8.10"
  }
 },
 "nbformat": 4,
 "nbformat_minor": 2
}
