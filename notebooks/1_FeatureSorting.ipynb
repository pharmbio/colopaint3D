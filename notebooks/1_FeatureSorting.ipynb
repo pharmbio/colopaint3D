{
 "cells": [
  {
   "cell_type": "code",
   "execution_count": 1,
   "metadata": {},
   "outputs": [
    {
     "data": {
      "text/plain": [
       "'/scratch2-shared/david/colopaint3D/notebooks'"
      ]
     },
     "execution_count": 1,
     "metadata": {},
     "output_type": "execute_result"
    }
   ],
   "source": [
    "import os\n",
    "import pandas as pd \n",
    "import polars as pl # like pandas, but much faster\n",
    "import polars.selectors as cs\n",
    "import numpy as np\n",
    "import os, shutil, glob\n",
    "from random import randint\n",
    "import re, math\n",
    "import datetime\n",
    "import gc\n",
    "from pathlib import Path\n",
    "\n",
    "os.getcwd()\n"
   ]
  },
  {
   "cell_type": "markdown",
   "metadata": {},
   "source": [
    "### Read data"
   ]
  },
  {
   "cell_type": "code",
   "execution_count": 2,
   "metadata": {},
   "outputs": [],
   "source": [
    "# pd.set_option(\"max_colwidth\", 2000)\n",
    "# pd.set_option(\"display.max_columns\", 1000)\n",
    "# pd.set_option(\"display.max_rows\", 1000)\n",
    "\n",
    "# dirlist = ['/share/data/cellprofiler/automation/results/spher010-DLD1-L5/3958/5244/'\n",
    "#            #, '/share/data/cellprofiler/automation/results/spher010-HCT116-L6/3943/5241/'\n",
    "#            , '/share/data/cellprofiler/automation/results/spher010-HCT15-L2/3954/5246/'\n",
    "#            , '/share/data/cellprofiler/automation/results/spher010-HT29-L4/3962/5247/']\n",
    "# # BaseDir = '/share/data/analyses/christa/colopaint3D/pilots1-10/results_spheroid'\n",
    "rootDir = '/share/data/cellprofiler/automation/results'\n",
    "# BaseImgDir = '/share/mikro2/nikon/spheroid-test/pilot12-HCT116-day2/'\n",
    "# BaseDir = '/share/data/cellprofiler/automation/results/pilot12-HCT116-day2/3797/5112'\n",
    "# sorted(os.listdir(rootDir))"
   ]
  },
  {
   "cell_type": "markdown",
   "metadata": {},
   "source": [
    "### Input directories"
   ]
  },
  {
   "cell_type": "code",
   "execution_count": 3,
   "metadata": {},
   "outputs": [
    {
     "name": "stdout",
     "output_type": "stream",
     "text": [
      "shape: (3, 1)\n",
      "┌───────────────────┐\n",
      "│ feature_names     │\n",
      "│ ---               │\n",
      "│ str               │\n",
      "╞═══════════════════╡\n",
      "│ featICF_nuclei    │\n",
      "│ featICF_cells     │\n",
      "│ featICF_cytoplasm │\n",
      "└───────────────────┘\n"
     ]
    }
   ],
   "source": [
    "OutputDir = 'output/spher_colo52_v1/1_FeaturesImages'\n",
    "if not os.path.exists(OutputDir): \n",
    "    os.makedirs(OutputDir)\n",
    "NameContains = ''\n",
    "InputFolders = pl.read_csv('./settings/filemap.csv')\n",
    "print(InputFolders )\n",
    "            \n"
   ]
  },
  {
   "cell_type": "code",
   "execution_count": 4,
   "metadata": {},
   "outputs": [
    {
     "name": "stdout",
     "output_type": "stream",
     "text": [
      "Current date and time : \n",
      "2024-03-13 16:24:53\n"
     ]
    }
   ],
   "source": [
    "now = datetime.datetime.now()\n",
    "print ('Current date and time : ')\n",
    "print (now.strftime('%Y-%m-%d %H:%M:%S'))"
   ]
  },
  {
   "cell_type": "code",
   "execution_count": 5,
   "metadata": {},
   "outputs": [],
   "source": [
    "def print_time(msg=None):\n",
    "    now = datetime.datetime.now()\n",
    "    print(now.strftime('%Y-%m-%d %H:%M:%S'),msg or \"\")\n",
    "float_columns=[pl.col(pl.Float32),pl.col(pl.Float64)]"
   ]
  },
  {
   "cell_type": "code",
   "execution_count": 6,
   "metadata": {},
   "outputs": [],
   "source": [
    "metaEx = pl.read_csv('/home/jovyan/scratch2-shared/david/colopaint3D/notebooks/settings/spher-colo52-v1-import-inputFiles-and-PLAIDresults.csv')\n",
    "barcodes = metaEx.select(pl.col('barcode')).unique()\n",
    "barcodes = barcodes['barcode']\n",
    "barcodes.to_list()\n",
    "dirlist = [f'{rootDir}/{barcode}' for barcode in barcodes]\n",
    "# mdf = pd.read_csv('/home/jovyan/scratch2-shared/david/colopaint3D/notebooks/settings/spher-colo52-v1-import-inputFiles-and-PLAIDresults.csv', sep=',')\n",
    "\n",
    "# barcodes = mdf['barcode'].unique()\n",
    "\n",
    "# metaEx = metaEx.filter(pl.col('cmpdname')=='dmso')\n",
    "# meta1 = metaEx.select(['barcode','well_id','cmpdname'])\n",
    "# meta2 = metaEx.select(['barcode','well_id','pathway', 'cell_line'])\n",
    "# meta3 = meta1.join(meta2, left_on=['barcode', 'well_id'], right_on=['barcode', 'well_id'])"
   ]
  },
  {
   "cell_type": "code",
   "execution_count": 7,
   "metadata": {},
   "outputs": [
    {
     "data": {
      "text/html": [
       "<div><style>\n",
       ".dataframe > thead > tr > th,\n",
       ".dataframe > tbody > tr > td {\n",
       "  text-align: right;\n",
       "  white-space: pre-wrap;\n",
       "}\n",
       "</style>\n",
       "<small>shape: (5, 28)</small><table border=\"1\" class=\"dataframe\"><thead><tr><th>index</th><th>layout_id</th><th>well_id</th><th>image_id</th><th>cp_id</th><th>barcode</th><th>plate_well</th><th>cmpd_code</th><th>cmpdname</th><th>solvent</th><th>cmpd_conc</th><th>cmpd_conc_unit</th><th>stock_conc</th><th>stock_conc_unit</th><th>cmpd_vol</th><th>cmpd_vol_unit</th><th>well_vol</th><th>well_vol_unit</th><th>pert_type</th><th>article_id</th><th>target</th><th>pathway</th><th>pubchemID</th><th>smiles</th><th>inkey</th><th>target_type</th><th>clinical_status</th><th>cell_line</th></tr><tr><td>i64</td><td>str</td><td>str</td><td>i64</td><td>i64</td><td>str</td><td>str</td><td>str</td><td>str</td><td>str</td><td>f64</td><td>str</td><td>f64</td><td>str</td><td>f64</td><td>str</td><td>f64</td><td>str</td><td>str</td><td>str</td><td>str</td><td>str</td><td>f64</td><td>str</td><td>str</td><td>str</td><td>str</td><td>str</td></tr></thead><tbody><tr><td>0</td><td>&quot;spher-colo52-v…</td><td>&quot;B02&quot;</td><td>4185</td><td>5532</td><td>&quot;PB000137&quot;</td><td>&quot;PB000137_B02&quot;</td><td>&quot;colo-006&quot;</td><td>&quot;PD0325901&quot;</td><td>&quot;dmso&quot;</td><td>3.0</td><td>&quot;µM&quot;</td><td>10.0</td><td>&quot;mM&quot;</td><td>30.0</td><td>&quot;nl&quot;</td><td>40.0</td><td>&quot;µl&quot;</td><td>&quot;trt&quot;</td><td>&quot;S1036&quot;</td><td>&quot;MEK&quot;</td><td>&quot;MAPK&quot;</td><td>9.826528e6</td><td>&quot;OCC(O)CONC(=O)…</td><td>&quot;SUDAHWBOROXANE…</td><td>&quot;Targeted&quot;</td><td>&quot;Phase 2&quot;</td><td>&quot;HCT116&quot;</td></tr><tr><td>1</td><td>&quot;spher-colo52-v…</td><td>&quot;B03&quot;</td><td>4185</td><td>5532</td><td>&quot;PB000137&quot;</td><td>&quot;PB000137_B03&quot;</td><td>&quot;colo-018&quot;</td><td>&quot;Paclitaxel&quot;</td><td>&quot;dmso&quot;</td><td>0.1</td><td>&quot;µM&quot;</td><td>0.1</td><td>&quot;mM&quot;</td><td>100.0</td><td>&quot;nl&quot;</td><td>40.0</td><td>&quot;µl&quot;</td><td>&quot;trt&quot;</td><td>&quot;S1150&quot;</td><td>&quot;Autophagy,Micr…</td><td>&quot;Cytoskeletal S…</td><td>441276.0</td><td>&quot;CC(=O)OC1C(=O)…</td><td>&quot;RCINICONZNJXQF…</td><td>&quot;Cytotoxic&quot;</td><td>&quot;Preclinical&quot;</td><td>&quot;HCT116&quot;</td></tr><tr><td>2</td><td>&quot;spher-colo52-v…</td><td>&quot;B04&quot;</td><td>4185</td><td>5532</td><td>&quot;PB000137&quot;</td><td>&quot;PB000137_B04&quot;</td><td>&quot;colo-009&quot;</td><td>&quot;Olaparib (AZD2…</td><td>&quot;dmso&quot;</td><td>3.0</td><td>&quot;µM&quot;</td><td>10.0</td><td>&quot;mM&quot;</td><td>30.0</td><td>&quot;nl&quot;</td><td>40.0</td><td>&quot;µl&quot;</td><td>&quot;trt&quot;</td><td>&quot;S1060&quot;</td><td>&quot;PARP&quot;</td><td>&quot;DNA Damage&quot;</td><td>2.3725625e7</td><td>&quot;FC1=C(C=C(CC2=…</td><td>&quot;FDLYAMZZIXQODN…</td><td>&quot;Targeted&quot;</td><td>&quot;Launched&quot;</td><td>&quot;HCT116&quot;</td></tr><tr><td>3</td><td>&quot;spher-colo52-v…</td><td>&quot;B05&quot;</td><td>4185</td><td>5532</td><td>&quot;PB000137&quot;</td><td>&quot;PB000137_B05&quot;</td><td>&quot;colo-012&quot;</td><td>&quot;SB216763&quot;</td><td>&quot;dmso&quot;</td><td>10.0</td><td>&quot;µM&quot;</td><td>10.0</td><td>&quot;mM&quot;</td><td>100.0</td><td>&quot;nl&quot;</td><td>40.0</td><td>&quot;µl&quot;</td><td>&quot;trt&quot;</td><td>&quot;S1075&quot;</td><td>&quot;GSK-3&quot;</td><td>&quot;PI3K/Akt/mTOR&quot;</td><td>176158.0</td><td>&quot;C[N]1C=C(C2=C1…</td><td>&quot;JCSGFHVFHSKIJH…</td><td>&quot;Targeted&quot;</td><td>&quot;Preclinical&quot;</td><td>&quot;HCT116&quot;</td></tr><tr><td>4</td><td>&quot;spher-colo52-v…</td><td>&quot;B06&quot;</td><td>4185</td><td>5532</td><td>&quot;PB000137&quot;</td><td>&quot;PB000137_B06&quot;</td><td>&quot;colo-008&quot;</td><td>&quot;Vorinostat (SA…</td><td>&quot;dmso&quot;</td><td>3.0</td><td>&quot;µM&quot;</td><td>10.0</td><td>&quot;mM&quot;</td><td>30.0</td><td>&quot;nl&quot;</td><td>40.0</td><td>&quot;µl&quot;</td><td>&quot;trt&quot;</td><td>&quot;S1047&quot;</td><td>&quot;Autophagy,HDAC…</td><td>&quot;Epigenetics&quot;</td><td>5311.0</td><td>&quot;ONC(=O)CCCCCCC…</td><td>&quot;WAEXFXRVDQXREF…</td><td>&quot;Targeted&quot;</td><td>&quot;Launched&quot;</td><td>&quot;HCT116&quot;</td></tr></tbody></table></div>"
      ],
      "text/plain": [
       "shape: (5, 28)\n",
       "┌───────┬─────────────┬─────────┬──────────┬───┬─────────────┬────────────┬────────────┬───────────┐\n",
       "│ index ┆ layout_id   ┆ well_id ┆ image_id ┆ … ┆ inkey       ┆ target_typ ┆ clinical_s ┆ cell_line │\n",
       "│ ---   ┆ ---         ┆ ---     ┆ ---      ┆   ┆ ---         ┆ e          ┆ tatus      ┆ ---       │\n",
       "│ i64   ┆ str         ┆ str     ┆ i64      ┆   ┆ str         ┆ ---        ┆ ---        ┆ str       │\n",
       "│       ┆             ┆         ┆          ┆   ┆             ┆ str        ┆ str        ┆           │\n",
       "╞═══════╪═════════════╪═════════╪══════════╪═══╪═════════════╪════════════╪════════════╪═══════════╡\n",
       "│ 0     ┆ spher-colo5 ┆ B02     ┆ 4185     ┆ … ┆ SUDAHWBOROX ┆ Targeted   ┆ Phase 2    ┆ HCT116    │\n",
       "│       ┆ 2-v1-ULA-PB ┆         ┆          ┆   ┆ ANE-SECBINF ┆            ┆            ┆           │\n",
       "│       ┆ 000137-HCT… ┆         ┆          ┆   ┆ HSA-N       ┆            ┆            ┆           │\n",
       "│ 1     ┆ spher-colo5 ┆ B03     ┆ 4185     ┆ … ┆ RCINICONZNJ ┆ Cytotoxic  ┆ Preclinica ┆ HCT116    │\n",
       "│       ┆ 2-v1-ULA-PB ┆         ┆          ┆   ┆ XQF-VAZQATR ┆            ┆ l          ┆           │\n",
       "│       ┆ 000137-HCT… ┆         ┆          ┆   ┆ QSA-N       ┆            ┆            ┆           │\n",
       "│ 2     ┆ spher-colo5 ┆ B04     ┆ 4185     ┆ … ┆ FDLYAMZZIXQ ┆ Targeted   ┆ Launched   ┆ HCT116    │\n",
       "│       ┆ 2-v1-ULA-PB ┆         ┆          ┆   ┆ ODN-UHFFFAO ┆            ┆            ┆           │\n",
       "│       ┆ 000137-HCT… ┆         ┆          ┆   ┆ YSA-N       ┆            ┆            ┆           │\n",
       "│ 3     ┆ spher-colo5 ┆ B05     ┆ 4185     ┆ … ┆ JCSGFHVFHSK ┆ Targeted   ┆ Preclinica ┆ HCT116    │\n",
       "│       ┆ 2-v1-ULA-PB ┆         ┆          ┆   ┆ IJH-UHFFFAO ┆            ┆ l          ┆           │\n",
       "│       ┆ 000137-HCT… ┆         ┆          ┆   ┆ YSA-N       ┆            ┆            ┆           │\n",
       "│ 4     ┆ spher-colo5 ┆ B06     ┆ 4185     ┆ … ┆ WAEXFXRVDQX ┆ Targeted   ┆ Launched   ┆ HCT116    │\n",
       "│       ┆ 2-v1-ULA-PB ┆         ┆          ┆   ┆ REF-UHFFFAO ┆            ┆            ┆           │\n",
       "│       ┆ 000137-HCT… ┆         ┆          ┆   ┆ YSA-N       ┆            ┆            ┆           │\n",
       "└───────┴─────────────┴─────────┴──────────┴───┴─────────────┴────────────┴────────────┴───────────┘"
      ]
     },
     "execution_count": 7,
     "metadata": {},
     "output_type": "execute_result"
    }
   ],
   "source": [
    "metaEx.head()\n"
   ]
  },
  {
   "cell_type": "code",
   "execution_count": 8,
   "metadata": {},
   "outputs": [],
   "source": [
    "# dirlist[0]\n",
    "# dirlist[0].split('/')"
   ]
  },
  {
   "cell_type": "code",
   "execution_count": 9,
   "metadata": {},
   "outputs": [],
   "source": [
    "BaseDir = dirlist[0]\n",
    "mdf_op = metaEx.filter(pl.col('barcode') == BaseDir.split('/')[-1])\n",
    "image_ids = mdf_op.select(pl.col('image_id')).unique().to_series().to_list()[-1]\n",
    "cp_ids = mdf_op.select(pl.col('cp_id')).unique().to_series().to_list()[-1]\n",
    "df = pl.read_parquet(f'{BaseDir}/{image_ids}/{cp_ids}/featICF_nuclei.parquet')"
   ]
  },
  {
   "cell_type": "code",
   "execution_count": 10,
   "metadata": {},
   "outputs": [],
   "source": [
    "median = df.select(float_columns).median()\n",
    "# df4 = df.select(float_columns)\n",
    "mad = pl.concat([df.select((pl.col(c)-pl.col(c).median()).abs().median()) for c in df.select(float_columns).columns], how='horizontal')\n",
    "# mad = pl.concat(mad, how='horizontal')"
   ]
  },
  {
   "cell_type": "code",
   "execution_count": 11,
   "metadata": {},
   "outputs": [
    {
     "data": {
      "text/html": [
       "<div><style>\n",
       ".dataframe > thead > tr > th,\n",
       ".dataframe > tbody > tr > td {\n",
       "  text-align: right;\n",
       "  white-space: pre-wrap;\n",
       "}\n",
       "</style>\n",
       "<small>shape: (1, 714)</small><table border=\"1\" class=\"dataframe\"><thead><tr><th>AreaShape_Center_X</th><th>AreaShape_Center_Y</th><th>AreaShape_Compactness</th><th>AreaShape_Eccentricity</th><th>AreaShape_EquivalentDiameter</th><th>AreaShape_Extent</th><th>AreaShape_FormFactor</th><th>AreaShape_MajorAxisLength</th><th>AreaShape_MaxFeretDiameter</th><th>AreaShape_MaximumRadius</th><th>AreaShape_MeanRadius</th><th>AreaShape_MedianRadius</th><th>AreaShape_MinFeretDiameter</th><th>AreaShape_MinorAxisLength</th><th>AreaShape_Orientation</th><th>AreaShape_Perimeter</th><th>AreaShape_Solidity</th><th>AreaShape_Zernike_0_0</th><th>AreaShape_Zernike_1_1</th><th>AreaShape_Zernike_2_0</th><th>AreaShape_Zernike_2_2</th><th>AreaShape_Zernike_3_1</th><th>AreaShape_Zernike_3_3</th><th>AreaShape_Zernike_4_0</th><th>AreaShape_Zernike_4_2</th><th>AreaShape_Zernike_4_4</th><th>AreaShape_Zernike_5_1</th><th>AreaShape_Zernike_5_3</th><th>AreaShape_Zernike_5_5</th><th>AreaShape_Zernike_6_0</th><th>AreaShape_Zernike_6_2</th><th>AreaShape_Zernike_6_4</th><th>AreaShape_Zernike_6_6</th><th>AreaShape_Zernike_7_1</th><th>AreaShape_Zernike_7_3</th><th>AreaShape_Zernike_7_5</th><th>AreaShape_Zernike_7_7</th><th>&hellip;</th><th>RadialDistribution_ZernikePhase_PHAandWGA_8_6</th><th>RadialDistribution_ZernikePhase_PHAandWGA_8_8</th><th>RadialDistribution_ZernikePhase_PHAandWGA_9_1</th><th>RadialDistribution_ZernikePhase_PHAandWGA_9_3</th><th>RadialDistribution_ZernikePhase_PHAandWGA_9_5</th><th>RadialDistribution_ZernikePhase_PHAandWGA_9_7</th><th>RadialDistribution_ZernikePhase_PHAandWGA_9_9</th><th>RadialDistribution_ZernikePhase_SYTO_0_0</th><th>RadialDistribution_ZernikePhase_SYTO_1_1</th><th>RadialDistribution_ZernikePhase_SYTO_2_0</th><th>RadialDistribution_ZernikePhase_SYTO_2_2</th><th>RadialDistribution_ZernikePhase_SYTO_3_1</th><th>RadialDistribution_ZernikePhase_SYTO_3_3</th><th>RadialDistribution_ZernikePhase_SYTO_4_0</th><th>RadialDistribution_ZernikePhase_SYTO_4_2</th><th>RadialDistribution_ZernikePhase_SYTO_4_4</th><th>RadialDistribution_ZernikePhase_SYTO_5_1</th><th>RadialDistribution_ZernikePhase_SYTO_5_3</th><th>RadialDistribution_ZernikePhase_SYTO_5_5</th><th>RadialDistribution_ZernikePhase_SYTO_6_0</th><th>RadialDistribution_ZernikePhase_SYTO_6_2</th><th>RadialDistribution_ZernikePhase_SYTO_6_4</th><th>RadialDistribution_ZernikePhase_SYTO_6_6</th><th>RadialDistribution_ZernikePhase_SYTO_7_1</th><th>RadialDistribution_ZernikePhase_SYTO_7_3</th><th>RadialDistribution_ZernikePhase_SYTO_7_5</th><th>RadialDistribution_ZernikePhase_SYTO_7_7</th><th>RadialDistribution_ZernikePhase_SYTO_8_0</th><th>RadialDistribution_ZernikePhase_SYTO_8_2</th><th>RadialDistribution_ZernikePhase_SYTO_8_4</th><th>RadialDistribution_ZernikePhase_SYTO_8_6</th><th>RadialDistribution_ZernikePhase_SYTO_8_8</th><th>RadialDistribution_ZernikePhase_SYTO_9_1</th><th>RadialDistribution_ZernikePhase_SYTO_9_3</th><th>RadialDistribution_ZernikePhase_SYTO_9_5</th><th>RadialDistribution_ZernikePhase_SYTO_9_7</th><th>RadialDistribution_ZernikePhase_SYTO_9_9</th></tr><tr><td>f32</td><td>f32</td><td>f32</td><td>f32</td><td>f32</td><td>f32</td><td>f32</td><td>f32</td><td>f32</td><td>f32</td><td>f32</td><td>f32</td><td>f32</td><td>f32</td><td>f32</td><td>f32</td><td>f32</td><td>f32</td><td>f32</td><td>f32</td><td>f32</td><td>f32</td><td>f32</td><td>f32</td><td>f32</td><td>f32</td><td>f32</td><td>f32</td><td>f32</td><td>f32</td><td>f32</td><td>f32</td><td>f32</td><td>f32</td><td>f32</td><td>f32</td><td>f32</td><td>&hellip;</td><td>f32</td><td>f32</td><td>f32</td><td>f32</td><td>f32</td><td>f32</td><td>f32</td><td>f32</td><td>f32</td><td>f32</td><td>f32</td><td>f32</td><td>f32</td><td>f32</td><td>f32</td><td>f32</td><td>f32</td><td>f32</td><td>f32</td><td>f32</td><td>f32</td><td>f32</td><td>f32</td><td>f32</td><td>f32</td><td>f32</td><td>f32</td><td>f32</td><td>f32</td><td>f32</td><td>f32</td><td>f32</td><td>f32</td><td>f32</td><td>f32</td><td>f32</td><td>f32</td></tr></thead><tbody><tr><td>140.377869</td><td>146.693787</td><td>0.057694</td><td>0.099988</td><td>5.278965</td><td>0.035528</td><td>0.042691</td><td>7.707695</td><td>7.521484</td><td>2.394749</td><td>0.798674</td><td>0.697598</td><td>5.07041</td><td>5.010363</td><td>43.956638</td><td>19.485291</td><td>0.007212</td><td>0.087572</td><td>0.018469</td><td>0.019057</td><td>0.015927</td><td>0.006482</td><td>0.006392</td><td>0.01629</td><td>0.007433</td><td>0.006987</td><td>0.005543</td><td>0.004065</td><td>0.002884</td><td>0.005751</td><td>0.005626</td><td>0.003529</td><td>0.003289</td><td>0.00332</td><td>0.002913</td><td>0.002362</td><td>0.001572</td><td>&hellip;</td><td>1.56037</td><td>1.56331</td><td>1.583952</td><td>1.563431</td><td>1.574934</td><td>1.560026</td><td>1.57781</td><td>0.0</td><td>1.557205</td><td>0.0</td><td>1.549706</td><td>1.57219</td><td>1.546507</td><td>0.0</td><td>1.575588</td><td>1.552418</td><td>1.595531</td><td>1.589931</td><td>1.558367</td><td>0.0</td><td>1.588884</td><td>1.564042</td><td>1.558731</td><td>1.585542</td><td>1.562456</td><td>1.563331</td><td>1.6173</td><td>0.0</td><td>1.57878</td><td>1.579449</td><td>1.56165</td><td>1.56366</td><td>1.584494</td><td>1.563835</td><td>1.575225</td><td>1.55959</td><td>1.577095</td></tr></tbody></table></div>"
      ],
      "text/plain": [
       "shape: (1, 714)\n",
       "┌───────────┬───────────┬───────────┬───────────┬───┬───────────┬───────────┬───────────┬──────────┐\n",
       "│ AreaShape ┆ AreaShape ┆ AreaShape ┆ AreaShape ┆ … ┆ RadialDis ┆ RadialDis ┆ RadialDis ┆ RadialDi │\n",
       "│ _Center_X ┆ _Center_Y ┆ _Compactn ┆ _Eccentri ┆   ┆ tribution ┆ tribution ┆ tribution ┆ stributi │\n",
       "│ ---       ┆ ---       ┆ ess       ┆ city      ┆   ┆ _ZernikeP ┆ _ZernikeP ┆ _ZernikeP ┆ on_Zerni │\n",
       "│ f32       ┆ f32       ┆ ---       ┆ ---       ┆   ┆ hase_…    ┆ hase_…    ┆ hase_…    ┆ kePhase_ │\n",
       "│           ┆           ┆ f32       ┆ f32       ┆   ┆ ---       ┆ ---       ┆ ---       ┆ …        │\n",
       "│           ┆           ┆           ┆           ┆   ┆ f32       ┆ f32       ┆ f32       ┆ ---      │\n",
       "│           ┆           ┆           ┆           ┆   ┆           ┆           ┆           ┆ f32      │\n",
       "╞═══════════╪═══════════╪═══════════╪═══════════╪═══╪═══════════╪═══════════╪═══════════╪══════════╡\n",
       "│ 140.37786 ┆ 146.69378 ┆ 0.057694  ┆ 0.099988  ┆ … ┆ 1.563835  ┆ 1.575225  ┆ 1.55959   ┆ 1.577095 │\n",
       "│ 9         ┆ 7         ┆           ┆           ┆   ┆           ┆           ┆           ┆          │\n",
       "└───────────┴───────────┴───────────┴───────────┴───┴───────────┴───────────┴───────────┴──────────┘"
      ]
     },
     "execution_count": 11,
     "metadata": {},
     "output_type": "execute_result"
    }
   ],
   "source": [
    "# mad = df.select((pl.col('AreaShape_Extent')-pl.col('AreaShape_Extent').median()).abs().median())\n",
    "mad"
   ]
  },
  {
   "cell_type": "code",
   "execution_count": 12,
   "metadata": {},
   "outputs": [],
   "source": [
    "# for BaseDir in dirlist:\n",
    "#     mdf_op = metaEx.filter(pl.col('barcode') == BaseDir.split('/')[-1])\n",
    "#     image_id = mdf_op.select(pl.col('image_id')).unique().to_series().to_list()[-1]\n",
    "#     cp_id = mdf_op.select(pl.col('cp_id')).unique().to_series().to_list()[-1]\n",
    "#     print(f'{BaseDir}/{image_id}/{cp_id}')"
   ]
  },
  {
   "cell_type": "code",
   "execution_count": 13,
   "metadata": {},
   "outputs": [],
   "source": [
    "use_clipping = False\n",
    "\n",
    "std_mean = True"
   ]
  },
  {
   "cell_type": "code",
   "execution_count": 14,
   "metadata": {},
   "outputs": [
    {
     "name": "stdout",
     "output_type": "stream",
     "text": [
      "/share/data/cellprofiler/automation/results/PB000141/4187/5546\n",
      "part1\n",
      "processed some metadata\n",
      "2024-03-13 16:25:42 dropped NaNs\n",
      "2024-03-13 16:25:47 calculated DMSO distribution\n",
      "2024-03-13 16:25:49 normalized to DMSO distribution\n",
      "2024-03-13 16:25:49 num objects (cells) 230567 (0.03% were NaN)\n",
      "2024-03-13 16:26:26 binned mean data per well\n",
      "2024-03-13 16:26:28 binned median data per well\n",
      "/share/data/cellprofiler/automation/results/PB000137/4185/5532\n",
      "part1\n",
      "processed some metadata\n",
      "2024-03-13 16:27:10 dropped NaNs\n",
      "2024-03-13 16:27:14 calculated DMSO distribution\n",
      "2024-03-13 16:27:16 normalized to DMSO distribution\n",
      "2024-03-13 16:27:16 num objects (cells) 384940 (0.02% were NaN)\n",
      "2024-03-13 16:28:20 binned mean data per well\n",
      "2024-03-13 16:28:23 binned median data per well\n",
      "/share/data/cellprofiler/automation/results/PB000138/4188/5547\n",
      "part1\n",
      "processed some metadata\n",
      "2024-03-13 16:29:05 dropped NaNs\n",
      "2024-03-13 16:29:10 calculated DMSO distribution\n",
      "2024-03-13 16:29:12 normalized to DMSO distribution\n",
      "2024-03-13 16:29:12 num objects (cells) 375577 (0.03% were NaN)\n",
      "2024-03-13 16:30:08 binned mean data per well\n",
      "2024-03-13 16:30:10 binned median data per well\n",
      "/share/data/cellprofiler/automation/results/PB000140/4189/5573\n",
      "part1\n",
      "processed some metadata\n",
      "2024-03-13 16:30:46 dropped NaNs\n",
      "2024-03-13 16:30:50 calculated DMSO distribution\n",
      "2024-03-13 16:30:52 normalized to DMSO distribution\n",
      "2024-03-13 16:30:52 num objects (cells) 260940 (3.86% were NaN)\n",
      "2024-03-13 16:31:36 binned mean data per well\n",
      "2024-03-13 16:31:38 binned median data per well\n",
      "/share/data/cellprofiler/automation/results/PB000142/4191/5574\n",
      "part1\n",
      "processed some metadata\n",
      "2024-03-13 16:32:01 dropped NaNs\n",
      "2024-03-13 16:32:04 calculated DMSO distribution\n",
      "2024-03-13 16:32:05 normalized to DMSO distribution\n",
      "2024-03-13 16:32:05 num objects (cells) 188265 (0.06% were NaN)\n",
      "2024-03-13 16:32:39 binned mean data per well\n",
      "2024-03-13 16:32:41 binned median data per well\n",
      "/share/data/cellprofiler/automation/results/PB000139/4186/5533\n",
      "part1\n",
      "processed some metadata\n",
      "2024-03-13 16:33:10 dropped NaNs\n",
      "2024-03-13 16:33:14 calculated DMSO distribution\n",
      "2024-03-13 16:33:15 normalized to DMSO distribution\n",
      "2024-03-13 16:33:15 num objects (cells) 217161 (5.40% were NaN)\n",
      "2024-03-13 16:33:44 binned mean data per well\n",
      "2024-03-13 16:33:45 binned median data per well\n"
     ]
    }
   ],
   "source": [
    "# medianImageAllPlates = pd.DataFrame()\n",
    "# meanImageAllPlates = pd.DataFrame()\n",
    "# wellmismatch = 0\n",
    "# df_scall = pd.DataFrame()\n",
    "# df_meanall = pd.DataFrame()\n",
    "# df_medianall = pd.DataFrame()\n",
    "# DataFrameDictionary = {}s\n",
    "ObjectList = ['featICF_nuclei', 'featICF_cells', 'featICF_cytoplasm']\n",
    "# metaEx = pl.read_csv('/home/jovyan/scratch2-shared/david/colopaint3D/notebooks/settings/spher010-metadata.csv')\n",
    "for BaseDir in dirlist:\n",
    "    mdf_op = metaEx.filter(pl.col('barcode') == BaseDir.split('/')[-1])\n",
    "    image_id = mdf_op.select(pl.col('image_id')).unique().to_series().to_list()[-1]\n",
    "    cp_id = mdf_op.select(pl.col('cp_id')).unique().to_series().to_list()[-1]\n",
    "    print(f'{BaseDir}/{image_id}/{cp_id}')\n",
    "    BaseDir = f'{BaseDir}/{image_id}/{cp_id}'\n",
    "\n",
    "\n",
    "    # nuclei = pl.read_parquet(BaseDir+f'/{ObjectList[0]}.parquet').add_prefix('Nuclei_').reset_index()\n",
    "    # cytoplasm = pl.read_parquet(BaseDir+f'/{ObjectList[1]}.parquet').add_prefix('Cytoplasm_').reset_index()\n",
    "    # cells = pl.read_parquet(BaseDir+f'/{ObjectList[2]}.parquet').add_prefix('Cells_').reset_index()\n",
    "    # f_df=pl.read_parquet(f)\n",
    "    # f_df=f_df.rename({x:f'{feature_set_name}_{x}' for x in f_df.columns})\n",
    "    \n",
    "\n",
    "    nuclei = pl.read_parquet(BaseDir+f'/{ObjectList[0]}.parquet')\n",
    "    nuclei=nuclei.rename({x:f'Nuclei_{x}' for x in nuclei.columns})\n",
    "    cytoplasm = pl.read_parquet(BaseDir+f'/{ObjectList[1]}.parquet')\n",
    "    cytoplasm=cytoplasm.rename({x:f'Cytoplasm_{x}' for x in cytoplasm.columns})\n",
    "    cells = pl.read_parquet(BaseDir+f'/{ObjectList[2]}.parquet')\n",
    "    cells=cells.rename({x:f'Cells_{x}' for x in cells.columns})\n",
    "    # step 1: Take the mean values of 'multiple nuclei' belonging to one cell\n",
    "\n",
    "    nuclei = nuclei.group_by([\n",
    "        \"Nuclei_Metadata_Barcode\",\"Nuclei_Metadata_Well\",\n",
    "        \"Nuclei_Parent_cells\", 'Nuclei_Metadata_Site'\n",
    "    ]).mean()\n",
    "    \n",
    "    df = cytoplasm.join(nuclei,\n",
    "                how='left', \n",
    "                right_on=['Nuclei_Metadata_Well', 'Nuclei_Metadata_Site', 'Nuclei_Parent_cells', 'Nuclei_Metadata_Barcode'],\n",
    "                left_on = ['Cytoplasm_Metadata_Well','Cytoplasm_Metadata_Site', 'Cytoplasm_ObjectNumber', 'Cytoplasm_Metadata_Barcode'])\n",
    "                \n",
    "    df = df.join(cells, how='left', \n",
    "                    left_on=['Cytoplasm_Metadata_Well','Cytoplasm_Metadata_Site','Cytoplasm_ObjectNumber', 'Cytoplasm_Metadata_Barcode'],\n",
    "                    right_on = ['Cells_Metadata_Well','Cells_Metadata_Site',\"Cells_ObjectNumber\", 'Cells_Metadata_Barcode'])\n",
    "\n",
    "    # print_time(\"initial merging\")\n",
    "    print('part1')\n",
    "    \n",
    "    # deduplicate barcode/well/site - renamed cytoplasm_Metadata* to Metadata* and removes nuclei_* etc\n",
    "    unique_metadata_feature_names=['Metadata_Barcode','Metadata_Well','Metadata_Site']\n",
    "    df=df.rename({f'Cytoplasm_{suffix}':suffix for suffix in unique_metadata_feature_names})\n",
    "                \n",
    "    # for some reason, the site is parsed as float, even though it really should be an int\n",
    "    if df['Metadata_Site'].dtype in [np.dtype('float32'), np.dtype('float64')]:\n",
    "        # sometimes, for some reason, site indices are inf/nan\n",
    "        site_is_nan_mask=np.isnan(df['Metadata_Site'])\n",
    "        site_is_inf_mask=np.isinf(df['Metadata_Site'])\n",
    "        \n",
    "        try:\n",
    "            num_sites_nan=np.sum(site_is_nan_mask)\n",
    "            num_sites_inf=np.sum(site_is_inf_mask)\n",
    "            assert num_sites_nan==0, f\"found nan site values (n = {num_sites_nan})\"\n",
    "            assert num_sites_inf==0, f\"found inf site values (n = {num_sites_inf})\"\n",
    "        except AssertionError as e:\n",
    "            print(f\"info - this issue was automatically circumvented in the code : {e}\")\n",
    "            df=df[~(site_is_inf_mask|site_is_nan_mask)]\n",
    "            \n",
    "        num_metadata_site_entries_nonint=np.sum(np.abs(df['Metadata_Site']%1.0)>1e-6)\n",
    "        assert num_metadata_site_entries_nonint==0, f\"ERROR : {num_metadata_site_entries_nonint} imaging sites don't have integer indices. that should not be the case, and likely indicates a bug.\"\n",
    "        \n",
    "        #Should use np.round, no? TODO ask patrick. Truncation Errors are annoying.\n",
    "        df['Metadata_Site'] = df['Metadata_Site'].astype(np.dtype('int32'))\n",
    "\n",
    "    #Adding Compound Metadata to each row\n",
    "    df = df.join(mdf_op.rename({x:f\"Metadata_cmpd_{x}\" for x in mdf_op.columns}),left_on='Metadata_Well',right_on='Metadata_cmpd_well_id')    \n",
    "    print(\"processed some metadata\")\n",
    "    \n",
    "    # drop all rows that contain nan\n",
    "    num_rows_before_nan_trim = df.shape[0]\n",
    "    for col in df.select([pl.col(pl.Float32),pl.col(pl.Float64)]).columns:\n",
    "        before_drop=df.shape[0]\n",
    "        df=df.filter(pl.col(col).is_not_null())\n",
    "        after_drop=df.shape[0]\n",
    "\n",
    "        #num_values_dropped=before_drop-after_drop\n",
    "        #if num_values_dropped>0:\n",
    "        #    print(f\"dropped {num_values_dropped} rows due to NaNs in column {col}\")\n",
    "\n",
    "    num_rows_after_nan_trim = df.shape[0]\n",
    "    \n",
    "    print_time(\"dropped NaNs\")\n",
    "    \n",
    "    # Clip outliers\n",
    "    if use_clipping:\n",
    "        float_cols = [c for c_name,c_dtype in zip(df.columns,df.dtypes) if \"float\" in str(c_dtype)]\n",
    "        lower_quantile = df.select(float_cols).quantile(0.01)\n",
    "        upper_quantile = df.select(float_cols).quantile(0.99)\n",
    "        print(\"calced quantiles\")\n",
    "\n",
    "        for col in float_cols:\n",
    "            df = df.with_column(\n",
    "                pl.col(col).clip(lower=lower_quantile[col],upper=upper_quantile[col])\n",
    "            )\n",
    "            \n",
    "        print(\"clipped\")\n",
    "    \n",
    "    # for some reason, DMSO is used as batch id for cells that are not treated with a drug\n",
    "    df_DMSO=df.filter(pl.col('Metadata_cmpd_cmpdname')=='dmso')\n",
    "    assert df_DMSO.shape[0]>0, \"did not find any wells 'treated' with DMSO\"\n",
    "    \n",
    "    # df_DMSO = wells_with_dmso\n",
    "    # use join to quickly select the relevant rows\n",
    "    # but add unique prefix to compound information columns (to avoid name collisions)\n",
    "    # df_DMSO = df.join(wells_with_dmso.rename({x:f\"Metadata_cmpd_{x}\" for x in wells_with_dmso.columns}),left_on='Metadata_Well',right_on='Metadata_cmpd_well_id')\n",
    "    # # then remove the compound information columns again\n",
    "    # df_DMSO = df_DMSO.select([x for x in df_DMSO.columns if not x.startswith('compoundinfo_')])\n",
    "    # assert df_DMSO.shape[0]>0, \"something is very wrong\"\n",
    "    if std_mean:\n",
    "        mu = df_DMSO.select(float_columns).mean()\n",
    "        for col in mu.columns:\n",
    "            if mu[col].is_null().any():\n",
    "                raise RuntimeError(f\"some mean value in column {col,i} is nan?!\")\n",
    "            if mu[col].is_infinite().any():\n",
    "                raise RuntimeError(f\"some mean value in column {col,i} is infinite?!\")\n",
    "                    \n",
    "        std = df_DMSO.select(float_columns).std()\n",
    "        # replace 0 with 1 (specifically not clip) to avoid div by zero\n",
    "        std = std.select([pl.col(c).map_dict({0: 1}, default=pl.col(c)) for c in std.columns])\n",
    "        \n",
    "        for i,col in enumerate(std.columns):\n",
    "            if std[col].is_null().any():\n",
    "                raise RuntimeError(f\"some std value in column {col,i} is nan?!\")\n",
    "            if std[col].is_infinite().any():\n",
    "                raise RuntimeError(f\"some std value in column {col,i} is infinite?!\")\n",
    "            if (std[col]==0).any():\n",
    "                raise RuntimeError(f\"unexpected 0 in column {col}\")\n",
    "        \n",
    "        print_time(\"calculated DMSO distribution\")\n",
    "\n",
    "        df_standardized = df.with_columns([(pl.col(c) - mu[c]) / (std[c]+0.01) for c in mu.columns])\n",
    "    \n",
    "    else:\n",
    "        median = df_DMSO.select(float_columns).median()\n",
    "\n",
    "        # Check for null or infinite medians and raise errors if found\n",
    "        for col in median.columns:\n",
    "            if median[col].is_null().any():\n",
    "                raise RuntimeError(f\"some median value in column {col} is nan?!\")\n",
    "            if median[col].is_infinite().any():\n",
    "                raise RuntimeError(f\"some median value in column {col} is infinite?!\")\n",
    "\n",
    "        # mad = df_DMSO.select([(pl.col(c) - pl.col(c).median()).abs().alias(c) for c in float_columns])\n",
    "        mad = pl.concat([df.select((pl.col(c)-pl.col(c).median()).abs().median()) for c in df.select(float_columns).columns], how='horizontal')\n",
    "        # mad = df_DMSO.select([pl.abs(pl.col(c) - median[c]).median().alias(c) for c in float_columns])\n",
    "\n",
    "\n",
    "        # Ensure MAD values are not zero to avoid division by zero\n",
    "        # Here we replace 0 with a small value (e.g., 0.01) instead of 1 to maintain the scale of MAD\n",
    "        # mad = mad.select([pl.when(pl.col(c) == 0).then(0.01).otherwise(pl.col(c)).alias(c) for c in mad.columns])\n",
    "        mad = mad.select([pl.col(c).map_dict({0: 0.01}, default=pl.col(c)) for c in mad.columns])\n",
    "\n",
    "        # Check for null, infinite, or unexpected zero values in MAD and raise errors if found\n",
    "        for i, col in enumerate(mad.columns):\n",
    "            if mad[col].is_null().any():\n",
    "                raise RuntimeError(f\"some MAD value in column {col,i} is nan?!\")\n",
    "            if mad[col].is_infinite().any():\n",
    "                raise RuntimeError(f\"some MAD value in column {col,i} is infinite?!\")\n",
    "            if (mad[col] == 0).any():\n",
    "                raise RuntimeError(f\"unexpected 0 in column {col}\")\n",
    "\n",
    "        print_time(\"calculated DMSO distribution\")\n",
    "        df_standardized = df.with_columns([(pl.col(c) - median[c]) / (mad[c]) for c in median.columns])\n",
    "\n",
    "        \n",
    "\n",
    "\n",
    "    #Checking for NaNs\n",
    "    found_nan=False\n",
    "    if std_mean:\n",
    "        for i,col in enumerate(mu.columns):\n",
    "            if df_standardized[col].is_null().any():\n",
    "                found_nan=True\n",
    "                print(f\"some value in column {col,i} is nan\")\n",
    "        \n",
    "        if found_nan:\n",
    "            raise RuntimeError(\"found nan\")\n",
    "    else:\n",
    "        for i,col in enumerate(median.columns):\n",
    "            if df_standardized[col].is_null().any():\n",
    "                found_nan=True\n",
    "                print(f\"some value in column {col,i} is nan\")\n",
    "        \n",
    "        if found_nan:\n",
    "            raise RuntimeError(\"found nan\")\n",
    "    \n",
    "    # write back\n",
    "    df=df.with_columns([df_standardized[c] for c in df_standardized.columns])\n",
    "    \n",
    "\n",
    "\n",
    "    print_time(\"normalized to DMSO distribution\")\n",
    "\n",
    "    # counts objects identified by segmentation, i.e. should be cells\n",
    "    num_objects = df.shape[0]\n",
    "    \n",
    "    fraction_objects_containing_nan=1-(num_rows_after_nan_trim/num_rows_before_nan_trim)\n",
    "    print_time(f\"num objects (cells) {num_objects} ({(fraction_objects_containing_nan*100):.2f}% were NaN)\")\n",
    "    \n",
    "    # Save Single Cell Parquets to outputs\n",
    "    ScOut = f'{OutputDir}/SingleCell/'\n",
    "    if not os.path.exists(ScOut): \n",
    "        os.makedirs(ScOut)\n",
    "    df.write_parquet(f'{ScOut}/{df.select(pl.col(\"Metadata_Barcode\")).unique().item()}.parquet')\n",
    "\n",
    "    # # group/combine by well\n",
    "    df_agg=df.drop(columns=['Metadata_Site'])\n",
    "    df_float_columns=set(list(df_agg.select(float_columns).columns))\n",
    "    group_by_columns=['Metadata_Barcode','Metadata_Well']\n",
    "    other_columns=set(list(df_agg.columns))-df_float_columns-set(group_by_columns)\n",
    "    # # group by mean for all float features, and group by first for all non-float columns (indices and string metadata)\n",
    "    group_by_aggregates=[\n",
    "        *[pl.mean(x) for x in list(df_float_columns)],\n",
    "        *[pl.first(x) for x in list(other_columns)]\n",
    "    ]\n",
    "    df_agg_mean=df_agg.group_by(group_by_columns).agg(group_by_aggregates)\n",
    "    MeanOut = f'{OutputDir}/MeanCell/'\n",
    "    if not os.path.exists(MeanOut): \n",
    "        os.makedirs(MeanOut)\n",
    "    df_agg_mean.write_parquet(f'{MeanOut}/{df.select(pl.col(\"Metadata_Barcode\")).unique().item()}.parquet')\n",
    "    print_time(\"binned mean data per well\")\n",
    "\n",
    "    df_float_columns=set(list(df_agg.select(float_columns).columns))\n",
    "    group_by_columns=['Metadata_Barcode','Metadata_Well']\n",
    "    other_columns=set(list(df_agg.columns))-df_float_columns-set(group_by_columns)\n",
    "    group_by_aggregates=[\n",
    "        *[pl.median(x) for x in list(df_float_columns)],\n",
    "        *[pl.first(x) for x in list(other_columns)]\n",
    "    ]\n",
    "    df_agg_median=df_agg.group_by(group_by_columns).agg(group_by_aggregates)\n",
    "    MedianOut = f'{OutputDir}/MedianCell/'\n",
    "    if not os.path.exists(MedianOut): \n",
    "        os.makedirs(MedianOut)\n",
    "    df_agg_median.write_parquet(f'{MedianOut}/{df.select(pl.col(\"Metadata_Barcode\")).unique().item()}.parquet')\n",
    "    print_time(\"binned median data per well\")\n",
    "    \n",
    "    # # add compound information    \n",
    "    # combined_per_well=combined_per_well.join(compound_layout,how='left',left_on=[\"Metadata_Well\"],right_on=[\"compound_well_id\"])\n",
    "    # print_time(\"added compound information\")\n",
    "    \n",
    "    # cpi = CellprofilerImage(\n",
    "    #     image_plate_dir=timepoint_info.image_plate_dir,\n",
    "    #     image_id=cp_out_path,\n",
    "    #     pipeline_id_qc=str(pipeline_id_qc),\n",
    "    #     pipeline_id_features=str(pipeline_id_features),\n",
    "    #     # \"-1\" because timepoints in the metadata file are 1-indexed, but 0-indexed in the filesystem\n",
    "    #     timepoint=str(int(cellprofiler_image_timepoints[i_i])-1),\n",
    "    #     combined_per_well=combined_per_well\n",
    "    # )\n",
    "    \n",
    "    # display(combined_per_well.head(2))\n",
    "    \n",
    "    # print_time(f\"timepoint {Path(cpi.image_plate_dir).name} done\")\n",
    "    \n",
    "    # cellprofiler_images.append(cpi)\n",
    "# df_scall.to_parquet('{}/spheroidSingleCell.parquet'.format(OutputDir))\n",
    "# df_meanall.to_parquet('{}/spheroidMean.parquet'.format(OutputDir))\n",
    "# df_medianall.to_parquet('{}/spheroidMedian.parquet'.format(OutputDir))"
   ]
  },
  {
   "cell_type": "code",
   "execution_count": 15,
   "metadata": {},
   "outputs": [
    {
     "name": "stdout",
     "output_type": "stream",
     "text": [
      "Current date and time : \n",
      "2024-03-13 16:33:45\n"
     ]
    }
   ],
   "source": [
    "now = datetime.datetime.now()\n",
    "print ('Current date and time : ')\n",
    "print (now.strftime('%Y-%m-%d %H:%M:%S'))"
   ]
  },
  {
   "cell_type": "code",
   "execution_count": 16,
   "metadata": {},
   "outputs": [],
   "source": [
    "# df_scall.head()"
   ]
  },
  {
   "cell_type": "code",
   "execution_count": 17,
   "metadata": {},
   "outputs": [],
   "source": [
    "# df_meanall.head()"
   ]
  },
  {
   "cell_type": "code",
   "execution_count": 18,
   "metadata": {},
   "outputs": [],
   "source": [
    "# toNpy = df_scall.loc[:,~df_scall.columns.str.contains('Metadata_')]\n",
    "# toNpy.reset_index(inplace=True, drop=True)\n",
    "# toNpy = toNpy.copy()\n",
    "# dataNpy = toNpy.to_numpy()\n",
    "# np.isnan(dataNpy).any()\n",
    "# colnames = toNpy.columns"
   ]
  },
  {
   "cell_type": "code",
   "execution_count": null,
   "metadata": {},
   "outputs": [],
   "source": []
  },
  {
   "cell_type": "code",
   "execution_count": null,
   "metadata": {},
   "outputs": [],
   "source": []
  }
 ],
 "metadata": {
  "kernelspec": {
   "display_name": "Python 3.8.10 64-bit",
   "language": "python",
   "name": "python3"
  },
  "language_info": {
   "codemirror_mode": {
    "name": "ipython",
    "version": 3
   },
   "file_extension": ".py",
   "mimetype": "text/x-python",
   "name": "python",
   "nbconvert_exporter": "python",
   "pygments_lexer": "ipython3",
   "version": "3.8.10"
  },
  "vscode": {
   "interpreter": {
    "hash": "916dbcbb3f70747c44a77c7bcd40155683ae19c65e1c03b4aa3499c5328201f1"
   }
  }
 },
 "nbformat": 4,
 "nbformat_minor": 4
}
