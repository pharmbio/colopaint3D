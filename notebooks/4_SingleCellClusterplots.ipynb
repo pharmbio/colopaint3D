{
 "cells": [
  {
   "cell_type": "code",
   "execution_count": null,
   "metadata": {},
   "outputs": [],
   "source": [
    "import os\n",
    "import pandas as pd \n",
    "import numpy as np\n",
    "from sklearn.decomposition import PCA\n",
    "from sklearn.cross_decomposition import PLSCanonical, PLSRegression, CCA\n",
    "from sklearn.preprocessing import StandardScaler\n",
    "from sklearn.model_selection import cross_validate, cross_val_score\n",
    "# from sklearn.manifold import TSNE\n",
    "import matplotlib  as mpl\n",
    "import matplotlib.pyplot as plt\n",
    "plt.rcParams.update({'figure.max_open_warning': 0})\n",
    "from matplotlib.patches import Ellipse\n",
    "import matplotlib.transforms as transforms\n",
    "%matplotlib inline\n",
    "import os, shutil, glob\n",
    "from random import randint\n",
    "import seaborn as sns; sns.set_style(\"white\")\n",
    "import umap as umap\n",
    "\n",
    "# import plotnine as gg\n",
    "# from cytominer_eval import evaluate\n",
    "\n",
    "os.getcwd()"
   ]
  },
  {
   "cell_type": "code",
   "execution_count": null,
   "metadata": {},
   "outputs": [],
   "source": [
    "figformat = 'png'\n",
    "dpi = 300\n",
    "statarg = 'single'\n",
    "OutputDir = f'./output/4_Clusterplots'\n",
    "if not os.path.exists(OutputDir): \n",
    "    os.makedirs(OutputDir)\n",
    "FeatureDir = './output/1_FeaturesImages'\n"
   ]
  },
  {
   "cell_type": "code",
   "execution_count": null,
   "metadata": {},
   "outputs": [],
   "source": [
    "read_data = pd.read_parquet(f'{FeatureDir}/spheroidSingleCell.parquet')\n",
    "cbar = pd.DataFrame()\n",
    "read_data.reset_index(inplace=True, drop = True)\n",
    "training_data = read_data.copy()\n",
    "loc_data = training_data[['Nuclei_Location_Center_X','Nuclei_Location_Center_Y']]\n",
    "training_data = training_data.loc[:,~training_data.columns.str.contains('Location', case=True)]\n",
    "training_data = training_data.loc[:,~training_data.columns.str.contains('ImageNumber_', case=True)]\n",
    "training_data = training_data.loc[:,~training_data.columns.str.contains('Parent', case=True)]\n",
    "training_data = training_data.loc[:,~training_data.columns.str.contains('Children', case=True)]\n",
    "training_data = training_data.loc[:,~training_data.columns.str.contains('_ObjectNumber', case=True)]\n",
    "training_data = training_data.loc[:,~training_data.columns.str.contains('_Object_Number', case=True)]\n",
    "training_data = training_data.loc[:,~training_data.columns.str.contains('_Y', case=True)]\n",
    "training_data = training_data.loc[:,~training_data.columns.str.contains('_X', case=True)]\n",
    "##### Correlation contains some kind of well information\n",
    "# feature_groups = ['AreaShape'\n",
    "#                   , 'Correlation'\n",
    "#                   , 'Granularity'\n",
    "#                   , 'Intensity'\n",
    "#                   , 'Neighbors'\n",
    "#                   , 'RadialDistribution'\n",
    "#                   ]\n",
    "# real_names = [x for x in training_data.columns if x.split('_')[0] in feature_groups]\n",
    "# training_data = training_data[real_names]\n",
    "\n",
    "### New Onehot\n",
    "target = pd.DataFrame()\n",
    "onehot_val = list(range(len(training_data['Metadata_Cmpd'].unique())))\n",
    "onehot_dict = dict(zip(training_data['Metadata_Cmpd'].unique(), onehot_val))\n",
    "target['onehot'] = training_data['Metadata_Cmpd'].apply(lambda x: onehot_dict.get(x, -1))\n",
    "training_data['onehot'] = target['onehot']\n",
    "\n",
    "training_data = training_data.copy()\n",
    "\n"
   ]
  },
  {
   "cell_type": "code",
   "execution_count": null,
   "metadata": {},
   "outputs": [],
   "source": [
    "training_data.head()"
   ]
  },
  {
   "cell_type": "code",
   "execution_count": null,
   "metadata": {},
   "outputs": [],
   "source": [
    "toNpy = training_data.loc[:,~training_data.columns.str.contains('Metadata_|onehot')]\n",
    "toNpy.reset_index(inplace=True, drop=True)\n",
    "toNpy = toNpy.copy()\n",
    "dataNpy = toNpy.to_numpy()\n",
    "colnames = toNpy.columns"
   ]
  },
  {
   "cell_type": "code",
   "execution_count": null,
   "metadata": {},
   "outputs": [],
   "source": [
    "np.isnan(dataNpy).any()\n"
   ]
  },
  {
   "cell_type": "code",
   "execution_count": null,
   "metadata": {},
   "outputs": [],
   "source": [
    "np.isinf(dataNpy).any()"
   ]
  },
  {
   "cell_type": "code",
   "execution_count": null,
   "metadata": {},
   "outputs": [],
   "source": [
    "dataPCA = pd.DataFrame()\n",
    "dataPCA['Metadata_Cmpd'] = training_data['Metadata_Cmpd']\n",
    "dataPCA['onehot'] = training_data['onehot']\n",
    "\n",
    "dataUMAP = pd.DataFrame()\n",
    "dataUMAP['Metadata_Cmpd'] = training_data['Metadata_Cmpd']\n",
    "dataUMAP['onehot'] = training_data['onehot']"
   ]
  },
  {
   "cell_type": "code",
   "execution_count": null,
   "metadata": {},
   "outputs": [],
   "source": [
    "# perplex = 20\n",
    "pca_model = PCA(n_components=  2)\n",
    "pca_model = pca_model.fit(dataNpy)\n",
    "pcaOut = pca_model.transform(dataNpy)\n",
    "dataPCA['pc1'] = pcaOut[:,0]\n",
    "dataPCA['pc2'] = pcaOut[:,1]\n",
    "dataPCA = dataPCA.copy()"
   ]
  },
  {
   "cell_type": "code",
   "execution_count": null,
   "metadata": {},
   "outputs": [],
   "source": [
    "# cmap = sns.color_palette(\"hls\", n_colors=11)\n",
    "# cmap = sns.color_palette(\"Set3\", n_colors=12)\n",
    "# cmap = cmap[:11]\n",
    "cmap=\"RdBu_r\"\n",
    "# hue = dataPCA['Metadata_Cmpd']\n",
    "# hue = training_data['cluster']\n",
    "\n",
    "fig = plt.figure(figsize=[14, 5])\n",
    "ax = fig.add_subplot(121)\n",
    "ax.set_xlabel('PC 1', fontsize = 10)\n",
    "ax.set_ylabel('PC 2', fontsize = 10)\n",
    "ax.spines['top'].set_color('w')\n",
    "ax.spines['right'].set_color('w')\n",
    "ax.spines['left'].set_color('grey')\n",
    "ax.spines['bottom'].set_color('grey')\n",
    "\n",
    "\n",
    "sns.set(font_scale=0.9)\n",
    "sns_plot = sns.clustermap(x, method='ward', metric='euclidean', z_score=None,\n",
    "                        standard_scale=None,  cbar_kws=None, figsize=(12, nr_rows/4 +1), \n",
    "                        row_cluster=False, col_cluster=True,\n",
    "                        cbar_pos=(0.02, 0.8, 0.05, 0.18), \n",
    "                        row_linkage=None, col_linkage=None, row_colors=None,\n",
    "                                vmin =-5, vmax=5,\n",
    "                        col_colors=None, cmap=\"RdBu_r\", xticklabels=False )\n",
    "plt.suptitle('Project {}, clustermap for {}', fontsize = 12, y=1.05)\n",
    "\n",
    "\n",
    "\n",
    "ax.set_facecolor('w')\n",
    "ax.get_legend().remove()\n"
   ]
  }
 ],
 "metadata": {
  "kernelspec": {
   "display_name": "Python 3",
   "language": "python",
   "name": "python3"
  },
  "language_info": {
   "codemirror_mode": {
    "name": "ipython",
    "version": 3
   },
   "file_extension": ".py",
   "mimetype": "text/x-python",
   "name": "python",
   "nbconvert_exporter": "python",
   "pygments_lexer": "ipython3",
   "version": "3.8.10"
  },
  "vscode": {
   "interpreter": {
    "hash": "916dbcbb3f70747c44a77c7bcd40155683ae19c65e1c03b4aa3499c5328201f1"
   }
  }
 },
 "nbformat": 4,
 "nbformat_minor": 4
}
