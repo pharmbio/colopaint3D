{
 "cells": [
  {
   "cell_type": "code",
   "execution_count": 10,
   "metadata": {},
   "outputs": [
    {
     "data": {
      "text/plain": [
       "'/scratch2-shared/david/colopaint3D/notebooks'"
      ]
     },
     "execution_count": 10,
     "metadata": {},
     "output_type": "execute_result"
    }
   ],
   "source": [
    "import os\n",
    "import pandas as pd \n",
    "import numpy as np\n",
    "import os, shutil, glob\n",
    "from random import randint\n",
    "import re, math\n",
    "import datetime\n",
    "import gc\n",
    "from pathlib import Path\n",
    "\n",
    "os.getcwd()\n"
   ]
  },
  {
   "cell_type": "markdown",
   "metadata": {},
   "source": [
    "### Read data"
   ]
  },
  {
   "cell_type": "code",
   "execution_count": 11,
   "metadata": {},
   "outputs": [],
   "source": [
    "# pd.set_option(\"max_colwidth\", 2000)\n",
    "# pd.set_option(\"display.max_columns\", 1000)\n",
    "# pd.set_option(\"display.max_rows\", 1000)\n",
    "\n",
    "# dirlist = ['/share/data/cellprofiler/automation/results/spher010-DLD1-L5/3958/5244/'\n",
    "#            #, '/share/data/cellprofiler/automation/results/spher010-HCT116-L6/3943/5241/'\n",
    "#            , '/share/data/cellprofiler/automation/results/spher010-HCT15-L2/3954/5246/'\n",
    "#            , '/share/data/cellprofiler/automation/results/spher010-HT29-L4/3962/5247/']\n",
    "# BaseDir = '/share/data/analyses/christa/colopaint3D/pilots1-10/results_spheroid'\n",
    "rootDir = '/share/data/cellprofiler/automation/results/'\n",
    "# BaseImgDir = '/share/mikro2/nikon/spheroid-test/pilot12-HCT116-day2/'\n",
    "# BaseDir = '/share/data/cellprofiler/automation/results/pilot12-HCT116-day2/3797/5112'\n",
    "# sorted(os.listdir(dirlist[0]))"
   ]
  },
  {
   "cell_type": "markdown",
   "metadata": {},
   "source": [
    "### Input directories"
   ]
  },
  {
   "cell_type": "code",
   "execution_count": 12,
   "metadata": {},
   "outputs": [
    {
     "name": "stdout",
     "output_type": "stream",
     "text": [
      "       feature_names\n",
      "0     featICF_nuclei\n",
      "1      featICF_cells\n",
      "2  featICF_cytoplasm\n"
     ]
    }
   ],
   "source": [
    "OutputDir = 'output/spher_colo52_v1/1_FeaturesImages'\n",
    "if not os.path.exists(OutputDir): \n",
    "    os.makedirs(OutputDir)\n",
    "NameContains = ''\n",
    "InputFolders = pd.read_csv('./settings/filemap.csv')\n",
    "print(InputFolders )\n",
    "            \n"
   ]
  },
  {
   "cell_type": "code",
   "execution_count": 13,
   "metadata": {},
   "outputs": [
    {
     "name": "stdout",
     "output_type": "stream",
     "text": [
      "Current date and time : \n",
      "2023-11-22 22:09:13\n"
     ]
    }
   ],
   "source": [
    "now = datetime.datetime.now()\n",
    "print ('Current date and time : ')\n",
    "print (now.strftime('%Y-%m-%d %H:%M:%S'))"
   ]
  },
  {
   "cell_type": "code",
   "execution_count": 14,
   "metadata": {},
   "outputs": [],
   "source": [
    "mdf = pd.read_csv('/home/jovyan/scratch2-shared/david/colopaint3D/notebooks/settings/spher-colo52-v1-import-inputFiles-and-PLAIDresults.csv', sep=',')\n",
    "\n",
    "barcodes = mdf['barcode'].unique()\n",
    "# metaEx = metaEx[~(metaEx['Metadata_Barcode'] == df['Metadata_Barcode'].unique()[0])]"
   ]
  },
  {
   "cell_type": "code",
   "execution_count": 15,
   "metadata": {},
   "outputs": [
    {
     "data": {
      "text/plain": [
       "array(['PB000137', 'PB000139', 'PB000141', 'PB000138', 'PB000140',\n",
       "       'PB000142'], dtype=object)"
      ]
     },
     "execution_count": 15,
     "metadata": {},
     "output_type": "execute_result"
    }
   ],
   "source": [
    "barcodes\n"
   ]
  },
  {
   "cell_type": "code",
   "execution_count": 16,
   "metadata": {},
   "outputs": [],
   "source": [
    "mdf_op = mdf[(mdf['barcode'] == barcodes[0])]"
   ]
  },
  {
   "cell_type": "code",
   "execution_count": 17,
   "metadata": {},
   "outputs": [
    {
     "data": {
      "text/plain": [
       "array([5532])"
      ]
     },
     "execution_count": 17,
     "metadata": {},
     "output_type": "execute_result"
    }
   ],
   "source": [
    "mdf_op['cp_id'].unique()"
   ]
  },
  {
   "cell_type": "code",
   "execution_count": 18,
   "metadata": {},
   "outputs": [
    {
     "ename": "KeyboardInterrupt",
     "evalue": "",
     "output_type": "error",
     "traceback": [
      "\u001b[0;31m---------------------------------------------------------------------------\u001b[0m",
      "\u001b[0;31mKeyboardInterrupt\u001b[0m                         Traceback (most recent call last)",
      "\u001b[1;32m/home/jovyan/scratch2-shared/david/colopaint3D/notebooks/1_featureSorting.ipynb Cell 11\u001b[0m line \u001b[0;36m1\n\u001b[1;32m     <a href='vscode-notebook-cell://k8s-container%2Bcontext%3Dk8s-prod-pharmbio%2Bpodname%3Ddavid-notebook-brolin-gpu-7697d8d988-7krnj%2Bnamespace%3Dlabinf%2Bname%3Ddavid-notebook-brolin-gpu%2Bimage%3Dghcr.io%252fpharmbio%252fpharmbio-notebook%253atf-2.12.0-pytorch-gpu/home/jovyan/scratch2-shared/david/colopaint3D/notebooks/1_featureSorting.ipynb#X13sdnNjb2RlLXJlbW90ZQ%3D%3D?line=11'>12</a>\u001b[0m cp_id \u001b[39m=\u001b[39m mdf_op[\u001b[39m'\u001b[39m\u001b[39mcp_id\u001b[39m\u001b[39m'\u001b[39m]\u001b[39m.\u001b[39munique()[\u001b[39m0\u001b[39m]\n\u001b[1;32m     <a href='vscode-notebook-cell://k8s-container%2Bcontext%3Dk8s-prod-pharmbio%2Bpodname%3Ddavid-notebook-brolin-gpu-7697d8d988-7krnj%2Bnamespace%3Dlabinf%2Bname%3Ddavid-notebook-brolin-gpu%2Bimage%3Dghcr.io%252fpharmbio%252fpharmbio-notebook%253atf-2.12.0-pytorch-gpu/home/jovyan/scratch2-shared/david/colopaint3D/notebooks/1_featureSorting.ipynb#X13sdnNjb2RlLXJlbW90ZQ%3D%3D?line=14'>15</a>\u001b[0m nuclei \u001b[39m=\u001b[39m pd\u001b[39m.\u001b[39mread_parquet(rootDir\u001b[39m+\u001b[39m\u001b[39mf\u001b[39m\u001b[39m'\u001b[39m\u001b[39m{\u001b[39;00mBaseDir\u001b[39m}\u001b[39;00m\u001b[39m/\u001b[39m\u001b[39m{\u001b[39;00mimage_id\u001b[39m}\u001b[39;00m\u001b[39m/\u001b[39m\u001b[39m{\u001b[39;00mcp_id\u001b[39m}\u001b[39;00m\u001b[39m/\u001b[39m\u001b[39m{\u001b[39;00mObjectList[\u001b[39m0\u001b[39m]\u001b[39m}\u001b[39;00m\u001b[39m.parquet\u001b[39m\u001b[39m'\u001b[39m)\u001b[39m.\u001b[39madd_prefix(\u001b[39m'\u001b[39m\u001b[39mNuclei_\u001b[39m\u001b[39m'\u001b[39m)\u001b[39m.\u001b[39mreset_index()\n\u001b[0;32m---> <a href='vscode-notebook-cell://k8s-container%2Bcontext%3Dk8s-prod-pharmbio%2Bpodname%3Ddavid-notebook-brolin-gpu-7697d8d988-7krnj%2Bnamespace%3Dlabinf%2Bname%3Ddavid-notebook-brolin-gpu%2Bimage%3Dghcr.io%252fpharmbio%252fpharmbio-notebook%253atf-2.12.0-pytorch-gpu/home/jovyan/scratch2-shared/david/colopaint3D/notebooks/1_featureSorting.ipynb#X13sdnNjb2RlLXJlbW90ZQ%3D%3D?line=15'>16</a>\u001b[0m cytoplasm \u001b[39m=\u001b[39m pd\u001b[39m.\u001b[39;49mread_parquet(rootDir\u001b[39m+\u001b[39;49m\u001b[39mf\u001b[39;49m\u001b[39m'\u001b[39;49m\u001b[39m{\u001b[39;49;00mBaseDir\u001b[39m}\u001b[39;49;00m\u001b[39m/\u001b[39;49m\u001b[39m{\u001b[39;49;00mimage_id\u001b[39m}\u001b[39;49;00m\u001b[39m/\u001b[39;49m\u001b[39m{\u001b[39;49;00mcp_id\u001b[39m}\u001b[39;49;00m\u001b[39m/\u001b[39;49m\u001b[39m{\u001b[39;49;00mObjectList[\u001b[39m1\u001b[39;49m]\u001b[39m}\u001b[39;49;00m\u001b[39m.parquet\u001b[39;49m\u001b[39m'\u001b[39;49m)\u001b[39m.\u001b[39;49madd_prefix(\u001b[39m'\u001b[39;49m\u001b[39mCytoplasm_\u001b[39;49m\u001b[39m'\u001b[39;49m)\u001b[39m.\u001b[39mreset_index()\n\u001b[1;32m     <a href='vscode-notebook-cell://k8s-container%2Bcontext%3Dk8s-prod-pharmbio%2Bpodname%3Ddavid-notebook-brolin-gpu-7697d8d988-7krnj%2Bnamespace%3Dlabinf%2Bname%3Ddavid-notebook-brolin-gpu%2Bimage%3Dghcr.io%252fpharmbio%252fpharmbio-notebook%253atf-2.12.0-pytorch-gpu/home/jovyan/scratch2-shared/david/colopaint3D/notebooks/1_featureSorting.ipynb#X13sdnNjb2RlLXJlbW90ZQ%3D%3D?line=16'>17</a>\u001b[0m cells \u001b[39m=\u001b[39m pd\u001b[39m.\u001b[39mread_parquet(rootDir\u001b[39m+\u001b[39m\u001b[39mf\u001b[39m\u001b[39m'\u001b[39m\u001b[39m{\u001b[39;00mBaseDir\u001b[39m}\u001b[39;00m\u001b[39m/\u001b[39m\u001b[39m{\u001b[39;00mimage_id\u001b[39m}\u001b[39;00m\u001b[39m/\u001b[39m\u001b[39m{\u001b[39;00mcp_id\u001b[39m}\u001b[39;00m\u001b[39m/\u001b[39m\u001b[39m{\u001b[39;00mObjectList[\u001b[39m2\u001b[39m]\u001b[39m}\u001b[39;00m\u001b[39m.parquet\u001b[39m\u001b[39m'\u001b[39m)\u001b[39m.\u001b[39madd_prefix(\u001b[39m'\u001b[39m\u001b[39mCells_\u001b[39m\u001b[39m'\u001b[39m)\u001b[39m.\u001b[39mreset_index()\n\u001b[1;32m     <a href='vscode-notebook-cell://k8s-container%2Bcontext%3Dk8s-prod-pharmbio%2Bpodname%3Ddavid-notebook-brolin-gpu-7697d8d988-7krnj%2Bnamespace%3Dlabinf%2Bname%3Ddavid-notebook-brolin-gpu%2Bimage%3Dghcr.io%252fpharmbio%252fpharmbio-notebook%253atf-2.12.0-pytorch-gpu/home/jovyan/scratch2-shared/david/colopaint3D/notebooks/1_featureSorting.ipynb#X13sdnNjb2RlLXJlbW90ZQ%3D%3D?line=18'>19</a>\u001b[0m \u001b[39m# print(nuclei.shape)\u001b[39;00m\n\u001b[1;32m     <a href='vscode-notebook-cell://k8s-container%2Bcontext%3Dk8s-prod-pharmbio%2Bpodname%3Ddavid-notebook-brolin-gpu-7697d8d988-7krnj%2Bnamespace%3Dlabinf%2Bname%3Ddavid-notebook-brolin-gpu%2Bimage%3Dghcr.io%252fpharmbio%252fpharmbio-notebook%253atf-2.12.0-pytorch-gpu/home/jovyan/scratch2-shared/david/colopaint3D/notebooks/1_featureSorting.ipynb#X13sdnNjb2RlLXJlbW90ZQ%3D%3D?line=19'>20</a>\u001b[0m \u001b[39m# print(cytoplasm.shape)\u001b[39;00m\n\u001b[1;32m     <a href='vscode-notebook-cell://k8s-container%2Bcontext%3Dk8s-prod-pharmbio%2Bpodname%3Ddavid-notebook-brolin-gpu-7697d8d988-7krnj%2Bnamespace%3Dlabinf%2Bname%3Ddavid-notebook-brolin-gpu%2Bimage%3Dghcr.io%252fpharmbio%252fpharmbio-notebook%253atf-2.12.0-pytorch-gpu/home/jovyan/scratch2-shared/david/colopaint3D/notebooks/1_featureSorting.ipynb#X13sdnNjb2RlLXJlbW90ZQ%3D%3D?line=20'>21</a>\u001b[0m \u001b[39m# print(cells.shape)\u001b[39;00m\n\u001b[1;32m     <a href='vscode-notebook-cell://k8s-container%2Bcontext%3Dk8s-prod-pharmbio%2Bpodname%3Ddavid-notebook-brolin-gpu-7697d8d988-7krnj%2Bnamespace%3Dlabinf%2Bname%3Ddavid-notebook-brolin-gpu%2Bimage%3Dghcr.io%252fpharmbio%252fpharmbio-notebook%253atf-2.12.0-pytorch-gpu/home/jovyan/scratch2-shared/david/colopaint3D/notebooks/1_featureSorting.ipynb#X13sdnNjb2RlLXJlbW90ZQ%3D%3D?line=21'>22</a>\u001b[0m \n\u001b[1;32m     <a href='vscode-notebook-cell://k8s-container%2Bcontext%3Dk8s-prod-pharmbio%2Bpodname%3Ddavid-notebook-brolin-gpu-7697d8d988-7krnj%2Bnamespace%3Dlabinf%2Bname%3Ddavid-notebook-brolin-gpu%2Bimage%3Dghcr.io%252fpharmbio%252fpharmbio-notebook%253atf-2.12.0-pytorch-gpu/home/jovyan/scratch2-shared/david/colopaint3D/notebooks/1_featureSorting.ipynb#X13sdnNjb2RlLXJlbW90ZQ%3D%3D?line=22'>23</a>\u001b[0m \u001b[39m# step 1: Take the mean values of multiple nuclei belonging to one cell\u001b[39;00m\n",
      "\u001b[0;31mKeyboardInterrupt\u001b[0m: "
     ]
    }
   ],
   "source": [
    "# medianImageAllPlates = pd.DataFrame()\n",
    "# meanImageAllPlates = pd.DataFrame()\n",
    "# wellmismatch = 0\n",
    "df_scall = pd.DataFrame()\n",
    "df_meanall = pd.DataFrame()\n",
    "df_medianall = pd.DataFrame()\n",
    "# DataFrameDictionary = {}s\n",
    "ObjectList = ['featICF_nuclei', 'featICF_cells', 'featICF_cytoplasm']\n",
    "for BaseDir in barcodes:\n",
    "    mdf_op = mdf[(mdf['barcode'] == BaseDir)]\n",
    "    image_id = mdf_op['image_id'].unique()[0]\n",
    "    cp_id = mdf_op['cp_id'].unique()[0]\n",
    "\n",
    "\n",
    "    nuclei = pd.read_parquet(rootDir+f'{BaseDir}/{image_id}/{cp_id}/{ObjectList[0]}.parquet').add_prefix('Nuclei_').reset_index()\n",
    "    cytoplasm = pd.read_parquet(rootDir+f'{BaseDir}/{image_id}/{cp_id}/{ObjectList[1]}.parquet').add_prefix('Cytoplasm_').reset_index()\n",
    "    cells = pd.read_parquet(rootDir+f'{BaseDir}/{image_id}/{cp_id}/{ObjectList[2]}.parquet').add_prefix('Cells_').reset_index()\n",
    "\n",
    "    # print(nuclei.shape)\n",
    "    # print(cytoplasm.shape)\n",
    "    # print(cells.shape)\n",
    "\n",
    "    # step 1: Take the mean values of multiple nuclei belonging to one cell\n",
    "    nuclei = nuclei.groupby([\"Nuclei_Metadata_Barcode\",\"Nuclei_Metadata_Well\",\"Nuclei_Parent_cells\", 'Nuclei_Metadata_Site'], as_index=False).mean(numeric_only=True)\n",
    "    # nuclei = nuclei.groupby([\"Nuclei_Metadata_Barcode\",\"Nuclei_Metadata_Well\",\"Nuclei_Parent_cells\", 'Nuclei_Metadata_Site'], as_index=False).mean(numeric_only=True)\n",
    "    # step 2: merge nuclei and cytoplasm objects\n",
    "    df = pd.merge(nuclei, cytoplasm, how='left', left_on=['Nuclei_Metadata_Well', 'Nuclei_Metadata_Site',\"Nuclei_Parent_cells\", 'Nuclei_Metadata_Barcode'],\n",
    "                    right_on = ['Cytoplasm_Metadata_Well','Cytoplasm_Metadata_Site', \"Cytoplasm_ObjectNumber\", 'Cytoplasm_Metadata_Barcode'])\n",
    "    # step 3: join cells objects\n",
    "    df = pd.merge(df, cells, how='left', left_on=['Cytoplasm_Metadata_Well','Cytoplasm_Metadata_Site',\"Cytoplasm_ObjectNumber\", 'Cytoplasm_Metadata_Barcode'],\n",
    "                    right_on = ['Cells_Metadata_Well','Cells_Metadata_Site',\"Cells_ObjectNumber\", 'Cells_Metadata_Barcode'])\n",
    "\n",
    "\n",
    "    print(f'Shape Pre Drops{df.shape}')\n",
    "    df.dropna(axis=0, inplace=True)\n",
    "    print(f'Shape Post Drops{df.shape}')\n",
    "\n",
    "    #------------------- format feature names to BROAD names --------------------------------#\n",
    "    first_column = df.pop('Cytoplasm_Metadata_Barcode')\n",
    "    second_column = df.pop('Cytoplasm_Metadata_Well')\n",
    "    third_column = df.pop('Cytoplasm_Metadata_Site')\n",
    "\n",
    "    df.insert(0, 'Metadata_Barcode', first_column)\n",
    "    df.insert(1, 'Metadata_Well', second_column)\n",
    "    df.insert(2, 'Metadata_Site', third_column)\n",
    "    nameargs = ['Nuclei', 'Cytoplasm', 'Cells']\n",
    "    for name in nameargs:\n",
    "        df = df.loc[:,~df.columns.str.contains(name+'_Metadata_', case=True)]\n",
    "    # df = df.loc[:,~df.columns.str.contains(name+'_Location_Center_', case=True)]\n",
    "\n",
    "\n",
    "    # ------------------ add image indentifyer for metdata and QC -----------------------------#\n",
    "    df = df.loc[:,~df.columns.str.contains('Unnamed|index|Cytoplasm_Meta|Cells_Meta|Nuclei_Meta|FileName|PathName|_ImageNumber')]\n",
    "\n",
    "    NrOfObjects = df.shape[0]\n",
    "    # print(df['Metadata_Well'])\n",
    "    # Wells = sorted(set(df['Metadata_Well']))\n",
    "    Wells = sorted(list(set(df['Metadata_Well'])))\n",
    "    NrOfWells = len(Wells)\n",
    "    Rows = sorted(list(set([w[0] for w in Wells])))\n",
    "    print(*Rows)\n",
    "    NrOfRows = len(Rows)\n",
    "    Columns = sorted(list(set([w[1:] for w in Wells])))\n",
    "    NrOfColumns = len(Columns)\n",
    "    print(*Columns)\n",
    "    print('Plate complete: {}'.format(NrOfRows*NrOfColumns==NrOfWells))\n",
    "\n",
    "    AllWells =[]\n",
    "    for R in Rows:\n",
    "        for C in Columns:\n",
    "            RC = R + C\n",
    "            # print(RC)\n",
    "            AllWells += [RC]\n",
    "    # print(len(AllWells))\n",
    "    print('Number of wells: {} (full plate is {})'.format(NrOfWells, len(AllWells)))\n",
    "    # del nuclei\n",
    "    # del cytoplasm\n",
    "    # del cells\n",
    "    dfdb = df.head()\n",
    "    numeric_df = df.select_dtypes(include=[np.number])\n",
    "\n",
    "    ### Clipping Outliers, NaNs, and Infs\n",
    "    medians = numeric_df.median(skipna=True)\n",
    "    psu = numeric_df.apply(lambda x: np.nanpercentile(x[x != np.inf], 99), axis=0)\n",
    "    psl = numeric_df.apply(lambda x: np.nanpercentile(x[x != np.inf], 1), axis=0)\n",
    "    # numeric_df.fillna(medians, inplace=True)\n",
    "\n",
    "    numeric_df.replace(np.inf, psu, inplace=True)\n",
    "    numeric_df.clip(upper=psu, lower=psl, axis=1, inplace=True)\n",
    "    df[numeric_df.columns] = numeric_df\n",
    "    df = df.copy()\n",
    "    # print(df.)\n",
    "    \n",
    "    ### Adding additional Metadata\n",
    "    target1 = pd.DataFrame()\n",
    "    target2 = pd.DataFrame()\n",
    "    target3 = pd.DataFrame()\n",
    "    target4 = pd.DataFrame()\n",
    "    target5 = pd.DataFrame()\n",
    "    # metaEx = pd.read_csv('/home/jovyan/scratch2-shared/david/colopaint3D/notebooks/settings/spher010-metadata.csv', sep=',')\n",
    "\n",
    "    # barcode = df['Metadata_Barcode'].unique()[0]\n",
    "    # metaEx = metaEx[~(metaEx['Metadata_Barcode'] == df['Metadata_Barcode'].unique()[0])]\n",
    "    metaEx = mdf_op\n",
    "    target1['Metadata_Cmpd'] = df['Metadata_Well'].apply(lambda x: metaEx.loc[metaEx['well_id'] == x, 'cmpdname'].values[0])\n",
    "    df.insert(3, 'Metadata_Cmpd', target1['Metadata_Cmpd'])\n",
    "    target2['Metadata_Line'] = df['Metadata_Well'].apply(lambda x: metaEx.loc[metaEx['well_id'] == x, 'cell_line'].values[0])\n",
    "    df.insert(4, 'Metadata_Line', target2['Metadata_Line'])\n",
    "    target3['Metadata_Moa'] = df['Metadata_Well'].apply(lambda x: metaEx.loc[metaEx['well_id'] == x, 'pathway'].values[0])\n",
    "    df.insert(5, 'Metadata_Moa', target3['Metadata_Moa'])\n",
    "    target4['Metadata_InChiKey'] = df['Metadata_Well'].apply(lambda x: metaEx.loc[metaEx['well_id'] == x, 'inkey'].values[0])\n",
    "    df.insert(5, 'Metadata_InChiKey', target4['Metadata_InChiKey'])\n",
    "    target4['Metadata_Target'] = df['Metadata_Well'].apply(lambda x: metaEx.loc[metaEx['well_id'] == x, 'target'].values[0])\n",
    "    df.insert(5, 'Metadata_Target', target4['Metadata_Target'])\n",
    "    \n",
    "    df = df.copy()\n",
    "    del target1\n",
    "    del target2\n",
    "    del target3\n",
    "    del metaEx\n",
    "    gc.collect()\n",
    "\n",
    "    ### Standardizing to DMSO within Plate.\n",
    "    df_dmso = df[(df['Metadata_Cmpd'] == 'dmso')]\n",
    "    df_dmso = df_dmso.select_dtypes(include=np.number)\n",
    "    df_dmso = df_dmso.loc[:,~df_dmso.columns.str.contains('Metadata_', case=True)]\n",
    "    std_values = df_dmso.std(skipna=True)\n",
    "    std_values[std_values == 0] = 1\n",
    "    mean_values = df_dmso.mean(skipna=True)\n",
    "\n",
    "    df_norm = df.select_dtypes(include=np.number)\n",
    "    df_norm = df_norm.loc[:,~df_norm.columns.str.contains('Metadata_', case=True)]\n",
    "    df_norm = df_norm.loc[:,~df_norm.columns.str.contains('_Location_Center_', case=True)]\n",
    "    df_norm = df_norm.loc[:,~df_norm.columns.str.contains('_Neighbor_', case=True)]\n",
    "    df_norm = ((df_norm - mean_values) / std_values)\n",
    "    df[df_norm.columns] = df_norm\n",
    "    df = df.copy()\n",
    "\n",
    "    del nuclei\n",
    "    del cytoplasm\n",
    "    del cells\n",
    "\n",
    "    df.to_parquet('{}/spheroid{}SingleCell.parquet'.format(OutputDir, df['Metadata_Barcode'].unique()[0]))\n",
    "    # df_scall = pd.concat([df_scall, df], ignore_index=True)\n",
    "    toNpy = df.loc[:,~df.columns.str.contains('Metadata_')]\n",
    "    toNpy.reset_index(inplace=True, drop=True)\n",
    "    toNpy = toNpy.copy()\n",
    "    dataNpy = toNpy.to_numpy()\n",
    "    print(f'{df[\"Metadata_Barcode\"].unique()[0]}has NaNs: {np.isnan(dataNpy).any()}')\n",
    "\n",
    "    ### Mean and Median compositions\n",
    "    df['Metadata_ID'] = df['Metadata_Barcode'] + '+' + df['Metadata_Well'] + '+' + df['Metadata_Cmpd']\n",
    "    metadf = pd.DataFrame()\n",
    "    dictMedian = { i : np.nanmedian for i in numeric_df}\n",
    "    mediandf = df.groupby('Metadata_ID').agg(dictMedian).reset_index(drop=False)\n",
    "    metadatacol = mediandf.pop('Metadata_ID')\n",
    "    metadf[['Metadata_Barcode','Metadata_Well','Metadata_Cmpd']] = metadatacol.str.split('+', expand=True)\n",
    "    mediandf.insert(0, 'Metadata_Barcode', metadf['Metadata_Barcode'])\n",
    "    mediandf.insert(1, 'Metadata_Well', metadf['Metadata_Well'])\n",
    "    mediandf.insert(2, 'Metadata_Cmpd', metadf['Metadata_Cmpd'])\n",
    "\n",
    "    dictMean = { i : np.nanmean for i in numeric_df}\n",
    "    meandf = df.groupby('Metadata_ID').agg(dictMean).reset_index(drop=False)\n",
    "    metadatacol = meandf.pop('Metadata_ID')\n",
    "    metadf[['Metadata_Barcode','Metadata_Well','Metadata_Cmpd']] = metadatacol.str.split('+', expand=True)\n",
    "    meandf.insert(0, 'Metadata_Barcode', metadf['Metadata_Barcode'])\n",
    "    meandf.insert(1, 'Metadata_Well', metadf['Metadata_Well'])\n",
    "    meandf.insert(2, 'Metadata_Cmpd', metadf['Metadata_Cmpd'])\n",
    "    del metadatacol\n",
    "    del metadf\n",
    "    gc.collect()\n",
    "\n",
    "    # mediandf.to_parquet('{}/spheroid{}Median.parquet'.format(OutputDir, df['Metadata_Barcode'].unique()[0]))\n",
    "    # meandf.to_parquet('{}/spheroid{}Mean.parquet'.format(OutputDir, df['Metadata_Barcode'].unique()[0]))\n",
    "    # # df_meanall = pd.concat([df_meanall, meandf], ignore_index=True)\n",
    "    # # df_medianll = pd.concat([df_medianall, mediandf], ignore_index=True)\n",
    "    \n",
    "    # # del df\n",
    "    # del mediandf\n",
    "    # del meandf\n",
    "    gc.collect()\n",
    "# df_scall.to_parquet('{}/spheroidSingleCell.parquet'.format(OutputDir))\n",
    "# df_meanall.to_parquet('{}/spheroidMean.parquet'.format(OutputDir))\n",
    "# df_medianall.to_parquet('{}/spheroidMedian.parquet'.format(OutputDir))"
   ]
  },
  {
   "cell_type": "code",
   "execution_count": null,
   "metadata": {},
   "outputs": [
    {
     "name": "stdout",
     "output_type": "stream",
     "text": [
      "Current date and time : \n",
      "2023-10-12 12:18:38\n"
     ]
    }
   ],
   "source": [
    "now = datetime.datetime.now()\n",
    "print ('Current date and time : ')\n",
    "print (now.strftime('%Y-%m-%d %H:%M:%S'))"
   ]
  },
  {
   "cell_type": "code",
   "execution_count": null,
   "metadata": {},
   "outputs": [],
   "source": [
    "# df_scall.head()"
   ]
  },
  {
   "cell_type": "code",
   "execution_count": null,
   "metadata": {},
   "outputs": [],
   "source": [
    "# df_meanall.head()"
   ]
  },
  {
   "cell_type": "code",
   "execution_count": null,
   "metadata": {},
   "outputs": [],
   "source": [
    "# toNpy = df_scall.loc[:,~df_scall.columns.str.contains('Metadata_')]\n",
    "# toNpy.reset_index(inplace=True, drop=True)\n",
    "# toNpy = toNpy.copy()\n",
    "# dataNpy = toNpy.to_numpy()\n",
    "# np.isnan(dataNpy).any()\n",
    "# colnames = toNpy.columns"
   ]
  },
  {
   "cell_type": "code",
   "execution_count": null,
   "metadata": {},
   "outputs": [],
   "source": []
  },
  {
   "cell_type": "code",
   "execution_count": null,
   "metadata": {},
   "outputs": [],
   "source": []
  }
 ],
 "metadata": {
  "kernelspec": {
   "display_name": "Python 3.8.10 64-bit",
   "language": "python",
   "name": "python3"
  },
  "language_info": {
   "codemirror_mode": {
    "name": "ipython",
    "version": 3
   },
   "file_extension": ".py",
   "mimetype": "text/x-python",
   "name": "python",
   "nbconvert_exporter": "python",
   "pygments_lexer": "ipython3",
   "version": "3.8.10"
  },
  "vscode": {
   "interpreter": {
    "hash": "916dbcbb3f70747c44a77c7bcd40155683ae19c65e1c03b4aa3499c5328201f1"
   }
  }
 },
 "nbformat": 4,
 "nbformat_minor": 4
}
