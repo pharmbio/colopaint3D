{
 "cells": [
  {
   "cell_type": "markdown",
   "metadata": {},
   "source": [
    "## Implementation of normalized variance\n",
    "\n",
    "https://analyticalsciencejournals.onlinelibrary.wiley.com/doi/epdf/10.1002/jemt.20118\n",
    "\n",
    "https://cellprofiler-manual.s3.amazonaws.com/CellProfiler-4.0.5/modules/measurement.html#:~:text=Measurements%20made%20by%20this%20module,-Blur%20metrics&text=FocusScore%3A%20A%20measure%20of%20the,scores%20correspond%20to%20lower%20bluriness. "
   ]
  },
  {
   "cell_type": "code",
   "execution_count": null,
   "metadata": {},
   "outputs": [],
   "source": [
    "# // this is valid JavaScript\n",
    "# // two slashes indicate a comment (it is skipped by the JS engine)\n",
    "# // the script is made of statements delimited by a semi-colon ;\n",
    "# // variables must be declared before use with var statement\n",
    "# var a = 1;                       // Number\n",
    "# var b = 0.5;                     // Number\n",
    "# var str1 = \"Hello\";              // String using double quotes\n",
    "# var array = [ 1, 2, 3 ];         // Array with three items\n",
    "# var count = array.length;        // Array has .length attribute\n",
    "# var emptyarray = [];             // Empty array\n",
    "# var c = array[1];                // accessing array item with zero-based index\n",
    "\n",
    "# // blocks are used to group more statements together with { }\n",
    "# // if is a conditional statement that executes a block if the condition is true\n",
    "# // if can be followed by more than one else if () and an else\n",
    "# // variable declared inside a block is visible in the block only\n",
    "\n",
    "# if (a == 10) {       // == is comparison equal while = is for assignemt\n",
    "#    var d = c - a;    // variable visible only in this block\n",
    "#    b = b * d;        // can be shortened by b *= d (multiplication and assignment)\n",
    "# }\n",
    "# else if (100 < a) {\n",
    "#    b = 1e6;          // numbers in scientific notation\n",
    "# }\n",
    "# else                 // braces can be omited if there is just one statement\n",
    "#    b = 0;\n",
    "\n",
    "# // for loop is useful to iterate over Arrays\n",
    "# // typically an index (i) is declared and iterated from 0 until length\n",
    "\n",
    "# var sum = 0;\n",
    "# for (var i = 0; i < array.length; i++) // i++ is shortened i += 1 and i = i + 1\n",
    "#    sum += array[i];\n",
    "\n",
    "# // functions are pieces of code block that can be called at any other place\n",
    "# // functions may have parameters and may return a value\n",
    "\n",
    "# function abs(value) { // abs function definition: computes absolute value\n",
    "\n",
    "#    // conditional (ternary) operator (condition) ? tru_value : false_value\n",
    "#    return value < 0 ? -value : value;\n",
    "# }\n",
    "\n",
    "# // function call\n",
    "# var one = abs(-1);"
   ]
  },
  {
   "cell_type": "code",
   "execution_count": null,
   "metadata": {},
   "outputs": [],
   "source": [
    "import numpy as np\n",
    "import matplotlib.pyplot as plt\n",
    "import pandas as pd"
   ]
  },
  {
   "cell_type": "code",
   "execution_count": null,
   "metadata": {},
   "outputs": [],
   "source": [
    "# B06 = [2.30935390487723E-05,\n",
    "# 6.21572013278811E-05,\n",
    "# 0.000119173138878,\n",
    "# 0.00021597864484,\n",
    "# 0.000132916806457,\n",
    "# 0.000124029927739,\n",
    "# 0.000317947916273,\n",
    "# 0.000364601524224,\n",
    "# 0.00040335057836,\n",
    "# 0.000327100868552,\n",
    "# 0.000397284723792,\n",
    "# 0.000363881548587,\n",
    "# 0.00024956171438,\n",
    "# 7.49251953216709E-05,\n",
    "# 3.61659715424399E-05,\n",
    "# 2.19459964612334E-05,\n",
    "# ]\n",
    "\n",
    "# J21 = [9.42602074681451E-05,\n",
    "# 0.000103444990235,\n",
    "# 0.000211695322001,\n",
    "# 0.000178228145004,\n",
    "# 0.000168585419328,\n",
    "# 0.000161563997858,\n",
    "# 0.000163812081065,\n",
    "# 0.000126091572223,\n",
    "# 0.000137869802033,\n",
    "# 0.000147287389891,\n",
    "# 9.77430683984055E-05,\n",
    "# 6.55289431816835E-05,\n",
    "# 6.92705983360348E-05,\n",
    "# 8.08220831082534E-05,\n",
    "# 5.51835570339594E-05,\n",
    "# 2.43120535569605E-05,\n",
    "# ]\n"
   ]
  },
  {
   "cell_type": "code",
   "execution_count": null,
   "metadata": {},
   "outputs": [],
   "source": [
    "# Import csv from file to pandas dataframe\n",
    "df = pd.read_csv('/Users/chririn/Documents/ServerPortal/Image.csv', header=None)"
   ]
  },
  {
   "cell_type": "code",
   "execution_count": null,
   "metadata": {},
   "outputs": [],
   "source": [
    "#  Plot the data\n",
    "\n",
    "fig = plt.figure(figsize=(15, 6))\n",
    "plt.plot(B06)\n",
    "\n",
    "# Take the derivative of the data\n",
    "B06_diff = np.diff(B06)\n",
    "\n",
    "fig = plt.figure(figsize=(15, 6))\n",
    "plt.plot(B06_diff)"
   ]
  },
  {
   "cell_type": "code",
   "execution_count": null,
   "metadata": {},
   "outputs": [],
   "source": [
    "#  Plot the data\n",
    "\n",
    "fig = plt.figure(figsize=(15, 6))\n",
    "plt.plot(J21)\n",
    "\n",
    "# Take the derivative of the data\n",
    "J21_diff = np.diff(J21)\n",
    "\n",
    "fig = plt.figure(figsize=(15, 6))\n",
    "plt.plot(J21_diff)"
   ]
  }
 ],
 "metadata": {
  "kernelspec": {
   "display_name": "Python 3",
   "language": "python",
   "name": "python3"
  },
  "language_info": {
   "codemirror_mode": {
    "name": "ipython",
    "version": 3
   },
   "file_extension": ".py",
   "mimetype": "text/x-python",
   "name": "python",
   "nbconvert_exporter": "python",
   "pygments_lexer": "ipython3",
   "version": "3.8.10"
  },
  "orig_nbformat": 4
 },
 "nbformat": 4,
 "nbformat_minor": 2
}
