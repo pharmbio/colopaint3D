{
 "cells": [
  {
   "cell_type": "code",
   "execution_count": 9,
   "metadata": {},
   "outputs": [],
   "source": [
    "# Compare all sort of prepocessing permutations"
   ]
  },
  {
   "cell_type": "code",
   "execution_count": 10,
   "metadata": {},
   "outputs": [],
   "source": [
    "import pandas as pd\n",
    "import plotly.express as px\n"
   ]
  },
  {
   "cell_type": "code",
   "execution_count": 11,
   "metadata": {},
   "outputs": [],
   "source": [
    "# Import the data file \n",
    "# df = pd.read_csv('../ComparePreprocessing.csv')\n",
    "df = pd.read_csv('../benchmark2.csv',index_col=0)"
   ]
  },
  {
   "cell_type": "code",
   "execution_count": 12,
   "metadata": {},
   "outputs": [
    {
     "data": {
      "application/vnd.plotly.v1+json": {
       "config": {
        "plotlyServerURL": "https://plot.ly"
       },
       "data": [
        {
         "hovertemplate": "name=//1_FeaturesImages_meanstd/WellAggregates/HCT116_MedianAgg_meanstd<br>conc_step=%{x}<br>percent_replicating=%{y}<extra></extra>",
         "legendgroup": "//1_FeaturesImages_meanstd/WellAggregates/HCT116_MedianAgg_meanstd",
         "line": {
          "color": "#636efa",
          "dash": "solid"
         },
         "marker": {
          "symbol": "circle"
         },
         "mode": "lines",
         "name": "//1_FeaturesImages_meanstd/WellAggregates/HCT116_MedianAgg_meanstd",
         "orientation": "v",
         "showlegend": true,
         "type": "scatter",
         "x": [
          1,
          2,
          3,
          4
         ],
         "xaxis": "x",
         "y": [
          24.13793103,
          28.84615385,
          52.94117647,
          41.30434783
         ],
         "yaxis": "y"
        },
        {
         "hovertemplate": "name=/1_FeaturesImages_meanstd_PerPlate/WellAggregates/HCT116_MedianAgg_meanstd<br>conc_step=%{x}<br>percent_replicating=%{y}<extra></extra>",
         "legendgroup": "/1_FeaturesImages_meanstd_PerPlate/WellAggregates/HCT116_MedianAgg_meanstd",
         "line": {
          "color": "#EF553B",
          "dash": "solid"
         },
         "marker": {
          "symbol": "circle"
         },
         "mode": "lines",
         "name": "/1_FeaturesImages_meanstd_PerPlate/WellAggregates/HCT116_MedianAgg_meanstd",
         "orientation": "v",
         "showlegend": true,
         "type": "scatter",
         "x": [
          1,
          2,
          3,
          4
         ],
         "xaxis": "x",
         "y": [
          12.06896552,
          21.15384615,
          35.29411765,
          19.56521739
         ],
         "yaxis": "y"
        },
        {
         "hovertemplate": "name=/1_FeaturesImages_minmax/WellAggregates/HCT116_MedianAgg_meanstd<br>conc_step=%{x}<br>percent_replicating=%{y}<extra></extra>",
         "legendgroup": "/1_FeaturesImages_minmax/WellAggregates/HCT116_MedianAgg_meanstd",
         "line": {
          "color": "#00cc96",
          "dash": "solid"
         },
         "marker": {
          "symbol": "circle"
         },
         "mode": "lines",
         "name": "/1_FeaturesImages_minmax/WellAggregates/HCT116_MedianAgg_meanstd",
         "orientation": "v",
         "showlegend": true,
         "type": "scatter",
         "x": [
          1,
          2,
          3,
          4
         ],
         "xaxis": "x",
         "y": [
          10.34482759,
          26.92307692,
          37.25490196,
          39.13043478
         ],
         "yaxis": "y"
        },
        {
         "hovertemplate": "name=/1_FeaturesImages_minmax_PerPlate/WellAggregates/HCT116_MedianAgg_meanstd<br>conc_step=%{x}<br>percent_replicating=%{y}<extra></extra>",
         "legendgroup": "/1_FeaturesImages_minmax_PerPlate/WellAggregates/HCT116_MedianAgg_meanstd",
         "line": {
          "color": "#ab63fa",
          "dash": "solid"
         },
         "marker": {
          "symbol": "circle"
         },
         "mode": "lines",
         "name": "/1_FeaturesImages_minmax_PerPlate/WellAggregates/HCT116_MedianAgg_meanstd",
         "orientation": "v",
         "showlegend": true,
         "type": "scatter",
         "x": [
          1,
          2,
          3,
          4
         ],
         "xaxis": "x",
         "y": [
          13.79310345,
          25,
          35.29411765,
          41.30434783
         ],
         "yaxis": "y"
        },
        {
         "hovertemplate": "name=/1_FeaturesImages_none/WellAggregates/HCT116_MedianAgg_meanstd<br>conc_step=%{x}<br>percent_replicating=%{y}<extra></extra>",
         "legendgroup": "/1_FeaturesImages_none/WellAggregates/HCT116_MedianAgg_meanstd",
         "line": {
          "color": "#FFA15A",
          "dash": "solid"
         },
         "marker": {
          "symbol": "circle"
         },
         "mode": "lines",
         "name": "/1_FeaturesImages_none/WellAggregates/HCT116_MedianAgg_meanstd",
         "orientation": "v",
         "showlegend": true,
         "type": "scatter",
         "x": [
          1,
          2,
          3,
          4
         ],
         "xaxis": "x",
         "y": [
          12.06896552,
          26.92307692,
          35.29411765,
          28.26086957
         ],
         "yaxis": "y"
        },
        {
         "hovertemplate": "name=/1_FeaturesImages_prototype_perSlice/WellAggregates/HCT116_MedianAgg_meanstd<br>conc_step=%{x}<br>percent_replicating=%{y}<extra></extra>",
         "legendgroup": "/1_FeaturesImages_prototype_perSlice/WellAggregates/HCT116_MedianAgg_meanstd",
         "line": {
          "color": "#19d3f3",
          "dash": "solid"
         },
         "marker": {
          "symbol": "circle"
         },
         "mode": "lines",
         "name": "/1_FeaturesImages_prototype_perSlice/WellAggregates/HCT116_MedianAgg_meanstd",
         "orientation": "v",
         "showlegend": true,
         "type": "scatter",
         "x": [
          1,
          2,
          3,
          4
         ],
         "xaxis": "x",
         "y": [
          29.31034483,
          36.53846154,
          50.98039216,
          36.95652174
         ],
         "yaxis": "y"
        },
        {
         "hovertemplate": "name=/1_FeaturesImages_meanstd/WellAggregates/HCT116_MedianAgg_meanstd_afternorm<br>conc_step=%{x}<br>percent_replicating=%{y}<extra></extra>",
         "legendgroup": "/1_FeaturesImages_meanstd/WellAggregates/HCT116_MedianAgg_meanstd_afternorm",
         "line": {
          "color": "#FF6692",
          "dash": "solid"
         },
         "marker": {
          "symbol": "circle"
         },
         "mode": "lines",
         "name": "/1_FeaturesImages_meanstd/WellAggregates/HCT116_MedianAgg_meanstd_afternorm",
         "orientation": "v",
         "showlegend": true,
         "type": "scatter",
         "x": [
          1,
          2,
          3,
          4
         ],
         "xaxis": "x",
         "y": [
          37.93103448,
          51.92307692,
          52.94117647,
          50
         ],
         "yaxis": "y"
        },
        {
         "hovertemplate": "name=/1_FeaturesImages_meanstd_PerPlate/WellAggregates/HCT116_MedianAgg_meanstd_afternorm<br>conc_step=%{x}<br>percent_replicating=%{y}<extra></extra>",
         "legendgroup": "/1_FeaturesImages_meanstd_PerPlate/WellAggregates/HCT116_MedianAgg_meanstd_afternorm",
         "line": {
          "color": "#B6E880",
          "dash": "solid"
         },
         "marker": {
          "symbol": "circle"
         },
         "mode": "lines",
         "name": "/1_FeaturesImages_meanstd_PerPlate/WellAggregates/HCT116_MedianAgg_meanstd_afternorm",
         "orientation": "v",
         "showlegend": true,
         "type": "scatter",
         "x": [
          1,
          2,
          3,
          4
         ],
         "xaxis": "x",
         "y": [
          39.65517241,
          51.92307692,
          56.8627451,
          58.69565217
         ],
         "yaxis": "y"
        },
        {
         "hovertemplate": "name=/1_FeaturesImages_minmax/WellAggregates/HCT116_MedianAgg_meanstd_afternorm<br>conc_step=%{x}<br>percent_replicating=%{y}<extra></extra>",
         "legendgroup": "/1_FeaturesImages_minmax/WellAggregates/HCT116_MedianAgg_meanstd_afternorm",
         "line": {
          "color": "#FF97FF",
          "dash": "solid"
         },
         "marker": {
          "symbol": "circle"
         },
         "mode": "lines",
         "name": "/1_FeaturesImages_minmax/WellAggregates/HCT116_MedianAgg_meanstd_afternorm",
         "orientation": "v",
         "showlegend": true,
         "type": "scatter",
         "x": [
          1,
          2,
          3,
          4
         ],
         "xaxis": "x",
         "y": [
          43.10344828,
          50,
          58.82352941,
          63.04347826
         ],
         "yaxis": "y"
        },
        {
         "hovertemplate": "name=/1_FeaturesImages_minmax_PerPlate/WellAggregates/HCT116_MedianAgg_meanstd_afternorm<br>conc_step=%{x}<br>percent_replicating=%{y}<extra></extra>",
         "legendgroup": "/1_FeaturesImages_minmax_PerPlate/WellAggregates/HCT116_MedianAgg_meanstd_afternorm",
         "line": {
          "color": "#FECB52",
          "dash": "solid"
         },
         "marker": {
          "symbol": "circle"
         },
         "mode": "lines",
         "name": "/1_FeaturesImages_minmax_PerPlate/WellAggregates/HCT116_MedianAgg_meanstd_afternorm",
         "orientation": "v",
         "showlegend": true,
         "type": "scatter",
         "x": [
          1,
          2,
          3,
          4
         ],
         "xaxis": "x",
         "y": [
          39.65517241,
          53.84615385,
          64.70588235,
          58.69565217
         ],
         "yaxis": "y"
        },
        {
         "hovertemplate": "name=/1_FeaturesImages_none/WellAggregates/HCT116_MedianAgg_meanstd_afternorm<br>conc_step=%{x}<br>percent_replicating=%{y}<extra></extra>",
         "legendgroup": "/1_FeaturesImages_none/WellAggregates/HCT116_MedianAgg_meanstd_afternorm",
         "line": {
          "color": "#636efa",
          "dash": "solid"
         },
         "marker": {
          "symbol": "circle"
         },
         "mode": "lines",
         "name": "/1_FeaturesImages_none/WellAggregates/HCT116_MedianAgg_meanstd_afternorm",
         "orientation": "v",
         "showlegend": true,
         "type": "scatter",
         "x": [
          1,
          2,
          3,
          4
         ],
         "xaxis": "x",
         "y": [
          39.65517241,
          51.92307692,
          50.98039216,
          63.04347826
         ],
         "yaxis": "y"
        },
        {
         "hovertemplate": "name=/1_FeaturesImages_prototype_perSlice/WellAggregates/HCT116_MedianAgg_meanstd_afternorm<br>conc_step=%{x}<br>percent_replicating=%{y}<extra></extra>",
         "legendgroup": "/1_FeaturesImages_prototype_perSlice/WellAggregates/HCT116_MedianAgg_meanstd_afternorm",
         "line": {
          "color": "#EF553B",
          "dash": "solid"
         },
         "marker": {
          "symbol": "circle"
         },
         "mode": "lines",
         "name": "/1_FeaturesImages_prototype_perSlice/WellAggregates/HCT116_MedianAgg_meanstd_afternorm",
         "orientation": "v",
         "showlegend": true,
         "type": "scatter",
         "x": [
          1,
          2,
          3,
          4
         ],
         "xaxis": "x",
         "y": [
          46.55172414,
          59.61538462,
          66.66666667,
          60.86956522
         ],
         "yaxis": "y"
        },
        {
         "hovertemplate": "name=../1_FeaturesImages_meanstd/SingleSlice/<br>conc_step=%{x}<br>percent_replicating=%{y}<extra></extra>",
         "legendgroup": "../1_FeaturesImages_meanstd/SingleSlice/",
         "line": {
          "color": "#00cc96",
          "dash": "solid"
         },
         "marker": {
          "symbol": "circle"
         },
         "mode": "lines",
         "name": "../1_FeaturesImages_meanstd/SingleSlice/",
         "orientation": "v",
         "showlegend": true,
         "type": "scatter",
         "x": [
          1,
          2,
          3,
          4
         ],
         "xaxis": "x",
         "y": [
          32.69230769,
          46.15384615,
          62.74509804,
          60.86956522
         ],
         "yaxis": "y"
        },
        {
         "hovertemplate": "name=../1_FeaturesImages_meanstd_PerPlate/SingleSlice/<br>conc_step=%{x}<br>percent_replicating=%{y}<extra></extra>",
         "legendgroup": "../1_FeaturesImages_meanstd_PerPlate/SingleSlice/",
         "line": {
          "color": "#ab63fa",
          "dash": "solid"
         },
         "marker": {
          "symbol": "circle"
         },
         "mode": "lines",
         "name": "../1_FeaturesImages_meanstd_PerPlate/SingleSlice/",
         "orientation": "v",
         "showlegend": true,
         "type": "scatter",
         "x": [
          1,
          2,
          3,
          4
         ],
         "xaxis": "x",
         "y": [
          42.30769231,
          48.07692308,
          64.70588235,
          63.04347826
         ],
         "yaxis": "y"
        },
        {
         "hovertemplate": "name=../1_FeaturesImages_minmax/SingleSlice/<br>conc_step=%{x}<br>percent_replicating=%{y}<extra></extra>",
         "legendgroup": "../1_FeaturesImages_minmax/SingleSlice/",
         "line": {
          "color": "#FFA15A",
          "dash": "solid"
         },
         "marker": {
          "symbol": "circle"
         },
         "mode": "lines",
         "name": "../1_FeaturesImages_minmax/SingleSlice/",
         "orientation": "v",
         "showlegend": true,
         "type": "scatter",
         "x": [
          1,
          2,
          3,
          4
         ],
         "xaxis": "x",
         "y": [
          42.30769231,
          46.15384615,
          56.8627451,
          63.04347826
         ],
         "yaxis": "y"
        },
        {
         "hovertemplate": "name=../1_FeaturesImages_minmax_PerPlate/SingleSlice/<br>conc_step=%{x}<br>percent_replicating=%{y}<extra></extra>",
         "legendgroup": "../1_FeaturesImages_minmax_PerPlate/SingleSlice/",
         "line": {
          "color": "#19d3f3",
          "dash": "solid"
         },
         "marker": {
          "symbol": "circle"
         },
         "mode": "lines",
         "name": "../1_FeaturesImages_minmax_PerPlate/SingleSlice/",
         "orientation": "v",
         "showlegend": true,
         "type": "scatter",
         "x": [
          1,
          2,
          3,
          4
         ],
         "xaxis": "x",
         "y": [
          38.46153846,
          46.15384615,
          64.70588235,
          63.04347826
         ],
         "yaxis": "y"
        },
        {
         "hovertemplate": "name=../1_FeaturesImages_none/SingleSlice/<br>conc_step=%{x}<br>percent_replicating=%{y}<extra></extra>",
         "legendgroup": "../1_FeaturesImages_none/SingleSlice/",
         "line": {
          "color": "#FF6692",
          "dash": "solid"
         },
         "marker": {
          "symbol": "circle"
         },
         "mode": "lines",
         "name": "../1_FeaturesImages_none/SingleSlice/",
         "orientation": "v",
         "showlegend": true,
         "type": "scatter",
         "x": [
          1,
          2,
          3,
          4
         ],
         "xaxis": "x",
         "y": [
          38.46153846,
          61.53846154,
          60.78431373,
          63.04347826
         ],
         "yaxis": "y"
        },
        {
         "hovertemplate": "name=../1_FeaturesImages_prototype_perSlice/SingleSlice/<br>conc_step=%{x}<br>percent_replicating=%{y}<extra></extra>",
         "legendgroup": "../1_FeaturesImages_prototype_perSlice/SingleSlice/",
         "line": {
          "color": "#B6E880",
          "dash": "solid"
         },
         "marker": {
          "symbol": "circle"
         },
         "mode": "lines",
         "name": "../1_FeaturesImages_prototype_perSlice/SingleSlice/",
         "orientation": "v",
         "showlegend": true,
         "type": "scatter",
         "x": [
          1,
          2,
          3,
          4
         ],
         "xaxis": "x",
         "y": [
          46.15384615,
          51.92307692,
          70.58823529,
          58.69565217
         ],
         "yaxis": "y"
        },
        {
         "hovertemplate": "name=../old_features/1_FeaturesImages_normalized/SingleSlice/<br>conc_step=%{x}<br>percent_replicating=%{y}<extra></extra>",
         "legendgroup": "../old_features/1_FeaturesImages_normalized/SingleSlice/",
         "line": {
          "color": "#FF97FF",
          "dash": "solid"
         },
         "marker": {
          "symbol": "circle"
         },
         "mode": "lines",
         "name": "../old_features/1_FeaturesImages_normalized/SingleSlice/",
         "orientation": "v",
         "showlegend": true,
         "type": "scatter",
         "x": [
          1,
          2,
          3,
          4
         ],
         "xaxis": "x",
         "y": [
          44.23076923,
          44.23076923,
          58.82352941,
          63.04347826
         ],
         "yaxis": "y"
        },
        {
         "hovertemplate": "name=../old_features/1_FeaturesImages_normalized/SingleSlice_median/<br>conc_step=%{x}<br>percent_replicating=%{y}<extra></extra>",
         "legendgroup": "../old_features/1_FeaturesImages_normalized/SingleSlice_median/",
         "line": {
          "color": "#FECB52",
          "dash": "solid"
         },
         "marker": {
          "symbol": "circle"
         },
         "mode": "lines",
         "name": "../old_features/1_FeaturesImages_normalized/SingleSlice_median/",
         "orientation": "v",
         "showlegend": true,
         "type": "scatter",
         "x": [
          1,
          2,
          3,
          4
         ],
         "xaxis": "x",
         "y": [
          38.46153846,
          50,
          68.62745098,
          67.39130435
         ],
         "yaxis": "y"
        },
        {
         "hovertemplate": "name=../old_features/1_FeaturesImages_ns/SingleSlice_median/<br>conc_step=%{x}<br>percent_replicating=%{y}<extra></extra>",
         "legendgroup": "../old_features/1_FeaturesImages_ns/SingleSlice_median/",
         "line": {
          "color": "#636efa",
          "dash": "solid"
         },
         "marker": {
          "symbol": "circle"
         },
         "mode": "lines",
         "name": "../old_features/1_FeaturesImages_ns/SingleSlice_median/",
         "orientation": "v",
         "showlegend": true,
         "type": "scatter",
         "x": [
          1,
          2,
          3,
          4
         ],
         "xaxis": "x",
         "y": [
          42.30769231,
          57.69230769,
          64.70588235,
          60.86956522
         ],
         "yaxis": "y"
        },
        {
         "hovertemplate": "name=../1_FeaturesImages_meanstd/SingleSlice_median/<br>conc_step=%{x}<br>percent_replicating=%{y}<extra></extra>",
         "legendgroup": "../1_FeaturesImages_meanstd/SingleSlice_median/",
         "line": {
          "color": "#EF553B",
          "dash": "solid"
         },
         "marker": {
          "symbol": "circle"
         },
         "mode": "lines",
         "name": "../1_FeaturesImages_meanstd/SingleSlice_median/",
         "orientation": "v",
         "showlegend": true,
         "type": "scatter",
         "x": [
          1,
          2,
          3,
          4
         ],
         "xaxis": "x",
         "y": [
          34.61538462,
          55.76923077,
          66.66666667,
          65.2173913
         ],
         "yaxis": "y"
        },
        {
         "hovertemplate": "name=../1_FeaturesImages_meanstd_PerPlate/SingleSlice_median/<br>conc_step=%{x}<br>percent_replicating=%{y}<extra></extra>",
         "legendgroup": "../1_FeaturesImages_meanstd_PerPlate/SingleSlice_median/",
         "line": {
          "color": "#00cc96",
          "dash": "solid"
         },
         "marker": {
          "symbol": "circle"
         },
         "mode": "lines",
         "name": "../1_FeaturesImages_meanstd_PerPlate/SingleSlice_median/",
         "orientation": "v",
         "showlegend": true,
         "type": "scatter",
         "x": [
          1,
          2,
          3,
          4
         ],
         "xaxis": "x",
         "y": [
          42.30769231,
          50,
          66.66666667,
          67.39130435
         ],
         "yaxis": "y"
        },
        {
         "hovertemplate": "name=../1_FeaturesImages_minmax/SingleSlice_median/<br>conc_step=%{x}<br>percent_replicating=%{y}<extra></extra>",
         "legendgroup": "../1_FeaturesImages_minmax/SingleSlice_median/",
         "line": {
          "color": "#ab63fa",
          "dash": "solid"
         },
         "marker": {
          "symbol": "circle"
         },
         "mode": "lines",
         "name": "../1_FeaturesImages_minmax/SingleSlice_median/",
         "orientation": "v",
         "showlegend": true,
         "type": "scatter",
         "x": [
          1,
          2,
          3,
          4
         ],
         "xaxis": "x",
         "y": [
          44.23076923,
          48.07692308,
          66.66666667,
          58.69565217
         ],
         "yaxis": "y"
        },
        {
         "hovertemplate": "name=../1_FeaturesImages_minmax_PerPlate/SingleSlice_median/<br>conc_step=%{x}<br>percent_replicating=%{y}<extra></extra>",
         "legendgroup": "../1_FeaturesImages_minmax_PerPlate/SingleSlice_median/",
         "line": {
          "color": "#FFA15A",
          "dash": "solid"
         },
         "marker": {
          "symbol": "circle"
         },
         "mode": "lines",
         "name": "../1_FeaturesImages_minmax_PerPlate/SingleSlice_median/",
         "orientation": "v",
         "showlegend": true,
         "type": "scatter",
         "x": [
          1,
          2,
          3,
          4
         ],
         "xaxis": "x",
         "y": [
          42.30769231,
          55.76923077,
          64.70588235,
          65.2173913
         ],
         "yaxis": "y"
        },
        {
         "hovertemplate": "name=../1_FeaturesImages_none/SingleSlice_median/<br>conc_step=%{x}<br>percent_replicating=%{y}<extra></extra>",
         "legendgroup": "../1_FeaturesImages_none/SingleSlice_median/",
         "line": {
          "color": "#19d3f3",
          "dash": "solid"
         },
         "marker": {
          "symbol": "circle"
         },
         "mode": "lines",
         "name": "../1_FeaturesImages_none/SingleSlice_median/",
         "orientation": "v",
         "showlegend": true,
         "type": "scatter",
         "x": [
          1,
          2,
          3,
          4
         ],
         "xaxis": "x",
         "y": [
          42.30769231,
          50,
          66.66666667,
          67.39130435
         ],
         "yaxis": "y"
        }
       ],
       "layout": {
        "legend": {
         "title": {
          "text": "name"
         },
         "tracegroupgap": 0
        },
        "margin": {
         "t": 60
        },
        "template": {
         "data": {
          "bar": [
           {
            "error_x": {
             "color": "#2a3f5f"
            },
            "error_y": {
             "color": "#2a3f5f"
            },
            "marker": {
             "line": {
              "color": "#E5ECF6",
              "width": 0.5
             },
             "pattern": {
              "fillmode": "overlay",
              "size": 10,
              "solidity": 0.2
             }
            },
            "type": "bar"
           }
          ],
          "barpolar": [
           {
            "marker": {
             "line": {
              "color": "#E5ECF6",
              "width": 0.5
             },
             "pattern": {
              "fillmode": "overlay",
              "size": 10,
              "solidity": 0.2
             }
            },
            "type": "barpolar"
           }
          ],
          "carpet": [
           {
            "aaxis": {
             "endlinecolor": "#2a3f5f",
             "gridcolor": "white",
             "linecolor": "white",
             "minorgridcolor": "white",
             "startlinecolor": "#2a3f5f"
            },
            "baxis": {
             "endlinecolor": "#2a3f5f",
             "gridcolor": "white",
             "linecolor": "white",
             "minorgridcolor": "white",
             "startlinecolor": "#2a3f5f"
            },
            "type": "carpet"
           }
          ],
          "choropleth": [
           {
            "colorbar": {
             "outlinewidth": 0,
             "ticks": ""
            },
            "type": "choropleth"
           }
          ],
          "contour": [
           {
            "colorbar": {
             "outlinewidth": 0,
             "ticks": ""
            },
            "colorscale": [
             [
              0,
              "#0d0887"
             ],
             [
              0.1111111111111111,
              "#46039f"
             ],
             [
              0.2222222222222222,
              "#7201a8"
             ],
             [
              0.3333333333333333,
              "#9c179e"
             ],
             [
              0.4444444444444444,
              "#bd3786"
             ],
             [
              0.5555555555555556,
              "#d8576b"
             ],
             [
              0.6666666666666666,
              "#ed7953"
             ],
             [
              0.7777777777777778,
              "#fb9f3a"
             ],
             [
              0.8888888888888888,
              "#fdca26"
             ],
             [
              1,
              "#f0f921"
             ]
            ],
            "type": "contour"
           }
          ],
          "contourcarpet": [
           {
            "colorbar": {
             "outlinewidth": 0,
             "ticks": ""
            },
            "type": "contourcarpet"
           }
          ],
          "heatmap": [
           {
            "colorbar": {
             "outlinewidth": 0,
             "ticks": ""
            },
            "colorscale": [
             [
              0,
              "#0d0887"
             ],
             [
              0.1111111111111111,
              "#46039f"
             ],
             [
              0.2222222222222222,
              "#7201a8"
             ],
             [
              0.3333333333333333,
              "#9c179e"
             ],
             [
              0.4444444444444444,
              "#bd3786"
             ],
             [
              0.5555555555555556,
              "#d8576b"
             ],
             [
              0.6666666666666666,
              "#ed7953"
             ],
             [
              0.7777777777777778,
              "#fb9f3a"
             ],
             [
              0.8888888888888888,
              "#fdca26"
             ],
             [
              1,
              "#f0f921"
             ]
            ],
            "type": "heatmap"
           }
          ],
          "heatmapgl": [
           {
            "colorbar": {
             "outlinewidth": 0,
             "ticks": ""
            },
            "colorscale": [
             [
              0,
              "#0d0887"
             ],
             [
              0.1111111111111111,
              "#46039f"
             ],
             [
              0.2222222222222222,
              "#7201a8"
             ],
             [
              0.3333333333333333,
              "#9c179e"
             ],
             [
              0.4444444444444444,
              "#bd3786"
             ],
             [
              0.5555555555555556,
              "#d8576b"
             ],
             [
              0.6666666666666666,
              "#ed7953"
             ],
             [
              0.7777777777777778,
              "#fb9f3a"
             ],
             [
              0.8888888888888888,
              "#fdca26"
             ],
             [
              1,
              "#f0f921"
             ]
            ],
            "type": "heatmapgl"
           }
          ],
          "histogram": [
           {
            "marker": {
             "pattern": {
              "fillmode": "overlay",
              "size": 10,
              "solidity": 0.2
             }
            },
            "type": "histogram"
           }
          ],
          "histogram2d": [
           {
            "colorbar": {
             "outlinewidth": 0,
             "ticks": ""
            },
            "colorscale": [
             [
              0,
              "#0d0887"
             ],
             [
              0.1111111111111111,
              "#46039f"
             ],
             [
              0.2222222222222222,
              "#7201a8"
             ],
             [
              0.3333333333333333,
              "#9c179e"
             ],
             [
              0.4444444444444444,
              "#bd3786"
             ],
             [
              0.5555555555555556,
              "#d8576b"
             ],
             [
              0.6666666666666666,
              "#ed7953"
             ],
             [
              0.7777777777777778,
              "#fb9f3a"
             ],
             [
              0.8888888888888888,
              "#fdca26"
             ],
             [
              1,
              "#f0f921"
             ]
            ],
            "type": "histogram2d"
           }
          ],
          "histogram2dcontour": [
           {
            "colorbar": {
             "outlinewidth": 0,
             "ticks": ""
            },
            "colorscale": [
             [
              0,
              "#0d0887"
             ],
             [
              0.1111111111111111,
              "#46039f"
             ],
             [
              0.2222222222222222,
              "#7201a8"
             ],
             [
              0.3333333333333333,
              "#9c179e"
             ],
             [
              0.4444444444444444,
              "#bd3786"
             ],
             [
              0.5555555555555556,
              "#d8576b"
             ],
             [
              0.6666666666666666,
              "#ed7953"
             ],
             [
              0.7777777777777778,
              "#fb9f3a"
             ],
             [
              0.8888888888888888,
              "#fdca26"
             ],
             [
              1,
              "#f0f921"
             ]
            ],
            "type": "histogram2dcontour"
           }
          ],
          "mesh3d": [
           {
            "colorbar": {
             "outlinewidth": 0,
             "ticks": ""
            },
            "type": "mesh3d"
           }
          ],
          "parcoords": [
           {
            "line": {
             "colorbar": {
              "outlinewidth": 0,
              "ticks": ""
             }
            },
            "type": "parcoords"
           }
          ],
          "pie": [
           {
            "automargin": true,
            "type": "pie"
           }
          ],
          "scatter": [
           {
            "fillpattern": {
             "fillmode": "overlay",
             "size": 10,
             "solidity": 0.2
            },
            "type": "scatter"
           }
          ],
          "scatter3d": [
           {
            "line": {
             "colorbar": {
              "outlinewidth": 0,
              "ticks": ""
             }
            },
            "marker": {
             "colorbar": {
              "outlinewidth": 0,
              "ticks": ""
             }
            },
            "type": "scatter3d"
           }
          ],
          "scattercarpet": [
           {
            "marker": {
             "colorbar": {
              "outlinewidth": 0,
              "ticks": ""
             }
            },
            "type": "scattercarpet"
           }
          ],
          "scattergeo": [
           {
            "marker": {
             "colorbar": {
              "outlinewidth": 0,
              "ticks": ""
             }
            },
            "type": "scattergeo"
           }
          ],
          "scattergl": [
           {
            "marker": {
             "colorbar": {
              "outlinewidth": 0,
              "ticks": ""
             }
            },
            "type": "scattergl"
           }
          ],
          "scattermapbox": [
           {
            "marker": {
             "colorbar": {
              "outlinewidth": 0,
              "ticks": ""
             }
            },
            "type": "scattermapbox"
           }
          ],
          "scatterpolar": [
           {
            "marker": {
             "colorbar": {
              "outlinewidth": 0,
              "ticks": ""
             }
            },
            "type": "scatterpolar"
           }
          ],
          "scatterpolargl": [
           {
            "marker": {
             "colorbar": {
              "outlinewidth": 0,
              "ticks": ""
             }
            },
            "type": "scatterpolargl"
           }
          ],
          "scatterternary": [
           {
            "marker": {
             "colorbar": {
              "outlinewidth": 0,
              "ticks": ""
             }
            },
            "type": "scatterternary"
           }
          ],
          "surface": [
           {
            "colorbar": {
             "outlinewidth": 0,
             "ticks": ""
            },
            "colorscale": [
             [
              0,
              "#0d0887"
             ],
             [
              0.1111111111111111,
              "#46039f"
             ],
             [
              0.2222222222222222,
              "#7201a8"
             ],
             [
              0.3333333333333333,
              "#9c179e"
             ],
             [
              0.4444444444444444,
              "#bd3786"
             ],
             [
              0.5555555555555556,
              "#d8576b"
             ],
             [
              0.6666666666666666,
              "#ed7953"
             ],
             [
              0.7777777777777778,
              "#fb9f3a"
             ],
             [
              0.8888888888888888,
              "#fdca26"
             ],
             [
              1,
              "#f0f921"
             ]
            ],
            "type": "surface"
           }
          ],
          "table": [
           {
            "cells": {
             "fill": {
              "color": "#EBF0F8"
             },
             "line": {
              "color": "white"
             }
            },
            "header": {
             "fill": {
              "color": "#C8D4E3"
             },
             "line": {
              "color": "white"
             }
            },
            "type": "table"
           }
          ]
         },
         "layout": {
          "annotationdefaults": {
           "arrowcolor": "#2a3f5f",
           "arrowhead": 0,
           "arrowwidth": 1
          },
          "autotypenumbers": "strict",
          "coloraxis": {
           "colorbar": {
            "outlinewidth": 0,
            "ticks": ""
           }
          },
          "colorscale": {
           "diverging": [
            [
             0,
             "#8e0152"
            ],
            [
             0.1,
             "#c51b7d"
            ],
            [
             0.2,
             "#de77ae"
            ],
            [
             0.3,
             "#f1b6da"
            ],
            [
             0.4,
             "#fde0ef"
            ],
            [
             0.5,
             "#f7f7f7"
            ],
            [
             0.6,
             "#e6f5d0"
            ],
            [
             0.7,
             "#b8e186"
            ],
            [
             0.8,
             "#7fbc41"
            ],
            [
             0.9,
             "#4d9221"
            ],
            [
             1,
             "#276419"
            ]
           ],
           "sequential": [
            [
             0,
             "#0d0887"
            ],
            [
             0.1111111111111111,
             "#46039f"
            ],
            [
             0.2222222222222222,
             "#7201a8"
            ],
            [
             0.3333333333333333,
             "#9c179e"
            ],
            [
             0.4444444444444444,
             "#bd3786"
            ],
            [
             0.5555555555555556,
             "#d8576b"
            ],
            [
             0.6666666666666666,
             "#ed7953"
            ],
            [
             0.7777777777777778,
             "#fb9f3a"
            ],
            [
             0.8888888888888888,
             "#fdca26"
            ],
            [
             1,
             "#f0f921"
            ]
           ],
           "sequentialminus": [
            [
             0,
             "#0d0887"
            ],
            [
             0.1111111111111111,
             "#46039f"
            ],
            [
             0.2222222222222222,
             "#7201a8"
            ],
            [
             0.3333333333333333,
             "#9c179e"
            ],
            [
             0.4444444444444444,
             "#bd3786"
            ],
            [
             0.5555555555555556,
             "#d8576b"
            ],
            [
             0.6666666666666666,
             "#ed7953"
            ],
            [
             0.7777777777777778,
             "#fb9f3a"
            ],
            [
             0.8888888888888888,
             "#fdca26"
            ],
            [
             1,
             "#f0f921"
            ]
           ]
          },
          "colorway": [
           "#636efa",
           "#EF553B",
           "#00cc96",
           "#ab63fa",
           "#FFA15A",
           "#19d3f3",
           "#FF6692",
           "#B6E880",
           "#FF97FF",
           "#FECB52"
          ],
          "font": {
           "color": "#2a3f5f"
          },
          "geo": {
           "bgcolor": "white",
           "lakecolor": "white",
           "landcolor": "#E5ECF6",
           "showlakes": true,
           "showland": true,
           "subunitcolor": "white"
          },
          "hoverlabel": {
           "align": "left"
          },
          "hovermode": "closest",
          "mapbox": {
           "style": "light"
          },
          "paper_bgcolor": "white",
          "plot_bgcolor": "#E5ECF6",
          "polar": {
           "angularaxis": {
            "gridcolor": "white",
            "linecolor": "white",
            "ticks": ""
           },
           "bgcolor": "#E5ECF6",
           "radialaxis": {
            "gridcolor": "white",
            "linecolor": "white",
            "ticks": ""
           }
          },
          "scene": {
           "xaxis": {
            "backgroundcolor": "#E5ECF6",
            "gridcolor": "white",
            "gridwidth": 2,
            "linecolor": "white",
            "showbackground": true,
            "ticks": "",
            "zerolinecolor": "white"
           },
           "yaxis": {
            "backgroundcolor": "#E5ECF6",
            "gridcolor": "white",
            "gridwidth": 2,
            "linecolor": "white",
            "showbackground": true,
            "ticks": "",
            "zerolinecolor": "white"
           },
           "zaxis": {
            "backgroundcolor": "#E5ECF6",
            "gridcolor": "white",
            "gridwidth": 2,
            "linecolor": "white",
            "showbackground": true,
            "ticks": "",
            "zerolinecolor": "white"
           }
          },
          "shapedefaults": {
           "line": {
            "color": "#2a3f5f"
           }
          },
          "ternary": {
           "aaxis": {
            "gridcolor": "white",
            "linecolor": "white",
            "ticks": ""
           },
           "baxis": {
            "gridcolor": "white",
            "linecolor": "white",
            "ticks": ""
           },
           "bgcolor": "#E5ECF6",
           "caxis": {
            "gridcolor": "white",
            "linecolor": "white",
            "ticks": ""
           }
          },
          "title": {
           "x": 0.05
          },
          "xaxis": {
           "automargin": true,
           "gridcolor": "white",
           "linecolor": "white",
           "ticks": "",
           "title": {
            "standoff": 15
           },
           "zerolinecolor": "white",
           "zerolinewidth": 2
          },
          "yaxis": {
           "automargin": true,
           "gridcolor": "white",
           "linecolor": "white",
           "ticks": "",
           "title": {
            "standoff": 15
           },
           "zerolinecolor": "white",
           "zerolinewidth": 2
          }
         }
        },
        "xaxis": {
         "anchor": "y",
         "domain": [
          0,
          1
         ],
         "title": {
          "text": "conc_step"
         }
        },
        "yaxis": {
         "anchor": "x",
         "domain": [
          0,
          1
         ],
         "title": {
          "text": "percent_replicating"
         }
        }
       }
      },
      "text/html": [
       "<div>                            <div id=\"e9843e79-b764-46f4-a3f2-e44b27755421\" class=\"plotly-graph-div\" style=\"height:525px; width:100%;\"></div>            <script type=\"text/javascript\">                require([\"plotly\"], function(Plotly) {                    window.PLOTLYENV=window.PLOTLYENV || {};                                    if (document.getElementById(\"e9843e79-b764-46f4-a3f2-e44b27755421\")) {                    Plotly.newPlot(                        \"e9843e79-b764-46f4-a3f2-e44b27755421\",                        [{\"hovertemplate\":\"name=//1_FeaturesImages_meanstd/WellAggregates/HCT116_MedianAgg_meanstd<br>conc_step=%{x}<br>percent_replicating=%{y}<extra></extra>\",\"legendgroup\":\"//1_FeaturesImages_meanstd/WellAggregates/HCT116_MedianAgg_meanstd\",\"line\":{\"color\":\"#636efa\",\"dash\":\"solid\"},\"marker\":{\"symbol\":\"circle\"},\"mode\":\"lines\",\"name\":\"//1_FeaturesImages_meanstd/WellAggregates/HCT116_MedianAgg_meanstd\",\"orientation\":\"v\",\"showlegend\":true,\"x\":[1,2,3,4],\"xaxis\":\"x\",\"y\":[24.13793103,28.84615385,52.94117647,41.30434783],\"yaxis\":\"y\",\"type\":\"scatter\"},{\"hovertemplate\":\"name=/1_FeaturesImages_meanstd_PerPlate/WellAggregates/HCT116_MedianAgg_meanstd<br>conc_step=%{x}<br>percent_replicating=%{y}<extra></extra>\",\"legendgroup\":\"/1_FeaturesImages_meanstd_PerPlate/WellAggregates/HCT116_MedianAgg_meanstd\",\"line\":{\"color\":\"#EF553B\",\"dash\":\"solid\"},\"marker\":{\"symbol\":\"circle\"},\"mode\":\"lines\",\"name\":\"/1_FeaturesImages_meanstd_PerPlate/WellAggregates/HCT116_MedianAgg_meanstd\",\"orientation\":\"v\",\"showlegend\":true,\"x\":[1,2,3,4],\"xaxis\":\"x\",\"y\":[12.06896552,21.15384615,35.29411765,19.56521739],\"yaxis\":\"y\",\"type\":\"scatter\"},{\"hovertemplate\":\"name=/1_FeaturesImages_minmax/WellAggregates/HCT116_MedianAgg_meanstd<br>conc_step=%{x}<br>percent_replicating=%{y}<extra></extra>\",\"legendgroup\":\"/1_FeaturesImages_minmax/WellAggregates/HCT116_MedianAgg_meanstd\",\"line\":{\"color\":\"#00cc96\",\"dash\":\"solid\"},\"marker\":{\"symbol\":\"circle\"},\"mode\":\"lines\",\"name\":\"/1_FeaturesImages_minmax/WellAggregates/HCT116_MedianAgg_meanstd\",\"orientation\":\"v\",\"showlegend\":true,\"x\":[1,2,3,4],\"xaxis\":\"x\",\"y\":[10.34482759,26.92307692,37.25490196,39.13043478],\"yaxis\":\"y\",\"type\":\"scatter\"},{\"hovertemplate\":\"name=/1_FeaturesImages_minmax_PerPlate/WellAggregates/HCT116_MedianAgg_meanstd<br>conc_step=%{x}<br>percent_replicating=%{y}<extra></extra>\",\"legendgroup\":\"/1_FeaturesImages_minmax_PerPlate/WellAggregates/HCT116_MedianAgg_meanstd\",\"line\":{\"color\":\"#ab63fa\",\"dash\":\"solid\"},\"marker\":{\"symbol\":\"circle\"},\"mode\":\"lines\",\"name\":\"/1_FeaturesImages_minmax_PerPlate/WellAggregates/HCT116_MedianAgg_meanstd\",\"orientation\":\"v\",\"showlegend\":true,\"x\":[1,2,3,4],\"xaxis\":\"x\",\"y\":[13.79310345,25.0,35.29411765,41.30434783],\"yaxis\":\"y\",\"type\":\"scatter\"},{\"hovertemplate\":\"name=/1_FeaturesImages_none/WellAggregates/HCT116_MedianAgg_meanstd<br>conc_step=%{x}<br>percent_replicating=%{y}<extra></extra>\",\"legendgroup\":\"/1_FeaturesImages_none/WellAggregates/HCT116_MedianAgg_meanstd\",\"line\":{\"color\":\"#FFA15A\",\"dash\":\"solid\"},\"marker\":{\"symbol\":\"circle\"},\"mode\":\"lines\",\"name\":\"/1_FeaturesImages_none/WellAggregates/HCT116_MedianAgg_meanstd\",\"orientation\":\"v\",\"showlegend\":true,\"x\":[1,2,3,4],\"xaxis\":\"x\",\"y\":[12.06896552,26.92307692,35.29411765,28.26086957],\"yaxis\":\"y\",\"type\":\"scatter\"},{\"hovertemplate\":\"name=/1_FeaturesImages_prototype_perSlice/WellAggregates/HCT116_MedianAgg_meanstd<br>conc_step=%{x}<br>percent_replicating=%{y}<extra></extra>\",\"legendgroup\":\"/1_FeaturesImages_prototype_perSlice/WellAggregates/HCT116_MedianAgg_meanstd\",\"line\":{\"color\":\"#19d3f3\",\"dash\":\"solid\"},\"marker\":{\"symbol\":\"circle\"},\"mode\":\"lines\",\"name\":\"/1_FeaturesImages_prototype_perSlice/WellAggregates/HCT116_MedianAgg_meanstd\",\"orientation\":\"v\",\"showlegend\":true,\"x\":[1,2,3,4],\"xaxis\":\"x\",\"y\":[29.31034483,36.53846154,50.98039216,36.95652174],\"yaxis\":\"y\",\"type\":\"scatter\"},{\"hovertemplate\":\"name=/1_FeaturesImages_meanstd/WellAggregates/HCT116_MedianAgg_meanstd_afternorm<br>conc_step=%{x}<br>percent_replicating=%{y}<extra></extra>\",\"legendgroup\":\"/1_FeaturesImages_meanstd/WellAggregates/HCT116_MedianAgg_meanstd_afternorm\",\"line\":{\"color\":\"#FF6692\",\"dash\":\"solid\"},\"marker\":{\"symbol\":\"circle\"},\"mode\":\"lines\",\"name\":\"/1_FeaturesImages_meanstd/WellAggregates/HCT116_MedianAgg_meanstd_afternorm\",\"orientation\":\"v\",\"showlegend\":true,\"x\":[1,2,3,4],\"xaxis\":\"x\",\"y\":[37.93103448,51.92307692,52.94117647,50.0],\"yaxis\":\"y\",\"type\":\"scatter\"},{\"hovertemplate\":\"name=/1_FeaturesImages_meanstd_PerPlate/WellAggregates/HCT116_MedianAgg_meanstd_afternorm<br>conc_step=%{x}<br>percent_replicating=%{y}<extra></extra>\",\"legendgroup\":\"/1_FeaturesImages_meanstd_PerPlate/WellAggregates/HCT116_MedianAgg_meanstd_afternorm\",\"line\":{\"color\":\"#B6E880\",\"dash\":\"solid\"},\"marker\":{\"symbol\":\"circle\"},\"mode\":\"lines\",\"name\":\"/1_FeaturesImages_meanstd_PerPlate/WellAggregates/HCT116_MedianAgg_meanstd_afternorm\",\"orientation\":\"v\",\"showlegend\":true,\"x\":[1,2,3,4],\"xaxis\":\"x\",\"y\":[39.65517241,51.92307692,56.8627451,58.69565217],\"yaxis\":\"y\",\"type\":\"scatter\"},{\"hovertemplate\":\"name=/1_FeaturesImages_minmax/WellAggregates/HCT116_MedianAgg_meanstd_afternorm<br>conc_step=%{x}<br>percent_replicating=%{y}<extra></extra>\",\"legendgroup\":\"/1_FeaturesImages_minmax/WellAggregates/HCT116_MedianAgg_meanstd_afternorm\",\"line\":{\"color\":\"#FF97FF\",\"dash\":\"solid\"},\"marker\":{\"symbol\":\"circle\"},\"mode\":\"lines\",\"name\":\"/1_FeaturesImages_minmax/WellAggregates/HCT116_MedianAgg_meanstd_afternorm\",\"orientation\":\"v\",\"showlegend\":true,\"x\":[1,2,3,4],\"xaxis\":\"x\",\"y\":[43.10344828,50.0,58.82352941,63.04347826],\"yaxis\":\"y\",\"type\":\"scatter\"},{\"hovertemplate\":\"name=/1_FeaturesImages_minmax_PerPlate/WellAggregates/HCT116_MedianAgg_meanstd_afternorm<br>conc_step=%{x}<br>percent_replicating=%{y}<extra></extra>\",\"legendgroup\":\"/1_FeaturesImages_minmax_PerPlate/WellAggregates/HCT116_MedianAgg_meanstd_afternorm\",\"line\":{\"color\":\"#FECB52\",\"dash\":\"solid\"},\"marker\":{\"symbol\":\"circle\"},\"mode\":\"lines\",\"name\":\"/1_FeaturesImages_minmax_PerPlate/WellAggregates/HCT116_MedianAgg_meanstd_afternorm\",\"orientation\":\"v\",\"showlegend\":true,\"x\":[1,2,3,4],\"xaxis\":\"x\",\"y\":[39.65517241,53.84615385,64.70588235,58.69565217],\"yaxis\":\"y\",\"type\":\"scatter\"},{\"hovertemplate\":\"name=/1_FeaturesImages_none/WellAggregates/HCT116_MedianAgg_meanstd_afternorm<br>conc_step=%{x}<br>percent_replicating=%{y}<extra></extra>\",\"legendgroup\":\"/1_FeaturesImages_none/WellAggregates/HCT116_MedianAgg_meanstd_afternorm\",\"line\":{\"color\":\"#636efa\",\"dash\":\"solid\"},\"marker\":{\"symbol\":\"circle\"},\"mode\":\"lines\",\"name\":\"/1_FeaturesImages_none/WellAggregates/HCT116_MedianAgg_meanstd_afternorm\",\"orientation\":\"v\",\"showlegend\":true,\"x\":[1,2,3,4],\"xaxis\":\"x\",\"y\":[39.65517241,51.92307692,50.98039216,63.04347826],\"yaxis\":\"y\",\"type\":\"scatter\"},{\"hovertemplate\":\"name=/1_FeaturesImages_prototype_perSlice/WellAggregates/HCT116_MedianAgg_meanstd_afternorm<br>conc_step=%{x}<br>percent_replicating=%{y}<extra></extra>\",\"legendgroup\":\"/1_FeaturesImages_prototype_perSlice/WellAggregates/HCT116_MedianAgg_meanstd_afternorm\",\"line\":{\"color\":\"#EF553B\",\"dash\":\"solid\"},\"marker\":{\"symbol\":\"circle\"},\"mode\":\"lines\",\"name\":\"/1_FeaturesImages_prototype_perSlice/WellAggregates/HCT116_MedianAgg_meanstd_afternorm\",\"orientation\":\"v\",\"showlegend\":true,\"x\":[1,2,3,4],\"xaxis\":\"x\",\"y\":[46.55172414,59.61538462,66.66666667,60.86956522],\"yaxis\":\"y\",\"type\":\"scatter\"},{\"hovertemplate\":\"name=../1_FeaturesImages_meanstd/SingleSlice/<br>conc_step=%{x}<br>percent_replicating=%{y}<extra></extra>\",\"legendgroup\":\"../1_FeaturesImages_meanstd/SingleSlice/\",\"line\":{\"color\":\"#00cc96\",\"dash\":\"solid\"},\"marker\":{\"symbol\":\"circle\"},\"mode\":\"lines\",\"name\":\"../1_FeaturesImages_meanstd/SingleSlice/\",\"orientation\":\"v\",\"showlegend\":true,\"x\":[1,2,3,4],\"xaxis\":\"x\",\"y\":[32.69230769,46.15384615,62.74509804,60.86956522],\"yaxis\":\"y\",\"type\":\"scatter\"},{\"hovertemplate\":\"name=../1_FeaturesImages_meanstd_PerPlate/SingleSlice/<br>conc_step=%{x}<br>percent_replicating=%{y}<extra></extra>\",\"legendgroup\":\"../1_FeaturesImages_meanstd_PerPlate/SingleSlice/\",\"line\":{\"color\":\"#ab63fa\",\"dash\":\"solid\"},\"marker\":{\"symbol\":\"circle\"},\"mode\":\"lines\",\"name\":\"../1_FeaturesImages_meanstd_PerPlate/SingleSlice/\",\"orientation\":\"v\",\"showlegend\":true,\"x\":[1,2,3,4],\"xaxis\":\"x\",\"y\":[42.30769231,48.07692308,64.70588235,63.04347826],\"yaxis\":\"y\",\"type\":\"scatter\"},{\"hovertemplate\":\"name=../1_FeaturesImages_minmax/SingleSlice/<br>conc_step=%{x}<br>percent_replicating=%{y}<extra></extra>\",\"legendgroup\":\"../1_FeaturesImages_minmax/SingleSlice/\",\"line\":{\"color\":\"#FFA15A\",\"dash\":\"solid\"},\"marker\":{\"symbol\":\"circle\"},\"mode\":\"lines\",\"name\":\"../1_FeaturesImages_minmax/SingleSlice/\",\"orientation\":\"v\",\"showlegend\":true,\"x\":[1,2,3,4],\"xaxis\":\"x\",\"y\":[42.30769231,46.15384615,56.8627451,63.04347826],\"yaxis\":\"y\",\"type\":\"scatter\"},{\"hovertemplate\":\"name=../1_FeaturesImages_minmax_PerPlate/SingleSlice/<br>conc_step=%{x}<br>percent_replicating=%{y}<extra></extra>\",\"legendgroup\":\"../1_FeaturesImages_minmax_PerPlate/SingleSlice/\",\"line\":{\"color\":\"#19d3f3\",\"dash\":\"solid\"},\"marker\":{\"symbol\":\"circle\"},\"mode\":\"lines\",\"name\":\"../1_FeaturesImages_minmax_PerPlate/SingleSlice/\",\"orientation\":\"v\",\"showlegend\":true,\"x\":[1,2,3,4],\"xaxis\":\"x\",\"y\":[38.46153846,46.15384615,64.70588235,63.04347826],\"yaxis\":\"y\",\"type\":\"scatter\"},{\"hovertemplate\":\"name=../1_FeaturesImages_none/SingleSlice/<br>conc_step=%{x}<br>percent_replicating=%{y}<extra></extra>\",\"legendgroup\":\"../1_FeaturesImages_none/SingleSlice/\",\"line\":{\"color\":\"#FF6692\",\"dash\":\"solid\"},\"marker\":{\"symbol\":\"circle\"},\"mode\":\"lines\",\"name\":\"../1_FeaturesImages_none/SingleSlice/\",\"orientation\":\"v\",\"showlegend\":true,\"x\":[1,2,3,4],\"xaxis\":\"x\",\"y\":[38.46153846,61.53846154,60.78431373,63.04347826],\"yaxis\":\"y\",\"type\":\"scatter\"},{\"hovertemplate\":\"name=../1_FeaturesImages_prototype_perSlice/SingleSlice/<br>conc_step=%{x}<br>percent_replicating=%{y}<extra></extra>\",\"legendgroup\":\"../1_FeaturesImages_prototype_perSlice/SingleSlice/\",\"line\":{\"color\":\"#B6E880\",\"dash\":\"solid\"},\"marker\":{\"symbol\":\"circle\"},\"mode\":\"lines\",\"name\":\"../1_FeaturesImages_prototype_perSlice/SingleSlice/\",\"orientation\":\"v\",\"showlegend\":true,\"x\":[1,2,3,4],\"xaxis\":\"x\",\"y\":[46.15384615,51.92307692,70.58823529,58.69565217],\"yaxis\":\"y\",\"type\":\"scatter\"},{\"hovertemplate\":\"name=../old_features/1_FeaturesImages_normalized/SingleSlice/<br>conc_step=%{x}<br>percent_replicating=%{y}<extra></extra>\",\"legendgroup\":\"../old_features/1_FeaturesImages_normalized/SingleSlice/\",\"line\":{\"color\":\"#FF97FF\",\"dash\":\"solid\"},\"marker\":{\"symbol\":\"circle\"},\"mode\":\"lines\",\"name\":\"../old_features/1_FeaturesImages_normalized/SingleSlice/\",\"orientation\":\"v\",\"showlegend\":true,\"x\":[1,2,3,4],\"xaxis\":\"x\",\"y\":[44.23076923,44.23076923,58.82352941,63.04347826],\"yaxis\":\"y\",\"type\":\"scatter\"},{\"hovertemplate\":\"name=../old_features/1_FeaturesImages_normalized/SingleSlice_median/<br>conc_step=%{x}<br>percent_replicating=%{y}<extra></extra>\",\"legendgroup\":\"../old_features/1_FeaturesImages_normalized/SingleSlice_median/\",\"line\":{\"color\":\"#FECB52\",\"dash\":\"solid\"},\"marker\":{\"symbol\":\"circle\"},\"mode\":\"lines\",\"name\":\"../old_features/1_FeaturesImages_normalized/SingleSlice_median/\",\"orientation\":\"v\",\"showlegend\":true,\"x\":[1,2,3,4],\"xaxis\":\"x\",\"y\":[38.46153846,50.0,68.62745098,67.39130435],\"yaxis\":\"y\",\"type\":\"scatter\"},{\"hovertemplate\":\"name=../old_features/1_FeaturesImages_ns/SingleSlice_median/<br>conc_step=%{x}<br>percent_replicating=%{y}<extra></extra>\",\"legendgroup\":\"../old_features/1_FeaturesImages_ns/SingleSlice_median/\",\"line\":{\"color\":\"#636efa\",\"dash\":\"solid\"},\"marker\":{\"symbol\":\"circle\"},\"mode\":\"lines\",\"name\":\"../old_features/1_FeaturesImages_ns/SingleSlice_median/\",\"orientation\":\"v\",\"showlegend\":true,\"x\":[1,2,3,4],\"xaxis\":\"x\",\"y\":[42.30769231,57.69230769,64.70588235,60.86956522],\"yaxis\":\"y\",\"type\":\"scatter\"},{\"hovertemplate\":\"name=../1_FeaturesImages_meanstd/SingleSlice_median/<br>conc_step=%{x}<br>percent_replicating=%{y}<extra></extra>\",\"legendgroup\":\"../1_FeaturesImages_meanstd/SingleSlice_median/\",\"line\":{\"color\":\"#EF553B\",\"dash\":\"solid\"},\"marker\":{\"symbol\":\"circle\"},\"mode\":\"lines\",\"name\":\"../1_FeaturesImages_meanstd/SingleSlice_median/\",\"orientation\":\"v\",\"showlegend\":true,\"x\":[1,2,3,4],\"xaxis\":\"x\",\"y\":[34.61538462,55.76923077,66.66666667,65.2173913],\"yaxis\":\"y\",\"type\":\"scatter\"},{\"hovertemplate\":\"name=../1_FeaturesImages_meanstd_PerPlate/SingleSlice_median/<br>conc_step=%{x}<br>percent_replicating=%{y}<extra></extra>\",\"legendgroup\":\"../1_FeaturesImages_meanstd_PerPlate/SingleSlice_median/\",\"line\":{\"color\":\"#00cc96\",\"dash\":\"solid\"},\"marker\":{\"symbol\":\"circle\"},\"mode\":\"lines\",\"name\":\"../1_FeaturesImages_meanstd_PerPlate/SingleSlice_median/\",\"orientation\":\"v\",\"showlegend\":true,\"x\":[1,2,3,4],\"xaxis\":\"x\",\"y\":[42.30769231,50.0,66.66666667,67.39130435],\"yaxis\":\"y\",\"type\":\"scatter\"},{\"hovertemplate\":\"name=../1_FeaturesImages_minmax/SingleSlice_median/<br>conc_step=%{x}<br>percent_replicating=%{y}<extra></extra>\",\"legendgroup\":\"../1_FeaturesImages_minmax/SingleSlice_median/\",\"line\":{\"color\":\"#ab63fa\",\"dash\":\"solid\"},\"marker\":{\"symbol\":\"circle\"},\"mode\":\"lines\",\"name\":\"../1_FeaturesImages_minmax/SingleSlice_median/\",\"orientation\":\"v\",\"showlegend\":true,\"x\":[1,2,3,4],\"xaxis\":\"x\",\"y\":[44.23076923,48.07692308,66.66666667,58.69565217],\"yaxis\":\"y\",\"type\":\"scatter\"},{\"hovertemplate\":\"name=../1_FeaturesImages_minmax_PerPlate/SingleSlice_median/<br>conc_step=%{x}<br>percent_replicating=%{y}<extra></extra>\",\"legendgroup\":\"../1_FeaturesImages_minmax_PerPlate/SingleSlice_median/\",\"line\":{\"color\":\"#FFA15A\",\"dash\":\"solid\"},\"marker\":{\"symbol\":\"circle\"},\"mode\":\"lines\",\"name\":\"../1_FeaturesImages_minmax_PerPlate/SingleSlice_median/\",\"orientation\":\"v\",\"showlegend\":true,\"x\":[1,2,3,4],\"xaxis\":\"x\",\"y\":[42.30769231,55.76923077,64.70588235,65.2173913],\"yaxis\":\"y\",\"type\":\"scatter\"},{\"hovertemplate\":\"name=../1_FeaturesImages_none/SingleSlice_median/<br>conc_step=%{x}<br>percent_replicating=%{y}<extra></extra>\",\"legendgroup\":\"../1_FeaturesImages_none/SingleSlice_median/\",\"line\":{\"color\":\"#19d3f3\",\"dash\":\"solid\"},\"marker\":{\"symbol\":\"circle\"},\"mode\":\"lines\",\"name\":\"../1_FeaturesImages_none/SingleSlice_median/\",\"orientation\":\"v\",\"showlegend\":true,\"x\":[1,2,3,4],\"xaxis\":\"x\",\"y\":[42.30769231,50.0,66.66666667,67.39130435],\"yaxis\":\"y\",\"type\":\"scatter\"}],                        {\"template\":{\"data\":{\"histogram2dcontour\":[{\"type\":\"histogram2dcontour\",\"colorbar\":{\"outlinewidth\":0,\"ticks\":\"\"},\"colorscale\":[[0.0,\"#0d0887\"],[0.1111111111111111,\"#46039f\"],[0.2222222222222222,\"#7201a8\"],[0.3333333333333333,\"#9c179e\"],[0.4444444444444444,\"#bd3786\"],[0.5555555555555556,\"#d8576b\"],[0.6666666666666666,\"#ed7953\"],[0.7777777777777778,\"#fb9f3a\"],[0.8888888888888888,\"#fdca26\"],[1.0,\"#f0f921\"]]}],\"choropleth\":[{\"type\":\"choropleth\",\"colorbar\":{\"outlinewidth\":0,\"ticks\":\"\"}}],\"histogram2d\":[{\"type\":\"histogram2d\",\"colorbar\":{\"outlinewidth\":0,\"ticks\":\"\"},\"colorscale\":[[0.0,\"#0d0887\"],[0.1111111111111111,\"#46039f\"],[0.2222222222222222,\"#7201a8\"],[0.3333333333333333,\"#9c179e\"],[0.4444444444444444,\"#bd3786\"],[0.5555555555555556,\"#d8576b\"],[0.6666666666666666,\"#ed7953\"],[0.7777777777777778,\"#fb9f3a\"],[0.8888888888888888,\"#fdca26\"],[1.0,\"#f0f921\"]]}],\"heatmap\":[{\"type\":\"heatmap\",\"colorbar\":{\"outlinewidth\":0,\"ticks\":\"\"},\"colorscale\":[[0.0,\"#0d0887\"],[0.1111111111111111,\"#46039f\"],[0.2222222222222222,\"#7201a8\"],[0.3333333333333333,\"#9c179e\"],[0.4444444444444444,\"#bd3786\"],[0.5555555555555556,\"#d8576b\"],[0.6666666666666666,\"#ed7953\"],[0.7777777777777778,\"#fb9f3a\"],[0.8888888888888888,\"#fdca26\"],[1.0,\"#f0f921\"]]}],\"heatmapgl\":[{\"type\":\"heatmapgl\",\"colorbar\":{\"outlinewidth\":0,\"ticks\":\"\"},\"colorscale\":[[0.0,\"#0d0887\"],[0.1111111111111111,\"#46039f\"],[0.2222222222222222,\"#7201a8\"],[0.3333333333333333,\"#9c179e\"],[0.4444444444444444,\"#bd3786\"],[0.5555555555555556,\"#d8576b\"],[0.6666666666666666,\"#ed7953\"],[0.7777777777777778,\"#fb9f3a\"],[0.8888888888888888,\"#fdca26\"],[1.0,\"#f0f921\"]]}],\"contourcarpet\":[{\"type\":\"contourcarpet\",\"colorbar\":{\"outlinewidth\":0,\"ticks\":\"\"}}],\"contour\":[{\"type\":\"contour\",\"colorbar\":{\"outlinewidth\":0,\"ticks\":\"\"},\"colorscale\":[[0.0,\"#0d0887\"],[0.1111111111111111,\"#46039f\"],[0.2222222222222222,\"#7201a8\"],[0.3333333333333333,\"#9c179e\"],[0.4444444444444444,\"#bd3786\"],[0.5555555555555556,\"#d8576b\"],[0.6666666666666666,\"#ed7953\"],[0.7777777777777778,\"#fb9f3a\"],[0.8888888888888888,\"#fdca26\"],[1.0,\"#f0f921\"]]}],\"surface\":[{\"type\":\"surface\",\"colorbar\":{\"outlinewidth\":0,\"ticks\":\"\"},\"colorscale\":[[0.0,\"#0d0887\"],[0.1111111111111111,\"#46039f\"],[0.2222222222222222,\"#7201a8\"],[0.3333333333333333,\"#9c179e\"],[0.4444444444444444,\"#bd3786\"],[0.5555555555555556,\"#d8576b\"],[0.6666666666666666,\"#ed7953\"],[0.7777777777777778,\"#fb9f3a\"],[0.8888888888888888,\"#fdca26\"],[1.0,\"#f0f921\"]]}],\"mesh3d\":[{\"type\":\"mesh3d\",\"colorbar\":{\"outlinewidth\":0,\"ticks\":\"\"}}],\"scatter\":[{\"fillpattern\":{\"fillmode\":\"overlay\",\"size\":10,\"solidity\":0.2},\"type\":\"scatter\"}],\"parcoords\":[{\"type\":\"parcoords\",\"line\":{\"colorbar\":{\"outlinewidth\":0,\"ticks\":\"\"}}}],\"scatterpolargl\":[{\"type\":\"scatterpolargl\",\"marker\":{\"colorbar\":{\"outlinewidth\":0,\"ticks\":\"\"}}}],\"bar\":[{\"error_x\":{\"color\":\"#2a3f5f\"},\"error_y\":{\"color\":\"#2a3f5f\"},\"marker\":{\"line\":{\"color\":\"#E5ECF6\",\"width\":0.5},\"pattern\":{\"fillmode\":\"overlay\",\"size\":10,\"solidity\":0.2}},\"type\":\"bar\"}],\"scattergeo\":[{\"type\":\"scattergeo\",\"marker\":{\"colorbar\":{\"outlinewidth\":0,\"ticks\":\"\"}}}],\"scatterpolar\":[{\"type\":\"scatterpolar\",\"marker\":{\"colorbar\":{\"outlinewidth\":0,\"ticks\":\"\"}}}],\"histogram\":[{\"marker\":{\"pattern\":{\"fillmode\":\"overlay\",\"size\":10,\"solidity\":0.2}},\"type\":\"histogram\"}],\"scattergl\":[{\"type\":\"scattergl\",\"marker\":{\"colorbar\":{\"outlinewidth\":0,\"ticks\":\"\"}}}],\"scatter3d\":[{\"type\":\"scatter3d\",\"line\":{\"colorbar\":{\"outlinewidth\":0,\"ticks\":\"\"}},\"marker\":{\"colorbar\":{\"outlinewidth\":0,\"ticks\":\"\"}}}],\"scattermapbox\":[{\"type\":\"scattermapbox\",\"marker\":{\"colorbar\":{\"outlinewidth\":0,\"ticks\":\"\"}}}],\"scatterternary\":[{\"type\":\"scatterternary\",\"marker\":{\"colorbar\":{\"outlinewidth\":0,\"ticks\":\"\"}}}],\"scattercarpet\":[{\"type\":\"scattercarpet\",\"marker\":{\"colorbar\":{\"outlinewidth\":0,\"ticks\":\"\"}}}],\"carpet\":[{\"aaxis\":{\"endlinecolor\":\"#2a3f5f\",\"gridcolor\":\"white\",\"linecolor\":\"white\",\"minorgridcolor\":\"white\",\"startlinecolor\":\"#2a3f5f\"},\"baxis\":{\"endlinecolor\":\"#2a3f5f\",\"gridcolor\":\"white\",\"linecolor\":\"white\",\"minorgridcolor\":\"white\",\"startlinecolor\":\"#2a3f5f\"},\"type\":\"carpet\"}],\"table\":[{\"cells\":{\"fill\":{\"color\":\"#EBF0F8\"},\"line\":{\"color\":\"white\"}},\"header\":{\"fill\":{\"color\":\"#C8D4E3\"},\"line\":{\"color\":\"white\"}},\"type\":\"table\"}],\"barpolar\":[{\"marker\":{\"line\":{\"color\":\"#E5ECF6\",\"width\":0.5},\"pattern\":{\"fillmode\":\"overlay\",\"size\":10,\"solidity\":0.2}},\"type\":\"barpolar\"}],\"pie\":[{\"automargin\":true,\"type\":\"pie\"}]},\"layout\":{\"autotypenumbers\":\"strict\",\"colorway\":[\"#636efa\",\"#EF553B\",\"#00cc96\",\"#ab63fa\",\"#FFA15A\",\"#19d3f3\",\"#FF6692\",\"#B6E880\",\"#FF97FF\",\"#FECB52\"],\"font\":{\"color\":\"#2a3f5f\"},\"hovermode\":\"closest\",\"hoverlabel\":{\"align\":\"left\"},\"paper_bgcolor\":\"white\",\"plot_bgcolor\":\"#E5ECF6\",\"polar\":{\"bgcolor\":\"#E5ECF6\",\"angularaxis\":{\"gridcolor\":\"white\",\"linecolor\":\"white\",\"ticks\":\"\"},\"radialaxis\":{\"gridcolor\":\"white\",\"linecolor\":\"white\",\"ticks\":\"\"}},\"ternary\":{\"bgcolor\":\"#E5ECF6\",\"aaxis\":{\"gridcolor\":\"white\",\"linecolor\":\"white\",\"ticks\":\"\"},\"baxis\":{\"gridcolor\":\"white\",\"linecolor\":\"white\",\"ticks\":\"\"},\"caxis\":{\"gridcolor\":\"white\",\"linecolor\":\"white\",\"ticks\":\"\"}},\"coloraxis\":{\"colorbar\":{\"outlinewidth\":0,\"ticks\":\"\"}},\"colorscale\":{\"sequential\":[[0.0,\"#0d0887\"],[0.1111111111111111,\"#46039f\"],[0.2222222222222222,\"#7201a8\"],[0.3333333333333333,\"#9c179e\"],[0.4444444444444444,\"#bd3786\"],[0.5555555555555556,\"#d8576b\"],[0.6666666666666666,\"#ed7953\"],[0.7777777777777778,\"#fb9f3a\"],[0.8888888888888888,\"#fdca26\"],[1.0,\"#f0f921\"]],\"sequentialminus\":[[0.0,\"#0d0887\"],[0.1111111111111111,\"#46039f\"],[0.2222222222222222,\"#7201a8\"],[0.3333333333333333,\"#9c179e\"],[0.4444444444444444,\"#bd3786\"],[0.5555555555555556,\"#d8576b\"],[0.6666666666666666,\"#ed7953\"],[0.7777777777777778,\"#fb9f3a\"],[0.8888888888888888,\"#fdca26\"],[1.0,\"#f0f921\"]],\"diverging\":[[0,\"#8e0152\"],[0.1,\"#c51b7d\"],[0.2,\"#de77ae\"],[0.3,\"#f1b6da\"],[0.4,\"#fde0ef\"],[0.5,\"#f7f7f7\"],[0.6,\"#e6f5d0\"],[0.7,\"#b8e186\"],[0.8,\"#7fbc41\"],[0.9,\"#4d9221\"],[1,\"#276419\"]]},\"xaxis\":{\"gridcolor\":\"white\",\"linecolor\":\"white\",\"ticks\":\"\",\"title\":{\"standoff\":15},\"zerolinecolor\":\"white\",\"automargin\":true,\"zerolinewidth\":2},\"yaxis\":{\"gridcolor\":\"white\",\"linecolor\":\"white\",\"ticks\":\"\",\"title\":{\"standoff\":15},\"zerolinecolor\":\"white\",\"automargin\":true,\"zerolinewidth\":2},\"scene\":{\"xaxis\":{\"backgroundcolor\":\"#E5ECF6\",\"gridcolor\":\"white\",\"linecolor\":\"white\",\"showbackground\":true,\"ticks\":\"\",\"zerolinecolor\":\"white\",\"gridwidth\":2},\"yaxis\":{\"backgroundcolor\":\"#E5ECF6\",\"gridcolor\":\"white\",\"linecolor\":\"white\",\"showbackground\":true,\"ticks\":\"\",\"zerolinecolor\":\"white\",\"gridwidth\":2},\"zaxis\":{\"backgroundcolor\":\"#E5ECF6\",\"gridcolor\":\"white\",\"linecolor\":\"white\",\"showbackground\":true,\"ticks\":\"\",\"zerolinecolor\":\"white\",\"gridwidth\":2}},\"shapedefaults\":{\"line\":{\"color\":\"#2a3f5f\"}},\"annotationdefaults\":{\"arrowcolor\":\"#2a3f5f\",\"arrowhead\":0,\"arrowwidth\":1},\"geo\":{\"bgcolor\":\"white\",\"landcolor\":\"#E5ECF6\",\"subunitcolor\":\"white\",\"showland\":true,\"showlakes\":true,\"lakecolor\":\"white\"},\"title\":{\"x\":0.05},\"mapbox\":{\"style\":\"light\"}}},\"xaxis\":{\"anchor\":\"y\",\"domain\":[0.0,1.0],\"title\":{\"text\":\"conc_step\"}},\"yaxis\":{\"anchor\":\"x\",\"domain\":[0.0,1.0],\"title\":{\"text\":\"percent_replicating\"}},\"legend\":{\"title\":{\"text\":\"name\"},\"tracegroupgap\":0},\"margin\":{\"t\":60}},                        {\"responsive\": true}                    ).then(function(){\n",
       "                            \n",
       "var gd = document.getElementById('e9843e79-b764-46f4-a3f2-e44b27755421');\n",
       "var x = new MutationObserver(function (mutations, observer) {{\n",
       "        var display = window.getComputedStyle(gd).display;\n",
       "        if (!display || display === 'none') {{\n",
       "            console.log([gd, 'removed!']);\n",
       "            Plotly.purge(gd);\n",
       "            observer.disconnect();\n",
       "        }}\n",
       "}});\n",
       "\n",
       "// Listen for the removal of the full notebook cells\n",
       "var notebookContainer = gd.closest('#notebook-container');\n",
       "if (notebookContainer) {{\n",
       "    x.observe(notebookContainer, {childList: true});\n",
       "}}\n",
       "\n",
       "// Listen for the clearing of the current output cell\n",
       "var outputEl = gd.closest('.output');\n",
       "if (outputEl) {{\n",
       "    x.observe(outputEl, {childList: true});\n",
       "}}\n",
       "\n",
       "                        })                };                });            </script>        </div>"
      ]
     },
     "metadata": {},
     "output_type": "display_data"
    }
   ],
   "source": [
    "fig = px.line(df, x=\"conc_step\", y=\"percent_replicating\", color='name')\n",
    "fig.show()"
   ]
  },
  {
   "cell_type": "code",
   "execution_count": 13,
   "metadata": {},
   "outputs": [],
   "source": [
    "# Rename duplicate rows\n"
   ]
  },
  {
   "cell_type": "code",
   "execution_count": 14,
   "metadata": {},
   "outputs": [],
   "source": [
    "data = df.copy()\n",
    "\n",
    "# Remove duplicate entries\n",
    "data = data.drop_duplicates(subset=['name', 'conc_step'])\n",
    "\n",
    "data = data.pivot(index='name', columns='conc_step', values='percent_replicating')\n",
    "\n",
    "# # Melt the dataframe on the conc_step column\n",
    "# data = pd.melt(data, id_vars=['conc_step', 'name'], value_vars=['percent_replicating'])"
   ]
  },
  {
   "cell_type": "code",
   "execution_count": 15,
   "metadata": {},
   "outputs": [
    {
     "data": {
      "text/html": [
       "<div>\n",
       "<style scoped>\n",
       "    .dataframe tbody tr th:only-of-type {\n",
       "        vertical-align: middle;\n",
       "    }\n",
       "\n",
       "    .dataframe tbody tr th {\n",
       "        vertical-align: top;\n",
       "    }\n",
       "\n",
       "    .dataframe thead th {\n",
       "        text-align: right;\n",
       "    }\n",
       "</style>\n",
       "<table border=\"1\" class=\"dataframe\">\n",
       "  <thead>\n",
       "    <tr style=\"text-align: right;\">\n",
       "      <th>conc_step</th>\n",
       "      <th>1</th>\n",
       "      <th>2</th>\n",
       "      <th>3</th>\n",
       "      <th>4</th>\n",
       "    </tr>\n",
       "    <tr>\n",
       "      <th>name</th>\n",
       "      <th></th>\n",
       "      <th></th>\n",
       "      <th></th>\n",
       "      <th></th>\n",
       "    </tr>\n",
       "  </thead>\n",
       "  <tbody>\n",
       "    <tr>\n",
       "      <th>../1_FeaturesImages_meanstd/SingleSlice/</th>\n",
       "      <td>32.692308</td>\n",
       "      <td>46.153846</td>\n",
       "      <td>62.745098</td>\n",
       "      <td>60.869565</td>\n",
       "    </tr>\n",
       "    <tr>\n",
       "      <th>../1_FeaturesImages_meanstd/SingleSlice_median/</th>\n",
       "      <td>34.615385</td>\n",
       "      <td>55.769231</td>\n",
       "      <td>66.666667</td>\n",
       "      <td>65.217391</td>\n",
       "    </tr>\n",
       "    <tr>\n",
       "      <th>../1_FeaturesImages_meanstd_PerPlate/SingleSlice/</th>\n",
       "      <td>42.307692</td>\n",
       "      <td>48.076923</td>\n",
       "      <td>64.705882</td>\n",
       "      <td>63.043478</td>\n",
       "    </tr>\n",
       "    <tr>\n",
       "      <th>../1_FeaturesImages_meanstd_PerPlate/SingleSlice_median/</th>\n",
       "      <td>42.307692</td>\n",
       "      <td>50.000000</td>\n",
       "      <td>66.666667</td>\n",
       "      <td>67.391304</td>\n",
       "    </tr>\n",
       "    <tr>\n",
       "      <th>../1_FeaturesImages_minmax/SingleSlice/</th>\n",
       "      <td>42.307692</td>\n",
       "      <td>46.153846</td>\n",
       "      <td>56.862745</td>\n",
       "      <td>63.043478</td>\n",
       "    </tr>\n",
       "    <tr>\n",
       "      <th>../1_FeaturesImages_minmax/SingleSlice_median/</th>\n",
       "      <td>44.230769</td>\n",
       "      <td>48.076923</td>\n",
       "      <td>66.666667</td>\n",
       "      <td>58.695652</td>\n",
       "    </tr>\n",
       "    <tr>\n",
       "      <th>../1_FeaturesImages_minmax_PerPlate/SingleSlice/</th>\n",
       "      <td>38.461538</td>\n",
       "      <td>46.153846</td>\n",
       "      <td>64.705882</td>\n",
       "      <td>63.043478</td>\n",
       "    </tr>\n",
       "    <tr>\n",
       "      <th>../1_FeaturesImages_minmax_PerPlate/SingleSlice_median/</th>\n",
       "      <td>42.307692</td>\n",
       "      <td>55.769231</td>\n",
       "      <td>64.705882</td>\n",
       "      <td>65.217391</td>\n",
       "    </tr>\n",
       "    <tr>\n",
       "      <th>../1_FeaturesImages_none/SingleSlice/</th>\n",
       "      <td>38.461538</td>\n",
       "      <td>61.538462</td>\n",
       "      <td>60.784314</td>\n",
       "      <td>63.043478</td>\n",
       "    </tr>\n",
       "    <tr>\n",
       "      <th>../1_FeaturesImages_none/SingleSlice_median/</th>\n",
       "      <td>42.307692</td>\n",
       "      <td>50.000000</td>\n",
       "      <td>66.666667</td>\n",
       "      <td>67.391304</td>\n",
       "    </tr>\n",
       "    <tr>\n",
       "      <th>../1_FeaturesImages_prototype_perSlice/SingleSlice/</th>\n",
       "      <td>46.153846</td>\n",
       "      <td>51.923077</td>\n",
       "      <td>70.588235</td>\n",
       "      <td>58.695652</td>\n",
       "    </tr>\n",
       "    <tr>\n",
       "      <th>../old_features/1_FeaturesImages_normalized/SingleSlice/</th>\n",
       "      <td>44.230769</td>\n",
       "      <td>44.230769</td>\n",
       "      <td>58.823529</td>\n",
       "      <td>63.043478</td>\n",
       "    </tr>\n",
       "    <tr>\n",
       "      <th>../old_features/1_FeaturesImages_normalized/SingleSlice_median/</th>\n",
       "      <td>38.461538</td>\n",
       "      <td>50.000000</td>\n",
       "      <td>68.627451</td>\n",
       "      <td>67.391304</td>\n",
       "    </tr>\n",
       "    <tr>\n",
       "      <th>../old_features/1_FeaturesImages_ns/SingleSlice_median/</th>\n",
       "      <td>42.307692</td>\n",
       "      <td>57.692308</td>\n",
       "      <td>64.705882</td>\n",
       "      <td>60.869565</td>\n",
       "    </tr>\n",
       "    <tr>\n",
       "      <th>//1_FeaturesImages_meanstd/WellAggregates/HCT116_MedianAgg_meanstd</th>\n",
       "      <td>24.137931</td>\n",
       "      <td>28.846154</td>\n",
       "      <td>52.941176</td>\n",
       "      <td>41.304348</td>\n",
       "    </tr>\n",
       "    <tr>\n",
       "      <th>/1_FeaturesImages_meanstd/WellAggregates/HCT116_MedianAgg_meanstd_afternorm</th>\n",
       "      <td>37.931034</td>\n",
       "      <td>51.923077</td>\n",
       "      <td>52.941176</td>\n",
       "      <td>50.000000</td>\n",
       "    </tr>\n",
       "    <tr>\n",
       "      <th>/1_FeaturesImages_meanstd_PerPlate/WellAggregates/HCT116_MedianAgg_meanstd</th>\n",
       "      <td>12.068966</td>\n",
       "      <td>21.153846</td>\n",
       "      <td>35.294118</td>\n",
       "      <td>19.565217</td>\n",
       "    </tr>\n",
       "    <tr>\n",
       "      <th>/1_FeaturesImages_meanstd_PerPlate/WellAggregates/HCT116_MedianAgg_meanstd_afternorm</th>\n",
       "      <td>39.655172</td>\n",
       "      <td>51.923077</td>\n",
       "      <td>56.862745</td>\n",
       "      <td>58.695652</td>\n",
       "    </tr>\n",
       "    <tr>\n",
       "      <th>/1_FeaturesImages_minmax/WellAggregates/HCT116_MedianAgg_meanstd</th>\n",
       "      <td>10.344828</td>\n",
       "      <td>26.923077</td>\n",
       "      <td>37.254902</td>\n",
       "      <td>39.130435</td>\n",
       "    </tr>\n",
       "    <tr>\n",
       "      <th>/1_FeaturesImages_minmax/WellAggregates/HCT116_MedianAgg_meanstd_afternorm</th>\n",
       "      <td>43.103448</td>\n",
       "      <td>50.000000</td>\n",
       "      <td>58.823529</td>\n",
       "      <td>63.043478</td>\n",
       "    </tr>\n",
       "    <tr>\n",
       "      <th>/1_FeaturesImages_minmax_PerPlate/WellAggregates/HCT116_MedianAgg_meanstd</th>\n",
       "      <td>13.793103</td>\n",
       "      <td>25.000000</td>\n",
       "      <td>35.294118</td>\n",
       "      <td>41.304348</td>\n",
       "    </tr>\n",
       "    <tr>\n",
       "      <th>/1_FeaturesImages_minmax_PerPlate/WellAggregates/HCT116_MedianAgg_meanstd_afternorm</th>\n",
       "      <td>39.655172</td>\n",
       "      <td>53.846154</td>\n",
       "      <td>64.705882</td>\n",
       "      <td>58.695652</td>\n",
       "    </tr>\n",
       "    <tr>\n",
       "      <th>/1_FeaturesImages_none/WellAggregates/HCT116_MedianAgg_meanstd</th>\n",
       "      <td>12.068966</td>\n",
       "      <td>26.923077</td>\n",
       "      <td>35.294118</td>\n",
       "      <td>28.260870</td>\n",
       "    </tr>\n",
       "    <tr>\n",
       "      <th>/1_FeaturesImages_none/WellAggregates/HCT116_MedianAgg_meanstd_afternorm</th>\n",
       "      <td>39.655172</td>\n",
       "      <td>51.923077</td>\n",
       "      <td>50.980392</td>\n",
       "      <td>63.043478</td>\n",
       "    </tr>\n",
       "    <tr>\n",
       "      <th>/1_FeaturesImages_prototype_perSlice/WellAggregates/HCT116_MedianAgg_meanstd</th>\n",
       "      <td>29.310345</td>\n",
       "      <td>36.538462</td>\n",
       "      <td>50.980392</td>\n",
       "      <td>36.956522</td>\n",
       "    </tr>\n",
       "    <tr>\n",
       "      <th>/1_FeaturesImages_prototype_perSlice/WellAggregates/HCT116_MedianAgg_meanstd_afternorm</th>\n",
       "      <td>46.551724</td>\n",
       "      <td>59.615385</td>\n",
       "      <td>66.666667</td>\n",
       "      <td>60.869565</td>\n",
       "    </tr>\n",
       "  </tbody>\n",
       "</table>\n",
       "</div>"
      ],
      "text/plain": [
       "conc_step                                                   1          2  \\\n",
       "name                                                                       \n",
       "../1_FeaturesImages_meanstd/SingleSlice/            32.692308  46.153846   \n",
       "../1_FeaturesImages_meanstd/SingleSlice_median/     34.615385  55.769231   \n",
       "../1_FeaturesImages_meanstd_PerPlate/SingleSlice/   42.307692  48.076923   \n",
       "../1_FeaturesImages_meanstd_PerPlate/SingleSlic...  42.307692  50.000000   \n",
       "../1_FeaturesImages_minmax/SingleSlice/             42.307692  46.153846   \n",
       "../1_FeaturesImages_minmax/SingleSlice_median/      44.230769  48.076923   \n",
       "../1_FeaturesImages_minmax_PerPlate/SingleSlice/    38.461538  46.153846   \n",
       "../1_FeaturesImages_minmax_PerPlate/SingleSlice...  42.307692  55.769231   \n",
       "../1_FeaturesImages_none/SingleSlice/               38.461538  61.538462   \n",
       "../1_FeaturesImages_none/SingleSlice_median/        42.307692  50.000000   \n",
       "../1_FeaturesImages_prototype_perSlice/SingleSl...  46.153846  51.923077   \n",
       "../old_features/1_FeaturesImages_normalized/Sin...  44.230769  44.230769   \n",
       "../old_features/1_FeaturesImages_normalized/Sin...  38.461538  50.000000   \n",
       "../old_features/1_FeaturesImages_ns/SingleSlice...  42.307692  57.692308   \n",
       "//1_FeaturesImages_meanstd/WellAggregates/HCT11...  24.137931  28.846154   \n",
       "/1_FeaturesImages_meanstd/WellAggregates/HCT116...  37.931034  51.923077   \n",
       "/1_FeaturesImages_meanstd_PerPlate/WellAggregat...  12.068966  21.153846   \n",
       "/1_FeaturesImages_meanstd_PerPlate/WellAggregat...  39.655172  51.923077   \n",
       "/1_FeaturesImages_minmax/WellAggregates/HCT116_...  10.344828  26.923077   \n",
       "/1_FeaturesImages_minmax/WellAggregates/HCT116_...  43.103448  50.000000   \n",
       "/1_FeaturesImages_minmax_PerPlate/WellAggregate...  13.793103  25.000000   \n",
       "/1_FeaturesImages_minmax_PerPlate/WellAggregate...  39.655172  53.846154   \n",
       "/1_FeaturesImages_none/WellAggregates/HCT116_Me...  12.068966  26.923077   \n",
       "/1_FeaturesImages_none/WellAggregates/HCT116_Me...  39.655172  51.923077   \n",
       "/1_FeaturesImages_prototype_perSlice/WellAggreg...  29.310345  36.538462   \n",
       "/1_FeaturesImages_prototype_perSlice/WellAggreg...  46.551724  59.615385   \n",
       "\n",
       "conc_step                                                   3          4  \n",
       "name                                                                      \n",
       "../1_FeaturesImages_meanstd/SingleSlice/            62.745098  60.869565  \n",
       "../1_FeaturesImages_meanstd/SingleSlice_median/     66.666667  65.217391  \n",
       "../1_FeaturesImages_meanstd_PerPlate/SingleSlice/   64.705882  63.043478  \n",
       "../1_FeaturesImages_meanstd_PerPlate/SingleSlic...  66.666667  67.391304  \n",
       "../1_FeaturesImages_minmax/SingleSlice/             56.862745  63.043478  \n",
       "../1_FeaturesImages_minmax/SingleSlice_median/      66.666667  58.695652  \n",
       "../1_FeaturesImages_minmax_PerPlate/SingleSlice/    64.705882  63.043478  \n",
       "../1_FeaturesImages_minmax_PerPlate/SingleSlice...  64.705882  65.217391  \n",
       "../1_FeaturesImages_none/SingleSlice/               60.784314  63.043478  \n",
       "../1_FeaturesImages_none/SingleSlice_median/        66.666667  67.391304  \n",
       "../1_FeaturesImages_prototype_perSlice/SingleSl...  70.588235  58.695652  \n",
       "../old_features/1_FeaturesImages_normalized/Sin...  58.823529  63.043478  \n",
       "../old_features/1_FeaturesImages_normalized/Sin...  68.627451  67.391304  \n",
       "../old_features/1_FeaturesImages_ns/SingleSlice...  64.705882  60.869565  \n",
       "//1_FeaturesImages_meanstd/WellAggregates/HCT11...  52.941176  41.304348  \n",
       "/1_FeaturesImages_meanstd/WellAggregates/HCT116...  52.941176  50.000000  \n",
       "/1_FeaturesImages_meanstd_PerPlate/WellAggregat...  35.294118  19.565217  \n",
       "/1_FeaturesImages_meanstd_PerPlate/WellAggregat...  56.862745  58.695652  \n",
       "/1_FeaturesImages_minmax/WellAggregates/HCT116_...  37.254902  39.130435  \n",
       "/1_FeaturesImages_minmax/WellAggregates/HCT116_...  58.823529  63.043478  \n",
       "/1_FeaturesImages_minmax_PerPlate/WellAggregate...  35.294118  41.304348  \n",
       "/1_FeaturesImages_minmax_PerPlate/WellAggregate...  64.705882  58.695652  \n",
       "/1_FeaturesImages_none/WellAggregates/HCT116_Me...  35.294118  28.260870  \n",
       "/1_FeaturesImages_none/WellAggregates/HCT116_Me...  50.980392  63.043478  \n",
       "/1_FeaturesImages_prototype_perSlice/WellAggreg...  50.980392  36.956522  \n",
       "/1_FeaturesImages_prototype_perSlice/WellAggreg...  66.666667  60.869565  "
      ]
     },
     "execution_count": 15,
     "metadata": {},
     "output_type": "execute_result"
    }
   ],
   "source": [
    "data"
   ]
  }
 ],
 "metadata": {
  "kernelspec": {
   "display_name": "Python 3",
   "language": "python",
   "name": "python3"
  },
  "language_info": {
   "codemirror_mode": {
    "name": "ipython",
    "version": 3
   },
   "file_extension": ".py",
   "mimetype": "text/x-python",
   "name": "python",
   "nbconvert_exporter": "python",
   "pygments_lexer": "ipython3",
   "version": "3.8.10"
  }
 },
 "nbformat": 4,
 "nbformat_minor": 2
}
