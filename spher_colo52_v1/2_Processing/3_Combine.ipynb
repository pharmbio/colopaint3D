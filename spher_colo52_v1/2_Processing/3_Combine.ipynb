{
 "cells": [
  {
   "cell_type": "code",
   "execution_count": 1,
   "metadata": {},
   "outputs": [
    {
     "name": "stdout",
     "output_type": "stream",
     "text": [
      "/share/data/analyses/christa/colopaint3D/spher_colo52_v1\n",
      "/share/data/analyses/christa/colopaint3D/spher_colo52_v1\n"
     ]
    }
   ],
   "source": [
    "import pandas as pd\n",
    "import numpy as np\n",
    "import os\n",
    "\n",
    "# Set current working directory\n",
    "print(os.getcwd())\n",
    "os.chdir('/share/data/analyses/christa/colopaint3D/spher_colo52_v1')\n",
    "print(os.getcwd())"
   ]
  },
  {
   "cell_type": "code",
   "execution_count": 2,
   "metadata": {},
   "outputs": [],
   "source": [
    "# Some function definitions\n",
    "\n",
    "def list_features(df):\n",
    "    # List features\n",
    "    list_of_selected_features = list(df.columns.values)\n",
    "    list_of_metadata = list(df.columns[df.columns.str.contains(\"Metadata_\")])\n",
    "    list_of_selected_features = list(set(list_of_selected_features) - set(list_of_metadata))\n",
    "    return list_of_selected_features, list_of_metadata\n",
    "\n",
    "\n",
    "# A function to agree on Metadata columns\n",
    "rename_metadata_dict = {\n",
    "    'Metadata_Barcode': 'Metadata_barcode', \n",
    "    'Metadata_Plate': 'Metadata_Plate',\n",
    "    'Metadata_well_id': 'Metadata_Well',\n",
    "    'Metadata_cmpd_plate_well':'Metadata_PlateWell',\n",
    "    'Metadata_cmpd_pert_type':'Metadata_pert_type',\n",
    "    'Metadata_cmpd_cmpdname':'Metadata_cmpdname',\n",
    "    'Metadata_cmpd_target':'Metadata_target',\n",
    "    'Metadata_cmpd_pathway':'Metadata_pathway',\n",
    "}\n",
    "\n",
    "miminal_metadata = ['Metadata_Well', 'Metadata_barcode', 'Metadata_PlateWell', \n",
    "                    'Metadata_cell_line', 'Metadata_cmpd_conc', 'Metadata_cmpdname', \n",
    "                    'Metadata_name', 'Metadata_pert_type', 'Metadata_pathway', 'Metadata_target']\n",
    "\n",
    "def rename_metadata_columns(df, rename_metadata_dict):\n",
    "    df.rename(columns = rename_metadata_dict, inplace = True)\n",
    "    df = df.loc[:,~df.columns.duplicated()].copy()\n",
    "    return df\n",
    "\n",
    "\n",
    "# A function to check if metadata columns are present\n",
    "def check_metadata_columns(df, minimal_metadata):\n",
    "    metadata_columns = list(df.columns[df.columns.str.contains(\"Metadata_\")])\n",
    "    diff = set(minimal_metadata) - set(metadata_columns)\n",
    "    return diff\n"
   ]
  },
  {
   "cell_type": "markdown",
   "metadata": {},
   "source": [
    "### Combine all profiles"
   ]
  },
  {
   "cell_type": "code",
   "execution_count": 3,
   "metadata": {},
   "outputs": [
    {
     "name": "stdout",
     "output_type": "stream",
     "text": [
      "{'Metadata_PlateWell'}\n"
     ]
    }
   ],
   "source": [
    "# Load MIP data\n",
    "\n",
    "file = '1_FeaturesMIP/selected_data_MIP.csv' #\n",
    "\n",
    "# Load the parquet file and select the cell line of interest\n",
    "dataMIP = pd.read_csv(file, sep = ',', index_col = 0)  \n",
    "\n",
    "# Organize metadata columns\n",
    "dataMIP = rename_metadata_columns(dataMIP, rename_metadata_dict)\n",
    "print(check_metadata_columns(dataMIP, miminal_metadata))\n",
    "\n",
    "# Add the missing metadata columns\n",
    "dataMIP['Metadata_PlateWell'] = dataMIP['Metadata_Well'].astype(str) + '_' + dataMIP['Metadata_barcode'].astype(str)\n",
    "\n",
    "# Keep only the minimal metadata columns\n",
    "dataMIP = dataMIP[miminal_metadata + list_features(dataMIP)[0]]\n",
    "\n",
    "# Add which datatype \n",
    "dataMIP['Metadata_data_type'] = 'MIP'\n"
   ]
  },
  {
   "cell_type": "code",
   "execution_count": 4,
   "metadata": {},
   "outputs": [
    {
     "name": "stdout",
     "output_type": "stream",
     "text": [
      "selected_data_HT29.csv\n",
      "selected_data_HCT116.csv\n",
      "set()\n"
     ]
    }
   ],
   "source": [
    "# Load the aggregated data\n",
    "\n",
    "# List files\n",
    "dir = '1_FeaturesImages_none'\n",
    "files = os.listdir('1_FeaturesImages_none' )\n",
    "\n",
    "data = pd.DataFrame()\n",
    "for f in files: \n",
    "    if f.endswith('.csv'):\n",
    "        print(f)\n",
    "        tmp = pd.read_csv(dir + '/' + f, sep = ',')  \n",
    "        tmp['Metadata_cell_line'] = f.split('.')[0].split('_',)[2]\n",
    "        data = pd.concat([data, tmp], axis = 0)\n",
    "\n",
    "# Organize metadata columns\n",
    "data = rename_metadata_columns(data, rename_metadata_dict)\n",
    "print(check_metadata_columns(data, miminal_metadata))\n",
    "\n",
    "# Keep only the minimal metadata columns\n",
    "data = data[miminal_metadata + list_features(data)[0]]\n",
    "\n",
    "# Add which datatype \n",
    "data['Metadata_data_type'] = 'aggregates'"
   ]
  },
  {
   "cell_type": "code",
   "execution_count": 5,
   "metadata": {},
   "outputs": [],
   "source": [
    "# # Load 2D data\n",
    "# dir_2D = '../../colopaint2D/colo52-analysis-full/results-medmean/'\n",
    "# files_2D = os.listdir(dir_2D)\n",
    "\n",
    "# data2D = pd.DataFrame()\n",
    "# for f in files_2D: \n",
    "#     if f.endswith('.csv'): \n",
    "#         if 'selected_data_HT29' in f:\n",
    "#             tmp = pd.read_csv(dir_2D + '/' + f, sep = ',')  \n",
    "#             tmp['Metadata_cell_line'] = f.split('.')[0].split('_',)[2]\n",
    "#             print(f)\n",
    "#             data2D = pd.concat([data2D, tmp], axis = 0)\n",
    "#         elif 'selected_data_HCT116' in f:\n",
    "#             tmp = pd.read_csv(dir_2D + '/' + f, sep = ',')  \n",
    "#             tmp['Metadata_cell_line'] = f.split('.')[0].split('_',)[2]\n",
    "#             print(f)\n",
    "#             data2D = pd.concat([data2D, tmp], axis = 0)\n",
    "\n",
    "# # # Organize metadata columns\n",
    "# # data2D = rename_metadata_columns(data2D, rename_metadata_dict)\n",
    "# # print(check_metadata_columns(data2D, miminal_metadata))\n",
    "\n",
    "# # # Add the missing metadata columns\n",
    "# # data2D['Metadata_PlateWell'] = data2D['Metadata_Well'].astype(str) + '_' + data2D['Metadata_barcode'].astype(str)\n",
    "\n",
    "# # # Keep only the minimal metadata columns\n",
    "# # data2D = data2D[miminal_metadata + list_features(data2D)[0]]\n",
    "\n",
    "# # # Add which datatype \n",
    "# # data2D['Metadata_data_type'] = '2D'\n",
    "\n",
    "# print(data.shape, \n",
    "# data2D.shape, \n",
    "# dataMIP.shape)\n",
    "\n"
   ]
  },
  {
   "cell_type": "code",
   "execution_count": 6,
   "metadata": {},
   "outputs": [
    {
     "name": "stdout",
     "output_type": "stream",
     "text": [
      "{'Metadata_PlateWell'}\n",
      "(1607, 790) (2391, 1104) (1460, 485)\n"
     ]
    }
   ],
   "source": [
    "# Load 2D data\n",
    "file1 = '../../colopaint2D/colo52-analysis-full/results-medmean/selected_data_HT29.csv'\n",
    "file2 = '../../colopaint2D/colo52-analysis-full/results-medmean/selected_data_HCT116.csv'\n",
    "\n",
    "\n",
    "data2D = pd.DataFrame()\n",
    "tmp = pd.read_csv(file1, index_col=0)\n",
    "tmp['Metadata_cell_line'] = 'HT29'\n",
    "data2D = pd.concat([data2D, tmp], axis = 0)\n",
    "\n",
    "tmp = pd.read_csv(file2, index_col=0)\n",
    "tmp['Metadata_cell_line'] = 'HCT116'\n",
    "data2D = pd.concat([data2D, tmp], axis = 0)\n",
    "\n",
    "# Organize metadata columns\n",
    "data2D = rename_metadata_columns(data2D, rename_metadata_dict)\n",
    "print(check_metadata_columns(data2D, miminal_metadata))\n",
    "\n",
    "# Add the missing metadata columns\n",
    "data2D['Metadata_PlateWell'] = data2D['Metadata_Well'].astype(str) + '_' + data2D['Metadata_barcode'].astype(str)\n",
    "\n",
    "# Keep only the minimal metadata columns\n",
    "data2D = data2D[miminal_metadata + list_features(data2D)[0]]\n",
    "\n",
    "# Add which datatype \n",
    "data2D['Metadata_data_type'] = '2D'\n",
    "\n",
    "\n",
    "print(data.shape, \n",
    "data2D.shape, \n",
    "dataMIP.shape)"
   ]
  },
  {
   "cell_type": "code",
   "execution_count": 7,
   "metadata": {},
   "outputs": [
    {
     "data": {
      "text/plain": [
       "(5458, 2357)"
      ]
     },
     "execution_count": 7,
     "metadata": {},
     "output_type": "execute_result"
    }
   ],
   "source": [
    "# Merge the data\n",
    "dataset = pd.concat([data, data2D, dataMIP], axis = 0, join='outer', ignore_index=True)\n",
    "\n",
    "dataset.shape"
   ]
  },
  {
   "cell_type": "code",
   "execution_count": 8,
   "metadata": {},
   "outputs": [],
   "source": [
    "# Avoid some headaches later on. Replace NaN with np.nan\n",
    "dataset  = dataset.fillna(np.nan)"
   ]
  },
  {
   "cell_type": "code",
   "execution_count": 9,
   "metadata": {},
   "outputs": [],
   "source": [
    "# Save the dataset\n",
    "\n",
    "# Save the data\n",
    "dir_save = '../'\n",
    "dataset.to_csv(('selected_data_all.csv').format(dir_save), index=False)"
   ]
  },
  {
   "cell_type": "code",
   "execution_count": 10,
   "metadata": {},
   "outputs": [],
   "source": [
    "#### Which compounds are in the missing wells? Make a table"
   ]
  },
  {
   "cell_type": "code",
   "execution_count": 11,
   "metadata": {},
   "outputs": [],
   "source": [
    "# Load metadata (I am missing the concentrations)\n",
    "metadata = pd.read_csv('spher_colo52-metadata.csv')"
   ]
  },
  {
   "cell_type": "code",
   "execution_count": 20,
   "metadata": {},
   "outputs": [],
   "source": [
    "\n",
    "metadata['PlateWell'] = metadata.well_id.astype(str) + '_' + metadata.barcode\n",
    "\n",
    "missing_wells = list(set(metadata.PlateWell.unique()) - set(data.Metadata_PlateWell.unique()))\n",
    "missing_data = metadata[metadata.PlateWell.isin(missing_wells)]\n",
    "\n",
    "list_missing = missing_data.groupby(['cell_line','cmpdname','cmpd_conc'])['PlateWell'].value_counts()"
   ]
  },
  {
   "cell_type": "code",
   "execution_count": 13,
   "metadata": {},
   "outputs": [
    {
     "name": "stdout",
     "output_type": "stream",
     "text": [
      "1848\n",
      "1607\n",
      "1607\n",
      "241\n",
      "241\n"
     ]
    }
   ],
   "source": [
    "print(len(metadata.plate_well))\n",
    "print(len(data.Metadata_PlateWell.unique()))\n",
    "print(len(data.Metadata_PlateWell))\n",
    "print(len(missing_wells))\n",
    "print(len(missing_data))"
   ]
  },
  {
   "cell_type": "code",
   "execution_count": 33,
   "metadata": {},
   "outputs": [
    {
     "data": {
      "text/plain": [
       "cmpdname\n",
       "Bortezomib (PS-341)                            9\n",
       "Cobimetinib (GDC-0973, RG7420)                 8\n",
       "5Z-7-OXOZEAENOL                                5\n",
       "SN-38                                          5\n",
       "Crizotinib (PF-02341066)                       5\n",
       "Palbociclib (PD-0332991) HCl                   5\n",
       "Vorinostat (SAHA, MK0683)                      4\n",
       "AZD7762                                        4\n",
       "Binimetinib (MEK162, ARRY-162, ARRY-438162)    3\n",
       "Paclitaxel                                     3\n",
       "PD0325901                                      3\n",
       "Oxaliplatin                                    3\n",
       "abemaciclib (LY2835219)                        2\n",
       "Trametinib (GSK1120212)                        2\n",
       "Linsitinib (OSI-906)                           2\n",
       "Vinorelbine Tartrate                           2\n",
       "Encorafenib (LGX818)                           2\n",
       "stau                                           2\n",
       "dmso                                           2\n",
       "Adavosertib （MK-1775）                          2\n",
       "dtype: int64"
      ]
     },
     "execution_count": 33,
     "metadata": {},
     "output_type": "execute_result"
    }
   ],
   "source": [
    "missing_data.query('cell_line == \"HCT116\"').value_counts('cmpdname').head(20)"
   ]
  },
  {
   "cell_type": "code",
   "execution_count": 34,
   "metadata": {},
   "outputs": [
    {
     "data": {
      "text/plain": [
       "cmpdname\n",
       "Vinorelbine Tartrate                           12\n",
       "Adavosertib （MK-1775）                          11\n",
       "Bortezomib (PS-341)                            10\n",
       "Cobimetinib (GDC-0973, RG7420)                  9\n",
       "Paclitaxel                                      8\n",
       "5Z-7-OXOZEAENOL                                 6\n",
       "Tanespimycin (17-AAG)                           6\n",
       "MK-2206 2HCl                                    6\n",
       "Crizotinib (PF-02341066)                        6\n",
       "PD0325901                                       6\n",
       "AZD7762                                         5\n",
       "Vorinostat (SAHA, MK0683)                       5\n",
       "BMS-754807                                      5\n",
       "Afatinib (BIBW2992)                             4\n",
       "Encorafenib (LGX818)                            4\n",
       "dmso                                            4\n",
       "fenb                                            3\n",
       "Vemurafenib (PLX4032, RG7204)                   3\n",
       "Rabusertib (LY2603618)                          3\n",
       "Binimetinib (MEK162, ARRY-162, ARRY-438162)     2\n",
       "dtype: int64"
      ]
     },
     "execution_count": 34,
     "metadata": {},
     "output_type": "execute_result"
    }
   ],
   "source": [
    "missing_data.query('cell_line == \"HT29\"').value_counts('cmpdname').head(20)"
   ]
  },
  {
   "cell_type": "code",
   "execution_count": null,
   "metadata": {},
   "outputs": [],
   "source": [
    "list_missing.to_csv('missing_table.csv')"
   ]
  },
  {
   "cell_type": "code",
   "execution_count": 38,
   "metadata": {},
   "outputs": [],
   "source": [
    "\n",
    "a = missing_data.value_counts('barcode')"
   ]
  },
  {
   "cell_type": "code",
   "execution_count": 42,
   "metadata": {},
   "outputs": [
    {
     "data": {
      "text/plain": [
       "3.982698687155238"
      ]
     },
     "execution_count": 42,
     "metadata": {},
     "output_type": "execute_result"
    }
   ],
   "source": [
    "np.mean(100 - (a / 308) *100)\n",
    "np.std(100 - (a / 308) *100)"
   ]
  }
 ],
 "metadata": {
  "kernelspec": {
   "display_name": "Python 3",
   "language": "python",
   "name": "python3"
  },
  "language_info": {
   "codemirror_mode": {
    "name": "ipython",
    "version": 3
   },
   "file_extension": ".py",
   "mimetype": "text/x-python",
   "name": "python",
   "nbconvert_exporter": "python",
   "pygments_lexer": "ipython3",
   "version": "3.8.10"
  }
 },
 "nbformat": 4,
 "nbformat_minor": 2
}
