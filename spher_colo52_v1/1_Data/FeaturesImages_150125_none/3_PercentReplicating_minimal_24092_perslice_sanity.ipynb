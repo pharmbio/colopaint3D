{
 "cells": [
  {
   "cell_type": "markdown",
   "metadata": {},
   "source": [
    "### Plot Percent replicating for Spheroid Aggregated data"
   ]
  },
  {
   "cell_type": "code",
   "execution_count": 19,
   "metadata": {},
   "outputs": [
    {
     "name": "stdout",
     "output_type": "stream",
     "text": [
      "/share/data/analyses/christa/colopaint3D/spher_colo52_v1/3_GritScores\n",
      "/share/data/analyses/christa/colopaint3D/spher_colo52_v1/3_GritScores\n"
     ]
    }
   ],
   "source": [
    "import pandas as pd\n",
    "import numpy as np\n",
    "import os\n",
    "\n",
    "# Pycytominer\n",
    "from pycytominer import feature_select\n",
    "from pycytominer import normalize\n",
    "\n",
    "# Grit scores\n",
    "import random\n",
    "\n",
    "# Plotting\n",
    "import matplotlib.pyplot as plt\n",
    "%matplotlib inline\n",
    "import seaborn as sns; sns.set_style(\"white\")\n",
    "plt.rcParams['pdf.fonttype'] = 42\n",
    "plt.rcParams['ps.fonttype'] = 42\n",
    "\n",
    "\n",
    "# Set current working directory\n",
    "print(os.getcwd())\n",
    "os.chdir('/share/data/analyses/christa/colopaint3D/spher_colo52_v1/3_GritScores')\n",
    "print(os.getcwd())"
   ]
  },
  {
   "cell_type": "code",
   "execution_count": 20,
   "metadata": {},
   "outputs": [],
   "source": [
    "# Set\n",
    "perturbation = 'Metadata_pert_name'\n",
    "cmpd_conc = 'Metadata_conc_step' # Use the step here to compare the different concentrations\n",
    "cmpd_short_name = 'Metadata_name'\n",
    "\n",
    "# Set a random seed\n",
    "rng = np.random.RandomState(123)\n"
   ]
  },
  {
   "cell_type": "code",
   "execution_count": 21,
   "metadata": {},
   "outputs": [],
   "source": [
    "# Load some utilities from this repository: \n",
    "\n",
    "def percent_score(null_dist, corr_dist, how='right'):\n",
    "    \"\"\"\n",
    "    Calculates the Percent replicating\n",
    "    :param null_dist: Null distribution\n",
    "    :param corr_dist: Correlation distribution\n",
    "    :param how: \"left\", \"right\" or \"both\" for using the 5th percentile, 95th percentile or both thresholds\n",
    "    :return: proportion of correlation distribution beyond the threshold\n",
    "    From REF: https://github.com/carpenter-singh-lab/2023_Cimini_NatureProtocols/blob/main/notebooks/utils.py\n",
    "    \"\"\"\n",
    "    if how == 'right':\n",
    "        perc_95 = np.nanpercentile(null_dist, 95)\n",
    "        above_threshold = corr_dist > perc_95\n",
    "        return 100 * np.mean(above_threshold.astype(float)), perc_95\n",
    "    if how == 'left':\n",
    "        perc_5 = np.nanpercentile(null_dist, 5)\n",
    "        below_threshold = corr_dist < perc_5\n",
    "        return 100 * np.mean(below_threshold.astype(float)), perc_5\n",
    "    if how == 'both':\n",
    "        perc_95 = np.nanpercentile(null_dist, 95)\n",
    "        above_threshold = corr_dist > perc_95\n",
    "        perc_5 = np.nanpercentile(null_dist, 5)\n",
    "        below_threshold = corr_dist < perc_5\n",
    "        return 100 * (np.mean(above_threshold.astype(float)) + np.mean(below_threshold.astype(float))), perc_95, perc_5\n",
    "    \n",
    "def corr_between_replicates(df, group_by_feature):\n",
    "    \"\"\"\n",
    "    Calculate the correlation between replicates\n",
    "    From REF: https://github.com/carpenter-singh-lab/2023_Cimini_NatureProtocols/blob/main/notebooks/utils.py\n",
    "    \"\"\"\n",
    "    replicate_corr = []\n",
    "    replicate_grouped = df.groupby(group_by_feature)\n",
    "    for name, group in replicate_grouped:\n",
    "        group_features = get_featuredata(group)\n",
    "        corr = np.corrcoef(group_features)\n",
    "        if len(group_features) == 1:  # If there is only one replicate on a plate\n",
    "            replicate_corr.append(np.nan)\n",
    "        else:\n",
    "            np.fill_diagonal(corr, np.nan)\n",
    "            replicate_corr.append(np.nanmedian(corr))  # median replicate correlation\n",
    "    return replicate_corr\n",
    "\n",
    "def corr_between_non_replicates(df, n_samples, n_replicates, metadata_compound_name):\n",
    "    \"\"\"\n",
    "    Null distribution between random \"replicates\".\n",
    "    :param df: pandas.DataFrame\n",
    "    :param n_samples: int\n",
    "    :param n_replicates: int\n",
    "    :param metadata_compound_name: Compound name feature\n",
    "    :return: list-like of correlation values, with a  length of `n_samples`\n",
    "    \"\"\"\n",
    "    df.reset_index(drop=True, inplace=True)\n",
    "    null_corr = []\n",
    "    random.seed(42)\n",
    "    while len(null_corr) < n_samples:\n",
    "        compounds = random.choices([_ for _ in range(len(df))], k=n_replicates)\n",
    "        sample = df.loc[compounds].copy()\n",
    "        if len(sample[metadata_compound_name].unique()) == n_replicates:\n",
    "            sample_features = get_featuredata(sample)\n",
    "            corr = np.corrcoef(sample_features)\n",
    "            np.fill_diagonal(corr, np.nan)\n",
    "            null_corr.append(np.nanmedian(corr))  # median replicate correlation\n",
    "    return null_corr\n",
    "\n",
    "def get_featuredata(df):\n",
    "    \"\"\"return dataframe of just featuredata columns\"\"\"\n",
    "    return df[get_featurecols(df)]\n",
    "\n",
    "def get_featurecols(df):\n",
    "    \"\"\"return a list of featuredata columns\"\"\"\n",
    "    return [c for c in df.columns if not \"Metadata\" in c]\n",
    "\n",
    "def list_features(df):\n",
    "    # List features\n",
    "    list_of_selected_features = list(df.columns.values)\n",
    "    list_of_metadata = list(df.columns[df.columns.str.contains(\"Metadata_\")])\n",
    "    list_of_selected_features = list(set(list_of_selected_features) - set(list_of_metadata))\n",
    "    \n",
    "    return list_of_selected_features, list_of_metadata\n",
    "\n",
    "def process_correlation_data(df, perturbation):\n",
    "    data = get_featuredata(df).groupby(df[perturbation]).mean()\n",
    "    correlations = corr_between_replicates(df, perturbation)\n",
    "    corr_dist = pd.DataFrame({perturbation: data.index, 'corr': correlations})\n",
    "    corr_dist[[cmpd_short_name, cmpd_conc]] = corr_dist[perturbation].str.split(\"_\", expand=True)\n",
    "    # corr_dist[cmpd_conc] = corr_dist[cmpd_conc].astype(float)\n",
    "    return corr_dist"
   ]
  },
  {
   "cell_type": "code",
   "execution_count": 22,
   "metadata": {},
   "outputs": [],
   "source": [
    "cell_line = 'HCT116'"
   ]
  },
  {
   "cell_type": "code",
   "execution_count": 23,
   "metadata": {},
   "outputs": [],
   "source": [
    "# Load the parquet file into a pandas dataframe\n",
    "\n",
    "# Format the file name\n",
    "# file = '../1_FeaturesImages_meanstd/WellAggregates/HCT116_MedianAgg_meanstd.parquet' \n",
    "# file = '../1_FeaturesImages_meanstd_PerPlate/WellAggregates/HCT116_MedianAgg_meanstd.parquet' # standardized\n",
    "# file = '../1_FeaturesImages_minmax/WellAggregates/HCT116_MedianAgg_meanstd.parquet' # standardized\n",
    "# file= '../1_FeaturesImages_minmax_PerPlate/WellAggregates/HCT116_MedianAgg_meanstd.parquet'\n",
    "# file = '../1_FeaturesImages_none/WellAggregates/HCT116_MedianAgg_meanstd.parquet'\n",
    "# file = '../1_FeaturesImages_prototype_perSlice/WellAggregates/HCT116_MedianAgg_meanstd.parquet' # \n",
    "\n",
    "\n",
    "\n",
    "# # name = file.split('/')[-1].split('.')[0]\n",
    "# name = file.split('.')[2]\n",
    "# print(name)\n",
    "\n",
    "\n",
    "# # Load the parquet file\n",
    "# data = pd.read_parquet(file)\n",
    "\n",
    "# # Load metadata (I am missing the concentrations)\n",
    "# metadata = pd.read_csv('spher_colo52-metadata.csv')"
   ]
  },
  {
   "cell_type": "code",
   "execution_count": 24,
   "metadata": {},
   "outputs": [],
   "source": [
    "# List all files in directory\n",
    "# dir = '../1_FeaturesImages_meanstd/SingleSlice/'\n",
    "# dir = '../1_FeaturesImages_meanstd_PerPlate/SingleSlice/'\n",
    "# dir = '../1_FeaturesImages_minmax/SingleSlice/'\n",
    "# dir = '../1_FeaturesImages_minmax_PerPlate/SingleSlice/'\n",
    "# dir = '../1_FeaturesImages_none/SingleSlice/'\n",
    "# dir = '../1_FeaturesImages_prototype_perSlice/SingleSlice/'\n",
    "\n",
    "# dir = '../old_features/1_FeaturesImages_normalized/SingleSlice/'\n",
    "# dir = '../old_features/1_FeaturesImages_ns/SingleSlice/'\n",
    "# dir = '../1_FeaturesImages_meanstd/SingleSlice/'\n",
    "# dir = '../1_FeaturesImages_meanstd_PerPlate/SingleSlice/'\n",
    "# dir = '../1_FeaturesImages_minmax/SingleSlice/'\n",
    "# dir = '../1_FeaturesImages_minmax_PerPlate/SingleSlice/'\n",
    "dir = '../1_FeaturesImages_none/SingleSlice/'\n",
    "\n",
    "\n",
    "files = os.listdir(dir)\n",
    "\n",
    "name = dir\n",
    "\n",
    "# Select all files with HCT116 in the name as well as MedianAgg_meanstd\n",
    "# files = [file for file in files if cell_line in file and 'MedianAgg_meanstd' in file]\n",
    "# files = [file for file in files if cell_line in file and 'MeanAgg' in file]\n",
    "files = [file for file in files if cell_line in file and 'MedianAgg' in file]"
   ]
  },
  {
   "cell_type": "code",
   "execution_count": 25,
   "metadata": {},
   "outputs": [],
   "source": [
    "# Load the parquet file into a pandas dataframe\n",
    "\n",
    "# Load all files\n",
    "data = []\n",
    "for file in files:\n",
    "    data.append(pd.read_parquet(dir + file))\n",
    "\n",
    "data = pd.concat(data)\n",
    "\n",
    "# Load metadata (I am missing the concentrations)\n",
    "metadata = pd.read_csv('/home/jovyan/share/data/analyses/christa/colopaint3D/spher_colo52_v1/spher_colo52-metadata.csv')"
   ]
  },
  {
   "cell_type": "code",
   "execution_count": 26,
   "metadata": {},
   "outputs": [],
   "source": [
    "## Prepare the metadata\n",
    "\n",
    "dataset = data.copy()\n",
    "\n",
    "# Merge data with metadata to get the concentrations\n",
    "dataset = dataset.merge(metadata[['plate_well', 'cmpd_conc']], left_on='Metadata_PlateWell', right_on = 'plate_well')\n",
    "dataset = dataset.drop(columns=['plate_well'])\n",
    "dataset['Metadata_cmpd_conc'] = dataset['cmpd_conc'].rename('Metadata_cmpd_conc')\n",
    "\n",
    "# Remove all columns with 'FileName' or 'PathName' in the name\n",
    "dataset = dataset.loc[:,~dataset.columns.str.contains('FileName|PathName|ObjectNumber|ImageNumber')]\n",
    "dataset.Metadata_PlateWell = dataset.Metadata_Well + '_' + dataset.Metadata_Barcode"
   ]
  },
  {
   "cell_type": "code",
   "execution_count": 27,
   "metadata": {},
   "outputs": [],
   "source": [
    "# Normalize each slice for each plate separately\n",
    "dataset[\"Metadata_plate_slice\"] = (\n",
    "    dataset[\"Metadata_Barcode\"] + \"_\" + dataset[\"Metadata_Site\"].astype(str)\n",
    "    )"
   ]
  },
  {
   "cell_type": "code",
   "execution_count": 28,
   "metadata": {},
   "outputs": [
    {
     "name": "stdout",
     "output_type": "stream",
     "text": [
      "PB000139_0\n",
      "PB000139_1\n"
     ]
    },
    {
     "name": "stdout",
     "output_type": "stream",
     "text": [
      "PB000139_2\n",
      "PB000139_3\n",
      "PB000139_4\n",
      "PB000139_5\n",
      "PB000139_6\n",
      "PB000139_7\n",
      "PB000139_8\n",
      "PB000139_9\n",
      "PB000139_10\n",
      "PB000139_11\n",
      "PB000140_0\n",
      "PB000140_1\n",
      "PB000140_2\n",
      "PB000140_3\n",
      "PB000140_4\n",
      "PB000140_5\n",
      "PB000140_6\n",
      "PB000140_7\n",
      "PB000140_8\n",
      "PB000140_9\n",
      "PB000140_10\n",
      "PB000140_11\n",
      "PB000137_0\n",
      "PB000137_1\n",
      "PB000137_2\n",
      "PB000137_3\n",
      "PB000137_4\n",
      "PB000137_5\n",
      "PB000137_6\n",
      "PB000137_7\n",
      "PB000137_8\n",
      "PB000137_9\n",
      "PB000137_10\n",
      "PB000137_11\n",
      "PB000138_0\n",
      "PB000138_1\n",
      "PB000138_2\n",
      "PB000138_3\n",
      "PB000138_4\n",
      "PB000138_5\n",
      "PB000138_6\n",
      "PB000138_7\n",
      "PB000138_8\n",
      "PB000138_9\n",
      "PB000138_10\n",
      "PB000138_11\n"
     ]
    }
   ],
   "source": [
    "#\n",
    "# Normalize separately per 1) plate and 2) cell line\n",
    "#\n",
    "\n",
    "# units = dataset['Metadata_Barcode'].unique() # Per plate\n",
    "units = dataset[\"Metadata_plate_slice\"].unique() # Per slice in each plate\n",
    "\n",
    "# Itnitialize an empty dataframe\n",
    "normalized = pd.DataFrame(columns=dataset.columns.values)\n",
    "\n",
    "for unit in units:\n",
    "    \n",
    "    print(unit)\n",
    "    annotated_temp = dataset[dataset['Metadata_plate_slice'] == unit]\n",
    "\n",
    "    # Normalize: choose between standardize, robustize, mad_robustize, spherize \n",
    "    normalized_temp = normalize(annotated_temp, \n",
    "                                features=list_features(dataset)[0],image_features=False, \n",
    "                                meta_features=\"infer\", samples=\"Metadata_cmpd_cmpdname == 'dmso'\", \n",
    "                                method=\"standardize\")\n",
    "    normalized = pd.concat([normalized, normalized_temp], ignore_index=True)\n",
    "\n",
    "    \n"
   ]
  },
  {
   "cell_type": "code",
   "execution_count": 29,
   "metadata": {},
   "outputs": [],
   "source": [
    "features = list_features(normalized)[0]\n",
    "metadata_cols = [col for col in normalized.columns if col not in features + ['Metadata_Site', 'Metadata_PlateWell','Metadata_plate_slice']]\n",
    "\n",
    "aggregated_df = normalized.groupby(['Metadata_PlateWell']).agg(\n",
    "    {**{col: 'first' for col in metadata_cols},  # Keep the first occurrence of metadata columns\n",
    "    **{col: 'median' for col in features}}  # Aggregate features by mean (or any other function)\n",
    ").reset_index()"
   ]
  },
  {
   "cell_type": "code",
   "execution_count": 30,
   "metadata": {},
   "outputs": [
    {
     "name": "stdout",
     "output_type": "stream",
     "text": [
      "(834, 615)\n"
     ]
    }
   ],
   "source": [
    "# Feature selection: \"variance_threshold\", \"correlation_threshold\", \"drop_na_columns\", \"blocklist\", \"drop_outliers\", \"noise_removal\",\n",
    "to_clip_df = feature_select(aggregated_df, features=list_features(normalized)[0], operation=[\"variance_threshold\", \"correlation_threshold\",\"drop_na_columns\", \"blocklist\"])\n",
    "\n",
    "# Instead of removing the outliers, we can clip them to the 1st and 99th percentile.\n",
    "selected_df = pd.concat([to_clip_df[list_features(to_clip_df)[1]], to_clip_df[list_features(to_clip_df)[0]].clip(lower=-40, upper=40, axis=1)], axis=1)\n",
    "print(selected_df.shape)"
   ]
  },
  {
   "cell_type": "code",
   "execution_count": 31,
   "metadata": {},
   "outputs": [],
   "source": [
    "\n",
    "selected_df.to_csv(('/home/jovyan/share/data/analyses/christa/colopaint3D_fork/spher_colo52_v1/1_Data/FeaturesImages_150125_none/selected_data_4_{}.csv').format(cell_line), index=False)"
   ]
  },
  {
   "cell_type": "markdown",
   "metadata": {},
   "source": [
    "### Percent Replicating"
   ]
  },
  {
   "cell_type": "code",
   "execution_count": 32,
   "metadata": {},
   "outputs": [],
   "source": [
    "## Prepare metadata for the calculation\n",
    "dataset_pr  = selected_df.copy()\n",
    "\n",
    "# Add a short name for the compound\n",
    "dataset_pr['Metadata_name'] = dataset_pr['Metadata_cmpd_cmpdname'].str[:5] \n",
    "\n",
    "# Add a column with the step of the concentration (easier for plotting)\n",
    "dataset_pr['Metadata_conc_step'] = (\n",
    "    dataset_pr.groupby('Metadata_cmpd_cmpdname')['Metadata_cmpd_conc'].rank(ascending=True, method='dense')\n",
    "    )\n",
    "# Add a column with the name of the perturbation (compound + concentration)\n",
    "dataset_pr[\"Metadata_pert_name\"] = (\n",
    "    dataset_pr[\"Metadata_name\"] + \"_\" + dataset_pr[\"Metadata_conc_step\"].astype(str)\n",
    "    )\n",
    "\n",
    "dataset_pr= dataset_pr[dataset_pr['Metadata_cmpd_pert_type'] == 'trt']"
   ]
  },
  {
   "cell_type": "code",
   "execution_count": 33,
   "metadata": {},
   "outputs": [],
   "source": [
    "# Calculate percent replicating per concentration\n",
    "\n",
    "concentrations = dataset_pr[cmpd_conc].unique()\n",
    "concentrations.sort()\n",
    "\n",
    "perc_replicating = []\n",
    "\n",
    "null_dist_all = pd.DataFrame()\n",
    "corr_dist_all = pd.DataFrame()\n",
    "\n",
    "for conc in concentrations:\n",
    "\n",
    "    conc_df = dataset_pr.loc[dataset_pr[cmpd_conc] == conc]\n",
    "\n",
    "    # Settings\n",
    "    n_replicates = 4 # 4 replicates each\n",
    "    n_compounds = 52\n",
    "    n_samples = n_compounds * n_replicates\n",
    "\n",
    "    # Calculate the null distribution\n",
    "    null_dist = corr_between_non_replicates(conc_df, n_samples, n_replicates, perturbation)\n",
    "    corr_dist_cmpds = process_correlation_data(conc_df, perturbation)\n",
    "\n",
    "    perc_repl, perc_95 = percent_score(null_dist, corr_dist_cmpds['corr'], how='right')\n",
    "    \n",
    "    perc_replicating.append(perc_repl)\n",
    "    \n",
    "    tmp = pd.DataFrame(null_dist, columns=['corr'])\n",
    "    tmp['Metadata_conc_step'] = conc\n",
    "    \n",
    "    tmp['cell_line'] = cell_line\n",
    "    corr_dist_cmpds['cell_line'] = cell_line\n",
    "    \n",
    "    null_dist_all = pd.concat([null_dist_all,tmp], axis=0)\n",
    "    corr_dist_all = pd.concat([corr_dist_all,corr_dist_cmpds], axis=0)\n",
    "\n",
    "\n",
    "\n",
    "pr = pd.DataFrame({'data':name, 'cmpd_conc':concentrations, 'perc_replicating':perc_replicating})\n",
    "# pd.DataFrame(perc_replicating).to_csv(\"{}/perc_replicating_conc_{}.csv\".format(BaseDir,cell_line))"
   ]
  },
  {
   "cell_type": "code",
   "execution_count": 34,
   "metadata": {},
   "outputs": [
    {
     "data": {
      "text/html": [
       "<div>\n",
       "<style scoped>\n",
       "    .dataframe tbody tr th:only-of-type {\n",
       "        vertical-align: middle;\n",
       "    }\n",
       "\n",
       "    .dataframe tbody tr th {\n",
       "        vertical-align: top;\n",
       "    }\n",
       "\n",
       "    .dataframe thead th {\n",
       "        text-align: right;\n",
       "    }\n",
       "</style>\n",
       "<table border=\"1\" class=\"dataframe\">\n",
       "  <thead>\n",
       "    <tr style=\"text-align: right;\">\n",
       "      <th></th>\n",
       "      <th>data</th>\n",
       "      <th>cmpd_conc</th>\n",
       "      <th>perc_replicating</th>\n",
       "    </tr>\n",
       "  </thead>\n",
       "  <tbody>\n",
       "    <tr>\n",
       "      <th>0</th>\n",
       "      <td>../1_FeaturesImages_none/SingleSlice/</td>\n",
       "      <td>1.0</td>\n",
       "      <td>42.307692</td>\n",
       "    </tr>\n",
       "    <tr>\n",
       "      <th>1</th>\n",
       "      <td>../1_FeaturesImages_none/SingleSlice/</td>\n",
       "      <td>2.0</td>\n",
       "      <td>50.000000</td>\n",
       "    </tr>\n",
       "    <tr>\n",
       "      <th>2</th>\n",
       "      <td>../1_FeaturesImages_none/SingleSlice/</td>\n",
       "      <td>3.0</td>\n",
       "      <td>66.666667</td>\n",
       "    </tr>\n",
       "    <tr>\n",
       "      <th>3</th>\n",
       "      <td>../1_FeaturesImages_none/SingleSlice/</td>\n",
       "      <td>4.0</td>\n",
       "      <td>63.043478</td>\n",
       "    </tr>\n",
       "  </tbody>\n",
       "</table>\n",
       "</div>"
      ],
      "text/plain": [
       "                                    data  cmpd_conc  perc_replicating\n",
       "0  ../1_FeaturesImages_none/SingleSlice/        1.0         42.307692\n",
       "1  ../1_FeaturesImages_none/SingleSlice/        2.0         50.000000\n",
       "2  ../1_FeaturesImages_none/SingleSlice/        3.0         66.666667\n",
       "3  ../1_FeaturesImages_none/SingleSlice/        4.0         63.043478"
      ]
     },
     "execution_count": 34,
     "metadata": {},
     "output_type": "execute_result"
    }
   ],
   "source": [
    "pr"
   ]
  },
  {
   "cell_type": "code",
   "execution_count": 35,
   "metadata": {},
   "outputs": [
    {
     "data": {
      "image/png": "[encoded data removed]",
      "text/plain": [
       "<Figure size 600x600 with 1 Axes>"
      ]
     },
     "metadata": {},
     "output_type": "display_data"
    }
   ],
   "source": [
    "# Plot the data in a boxplot\n",
    "corr_dist_all = corr_dist_all.reset_index(drop=True)\n",
    "null_dist_all=null_dist_all.reset_index(drop=True)\n",
    "\n",
    "\n",
    "fig, ax = plt.subplots(figsize=(6, 6))\n",
    "sns.boxplot(data=null_dist_all, x='cell_line', y='corr', width=0.4, hue='Metadata_conc_step', palette='dark:grey', fill=True,  fliersize=1, showfliers=False, legend=False)\n",
    "sns.boxplot(data=corr_dist_all, x='cell_line', y='corr', ax=ax, width=0.4, hue='Metadata_conc_step', palette='Blues', fill=True, fliersize=1, showfliers=False, legend=False)\n",
    "\n",
    "ax.set_xlabel('Cell Line', fontsize=16)\n",
    "ax.set_ylabel('Median pairwise Pearson correlations', fontsize=16)\n",
    "ax.set_ylim(-0.4, 1.1)\n",
    "\n",
    "# plt.title('Reproducibility - ' + data_type, fontsize=16)\n",
    "plt.show()\n",
    "\n",
    "# fig.savefig(\n",
    "#         \"3_Figure3/PercentReplicating/result-images/PercentReplicating_{}.{}\".format(data_type, figformat), dpi=dpi, bbox_inches=\"tight\"\n",
    "#         )"
   ]
  },
  {
   "cell_type": "code",
   "execution_count": 36,
   "metadata": {},
   "outputs": [
    {
     "data": {
      "text/html": [
       "<div>\n",
       "<style scoped>\n",
       "    .dataframe tbody tr th:only-of-type {\n",
       "        vertical-align: middle;\n",
       "    }\n",
       "\n",
       "    .dataframe tbody tr th {\n",
       "        vertical-align: top;\n",
       "    }\n",
       "\n",
       "    .dataframe thead th {\n",
       "        text-align: right;\n",
       "    }\n",
       "</style>\n",
       "<table border=\"1\" class=\"dataframe\">\n",
       "  <thead>\n",
       "    <tr style=\"text-align: right;\">\n",
       "      <th></th>\n",
       "      <th>data</th>\n",
       "      <th>cmpd_conc</th>\n",
       "      <th>perc_replicating</th>\n",
       "    </tr>\n",
       "  </thead>\n",
       "  <tbody>\n",
       "    <tr>\n",
       "      <th>0</th>\n",
       "      <td>../1_FeaturesImages_none/SingleSlice/</td>\n",
       "      <td>1.0</td>\n",
       "      <td>42.307692</td>\n",
       "    </tr>\n",
       "    <tr>\n",
       "      <th>1</th>\n",
       "      <td>../1_FeaturesImages_none/SingleSlice/</td>\n",
       "      <td>2.0</td>\n",
       "      <td>50.000000</td>\n",
       "    </tr>\n",
       "    <tr>\n",
       "      <th>2</th>\n",
       "      <td>../1_FeaturesImages_none/SingleSlice/</td>\n",
       "      <td>3.0</td>\n",
       "      <td>66.666667</td>\n",
       "    </tr>\n",
       "    <tr>\n",
       "      <th>3</th>\n",
       "      <td>../1_FeaturesImages_none/SingleSlice/</td>\n",
       "      <td>4.0</td>\n",
       "      <td>63.043478</td>\n",
       "    </tr>\n",
       "  </tbody>\n",
       "</table>\n",
       "</div>"
      ],
      "text/plain": [
       "                                    data  cmpd_conc  perc_replicating\n",
       "0  ../1_FeaturesImages_none/SingleSlice/        1.0         42.307692\n",
       "1  ../1_FeaturesImages_none/SingleSlice/        2.0         50.000000\n",
       "2  ../1_FeaturesImages_none/SingleSlice/        3.0         66.666667\n",
       "3  ../1_FeaturesImages_none/SingleSlice/        4.0         63.043478"
      ]
     },
     "execution_count": 36,
     "metadata": {},
     "output_type": "execute_result"
    }
   ],
   "source": [
    "pr"
   ]
  }
 ],
 "metadata": {
  "kernelspec": {
   "display_name": "Python 3",
   "language": "python",
   "name": "python3"
  },
  "language_info": {
   "codemirror_mode": {
    "name": "ipython",
    "version": 3
   },
   "file_extension": ".py",
   "mimetype": "text/x-python",
   "name": "python",
   "nbconvert_exporter": "python",
   "pygments_lexer": "ipython3",
   "version": "3.8.10"
  }
 },
 "nbformat": 4,
 "nbformat_minor": 2
}
