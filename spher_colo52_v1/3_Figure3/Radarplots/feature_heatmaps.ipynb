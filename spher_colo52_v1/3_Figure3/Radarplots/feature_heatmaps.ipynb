{
 "cells": [
  {
   "cell_type": "code",
   "execution_count": 68,
   "id": "68a8f582",
   "metadata": {},
   "outputs": [
    {
     "name": "stdout",
     "output_type": "stream",
     "text": [
      "/share/data/analyses/christa/colopaint3D/spher_colo52_v1\n",
      "/share/data/analyses/christa/colopaint3D/spher_colo52_v1\n"
     ]
    }
   ],
   "source": [
    "import sys, os, re\n",
    "import numpy as np\n",
    "import pandas as pd\n",
    "\n",
    "# set root directory\n",
    "sys.path.append(\"../\")\n",
    "from utils.utils import get_featuredata, list_features\n",
    "import utils.utils as utils\n",
    "\n",
    "# utils.apply_defaults(set_cwd=True)\n",
    "\n",
    "# Set current working directory\n",
    "print(os.getcwd())\n",
    "os.chdir('/share/data/analyses/christa/colopaint3D/spher_colo52_v1')\n",
    "print(os.getcwd())"
   ]
  },
  {
   "cell_type": "code",
   "execution_count": 69,
   "id": "25a5dd02",
   "metadata": {},
   "outputs": [],
   "source": [
    "# Setup\n",
    "BaseDir = './results-medmean/'\n",
    "\n",
    "figformat = 'pdf'\n",
    "dpi = 300"
   ]
  },
  {
   "cell_type": "code",
   "execution_count": 70,
   "id": "5f20995a",
   "metadata": {},
   "outputs": [],
   "source": [
    "# Select cell line and compound to analyze\n",
    "\n",
    "cell_line = 'HCT116'\n",
    "data_type = 'aggregates'\n",
    "# data_type = '2D'\n",
    "cmpd=\"Fluor\"\n",
    "conc = 10.0\n",
    "\n",
    "title = f\"{cell_line} exposed to {cmpd} for {data_type} profiles\""
   ]
  },
  {
   "cell_type": "code",
   "execution_count": 71,
   "id": "409656f7",
   "metadata": {},
   "outputs": [],
   "source": [
    "# Load the data\n",
    "dir = '1_Data/results/'\n",
    "data =  pd.read_parquet(('{}grit_data_{}_{}.parquet').format(dir, data_type, cell_line))\n",
    "\n",
    "# Only keep relevant columns\n",
    "metadata = ['Metadata_pert_name', \n",
    "            'Metadata_cell_line', \n",
    "            'Metadata_name',\n",
    "            'Metadata_cmpd_conc',\n",
    "            ]\n",
    "\n",
    "# Calculate aggregated data\n",
    "aggregate_df = get_featuredata(data.set_index(metadata)).groupby(metadata).median().reset_index()\n",
    "\n",
    "\n",
    "# Work with a single cell line and drug at first\n",
    "compound_df = aggregate_df.query('Metadata_cell_line == @cell_line & Metadata_name == @cmpd & Metadata_cmpd_conc == @conc')"
   ]
  },
  {
   "cell_type": "code",
   "execution_count": null,
   "id": "063cfe09",
   "metadata": {},
   "outputs": [],
   "source": []
  },
  {
   "cell_type": "code",
   "execution_count": 72,
   "id": "594d3996",
   "metadata": {},
   "outputs": [
    {
     "data": {
      "application/vnd.microsoft.datawrangler.viewer.v0+json": {
       "columns": [
        {
         "name": "index",
         "rawType": "int64",
         "type": "integer"
        },
        {
         "name": "Metadata_pert_name",
         "rawType": "object",
         "type": "string"
        },
        {
         "name": "Metadata_cell_line",
         "rawType": "object",
         "type": "string"
        },
        {
         "name": "Metadata_name",
         "rawType": "object",
         "type": "string"
        },
        {
         "name": "Metadata_cmpd_conc",
         "rawType": "float64",
         "type": "float"
        },
        {
         "name": "RadialDistribution_ZernikePhase_SYTO_7_5_cytoplasm",
         "rawType": "float64",
         "type": "float"
        },
        {
         "name": "RadialDistribution_ZernikePhase_PHAandWGA_3_1_cytoplasm",
         "rawType": "float64",
         "type": "float"
        },
        {
         "name": "AreaShape_Zernike_2_0_nuclei",
         "rawType": "float64",
         "type": "float"
        },
        {
         "name": "RadialDistribution_ZernikePhase_PHAandWGA_4_2_cytoplasm",
         "rawType": "float64",
         "type": "float"
        },
        {
         "name": "Granularity_1_HOECHST_nuclei",
         "rawType": "float64",
         "type": "float"
        },
        {
         "name": "Granularity_4_PHAandWGA_nuclei",
         "rawType": "float64",
         "type": "float"
        },
        {
         "name": "AreaShape_Zernike_3_3_nuclei",
         "rawType": "float64",
         "type": "float"
        },
        {
         "name": "AreaShape_Zernike_6_6_nuclei",
         "rawType": "float64",
         "type": "float"
        },
        {
         "name": "RadialDistribution_ZernikePhase_CONC_2_2_nuclei",
         "rawType": "float64",
         "type": "float"
        },
        {
         "name": "RadialDistribution_ZernikePhase_PHAandWGA_8_0_nuclei",
         "rawType": "float64",
         "type": "float"
        },
        {
         "name": "AreaShape_Zernike_7_3_nuclei",
         "rawType": "float64",
         "type": "float"
        },
        {
         "name": "RadialDistribution_ZernikePhase_CONC_5_1_nuclei",
         "rawType": "float64",
         "type": "float"
        },
        {
         "name": "RadialDistribution_ZernikePhase_PHAandWGA_8_2_nuclei",
         "rawType": "float64",
         "type": "float"
        },
        {
         "name": "AreaShape_Zernike_4_2_cytoplasm",
         "rawType": "float64",
         "type": "float"
        },
        {
         "name": "RadialDistribution_ZernikePhase_SYTO_9_7_cytoplasm",
         "rawType": "float64",
         "type": "float"
        },
        {
         "name": "Granularity_14_MITO_cytoplasm",
         "rawType": "float64",
         "type": "float"
        },
        {
         "name": "AreaShape_Zernike_9_9_nuclei",
         "rawType": "float64",
         "type": "float"
        },
        {
         "name": "AreaShape_Zernike_1_1_nuclei",
         "rawType": "float64",
         "type": "float"
        },
        {
         "name": "RadialDistribution_ZernikePhase_MITO_9_1_nuclei",
         "rawType": "float64",
         "type": "float"
        },
        {
         "name": "RadialDistribution_ZernikePhase_PHAandWGA_9_7_nuclei",
         "rawType": "float64",
         "type": "float"
        },
        {
         "name": "Correlation_Correlation_HOECHST_PHAandWGA_nuclei",
         "rawType": "float64",
         "type": "float"
        },
        {
         "name": "Granularity_6_HOECHST_cells",
         "rawType": "float64",
         "type": "float"
        },
        {
         "name": "RadialDistribution_MeanFrac_SYTO_1of4_cells",
         "rawType": "float64",
         "type": "float"
        },
        {
         "name": "Neighbors_SecondClosestDistance_Adjacent_nuclei",
         "rawType": "float64",
         "type": "float"
        },
        {
         "name": "RadialDistribution_ZernikePhase_SYTO_9_3_cytoplasm",
         "rawType": "float64",
         "type": "float"
        },
        {
         "name": "RadialDistribution_ZernikePhase_HOECHST_8_8_cytoplasm",
         "rawType": "float64",
         "type": "float"
        },
        {
         "name": "Correlation_RWC_MITO_HOECHST_cells",
         "rawType": "float64",
         "type": "float"
        },
        {
         "name": "AreaShape_Zernike_7_7_cytoplasm",
         "rawType": "float64",
         "type": "float"
        },
        {
         "name": "AreaShape_Zernike_6_4_nuclei",
         "rawType": "float64",
         "type": "float"
        },
        {
         "name": "RadialDistribution_ZernikePhase_SYTO_5_5_nuclei",
         "rawType": "float64",
         "type": "float"
        },
        {
         "name": "Granularity_15_MITO_nuclei",
         "rawType": "float64",
         "type": "float"
        },
        {
         "name": "Granularity_16_SYTO_nuclei",
         "rawType": "float64",
         "type": "float"
        },
        {
         "name": "Correlation_RWC_PHAandWGA_CONC_nuclei",
         "rawType": "float64",
         "type": "float"
        },
        {
         "name": "RadialDistribution_RadialCV_PHAandWGA_2of4_cells",
         "rawType": "float64",
         "type": "float"
        },
        {
         "name": "Intensity_MassDisplacement_HOECHST_nuclei",
         "rawType": "float64",
         "type": "float"
        },
        {
         "name": "Correlation_Correlation_HOECHST_MITO_cells",
         "rawType": "float64",
         "type": "float"
        },
        {
         "name": "Granularity_9_PHAandWGA_nuclei",
         "rawType": "float64",
         "type": "float"
        },
        {
         "name": "RadialDistribution_ZernikePhase_SYTO_5_1_nuclei",
         "rawType": "float64",
         "type": "float"
        },
        {
         "name": "Correlation_K_SYTO_CONC_nuclei",
         "rawType": "float64",
         "type": "float"
        },
        {
         "name": "RadialDistribution_ZernikePhase_CONC_1_1_nuclei",
         "rawType": "float64",
         "type": "float"
        },
        {
         "name": "AreaShape_Zernike_8_8_nuclei",
         "rawType": "float64",
         "type": "float"
        },
        {
         "name": "RadialDistribution_ZernikePhase_CONC_7_5_nuclei",
         "rawType": "float64",
         "type": "float"
        },
        {
         "name": "RadialDistribution_ZernikePhase_HOECHST_8_4_cytoplasm",
         "rawType": "float64",
         "type": "float"
        },
        {
         "name": "RadialDistribution_ZernikePhase_MITO_7_5_cytoplasm",
         "rawType": "float64",
         "type": "float"
        },
        {
         "name": "RadialDistribution_ZernikePhase_MITO_8_6_cytoplasm",
         "rawType": "float64",
         "type": "float"
        },
        {
         "name": "Correlation_Correlation_MITO_PHAandWGA_cytoplasm",
         "rawType": "float64",
         "type": "float"
        },
        {
         "name": "RadialDistribution_MeanFrac_CONC_2of4_cytoplasm",
         "rawType": "float64",
         "type": "float"
        },
        {
         "name": "RadialDistribution_ZernikePhase_MITO_4_2_cytoplasm",
         "rawType": "float64",
         "type": "float"
        },
        {
         "name": "Granularity_3_CONC_cytoplasm",
         "rawType": "float64",
         "type": "float"
        },
        {
         "name": "Granularity_4_SYTO_cytoplasm",
         "rawType": "float64",
         "type": "float"
        },
        {
         "name": "Granularity_5_HOECHST_cells",
         "rawType": "float64",
         "type": "float"
        },
        {
         "name": "RadialDistribution_ZernikePhase_HOECHST_1_1_cells",
         "rawType": "float64",
         "type": "float"
        },
        {
         "name": "Granularity_11_SYTO_nuclei",
         "rawType": "float64",
         "type": "float"
        },
        {
         "name": "RadialDistribution_ZernikePhase_PHAandWGA_3_1_nuclei",
         "rawType": "float64",
         "type": "float"
        },
        {
         "name": "RadialDistribution_ZernikePhase_HOECHST_9_7_cells",
         "rawType": "float64",
         "type": "float"
        },
        {
         "name": "RadialDistribution_ZernikePhase_CONC_8_6_nuclei",
         "rawType": "float64",
         "type": "float"
        },
        {
         "name": "RadialDistribution_ZernikePhase_HOECHST_7_7_cytoplasm",
         "rawType": "float64",
         "type": "float"
        },
        {
         "name": "RadialDistribution_ZernikePhase_SYTO_3_1_cytoplasm",
         "rawType": "float64",
         "type": "float"
        },
        {
         "name": "Correlation_Correlation_CONC_SYTO_cells",
         "rawType": "float64",
         "type": "float"
        },
        {
         "name": "RadialDistribution_ZernikePhase_CONC_4_2_nuclei",
         "rawType": "float64",
         "type": "float"
        },
        {
         "name": "RadialDistribution_ZernikePhase_SYTO_7_1_nuclei",
         "rawType": "float64",
         "type": "float"
        },
        {
         "name": "RadialDistribution_ZernikePhase_SYTO_3_1_nuclei",
         "rawType": "float64",
         "type": "float"
        },
        {
         "name": "Correlation_Correlation_PHAandWGA_SYTO_cytoplasm",
         "rawType": "float64",
         "type": "float"
        },
        {
         "name": "RadialDistribution_ZernikePhase_MITO_8_4_cytoplasm",
         "rawType": "float64",
         "type": "float"
        },
        {
         "name": "AreaShape_Zernike_5_1_cells",
         "rawType": "float64",
         "type": "float"
        },
        {
         "name": "Granularity_11_SYTO_cells",
         "rawType": "float64",
         "type": "float"
        },
        {
         "name": "Granularity_11_HOECHST_nuclei",
         "rawType": "float64",
         "type": "float"
        },
        {
         "name": "Granularity_4_CONC_cytoplasm",
         "rawType": "float64",
         "type": "float"
        },
        {
         "name": "RadialDistribution_MeanFrac_CONC_2of4_cells",
         "rawType": "float64",
         "type": "float"
        },
        {
         "name": "RadialDistribution_ZernikePhase_MITO_1_1_cytoplasm",
         "rawType": "float64",
         "type": "float"
        },
        {
         "name": "RadialDistribution_ZernikePhase_HOECHST_9_3_cells",
         "rawType": "float64",
         "type": "float"
        },
        {
         "name": "AreaShape_Compactness_nuclei",
         "rawType": "float64",
         "type": "float"
        },
        {
         "name": "AreaShape_Zernike_8_0_nuclei",
         "rawType": "float64",
         "type": "float"
        },
        {
         "name": "Granularity_5_SYTO_cells",
         "rawType": "float64",
         "type": "float"
        },
        {
         "name": "Granularity_5_MITO_cells",
         "rawType": "float64",
         "type": "float"
        },
        {
         "name": "RadialDistribution_MeanFrac_PHAandWGA_1of4_cells",
         "rawType": "float64",
         "type": "float"
        },
        {
         "name": "AreaShape_Zernike_8_4_nuclei",
         "rawType": "float64",
         "type": "float"
        },
        {
         "name": "AreaShape_Zernike_6_6_cells",
         "rawType": "float64",
         "type": "float"
        },
        {
         "name": "AreaShape_Zernike_4_4_cytoplasm",
         "rawType": "float64",
         "type": "float"
        },
        {
         "name": "RadialDistribution_ZernikePhase_HOECHST_7_1_nuclei",
         "rawType": "float64",
         "type": "float"
        },
        {
         "name": "Neighbors_FirstClosestDistance_Adjacent_cytoplasm",
         "rawType": "float64",
         "type": "float"
        },
        {
         "name": "Granularity_6_PHAandWGA_cytoplasm",
         "rawType": "float64",
         "type": "float"
        },
        {
         "name": "Granularity_2_PHAandWGA_cells",
         "rawType": "float64",
         "type": "float"
        },
        {
         "name": "RadialDistribution_ZernikePhase_MITO_6_2_nuclei",
         "rawType": "float64",
         "type": "float"
        },
        {
         "name": "RadialDistribution_ZernikePhase_MITO_9_9_nuclei",
         "rawType": "float64",
         "type": "float"
        },
        {
         "name": "RadialDistribution_ZernikePhase_MITO_9_7_cytoplasm",
         "rawType": "float64",
         "type": "float"
        },
        {
         "name": "RadialDistribution_ZernikePhase_HOECHST_1_1_nuclei",
         "rawType": "float64",
         "type": "float"
        },
        {
         "name": "RadialDistribution_MeanFrac_PHAandWGA_2of4_cells",
         "rawType": "float64",
         "type": "float"
        },
        {
         "name": "AreaShape_Zernike_9_7_cells",
         "rawType": "float64",
         "type": "float"
        },
        {
         "name": "RadialDistribution_ZernikeMagnitude_CONC_2_0_cells",
         "rawType": "float64",
         "type": "float"
        },
        {
         "name": "Granularity_2_HOECHST_cells",
         "rawType": "float64",
         "type": "float"
        },
        {
         "name": "Granularity_5_HOECHST_cytoplasm",
         "rawType": "float64",
         "type": "float"
        },
        {
         "name": "RadialDistribution_ZernikePhase_CONC_8_8_nuclei",
         "rawType": "float64",
         "type": "float"
        },
        {
         "name": "RadialDistribution_ZernikeMagnitude_MITO_8_0_cells",
         "rawType": "float64",
         "type": "float"
        },
        {
         "name": "RadialDistribution_ZernikePhase_MITO_8_0_nuclei",
         "rawType": "float64",
         "type": "float"
        },
        {
         "name": "RadialDistribution_ZernikePhase_PHAandWGA_6_4_nuclei",
         "rawType": "float64",
         "type": "float"
        },
        {
         "name": "RadialDistribution_ZernikePhase_HOECHST_8_2_cytoplasm",
         "rawType": "float64",
         "type": "float"
        },
        {
         "name": "Granularity_11_CONC_nuclei",
         "rawType": "float64",
         "type": "float"
        },
        {
         "name": "RadialDistribution_ZernikePhase_SYTO_6_4_nuclei",
         "rawType": "float64",
         "type": "float"
        },
        {
         "name": "RadialDistribution_ZernikePhase_PHAandWGA_9_9_nuclei",
         "rawType": "float64",
         "type": "float"
        },
        {
         "name": "Correlation_Overlap_HOECHST_MITO_nuclei",
         "rawType": "float64",
         "type": "float"
        },
        {
         "name": "Correlation_Overlap_MITO_PHAandWGA_cytoplasm",
         "rawType": "float64",
         "type": "float"
        },
        {
         "name": "Granularity_3_MITO_cytoplasm",
         "rawType": "float64",
         "type": "float"
        },
        {
         "name": "Granularity_3_SYTO_cytoplasm",
         "rawType": "float64",
         "type": "float"
        },
        {
         "name": "Correlation_K_CONC_MITO_nuclei",
         "rawType": "float64",
         "type": "float"
        },
        {
         "name": "Intensity_IntegratedIntensity_PHAandWGA_cells",
         "rawType": "float64",
         "type": "float"
        },
        {
         "name": "AreaShape_FormFactor_cytoplasm",
         "rawType": "float64",
         "type": "float"
        },
        {
         "name": "RadialDistribution_ZernikePhase_HOECHST_9_7_cytoplasm",
         "rawType": "float64",
         "type": "float"
        },
        {
         "name": "RadialDistribution_ZernikePhase_SYTO_9_5_cytoplasm",
         "rawType": "float64",
         "type": "float"
        },
        {
         "name": "RadialDistribution_ZernikePhase_SYTO_1_1_cells",
         "rawType": "float64",
         "type": "float"
        },
        {
         "name": "Granularity_3_PHAandWGA_cytoplasm",
         "rawType": "float64",
         "type": "float"
        },
        {
         "name": "Neighbors_FirstClosestDistance_Adjacent_nuclei",
         "rawType": "float64",
         "type": "float"
        },
        {
         "name": "Granularity_10_HOECHST_nuclei",
         "rawType": "float64",
         "type": "float"
        },
        {
         "name": "Granularity_2_PHAandWGA_nuclei",
         "rawType": "float64",
         "type": "float"
        },
        {
         "name": "RadialDistribution_RadialCV_SYTO_2of4_cells",
         "rawType": "float64",
         "type": "float"
        },
        {
         "name": "Granularity_8_PHAandWGA_nuclei",
         "rawType": "float64",
         "type": "float"
        },
        {
         "name": "Granularity_1_SYTO_cells",
         "rawType": "float64",
         "type": "float"
        },
        {
         "name": "Correlation_RWC_HOECHST_CONC_cytoplasm",
         "rawType": "float64",
         "type": "float"
        },
        {
         "name": "RadialDistribution_ZernikePhase_MITO_6_0_nuclei",
         "rawType": "float64",
         "type": "float"
        },
        {
         "name": "RadialDistribution_ZernikePhase_CONC_3_3_cells",
         "rawType": "float64",
         "type": "float"
        },
        {
         "name": "Correlation_RWC_CONC_MITO_nuclei",
         "rawType": "float64",
         "type": "float"
        },
        {
         "name": "RadialDistribution_ZernikePhase_CONC_7_3_nuclei",
         "rawType": "float64",
         "type": "float"
        },
        {
         "name": "RadialDistribution_MeanFrac_HOECHST_2of4_nuclei",
         "rawType": "float64",
         "type": "float"
        },
        {
         "name": "Correlation_K_SYTO_HOECHST_nuclei",
         "rawType": "float64",
         "type": "float"
        },
        {
         "name": "RadialDistribution_ZernikePhase_HOECHST_7_5_cytoplasm",
         "rawType": "float64",
         "type": "float"
        },
        {
         "name": "Correlation_Correlation_CONC_HOECHST_cells",
         "rawType": "float64",
         "type": "float"
        },
        {
         "name": "RadialDistribution_ZernikePhase_MITO_6_4_cells",
         "rawType": "float64",
         "type": "float"
        },
        {
         "name": "RadialDistribution_ZernikePhase_CONC_9_5_cells",
         "rawType": "float64",
         "type": "float"
        },
        {
         "name": "RadialDistribution_ZernikePhase_SYTO_7_7_cells",
         "rawType": "float64",
         "type": "float"
        },
        {
         "name": "RadialDistribution_ZernikePhase_PHAandWGA_9_5_nuclei",
         "rawType": "float64",
         "type": "float"
        },
        {
         "name": "Correlation_Correlation_CONC_SYTO_cytoplasm",
         "rawType": "float64",
         "type": "float"
        },
        {
         "name": "RadialDistribution_ZernikePhase_PHAandWGA_8_2_cytoplasm",
         "rawType": "float64",
         "type": "float"
        },
        {
         "name": "AreaShape_Zernike_8_0_cells",
         "rawType": "float64",
         "type": "float"
        },
        {
         "name": "Granularity_7_HOECHST_cells",
         "rawType": "float64",
         "type": "float"
        },
        {
         "name": "RadialDistribution_ZernikePhase_HOECHST_5_5_cytoplasm",
         "rawType": "float64",
         "type": "float"
        },
        {
         "name": "AreaShape_Zernike_5_3_cytoplasm",
         "rawType": "float64",
         "type": "float"
        },
        {
         "name": "Correlation_RWC_SYTO_HOECHST_nuclei",
         "rawType": "float64",
         "type": "float"
        },
        {
         "name": "RadialDistribution_ZernikePhase_HOECHST_9_9_nuclei",
         "rawType": "float64",
         "type": "float"
        },
        {
         "name": "Intensity_IntegratedIntensity_MITO_cells",
         "rawType": "float64",
         "type": "float"
        },
        {
         "name": "Granularity_8_PHAandWGA_cytoplasm",
         "rawType": "float64",
         "type": "float"
        },
        {
         "name": "RadialDistribution_MeanFrac_MITO_1of4_cytoplasm",
         "rawType": "float64",
         "type": "float"
        },
        {
         "name": "RadialDistribution_ZernikePhase_MITO_3_3_nuclei",
         "rawType": "float64",
         "type": "float"
        },
        {
         "name": "RadialDistribution_ZernikePhase_SYTO_9_1_cytoplasm",
         "rawType": "float64",
         "type": "float"
        },
        {
         "name": "RadialDistribution_ZernikePhase_MITO_7_1_nuclei",
         "rawType": "float64",
         "type": "float"
        },
        {
         "name": "RadialDistribution_ZernikePhase_SYTO_1_1_cytoplasm",
         "rawType": "float64",
         "type": "float"
        },
        {
         "name": "AreaShape_Zernike_5_1_cytoplasm",
         "rawType": "float64",
         "type": "float"
        },
        {
         "name": "RadialDistribution_ZernikePhase_MITO_5_5_cytoplasm",
         "rawType": "float64",
         "type": "float"
        },
        {
         "name": "RadialDistribution_ZernikePhase_PHAandWGA_7_3_nuclei",
         "rawType": "float64",
         "type": "float"
        },
        {
         "name": "RadialDistribution_ZernikePhase_MITO_5_3_nuclei",
         "rawType": "float64",
         "type": "float"
        },
        {
         "name": "RadialDistribution_ZernikePhase_MITO_9_3_cells",
         "rawType": "float64",
         "type": "float"
        },
        {
         "name": "RadialDistribution_ZernikePhase_CONC_7_1_cytoplasm",
         "rawType": "float64",
         "type": "float"
        },
        {
         "name": "AreaShape_Zernike_9_7_cytoplasm",
         "rawType": "float64",
         "type": "float"
        },
        {
         "name": "Granularity_13_CONC_nuclei",
         "rawType": "float64",
         "type": "float"
        },
        {
         "name": "Granularity_6_SYTO_cells",
         "rawType": "float64",
         "type": "float"
        },
        {
         "name": "RadialDistribution_ZernikePhase_HOECHST_7_5_cells",
         "rawType": "float64",
         "type": "float"
        },
        {
         "name": "Location_MaxIntensity_Y_MITO_nuclei",
         "rawType": "float64",
         "type": "float"
        },
        {
         "name": "RadialDistribution_ZernikePhase_PHAandWGA_5_3_cytoplasm",
         "rawType": "float64",
         "type": "float"
        },
        {
         "name": "Intensity_IntegratedIntensity_HOECHST_cells",
         "rawType": "float64",
         "type": "float"
        },
        {
         "name": "Granularity_8_HOECHST_cells",
         "rawType": "float64",
         "type": "float"
        },
        {
         "name": "RadialDistribution_RadialCV_CONC_2of4_cytoplasm",
         "rawType": "float64",
         "type": "float"
        },
        {
         "name": "RadialDistribution_RadialCV_MITO_1of4_cells",
         "rawType": "float64",
         "type": "float"
        },
        {
         "name": "RadialDistribution_ZernikePhase_CONC_7_7_cytoplasm",
         "rawType": "float64",
         "type": "float"
        },
        {
         "name": "RadialDistribution_ZernikePhase_HOECHST_8_4_nuclei",
         "rawType": "float64",
         "type": "float"
        },
        {
         "name": "AreaShape_Zernike_4_4_nuclei",
         "rawType": "float64",
         "type": "float"
        },
        {
         "name": "RadialDistribution_ZernikePhase_HOECHST_5_5_cells",
         "rawType": "float64",
         "type": "float"
        },
        {
         "name": "RadialDistribution_ZernikePhase_CONC_9_1_nuclei",
         "rawType": "float64",
         "type": "float"
        },
        {
         "name": "RadialDistribution_ZernikePhase_PHAandWGA_7_5_nuclei",
         "rawType": "float64",
         "type": "float"
        },
        {
         "name": "Correlation_K_HOECHST_SYTO_nuclei",
         "rawType": "float64",
         "type": "float"
        },
        {
         "name": "RadialDistribution_ZernikePhase_HOECHST_9_1_nuclei",
         "rawType": "float64",
         "type": "float"
        },
        {
         "name": "RadialDistribution_ZernikePhase_HOECHST_9_3_cytoplasm",
         "rawType": "float64",
         "type": "float"
        },
        {
         "name": "Granularity_5_PHAandWGA_cytoplasm",
         "rawType": "float64",
         "type": "float"
        },
        {
         "name": "Granularity_16_PHAandWGA_nuclei",
         "rawType": "float64",
         "type": "float"
        },
        {
         "name": "RadialDistribution_ZernikePhase_SYTO_9_9_cells",
         "rawType": "float64",
         "type": "float"
        },
        {
         "name": "RadialDistribution_MeanFrac_CONC_1of4_cytoplasm",
         "rawType": "float64",
         "type": "float"
        },
        {
         "name": "RadialDistribution_ZernikePhase_MITO_5_3_cytoplasm",
         "rawType": "float64",
         "type": "float"
        },
        {
         "name": "RadialDistribution_ZernikePhase_SYTO_7_1_cytoplasm",
         "rawType": "float64",
         "type": "float"
        },
        {
         "name": "RadialDistribution_ZernikePhase_CONC_9_1_cytoplasm",
         "rawType": "float64",
         "type": "float"
        },
        {
         "name": "RadialDistribution_ZernikePhase_MITO_9_5_cells",
         "rawType": "float64",
         "type": "float"
        },
        {
         "name": "RadialDistribution_ZernikePhase_HOECHST_5_3_cytoplasm",
         "rawType": "float64",
         "type": "float"
        },
        {
         "name": "RadialDistribution_RadialCV_MITO_2of4_cells",
         "rawType": "float64",
         "type": "float"
        },
        {
         "name": "RadialDistribution_ZernikePhase_CONC_2_2_cytoplasm",
         "rawType": "float64",
         "type": "float"
        },
        {
         "name": "RadialDistribution_ZernikePhase_SYTO_8_4_nuclei",
         "rawType": "float64",
         "type": "float"
        },
        {
         "name": "RadialDistribution_ZernikePhase_SYTO_4_2_nuclei",
         "rawType": "float64",
         "type": "float"
        },
        {
         "name": "RadialDistribution_ZernikePhase_MITO_5_5_cells",
         "rawType": "float64",
         "type": "float"
        },
        {
         "name": "RadialDistribution_ZernikePhase_SYTO_5_3_cells",
         "rawType": "float64",
         "type": "float"
        },
        {
         "name": "RadialDistribution_ZernikePhase_HOECHST_6_2_cytoplasm",
         "rawType": "float64",
         "type": "float"
        },
        {
         "name": "Intensity_StdIntensity_SYTO_cytoplasm",
         "rawType": "float64",
         "type": "float"
        },
        {
         "name": "RadialDistribution_ZernikePhase_SYTO_5_3_nuclei",
         "rawType": "float64",
         "type": "float"
        },
        {
         "name": "Granularity_12_SYTO_cells",
         "rawType": "float64",
         "type": "float"
        },
        {
         "name": "Intensity_StdIntensity_HOECHST_nuclei",
         "rawType": "float64",
         "type": "float"
        },
        {
         "name": "AreaShape_Zernike_5_3_cells",
         "rawType": "float64",
         "type": "float"
        },
        {
         "name": "Granularity_3_SYTO_cells",
         "rawType": "float64",
         "type": "float"
        },
        {
         "name": "RadialDistribution_MeanFrac_SYTO_1of4_nuclei",
         "rawType": "float64",
         "type": "float"
        },
        {
         "name": "RadialDistribution_ZernikePhase_HOECHST_9_5_nuclei",
         "rawType": "float64",
         "type": "float"
        },
        {
         "name": "AreaShape_Eccentricity_cytoplasm",
         "rawType": "float64",
         "type": "float"
        },
        {
         "name": "Neighbors_SecondClosestDistance_Adjacent_cytoplasm",
         "rawType": "float64",
         "type": "float"
        },
        {
         "name": "RadialDistribution_ZernikePhase_PHAandWGA_7_1_nuclei",
         "rawType": "float64",
         "type": "float"
        },
        {
         "name": "Granularity_5_MITO_nuclei",
         "rawType": "float64",
         "type": "float"
        },
        {
         "name": "RadialDistribution_ZernikePhase_SYTO_7_7_cytoplasm",
         "rawType": "float64",
         "type": "float"
        },
        {
         "name": "RadialDistribution_ZernikePhase_CONC_6_4_cytoplasm",
         "rawType": "float64",
         "type": "float"
        },
        {
         "name": "RadialDistribution_ZernikePhase_HOECHST_9_5_cytoplasm",
         "rawType": "float64",
         "type": "float"
        },
        {
         "name": "RadialDistribution_ZernikePhase_SYTO_5_5_cells",
         "rawType": "float64",
         "type": "float"
        },
        {
         "name": "RadialDistribution_ZernikePhase_CONC_7_1_cells",
         "rawType": "float64",
         "type": "float"
        },
        {
         "name": "RadialDistribution_MeanFrac_MITO_2of4_cells",
         "rawType": "float64",
         "type": "float"
        },
        {
         "name": "AreaShape_Zernike_4_0_nuclei",
         "rawType": "float64",
         "type": "float"
        },
        {
         "name": "Correlation_RWC_SYTO_PHAandWGA_cells",
         "rawType": "float64",
         "type": "float"
        },
        {
         "name": "RadialDistribution_ZernikePhase_CONC_1_1_cells",
         "rawType": "float64",
         "type": "float"
        },
        {
         "name": "AreaShape_Zernike_5_5_nuclei",
         "rawType": "float64",
         "type": "float"
        },
        {
         "name": "AreaShape_Zernike_1_1_cytoplasm",
         "rawType": "float64",
         "type": "float"
        },
        {
         "name": "AreaShape_Zernike_8_4_cytoplasm",
         "rawType": "float64",
         "type": "float"
        },
        {
         "name": "RadialDistribution_ZernikePhase_SYTO_3_3_nuclei",
         "rawType": "float64",
         "type": "float"
        },
        {
         "name": "Granularity_9_SYTO_cells",
         "rawType": "float64",
         "type": "float"
        },
        {
         "name": "Granularity_9_HOECHST_nuclei",
         "rawType": "float64",
         "type": "float"
        },
        {
         "name": "RadialDistribution_RadialCV_PHAandWGA_1of4_cytoplasm",
         "rawType": "float64",
         "type": "float"
        },
        {
         "name": "Correlation_Overlap_CONC_SYTO_cells",
         "rawType": "float64",
         "type": "float"
        },
        {
         "name": "AreaShape_Zernike_7_5_nuclei",
         "rawType": "float64",
         "type": "float"
        },
        {
         "name": "RadialDistribution_ZernikePhase_PHAandWGA_4_2_nuclei",
         "rawType": "float64",
         "type": "float"
        },
        {
         "name": "RadialDistribution_ZernikePhase_PHAandWGA_9_7_cytoplasm",
         "rawType": "float64",
         "type": "float"
        },
        {
         "name": "Granularity_3_PHAandWGA_cells",
         "rawType": "float64",
         "type": "float"
        },
        {
         "name": "AreaShape_Eccentricity_nuclei",
         "rawType": "float64",
         "type": "float"
        },
        {
         "name": "RadialDistribution_ZernikePhase_HOECHST_2_0_cells",
         "rawType": "float64",
         "type": "float"
        },
        {
         "name": "AreaShape_Zernike_2_0_cells",
         "rawType": "float64",
         "type": "float"
        },
        {
         "name": "AreaShape_Zernike_8_4_cells",
         "rawType": "float64",
         "type": "float"
        },
        {
         "name": "Granularity_8_CONC_cells",
         "rawType": "float64",
         "type": "float"
        },
        {
         "name": "AreaShape_Zernike_3_1_cells",
         "rawType": "float64",
         "type": "float"
        },
        {
         "name": "Intensity_MassDisplacement_CONC_cytoplasm",
         "rawType": "float64",
         "type": "float"
        },
        {
         "name": "RadialDistribution_ZernikePhase_MITO_9_1_cytoplasm",
         "rawType": "float64",
         "type": "float"
        },
        {
         "name": "RadialDistribution_ZernikePhase_SYTO_9_5_nuclei",
         "rawType": "float64",
         "type": "float"
        },
        {
         "name": "RadialDistribution_ZernikePhase_SYTO_9_1_nuclei",
         "rawType": "float64",
         "type": "float"
        },
        {
         "name": "Neighbors_AngleBetweenNeighbors_Adjacent_cytoplasm",
         "rawType": "float64",
         "type": "float"
        },
        {
         "name": "RadialDistribution_ZernikePhase_SYTO_9_9_nuclei",
         "rawType": "float64",
         "type": "float"
        },
        {
         "name": "RadialDistribution_ZernikePhase_SYTO_9_9_cytoplasm",
         "rawType": "float64",
         "type": "float"
        },
        {
         "name": "RadialDistribution_ZernikePhase_MITO_3_1_cytoplasm",
         "rawType": "float64",
         "type": "float"
        },
        {
         "name": "RadialDistribution_ZernikePhase_MITO_9_3_cytoplasm",
         "rawType": "float64",
         "type": "float"
        },
        {
         "name": "RadialDistribution_ZernikePhase_HOECHST_5_3_nuclei",
         "rawType": "float64",
         "type": "float"
        },
        {
         "name": "AreaShape_Solidity_nuclei",
         "rawType": "float64",
         "type": "float"
        },
        {
         "name": "Granularity_13_SYTO_nuclei",
         "rawType": "float64",
         "type": "float"
        },
        {
         "name": "Correlation_Correlation_CONC_HOECHST_cytoplasm",
         "rawType": "float64",
         "type": "float"
        },
        {
         "name": "AreaShape_Zernike_7_1_nuclei",
         "rawType": "float64",
         "type": "float"
        },
        {
         "name": "AreaShape_Zernike_5_1_nuclei",
         "rawType": "float64",
         "type": "float"
        },
        {
         "name": "RadialDistribution_ZernikePhase_MITO_9_3_nuclei",
         "rawType": "float64",
         "type": "float"
        },
        {
         "name": "Granularity_1_CONC_cells",
         "rawType": "float64",
         "type": "float"
        },
        {
         "name": "Granularity_10_SYTO_cells",
         "rawType": "float64",
         "type": "float"
        },
        {
         "name": "AreaShape_Zernike_9_5_cells",
         "rawType": "float64",
         "type": "float"
        },
        {
         "name": "Intensity_MassDisplacement_HOECHST_cells",
         "rawType": "float64",
         "type": "float"
        },
        {
         "name": "RadialDistribution_ZernikePhase_HOECHST_7_1_cytoplasm",
         "rawType": "float64",
         "type": "float"
        },
        {
         "name": "Granularity_11_PHAandWGA_nuclei",
         "rawType": "float64",
         "type": "float"
        },
        {
         "name": "RadialDistribution_ZernikePhase_PHAandWGA_6_2_cells",
         "rawType": "float64",
         "type": "float"
        },
        {
         "name": "RadialDistribution_ZernikePhase_HOECHST_9_5_cells",
         "rawType": "float64",
         "type": "float"
        },
        {
         "name": "AreaShape_Zernike_9_7_nuclei",
         "rawType": "float64",
         "type": "float"
        },
        {
         "name": "RadialDistribution_ZernikePhase_CONC_2_2_cells",
         "rawType": "float64",
         "type": "float"
        },
        {
         "name": "AreaShape_Zernike_9_3_cytoplasm",
         "rawType": "float64",
         "type": "float"
        },
        {
         "name": "Granularity_3_HOECHST_cells",
         "rawType": "float64",
         "type": "float"
        },
        {
         "name": "RadialDistribution_ZernikePhase_MITO_3_3_cytoplasm",
         "rawType": "float64",
         "type": "float"
        },
        {
         "name": "Granularity_16_CONC_nuclei",
         "rawType": "float64",
         "type": "float"
        },
        {
         "name": "Granularity_10_MITO_nuclei",
         "rawType": "float64",
         "type": "float"
        },
        {
         "name": "RadialDistribution_ZernikePhase_MITO_9_1_cells",
         "rawType": "float64",
         "type": "float"
        },
        {
         "name": "RadialDistribution_ZernikePhase_CONC_5_1_cytoplasm",
         "rawType": "float64",
         "type": "float"
        },
        {
         "name": "RadialDistribution_ZernikePhase_HOECHST_7_3_nuclei",
         "rawType": "float64",
         "type": "float"
        },
        {
         "name": "Granularity_16_MITO_cytoplasm",
         "rawType": "float64",
         "type": "float"
        },
        {
         "name": "RadialDistribution_ZernikePhase_MITO_6_0_cells",
         "rawType": "float64",
         "type": "float"
        },
        {
         "name": "RadialDistribution_ZernikePhase_SYTO_8_4_cytoplasm",
         "rawType": "float64",
         "type": "float"
        },
        {
         "name": "RadialDistribution_ZernikePhase_SYTO_7_3_cytoplasm",
         "rawType": "float64",
         "type": "float"
        },
        {
         "name": "RadialDistribution_ZernikePhase_HOECHST_3_3_nuclei",
         "rawType": "float64",
         "type": "float"
        },
        {
         "name": "RadialDistribution_MeanFrac_MITO_2of4_cytoplasm",
         "rawType": "float64",
         "type": "float"
        },
        {
         "name": "AreaShape_Zernike_8_8_cells",
         "rawType": "float64",
         "type": "float"
        },
        {
         "name": "RadialDistribution_ZernikePhase_CONC_9_9_cells",
         "rawType": "float64",
         "type": "float"
        },
        {
         "name": "Neighbors_NumberOfNeighbors_Adjacent_cytoplasm",
         "rawType": "float64",
         "type": "float"
        },
        {
         "name": "AreaShape_Zernike_9_9_cells",
         "rawType": "float64",
         "type": "float"
        },
        {
         "name": "RadialDistribution_ZernikeMagnitude_CONC_9_9_nuclei",
         "rawType": "float64",
         "type": "float"
        },
        {
         "name": "RadialDistribution_ZernikePhase_SYTO_8_0_nuclei",
         "rawType": "float64",
         "type": "float"
        },
        {
         "name": "AreaShape_BoundingBoxMinimum_X_cytoplasm",
         "rawType": "float64",
         "type": "float"
        },
        {
         "name": "Intensity_MADIntensity_MITO_cells",
         "rawType": "float64",
         "type": "float"
        },
        {
         "name": "RadialDistribution_ZernikeMagnitude_MITO_4_0_cytoplasm",
         "rawType": "float64",
         "type": "float"
        },
        {
         "name": "RadialDistribution_ZernikePhase_PHAandWGA_6_2_cytoplasm",
         "rawType": "float64",
         "type": "float"
        },
        {
         "name": "Granularity_3_PHAandWGA_nuclei",
         "rawType": "float64",
         "type": "float"
        },
        {
         "name": "Correlation_Correlation_HOECHST_SYTO_cells",
         "rawType": "float64",
         "type": "float"
        },
        {
         "name": "AreaShape_Zernike_7_1_cells",
         "rawType": "float64",
         "type": "float"
        },
        {
         "name": "RadialDistribution_MeanFrac_SYTO_2of4_cytoplasm",
         "rawType": "float64",
         "type": "float"
        },
        {
         "name": "RadialDistribution_ZernikePhase_PHAandWGA_9_3_nuclei",
         "rawType": "float64",
         "type": "float"
        },
        {
         "name": "Granularity_7_CONC_cytoplasm",
         "rawType": "float64",
         "type": "float"
        },
        {
         "name": "Correlation_RWC_SYTO_CONC_nuclei",
         "rawType": "float64",
         "type": "float"
        },
        {
         "name": "RadialDistribution_ZernikePhase_CONC_5_3_nuclei",
         "rawType": "float64",
         "type": "float"
        },
        {
         "name": "RadialDistribution_ZernikePhase_CONC_5_5_cytoplasm",
         "rawType": "float64",
         "type": "float"
        },
        {
         "name": "Correlation_Correlation_HOECHST_PHAandWGA_cells",
         "rawType": "float64",
         "type": "float"
        },
        {
         "name": "AreaShape_Zernike_2_2_cytoplasm",
         "rawType": "float64",
         "type": "float"
        },
        {
         "name": "RadialDistribution_ZernikePhase_SYTO_5_1_cytoplasm",
         "rawType": "float64",
         "type": "float"
        },
        {
         "name": "Granularity_13_PHAandWGA_nuclei",
         "rawType": "float64",
         "type": "float"
        },
        {
         "name": "RadialDistribution_MeanFrac_CONC_1of4_cells",
         "rawType": "float64",
         "type": "float"
        },
        {
         "name": "RadialDistribution_ZernikePhase_PHAandWGA_5_5_nuclei",
         "rawType": "float64",
         "type": "float"
        },
        {
         "name": "AreaShape_Zernike_5_5_cells",
         "rawType": "float64",
         "type": "float"
        },
        {
         "name": "RadialDistribution_ZernikePhase_CONC_3_3_cytoplasm",
         "rawType": "float64",
         "type": "float"
        },
        {
         "name": "Correlation_K_PHAandWGA_SYTO_cytoplasm",
         "rawType": "float64",
         "type": "float"
        },
        {
         "name": "RadialDistribution_ZernikePhase_MITO_9_7_nuclei",
         "rawType": "float64",
         "type": "float"
        },
        {
         "name": "RadialDistribution_ZernikePhase_HOECHST_4_2_nuclei",
         "rawType": "float64",
         "type": "float"
        },
        {
         "name": "AreaShape_Area_cytoplasm",
         "rawType": "float64",
         "type": "float"
        },
        {
         "name": "Correlation_K_PHAandWGA_CONC_nuclei",
         "rawType": "float64",
         "type": "float"
        },
        {
         "name": "AreaShape_Zernike_6_4_cytoplasm",
         "rawType": "float64",
         "type": "float"
        },
        {
         "name": "RadialDistribution_ZernikePhase_HOECHST_6_6_nuclei",
         "rawType": "float64",
         "type": "float"
        },
        {
         "name": "Correlation_K_MITO_CONC_nuclei",
         "rawType": "float64",
         "type": "float"
        },
        {
         "name": "Correlation_RWC_PHAandWGA_MITO_nuclei",
         "rawType": "float64",
         "type": "float"
        },
        {
         "name": "RadialDistribution_ZernikePhase_PHAandWGA_7_1_cells",
         "rawType": "float64",
         "type": "float"
        },
        {
         "name": "Correlation_Overlap_MITO_SYTO_cells",
         "rawType": "float64",
         "type": "float"
        },
        {
         "name": "Correlation_RWC_PHAandWGA_HOECHST_nuclei",
         "rawType": "float64",
         "type": "float"
        },
        {
         "name": "Correlation_Correlation_HOECHST_SYTO_nuclei",
         "rawType": "float64",
         "type": "float"
        },
        {
         "name": "RadialDistribution_ZernikePhase_CONC_4_2_cytoplasm",
         "rawType": "float64",
         "type": "float"
        },
        {
         "name": "RadialDistribution_ZernikePhase_HOECHST_6_0_nuclei",
         "rawType": "float64",
         "type": "float"
        },
        {
         "name": "RadialDistribution_MeanFrac_SYTO_2of4_cells",
         "rawType": "float64",
         "type": "float"
        },
        {
         "name": "RadialDistribution_ZernikePhase_MITO_8_4_cells",
         "rawType": "float64",
         "type": "float"
        },
        {
         "name": "Granularity_8_SYTO_cells",
         "rawType": "float64",
         "type": "float"
        },
        {
         "name": "RadialDistribution_ZernikePhase_SYTO_9_7_cells",
         "rawType": "float64",
         "type": "float"
        },
        {
         "name": "AreaShape_Zernike_8_2_cells",
         "rawType": "float64",
         "type": "float"
        },
        {
         "name": "RadialDistribution_ZernikePhase_SYTO_7_3_nuclei",
         "rawType": "float64",
         "type": "float"
        },
        {
         "name": "RadialDistribution_ZernikePhase_CONC_3_1_nuclei",
         "rawType": "float64",
         "type": "float"
        },
        {
         "name": "AreaShape_Zernike_4_4_cells",
         "rawType": "float64",
         "type": "float"
        },
        {
         "name": "RadialDistribution_ZernikePhase_HOECHST_3_3_cells",
         "rawType": "float64",
         "type": "float"
        },
        {
         "name": "RadialDistribution_ZernikePhase_MITO_4_2_nuclei",
         "rawType": "float64",
         "type": "float"
        },
        {
         "name": "AreaShape_Zernike_1_1_cells",
         "rawType": "float64",
         "type": "float"
        },
        {
         "name": "Neighbors_AngleBetweenNeighbors_Adjacent_nuclei",
         "rawType": "float64",
         "type": "float"
        },
        {
         "name": "Correlation_K_SYTO_PHAandWGA_cytoplasm",
         "rawType": "float64",
         "type": "float"
        },
        {
         "name": "Correlation_K_CONC_SYTO_nuclei",
         "rawType": "float64",
         "type": "float"
        },
        {
         "name": "AreaShape_Zernike_7_7_cells",
         "rawType": "float64",
         "type": "float"
        },
        {
         "name": "AreaShape_Zernike_6_4_cells",
         "rawType": "float64",
         "type": "float"
        },
        {
         "name": "RadialDistribution_ZernikePhase_MITO_7_7_cytoplasm",
         "rawType": "float64",
         "type": "float"
        },
        {
         "name": "Granularity_4_MITO_nuclei",
         "rawType": "float64",
         "type": "float"
        },
        {
         "name": "RadialDistribution_ZernikePhase_HOECHST_3_1_cytoplasm",
         "rawType": "float64",
         "type": "float"
        },
        {
         "name": "RadialDistribution_ZernikePhase_CONC_5_5_cells",
         "rawType": "float64",
         "type": "float"
        },
        {
         "name": "AreaShape_Zernike_8_2_nuclei",
         "rawType": "float64",
         "type": "float"
        },
        {
         "name": "Parent_nuclei_cells",
         "rawType": "float64",
         "type": "float"
        },
        {
         "name": "AreaShape_Eccentricity_cells",
         "rawType": "float64",
         "type": "float"
        },
        {
         "name": "AreaShape_Solidity_cytoplasm",
         "rawType": "float64",
         "type": "float"
        },
        {
         "name": "RadialDistribution_ZernikePhase_PHAandWGA_1_1_nuclei",
         "rawType": "float64",
         "type": "float"
        },
        {
         "name": "RadialDistribution_ZernikePhase_HOECHST_5_5_nuclei",
         "rawType": "float64",
         "type": "float"
        },
        {
         "name": "RadialDistribution_ZernikePhase_CONC_8_6_cells",
         "rawType": "float64",
         "type": "float"
        },
        {
         "name": "RadialDistribution_ZernikePhase_HOECHST_6_4_cytoplasm",
         "rawType": "float64",
         "type": "float"
        },
        {
         "name": "RadialDistribution_ZernikePhase_CONC_5_3_cytoplasm",
         "rawType": "float64",
         "type": "float"
        },
        {
         "name": "RadialDistribution_ZernikePhase_HOECHST_9_9_cells",
         "rawType": "float64",
         "type": "float"
        },
        {
         "name": "Intensity_MassDisplacement_MITO_cells",
         "rawType": "float64",
         "type": "float"
        },
        {
         "name": "RadialDistribution_ZernikePhase_CONC_4_4_cells",
         "rawType": "float64",
         "type": "float"
        },
        {
         "name": "Correlation_K_HOECHST_PHAandWGA_cytoplasm",
         "rawType": "float64",
         "type": "float"
        },
        {
         "name": "Correlation_K_HOECHST_CONC_cytoplasm",
         "rawType": "float64",
         "type": "float"
        },
        {
         "name": "RadialDistribution_ZernikePhase_PHAandWGA_3_1_cells",
         "rawType": "float64",
         "type": "float"
        },
        {
         "name": "AreaShape_Zernike_6_0_nuclei",
         "rawType": "float64",
         "type": "float"
        },
        {
         "name": "RadialDistribution_ZernikePhase_SYTO_8_6_nuclei",
         "rawType": "float64",
         "type": "float"
        },
        {
         "name": "AreaShape_Extent_cytoplasm",
         "rawType": "float64",
         "type": "float"
        },
        {
         "name": "RadialDistribution_ZernikePhase_PHAandWGA_3_3_cells",
         "rawType": "float64",
         "type": "float"
        },
        {
         "name": "RadialDistribution_ZernikePhase_CONC_9_5_nuclei",
         "rawType": "float64",
         "type": "float"
        },
        {
         "name": "Granularity_14_SYTO_nuclei",
         "rawType": "float64",
         "type": "float"
        },
        {
         "name": "RadialDistribution_RadialCV_HOECHST_2of4_cytoplasm",
         "rawType": "float64",
         "type": "float"
        },
        {
         "name": "RadialDistribution_ZernikePhase_HOECHST_6_4_cells",
         "rawType": "float64",
         "type": "float"
        },
        {
         "name": "Intensity_StdIntensityEdge_CONC_cytoplasm",
         "rawType": "float64",
         "type": "float"
        },
        {
         "name": "Granularity_2_PHAandWGA_cytoplasm",
         "rawType": "float64",
         "type": "float"
        },
        {
         "name": "Number_Object_Number_nuclei",
         "rawType": "float64",
         "type": "float"
        },
        {
         "name": "RadialDistribution_ZernikePhase_CONC_8_2_cytoplasm",
         "rawType": "float64",
         "type": "float"
        },
        {
         "name": "RadialDistribution_ZernikePhase_HOECHST_4_2_cytoplasm",
         "rawType": "float64",
         "type": "float"
        },
        {
         "name": "Correlation_K_PHAandWGA_HOECHST_nuclei",
         "rawType": "float64",
         "type": "float"
        },
        {
         "name": "RadialDistribution_ZernikePhase_HOECHST_8_8_nuclei",
         "rawType": "float64",
         "type": "float"
        },
        {
         "name": "RadialDistribution_ZernikePhase_PHAandWGA_9_7_cells",
         "rawType": "float64",
         "type": "float"
        },
        {
         "name": "RadialDistribution_ZernikePhase_MITO_1_1_nuclei",
         "rawType": "float64",
         "type": "float"
        },
        {
         "name": "AreaShape_Zernike_9_3_cells",
         "rawType": "float64",
         "type": "float"
        },
        {
         "name": "Correlation_K_CONC_HOECHST_nuclei",
         "rawType": "float64",
         "type": "float"
        },
        {
         "name": "RadialDistribution_ZernikeMagnitude_HOECHST_8_8_nuclei",
         "rawType": "float64",
         "type": "float"
        },
        {
         "name": "RadialDistribution_ZernikePhase_PHAandWGA_7_7_cytoplasm",
         "rawType": "float64",
         "type": "float"
        },
        {
         "name": "Granularity_2_SYTO_cytoplasm",
         "rawType": "float64",
         "type": "float"
        },
        {
         "name": "RadialDistribution_ZernikePhase_CONC_7_7_cells",
         "rawType": "float64",
         "type": "float"
        },
        {
         "name": "RadialDistribution_ZernikePhase_HOECHST_8_0_nuclei",
         "rawType": "float64",
         "type": "float"
        },
        {
         "name": "RadialDistribution_ZernikePhase_CONC_7_5_cells",
         "rawType": "float64",
         "type": "float"
        },
        {
         "name": "RadialDistribution_ZernikePhase_HOECHST_8_6_nuclei",
         "rawType": "float64",
         "type": "float"
        },
        {
         "name": "AreaShape_Zernike_9_1_cytoplasm",
         "rawType": "float64",
         "type": "float"
        },
        {
         "name": "RadialDistribution_ZernikePhase_MITO_9_7_cells",
         "rawType": "float64",
         "type": "float"
        },
        {
         "name": "Granularity_4_HOECHST_cells",
         "rawType": "float64",
         "type": "float"
        },
        {
         "name": "AreaShape_Zernike_7_1_cytoplasm",
         "rawType": "float64",
         "type": "float"
        },
        {
         "name": "RadialDistribution_ZernikePhase_HOECHST_9_3_nuclei",
         "rawType": "float64",
         "type": "float"
        },
        {
         "name": "RadialDistribution_ZernikeMagnitude_MITO_9_9_nuclei",
         "rawType": "float64",
         "type": "float"
        },
        {
         "name": "RadialDistribution_ZernikePhase_CONC_9_7_nuclei",
         "rawType": "float64",
         "type": "float"
        },
        {
         "name": "AreaShape_Zernike_9_1_cells",
         "rawType": "float64",
         "type": "float"
        },
        {
         "name": "AreaShape_Zernike_5_5_cytoplasm",
         "rawType": "float64",
         "type": "float"
        },
        {
         "name": "RadialDistribution_ZernikePhase_SYTO_3_3_cytoplasm",
         "rawType": "float64",
         "type": "float"
        },
        {
         "name": "AreaShape_Zernike_2_2_cells",
         "rawType": "float64",
         "type": "float"
        },
        {
         "name": "Correlation_K_PHAandWGA_MITO_nuclei",
         "rawType": "float64",
         "type": "float"
        },
        {
         "name": "Correlation_Correlation_PHAandWGA_SYTO_cells",
         "rawType": "float64",
         "type": "float"
        },
        {
         "name": "RadialDistribution_ZernikePhase_CONC_9_9_cytoplasm",
         "rawType": "float64",
         "type": "float"
        },
        {
         "name": "RadialDistribution_MeanFrac_HOECHST_2of4_cells",
         "rawType": "float64",
         "type": "float"
        },
        {
         "name": "Correlation_Correlation_MITO_PHAandWGA_cells",
         "rawType": "float64",
         "type": "float"
        },
        {
         "name": "Correlation_Correlation_MITO_PHAandWGA_nuclei",
         "rawType": "float64",
         "type": "float"
        },
        {
         "name": "RadialDistribution_ZernikePhase_HOECHST_3_1_nuclei",
         "rawType": "float64",
         "type": "float"
        },
        {
         "name": "RadialDistribution_ZernikePhase_CONC_6_0_nuclei",
         "rawType": "float64",
         "type": "float"
        },
        {
         "name": "Granularity_2_HOECHST_cytoplasm",
         "rawType": "float64",
         "type": "float"
        },
        {
         "name": "RadialDistribution_ZernikePhase_CONC_9_9_nuclei",
         "rawType": "float64",
         "type": "float"
        },
        {
         "name": "AreaShape_Orientation_nuclei",
         "rawType": "float64",
         "type": "float"
        },
        {
         "name": "AreaShape_Zernike_8_0_cytoplasm",
         "rawType": "float64",
         "type": "float"
        },
        {
         "name": "RadialDistribution_MeanFrac_SYTO_1of4_cytoplasm",
         "rawType": "float64",
         "type": "float"
        },
        {
         "name": "Granularity_3_CONC_nuclei",
         "rawType": "float64",
         "type": "float"
        },
        {
         "name": "Intensity_IntegratedIntensity_CONC_cells",
         "rawType": "float64",
         "type": "float"
        },
        {
         "name": "RadialDistribution_ZernikePhase_SYTO_1_1_nuclei",
         "rawType": "float64",
         "type": "float"
        },
        {
         "name": "RadialDistribution_ZernikePhase_PHAandWGA_7_1_cytoplasm",
         "rawType": "float64",
         "type": "float"
        },
        {
         "name": "RadialDistribution_RadialCV_SYTO_1of4_nuclei",
         "rawType": "float64",
         "type": "float"
        },
        {
         "name": "RadialDistribution_ZernikePhase_MITO_7_5_cells",
         "rawType": "float64",
         "type": "float"
        },
        {
         "name": "RadialDistribution_ZernikePhase_HOECHST_1_1_cytoplasm",
         "rawType": "float64",
         "type": "float"
        },
        {
         "name": "RadialDistribution_ZernikePhase_SYTO_9_3_nuclei",
         "rawType": "float64",
         "type": "float"
        },
        {
         "name": "AreaShape_Zernike_7_5_cytoplasm",
         "rawType": "float64",
         "type": "float"
        },
        {
         "name": "AreaShape_Zernike_3_3_cells",
         "rawType": "float64",
         "type": "float"
        },
        {
         "name": "RadialDistribution_ZernikePhase_HOECHST_5_1_nuclei",
         "rawType": "float64",
         "type": "float"
        },
        {
         "name": "RadialDistribution_ZernikePhase_CONC_7_7_nuclei",
         "rawType": "float64",
         "type": "float"
        },
        {
         "name": "AreaShape_Zernike_7_7_nuclei",
         "rawType": "float64",
         "type": "float"
        },
        {
         "name": "RadialDistribution_ZernikePhase_PHAandWGA_9_1_nuclei",
         "rawType": "float64",
         "type": "float"
        },
        {
         "name": "AreaShape_BoundingBoxMinimum_Y_cytoplasm",
         "rawType": "float64",
         "type": "float"
        },
        {
         "name": "RadialDistribution_ZernikePhase_PHAandWGA_6_0_nuclei",
         "rawType": "float64",
         "type": "float"
        },
        {
         "name": "RadialDistribution_MeanFrac_HOECHST_2of4_cytoplasm",
         "rawType": "float64",
         "type": "float"
        },
        {
         "name": "AreaShape_Zernike_8_2_cytoplasm",
         "rawType": "float64",
         "type": "float"
        },
        {
         "name": "Granularity_5_SYTO_cytoplasm",
         "rawType": "float64",
         "type": "float"
        },
        {
         "name": "RadialDistribution_ZernikeMagnitude_HOECHST_2_0_cells",
         "rawType": "float64",
         "type": "float"
        },
        {
         "name": "AreaShape_Zernike_8_6_cytoplasm",
         "rawType": "float64",
         "type": "float"
        },
        {
         "name": "Intensity_StdIntensityEdge_PHAandWGA_cytoplasm",
         "rawType": "float64",
         "type": "float"
        },
        {
         "name": "Correlation_Correlation_CONC_SYTO_nuclei",
         "rawType": "float64",
         "type": "float"
        },
        {
         "name": "RadialDistribution_ZernikePhase_CONC_9_3_nuclei",
         "rawType": "float64",
         "type": "float"
        },
        {
         "name": "Granularity_12_HOECHST_nuclei",
         "rawType": "float64",
         "type": "float"
        },
        {
         "name": "AreaShape_Zernike_6_0_cells",
         "rawType": "float64",
         "type": "float"
        },
        {
         "name": "RadialDistribution_RadialCV_SYTO_1of4_cells",
         "rawType": "float64",
         "type": "float"
        },
        {
         "name": "Granularity_2_MITO_nuclei",
         "rawType": "float64",
         "type": "float"
        },
        {
         "name": "RadialDistribution_ZernikePhase_CONC_1_1_cytoplasm",
         "rawType": "float64",
         "type": "float"
        },
        {
         "name": "Granularity_5_CONC_nuclei",
         "rawType": "float64",
         "type": "float"
        },
        {
         "name": "RadialDistribution_ZernikePhase_CONC_8_4_nuclei",
         "rawType": "float64",
         "type": "float"
        },
        {
         "name": "Granularity_8_HOECHST_nuclei",
         "rawType": "float64",
         "type": "float"
        },
        {
         "name": "RadialDistribution_ZernikePhase_MITO_6_4_cytoplasm",
         "rawType": "float64",
         "type": "float"
        },
        {
         "name": "RadialDistribution_ZernikePhase_HOECHST_8_2_cells",
         "rawType": "float64",
         "type": "float"
        },
        {
         "name": "AreaShape_Solidity_cells",
         "rawType": "float64",
         "type": "float"
        },
        {
         "name": "AreaShape_Perimeter_cells",
         "rawType": "float64",
         "type": "float"
        },
        {
         "name": "Correlation_Correlation_MITO_SYTO_nuclei",
         "rawType": "float64",
         "type": "float"
        },
        {
         "name": "AreaShape_Zernike_4_2_nuclei",
         "rawType": "float64",
         "type": "float"
        },
        {
         "name": "RadialDistribution_ZernikePhase_HOECHST_7_3_cytoplasm",
         "rawType": "float64",
         "type": "float"
        },
        {
         "name": "Correlation_K_MITO_PHAandWGA_nuclei",
         "rawType": "float64",
         "type": "float"
        },
        {
         "name": "Correlation_RWC_HOECHST_CONC_nuclei",
         "rawType": "float64",
         "type": "float"
        },
        {
         "name": "Intensity_MassDisplacement_SYTO_nuclei",
         "rawType": "float64",
         "type": "float"
        },
        {
         "name": "AreaShape_Zernike_6_2_cells",
         "rawType": "float64",
         "type": "float"
        },
        {
         "name": "Correlation_K_CONC_PHAandWGA_nuclei",
         "rawType": "float64",
         "type": "float"
        },
        {
         "name": "AreaShape_Zernike_6_2_nuclei",
         "rawType": "float64",
         "type": "float"
        },
        {
         "name": "AreaShape_Zernike_9_3_nuclei",
         "rawType": "float64",
         "type": "float"
        },
        {
         "name": "RadialDistribution_MeanFrac_MITO_1of4_cells",
         "rawType": "float64",
         "type": "float"
        },
        {
         "name": "AreaShape_Zernike_3_1_cytoplasm",
         "rawType": "float64",
         "type": "float"
        },
        {
         "name": "Location_MaxIntensity_X_PHAandWGA_nuclei",
         "rawType": "float64",
         "type": "float"
        },
        {
         "name": "Granularity_15_HOECHST_nuclei",
         "rawType": "float64",
         "type": "float"
        },
        {
         "name": "RadialDistribution_ZernikePhase_HOECHST_7_5_nuclei",
         "rawType": "float64",
         "type": "float"
        },
        {
         "name": "RadialDistribution_ZernikePhase_PHAandWGA_4_4_cytoplasm",
         "rawType": "float64",
         "type": "float"
        },
        {
         "name": "Correlation_Correlation_CONC_PHAandWGA_cells",
         "rawType": "float64",
         "type": "float"
        },
        {
         "name": "AreaShape_Zernike_4_0_cells",
         "rawType": "float64",
         "type": "float"
        },
        {
         "name": "Correlation_Correlation_CONC_PHAandWGA_nuclei",
         "rawType": "float64",
         "type": "float"
        },
        {
         "name": "AreaShape_Zernike_2_2_nuclei",
         "rawType": "float64",
         "type": "float"
        },
        {
         "name": "RadialDistribution_ZernikePhase_PHAandWGA_7_3_cells",
         "rawType": "float64",
         "type": "float"
        },
        {
         "name": "Granularity_12_MITO_nuclei",
         "rawType": "float64",
         "type": "float"
        },
        {
         "name": "Granularity_2_SYTO_nuclei",
         "rawType": "float64",
         "type": "float"
        },
        {
         "name": "Granularity_16_HOECHST_nuclei",
         "rawType": "float64",
         "type": "float"
        },
        {
         "name": "AreaShape_Zernike_2_0_cytoplasm",
         "rawType": "float64",
         "type": "float"
        },
        {
         "name": "RadialDistribution_ZernikeMagnitude_MITO_2_0_cells",
         "rawType": "float64",
         "type": "float"
        },
        {
         "name": "Granularity_14_MITO_nuclei",
         "rawType": "float64",
         "type": "float"
        },
        {
         "name": "AreaShape_Zernike_8_6_nuclei",
         "rawType": "float64",
         "type": "float"
        },
        {
         "name": "AreaShape_Zernike_6_0_cytoplasm",
         "rawType": "float64",
         "type": "float"
        },
        {
         "name": "RadialDistribution_ZernikePhase_HOECHST_6_4_nuclei",
         "rawType": "float64",
         "type": "float"
        },
        {
         "name": "Granularity_2_SYTO_cells",
         "rawType": "float64",
         "type": "float"
        },
        {
         "name": "Granularity_12_CONC_nuclei",
         "rawType": "float64",
         "type": "float"
        },
        {
         "name": "Granularity_15_CONC_nuclei",
         "rawType": "float64",
         "type": "float"
        },
        {
         "name": "AreaShape_Zernike_5_3_nuclei",
         "rawType": "float64",
         "type": "float"
        },
        {
         "name": "RadialDistribution_ZernikePhase_MITO_7_3_nuclei",
         "rawType": "float64",
         "type": "float"
        },
        {
         "name": "Correlation_Correlation_CONC_MITO_cells",
         "rawType": "float64",
         "type": "float"
        },
        {
         "name": "Granularity_3_MITO_nuclei",
         "rawType": "float64",
         "type": "float"
        },
        {
         "name": "Granularity_2_CONC_nuclei",
         "rawType": "float64",
         "type": "float"
        },
        {
         "name": "RadialDistribution_ZernikePhase_HOECHST_4_2_cells",
         "rawType": "float64",
         "type": "float"
        },
        {
         "name": "RadialDistribution_ZernikePhase_SYTO_7_5_nuclei",
         "rawType": "float64",
         "type": "float"
        },
        {
         "name": "RadialDistribution_ZernikePhase_CONC_7_5_cytoplasm",
         "rawType": "float64",
         "type": "float"
        },
        {
         "name": "RadialDistribution_ZernikePhase_HOECHST_4_4_nuclei",
         "rawType": "float64",
         "type": "float"
        },
        {
         "name": "RadialDistribution_MeanFrac_PHAandWGA_2of4_cytoplasm",
         "rawType": "float64",
         "type": "float"
        },
        {
         "name": "AreaShape_Orientation_cytoplasm",
         "rawType": "float64",
         "type": "float"
        },
        {
         "name": "Granularity_13_HOECHST_nuclei",
         "rawType": "float64",
         "type": "float"
        },
        {
         "name": "Granularity_14_CONC_nuclei",
         "rawType": "float64",
         "type": "float"
        },
        {
         "name": "RadialDistribution_ZernikePhase_PHAandWGA_5_1_nuclei",
         "rawType": "float64",
         "type": "float"
        },
        {
         "name": "Correlation_Correlation_PHAandWGA_SYTO_nuclei",
         "rawType": "float64",
         "type": "float"
        },
        {
         "name": "AreaShape_Zernike_9_5_nuclei",
         "rawType": "float64",
         "type": "float"
        },
        {
         "name": "RadialDistribution_ZernikePhase_MITO_9_5_nuclei",
         "rawType": "float64",
         "type": "float"
        },
        {
         "name": "Granularity_14_HOECHST_nuclei",
         "rawType": "float64",
         "type": "float"
        },
        {
         "name": "Intensity_MassDisplacement_SYTO_cells",
         "rawType": "float64",
         "type": "float"
        },
        {
         "name": "Correlation_Correlation_HOECHST_SYTO_cytoplasm",
         "rawType": "float64",
         "type": "float"
        },
        {
         "name": "Granularity_9_CONC_nuclei",
         "rawType": "float64",
         "type": "float"
        },
        {
         "name": "RadialDistribution_ZernikeMagnitude_PHAandWGA_8_8_nuclei",
         "rawType": "float64",
         "type": "float"
        },
        {
         "name": "Granularity_2_CONC_cytoplasm",
         "rawType": "float64",
         "type": "float"
        },
        {
         "name": "RadialDistribution_ZernikePhase_HOECHST_8_2_nuclei",
         "rawType": "float64",
         "type": "float"
        },
        {
         "name": "RadialDistribution_ZernikePhase_CONC_3_3_nuclei",
         "rawType": "float64",
         "type": "float"
        },
        {
         "name": "AreaShape_Orientation_cells",
         "rawType": "float64",
         "type": "float"
        },
        {
         "name": "RadialDistribution_ZernikePhase_HOECHST_7_7_nuclei",
         "rawType": "float64",
         "type": "float"
        },
        {
         "name": "RadialDistribution_ZernikePhase_PHAandWGA_8_6_cytoplasm",
         "rawType": "float64",
         "type": "float"
        },
        {
         "name": "Granularity_12_PHAandWGA_nuclei",
         "rawType": "float64",
         "type": "float"
        },
        {
         "name": "Granularity_14_PHAandWGA_nuclei",
         "rawType": "float64",
         "type": "float"
        },
        {
         "name": "Granularity_4_CONC_nuclei",
         "rawType": "float64",
         "type": "float"
        },
        {
         "name": "RadialDistribution_ZernikePhase_PHAandWGA_9_5_cytoplasm",
         "rawType": "float64",
         "type": "float"
        },
        {
         "name": "RadialDistribution_ZernikePhase_SYTO_6_0_nuclei",
         "rawType": "float64",
         "type": "float"
        },
        {
         "name": "AreaShape_Zernike_6_6_cytoplasm",
         "rawType": "float64",
         "type": "float"
        },
        {
         "name": "RadialDistribution_ZernikePhase_PHAandWGA_6_4_cytoplasm",
         "rawType": "float64",
         "type": "float"
        },
        {
         "name": "RadialDistribution_ZernikePhase_CONC_7_3_cytoplasm",
         "rawType": "float64",
         "type": "float"
        },
        {
         "name": "RadialDistribution_ZernikePhase_CONC_9_7_cytoplasm",
         "rawType": "float64",
         "type": "float"
        },
        {
         "name": "Correlation_K_HOECHST_MITO_cells",
         "rawType": "float64",
         "type": "float"
        },
        {
         "name": "AreaShape_Zernike_7_5_cells",
         "rawType": "float64",
         "type": "float"
        },
        {
         "name": "Granularity_3_HOECHST_cytoplasm",
         "rawType": "float64",
         "type": "float"
        },
        {
         "name": "AreaShape_Zernike_3_3_cytoplasm",
         "rawType": "float64",
         "type": "float"
        },
        {
         "name": "Granularity_15_PHAandWGA_nuclei",
         "rawType": "float64",
         "type": "float"
        },
        {
         "name": "RadialDistribution_ZernikePhase_PHAandWGA_9_3_cytoplasm",
         "rawType": "float64",
         "type": "float"
        },
        {
         "name": "RadialDistribution_ZernikePhase_SYTO_9_7_nuclei",
         "rawType": "float64",
         "type": "float"
        },
        {
         "name": "Granularity_4_PHAandWGA_cytoplasm",
         "rawType": "float64",
         "type": "float"
        },
        {
         "name": "Correlation_Correlation_CONC_HOECHST_nuclei",
         "rawType": "float64",
         "type": "float"
        },
        {
         "name": "Correlation_Correlation_MITO_SYTO_cells",
         "rawType": "float64",
         "type": "float"
        },
        {
         "name": "AreaShape_Zernike_4_0_cytoplasm",
         "rawType": "float64",
         "type": "float"
        },
        {
         "name": "RadialDistribution_ZernikeMagnitude_MITO_6_0_cells",
         "rawType": "float64",
         "type": "float"
        },
        {
         "name": "RadialDistribution_ZernikePhase_MITO_8_2_cytoplasm",
         "rawType": "float64",
         "type": "float"
        },
        {
         "name": "RadialDistribution_ZernikePhase_HOECHST_7_3_cells",
         "rawType": "float64",
         "type": "float"
        },
        {
         "name": "AreaShape_FormFactor_nuclei",
         "rawType": "float64",
         "type": "float"
        },
        {
         "name": "Correlation_RWC_HOECHST_SYTO_cells",
         "rawType": "float64",
         "type": "float"
        },
        {
         "name": "RadialDistribution_FracAtD_SYTO_1of4_nuclei",
         "rawType": "float64",
         "type": "float"
        },
        {
         "name": "RadialDistribution_ZernikePhase_PHAandWGA_3_3_cytoplasm",
         "rawType": "float64",
         "type": "float"
        },
        {
         "name": "RadialDistribution_MeanFrac_PHAandWGA_1of4_cytoplasm",
         "rawType": "float64",
         "type": "float"
        },
        {
         "name": "Granularity_8_MITO_nuclei",
         "rawType": "float64",
         "type": "float"
        },
        {
         "name": "RadialDistribution_ZernikePhase_SYTO_4_2_cytoplasm",
         "rawType": "float64",
         "type": "float"
        },
        {
         "name": "RadialDistribution_ZernikePhase_HOECHST_9_9_cytoplasm",
         "rawType": "float64",
         "type": "float"
        },
        {
         "name": "AreaShape_Zernike_9_1_nuclei",
         "rawType": "float64",
         "type": "float"
        },
        {
         "name": "RadialDistribution_ZernikePhase_HOECHST_9_7_nuclei",
         "rawType": "float64",
         "type": "float"
        },
        {
         "name": "RadialDistribution_FracAtD_PHAandWGA_1of4_cells",
         "rawType": "float64",
         "type": "float"
        },
        {
         "name": "RadialDistribution_ZernikePhase_MITO_7_7_cells",
         "rawType": "float64",
         "type": "float"
        },
        {
         "name": "Granularity_8_CONC_nuclei",
         "rawType": "float64",
         "type": "float"
        },
        {
         "name": "RadialDistribution_ZernikePhase_PHAandWGA_9_1_cytoplasm",
         "rawType": "float64",
         "type": "float"
        },
        {
         "name": "RadialDistribution_ZernikePhase_MITO_1_1_cells",
         "rawType": "float64",
         "type": "float"
        },
        {
         "name": "Granularity_10_PHAandWGA_nuclei",
         "rawType": "float64",
         "type": "float"
        },
        {
         "name": "RadialDistribution_ZernikePhase_MITO_7_1_cytoplasm",
         "rawType": "float64",
         "type": "float"
        },
        {
         "name": "AreaShape_Zernike_4_2_cells",
         "rawType": "float64",
         "type": "float"
        },
        {
         "name": "RadialDistribution_ZernikePhase_PHAandWGA_1_1_cytoplasm",
         "rawType": "float64",
         "type": "float"
        },
        {
         "name": "RadialDistribution_MeanFrac_CONC_1of4_nuclei",
         "rawType": "float64",
         "type": "float"
        },
        {
         "name": "Granularity_10_CONC_cells",
         "rawType": "float64",
         "type": "float"
        },
        {
         "name": "RadialDistribution_ZernikePhase_PHAandWGA_8_6_cells",
         "rawType": "float64",
         "type": "float"
        },
        {
         "name": "RadialDistribution_ZernikePhase_PHAandWGA_1_1_cells",
         "rawType": "float64",
         "type": "float"
        },
        {
         "name": "AreaShape_Extent_nuclei",
         "rawType": "float64",
         "type": "float"
        },
        {
         "name": "RadialDistribution_ZernikePhase_MITO_5_1_nuclei",
         "rawType": "float64",
         "type": "float"
        },
        {
         "name": "RadialDistribution_ZernikePhase_SYTO_6_4_cytoplasm",
         "rawType": "float64",
         "type": "float"
        },
        {
         "name": "Granularity_2_MITO_cytoplasm",
         "rawType": "float64",
         "type": "float"
        },
        {
         "name": "RadialDistribution_ZernikePhase_CONC_9_7_cells",
         "rawType": "float64",
         "type": "float"
        },
        {
         "name": "RadialDistribution_ZernikePhase_PHAandWGA_7_7_cells",
         "rawType": "float64",
         "type": "float"
        },
        {
         "name": "RadialDistribution_ZernikePhase_MITO_5_5_nuclei",
         "rawType": "float64",
         "type": "float"
        },
        {
         "name": "AreaShape_Zernike_3_1_nuclei",
         "rawType": "float64",
         "type": "float"
        },
        {
         "name": "RadialDistribution_ZernikePhase_MITO_7_3_cytoplasm",
         "rawType": "float64",
         "type": "float"
        },
        {
         "name": "Correlation_RWC_HOECHST_CONC_cells",
         "rawType": "float64",
         "type": "float"
        },
        {
         "name": "RadialDistribution_ZernikePhase_CONC_8_6_cytoplasm",
         "rawType": "float64",
         "type": "float"
        },
        {
         "name": "RadialDistribution_ZernikePhase_MITO_6_6_cells",
         "rawType": "float64",
         "type": "float"
        },
        {
         "name": "RadialDistribution_ZernikePhase_MITO_9_5_cytoplasm",
         "rawType": "float64",
         "type": "float"
        },
        {
         "name": "AreaShape_Compactness_cells",
         "rawType": "float64",
         "type": "float"
        },
        {
         "name": "Granularity_13_MITO_cytoplasm",
         "rawType": "float64",
         "type": "float"
        },
        {
         "name": "RadialDistribution_ZernikePhase_MITO_8_6_cells",
         "rawType": "float64",
         "type": "float"
        },
        {
         "name": "RadialDistribution_ZernikePhase_SYTO_8_6_cytoplasm",
         "rawType": "float64",
         "type": "float"
        },
        {
         "name": "RadialDistribution_ZernikePhase_HOECHST_3_3_cytoplasm",
         "rawType": "float64",
         "type": "float"
        },
        {
         "name": "RadialDistribution_ZernikePhase_CONC_5_5_nuclei",
         "rawType": "float64",
         "type": "float"
        },
        {
         "name": "RadialDistribution_ZernikeMagnitude_HOECHST_4_0_cytoplasm",
         "rawType": "float64",
         "type": "float"
        },
        {
         "name": "RadialDistribution_ZernikePhase_PHAandWGA_7_3_cytoplasm",
         "rawType": "float64",
         "type": "float"
        },
        {
         "name": "RadialDistribution_ZernikePhase_CONC_7_1_nuclei",
         "rawType": "float64",
         "type": "float"
        },
        {
         "name": "AreaShape_Zernike_9_5_cytoplasm",
         "rawType": "float64",
         "type": "float"
        },
        {
         "name": "Granularity_6_CONC_nuclei",
         "rawType": "float64",
         "type": "float"
        },
        {
         "name": "RadialDistribution_ZernikePhase_PHAandWGA_8_8_cells",
         "rawType": "float64",
         "type": "float"
        },
        {
         "name": "AreaShape_Zernike_9_9_cytoplasm",
         "rawType": "float64",
         "type": "float"
        },
        {
         "name": "AreaShape_Zernike_0_0_nuclei",
         "rawType": "float64",
         "type": "float"
        },
        {
         "name": "RadialDistribution_ZernikePhase_PHAandWGA_3_3_nuclei",
         "rawType": "float64",
         "type": "float"
        },
        {
         "name": "RadialDistribution_ZernikePhase_PHAandWGA_5_1_cytoplasm",
         "rawType": "float64",
         "type": "float"
        },
        {
         "name": "RadialDistribution_ZernikePhase_CONC_9_5_cytoplasm",
         "rawType": "float64",
         "type": "float"
        },
        {
         "name": "RadialDistribution_ZernikePhase_CONC_8_0_nuclei",
         "rawType": "float64",
         "type": "float"
        },
        {
         "name": "RadialDistribution_ZernikePhase_PHAandWGA_5_1_cells",
         "rawType": "float64",
         "type": "float"
        },
        {
         "name": "RadialDistribution_ZernikePhase_PHAandWGA_6_6_cytoplasm",
         "rawType": "float64",
         "type": "float"
        },
        {
         "name": "RadialDistribution_ZernikePhase_MITO_7_5_nuclei",
         "rawType": "float64",
         "type": "float"
        },
        {
         "name": "Correlation_Correlation_HOECHST_MITO_nuclei",
         "rawType": "float64",
         "type": "float"
        },
        {
         "name": "RadialDistribution_ZernikePhase_PHAandWGA_7_5_cytoplasm",
         "rawType": "float64",
         "type": "float"
        },
        {
         "name": "RadialDistribution_ZernikePhase_CONC_3_1_cytoplasm",
         "rawType": "float64",
         "type": "float"
        },
        {
         "name": "Granularity_7_SYTO_nuclei",
         "rawType": "float64",
         "type": "float"
        },
        {
         "name": "AreaShape_Zernike_7_3_cytoplasm",
         "rawType": "float64",
         "type": "float"
        },
        {
         "name": "Correlation_Correlation_CONC_PHAandWGA_cytoplasm",
         "rawType": "float64",
         "type": "float"
        },
        {
         "name": "Granularity_15_SYTO_nuclei",
         "rawType": "float64",
         "type": "float"
        },
        {
         "name": "RadialDistribution_ZernikePhase_SYTO_8_2_cytoplasm",
         "rawType": "float64",
         "type": "float"
        },
        {
         "name": "AreaShape_Zernike_8_6_cells",
         "rawType": "float64",
         "type": "float"
        },
        {
         "name": "AreaShape_Zernike_7_3_cells",
         "rawType": "float64",
         "type": "float"
        },
        {
         "name": "RadialDistribution_ZernikePhase_HOECHST_8_6_cells",
         "rawType": "float64",
         "type": "float"
        },
        {
         "name": "Granularity_7_PHAandWGA_cells",
         "rawType": "float64",
         "type": "float"
        },
        {
         "name": "RadialDistribution_ZernikePhase_HOECHST_8_6_cytoplasm",
         "rawType": "float64",
         "type": "float"
        },
        {
         "name": "RadialDistribution_ZernikePhase_PHAandWGA_5_3_nuclei",
         "rawType": "float64",
         "type": "float"
        },
        {
         "name": "Granularity_6_MITO_cells",
         "rawType": "float64",
         "type": "float"
        },
        {
         "name": "RadialDistribution_ZernikePhase_PHAandWGA_5_5_cells",
         "rawType": "float64",
         "type": "float"
        },
        {
         "name": "Granularity_6_CONC_cells",
         "rawType": "float64",
         "type": "float"
        },
        {
         "name": "RadialDistribution_ZernikePhase_SYTO_5_3_cytoplasm",
         "rawType": "float64",
         "type": "float"
        },
        {
         "name": "RadialDistribution_ZernikePhase_CONC_9_3_cytoplasm",
         "rawType": "float64",
         "type": "float"
        },
        {
         "name": "AreaShape_Compactness_cytoplasm",
         "rawType": "float64",
         "type": "float"
        },
        {
         "name": "AreaShape_Zernike_6_2_cytoplasm",
         "rawType": "float64",
         "type": "float"
        },
        {
         "name": "RadialDistribution_ZernikeMagnitude_MITO_4_0_nuclei",
         "rawType": "float64",
         "type": "float"
        },
        {
         "name": "RadialDistribution_MeanFrac_PHAandWGA_1of4_nuclei",
         "rawType": "float64",
         "type": "float"
        },
        {
         "name": "RadialDistribution_ZernikePhase_HOECHST_7_7_cells",
         "rawType": "float64",
         "type": "float"
        },
        {
         "name": "RadialDistribution_ZernikePhase_MITO_3_1_nuclei",
         "rawType": "float64",
         "type": "float"
        },
        {
         "name": "Granularity_4_SYTO_cells",
         "rawType": "float64",
         "type": "float"
        },
        {
         "name": "RadialDistribution_ZernikePhase_HOECHST_5_1_cytoplasm",
         "rawType": "float64",
         "type": "float"
        },
        {
         "name": "RadialDistribution_ZernikePhase_HOECHST_9_1_cytoplasm",
         "rawType": "float64",
         "type": "float"
        },
        {
         "name": "RadialDistribution_ZernikePhase_MITO_5_1_cytoplasm",
         "rawType": "float64",
         "type": "float"
        }
       ],
       "ref": "a5896a75-5058-48b5-9301-dfc5401bf7b0",
       "rows": [
        [
         "65",
         "Fluor_10.0",
         "HCT116",
         "Fluor",
         "10.0",
         "-0.02404584211703141",
         "-0.12302456364703443",
         "0.0007835579686895494",
         "0.02052700717527256",
         "-0.279309410699835",
         "0.08181226712536618",
         "0.08408416602866674",
         "-0.45375190211732763",
         "-0.07459923470760366",
         "-0.005692333906473446",
         "0.19551477863929517",
         "-0.14175105892921225",
         "0.2510854165914801",
         "-0.05917726910067787",
         "-0.42015171385625494",
         "-0.2402627360995267",
         "0.21495067265032058",
         "-0.10959061523931932",
         "-0.12820161359659032",
         "-0.2657680697459822",
         "1.471010899239877",
         "-0.19233585597111402",
         "3.3288128580888623",
         "1.6599546473706397",
         "-0.13800972451078602",
         "0.4251541658921477",
         "-0.40649405327136734",
         "-0.09412128973927103",
         "-0.3658561418581051",
         "0.358767601424917",
         "-0.13301758293104993",
         "-0.38762346903821426",
         "0.25856313995489894",
         "0.7666515888651598",
         "0.517636811890106",
         "0.9471341396650247",
         "-0.3019693080738968",
         "-0.1766955781777878",
         "1.6162328441858524",
         "0.06879783672673742",
         "-0.018418348911837717",
         "0.027312258308616832",
         "-0.02672795429105172",
         "0.08755564997679176",
         "-0.21565550066272704",
         "-0.2673472556988532",
         "0.660946544229442",
         "-0.09539564988727017",
         "0.06700206538419638",
         "1.847695617400396",
         "-0.4082332955375575",
         "0.2239422902191437",
         "-0.3752256856552124",
         "-0.06933391073700795",
         "-0.22143180004811966",
         "-0.421540807347178",
         "-0.37736305345357746",
         "-0.360194175804614",
         "0.18032518104999168",
         "-0.20086260308341675",
         "-0.5579431892990689",
         "-0.02627112386182237",
         "-1.7300458085936266",
         "-0.3011519758301434",
         "0.5879447219781255",
         "-0.38195595824624545",
         "-0.16471242343619721",
         "0.37114002429140247",
         "0.7227386048846329",
         "0.15134345976199606",
         "0.2486159217693673",
         "0.5226072930893112",
         "0.28915138564988163",
         "0.721006433171259",
         "1.3135355363514623",
         "0.5368010543783847",
         "-0.03859568150288142",
         "0.1492815160579163",
         "0.14442137460274274",
         "-0.31068786999784626",
         "2.4562003532972145",
         "-0.24986163081950466",
         "0.2242766570885893",
         "0.07821438284977247",
         "-0.3219631489407111",
         "-0.28936502875859954",
         "0.3480076645386452",
         "-0.6181750282294399",
         "0.14739304947490453",
         "-0.7446483280363823",
         "0.506480799327247",
         "-0.07987735207504545",
         "-0.18116809293760766",
         "-0.05122358806139547",
         "0.01924426291132434",
         "-0.03311058967598953",
         "-0.008628821672821418",
         "-0.15632332413006028",
         "0.09327866018959691",
         "-0.2496497898269575",
         "0.1164772845778957",
         "-0.30150247183325",
         "0.14056494814483603",
         "1.8637942498326816",
         "1.0682970075382807",
         "-0.5719188282558719",
         "-0.12141672219179066",
         "-0.3814908971480982",
         "-0.22619003804273813",
         "0.18078547479730084",
         "0.5849842066591717",
         "1.6808176137428967",
         "-0.3885739965308784",
         "1.9104303969979186",
         "1.3578149488205433",
         "-0.24573330916666203",
         "-0.2506326878579128",
         "-0.47069169759955054",
         "-0.21543642490716924",
         "0.2196708373652308",
         "-0.48923080129071284",
         "-0.06016866134443929",
         "0.5307402493577342",
         "-0.24946524644565105",
         "-0.21241229062918732",
         "-0.22256750594830027",
         "0.018448917835047707",
         "-0.006288166091807698",
         "-0.3557051964961336",
         "-0.435769148476881",
         "-2.0313495225684104",
         "-0.1853669064809625",
         "-0.32347851729831834",
         "-0.22180310737662384",
         "-0.059723516818655904",
         "0.14464271578217375",
         "0.8295124365404094",
         "-0.0501126516777389",
         "1.6679686806432912",
         "-0.23593454198768846",
         "1.8128079734294231",
         "-0.11340023201492279",
         "0.16192282868758617",
         "-0.5226352379232763",
         "0.3276496300620917",
         "0.14680058946414667",
         "-0.25378784556255485",
         "-0.20508263949174604",
         "0.0622797434559014",
         "0.30130925997307895",
         "-0.07107820359661632",
         "-0.11015470136088151",
         "-0.34556937852980696",
         "-0.1121036549564461",
         "-0.10003286519625738",
         "0.19543740055820674",
         "0.17229771798824092",
         "-1.202032798719926",
         "-0.410482825181188",
         "0.24918664853498165",
         "0.14224271379574613",
         "-0.5197100715786549",
         "-0.04558145919885785",
         "-0.08711515847133054",
         "0.08500470299445775",
         "0.19194953173437995",
         "-0.0802596450986971",
         "0.22699426440397197",
         "0.043473685404245524",
         "-0.1518590322533039",
         "-0.15648014339015504",
         "-0.5124167878162367",
         "-0.34559266702754954",
         "-0.7258543862530424",
         "0.2501502898170181",
         "-0.13301395102458993",
         "0.052736113384537396",
         "0.006610741799264616",
         "-0.3652175177988629",
         "0.4492301545823938",
         "-0.33614167604554723",
         "-0.1807958133726979",
         "0.24145112639328914",
         "-0.14693803790791712",
         "0.2744695958772211",
         "-0.017525706394705416",
         "-0.3220978348894262",
         "-0.08953751734343596",
         "-0.3822448191247518",
         "-1.0110212925170003",
         "0.03423396314813121",
         "-0.7512305736893871",
         "5.313868720886048",
         "-0.6311727969791242",
         "-0.0717514776048048",
         "1.3674126134791251",
         "-0.3898267733032955",
         "1.9271623286614212",
         "-0.1753267119007919",
         "0.4080816763951962",
         "-0.16598581857804035",
         "-0.1362228905942039",
         "-0.20527560901440206",
         "0.26104941943111876",
         "0.03502899313314853",
         "-2.492510089091157",
         "-0.10650847048831419",
         "0.2079592614476483",
         "0.5128430294757473",
         "0.10441925899056295",
         "-0.11018909657785599",
         "-0.37915236575143174",
         "-0.4544115320864207",
         "0.31303107937221",
         "-0.6817750733948285",
         "0.13365367010786283",
         "0.03705930271349807",
         "-0.3945814985855888",
         "0.11276125418595012",
         "-0.08142842903427192",
         "0.0",
         "-0.1903424092549831",
         "0.09597545214755639",
         "-0.3439375005024565",
         "0.21691195718704276",
         "0.5183961300813178",
         "0.1769187197281637",
         "-0.5010127617933386",
         "0.07408833243978714",
         "0.029463694020688234",
         "-0.22333863522368144",
         "-0.44598107874234333",
         "0.041400862017707936",
         "-0.015462627231923654",
         "-0.09878118102542241",
         "-0.3612188618153517",
         "-0.3250971148855822",
         "-0.16263620475604634",
         "0.06522165720664687",
         "0.13404912781201048",
         "0.14194864494130416",
         "-0.07291922628994946",
         "-0.31380440344676863",
         "0.3644680619286106",
         "0.7544189361844661",
         "-0.2899913576896481",
         "-0.4891039406133073",
         "0.03749749303098068",
         "0.05776481041706381",
         "0.10932623072134669",
         "-0.3338088448600639",
         "-0.009724182389795846",
         "-0.5847653674715398",
         "0.3131511508895133",
         "0.4747350615644559",
         "-0.3022092310045882",
         "0.3799476821241493",
         "-0.09011991237448089",
         "0.014211424708497213",
         "-0.3814064896592051",
         "0.08333333333333333",
         "-0.35606999859662514",
         "-0.07388776976903039",
         "-0.29205832140678056",
         "-0.9630931464551762",
         "-0.04106101636513976",
         "-0.43262283283174585",
         "-0.12709310319839434",
         "-0.35487595284387863",
         "-0.6855708862708196",
         "0.03573279496909081",
         "-0.03620463587584649",
         "0.525823116379037",
         "-0.12912036504483093",
         "0.07766832776380847",
         "1.168630923088141",
         "1.5944609874989693",
         "-0.03323805303639049",
         "-2.250364121477632",
         "0.1604335151921275",
         "-0.28305140684042673",
         "1.2467863222140878",
         "0.04498443934098527",
         "-0.2237215197424394",
         "0.5361354111688617",
         "0.0166703518426052",
         "-0.18580254450626416",
         "-0.4354458639224032",
         "-0.10391155896238469",
         "0.29258154938706277",
         "-0.1639902022657882",
         "0.25415189214457173",
         "-3.2242687050233894",
         "-0.07430342621997514",
         "-0.18235648409694633",
         "0.005280578026907845",
         "0.16310510879508602",
         "-0.08852630719201611",
         "-0.22125623610318673",
         "-1.1308455211831534",
         "-0.7716185729252029",
         "-0.2087768473895312",
         "-0.639146641063609",
         "-0.32527494910613214",
         "1.787021351257749",
         "-0.10728309763168256",
         "-0.2929457255520583",
         "-0.8781534475931576",
         "-0.48414150756818275",
         "-0.32045455433720554",
         "-0.013479657763157363",
         "0.10593424939948462",
         "-0.09410362116779838",
         "0.33537425904607593",
         "0.24613040222046312",
         "-0.27437388989314027",
         "-0.1266831305341739",
         "0.38326967657676714",
         "-0.17806976322933943",
         "3.8259522885145736",
         "-1.406036331318731",
         "0.02784753707381915",
         "0.12330194317580118",
         "-0.1960722390128141",
         "1.4254604048927546",
         "-0.3797702793627263",
         "-0.02577791607859438",
         "0.32205012120760906",
         "-0.44141267242070126",
         "0.3564968959075537",
         "0.12427356405009952",
         "0.2186257258339931",
         "0.2577810458602597",
         "-0.5146785097065427",
         "0.10834211889489273",
         "0.16014533233844447",
         "-0.23857462986102326",
         "0.8772464207652791",
         "0.21072545664741227",
         "3.672370401390482",
         "1.7755554314393163",
         "0.11803280204310246",
         "-0.3201919897994776",
         "-0.5389010777724154",
         "-0.02792857406436082",
         "0.22753092395986121",
         "-0.5295142653861589",
         "-0.5000495083407577",
         "0.21929555258137756",
         "-0.08988542085798765",
         "-0.3433886373066075",
         "0.892678236303994",
         "-1.1078774871876296",
         "0.18731166430880936",
         "-0.028669629065002936",
         "-2.7435728178694587",
         "-0.13432230180355537",
         "0.012422710049145289",
         "0.0810433264577317",
         "0.23261814876357617",
         "-1.4715565606690388",
         "-1.5749033030006414",
         "-0.4706564879490744",
         "0.9732559226382982",
         "-0.4254016990749534",
         "0.20618960021586263",
         "-0.06613681096565065",
         "-0.3791290010370562",
         "-0.02217418760783399",
         "-0.09264386690674499",
         "-0.6586585357242396",
         "-0.037048662291956615",
         "0.10046882585905165",
         "0.6091792156392637",
         "-0.06767414727666847",
         "-0.270449788361503",
         "-0.4600158366320106",
         "0.4739312518458704",
         "-0.0021190873859326526",
         "1.905310821218912",
         "-0.7659869928222278",
         "-0.6523259897944984",
         "0.5127907461941554",
         "0.06123001723450953",
         "-0.05994538521810311",
         "-0.22036956173219568",
         "-0.7323529607009805",
         "0.011166905743846309",
         "-0.0939637979787098",
         "-0.5468385560569485",
         "0.3053612806165996",
         "4.4677604051130775",
         "-0.16044901138774825",
         "-0.31161799654662875",
         "0.22938713196319066",
         "-0.025574005161826376",
         "1.501090067539704",
         "-0.2307305510993043",
         "0.2900549836140537",
         "0.1394096368711866",
         "-0.02898788759920594",
         "0.08702780234559776",
         "-0.06905741811179039",
         "0.08671407379942901",
         "0.10342816877410663",
         "0.23663144775766673",
         "1.1314724093143482",
         "-0.6264558148560218",
         "0.17621834595045663",
         "-0.17982960592247582",
         "1.4145175878396121",
         "-1.6235739345405487",
         "-0.037313105231135124",
         "-0.4536357689311954",
         "-1.9102750631291623",
         "0.15458890025419",
         "-0.3620531666244655",
         "-0.32219283834833096",
         "0.9550648509451066",
         "0.7201016818654813",
         "-0.09151711902350983",
         "0.17897668342025036",
         "-0.22942717073408295",
         "-0.40534508920814205",
         "0.11099159864891349",
         "0.0616929413506597",
         "0.2121748125107381",
         "2.44712300390418",
         "0.7879412746073049",
         "0.007569124180087788",
         "-0.1860900150524871",
         "-1.7859378480554655",
         "-0.3946633517370967",
         "1.7038264686415836",
         "-0.3314580078096499",
         "-0.270632857927129",
         "0.06629877298357773",
         "0.030679692929519373",
         "1.4360666878932276",
         "-0.4052239491042564",
         "1.0878218327674782",
         "-0.6131644282615105",
         "0.007851685648003356",
         "0.1210917944418602",
         "0.5562961516466411",
         "-0.5935707834395496",
         "-0.7518822996281783",
         "-0.1995907479370211",
         "-0.03721956904213328",
         "-0.23566759359759987",
         "2.156642126582381",
         "-0.15093248514394436",
         "0.2543658384182114",
         "0.12692230218537906",
         "-0.2219941794911734",
         "0.21477756325361005",
         "-0.07312101483876492",
         "-0.02199904047888234",
         "-1.355160647143052",
         "-0.43696718966395276",
         "-0.47683685986914304",
         "-0.20390145113059718",
         "-0.31489058704725315",
         "0.21074464615110766",
         "0.9003724911657207",
         "-0.4879459202324663",
         "0.36189952156784777",
         "-0.2397472100278345",
         "0.12842225556784248",
         "0.010749802422074128",
         "-0.9828555336307543",
         "-0.5222343240087172",
         "-0.5303199895472015",
         "-0.07158149746429274",
         "-0.041856125112908364",
         "-0.7526869483946519",
         "0.08881130495319678",
         "-0.5012231633473362",
         "-0.5705495183450762",
         "1.790704230537385",
         "1.9165753076529095",
         "-0.4147825781688718",
         "-1.1081770994008633",
         "-0.14265060515787126",
         "0.024990218652012244",
         "-0.28992431033959476",
         "-0.3474360092938358",
         "0.07658471725095033",
         "-0.12431385778621082",
         "-0.45150920808953726",
         "-0.4948786127556885",
         "0.3112808182348925",
         "-0.23291282048157075",
         "-0.784222266250827",
         "-0.1616771697418869",
         "0.1627889971581476",
         "0.04343529582064398",
         "-0.3151162541812925",
         "3.020103218799002",
         "0.15208542750913517",
         "-0.4385441805210703",
         "0.06290371448701478",
         "-0.5402019416540245",
         "0.16276461156634298",
         "-0.02666721469511453",
         "0.08383074332479176",
         "-0.08635350860224536",
         "0.7361354937335437",
         "0.04753011088613801",
         "0.11306201464961316",
         "-0.2504415480405663",
         "-0.06091471611760296",
         "-0.5642362719627986",
         "0.6851108289145782",
         "-1.7910331913236657",
         "0.48869522255614195",
         "0.6540911382781122",
         "-0.04103999333656255",
         "-0.18537675501833722",
         "-0.28906875975704044",
         "0.05431388349730958",
         "0.03940462606157209",
         "-2.352484381565194",
         "-0.4808002277978899",
         "-0.40709833355747704",
         "0.17049406296132674",
         "0.03664889120179656",
         "-0.3500709830317133",
         "-0.17104630569256185",
         "-0.27004864186000926",
         "0.2367410749487915",
         "-0.42825591155056786",
         "-0.483645452834227",
         "-0.48433655308371515",
         "0.10651157193445626",
         "-0.06755554440050818",
         "-0.09629311969026699",
         "0.10579949030171742",
         "-0.06854224698013021",
         "-0.09085092679694479",
         "-0.376937629971408",
         "0.23507102243267725",
         "-0.3189935587017268",
         "0.181689802437616",
         "-1.4287283820364456",
         "-0.16987524592432968",
         "0.17560644719780294",
         "-0.11751366098545803",
         "-0.03457845995231012",
         "0.0296685825328028",
         "-0.5461197686561552",
         "-0.3034661511593472",
         "0.6039802743723779",
         "0.46702106799449183",
         "-2.2054326062367933",
         "-0.024801543796390282",
         "-0.03984416070374146",
         "-0.4231441399062973",
         "-0.39988025311535824",
         "0.38920221095319",
         "-0.2317700927654789",
         "0.24295603431828225",
         "-0.2689167030088352",
         "-0.24095961781705205",
         "-0.26988408812840675",
         "0.08691048359481972",
         "-0.46264256183820995",
         "-0.2785717107010612",
         "-0.05048806424765943",
         "1.5724652696055959",
         "0.09383217956446649",
         "-0.004200938751819566",
         "-0.25507704631764305",
         "0.15400657655181493",
         "-0.3050850138282416",
         "-0.5993375531603402",
         "0.0072362707360957845",
         "-0.08085998145807788",
         "0.5512463756811208",
         "-0.5318496575181648",
         "-0.34804446108586207",
         "-0.20260867870829527",
         "0.05383150125873324",
         "0.9174461635680972",
         "0.08962861176145752",
         "-0.47523326150792755",
         "0.2775514607241431",
         "0.0636378538925938",
         "0.10552776227521972",
         "-0.07415812703025536",
         "0.31659956051519916",
         "0.7445926642183768",
         "-0.34763635788489894",
         "0.18404982777049694",
         "0.35965883336546467",
         "-0.011786435706459826",
         "0.18554890551715772",
         "-0.2631580739994436"
        ]
       ],
       "shape": {
        "columns": 602,
        "rows": 1
       }
      },
      "text/html": [
       "<div>\n",
       "<style scoped>\n",
       "    .dataframe tbody tr th:only-of-type {\n",
       "        vertical-align: middle;\n",
       "    }\n",
       "\n",
       "    .dataframe tbody tr th {\n",
       "        vertical-align: top;\n",
       "    }\n",
       "\n",
       "    .dataframe thead th {\n",
       "        text-align: right;\n",
       "    }\n",
       "</style>\n",
       "<table border=\"1\" class=\"dataframe\">\n",
       "  <thead>\n",
       "    <tr style=\"text-align: right;\">\n",
       "      <th></th>\n",
       "      <th>Metadata_pert_name</th>\n",
       "      <th>Metadata_cell_line</th>\n",
       "      <th>Metadata_name</th>\n",
       "      <th>Metadata_cmpd_conc</th>\n",
       "      <th>RadialDistribution_ZernikePhase_SYTO_7_5_cytoplasm</th>\n",
       "      <th>RadialDistribution_ZernikePhase_PHAandWGA_3_1_cytoplasm</th>\n",
       "      <th>AreaShape_Zernike_2_0_nuclei</th>\n",
       "      <th>RadialDistribution_ZernikePhase_PHAandWGA_4_2_cytoplasm</th>\n",
       "      <th>Granularity_1_HOECHST_nuclei</th>\n",
       "      <th>Granularity_4_PHAandWGA_nuclei</th>\n",
       "      <th>...</th>\n",
       "      <th>AreaShape_Compactness_cytoplasm</th>\n",
       "      <th>AreaShape_Zernike_6_2_cytoplasm</th>\n",
       "      <th>RadialDistribution_ZernikeMagnitude_MITO_4_0_nuclei</th>\n",
       "      <th>RadialDistribution_MeanFrac_PHAandWGA_1of4_nuclei</th>\n",
       "      <th>RadialDistribution_ZernikePhase_HOECHST_7_7_cells</th>\n",
       "      <th>RadialDistribution_ZernikePhase_MITO_3_1_nuclei</th>\n",
       "      <th>Granularity_4_SYTO_cells</th>\n",
       "      <th>RadialDistribution_ZernikePhase_HOECHST_5_1_cytoplasm</th>\n",
       "      <th>RadialDistribution_ZernikePhase_HOECHST_9_1_cytoplasm</th>\n",
       "      <th>RadialDistribution_ZernikePhase_MITO_5_1_cytoplasm</th>\n",
       "    </tr>\n",
       "  </thead>\n",
       "  <tbody>\n",
       "    <tr>\n",
       "      <th>65</th>\n",
       "      <td>Fluor_10.0</td>\n",
       "      <td>HCT116</td>\n",
       "      <td>Fluor</td>\n",
       "      <td>10.0</td>\n",
       "      <td>-0.024046</td>\n",
       "      <td>-0.123025</td>\n",
       "      <td>0.000784</td>\n",
       "      <td>0.020527</td>\n",
       "      <td>-0.279309</td>\n",
       "      <td>0.081812</td>\n",
       "      <td>...</td>\n",
       "      <td>0.105528</td>\n",
       "      <td>-0.074158</td>\n",
       "      <td>0.3166</td>\n",
       "      <td>0.744593</td>\n",
       "      <td>-0.347636</td>\n",
       "      <td>0.18405</td>\n",
       "      <td>0.359659</td>\n",
       "      <td>-0.011786</td>\n",
       "      <td>0.185549</td>\n",
       "      <td>-0.263158</td>\n",
       "    </tr>\n",
       "  </tbody>\n",
       "</table>\n",
       "<p>1 rows × 602 columns</p>\n",
       "</div>"
      ],
      "text/plain": [
       "   Metadata_pert_name Metadata_cell_line Metadata_name  Metadata_cmpd_conc  \\\n",
       "65         Fluor_10.0             HCT116         Fluor                10.0   \n",
       "\n",
       "    RadialDistribution_ZernikePhase_SYTO_7_5_cytoplasm  \\\n",
       "65                                          -0.024046    \n",
       "\n",
       "    RadialDistribution_ZernikePhase_PHAandWGA_3_1_cytoplasm  \\\n",
       "65                                          -0.123025         \n",
       "\n",
       "    AreaShape_Zernike_2_0_nuclei  \\\n",
       "65                      0.000784   \n",
       "\n",
       "    RadialDistribution_ZernikePhase_PHAandWGA_4_2_cytoplasm  \\\n",
       "65                                           0.020527         \n",
       "\n",
       "    Granularity_1_HOECHST_nuclei  Granularity_4_PHAandWGA_nuclei  ...  \\\n",
       "65                     -0.279309                        0.081812  ...   \n",
       "\n",
       "    AreaShape_Compactness_cytoplasm  AreaShape_Zernike_6_2_cytoplasm  \\\n",
       "65                         0.105528                        -0.074158   \n",
       "\n",
       "    RadialDistribution_ZernikeMagnitude_MITO_4_0_nuclei  \\\n",
       "65                                             0.3166     \n",
       "\n",
       "    RadialDistribution_MeanFrac_PHAandWGA_1of4_nuclei  \\\n",
       "65                                           0.744593   \n",
       "\n",
       "    RadialDistribution_ZernikePhase_HOECHST_7_7_cells  \\\n",
       "65                                          -0.347636   \n",
       "\n",
       "    RadialDistribution_ZernikePhase_MITO_3_1_nuclei  Granularity_4_SYTO_cells  \\\n",
       "65                                          0.18405                  0.359659   \n",
       "\n",
       "    RadialDistribution_ZernikePhase_HOECHST_5_1_cytoplasm  \\\n",
       "65                                          -0.011786       \n",
       "\n",
       "    RadialDistribution_ZernikePhase_HOECHST_9_1_cytoplasm  \\\n",
       "65                                           0.185549       \n",
       "\n",
       "    RadialDistribution_ZernikePhase_MITO_5_1_cytoplasm  \n",
       "65                                          -0.263158   \n",
       "\n",
       "[1 rows x 602 columns]"
      ]
     },
     "execution_count": 72,
     "metadata": {},
     "output_type": "execute_result"
    }
   ],
   "source": [
    "compound_df"
   ]
  },
  {
   "cell_type": "code",
   "execution_count": 73,
   "id": "d745929a",
   "metadata": {},
   "outputs": [],
   "source": [
    "# ## Load and process data\n",
    "\n",
    "# # Import data\n",
    "# selected_df = pd.read_csv(\"{}/selected_data_medmean.csv\".format(BaseDir),\n",
    "#                           index_col=0,\n",
    "#                           low_memory=False)\n",
    "\n",
    "# selected_df['Metadata_pert_name'] = (selected_df['Metadata_name'] + '_' + \n",
    "#                                        selected_df['Metadata_cmpd_conc'].astype(str) + '_' + \n",
    "#                                        selected_df['Metadata_cell_line'])\n",
    "\n",
    "# # Only keep relevant columns\n",
    "# metadata = ['Metadata_pert_name', \n",
    "#             'Metadata_cell_line', \n",
    "#             'Metadata_name',\n",
    "#             'Metadata_cmpd_conc',\n",
    "#             ]\n",
    "\n",
    "# # Calculate aggregated data\n",
    "# aggregate_df = get_featuredata(selected_df.set_index(metadata)).groupby(metadata).median().reset_index()\n",
    "\n",
    "\n",
    "# # Work with a single cell line and drug at first\n",
    "# compound_df = aggregate_df.query('Metadata_cell_line == @cell_line & Metadata_name == @cmpd & Metadata_cmpd_conc == @conc')\n"
   ]
  },
  {
   "cell_type": "code",
   "execution_count": 74,
   "id": "97bca07e",
   "metadata": {},
   "outputs": [],
   "source": [
    "def remove_illum(s: str) -> str:\n",
    "    return s.replace('illum', '')\n",
    "\n",
    "def feature_grouping(df, perturbation=\"Metadata_pert_name\"):\n",
    "    df = utils.get_featuredata(compound_df.set_index(perturbation))\n",
    "    df.columns = [remove_illum(col) for col in df.columns]\n",
    "\n",
    "    # Transpose and rename\n",
    "    df = df.T.reset_index().rename(columns={'index': 'feature_name'})\n",
    "\n",
    "    # # Do the grouping\n",
    "    df['feature_type'] =df['feature_name'].str.split(\"_\").str[0]\n",
    "    df['compartment'] = df['feature_name'].str.split('_').str[-1]\n",
    "    df['channel'] = df['feature_name'].str.split('_').str[2]\n",
    "\n",
    "\n",
    "    ## Fix up the grouping\n",
    "    mask_keep = (\n",
    "    ~df[\"feature_type\"].str.contains(\"Children|Parent\")\n",
    "    & ~df[\"feature_name\"].str.contains(\"Location_Center\")\n",
    "    & ~df[\"channel\"].str.contains(\"Image\", na=False)\n",
    "    )\n",
    "    df = df.loc[mask_keep].copy()\n",
    "\n",
    "    # The compartment for AreaOccupied is off\n",
    "    df.loc[\n",
    "    (df['feature_type'] == 'AreaOccupied'),\n",
    "    'compartment'\n",
    "    ] = df['feature_name'].str.split('_').str[2]\n",
    "\n",
    "    df.loc[\n",
    "    df['feature_type'].isin(['AreaOccupied', \"Number\", \"ObjectNumber\"]),\n",
    "    'feature_type'\n",
    "    ] = \"Count\"\n",
    "\n",
    "    # AreaShape and Neighbours do not have a channel \n",
    "    df.loc[\n",
    "        df['feature_type'].isin(['AreaShape', \"Neighbors\", \"Count\"]),\n",
    "        'channel'\n",
    "    ] = np.nan\n",
    "\n",
    "    # Location features are actually intensity features    \n",
    "    df.loc[\n",
    "    (df['feature_type'] == 'Location'),\n",
    "    'channel'\n",
    "    ] = df['feature_name'].str.split('_').str[3]\n",
    "\n",
    "    df.loc[\n",
    "        (df['feature_type'] == 'Location'),\n",
    "        'feature_type'\n",
    "    ] = \"Intensity\"\n",
    "\n",
    "    return df"
   ]
  },
  {
   "cell_type": "code",
   "execution_count": 75,
   "id": "1d2d50ea",
   "metadata": {},
   "outputs": [
    {
     "data": {
      "application/vnd.microsoft.datawrangler.viewer.v0+json": {
       "columns": [
        {
         "name": "feature_type",
         "rawType": "object",
         "type": "string"
        },
        {
         "name": "feature_name",
         "rawType": "int64",
         "type": "integer"
        }
       ],
       "ref": "c1f87a82-9b93-4c6d-8c84-bb1ac28026ea",
       "rows": [
        [
         "AreaShape",
         "107"
        ],
        [
         "Correlation",
         "58"
        ],
        [
         "Count",
         "1"
        ],
        [
         "Granularity",
         "100"
        ],
        [
         "Intensity",
         "17"
        ],
        [
         "Neighbors",
         "7"
        ],
        [
         "RadialDistribution",
         "307"
        ]
       ],
       "shape": {
        "columns": 1,
        "rows": 7
       }
      },
      "text/plain": [
       "feature_type\n",
       "AreaShape             107\n",
       "Correlation            58\n",
       "Count                   1\n",
       "Granularity           100\n",
       "Intensity              17\n",
       "Neighbors               7\n",
       "RadialDistribution    307\n",
       "Name: feature_name, dtype: int64"
      ]
     },
     "metadata": {},
     "output_type": "display_data"
    }
   ],
   "source": [
    "# Perform the feature grouping\n",
    "\n",
    "df = feature_grouping(compound_df, perturbation=\"Metadata_pert_name\")\n",
    "\n",
    "# Count how many features per group\n",
    "display(df.groupby(['feature_type'])['feature_name'].count())\n",
    "\n",
    "df.drop(columns='feature_name', inplace=True)"
   ]
  },
  {
   "cell_type": "code",
   "execution_count": 76,
   "id": "ca4f5fbb",
   "metadata": {},
   "outputs": [],
   "source": [
    "def compute_fractions(group):\n",
    "    # Select only numeric columns in this group‐DataFrame\n",
    "    num = group.select_dtypes(include='number')\n",
    "    \n",
    "    # For each numeric column, compute two fractions\n",
    "    results = {}\n",
    "    for col in num.columns:\n",
    "        # results[f\"{col}_fraction_above_2\"]   = (num[col]  >  2).mean()\n",
    "        # results[f\"{col}_fraction_below_neg2\"] = (num[col]  < -2).mean()\n",
    "        results[f\"fraction_pos\"]   = (num[col]  >  2).mean()\n",
    "        results[f\"fraction_neg\"] = (num[col]  < -2).mean()\n",
    "    \n",
    "    return pd.Series(results)\n",
    "\n",
    "\n",
    "def compute_means(group):\n",
    "    # Select only numeric columns in this group‐DataFrame\n",
    "    num = group.select_dtypes(include='number')\n",
    "    \n",
    "    # For each numeric column, compute two fractions\n",
    "    results = {}\n",
    "    for col in num.columns:\n",
    "        results[f\"fraction_pos\"] = num.loc[num[col] > 0, col].median()\n",
    "        results[f\"fraction_neg\"] = num.loc[num[col] < 0, col].median()\n",
    "    \n",
    "    return pd.Series(results)\n",
    "\n",
    "\n",
    "# Some features do not have a channel, so we need to handle those separately\n",
    "# This is the case for AreaShape, Neighbours, and Count features\n",
    "has_channel = df[df['channel'].notna()]\n",
    "no_channel = df[df['channel'].isna()]\n",
    "\n",
    "mean_df = (\n",
    "    has_channel\n",
    "    .groupby(['compartment', 'feature_type', 'channel'])\n",
    "    .apply(compute_means, include_groups=False)\n",
    ")\n",
    "\n",
    "\n",
    "mean_df_nochannel = (\n",
    "    no_channel\n",
    "    .groupby(['compartment', 'feature_type'])\n",
    "    .apply(compute_means, include_groups=False)\n",
    ")\n"
   ]
  },
  {
   "cell_type": "code",
   "execution_count": 77,
   "id": "441381c9",
   "metadata": {},
   "outputs": [
    {
     "data": {
      "image/png": "[encoded data removed]",
      "text/plain": [
       "<Figure size 1000x1000 with 3 Axes>"
      ]
     },
     "metadata": {},
     "output_type": "display_data"
    }
   ],
   "source": [
    "def plot_feature_heatmap(stat_df, title):\n",
    "    ## Inspired by this post. https://stackoverflow.com/questions/63530701/python-package-to-plot-two-heatmaps-in-one-split-each-square-into-two-triangles\n",
    "    import numpy as np\n",
    "    import matplotlib.pyplot as plt\n",
    "    from matplotlib.patches import Polygon, Rectangle\n",
    "\n",
    "\n",
    "    \"\"\"\n",
    "    Instead of taking the absolute value of the statistics, we want to visulalize features that either increase or decrease\n",
    "    in response to a perturbation. This is done by calculating a summary statistic (mean) of positive and negative features for each channel and feature type.\n",
    "    Plot a heatmap with square tiles split into two triangles:\n",
    "      - Top-left triangle: positive features (colored with Reds)\n",
    "      - Bottom-right triangle: negative features (colored with Blues)\n",
    "    \"\"\"\n",
    "\n",
    "    # Extract unique labels\n",
    "    index_levels = ['compartment', 'feature_type', 'channel']\n",
    "    compartments, feature_types, channels = [\n",
    "        stat_df.index.get_level_values(level).unique().tolist()\n",
    "        for level in index_levels\n",
    "]\n",
    "\n",
    "    # Build a list of (compartment, channel) pairs in column order\n",
    "    col_levels = []\n",
    "    for comp in compartments:\n",
    "        for ch in channels:\n",
    "            # Check if any feature_type exists under (comp, ch)\n",
    "            if any((comp, ftype, ch) in stat_df.index for ftype in feature_types):\n",
    "                col_levels.append((comp, ch))\n",
    "\n",
    "    # Sorted list of feature_types for rows\n",
    "    row_levels = sorted(feature_types)\n",
    "\n",
    "    # Initialize 2D arrays\n",
    "    n_rows = len(row_levels)     # number of feature types\n",
    "    n_cols = len(col_levels)     # number of (compartment, channel) pairs\n",
    "    pos_array = np.full((n_rows, n_cols), np.nan)\n",
    "    neg_array = np.full((n_rows, n_cols), np.nan)\n",
    "\n",
    "    # Fill pos_array/neg_array\n",
    "    for i, (comp, ch) in enumerate(col_levels):\n",
    "        for j, ftype in enumerate(row_levels):\n",
    "            idx = (comp, ftype, ch)\n",
    "            if idx in stat_df.index:\n",
    "                pos_array[j, i] = stat_df.loc[idx, 'fraction_pos']\n",
    "                neg_array[j, i] = stat_df.loc[idx, 'fraction_neg']\n",
    "\n",
    "    # Colormap choices\n",
    "    norm_pos = plt.Normalize(vmin=0, vmax=np.nanmax(pos_array))\n",
    "    norm_neg = plt.Normalize(vmin=np.nanmin(neg_array), vmax=0)\n",
    "    \n",
    "    cmap_pos = plt.cm.Reds\n",
    "    cmap_neg = plt.cm.Blues_r\n",
    "    \n",
    "\n",
    "    # Create figure & axis\n",
    "    fig, ax = plt.subplots(\n",
    "        figsize=(max(10, n_cols * 0.5), max(10, n_rows * 0.5))\n",
    "    )\n",
    "    ax.set_aspect('equal')\n",
    "\n",
    "    # Draw each square cell as two triangles\n",
    "    for j in range(n_rows):\n",
    "        for i in range(n_cols):\n",
    "            x0, y0 = i, j\n",
    "            # Top-left triangle (positive fraction)\n",
    "            tri_top = [(x0,   y0+1), (x0,   y0),   (x0+1, y0+1)]\n",
    "            # Bottom-right triangle (negative fraction)\n",
    "            tri_bot = [(x0,   y0),   (x0+1, y0),   (x0+1, y0+1)]\n",
    "\n",
    "            val_pos = pos_array[j, i]\n",
    "            if not np.isnan(val_pos):\n",
    "                # color_pos = cmap_pos(val_pos) \n",
    "                color_pos = cmap_pos(norm_pos(val_pos)) \n",
    "                patch_top = Polygon(tri_top, facecolor=color_pos, edgecolor='none')\n",
    "                ax.add_patch(patch_top)\n",
    "\n",
    "            val_neg = neg_array[j, i]\n",
    "            if not np.isnan(val_neg):\n",
    "                # color_neg = cmap_neg(val_neg)\n",
    "                color_neg = cmap_neg(norm_neg(val_neg))\n",
    "                patch_bot = Polygon(tri_bot, facecolor=color_neg, edgecolor='none')\n",
    "                ax.add_patch(patch_bot)\n",
    "\n",
    "    # Set ticks and labels\n",
    "    ax.set_xticks(np.arange(n_cols) + 0.5)\n",
    "    ax.set_xticklabels(\n",
    "        [ch for (_, ch) in col_levels],\n",
    "        rotation=45, ha='right'\n",
    "    )\n",
    "    ax.set_yticks(np.arange(n_rows) + 0.5)\n",
    "    ax.set_yticklabels(row_levels)\n",
    "\n",
    "    # Draw compartment boundaries and labels (top margin)\n",
    "    current_x = 0\n",
    "    for comp in compartments:\n",
    "        count = sum(1 for (c, _) in col_levels if c == comp)\n",
    "        if count == 0:\n",
    "            continue\n",
    "\n",
    "        ax.axvline(current_x, color='black', lw=2)\n",
    "        mid = (current_x + (current_x + count)) / 2\n",
    "\n",
    "        # Text label just above the rectangle (at y = -0.3)\n",
    "        ax.text(\n",
    "            mid, -0.2, comp,\n",
    "            ha='center', va='bottom', size=14\n",
    "        )\n",
    "\n",
    "        # Rectangle from y = -1 to y = 0\n",
    "        rect = Rectangle(\n",
    "            (current_x, -1),  # lower-left corner\n",
    "            count,           # width\n",
    "            1,               # height\n",
    "            fill=False,\n",
    "            edgecolor='black',\n",
    "            linewidth=1.5,\n",
    "            clip_on=False\n",
    "        )\n",
    "        ax.add_patch(rect)\n",
    "\n",
    "        current_x += count\n",
    "\n",
    "    # Close final boundary\n",
    "    ax.axvline(n_cols, color='black', lw=2)\n",
    "\n",
    "    # Final axis adjustments\n",
    "    ax.set_xlim(0, n_cols)\n",
    "    ax.set_ylim(0, n_rows)\n",
    "    ax.invert_yaxis()\n",
    "    ax.set_xlabel(\"Channel\")\n",
    "    ax.set_ylabel(\"Feature Type\")\n",
    "    plt.tight_layout()\n",
    "\n",
    "    # Add two colorbars\n",
    "    sm_pos = plt.cm.ScalarMappable(cmap=cmap_pos, norm=plt.Normalize(vmin=0, vmax=np.nanmax(pos_array)))\n",
    "    sm_pos.set_array([0, np.nanmax(pos_array)])\n",
    "    cbar_pos = fig.colorbar(sm_pos, ax=ax, shrink=0.3)\n",
    "    cbar_pos.set_label('Fraction ↑ (pos)')\n",
    "\n",
    "    sm_neg = plt.cm.ScalarMappable(cmap=cmap_neg, norm=plt.Normalize(vmin=np.nanmin(neg_array), vmax=0))\n",
    "    sm_neg.set_array([np.nanmin(neg_array), 0])\n",
    "    cbar_neg = fig.colorbar(sm_neg, ax=ax, shrink=0.3)\n",
    "    cbar_neg.set_label('Fraction ↓ (neg)')\n",
    "\n",
    "    plt.title(title, y=1.3, size=14)\n",
    "    plt.show()\n",
    "\n",
    "\n",
    "# Plot the fractions in a heatmap\n",
    "plot_feature_heatmap(mean_df, title)"
   ]
  },
  {
   "cell_type": "code",
   "execution_count": 78,
   "id": "34187704",
   "metadata": {},
   "outputs": [
    {
     "data": {
      "image/png": "[encoded data removed]",
      "text/plain": [
       "<Figure size 400x400 with 3 Axes>"
      ]
     },
     "metadata": {},
     "output_type": "display_data"
    }
   ],
   "source": [
    "## Now plot a separate heatmap for neighbours and area shape\n",
    "\n",
    "def plot_feature_heatmap_small(stat_df, title):\n",
    "\n",
    "    import numpy as np\n",
    "    import matplotlib.pyplot as plt\n",
    "    from matplotlib.patches import Polygon, Rectangle\n",
    "\n",
    "    # 1. Extract unique labels\n",
    "    compartments  = stat_df.index.get_level_values('compartment').unique().tolist()\n",
    "    feature_types = stat_df.index.get_level_values('feature_type').unique().tolist()\n",
    "\n",
    "    # 2. Build a list of (compartment, channel) pairs in column order\n",
    "    col_levels = []\n",
    "    for comp in compartments:\n",
    "        # for ch in channels:\n",
    "            # Check if any feature_type exists under (comp, ch)\n",
    "        if any((comp, ftype) in stat_df.index for ftype in feature_types):\n",
    "            col_levels.append((comp))\n",
    "\n",
    "    # 3. Sorted list of feature_types for rows\n",
    "    row_levels = sorted(feature_types)\n",
    "\n",
    "    # 4. Initialize 2D arrays\n",
    "    n_rows = len(row_levels)     # number of feature types\n",
    "    n_cols = len(col_levels)     # number of (compartment, channel) pairs\n",
    "    pos_array = np.full((n_rows, n_cols), np.nan)\n",
    "    neg_array = np.full((n_rows, n_cols), np.nan)\n",
    "\n",
    "    # 5. Fill pos_array/neg_array\n",
    "    for i, (comp) in enumerate(col_levels):\n",
    "        for j, ftype in enumerate(row_levels):\n",
    "            idx = (comp, ftype)\n",
    "            if idx in stat_df.index:\n",
    "                pos_array[j, i] = stat_df.loc[idx, 'fraction_pos']\n",
    "                neg_array[j, i] = stat_df.loc[idx, 'fraction_neg']\n",
    "\n",
    "    # 6. Colormap choices\n",
    "    norm_pos = plt.Normalize(vmin=0, vmax=np.nanmax(pos_array))\n",
    "    norm_neg = plt.Normalize(vmin=np.nanmin(neg_array), vmax=0)\n",
    "\n",
    "    cmap_pos = plt.cm.Reds\n",
    "    cmap_neg = plt.cm.Blues_r\n",
    "\n",
    "\n",
    "    # 7. Create figure & axis\n",
    "    fig, ax = plt.subplots(\n",
    "        figsize=(max(4, n_cols * 0.5), max(4, n_rows * 0.5))\n",
    "    )\n",
    "    ax.set_aspect('equal')\n",
    "\n",
    "    # 8. Draw each square cell as two triangles\n",
    "    for j in range(n_rows):\n",
    "        for i in range(n_cols):\n",
    "            x0, y0 = i, j\n",
    "            # Top-left triangle (positive fraction)\n",
    "            tri_top = [(x0,   y0+1), (x0,   y0),   (x0+1, y0+1)]\n",
    "            # Bottom-right triangle (negative fraction)\n",
    "            tri_bot = [(x0,   y0),   (x0+1, y0),   (x0+1, y0+1)]\n",
    "\n",
    "            val_pos = pos_array[j, i]\n",
    "            if not np.isnan(val_pos):\n",
    "                # color_pos = cmap_pos(val_pos) \n",
    "                color_pos = cmap_pos(norm_pos(val_pos)) \n",
    "                patch_top = Polygon(tri_top, facecolor=color_pos, edgecolor='none')\n",
    "                ax.add_patch(patch_top)\n",
    "\n",
    "            val_neg = neg_array[j, i]\n",
    "            if not np.isnan(val_neg):\n",
    "                # color_neg = cmap_neg(val_neg)\n",
    "                color_neg = cmap_neg(norm_neg(val_neg))\n",
    "                patch_bot = Polygon(tri_bot, facecolor=color_neg, edgecolor='none')\n",
    "                ax.add_patch(patch_bot)\n",
    "\n",
    "    # 9. Set ticks and labels\n",
    "    ax.set_xticks(np.arange(n_cols) + 0.5)\n",
    "    ax.set_xticklabels(\n",
    "        [c for c in col_levels],\n",
    "        rotation=45, ha='right'\n",
    "    )\n",
    "    ax.set_yticks(np.arange(n_rows) + 0.5)\n",
    "    ax.set_yticklabels(row_levels)\n",
    "\n",
    "    # 10. Draw compartment boundaries and labels (top margin)\n",
    "    current_x = 0\n",
    "    for comp in compartments:\n",
    "        count = sum(1 for c in col_levels if c == comp)\n",
    "        if count == 0:\n",
    "            continue\n",
    "\n",
    "        ax.axvline(current_x, color='black', lw=2)\n",
    "        mid = (current_x + (current_x + count)) / 2\n",
    "\n",
    "        # Text label just above the rectangle (at y = -0.3)\n",
    "        ax.text(\n",
    "            mid, -0.2, comp,\n",
    "            ha='center', va='bottom', size=9\n",
    "        )\n",
    "\n",
    "        # Rectangle from y = -1 to y = 0\n",
    "        rect = Rectangle(\n",
    "            (current_x, -0.5),  # lower-left corner\n",
    "            count,           # width\n",
    "            0.5,               # height\n",
    "            fill=False,\n",
    "            edgecolor='black',\n",
    "            linewidth=1.5,\n",
    "            clip_on=False\n",
    "        )\n",
    "        ax.add_patch(rect)\n",
    "\n",
    "        current_x += count\n",
    "\n",
    "    # Close final boundary\n",
    "    ax.axvline(n_cols, color='black', lw=2)\n",
    "\n",
    "    # 11. Final axis adjustments\n",
    "    ax.set_xlim(0, n_cols)\n",
    "    ax.set_ylim(0, n_rows)\n",
    "    ax.invert_yaxis()\n",
    "    ax.set_xlabel(\"Compartment\")\n",
    "    ax.set_ylabel(\"Feature Type\")\n",
    "    plt.tight_layout()\n",
    "\n",
    "    # 12. Add two colorbars\n",
    "    # sm_pos = plt.cm.ScalarMappable(cmap=cmap_pos, norm=plt.Normalize(vmin=0, vmax=1))\n",
    "    sm_pos = plt.cm.ScalarMappable(cmap=cmap_pos, norm=plt.Normalize(vmin=0, vmax=np.nanmax(pos_array)))\n",
    "    sm_pos.set_array([0, np.nanmax(pos_array)])\n",
    "    # sm_pos.set_array([])\n",
    "    cbar_pos = fig.colorbar(sm_pos, ax=ax, shrink=0.5)\n",
    "    cbar_pos.set_label('Fraction ↑ (pos)')\n",
    "\n",
    "    # sm_neg = plt.cm.ScalarMappable(cmap=cmap_neg, norm=plt.Normalize(vmin=0, vmax=1))\n",
    "    sm_neg = plt.cm.ScalarMappable(cmap=cmap_neg, norm=plt.Normalize(vmin=np.nanmin(neg_array), vmax=0))\n",
    "    sm_neg.set_array([np.nanmin(neg_array), 0])\n",
    "    # sm_neg.set_array([])\n",
    "    cbar_neg = fig.colorbar(sm_neg, ax=ax, shrink=0.5)\n",
    "    cbar_neg.set_label('Fraction ↓ (neg)')\n",
    "\n",
    "    plt.title(title, y=1.3, size=14)\n",
    "    plt.show()\n",
    "\n",
    "\n",
    "# Plot the fractions in a heatmap\n",
    "plot_feature_heatmap_small(mean_df_nochannel, title)\n"
   ]
  },
  {
   "cell_type": "code",
   "execution_count": 79,
   "id": "ffb51014",
   "metadata": {},
   "outputs": [
    {
     "data": {
      "image/png": "[encoded data removed]",
      "text/plain": [
       "<Figure size 900x100 with 2 Axes>"
      ]
     },
     "metadata": {},
     "output_type": "display_data"
    }
   ],
   "source": [
    "#Plot the morphological profile\n",
    "\n",
    "import matplotlib.pyplot as plt\n",
    "import seaborn as sns\n",
    "fig = plt.figure(figsize=(9,1))\n",
    "# sns.heatmap(compound_df.set_index(metadata), cmap='RdBu_r', xticklabels=False, vmin=-7, vmax=7)\n",
    "sns.heatmap(compound_df.set_index(metadata), cmap='RdBu_r', xticklabels=False, vmin=-22, vmax=22)\n",
    "plt.title(title)\n",
    "\n",
    "plt.show()"
   ]
  },
  {
   "cell_type": "markdown",
   "id": "2548947d",
   "metadata": {},
   "source": [
    "Volcano plot"
   ]
  },
  {
   "cell_type": "code",
   "execution_count": 80,
   "id": "362fc80c",
   "metadata": {},
   "outputs": [],
   "source": [
    "from scipy.stats import ttest_ind\n",
    "import numpy as np\n",
    "import pandas as pd\n",
    "\n",
    "# Identify feature columns (exclude metadata)\n",
    "feature_cols = list_features(aggregate_df)\n",
    "\n",
    "# Extract control group from full data\n",
    "control_data = data.query(\n",
    "    'Metadata_cell_line == @cell_line & Metadata_name == \"dmso\"'\n",
    ")\n",
    "\n",
    "# Extract compound group from full data\n",
    "compound_data = data.query(\n",
    "    'Metadata_cell_line == @cell_line & Metadata_name == @cmpd & Metadata_cmpd_conc == @conc'\n",
    ")\n",
    "\n",
    "# Compute median difference and t-test p-values\n",
    "diffs = compound_data[feature_cols].median() - control_data[feature_cols].median()\n",
    "pvals = [ttest_ind(compound_data[feat], control_data[feat], equal_var=False).pvalue for feat in feature_cols]\n",
    "\n",
    "# Create result DataFrame\n",
    "results_df = pd.DataFrame({\n",
    "    'feature': feature_cols,\n",
    "    'diff': diffs.values,\n",
    "    'pval': pvals\n",
    "})\n",
    "results_df['neg_log10_pval'] = -np.log10(results_df['pval'])\n",
    "results_df['significant'] = (results_df['pval'] < 0.05) & (np.abs(results_df['diff']) > 0.5)\n",
    "\n",
    "# Sort significant features\n",
    "significant_features = results_df[results_df['significant']].sort_values(by='pval')\n"
   ]
  },
  {
   "cell_type": "code",
   "execution_count": 81,
   "id": "5727671b",
   "metadata": {},
   "outputs": [
    {
     "data": {
      "application/vnd.microsoft.datawrangler.viewer.v0+json": {
       "columns": [
        {
         "name": "index",
         "rawType": "int64",
         "type": "integer"
        },
        {
         "name": "feature",
         "rawType": "object",
         "type": "string"
        },
        {
         "name": "diff",
         "rawType": "float64",
         "type": "float"
        },
        {
         "name": "pval",
         "rawType": "float64",
         "type": "float"
        },
        {
         "name": "neg_log10_pval",
         "rawType": "float64",
         "type": "float"
        },
        {
         "name": "significant",
         "rawType": "bool",
         "type": "boolean"
        }
       ],
       "ref": "f73a12f5-28d7-4270-b95a-49a8f4726c46",
       "rows": [
        [
         "458",
         "Granularity_2_SYTO_cells",
         "-1.2813014115278136",
         "1.3550731149701662e-15",
         "14.868037271157531",
         "True"
        ],
        [
         "90",
         "Granularity_2_HOECHST_cells",
         "0.6770333609267614",
         "1.4533002892507778e-08",
         "7.837644640010156",
         "True"
        ],
        [
         "276",
         "Correlation_Correlation_HOECHST_SYTO_cells",
         "1.471921288665741",
         "3.4278243657832265e-07",
         "6.464981438477333",
         "True"
        ],
        [
         "470",
         "RadialDistribution_MeanFrac_PHAandWGA_2of4_cytoplasm",
         "-0.8532189219321633",
         "4.790046493796043e-07",
         "6.319660271157239",
         "True"
        ],
        [
         "569",
         "Correlation_Correlation_HOECHST_MITO_nuclei",
         "1.4924348014350244",
         "1.2179648333208361e-05",
         "4.914365251042382",
         "True"
        ],
        [
         "480",
         "Correlation_Correlation_HOECHST_SYTO_cytoplasm",
         "1.9707478427961846",
         "1.376910915465999e-05",
         "4.861094157181767",
         "True"
        ],
        [
         "80",
         "Neighbors_FirstClosestDistance_Adjacent_cytoplasm",
         "2.567821102992843",
         "2.113273410608601e-05",
         "4.675044311259531",
         "True"
        ],
        [
         "411",
         "RadialDistribution_ZernikeMagnitude_HOECHST_2_0_cells",
         "-1.6642262047142045",
         "7.294593763678123e-05",
         "4.136998888980322",
         "True"
        ],
        [
         "523",
         "RadialDistribution_ZernikePhase_MITO_7_7_cells",
         "-0.5257418686915543",
         "0.00012146472133455081",
         "3.9155498418558756",
         "True"
        ],
        [
         "414",
         "Correlation_Correlation_CONC_SYTO_nuclei",
         "-1.9665973440023912",
         "0.00012484100765361027",
         "3.9036427345866755",
         "True"
        ],
        [
         "300",
         "Correlation_RWC_PHAandWGA_MITO_nuclei",
         "-0.8075268253602733",
         "0.00014809546004172523",
         "3.8294582548417084",
         "True"
        ],
        [
         "87",
         "RadialDistribution_MeanFrac_PHAandWGA_2of4_cells",
         "-0.5346097866483775",
         "0.0003251573455979649",
         "3.4879064304408653",
         "True"
        ],
        [
         "205",
         "Correlation_RWC_SYTO_PHAandWGA_cells",
         "-2.8046545060413384",
         "0.0003780325103601042",
         "3.4224708497319054",
         "True"
        ],
        [
         "522",
         "RadialDistribution_FracAtD_PHAandWGA_1of4_cells",
         "-2.2505322007785664",
         "0.0006395497251540368",
         "3.1941256833659906",
         "True"
        ],
        [
         "62",
         "Correlation_Correlation_PHAandWGA_SYTO_cytoplasm",
         "-1.8732653296547122",
         "0.0007347561985547381",
         "3.1338567414421297",
         "True"
        ],
        [
         "35",
         "Correlation_Correlation_HOECHST_MITO_cells",
         "0.9250210672216608",
         "0.0007407654363621051",
         "3.130319289754043",
         "True"
        ],
        [
         "68",
         "RadialDistribution_MeanFrac_CONC_2of4_cells",
         "0.6733317890602551",
         "0.0010491185141695096",
         "2.979175448753471",
         "True"
        ],
        [
         "507",
         "Correlation_Correlation_MITO_SYTO_cells",
         "0.6583130841077749",
         "0.0015873611254469298",
         "2.799324259793654",
         "True"
        ],
        [
         "361",
         "RadialDistribution_ZernikeMagnitude_HOECHST_8_8_nuclei",
         "-1.576865904471094",
         "0.001876618147872986",
         "2.72662408813657",
         "True"
        ],
        [
         "531",
         "RadialDistribution_MeanFrac_CONC_1of4_nuclei",
         "-0.7422966397328989",
         "0.0022032139327192446",
         "2.6569433306801282",
         "True"
        ],
        [
         "304",
         "Correlation_Correlation_HOECHST_SYTO_nuclei",
         "1.815602185922606",
         "0.002212632638298245",
         "2.6550906856676884",
         "True"
        ],
        [
         "20",
         "Correlation_Correlation_HOECHST_PHAandWGA_nuclei",
         "1.4067524051366656",
         "0.002653917962526483",
         "2.576112506103355",
         "True"
        ],
        [
         "138",
         "Intensity_IntegratedIntensity_MITO_cells",
         "1.6603048306692458",
         "0.002926478692843678",
         "2.5336546335570116",
         "True"
        ],
        [
         "498",
         "Correlation_K_HOECHST_MITO_cells",
         "3.138676102043722",
         "0.0036845070065508806",
         "2.433620613275132",
         "True"
        ],
        [
         "427",
         "AreaShape_Perimeter_cells",
         "2.4180703616301855",
         "0.0041200685344663845",
         "2.3850955597209875",
         "True"
        ],
        [
         "189",
         "Intensity_StdIntensity_HOECHST_nuclei",
         "-0.8025876980893729",
         "0.004304872167582688",
         "2.3660397403166495",
         "True"
        ],
        [
         "428",
         "Correlation_Correlation_MITO_SYTO_nuclei",
         "0.9282605909920688",
         "0.0046075755508567596",
         "2.3365275348823693",
         "True"
        ],
        [
         "191",
         "Granularity_3_SYTO_cells",
         "-0.564282991526938",
         "0.0047168094153391535",
         "2.326351671250311",
         "True"
        ],
        [
         "46",
         "RadialDistribution_MeanFrac_CONC_2of4_cytoplasm",
         "0.7040997010812029",
         "0.005751064836796988",
         "2.24025173619215",
         "True"
        ],
        [
         "299",
         "Correlation_K_MITO_CONC_nuclei",
         "-1.0184398646064192",
         "0.006620935478846196",
         "2.1790806443068105",
         "True"
        ],
        [
         "130",
         "Correlation_Correlation_CONC_SYTO_cytoplasm",
         "-2.1450665541865623",
         "0.006838617990653491",
         "2.165031655542435",
         "True"
        ],
        [
         "292",
         "Correlation_K_PHAandWGA_SYTO_cytoplasm",
         "-3.415315907877529",
         "0.007209792853799735",
         "2.142077212914978",
         "True"
        ],
        [
         "111",
         "Neighbors_FirstClosestDistance_Adjacent_nuclei",
         "1.7393950794981305",
         "0.008680360596135875",
         "2.0614622331577075",
         "True"
        ],
        [
         "373",
         "RadialDistribution_ZernikeMagnitude_MITO_9_9_nuclei",
         "0.6890205489764014",
         "0.009447698188080313",
         "2.024673988949252",
         "True"
        ],
        [
         "352",
         "Number_Object_Number_nuclei",
         "-1.2899080681547836",
         "0.009718615863439098",
         "2.012395583394186",
         "True"
        ],
        [
         "244",
         "Intensity_MassDisplacement_HOECHST_cells",
         "0.8221706524692456",
         "0.010232147634928936",
         "1.9900332022498468",
         "True"
        ],
        [
         "324",
         "Granularity_4_MITO_nuclei",
         "1.5686714917281859",
         "0.010513346553600532",
         "1.9782590196121161",
         "True"
        ],
        [
         "89",
         "RadialDistribution_ZernikeMagnitude_CONC_2_0_cells",
         "-0.8111647235462004",
         "0.011193484602868734",
         "1.9510346937919092",
         "True"
        ],
        [
         "482",
         "RadialDistribution_ZernikeMagnitude_PHAandWGA_8_8_nuclei",
         "-1.243748882238179",
         "0.012381461715374823",
         "1.9072280808855435",
         "True"
        ],
        [
         "431",
         "Correlation_K_MITO_PHAandWGA_nuclei",
         "-1.8022513174015957",
         "0.012956563577765654",
         "1.8875101695387921",
         "True"
        ],
        [
         "493",
         "RadialDistribution_ZernikePhase_SYTO_6_0_nuclei",
         "-0.5714992692519582",
         "0.013453070260090917",
         "1.8711785896504236",
         "True"
        ],
        [
         "319",
         "Correlation_K_SYTO_PHAandWGA_cytoplasm",
         "4.055473104655436",
         "0.013522610727525287",
         "1.868939453727174",
         "True"
        ],
        [
         "450",
         "Granularity_2_SYTO_nuclei",
         "2.2367744324349097",
         "0.01411109501496949",
         "1.8504392838709685",
         "True"
        ],
        [
         "514",
         "RadialDistribution_FracAtD_SYTO_1of4_nuclei",
         "-1.9209885702804044",
         "0.016617424359853267",
         "1.7794362893958917",
         "True"
        ],
        [
         "157",
         "Intensity_IntegratedIntensity_HOECHST_cells",
         "-1.3976232016386825",
         "0.01834569208713586",
         "1.7364658999366749",
         "True"
        ],
        [
         "34",
         "Intensity_MassDisplacement_HOECHST_nuclei",
         "0.5269952030422301",
         "0.01843902500756541",
         "1.734262046678751",
         "True"
        ],
        [
         "554",
         "RadialDistribution_ZernikeMagnitude_HOECHST_4_0_cytoplasm",
         "-2.2576297070450764",
         "0.02070330746863499",
         "1.6839602680390506",
         "True"
        ],
        [
         "446",
         "Correlation_Correlation_CONC_PHAandWGA_nuclei",
         "-0.7556333928427199",
         "0.022105866927947002",
         "1.6554924486549254",
         "True"
        ],
        [
         "23",
         "Neighbors_SecondClosestDistance_Adjacent_nuclei",
         "1.868548972952663",
         "0.022278894114172915",
         "1.6521063705913186",
         "True"
        ],
        [
         "140",
         "RadialDistribution_MeanFrac_MITO_1of4_cytoplasm",
         "1.9298662388854753",
         "0.024718225331974333",
         "1.6069827130410568",
         "True"
        ]
       ],
       "shape": {
        "columns": 5,
        "rows": 75
       }
      },
      "text/html": [
       "<div>\n",
       "<style scoped>\n",
       "    .dataframe tbody tr th:only-of-type {\n",
       "        vertical-align: middle;\n",
       "    }\n",
       "\n",
       "    .dataframe tbody tr th {\n",
       "        vertical-align: top;\n",
       "    }\n",
       "\n",
       "    .dataframe thead th {\n",
       "        text-align: right;\n",
       "    }\n",
       "</style>\n",
       "<table border=\"1\" class=\"dataframe\">\n",
       "  <thead>\n",
       "    <tr style=\"text-align: right;\">\n",
       "      <th></th>\n",
       "      <th>feature</th>\n",
       "      <th>diff</th>\n",
       "      <th>pval</th>\n",
       "      <th>neg_log10_pval</th>\n",
       "      <th>significant</th>\n",
       "    </tr>\n",
       "  </thead>\n",
       "  <tbody>\n",
       "    <tr>\n",
       "      <th>458</th>\n",
       "      <td>Granularity_2_SYTO_cells</td>\n",
       "      <td>-1.281301</td>\n",
       "      <td>1.355073e-15</td>\n",
       "      <td>14.868037</td>\n",
       "      <td>True</td>\n",
       "    </tr>\n",
       "    <tr>\n",
       "      <th>90</th>\n",
       "      <td>Granularity_2_HOECHST_cells</td>\n",
       "      <td>0.677033</td>\n",
       "      <td>1.453300e-08</td>\n",
       "      <td>7.837645</td>\n",
       "      <td>True</td>\n",
       "    </tr>\n",
       "    <tr>\n",
       "      <th>276</th>\n",
       "      <td>Correlation_Correlation_HOECHST_SYTO_cells</td>\n",
       "      <td>1.471921</td>\n",
       "      <td>3.427824e-07</td>\n",
       "      <td>6.464981</td>\n",
       "      <td>True</td>\n",
       "    </tr>\n",
       "    <tr>\n",
       "      <th>470</th>\n",
       "      <td>RadialDistribution_MeanFrac_PHAandWGA_2of4_cyt...</td>\n",
       "      <td>-0.853219</td>\n",
       "      <td>4.790046e-07</td>\n",
       "      <td>6.319660</td>\n",
       "      <td>True</td>\n",
       "    </tr>\n",
       "    <tr>\n",
       "      <th>569</th>\n",
       "      <td>Correlation_Correlation_HOECHST_MITO_nuclei</td>\n",
       "      <td>1.492435</td>\n",
       "      <td>1.217965e-05</td>\n",
       "      <td>4.914365</td>\n",
       "      <td>True</td>\n",
       "    </tr>\n",
       "    <tr>\n",
       "      <th>...</th>\n",
       "      <td>...</td>\n",
       "      <td>...</td>\n",
       "      <td>...</td>\n",
       "      <td>...</td>\n",
       "      <td>...</td>\n",
       "    </tr>\n",
       "    <tr>\n",
       "      <th>195</th>\n",
       "      <td>Neighbors_SecondClosestDistance_Adjacent_cytop...</td>\n",
       "      <td>1.590201</td>\n",
       "      <td>4.563890e-02</td>\n",
       "      <td>1.340665</td>\n",
       "      <td>True</td>\n",
       "    </tr>\n",
       "    <tr>\n",
       "      <th>578</th>\n",
       "      <td>AreaShape_Zernike_7_3_cells</td>\n",
       "      <td>0.558596</td>\n",
       "      <td>4.581674e-02</td>\n",
       "      <td>1.338976</td>\n",
       "      <td>True</td>\n",
       "    </tr>\n",
       "    <tr>\n",
       "      <th>110</th>\n",
       "      <td>Granularity_3_PHAandWGA_cytoplasm</td>\n",
       "      <td>0.707079</td>\n",
       "      <td>4.685016e-02</td>\n",
       "      <td>1.329289</td>\n",
       "      <td>True</td>\n",
       "    </tr>\n",
       "    <tr>\n",
       "      <th>396</th>\n",
       "      <td>RadialDistribution_RadialCV_SYTO_1of4_nuclei</td>\n",
       "      <td>1.557136</td>\n",
       "      <td>4.829874e-02</td>\n",
       "      <td>1.316064</td>\n",
       "      <td>True</td>\n",
       "    </tr>\n",
       "    <tr>\n",
       "      <th>49</th>\n",
       "      <td>Granularity_4_SYTO_cytoplasm</td>\n",
       "      <td>1.816973</td>\n",
       "      <td>4.998170e-02</td>\n",
       "      <td>1.301189</td>\n",
       "      <td>True</td>\n",
       "    </tr>\n",
       "  </tbody>\n",
       "</table>\n",
       "<p>75 rows × 5 columns</p>\n",
       "</div>"
      ],
      "text/plain": [
       "                                               feature      diff  \\\n",
       "458                           Granularity_2_SYTO_cells -1.281301   \n",
       "90                         Granularity_2_HOECHST_cells  0.677033   \n",
       "276         Correlation_Correlation_HOECHST_SYTO_cells  1.471921   \n",
       "470  RadialDistribution_MeanFrac_PHAandWGA_2of4_cyt... -0.853219   \n",
       "569        Correlation_Correlation_HOECHST_MITO_nuclei  1.492435   \n",
       "..                                                 ...       ...   \n",
       "195  Neighbors_SecondClosestDistance_Adjacent_cytop...  1.590201   \n",
       "578                        AreaShape_Zernike_7_3_cells  0.558596   \n",
       "110                  Granularity_3_PHAandWGA_cytoplasm  0.707079   \n",
       "396       RadialDistribution_RadialCV_SYTO_1of4_nuclei  1.557136   \n",
       "49                        Granularity_4_SYTO_cytoplasm  1.816973   \n",
       "\n",
       "             pval  neg_log10_pval  significant  \n",
       "458  1.355073e-15       14.868037         True  \n",
       "90   1.453300e-08        7.837645         True  \n",
       "276  3.427824e-07        6.464981         True  \n",
       "470  4.790046e-07        6.319660         True  \n",
       "569  1.217965e-05        4.914365         True  \n",
       "..            ...             ...          ...  \n",
       "195  4.563890e-02        1.340665         True  \n",
       "578  4.581674e-02        1.338976         True  \n",
       "110  4.685016e-02        1.329289         True  \n",
       "396  4.829874e-02        1.316064         True  \n",
       "49   4.998170e-02        1.301189         True  \n",
       "\n",
       "[75 rows x 5 columns]"
      ]
     },
     "execution_count": 81,
     "metadata": {},
     "output_type": "execute_result"
    }
   ],
   "source": [
    "significant_features"
   ]
  },
  {
   "cell_type": "code",
   "execution_count": 82,
   "id": "10523810",
   "metadata": {},
   "outputs": [],
   "source": [
    "volcano_df = results_df.sort_values(by='pval')"
   ]
  },
  {
   "cell_type": "code",
   "execution_count": 83,
   "id": "21d19a7d",
   "metadata": {},
   "outputs": [
    {
     "data": {
      "image/png": "[encoded data removed]",
      "text/plain": [
       "<Figure size 2000x1200 with 1 Axes>"
      ]
     },
     "metadata": {},
     "output_type": "display_data"
    }
   ],
   "source": [
    "# Volcano plot\n",
    "plt.figure(figsize=(20, 12))\n",
    "plt.scatter(volcano_df['diff'], volcano_df['neg_log10_pval'], c='grey')\n",
    "\n",
    "# Highlight significant points\n",
    "sig_mask = (volcano_df['pval'] < 0.01) & (np.abs(volcano_df['diff']) > 0.5)\n",
    "plt.scatter(volcano_df.loc[sig_mask, 'diff'], volcano_df.loc[sig_mask, 'neg_log10_pval'], c='red')\n",
    "\n",
    "# Annotate\n",
    "for _, row in volcano_df[sig_mask].iterrows():\n",
    "    plt.text(row['diff'], row['neg_log10_pval'], row['feature'], fontsize=8)\n",
    "\n",
    "plt.axhline(-np.log10(0.05), linestyle='--', color='blue')\n",
    "plt.axvline(0.5, linestyle='--', color='blue')\n",
    "plt.axvline(-0.5, linestyle='--', color='blue')\n",
    "plt.xlabel('Median Difference (Z-score)')\n",
    "plt.ylabel('-log10(p-value)')\n",
    "plt.title(title, size=14)\n",
    "plt.tight_layout()\n",
    "plt.show()\n",
    "\n"
   ]
  }
 ],
 "metadata": {
  "kernelspec": {
   "display_name": "Python 3",
   "language": "python",
   "name": "python3"
  },
  "language_info": {
   "codemirror_mode": {
    "name": "ipython",
    "version": 3
   },
   "file_extension": ".py",
   "mimetype": "text/x-python",
   "name": "python",
   "nbconvert_exporter": "python",
   "pygments_lexer": "ipython3",
   "version": "3.11.0"
  }
 },
 "nbformat": 4,
 "nbformat_minor": 5
}
