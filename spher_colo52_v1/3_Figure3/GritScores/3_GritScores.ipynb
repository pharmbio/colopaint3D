{
 "cells": [
  {
   "cell_type": "markdown",
   "metadata": {},
   "source": [
    "### Plot grit scores for Spheroid Aggregated data"
   ]
  },
  {
   "cell_type": "code",
   "execution_count": 1,
   "metadata": {},
   "outputs": [
    {
     "name": "stdout",
     "output_type": "stream",
     "text": [
      "/share/data/analyses/christa/colopaint3D_fork/spher_colo52_v1/3_Figure3/GritScores\n",
      "/share/data/analyses/christa/colopaint3D_fork/spher_colo52_v1\n"
     ]
    }
   ],
   "source": [
    "import pandas as pd\n",
    "import numpy as np\n",
    "import os\n",
    "\n",
    "# Grit scores\n",
    "from cytominer_eval import evaluate\n",
    "\n",
    "# Plotting\n",
    "import matplotlib.pyplot as plt\n",
    "%matplotlib inline\n",
    "import seaborn as sns; sns.set_style(\"white\")\n",
    "\n",
    "\n",
    "# Set current working directory\n",
    "print(os.getcwd())\n",
    "os.chdir('/share/data/analyses/christa/colopaint3D_fork/spher_colo52_v1')\n",
    "print(os.getcwd())"
   ]
  },
  {
   "cell_type": "code",
   "execution_count": 2,
   "metadata": {},
   "outputs": [],
   "source": [
    "# Set up the plotting parameters\n",
    "plt.rcParams['pdf.fonttype'] = 42\n",
    "plt.rcParams['ps.fonttype'] = 42\n",
    "dpi = 300\n",
    "figformat = 'pdf'"
   ]
  },
  {
   "cell_type": "code",
   "execution_count": 3,
   "metadata": {},
   "outputs": [],
   "source": [
    "\n",
    "# # Load the data\n",
    "# file = '/home/jovyan/share/data/analyses/christa/colopaint3D_fork/spher_colo52_v1/1_Data/spher_colo52_HCT116_normalized_perslice_median_aggr_selected (1).parquet'\n",
    "# data = pd.read_parquet(file)\n",
    "\n",
    "# # Load the data\n",
    "# file = '/home/jovyan/share/data/analyses/christa/colopaint3D_fork/spher_colo52_v1/1_Data/FeaturesImages_150125_none/selected_data_7_HCT116.csv'\n",
    "# data = pd.read_csv(file)\n"
   ]
  },
  {
   "cell_type": "code",
   "execution_count": 4,
   "metadata": {},
   "outputs": [],
   "source": [
    "# ### TMP ONLY\n",
    "\n",
    "# # Some function definitions\n",
    "\n",
    "# def list_features(df):\n",
    "#     # List features\n",
    "#     list_of_selected_features = list(df.columns.values)\n",
    "#     list_of_metadata = list(df.columns[df.columns.str.contains(\"Metadata_\")])\n",
    "#     list_of_selected_features = list(set(list_of_selected_features) - set(list_of_metadata))\n",
    "#     return list_of_selected_features, list_of_metadata\n",
    "\n",
    "\n",
    "# # A function to agree on Metadata columns\n",
    "# rename_metadata_dict = {\n",
    "#     'Metadata_Barcode': 'Metadata_barcode', \n",
    "#     'Metadata_Plate': 'Metadata_Plate',\n",
    "#     'Metadata_well_id': 'Metadata_Well',\n",
    "#     'Metadata_cmpd_plate_well':'Metadata_PlateWell',\n",
    "#     'Metadata_cmpd_pert_type':'Metadata_pert_type',\n",
    "#     'Metadata_cmpd_cmpdname':'Metadata_cmpdname',\n",
    "#     'Metadata_cmpd_target':'Metadata_target',\n",
    "#     'Metadata_cmpd_pathway':'Metadata_pathway',\n",
    "#     'Metadata_cmpd_cmpd_conc':'Metadata_cmpd_conc',\n",
    "#     'Metadata_cmpd_cell_line':'Metadata_cell_line',\n",
    "# }\n",
    "\n",
    "# miminal_metadata = ['Metadata_Well', 'Metadata_barcode', 'Metadata_PlateWell', \n",
    "#                     'Metadata_cell_line', 'Metadata_cmpd_conc', 'Metadata_cmpdname', \n",
    "#                     'Metadata_name', 'Metadata_pert_type', 'Metadata_pathway', 'Metadata_target']\n",
    "\n",
    "# def rename_metadata_columns(df, rename_metadata_dict):\n",
    "#     df.rename(columns = rename_metadata_dict, inplace = True)\n",
    "#     df = df.loc[:,~df.columns.duplicated()].copy()\n",
    "#     return df\n",
    "\n",
    "\n",
    "# # A function to check if metadata columns are present\n",
    "# def check_metadata_columns(df, minimal_metadata):\n",
    "#     metadata_columns = list(df.columns[df.columns.str.contains(\"Metadata_\")])\n",
    "#     print(metadata_columns)\n",
    "#     diff = set(minimal_metadata) - set(metadata_columns)\n",
    "#     return diff\n",
    "\n",
    "# dataset = data\n",
    "\n",
    "# # Load metadata (I am missing the concentrations)\n",
    "# metadata = pd.read_csv('1_Data/spher_colo52-metadata.csv')\n",
    "\n",
    "# # # Add a short name for the compound\n",
    "# dataset['Metadata_name'] = dataset['Metadata_cmpd_cmpdname'].str[:5] \n",
    "\n",
    "# # Merge data with metadata to get the concentrations\n",
    "# # dataset = dataset.merge(metadata[['plate_well', 'cmpd_conc']], left_on='Metadata_PlateWell', right_on = 'plate_well')\n",
    "# # dataset = dataset.drop(columns=['plate_well'])\n",
    "# # dataset['Metadata_cmpd_conc'] = dataset['cmpd_conc'].rename('Metadata_cmpd_conc')\n",
    "\n",
    "\n",
    "\n",
    "# # Organize metadata columns\n",
    "# dataset = rename_metadata_columns(dataset, rename_metadata_dict)\n",
    "# print(check_metadata_columns(dataset, miminal_metadata))\n",
    "\n",
    "# # Remove all columns with 'FileName' or 'PathName' in the name\n",
    "# dataset = dataset.loc[:,~dataset.columns.str.contains('FileName|PathName|ObjectNumber|ImageNumber|AcqID')]"
   ]
  },
  {
   "cell_type": "code",
   "execution_count": 5,
   "metadata": {},
   "outputs": [],
   "source": [
    "cell_line = 'HCT116'\n",
    "data_type = 'aggregates'"
   ]
  },
  {
   "cell_type": "code",
   "execution_count": 6,
   "metadata": {},
   "outputs": [],
   "source": [
    "# # Load the data\n",
    "dir = '1_Data/results/'\n",
    "data =  pd.read_parquet(('{}selected_data_{}_{}.parquet').format(dir, data_type, cell_line))"
   ]
  },
  {
   "cell_type": "code",
   "execution_count": 7,
   "metadata": {},
   "outputs": [],
   "source": [
    "# Some function definitions\n",
    "\n",
    "def list_features(df):\n",
    "    # List features\n",
    "    list_of_selected_features = list(df.columns.values)\n",
    "    list_of_metadata = list(df.columns[df.columns.str.contains(\"Metadata_\")])\n",
    "    list_of_selected_features = list(set(list_of_selected_features) - set(list_of_metadata))\n",
    "    \n",
    "    return list_of_selected_features, list_of_metadata"
   ]
  },
  {
   "cell_type": "markdown",
   "metadata": {},
   "source": [
    "### Grit"
   ]
  },
  {
   "cell_type": "code",
   "execution_count": 8,
   "metadata": {},
   "outputs": [],
   "source": [
    "## Prepare the metadata for the grit calculation\n",
    "dataset_grit = data.copy()\n",
    "\n",
    "dataset_grit['Metadata_name'] = dataset_grit['Metadata_cmpdname'].str[:5] \n",
    "\n",
    "# Add a column with the step of the concentration (easier for plotting)\n",
    "dataset_grit['Metadata_conc_step'] = (\n",
    "    dataset_grit.groupby('Metadata_cmpdname')['Metadata_cmpd_conc'].rank(ascending=True, method='dense')\n",
    "    )\n",
    "# Add a column with the name of the perturbation (compound + concentration)\n",
    "dataset_grit[\"Metadata_pert_name\"] = (\n",
    "    dataset_grit[\"Metadata_name\"] + \"_\" + dataset_grit[\"Metadata_cmpd_conc\"].astype(str)\n",
    "    )\n",
    "# Add a column with the a unique identifier for each replicate\n",
    "dataset_grit[\"Metadata_replicate_id\"] = (\n",
    "    dataset_grit[\"Metadata_name\"] + \"_\" + dataset_grit.index.astype(str)\n",
    "    )"
   ]
  },
  {
   "cell_type": "code",
   "execution_count": 9,
   "metadata": {},
   "outputs": [],
   "source": [
    "# Setup the data for calculating grit\n",
    "\n",
    "# Set up the input for evaluate\n",
    "control_perts = dataset_grit.query(\"Metadata_name == 'dmso' & Metadata_cmpd_conc == 0.1\").Metadata_replicate_id.unique().tolist()\n",
    "grit_replicate_groups = {\"profile_col\": \"Metadata_replicate_id\", \"replicate_group_col\": \"Metadata_pert_name\"} "
   ]
  },
  {
   "cell_type": "code",
   "execution_count": 10,
   "metadata": {},
   "outputs": [],
   "source": [
    "# Calcuate the grit scores\n",
    "\n",
    "grit_scores = []\n",
    "\n",
    "grit_results = evaluate(\n",
    "    profiles=dataset_grit,\n",
    "    features=list_features(dataset_grit)[0],\n",
    "    meta_features=list_features(dataset_grit)[1],\n",
    "    replicate_groups=grit_replicate_groups,\n",
    "    operation=\"grit\",\n",
    "    similarity_metric=\"pearson\",\n",
    "    grit_replicate_summary_method=\"median\",\n",
    "    grit_control_perts=control_perts,\n",
    ")\n",
    "\n",
    "grit_scores.append(grit_results)"
   ]
  },
  {
   "cell_type": "code",
   "execution_count": 11,
   "metadata": {},
   "outputs": [],
   "source": [
    "# Organize the grit scores\n",
    "\n",
    "grit_scores = pd.concat(grit_scores).reset_index(drop=True)\n",
    "grit_scores[\"Metadata_name\"] = grit_scores[\"perturbation\"].str.split(\"_\").str[0]\n",
    "\n",
    "# Add back the well information\n",
    "grit_scores = pd.merge(grit_scores,dataset_grit[['Metadata_PlateWell', 'Metadata_replicate_id','Metadata_cmpd_conc', 'Metadata_conc_step', 'Metadata_pert_type']], left_on='perturbation', right_on='Metadata_replicate_id')\n",
    "\n",
    "# list the compounds\n",
    "CompoundsUsed = grit_scores[\"Metadata_name\"].unique()"
   ]
  },
  {
   "cell_type": "code",
   "execution_count": 12,
   "metadata": {},
   "outputs": [],
   "source": [
    "# ## Plot the grit dose response\n",
    "\n",
    "# # Plot the grit scores\n",
    "# fig = plt.figure(figsize=(48, 32))\n",
    "# sns.set(font_scale=1.5)\n",
    "# fig.suptitle(\"grit barplot \", fontsize=24, x=0.3)\n",
    "# sp = 1\n",
    "# nrrow = 6\n",
    "# nrcol = 11\n",
    "# for some in CompoundsUsed[:]:\n",
    "#     grit_scores_part = grit_scores[grit_scores[\"Metadata_name\"] == some].copy()\n",
    "#     grit_scores_part.sort_values(by=\"Metadata_conc_step\", inplace=True)\n",
    "#     ax = fig.add_subplot(nrrow, nrcol, sp)\n",
    "#     ax = sns.barplot(\n",
    "#         x=\"Metadata_cmpd_conc\",\n",
    "#         y=\"grit\",\n",
    "#         data=grit_scores_part,\n",
    "#         hue=\"Metadata_conc_step\",\n",
    "#         legend=False,\n",
    "#         palette=\"Blues_d\",\n",
    "#         alpha=1,\n",
    "#         err_kws={'linewidth': 3,'color': 'black'},\n",
    "#     )\n",
    "#     ax.set_facecolor(\"w\")\n",
    "#     ax.spines[\"bottom\"].set_color(\"grey\")\n",
    "#     ax.spines[\"left\"].set_color(\"grey\")\n",
    "#     ax.set_ylim([-0.1, 7.5])\n",
    "#     ax.set_title(\"{}\".format(some), fontsize=24, x=0.2)\n",
    "#     plt.subplots_adjust(top=0.9, wspace=0.2, hspace=0.5, left=0.0)\n",
    "#     plt.xticks(rotation = 45)\n",
    "#     sp += 1\n",
    "    \n",
    "# # fig.savefig(\n",
    "# #         \"3_Figure3/GritScores/result-images/GritScores_{}_{}.{}\".format(cell_line, data_type,'png'), dpi=dpi, bbox_inches=\"tight\"\n",
    "# #         )\n",
    "\n",
    "# # plt.show()\n"
   ]
  },
  {
   "cell_type": "code",
   "execution_count": 13,
   "metadata": {},
   "outputs": [],
   "source": [
    "# # Plot only a handful of compounds for the main figure\n",
    "\n",
    "# CompoundsUsed = ['SN-38', 'Binim', 'abema', 'etop','fenb','stau','dmso']\n",
    "\n",
    "\n",
    "# # Plot the grit scores\n",
    "# fig = plt.figure(figsize=(16, 4))\n",
    "# # sns.set(font_scale=1.5)\n",
    "# fig.suptitle(\"grit barplot \", fontsize=24, x=0.3)\n",
    "# sp = 1\n",
    "# nrrow = 1\n",
    "# nrcol = 7\n",
    "# for some in CompoundsUsed[:]:\n",
    "#     grit_scores_part = grit_scores[grit_scores[\"Metadata_name\"] == some].copy()\n",
    "#     grit_scores_part.sort_values(by=\"Metadata_conc_step\", inplace=True)\n",
    "#     ax = fig.add_subplot(nrrow, nrcol, sp)\n",
    "#     ax = sns.barplot(\n",
    "#         x=\"Metadata_cmpd_conc\",\n",
    "#         y=\"grit\",\n",
    "#         data=grit_scores_part,\n",
    "#         hue=\"Metadata_conc_step\",\n",
    "#         legend=False,\n",
    "#         palette=\"Blues_d\",\n",
    "#         alpha=1,\n",
    "#         err_kws={'linewidth': 2,'color': 'black'},\n",
    "#     )\n",
    "#     ax.set_facecolor(\"w\")\n",
    "#     ax.spines[\"bottom\"].set_color(\"grey\")\n",
    "#     ax.spines[\"left\"].set_color(\"grey\")\n",
    "#     ax.set_yticks([0, 2, 4, 6])\n",
    "#     ax.set_ylim([-0.1, 7.5])\n",
    "#     ax.set_xlabel('µM')\n",
    "#     ax.set_title(\"{}\".format(some), fontsize=20, x=0.2)\n",
    "#     plt.subplots_adjust(top=0.9, wspace=0.2, hspace=0.5, left=0.0)\n",
    "#     plt.xticks(rotation = 45)\n",
    "#     sp += 1\n",
    "\n",
    "#     fig.tight_layout()\n",
    "    \n",
    "# fig.savefig(\n",
    "#         \"3_Figure3/GritScores/result-images/GritScores_{}_{}.{}\".format(cell_line, data_type, figformat), dpi=dpi, bbox_inches=\"tight\"\n",
    "#         )\n",
    "\n",
    "# plt.show()"
   ]
  },
  {
   "cell_type": "markdown",
   "metadata": {},
   "source": [
    "#### Add gritscores to the dataset for further processing"
   ]
  },
  {
   "cell_type": "code",
   "execution_count": 16,
   "metadata": {},
   "outputs": [],
   "source": [
    "# Add the grit scores to selected_df\n",
    "dataset_grit2 = dataset_grit.merge(grit_scores[['Metadata_PlateWell', 'Metadata_replicate_id', 'grit']], left_on='Metadata_PlateWell', right_on = 'Metadata_PlateWell')\n",
    "\n",
    "# Rename the grit column to Metadata_grit\n",
    "dataset_grit2 = dataset_grit2.rename(columns={'grit':'Metadata_grit'})\n",
    "\n",
    "# # Save the data\n",
    "# dataset_grit2.to_parquet(('{}grit_data_test8.parquet').format(dir, data_type, cell_line))\n",
    "\n",
    "\n",
    "# Save the data\n",
    "OutputDir = '1_Data/results/'\n",
    "\n",
    "# Save as parquet\n",
    "dataset_grit2.to_parquet(('{}grit_data_{}_{}.parquet').format(OutputDir, data_type, cell_line))"
   ]
  },
  {
   "cell_type": "markdown",
   "metadata": {},
   "source": [
    "#### Return a few statistics"
   ]
  },
  {
   "cell_type": "code",
   "execution_count": 15,
   "metadata": {},
   "outputs": [
    {
     "name": "stdout",
     "output_type": "stream",
     "text": [
      "aggregates HCT116\n",
      "Grit scores more than 1.96: 38\n",
      "Index(['AMG23', 'MK-22', 'Binim', 'Gemci', 'BMS-7', 'Trifl', 'Encor', 'AZD45',\n",
      "       'Cobim', 'Crizo', 'SN-38', 'Tanes', 'Palbo', 'abema', 'Oxali', '5Z-7-',\n",
      "       'Vinor', 'Regor', 'Afati', 'PD032', 'Tasel', 'Trame', 'Vorin', 'Borte',\n",
      "       'Nutli', 'Pacli', 'Adavo', 'Alpel', 'Dabra', 'PI-10', 'Fluor', 'AZD77',\n",
      "       'AZD80', 'Soraf', 'Velip', 'Gefit', 'Olapa', 'SB505'],\n",
      "      dtype='object', name='Metadata_name')\n",
      "Out of: 52\n",
      "count    745.000000\n",
      "mean       1.994626\n",
      "std        1.766534\n",
      "min       -2.201409\n",
      "25%        0.625614\n",
      "50%        1.682447\n",
      "75%        3.360605\n",
      "max        7.721709\n",
      "Name: grit, dtype: float64\n"
     ]
    }
   ],
   "source": [
    "##\n",
    "## Stats\n",
    "##\n",
    "\n",
    "# Count the number of consensus grit scores above 1.96\n",
    "average = grit_scores.query(\"Metadata_pert_type == 'trt'\").groupby(['Metadata_name', 'Metadata_conc_step']).grit.median().sort_values(ascending=False)\n",
    "\n",
    "# Find where the value is above 1.96 and return the Metadata_name\n",
    "print(data_type + \" \" + cell_line)\n",
    "print(\"Grit scores more than 1.96: \" + str(average[average > 1.96].index.get_level_values(0).nunique()))\n",
    "print(average[average > 1.96].index.get_level_values(0).unique())\n",
    "print(\"Out of: \" + str(average.index.get_level_values(0).nunique()))\n",
    "\n",
    "print(grit_scores.query(\"Metadata_pert_type == 'trt'\").grit.describe())"
   ]
  }
 ],
 "metadata": {
  "kernelspec": {
   "display_name": "Python 3",
   "language": "python",
   "name": "python3"
  },
  "language_info": {
   "codemirror_mode": {
    "name": "ipython",
    "version": 3
   },
   "file_extension": ".py",
   "mimetype": "text/x-python",
   "name": "python",
   "nbconvert_exporter": "python",
   "pygments_lexer": "ipython3",
   "version": "3.8.10"
  }
 },
 "nbformat": 4,
 "nbformat_minor": 2
}
