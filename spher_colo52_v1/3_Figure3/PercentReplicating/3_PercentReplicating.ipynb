{
 "cells": [
  {
   "cell_type": "markdown",
   "metadata": {},
   "source": [
    "### Plot Percent replicating for Spheroid Aggregated data"
   ]
  },
  {
   "cell_type": "code",
   "execution_count": 27,
   "metadata": {},
   "outputs": [
    {
     "name": "stdout",
     "output_type": "stream",
     "text": [
      "/share/data/analyses/christa/colopaint3D_fork/spher_colo52_v1\n",
      "/share/data/analyses/christa/colopaint3D_fork/spher_colo52_v1\n"
     ]
    }
   ],
   "source": [
    "import pandas as pd\n",
    "import numpy as np\n",
    "import os\n",
    "\n",
    "# Grit scores\n",
    "import random\n",
    "\n",
    "# Plotting\n",
    "import matplotlib.pyplot as plt\n",
    "%matplotlib inline\n",
    "import seaborn as sns; sns.set_style(\"white\")\n",
    "\n",
    "\n",
    "# Set a random seed\n",
    "import random\n",
    "rng = np.random.RandomState(123)\n",
    "\n",
    "# Set current working directory\n",
    "print(os.getcwd())\n",
    "os.chdir('/share/data/analyses/christa/colopaint3D_fork/spher_colo52_v1')\n",
    "print(os.getcwd())"
   ]
  },
  {
   "cell_type": "code",
   "execution_count": 28,
   "metadata": {},
   "outputs": [],
   "source": [
    "# Load some utilities from this repository: \n",
    "\n",
    "def percent_score(null_dist, corr_dist, how='right'):\n",
    "    \"\"\"\n",
    "    Calculates the Percent replicating\n",
    "    :param null_dist: Null distribution\n",
    "    :param corr_dist: Correlation distribution\n",
    "    :param how: \"left\", \"right\" or \"both\" for using the 5th percentile, 95th percentile or both thresholds\n",
    "    :return: proportion of correlation distribution beyond the threshold\n",
    "    From REF: https://github.com/carpenter-singh-lab/2023_Cimini_NatureProtocols/blob/main/notebooks/utils.py\n",
    "    \"\"\"\n",
    "    if how == 'right':\n",
    "        perc_95 = np.nanpercentile(null_dist, 95)\n",
    "        above_threshold = corr_dist > perc_95\n",
    "        return 100 * np.mean(above_threshold.astype(float)), perc_95\n",
    "    if how == 'left':\n",
    "        perc_5 = np.nanpercentile(null_dist, 5)\n",
    "        below_threshold = corr_dist < perc_5\n",
    "        return 100 * np.mean(below_threshold.astype(float)), perc_5\n",
    "    if how == 'both':\n",
    "        perc_95 = np.nanpercentile(null_dist, 95)\n",
    "        above_threshold = corr_dist > perc_95\n",
    "        perc_5 = np.nanpercentile(null_dist, 5)\n",
    "        below_threshold = corr_dist < perc_5\n",
    "        return 100 * (np.mean(above_threshold.astype(float)) + np.mean(below_threshold.astype(float))), perc_95, perc_5\n",
    "    \n",
    "def corr_between_replicates(df, group_by_feature):\n",
    "    \"\"\"\n",
    "    Calculate the correlation between replicates\n",
    "    From REF: https://github.com/carpenter-singh-lab/2023_Cimini_NatureProtocols/blob/main/notebooks/utils.py\n",
    "    \"\"\"\n",
    "    replicate_corr = []\n",
    "    replicate_grouped = df.groupby(group_by_feature)\n",
    "    for name, group in replicate_grouped:\n",
    "        group_features = get_featuredata(group)\n",
    "        corr = np.corrcoef(group_features)\n",
    "        if len(group_features) == 1:  # If there is only one replicate on a plate\n",
    "            replicate_corr.append(np.nan)\n",
    "        else:\n",
    "            np.fill_diagonal(corr, np.nan)\n",
    "            replicate_corr.append(np.nanmedian(corr))  # median replicate correlation\n",
    "    return replicate_corr\n",
    "\n",
    "def corr_between_non_replicates(df, n_samples, n_replicates, metadata_compound_name):\n",
    "    \"\"\"\n",
    "    Null distribution between random \"replicates\".\n",
    "    :param df: pandas.DataFrame\n",
    "    :param n_samples: int\n",
    "    :param n_replicates: int\n",
    "    :param metadata_compound_name: Compound name feature\n",
    "    :return: list-like of correlation values, with a  length of `n_samples`\n",
    "    \"\"\"\n",
    "    df.reset_index(drop=True, inplace=True)\n",
    "    null_corr = []\n",
    "    random.seed(42)\n",
    "    while len(null_corr) < n_samples:\n",
    "        compounds = random.choices([_ for _ in range(len(df))], k=n_replicates)\n",
    "        sample = df.loc[compounds].copy()\n",
    "        if len(sample[metadata_compound_name].unique()) == n_replicates:\n",
    "            sample_features = get_featuredata(sample)\n",
    "            corr = np.corrcoef(sample_features)\n",
    "            np.fill_diagonal(corr, np.nan)\n",
    "            null_corr.append(np.nanmedian(corr))  # median replicate correlation\n",
    "    return null_corr\n",
    "\n",
    "def get_featuredata(df):\n",
    "    \"\"\"return dataframe of just featuredata columns\"\"\"\n",
    "    return df[get_featurecols(df)]\n",
    "\n",
    "def get_featurecols(df):\n",
    "    \"\"\"return a list of featuredata columns\"\"\"\n",
    "    return [c for c in df.columns if not \"Metadata\" in c]\n",
    "\n",
    "def list_features(df):\n",
    "    # List features\n",
    "    list_of_selected_features = list(df.columns.values)\n",
    "    list_of_metadata = list(df.columns[df.columns.str.contains(\"Metadata_\")])\n",
    "    list_of_selected_features = list(set(list_of_selected_features) - set(list_of_metadata))\n",
    "    \n",
    "    return list_of_selected_features, list_of_metadata\n",
    "\n",
    "def process_correlation_data(df, perturbation):\n",
    "    data = get_featuredata(df).groupby(df[perturbation]).mean()\n",
    "    correlations = corr_between_replicates(df, perturbation)\n",
    "    corr_dist = pd.DataFrame({perturbation: data.index, 'corr': correlations})\n",
    "    corr_dist[[cmpd_short_name, cmpd_conc]] = corr_dist[perturbation].str.split(\"_\", expand=True)\n",
    "    # corr_dist[cmpd_conc] = corr_dist[cmpd_conc].astype(float)\n",
    "    return corr_dist"
   ]
  },
  {
   "cell_type": "code",
   "execution_count": 29,
   "metadata": {},
   "outputs": [],
   "source": [
    "# Set some metadata\n",
    "perturbation = 'Metadata_pert_name'\n",
    "cmpd_conc = 'Metadata_conc_step' # Use the step here to compare the different concentrations\n",
    "cmpd_short_name = 'Metadata_name'\n",
    "\n",
    "# Set the cell line and data type\n",
    "cell_line = 'HCT116'\n",
    "data_type = 'aggregates'\n"
   ]
  },
  {
   "cell_type": "code",
   "execution_count": 30,
   "metadata": {},
   "outputs": [],
   "source": [
    "# Set up the plotting parameters\n",
    "plt.rcParams['pdf.fonttype'] = 42\n",
    "plt.rcParams['ps.fonttype'] = 42\n",
    "dpi = 300\n",
    "figformat = 'pdf'"
   ]
  },
  {
   "cell_type": "code",
   "execution_count": 31,
   "metadata": {},
   "outputs": [],
   "source": [
    "# Save the data\n",
    "ImagesOut = '3_Figure3/PercentReplicating/result-images/'\n",
    "\n",
    "if not os.path.exists(ImagesOut): \n",
    "        os.makedirs(ImagesOut)"
   ]
  },
  {
   "cell_type": "code",
   "execution_count": 32,
   "metadata": {},
   "outputs": [],
   "source": [
    "cell_lines = ['HCT116', 'HT29']\n",
    "data_type = '2D'"
   ]
  },
  {
   "cell_type": "code",
   "execution_count": 33,
   "metadata": {},
   "outputs": [],
   "source": [
    "# Load the data\n",
    "dir = '1_Data/results/'"
   ]
  },
  {
   "cell_type": "markdown",
   "metadata": {},
   "source": [
    "### Percent Replicating"
   ]
  },
  {
   "cell_type": "code",
   "execution_count": 34,
   "metadata": {},
   "outputs": [
    {
     "name": "stdout",
     "output_type": "stream",
     "text": [
      "HCT116\n"
     ]
    },
    {
     "name": "stdout",
     "output_type": "stream",
     "text": [
      "HT29\n"
     ]
    }
   ],
   "source": [
    "perc_replicating = []\n",
    "\n",
    "null_dist_all = pd.DataFrame()\n",
    "corr_dist_all = pd.DataFrame()\n",
    "\n",
    "for cell_line in cell_lines:\n",
    "    print(cell_line)\n",
    "    \n",
    "    ## Prepare metadata for the calculation\n",
    "    dataset_pr  = pd.read_parquet(('{}grit_data_{}_{}.parquet').format(dir, data_type, cell_line))\n",
    "    dataset_pr = dataset_pr.dropna(axis='columns', how='all')\n",
    "\n",
    "    # Add a column with the step of the concentration (easier for plotting)\n",
    "    dataset_pr['Metadata_conc_step'] = (\n",
    "        dataset_pr.groupby('Metadata_cmpdname')['Metadata_cmpd_conc'].rank(ascending=True, method='dense')\n",
    "        )\n",
    "    # Add a column with the name of the perturbation (compound + concentration)\n",
    "    dataset_pr[\"Metadata_pert_name\"] = (\n",
    "        dataset_pr[\"Metadata_name\"] + \"_\" + dataset_pr[\"Metadata_conc_step\"].astype(str)\n",
    "        )\n",
    "\n",
    "    dataset_pr = dataset_pr[dataset_pr['Metadata_pert_type'] == 'trt']\n",
    "\n",
    "\n",
    "    # Calculate percent replicating per concentration\n",
    "    concentrations = dataset_pr[cmpd_conc].unique()\n",
    "    concentrations.sort()\n",
    "\n",
    "\n",
    "\n",
    "    for conc in concentrations:\n",
    "\n",
    "        conc_df = dataset_pr.loc[dataset_pr[cmpd_conc] == conc]\n",
    "\n",
    "        # Settings\n",
    "        n_replicates = 4 # 4 replicates each\n",
    "        n_compounds = 52\n",
    "        n_samples = n_compounds * n_replicates\n",
    "\n",
    "        # Calculate the null distribution\n",
    "        null_dist = corr_between_non_replicates(conc_df, n_samples, n_replicates, perturbation)\n",
    "        corr_dist_cmpds = process_correlation_data(conc_df, perturbation)\n",
    "\n",
    "        perc_repl, perc_95 = percent_score(null_dist, corr_dist_cmpds['corr'], how='right')\n",
    "        \n",
    "        perc_replicating.append(perc_repl)\n",
    "\n",
    "        tmp = pd.DataFrame(null_dist, columns=['corr'])\n",
    "        tmp['Metadata_conc_step'] = conc\n",
    "        tmp['cell_line'] = cell_line\n",
    "        corr_dist_cmpds['cell_line'] = cell_line\n",
    "\n",
    "        null_dist_all = pd.concat([null_dist_all,tmp], axis=0)\n",
    "        corr_dist_all = pd.concat([corr_dist_all,corr_dist_cmpds], axis=0)\n",
    "\n",
    "    # pr = pd.DataFrame({'data':'xxx', 'cmpd_conc':concentrations, 'perc_replicating':perc_replicating, 'cell_line':cell_line})\n",
    "    # pd.DataFrame(perc_replicating).to_csv(\"{}/perc_replicating_conc_{}.csv\".format(BaseDir,cell_line))\n"
   ]
  },
  {
   "cell_type": "code",
   "execution_count": 35,
   "metadata": {},
   "outputs": [
    {
     "data": {
      "image/png": "[encoded data removed]",
      "text/plain": [
       "<Figure size 600x600 with 1 Axes>"
      ]
     },
     "metadata": {},
     "output_type": "display_data"
    }
   ],
   "source": [
    "# Plot the data in a boxplot\n",
    "corr_dist_all = corr_dist_all.reset_index(drop=True)\n",
    "null_dist_all=null_dist_all.reset_index(drop=True)\n",
    "\n",
    "\n",
    "fig, ax = plt.subplots(figsize=(6, 6))\n",
    "sns.boxplot(data=null_dist_all, x='cell_line', y='corr', width=0.4, hue='Metadata_conc_step', palette='dark:grey', fill=True,  fliersize=1, showfliers=False, legend=False)\n",
    "sns.boxplot(data=corr_dist_all, x='cell_line', y='corr', ax=ax, width=0.4, hue='Metadata_conc_step', palette='Blues', fill=True, fliersize=1, showfliers=False, legend=False)\n",
    "\n",
    "ax.set_xlabel('Cell Line', fontsize=16)\n",
    "ax.set_ylabel('Median pairwise Pearson correlations', fontsize=16)\n",
    "ax.set_ylim(-0.4, 1.1)\n",
    "\n",
    "plt.title('Reproducibility - ' + data_type, fontsize=16)\n",
    "plt.show()\n",
    "\n",
    "fig.savefig(\n",
    "        \"{}PercentReplicating_{}.{}\".format(ImagesOut, data_type, figformat), dpi=dpi, bbox_inches=\"tight\"\n",
    "        )"
   ]
  }
 ],
 "metadata": {
  "kernelspec": {
   "display_name": "Python 3",
   "language": "python",
   "name": "python3"
  },
  "language_info": {
   "codemirror_mode": {
    "name": "ipython",
    "version": 3
   },
   "file_extension": ".py",
   "mimetype": "text/x-python",
   "name": "python",
   "nbconvert_exporter": "python",
   "pygments_lexer": "ipython3",
   "version": "3.8.10"
  }
 },
 "nbformat": 4,
 "nbformat_minor": 2
}
