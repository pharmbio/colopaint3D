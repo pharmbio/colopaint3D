{
 "cells": [
  {
   "cell_type": "code",
   "execution_count": 43,
   "metadata": {},
   "outputs": [
    {
     "name": "stdout",
     "output_type": "stream",
     "text": [
      "/share/data/analyses/christa/colopaint3D/spher_colo52_v1\n",
      "/share/data/analyses/christa/colopaint3D/spher_colo52_v1\n"
     ]
    }
   ],
   "source": [
    "import pandas as pd\n",
    "import numpy as np\n",
    "import os\n",
    "\n",
    "# Grit scores\n",
    "from cytominer_eval import evaluate\n",
    "\n",
    "# Plotting\n",
    "import matplotlib.pyplot as plt\n",
    "%matplotlib inline\n",
    "import seaborn as sns; sns.set_style(\"white\")\n",
    "\n",
    "\n",
    "# Set current working directory\n",
    "print(os.getcwd())\n",
    "os.chdir('/share/data/analyses/christa/colopaint3D/spher_colo52_v1')\n",
    "print(os.getcwd())"
   ]
  },
  {
   "cell_type": "code",
   "execution_count": 53,
   "metadata": {},
   "outputs": [],
   "source": [
    "# Check if the data is identical for these data\n",
    "cell_line = 'HT29'\n",
    "data_type = 'MIP'"
   ]
  },
  {
   "cell_type": "code",
   "execution_count": 54,
   "metadata": {},
   "outputs": [],
   "source": [
    "# Load the data\n",
    "file = 'selected_data_all.csv'\n",
    "data = pd.read_csv(file)\n",
    "\n",
    "# And clean up the irrelevant columns\n",
    "data2 = data.query('Metadata_cell_line == @cell_line and Metadata_data_type == @data_type')\n",
    "\n",
    "# Drop columns with all NaN values\n",
    "data2 = data2.dropna(axis=1, how='all')"
   ]
  },
  {
   "cell_type": "code",
   "execution_count": 46,
   "metadata": {},
   "outputs": [],
   "source": [
    "# Load the original data\n",
    "file = '1_FeaturesMIP/selected_data_MIP_grit_HT29.csv'\n",
    "data3 = pd.read_csv(file)"
   ]
  },
  {
   "cell_type": "code",
   "execution_count": 47,
   "metadata": {},
   "outputs": [
    {
     "data": {
      "text/plain": [
       "((747, 485), (713, 506))"
      ]
     },
     "execution_count": 47,
     "metadata": {},
     "output_type": "execute_result"
    }
   ],
   "source": [
    "data2.shape, data3.shape"
   ]
  },
  {
   "cell_type": "code",
   "execution_count": 48,
   "metadata": {},
   "outputs": [
    {
     "data": {
      "text/plain": [
       "(70, 289)"
      ]
     },
     "execution_count": 48,
     "metadata": {},
     "output_type": "execute_result"
    }
   ],
   "source": [
    "# Find the Nan values\n",
    "data2.isna().sum().sum(), data3.isna().sum().sum()"
   ]
  },
  {
   "cell_type": "code",
   "execution_count": 49,
   "metadata": {},
   "outputs": [
    {
     "name": "stdout",
     "output_type": "stream",
     "text": [
      "Index(['Metadata_data_type'], dtype='object')\n",
      "Index(['Metadata_article_id', 'Metadata_clinical_status', 'Metadata_cmpd_code',\n",
      "       'Metadata_cmpd_conc_unit', 'Metadata_cmpd_vol',\n",
      "       'Metadata_cmpd_vol_unit', 'Metadata_cp_id', 'Metadata_grit',\n",
      "       'Metadata_image_id', 'Metadata_inkey', 'Metadata_layout_id',\n",
      "       'Metadata_norm_unit', 'Metadata_pubchemID', 'Metadata_replicate_id',\n",
      "       'Metadata_smiles', 'Metadata_solvent', 'Metadata_stock_conc',\n",
      "       'Metadata_stock_conc_unit', 'Metadata_target_type', 'Metadata_well_id',\n",
      "       'Metadata_well_vol', 'Metadata_well_vol_unit'],\n",
      "      dtype='object')\n"
     ]
    }
   ],
   "source": [
    "# Show differences between the two datasets\n",
    "print(data2.columns.difference(data3.columns))\n",
    "\n",
    "# Show differences between the two datasets\n",
    "print(data3.columns.difference(data2.columns))"
   ]
  },
  {
   "cell_type": "code",
   "execution_count": 50,
   "metadata": {},
   "outputs": [
    {
     "name": "stdout",
     "output_type": "stream",
     "text": [
      "Index(['Metadata_Well', 'Metadata_barcode', 'Metadata_PlateWell',\n",
      "       'Metadata_cell_line', 'Metadata_cmpdname', 'Metadata_name',\n",
      "       'Metadata_pert_type', 'Metadata_pathway', 'Metadata_target',\n",
      "       'Metadata_data_type'],\n",
      "      dtype='object')\n",
      "Index(['Metadata_layout_id', 'Metadata_well_id', 'Metadata_barcode',\n",
      "       'Metadata_cmpd_code', 'Metadata_cmpdname', 'Metadata_solvent',\n",
      "       'Metadata_cmpd_conc_unit', 'Metadata_stock_conc_unit',\n",
      "       'Metadata_cmpd_vol_unit', 'Metadata_well_vol_unit',\n",
      "       'Metadata_pert_type', 'Metadata_article_id', 'Metadata_target',\n",
      "       'Metadata_pathway', 'Metadata_smiles', 'Metadata_inkey',\n",
      "       'Metadata_target_type', 'Metadata_clinical_status',\n",
      "       'Metadata_cell_line', 'Metadata_name', 'Metadata_Well',\n",
      "       'Metadata_norm_unit', 'Metadata_PlateWell', 'Metadata_replicate_id'],\n",
      "      dtype='object')\n"
     ]
    }
   ],
   "source": [
    "# Check for string columns\n",
    "print(data2.select_dtypes(include='object').columns)\n",
    "print(data3.select_dtypes(include='object').columns)"
   ]
  },
  {
   "cell_type": "code",
   "execution_count": 51,
   "metadata": {},
   "outputs": [
    {
     "name": "stdout",
     "output_type": "stream",
     "text": [
      "Index(['Metadata_cmpd_conc', 'Granularity_8_SYTO',\n",
      "       'Correlation_Manders_MITO_CONC',\n",
      "       'RadialDistribution_ZernikeMagnitude_CONC_7_5',\n",
      "       'Correlation_K_CONC_HOECHST', 'Intensity_MaxIntensity_MITO',\n",
      "       'RadialDistribution_ZernikePhase_MITO_7_7', 'Granularity_13_SYTO',\n",
      "       'RadialDistribution_ZernikeMagnitude_MITO_8_6', 'AreaShape_Center_X',\n",
      "       ...\n",
      "       'Granularity_10_HOECHST',\n",
      "       'RadialDistribution_ZernikeMagnitude_SYTO_5_3',\n",
      "       'RadialDistribution_ZernikePhase_MITO_4_2',\n",
      "       'RadialDistribution_ZernikeMagnitude_MITO_6_0',\n",
      "       'RadialDistribution_ZernikePhase_HOECHST_1_1',\n",
      "       'RadialDistribution_ZernikeMagnitude_SYTO_4_0',\n",
      "       'RadialDistribution_ZernikeMagnitude_MITO_7_1',\n",
      "       'Correlation_Correlation_MITO_PHAandWGA',\n",
      "       'Correlation_K_SYTO_PHAandWGA',\n",
      "       'RadialDistribution_ZernikePhase_CONC_6_2'],\n",
      "      dtype='object', length=475)\n",
      "Index(['Metadata_image_id', 'Metadata_cp_id', 'Metadata_cmpd_conc',\n",
      "       'Metadata_stock_conc', 'Metadata_cmpd_vol', 'Metadata_well_vol',\n",
      "       'Metadata_pubchemID', 'RadialDistribution_ZernikeMagnitude_SYTO_9_1',\n",
      "       'Granularity_10_HOECHST', 'RadialDistribution_ZernikePhase_MITO_9_5',\n",
      "       ...\n",
      "       'AreaShape_Zernike_9_7', 'RadialDistribution_ZernikePhase_CONC_5_5',\n",
      "       'RadialDistribution_ZernikeMagnitude_CONC_9_1',\n",
      "       'RadialDistribution_ZernikeMagnitude_HOECHST_9_9',\n",
      "       'RadialDistribution_ZernikePhase_CONC_7_3', 'Correlation_K_CONC_MITO',\n",
      "       'Granularity_15_SYTO', 'Correlation_Manders_SYTO_HOECHST',\n",
      "       'AreaShape_Extent', 'Metadata_grit'],\n",
      "      dtype='object', length=482)\n"
     ]
    }
   ],
   "source": [
    "# Check for string columns\n",
    "print(data2.select_dtypes(exclude='object').columns)\n",
    "print(data3.select_dtypes(exclude='object').columns)"
   ]
  }
 ],
 "metadata": {
  "kernelspec": {
   "display_name": "Python 3",
   "language": "python",
   "name": "python3"
  },
  "language_info": {
   "codemirror_mode": {
    "name": "ipython",
    "version": 3
   },
   "file_extension": ".py",
   "mimetype": "text/x-python",
   "name": "python",
   "nbconvert_exporter": "python",
   "pygments_lexer": "ipython3",
   "version": "3.8.10"
  }
 },
 "nbformat": 4,
 "nbformat_minor": 2
}
